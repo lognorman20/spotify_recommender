{
 "metadata": {
  "language_info": {
   "codemirror_mode": {
    "name": "ipython",
    "version": 3
   },
   "file_extension": ".py",
   "mimetype": "text/x-python",
   "name": "python",
   "nbconvert_exporter": "python",
   "pygments_lexer": "ipython3",
   "version": "3.9.2-final"
  },
  "orig_nbformat": 2,
  "kernelspec": {
   "name": "python3",
   "display_name": "Python 3",
   "language": "python"
  }
 },
 "nbformat": 4,
 "nbformat_minor": 2,
 "cells": [
  {
   "cell_type": "code",
   "execution_count": 1,
   "metadata": {},
   "outputs": [],
   "source": [
    "import time\n",
    "import os\n",
    "import pandas as pd\n",
    "import numpy as np\n",
    "import json\n",
    "import matplotlib.pyplot as plt\n",
    "import seaborn as sns\n",
    "%config InlineBackend.figure_format ='retina'\n",
    "import random\n",
    "from functools import reduce\n",
    "import spotipy\n",
    "import spotipy.util as util\n",
    "from spotipy.oauth2 import SpotifyClientCredentials\n",
    "from spotipy import oauth2"
   ]
  },
  {
   "cell_type": "code",
   "execution_count": 2,
   "metadata": {},
   "outputs": [],
   "source": [
    "# Insert your Spotify username and the credentials that you obtained from spotify developer\n",
    "cid = '58ecd7aadf294b9aa038a3080ef670cb'\n",
    "secret = '4a277ac2c0a744eea5c839b1ecb27002'\n",
    "redirect_uri='http://localhost:7777/callback'\n",
    "username = 'yvngflash_'"
   ]
  },
  {
   "cell_type": "code",
   "execution_count": 3,
   "metadata": {},
   "outputs": [],
   "source": [
    "# Once the Authorisation is complete, we just need to `sp` to call the APIs\n",
    "scope = 'user-top-read playlist-modify-private playlist-modify-public'\n",
    "token = util.prompt_for_user_token(username, scope, client_id=cid, client_secret=secret, redirect_uri=redirect_uri)\n",
    "\n",
    "if token:\n",
    "    sp = spotipy.Spotify(auth=token)\n",
    "else:\n",
    "    print(\"Can't get token for\", username)"
   ]
  },
  {
   "cell_type": "code",
   "execution_count": 6,
   "metadata": {},
   "outputs": [],
   "source": [
    "# Getting features for each song\n",
    "def fetch_audio_features(sp, df):\n",
    "    playlist = df[['track_id','track_name']] \n",
    "    index = 0\n",
    "    audio_features = []\n",
    "    \n",
    "    # Make the API request\n",
    "    while index < playlist.shape[0]:\n",
    "        audio_features += sp.audio_features(playlist.iloc[index:index + 50, 0])\n",
    "        index += 50\n",
    "    \n",
    "    # Create an empty list to feed in different charactieritcs of the tracks\n",
    "    features_list = []\n",
    "    #Create keys-values of empty lists inside nested dictionary for album\n",
    "    for features in audio_features:\n",
    "        features_list.append([features['danceability'],\n",
    "                              features['acousticness'],\n",
    "                              features['energy'], \n",
    "                              features['tempo'],\n",
    "                              features['instrumentalness'], \n",
    "                              features['loudness'],\n",
    "                              features['liveness'],\n",
    "                              features['duration_ms'],\n",
    "                              features['key'],\n",
    "                              features['valence'],\n",
    "                              features['speechiness'],\n",
    "                              features['mode']\n",
    "                             ])\n",
    "    \n",
    "    df_audio_features = pd.DataFrame(features_list, columns=['danceability', 'acousticness', 'energy','tempo', \n",
    "                                                             'instrumentalness', 'loudness', 'liveness','duration_ms', 'key',\n",
    "                                                             'valence', 'speechiness', 'mode'])\n",
    "    \n",
    "    # Create the final df, using the 'track_id' as index for future reference\n",
    "    df_playlist_audio_features = pd.concat([playlist, df_audio_features], axis=1)\n",
    "    df_playlist_audio_features.set_index('track_name', inplace=True, drop=True)\n",
    "    return df_playlist_audio_features"
   ]
  },
  {
   "source": [
    "### Getting the songs from all of Spotify's playlists"
   ],
   "cell_type": "markdown",
   "metadata": {}
  },
  {
   "cell_type": "code",
   "execution_count": 8,
   "metadata": {
    "tags": []
   },
   "outputs": [
    {
     "output_type": "execute_result",
     "data": {
      "text/plain": [
       "['37i9dQZF1DXcBWIGoYBM5M',\n",
       " '37i9dQZF1DX0XUsuxWHRQd',\n",
       " '37i9dQZF1DX1lVhptIYRda',\n",
       " '37i9dQZF1DX10zKzsJ2jva',\n",
       " '37i9dQZF1DX4JAvHpjipBk',\n",
       " '37i9dQZF1DX4sWSpwq3LiO',\n",
       " '37i9dQZF1DX4SBhb3fqCJd',\n",
       " '37i9dQZF1DWXRqgorJj26U',\n",
       " '37i9dQZF1DX4dyzvuaRJ0n',\n",
       " '37i9dQZF1DXcF6B6QPhFDv',\n",
       " '37i9dQZF1DWXJfnUiYjUKT',\n",
       " '37i9dQZF1DXcRXFNfZr7Tp',\n",
       " '37i9dQZF1DX4o1oenSJRJd',\n",
       " '37i9dQZF1DXbTxeAdrVG2l',\n",
       " '37i9dQZF1DX4UtSsGT1Sbe',\n",
       " '37i9dQZF1DWTJ7xPn4vNaz',\n",
       " '37i9dQZF1DXaKIA8E7WcJj',\n",
       " '37i9dQZF1DWSV3Tk4GO2fq',\n",
       " '37i9dQZF1DWTwnEm1IYyoj',\n",
       " '37i9dQZF1DX2A29LI7xHn1']"
      ]
     },
     "metadata": {},
     "execution_count": 8
    }
   ],
   "source": [
    "# Getting playlist IDs from each of Spotify's playlists\n",
    "playlists = sp.user_playlists('spotify')\n",
    "spotify_playlist_ids = []\n",
    "while playlists:\n",
    "    for i, playlist in enumerate(playlists['items']):\n",
    "        spotify_playlist_ids.append(playlist['uri'][-22:])\n",
    "    if playlists['next']:\n",
    "        playlists = sp.next(playlists)\n",
    "    else:\n",
    "        playlists = None\n",
    "spotify_playlist_ids[:20]"
   ]
  },
  {
   "cell_type": "code",
   "execution_count": 9,
   "metadata": {},
   "outputs": [
    {
     "output_type": "execute_result",
     "data": {
      "text/plain": [
       "1398"
      ]
     },
     "metadata": {},
     "execution_count": 9
    }
   ],
   "source": [
    "len(spotify_playlist_ids)"
   ]
  },
  {
   "source": [
    "### Getting tracks from Spotify playlists"
   ],
   "cell_type": "markdown",
   "metadata": {}
  },
  {
   "cell_type": "code",
   "execution_count": 14,
   "metadata": {},
   "outputs": [],
   "source": [
    "# Creating a function to get the first 50 tracks IDs from a playlist\n",
    "def getTrackIDs(playlist_id):\n",
    "    playlist = sp.user_playlist('spotify', playlist_id)\n",
    "    for item in playlist['tracks']['items'][:50]:\n",
    "        track = item['track']\n",
    "        ids.append(track['id'])\n",
    "    return"
   ]
  },
  {
   "cell_type": "code",
   "execution_count": 11,
   "metadata": {},
   "outputs": [],
   "source": [
    "# Creating a function get features of each track from track id\n",
    "def getTrackFeatures(id):\n",
    "  meta = sp.track(id)\n",
    "  features = sp.audio_features(id)\n",
    "\n",
    "  # meta\n",
    "  name = meta['name']\n",
    "  album = meta['album']['name']\n",
    "  artist = meta['album']['artists'][0]['name']\n",
    "  release_date = meta['album']['release_date']\n",
    "  length = meta['duration_ms']\n",
    "  popularity = meta['popularity']\n",
    "\n",
    "  # features\n",
    "  acousticness = features[0]['acousticness']\n",
    "  danceability = features[0]['danceability']\n",
    "  energy = features[0]['energy']\n",
    "  instrumentalness = features[0]['instrumentalness']\n",
    "  liveness = features[0]['liveness']\n",
    "  loudness = features[0]['loudness']\n",
    "  speechiness = features[0]['speechiness']\n",
    "  tempo = features[0]['tempo']\n",
    "  time_signature = features[0]['time_signature']\n",
    "\n",
    "  track = [name, album, artist, release_date, length, popularity, danceability, acousticness, danceability, energy, instrumentalness, liveness, loudness, speechiness, tempo, time_signature]\n",
    "  return track"
   ]
  },
  {
   "cell_type": "code",
   "execution_count": 15,
   "metadata": {},
   "outputs": [
    {
     "output_type": "execute_result",
     "data": {
      "text/plain": [
       "['7MAibcTli4IisCtbHKrGMh',\n",
       " '4u4NyuceXP7Uzh7XFJKCr1',\n",
       " '1diS6nkxMQc3wwC4G1j0bh',\n",
       " '5QO79kh1waicV47BqGRL3g',\n",
       " '3Ofmpyhv5UAQ70mENzB277']"
      ]
     },
     "metadata": {},
     "execution_count": 15
    }
   ],
   "source": [
    "# Gathering track ids\n",
    "ids = []\n",
    "for x in spotify_playlist_ids[:100]:\n",
    "    getTrackIDs(x)\n",
    "ids[:5]"
   ]
  },
  {
   "source": [
    "The cell below took about 16 minutes to run, so I commented it out."
   ],
   "cell_type": "markdown",
   "metadata": {}
  },
  {
   "cell_type": "code",
   "execution_count": 16,
   "metadata": {},
   "outputs": [
    {
     "output_type": "stream",
     "name": "stdout",
     "text": [
      "CPU times: user 38.5 s, sys: 5.61 s, total: 44.1 s\nWall time: 16min 23s\n"
     ]
    },
    {
     "output_type": "execute_result",
     "data": {
      "text/plain": [
       "                     name                                     album  \\\n",
       "0     Leave The Door Open                       Leave The Door Open   \n",
       "1                 Hold On                                   Hold On   \n",
       "2              We're Good  Future Nostalgia (The Moonlight Edition)   \n",
       "3         Save Your Tears                               After Hours   \n",
       "4  Astronaut In The Ocean                    Astronaut In The Ocean   \n",
       "\n",
       "          artist release_date  length  popularity  danceability  acousticness  \\\n",
       "0     Bruno Mars   2021-03-05  242096          90         0.586        0.1820   \n",
       "1  Justin Bieber   2021-03-05  170813          89         0.658        0.0106   \n",
       "2       Dua Lipa   2021-02-11  165506          88         0.722        0.0319   \n",
       "3     The Weeknd   2020-03-20  215626          97         0.680        0.0212   \n",
       "4    Masked Wolf   2021-01-06  132780          94         0.778        0.1750   \n",
       "\n",
       "   danceability  energy  instrumentalness  liveness  loudness  speechiness  \\\n",
       "0         0.586   0.616          0.000000    0.0927    -7.964       0.0324   \n",
       "1         0.658   0.634          0.000000    0.1320    -5.797       0.0413   \n",
       "2         0.722   0.588          0.000000    0.1830    -5.932       0.0544   \n",
       "3         0.680   0.826          0.000012    0.5430    -5.487       0.0309   \n",
       "4         0.778   0.695          0.000000    0.1500    -6.865       0.0913   \n",
       "\n",
       "     tempo  time_signature  \n",
       "0  148.088               4  \n",
       "1  139.980               4  \n",
       "2  134.010               4  \n",
       "3  118.051               4  \n",
       "4  149.996               4  "
      ],
      "text/html": "<div>\n<style scoped>\n    .dataframe tbody tr th:only-of-type {\n        vertical-align: middle;\n    }\n\n    .dataframe tbody tr th {\n        vertical-align: top;\n    }\n\n    .dataframe thead th {\n        text-align: right;\n    }\n</style>\n<table border=\"1\" class=\"dataframe\">\n  <thead>\n    <tr style=\"text-align: right;\">\n      <th></th>\n      <th>name</th>\n      <th>album</th>\n      <th>artist</th>\n      <th>release_date</th>\n      <th>length</th>\n      <th>popularity</th>\n      <th>danceability</th>\n      <th>acousticness</th>\n      <th>danceability</th>\n      <th>energy</th>\n      <th>instrumentalness</th>\n      <th>liveness</th>\n      <th>loudness</th>\n      <th>speechiness</th>\n      <th>tempo</th>\n      <th>time_signature</th>\n    </tr>\n  </thead>\n  <tbody>\n    <tr>\n      <th>0</th>\n      <td>Leave The Door Open</td>\n      <td>Leave The Door Open</td>\n      <td>Bruno Mars</td>\n      <td>2021-03-05</td>\n      <td>242096</td>\n      <td>90</td>\n      <td>0.586</td>\n      <td>0.1820</td>\n      <td>0.586</td>\n      <td>0.616</td>\n      <td>0.000000</td>\n      <td>0.0927</td>\n      <td>-7.964</td>\n      <td>0.0324</td>\n      <td>148.088</td>\n      <td>4</td>\n    </tr>\n    <tr>\n      <th>1</th>\n      <td>Hold On</td>\n      <td>Hold On</td>\n      <td>Justin Bieber</td>\n      <td>2021-03-05</td>\n      <td>170813</td>\n      <td>89</td>\n      <td>0.658</td>\n      <td>0.0106</td>\n      <td>0.658</td>\n      <td>0.634</td>\n      <td>0.000000</td>\n      <td>0.1320</td>\n      <td>-5.797</td>\n      <td>0.0413</td>\n      <td>139.980</td>\n      <td>4</td>\n    </tr>\n    <tr>\n      <th>2</th>\n      <td>We're Good</td>\n      <td>Future Nostalgia (The Moonlight Edition)</td>\n      <td>Dua Lipa</td>\n      <td>2021-02-11</td>\n      <td>165506</td>\n      <td>88</td>\n      <td>0.722</td>\n      <td>0.0319</td>\n      <td>0.722</td>\n      <td>0.588</td>\n      <td>0.000000</td>\n      <td>0.1830</td>\n      <td>-5.932</td>\n      <td>0.0544</td>\n      <td>134.010</td>\n      <td>4</td>\n    </tr>\n    <tr>\n      <th>3</th>\n      <td>Save Your Tears</td>\n      <td>After Hours</td>\n      <td>The Weeknd</td>\n      <td>2020-03-20</td>\n      <td>215626</td>\n      <td>97</td>\n      <td>0.680</td>\n      <td>0.0212</td>\n      <td>0.680</td>\n      <td>0.826</td>\n      <td>0.000012</td>\n      <td>0.5430</td>\n      <td>-5.487</td>\n      <td>0.0309</td>\n      <td>118.051</td>\n      <td>4</td>\n    </tr>\n    <tr>\n      <th>4</th>\n      <td>Astronaut In The Ocean</td>\n      <td>Astronaut In The Ocean</td>\n      <td>Masked Wolf</td>\n      <td>2021-01-06</td>\n      <td>132780</td>\n      <td>94</td>\n      <td>0.778</td>\n      <td>0.1750</td>\n      <td>0.778</td>\n      <td>0.695</td>\n      <td>0.000000</td>\n      <td>0.1500</td>\n      <td>-6.865</td>\n      <td>0.0913</td>\n      <td>149.996</td>\n      <td>4</td>\n    </tr>\n  </tbody>\n</table>\n</div>"
     },
     "metadata": {},
     "execution_count": 16
    }
   ],
   "source": [
    "# %%time\n",
    "# loop over track ids to get audio features for each track\n",
    "# tracks = []\n",
    "# for i in range(len(ids)):\n",
    "#     try:  \n",
    "#         track = getTrackFeatures(ids[i])\n",
    "#         tracks.append(track)\n",
    "#     except:\n",
    "#         pass\n",
    "\n",
    "# create dataset\n",
    "# df = pd.DataFrame(tracks, columns = ['name', 'album', 'artist', 'release_date', 'length', 'popularity', 'danceability', 'acousticness', 'energy', 'instrumentalness', 'liveness', 'loudness', 'speechiness', 'tempo', 'time_signature'])\n",
    "# df.head()"
   ]
  },
  {
   "cell_type": "code",
   "execution_count": 17,
   "metadata": {},
   "outputs": [
    {
     "output_type": "execute_result",
     "data": {
      "text/plain": [
       "(4913, 16)"
      ]
     },
     "metadata": {},
     "execution_count": 17
    }
   ],
   "source": [
    "df.shape"
   ]
  },
  {
   "cell_type": "code",
   "execution_count": 19,
   "metadata": {},
   "outputs": [],
   "source": [
    "# df.to_csv('playlist_songs.csv',index=False)"
   ]
  },
  {
   "cell_type": "code",
   "execution_count": 50,
   "metadata": {},
   "outputs": [
    {
     "output_type": "execute_result",
     "data": {
      "text/plain": [
       "                     name                                     album  \\\n",
       "0     Leave The Door Open                       Leave The Door Open   \n",
       "1                 Hold On                                   Hold On   \n",
       "2              We're Good  Future Nostalgia (The Moonlight Edition)   \n",
       "3         Save Your Tears                               After Hours   \n",
       "4  Astronaut In The Ocean                    Astronaut In The Ocean   \n",
       "\n",
       "          artist release_date  length  popularity  danceability  acousticness  \\\n",
       "0     Bruno Mars   2021-03-05  242096          90         0.586        0.1820   \n",
       "1  Justin Bieber   2021-03-05  170813          89         0.658        0.0106   \n",
       "2       Dua Lipa   2021-02-11  165506          88         0.722        0.0319   \n",
       "3     The Weeknd   2020-03-20  215626          97         0.680        0.0212   \n",
       "4    Masked Wolf   2021-01-06  132780          94         0.778        0.1750   \n",
       "\n",
       "   danceability.1  energy  instrumentalness  liveness  loudness  speechiness  \\\n",
       "0           0.586   0.616          0.000000    0.0927    -7.964       0.0324   \n",
       "1           0.658   0.634          0.000000    0.1320    -5.797       0.0413   \n",
       "2           0.722   0.588          0.000000    0.1830    -5.932       0.0544   \n",
       "3           0.680   0.826          0.000012    0.5430    -5.487       0.0309   \n",
       "4           0.778   0.695          0.000000    0.1500    -6.865       0.0913   \n",
       "\n",
       "     tempo  time_signature  \n",
       "0  148.088               4  \n",
       "1  139.980               4  \n",
       "2  134.010               4  \n",
       "3  118.051               4  \n",
       "4  149.996               4  "
      ],
      "text/html": "<div>\n<style scoped>\n    .dataframe tbody tr th:only-of-type {\n        vertical-align: middle;\n    }\n\n    .dataframe tbody tr th {\n        vertical-align: top;\n    }\n\n    .dataframe thead th {\n        text-align: right;\n    }\n</style>\n<table border=\"1\" class=\"dataframe\">\n  <thead>\n    <tr style=\"text-align: right;\">\n      <th></th>\n      <th>name</th>\n      <th>album</th>\n      <th>artist</th>\n      <th>release_date</th>\n      <th>length</th>\n      <th>popularity</th>\n      <th>danceability</th>\n      <th>acousticness</th>\n      <th>danceability.1</th>\n      <th>energy</th>\n      <th>instrumentalness</th>\n      <th>liveness</th>\n      <th>loudness</th>\n      <th>speechiness</th>\n      <th>tempo</th>\n      <th>time_signature</th>\n    </tr>\n  </thead>\n  <tbody>\n    <tr>\n      <th>0</th>\n      <td>Leave The Door Open</td>\n      <td>Leave The Door Open</td>\n      <td>Bruno Mars</td>\n      <td>2021-03-05</td>\n      <td>242096</td>\n      <td>90</td>\n      <td>0.586</td>\n      <td>0.1820</td>\n      <td>0.586</td>\n      <td>0.616</td>\n      <td>0.000000</td>\n      <td>0.0927</td>\n      <td>-7.964</td>\n      <td>0.0324</td>\n      <td>148.088</td>\n      <td>4</td>\n    </tr>\n    <tr>\n      <th>1</th>\n      <td>Hold On</td>\n      <td>Hold On</td>\n      <td>Justin Bieber</td>\n      <td>2021-03-05</td>\n      <td>170813</td>\n      <td>89</td>\n      <td>0.658</td>\n      <td>0.0106</td>\n      <td>0.658</td>\n      <td>0.634</td>\n      <td>0.000000</td>\n      <td>0.1320</td>\n      <td>-5.797</td>\n      <td>0.0413</td>\n      <td>139.980</td>\n      <td>4</td>\n    </tr>\n    <tr>\n      <th>2</th>\n      <td>We're Good</td>\n      <td>Future Nostalgia (The Moonlight Edition)</td>\n      <td>Dua Lipa</td>\n      <td>2021-02-11</td>\n      <td>165506</td>\n      <td>88</td>\n      <td>0.722</td>\n      <td>0.0319</td>\n      <td>0.722</td>\n      <td>0.588</td>\n      <td>0.000000</td>\n      <td>0.1830</td>\n      <td>-5.932</td>\n      <td>0.0544</td>\n      <td>134.010</td>\n      <td>4</td>\n    </tr>\n    <tr>\n      <th>3</th>\n      <td>Save Your Tears</td>\n      <td>After Hours</td>\n      <td>The Weeknd</td>\n      <td>2020-03-20</td>\n      <td>215626</td>\n      <td>97</td>\n      <td>0.680</td>\n      <td>0.0212</td>\n      <td>0.680</td>\n      <td>0.826</td>\n      <td>0.000012</td>\n      <td>0.5430</td>\n      <td>-5.487</td>\n      <td>0.0309</td>\n      <td>118.051</td>\n      <td>4</td>\n    </tr>\n    <tr>\n      <th>4</th>\n      <td>Astronaut In The Ocean</td>\n      <td>Astronaut In The Ocean</td>\n      <td>Masked Wolf</td>\n      <td>2021-01-06</td>\n      <td>132780</td>\n      <td>94</td>\n      <td>0.778</td>\n      <td>0.1750</td>\n      <td>0.778</td>\n      <td>0.695</td>\n      <td>0.000000</td>\n      <td>0.1500</td>\n      <td>-6.865</td>\n      <td>0.0913</td>\n      <td>149.996</td>\n      <td>4</td>\n    </tr>\n  </tbody>\n</table>\n</div>"
     },
     "metadata": {},
     "execution_count": 50
    }
   ],
   "source": [
    "df = pd.read_csv('playlist_songs.csv')\n",
    "df.head()"
   ]
  },
  {
   "source": [
    "## Getting user's favorite tracks"
   ],
   "cell_type": "markdown",
   "metadata": {}
  },
  {
   "cell_type": "code",
   "execution_count": 24,
   "metadata": {},
   "outputs": [],
   "source": [
    "# Getting top 1000 tracks from user\n",
    "results = sp.current_user_top_tracks(limit=1000, offset=0,time_range='short_term')"
   ]
  },
  {
   "cell_type": "code",
   "execution_count": 25,
   "metadata": {},
   "outputs": [
    {
     "output_type": "execute_result",
     "data": {
      "text/plain": [
       "         track_name             album                track_id       artist  \\\n",
       "0  Feels Like Death  Feels Like Death  03vMyCyCK7pVWjC1i1zur0  Levi Carter   \n",
       "1         Glory Boy        Freewave 3  5LpnrXjrt0BOU0iOGH78UN        LUCKI   \n",
       "2             Faith             Faith  0TqNfrOY2IrpFRI2zxsMq4        LUCKI   \n",
       "3         Tarantino      Almost There  1CzjJzPOCLkZr2oqiOrXjc        LUCKI   \n",
       "4       Left 4 Dead       Days B4 III  4SRBv9M0wIPIw916zWfhkU        LUCKI   \n",
       "\n",
       "   duration  popularity  \n",
       "0    237505          44  \n",
       "1    111048          40  \n",
       "2    107467          36  \n",
       "3    114773          38  \n",
       "4    139130          39  "
      ],
      "text/html": "<div>\n<style scoped>\n    .dataframe tbody tr th:only-of-type {\n        vertical-align: middle;\n    }\n\n    .dataframe tbody tr th {\n        vertical-align: top;\n    }\n\n    .dataframe thead th {\n        text-align: right;\n    }\n</style>\n<table border=\"1\" class=\"dataframe\">\n  <thead>\n    <tr style=\"text-align: right;\">\n      <th></th>\n      <th>track_name</th>\n      <th>album</th>\n      <th>track_id</th>\n      <th>artist</th>\n      <th>duration</th>\n      <th>popularity</th>\n    </tr>\n  </thead>\n  <tbody>\n    <tr>\n      <th>0</th>\n      <td>Feels Like Death</td>\n      <td>Feels Like Death</td>\n      <td>03vMyCyCK7pVWjC1i1zur0</td>\n      <td>Levi Carter</td>\n      <td>237505</td>\n      <td>44</td>\n    </tr>\n    <tr>\n      <th>1</th>\n      <td>Glory Boy</td>\n      <td>Freewave 3</td>\n      <td>5LpnrXjrt0BOU0iOGH78UN</td>\n      <td>LUCKI</td>\n      <td>111048</td>\n      <td>40</td>\n    </tr>\n    <tr>\n      <th>2</th>\n      <td>Faith</td>\n      <td>Faith</td>\n      <td>0TqNfrOY2IrpFRI2zxsMq4</td>\n      <td>LUCKI</td>\n      <td>107467</td>\n      <td>36</td>\n    </tr>\n    <tr>\n      <th>3</th>\n      <td>Tarantino</td>\n      <td>Almost There</td>\n      <td>1CzjJzPOCLkZr2oqiOrXjc</td>\n      <td>LUCKI</td>\n      <td>114773</td>\n      <td>38</td>\n    </tr>\n    <tr>\n      <th>4</th>\n      <td>Left 4 Dead</td>\n      <td>Days B4 III</td>\n      <td>4SRBv9M0wIPIw916zWfhkU</td>\n      <td>LUCKI</td>\n      <td>139130</td>\n      <td>39</td>\n    </tr>\n  </tbody>\n</table>\n</div>"
     },
     "metadata": {},
     "execution_count": 25
    }
   ],
   "source": [
    "# Convert it to Dataframe\n",
    "track_name = []\n",
    "track_id = []\n",
    "artist = []\n",
    "album = []\n",
    "duration = []\n",
    "popularity = []\n",
    "for i, items in enumerate(results['items']):\n",
    "        track_name.append(items['name'])\n",
    "        track_id.append(items['id'])\n",
    "        artist.append(items[\"artists\"][0][\"name\"])\n",
    "        duration.append(items[\"duration_ms\"])\n",
    "        album.append(items[\"album\"][\"name\"])\n",
    "        popularity.append(items[\"popularity\"])\n",
    "\n",
    "# Create the final df   \n",
    "df_favourite = pd.DataFrame({ \"track_name\": track_name, \n",
    "                             \"album\": album, \n",
    "                             \"track_id\": track_id,\n",
    "                             \"artist\": artist, \n",
    "                             \"duration\": duration, \n",
    "                             \"popularity\": popularity})\n",
    "\n",
    "df_favourite.head()"
   ]
  },
  {
   "cell_type": "code",
   "execution_count": 28,
   "metadata": {},
   "outputs": [],
   "source": [
    "fav_tracks = []\n",
    "for track in df_favourite['track_id']:\n",
    "    try:  \n",
    "        track = getTrackFeatures(track)\n",
    "        fav_tracks.append(track)\n",
    "    except:\n",
    "        pass"
   ]
  },
  {
   "cell_type": "code",
   "execution_count": 29,
   "metadata": {},
   "outputs": [
    {
     "output_type": "execute_result",
     "data": {
      "text/plain": [
       "               name             album       artist release_date  length  \\\n",
       "0  Feels Like Death  Feels Like Death  Levi Carter   2018-04-24  237505   \n",
       "1         Glory Boy        Freewave 3        LUCKI   2019-02-15  111048   \n",
       "2             Faith             Faith        LUCKI   2020-04-17  107467   \n",
       "3         Tarantino      Almost There        LUCKI   2020-05-29  114773   \n",
       "4       Left 4 Dead       Days B4 III        LUCKI   2019-10-25  139130   \n",
       "\n",
       "   popularity  danceability  acousticness  danceability  energy  \\\n",
       "0          44         0.755        0.3370         0.755   0.626   \n",
       "1          40         0.784        0.0966         0.784   0.519   \n",
       "2          36         0.878        0.1230         0.878   0.584   \n",
       "3          38         0.790        0.0495         0.790   0.547   \n",
       "4          39         0.719        0.1110         0.719   0.500   \n",
       "\n",
       "   instrumentalness  liveness  loudness  speechiness    tempo  time_signature  \n",
       "0          0.000000    0.1370    -6.247        0.293  110.088               4  \n",
       "1          0.010900    0.0748    -9.868        0.096  129.953               3  \n",
       "2          0.000000    0.1050   -10.014        0.419  125.069               4  \n",
       "3          0.000000    0.1140    -9.974        0.108  135.037               4  \n",
       "4          0.000416    0.0992    -9.654        0.318  137.924               4  "
      ],
      "text/html": "<div>\n<style scoped>\n    .dataframe tbody tr th:only-of-type {\n        vertical-align: middle;\n    }\n\n    .dataframe tbody tr th {\n        vertical-align: top;\n    }\n\n    .dataframe thead th {\n        text-align: right;\n    }\n</style>\n<table border=\"1\" class=\"dataframe\">\n  <thead>\n    <tr style=\"text-align: right;\">\n      <th></th>\n      <th>name</th>\n      <th>album</th>\n      <th>artist</th>\n      <th>release_date</th>\n      <th>length</th>\n      <th>popularity</th>\n      <th>danceability</th>\n      <th>acousticness</th>\n      <th>danceability</th>\n      <th>energy</th>\n      <th>instrumentalness</th>\n      <th>liveness</th>\n      <th>loudness</th>\n      <th>speechiness</th>\n      <th>tempo</th>\n      <th>time_signature</th>\n    </tr>\n  </thead>\n  <tbody>\n    <tr>\n      <th>0</th>\n      <td>Feels Like Death</td>\n      <td>Feels Like Death</td>\n      <td>Levi Carter</td>\n      <td>2018-04-24</td>\n      <td>237505</td>\n      <td>44</td>\n      <td>0.755</td>\n      <td>0.3370</td>\n      <td>0.755</td>\n      <td>0.626</td>\n      <td>0.000000</td>\n      <td>0.1370</td>\n      <td>-6.247</td>\n      <td>0.293</td>\n      <td>110.088</td>\n      <td>4</td>\n    </tr>\n    <tr>\n      <th>1</th>\n      <td>Glory Boy</td>\n      <td>Freewave 3</td>\n      <td>LUCKI</td>\n      <td>2019-02-15</td>\n      <td>111048</td>\n      <td>40</td>\n      <td>0.784</td>\n      <td>0.0966</td>\n      <td>0.784</td>\n      <td>0.519</td>\n      <td>0.010900</td>\n      <td>0.0748</td>\n      <td>-9.868</td>\n      <td>0.096</td>\n      <td>129.953</td>\n      <td>3</td>\n    </tr>\n    <tr>\n      <th>2</th>\n      <td>Faith</td>\n      <td>Faith</td>\n      <td>LUCKI</td>\n      <td>2020-04-17</td>\n      <td>107467</td>\n      <td>36</td>\n      <td>0.878</td>\n      <td>0.1230</td>\n      <td>0.878</td>\n      <td>0.584</td>\n      <td>0.000000</td>\n      <td>0.1050</td>\n      <td>-10.014</td>\n      <td>0.419</td>\n      <td>125.069</td>\n      <td>4</td>\n    </tr>\n    <tr>\n      <th>3</th>\n      <td>Tarantino</td>\n      <td>Almost There</td>\n      <td>LUCKI</td>\n      <td>2020-05-29</td>\n      <td>114773</td>\n      <td>38</td>\n      <td>0.790</td>\n      <td>0.0495</td>\n      <td>0.790</td>\n      <td>0.547</td>\n      <td>0.000000</td>\n      <td>0.1140</td>\n      <td>-9.974</td>\n      <td>0.108</td>\n      <td>135.037</td>\n      <td>4</td>\n    </tr>\n    <tr>\n      <th>4</th>\n      <td>Left 4 Dead</td>\n      <td>Days B4 III</td>\n      <td>LUCKI</td>\n      <td>2019-10-25</td>\n      <td>139130</td>\n      <td>39</td>\n      <td>0.719</td>\n      <td>0.1110</td>\n      <td>0.719</td>\n      <td>0.500</td>\n      <td>0.000416</td>\n      <td>0.0992</td>\n      <td>-9.654</td>\n      <td>0.318</td>\n      <td>137.924</td>\n      <td>4</td>\n    </tr>\n  </tbody>\n</table>\n</div>"
     },
     "metadata": {},
     "execution_count": 29
    }
   ],
   "source": [
    "# Create favorite track wtih audio features dataset\n",
    "df_fav = pd.DataFrame(fav_tracks, columns = ['name', 'album', 'artist', 'release_date', 'length', 'popularity', 'danceability', 'acousticness', 'energy', 'instrumentalness', 'liveness', 'loudness', 'speechiness', 'tempo', 'time_signature'])\n",
    "df_fav.head()"
   ]
  },
  {
   "cell_type": "code",
   "execution_count": 58,
   "metadata": {},
   "outputs": [],
   "source": [
    "df_fav['favorite'] = 1\n",
    "df['favorite'] = 0 "
   ]
  },
  {
   "cell_type": "code",
   "execution_count": 59,
   "metadata": {},
   "outputs": [
    {
     "output_type": "execute_result",
     "data": {
      "text/plain": [
       "array([ True,  True,  True,  True,  True,  True,  True,  True, False,\n",
       "        True,  True,  True,  True,  True,  True,  True,  True])"
      ]
     },
     "metadata": {},
     "execution_count": 59
    }
   ],
   "source": [
    "# Checking if both datasets have the same columns\n",
    "df.columns == df_fav.columns"
   ]
  },
  {
   "source": [
    "## Preparing dataset for model creation"
   ],
   "cell_type": "markdown",
   "metadata": {}
  },
  {
   "cell_type": "code",
   "execution_count": 17,
   "metadata": {},
   "outputs": [],
   "source": [
    "X = "
   ]
  },
  {
   "cell_type": "code",
   "execution_count": 18,
   "metadata": {},
   "outputs": [
    {
     "output_type": "execute_result",
     "data": {
      "text/plain": [
       "                  fav_playlist\n",
       "danceability          0.772000\n",
       "acousticness          0.084300\n",
       "energy                0.481500\n",
       "tempo               132.343500\n",
       "instrumentalness      0.000003"
      ],
      "text/html": "<div>\n<style scoped>\n    .dataframe tbody tr th:only-of-type {\n        vertical-align: middle;\n    }\n\n    .dataframe tbody tr th {\n        vertical-align: top;\n    }\n\n    .dataframe thead th {\n        text-align: right;\n    }\n</style>\n<table border=\"1\" class=\"dataframe\">\n  <thead>\n    <tr style=\"text-align: right;\">\n      <th></th>\n      <th>fav_playlist</th>\n    </tr>\n  </thead>\n  <tbody>\n    <tr>\n      <th>danceability</th>\n      <td>0.772000</td>\n    </tr>\n    <tr>\n      <th>acousticness</th>\n      <td>0.084300</td>\n    </tr>\n    <tr>\n      <th>energy</th>\n      <td>0.481500</td>\n    </tr>\n    <tr>\n      <th>tempo</th>\n      <td>132.343500</td>\n    </tr>\n    <tr>\n      <th>instrumentalness</th>\n      <td>0.000003</td>\n    </tr>\n  </tbody>\n</table>\n</div>"
     },
     "metadata": {},
     "execution_count": 18
    }
   ],
   "source": [
    "Y = pd.DataFrame(df_fav.median(), columns= ['fav_playlist'])\n",
    "Y = Y.drop('mode')\n",
    "Y = Y.dropna()\n",
    "Y.head()"
   ]
  },
  {
   "cell_type": "code",
   "execution_count": 19,
   "metadata": {},
   "outputs": [],
   "source": [
    "# Turning Y into a scalar to pass through model\n",
    "Y = Y.squeeze('columns')"
   ]
  },
  {
   "cell_type": "code",
   "execution_count": 20,
   "metadata": {},
   "outputs": [
    {
     "output_type": "execute_result",
     "data": {
      "text/plain": [
       "acousticness             0.084300\n",
       "danceability             0.772000\n",
       "duration_ms         132468.500000\n",
       "energy                   0.481500\n",
       "instrumentalness         0.000003\n",
       "Name: fav_playlist, dtype: float64"
      ]
     },
     "metadata": {},
     "execution_count": 20
    }
   ],
   "source": [
    "Y = Y.sort_index( axis=0, level=None, ascending=True, inplace=False, kind='quicksort')\n",
    "Y.head()"
   ]
  },
  {
   "source": [
    "## Model Building"
   ],
   "cell_type": "markdown",
   "metadata": {}
  },
  {
   "cell_type": "code",
   "execution_count": 21,
   "metadata": {},
   "outputs": [
    {
     "output_type": "error",
     "ename": "ValueError",
     "evalue": "Found array with 0 sample(s) (shape=(0, 868)) while a minimum of 1 is required.",
     "traceback": [
      "\u001b[0;31m---------------------------------------------------------------------------\u001b[0m",
      "\u001b[0;31mValueError\u001b[0m                                Traceback (most recent call last)",
      "\u001b[0;32m<ipython-input-21-e309144e992a>\u001b[0m in \u001b[0;36m<module>\u001b[0;34m\u001b[0m\n\u001b[1;32m      3\u001b[0m \u001b[0;31m# Can combine step above with this\u001b[0m\u001b[0;34m\u001b[0m\u001b[0;34m\u001b[0m\u001b[0;34m\u001b[0m\u001b[0m\n\u001b[1;32m      4\u001b[0m \u001b[0mforest\u001b[0m \u001b[0;34m=\u001b[0m \u001b[0mRandomForestRegressor\u001b[0m\u001b[0;34m(\u001b[0m\u001b[0mrandom_state\u001b[0m\u001b[0;34m=\u001b[0m\u001b[0;36m42\u001b[0m\u001b[0;34m,\u001b[0m \u001b[0mmax_depth\u001b[0m\u001b[0;34m=\u001b[0m\u001b[0;36m5\u001b[0m\u001b[0;34m,\u001b[0m \u001b[0mmax_features\u001b[0m\u001b[0;34m=\u001b[0m\u001b[0;36m10\u001b[0m\u001b[0;34m)\u001b[0m\u001b[0;34m\u001b[0m\u001b[0;34m\u001b[0m\u001b[0m\n\u001b[0;32m----> 5\u001b[0;31m \u001b[0mforest\u001b[0m\u001b[0;34m.\u001b[0m\u001b[0mfit\u001b[0m\u001b[0;34m(\u001b[0m\u001b[0mX\u001b[0m\u001b[0;34m,\u001b[0m\u001b[0mY\u001b[0m\u001b[0;34m)\u001b[0m\u001b[0;34m\u001b[0m\u001b[0;34m\u001b[0m\u001b[0m\n\u001b[0m\u001b[1;32m      6\u001b[0m \u001b[0mimportances\u001b[0m \u001b[0;34m=\u001b[0m \u001b[0mforest\u001b[0m\u001b[0;34m.\u001b[0m\u001b[0mfeature_importances_\u001b[0m\u001b[0;34m\u001b[0m\u001b[0;34m\u001b[0m\u001b[0m\n\u001b[1;32m      7\u001b[0m \u001b[0mindices\u001b[0m \u001b[0;34m=\u001b[0m \u001b[0mnp\u001b[0m\u001b[0;34m.\u001b[0m\u001b[0margsort\u001b[0m\u001b[0;34m(\u001b[0m\u001b[0mimportances\u001b[0m\u001b[0;34m)\u001b[0m\u001b[0;34m[\u001b[0m\u001b[0;34m:\u001b[0m\u001b[0;34m:\u001b[0m\u001b[0;34m-\u001b[0m\u001b[0;36m1\u001b[0m\u001b[0;34m]\u001b[0m\u001b[0;34m\u001b[0m\u001b[0;34m\u001b[0m\u001b[0m\n",
      "\u001b[0;32m~/opt/anaconda3/envs/spotify_recommender/lib/python3.9/site-packages/sklearn/ensemble/_forest.py\u001b[0m in \u001b[0;36mfit\u001b[0;34m(self, X, y, sample_weight)\u001b[0m\n\u001b[1;32m    302\u001b[0m                 \u001b[0;34m\"sparse multilabel-indicator for y is not supported.\"\u001b[0m\u001b[0;34m\u001b[0m\u001b[0;34m\u001b[0m\u001b[0m\n\u001b[1;32m    303\u001b[0m             )\n\u001b[0;32m--> 304\u001b[0;31m         X, y = self._validate_data(X, y, multi_output=True,\n\u001b[0m\u001b[1;32m    305\u001b[0m                                    accept_sparse=\"csc\", dtype=DTYPE)\n\u001b[1;32m    306\u001b[0m         \u001b[0;32mif\u001b[0m \u001b[0msample_weight\u001b[0m \u001b[0;32mis\u001b[0m \u001b[0;32mnot\u001b[0m \u001b[0;32mNone\u001b[0m\u001b[0;34m:\u001b[0m\u001b[0;34m\u001b[0m\u001b[0;34m\u001b[0m\u001b[0m\n",
      "\u001b[0;32m~/opt/anaconda3/envs/spotify_recommender/lib/python3.9/site-packages/sklearn/base.py\u001b[0m in \u001b[0;36m_validate_data\u001b[0;34m(self, X, y, reset, validate_separately, **check_params)\u001b[0m\n\u001b[1;32m    431\u001b[0m                 \u001b[0my\u001b[0m \u001b[0;34m=\u001b[0m \u001b[0mcheck_array\u001b[0m\u001b[0;34m(\u001b[0m\u001b[0my\u001b[0m\u001b[0;34m,\u001b[0m \u001b[0;34m**\u001b[0m\u001b[0mcheck_y_params\u001b[0m\u001b[0;34m)\u001b[0m\u001b[0;34m\u001b[0m\u001b[0;34m\u001b[0m\u001b[0m\n\u001b[1;32m    432\u001b[0m             \u001b[0;32melse\u001b[0m\u001b[0;34m:\u001b[0m\u001b[0;34m\u001b[0m\u001b[0;34m\u001b[0m\u001b[0m\n\u001b[0;32m--> 433\u001b[0;31m                 \u001b[0mX\u001b[0m\u001b[0;34m,\u001b[0m \u001b[0my\u001b[0m \u001b[0;34m=\u001b[0m \u001b[0mcheck_X_y\u001b[0m\u001b[0;34m(\u001b[0m\u001b[0mX\u001b[0m\u001b[0;34m,\u001b[0m \u001b[0my\u001b[0m\u001b[0;34m,\u001b[0m \u001b[0;34m**\u001b[0m\u001b[0mcheck_params\u001b[0m\u001b[0;34m)\u001b[0m\u001b[0;34m\u001b[0m\u001b[0;34m\u001b[0m\u001b[0m\n\u001b[0m\u001b[1;32m    434\u001b[0m             \u001b[0mout\u001b[0m \u001b[0;34m=\u001b[0m \u001b[0mX\u001b[0m\u001b[0;34m,\u001b[0m \u001b[0my\u001b[0m\u001b[0;34m\u001b[0m\u001b[0;34m\u001b[0m\u001b[0m\n\u001b[1;32m    435\u001b[0m \u001b[0;34m\u001b[0m\u001b[0m\n",
      "\u001b[0;32m~/opt/anaconda3/envs/spotify_recommender/lib/python3.9/site-packages/sklearn/utils/validation.py\u001b[0m in \u001b[0;36minner_f\u001b[0;34m(*args, **kwargs)\u001b[0m\n\u001b[1;32m     61\u001b[0m             \u001b[0mextra_args\u001b[0m \u001b[0;34m=\u001b[0m \u001b[0mlen\u001b[0m\u001b[0;34m(\u001b[0m\u001b[0margs\u001b[0m\u001b[0;34m)\u001b[0m \u001b[0;34m-\u001b[0m \u001b[0mlen\u001b[0m\u001b[0;34m(\u001b[0m\u001b[0mall_args\u001b[0m\u001b[0;34m)\u001b[0m\u001b[0;34m\u001b[0m\u001b[0;34m\u001b[0m\u001b[0m\n\u001b[1;32m     62\u001b[0m             \u001b[0;32mif\u001b[0m \u001b[0mextra_args\u001b[0m \u001b[0;34m<=\u001b[0m \u001b[0;36m0\u001b[0m\u001b[0;34m:\u001b[0m\u001b[0;34m\u001b[0m\u001b[0;34m\u001b[0m\u001b[0m\n\u001b[0;32m---> 63\u001b[0;31m                 \u001b[0;32mreturn\u001b[0m \u001b[0mf\u001b[0m\u001b[0;34m(\u001b[0m\u001b[0;34m*\u001b[0m\u001b[0margs\u001b[0m\u001b[0;34m,\u001b[0m \u001b[0;34m**\u001b[0m\u001b[0mkwargs\u001b[0m\u001b[0;34m)\u001b[0m\u001b[0;34m\u001b[0m\u001b[0;34m\u001b[0m\u001b[0m\n\u001b[0m\u001b[1;32m     64\u001b[0m \u001b[0;34m\u001b[0m\u001b[0m\n\u001b[1;32m     65\u001b[0m             \u001b[0;31m# extra_args > 0\u001b[0m\u001b[0;34m\u001b[0m\u001b[0;34m\u001b[0m\u001b[0;34m\u001b[0m\u001b[0m\n",
      "\u001b[0;32m~/opt/anaconda3/envs/spotify_recommender/lib/python3.9/site-packages/sklearn/utils/validation.py\u001b[0m in \u001b[0;36mcheck_X_y\u001b[0;34m(X, y, accept_sparse, accept_large_sparse, dtype, order, copy, force_all_finite, ensure_2d, allow_nd, multi_output, ensure_min_samples, ensure_min_features, y_numeric, estimator)\u001b[0m\n\u001b[1;32m    812\u001b[0m         \u001b[0;32mraise\u001b[0m \u001b[0mValueError\u001b[0m\u001b[0;34m(\u001b[0m\u001b[0;34m\"y cannot be None\"\u001b[0m\u001b[0;34m)\u001b[0m\u001b[0;34m\u001b[0m\u001b[0;34m\u001b[0m\u001b[0m\n\u001b[1;32m    813\u001b[0m \u001b[0;34m\u001b[0m\u001b[0m\n\u001b[0;32m--> 814\u001b[0;31m     X = check_array(X, accept_sparse=accept_sparse,\n\u001b[0m\u001b[1;32m    815\u001b[0m                     \u001b[0maccept_large_sparse\u001b[0m\u001b[0;34m=\u001b[0m\u001b[0maccept_large_sparse\u001b[0m\u001b[0;34m,\u001b[0m\u001b[0;34m\u001b[0m\u001b[0;34m\u001b[0m\u001b[0m\n\u001b[1;32m    816\u001b[0m                     \u001b[0mdtype\u001b[0m\u001b[0;34m=\u001b[0m\u001b[0mdtype\u001b[0m\u001b[0;34m,\u001b[0m \u001b[0morder\u001b[0m\u001b[0;34m=\u001b[0m\u001b[0morder\u001b[0m\u001b[0;34m,\u001b[0m \u001b[0mcopy\u001b[0m\u001b[0;34m=\u001b[0m\u001b[0mcopy\u001b[0m\u001b[0;34m,\u001b[0m\u001b[0;34m\u001b[0m\u001b[0;34m\u001b[0m\u001b[0m\n",
      "\u001b[0;32m~/opt/anaconda3/envs/spotify_recommender/lib/python3.9/site-packages/sklearn/utils/validation.py\u001b[0m in \u001b[0;36minner_f\u001b[0;34m(*args, **kwargs)\u001b[0m\n\u001b[1;32m     61\u001b[0m             \u001b[0mextra_args\u001b[0m \u001b[0;34m=\u001b[0m \u001b[0mlen\u001b[0m\u001b[0;34m(\u001b[0m\u001b[0margs\u001b[0m\u001b[0;34m)\u001b[0m \u001b[0;34m-\u001b[0m \u001b[0mlen\u001b[0m\u001b[0;34m(\u001b[0m\u001b[0mall_args\u001b[0m\u001b[0;34m)\u001b[0m\u001b[0;34m\u001b[0m\u001b[0;34m\u001b[0m\u001b[0m\n\u001b[1;32m     62\u001b[0m             \u001b[0;32mif\u001b[0m \u001b[0mextra_args\u001b[0m \u001b[0;34m<=\u001b[0m \u001b[0;36m0\u001b[0m\u001b[0;34m:\u001b[0m\u001b[0;34m\u001b[0m\u001b[0;34m\u001b[0m\u001b[0m\n\u001b[0;32m---> 63\u001b[0;31m                 \u001b[0;32mreturn\u001b[0m \u001b[0mf\u001b[0m\u001b[0;34m(\u001b[0m\u001b[0;34m*\u001b[0m\u001b[0margs\u001b[0m\u001b[0;34m,\u001b[0m \u001b[0;34m**\u001b[0m\u001b[0mkwargs\u001b[0m\u001b[0;34m)\u001b[0m\u001b[0;34m\u001b[0m\u001b[0;34m\u001b[0m\u001b[0m\n\u001b[0m\u001b[1;32m     64\u001b[0m \u001b[0;34m\u001b[0m\u001b[0m\n\u001b[1;32m     65\u001b[0m             \u001b[0;31m# extra_args > 0\u001b[0m\u001b[0;34m\u001b[0m\u001b[0;34m\u001b[0m\u001b[0;34m\u001b[0m\u001b[0m\n",
      "\u001b[0;32m~/opt/anaconda3/envs/spotify_recommender/lib/python3.9/site-packages/sklearn/utils/validation.py\u001b[0m in \u001b[0;36mcheck_array\u001b[0;34m(array, accept_sparse, accept_large_sparse, dtype, order, copy, force_all_finite, ensure_2d, allow_nd, ensure_min_samples, ensure_min_features, estimator)\u001b[0m\n\u001b[1;32m    667\u001b[0m         \u001b[0mn_samples\u001b[0m \u001b[0;34m=\u001b[0m \u001b[0m_num_samples\u001b[0m\u001b[0;34m(\u001b[0m\u001b[0marray\u001b[0m\u001b[0;34m)\u001b[0m\u001b[0;34m\u001b[0m\u001b[0;34m\u001b[0m\u001b[0m\n\u001b[1;32m    668\u001b[0m         \u001b[0;32mif\u001b[0m \u001b[0mn_samples\u001b[0m \u001b[0;34m<\u001b[0m \u001b[0mensure_min_samples\u001b[0m\u001b[0;34m:\u001b[0m\u001b[0;34m\u001b[0m\u001b[0;34m\u001b[0m\u001b[0m\n\u001b[0;32m--> 669\u001b[0;31m             raise ValueError(\"Found array with %d sample(s) (shape=%s) while a\"\n\u001b[0m\u001b[1;32m    670\u001b[0m                              \u001b[0;34m\" minimum of %d is required%s.\"\u001b[0m\u001b[0;34m\u001b[0m\u001b[0;34m\u001b[0m\u001b[0m\n\u001b[1;32m    671\u001b[0m                              % (n_samples, array.shape, ensure_min_samples,\n",
      "\u001b[0;31mValueError\u001b[0m: Found array with 0 sample(s) (shape=(0, 868)) while a minimum of 1 is required."
     ]
    }
   ],
   "source": [
    "# Analyze playlists as features\n",
    "from sklearn.ensemble import RandomForestRegressor\n",
    "# Can combine step above with this\n",
    "forest = RandomForestRegressor(random_state=42, max_depth=5, max_features=10) \n",
    "forest.fit(X,Y)\n",
    "importances = forest.feature_importances_\n",
    "indices = np.argsort(importances)[::-1]\n",
    "# Print the feature rankings\n",
    "print(\"Playlist ranking:\")\n",
    "  \n",
    "for f in range(len(importances)):\n",
    "    print(\"%d. %s %f \" % (f + 1, \n",
    "            X.columns[f], \n",
    "            importances[indices[f]]))"
   ]
  },
  {
   "cell_type": "code",
   "execution_count": 22,
   "metadata": {},
   "outputs": [
    {
     "output_type": "execute_result",
     "data": {
      "text/plain": [
       "                        danceability  acousticness  energy    tempo  \\\n",
       "track_id                                                              \n",
       "2sijD9pZmS9D9s8hmQkQk5         0.619       0.80100   0.417  136.460   \n",
       "1ZFsgzYeQuF8IbQgmju5ap         0.643       0.23400   0.752   96.001   \n",
       "2T9EwC9mQUjaNlVtKCFDwX         0.614       0.28500   0.577  145.147   \n",
       "4k4mhm30I8pOn2k7O19pms         0.674       0.00754   0.796   80.033   \n",
       "2D2ZV5FGcEpAfc2rEMxhV2         0.798       0.17100   0.610   95.343   \n",
       "\n",
       "                        instrumentalness  loudness  liveness  duration_ms  \\\n",
       "track_id                                                                    \n",
       "2sijD9pZmS9D9s8hmQkQk5          0.383000   -10.433     0.176       201187   \n",
       "1ZFsgzYeQuF8IbQgmju5ap          0.192000    -6.536     0.821       240053   \n",
       "2T9EwC9mQUjaNlVtKCFDwX          0.001620    -9.165     0.953       204000   \n",
       "4k4mhm30I8pOn2k7O19pms          0.000233    -6.236     0.156       135802   \n",
       "2D2ZV5FGcEpAfc2rEMxhV2          0.068800    -4.983     0.105       171425   \n",
       "\n",
       "                        key  valence  speechiness  \n",
       "track_id                                           \n",
       "2sijD9pZmS9D9s8hmQkQk5    5    0.196       0.0437  \n",
       "1ZFsgzYeQuF8IbQgmju5ap    2    0.582       0.0390  \n",
       "2T9EwC9mQUjaNlVtKCFDwX    5    0.253       0.0601  \n",
       "4k4mhm30I8pOn2k7O19pms    7    0.727       0.0545  \n",
       "2D2ZV5FGcEpAfc2rEMxhV2    4    0.520       0.0301  "
      ],
      "text/html": "<div>\n<style scoped>\n    .dataframe tbody tr th:only-of-type {\n        vertical-align: middle;\n    }\n\n    .dataframe tbody tr th {\n        vertical-align: top;\n    }\n\n    .dataframe thead th {\n        text-align: right;\n    }\n</style>\n<table border=\"1\" class=\"dataframe\">\n  <thead>\n    <tr style=\"text-align: right;\">\n      <th></th>\n      <th>danceability</th>\n      <th>acousticness</th>\n      <th>energy</th>\n      <th>tempo</th>\n      <th>instrumentalness</th>\n      <th>loudness</th>\n      <th>liveness</th>\n      <th>duration_ms</th>\n      <th>key</th>\n      <th>valence</th>\n      <th>speechiness</th>\n    </tr>\n    <tr>\n      <th>track_id</th>\n      <th></th>\n      <th></th>\n      <th></th>\n      <th></th>\n      <th></th>\n      <th></th>\n      <th></th>\n      <th></th>\n      <th></th>\n      <th></th>\n      <th></th>\n    </tr>\n  </thead>\n  <tbody>\n    <tr>\n      <th>2sijD9pZmS9D9s8hmQkQk5</th>\n      <td>0.619</td>\n      <td>0.80100</td>\n      <td>0.417</td>\n      <td>136.460</td>\n      <td>0.383000</td>\n      <td>-10.433</td>\n      <td>0.176</td>\n      <td>201187</td>\n      <td>5</td>\n      <td>0.196</td>\n      <td>0.0437</td>\n    </tr>\n    <tr>\n      <th>1ZFsgzYeQuF8IbQgmju5ap</th>\n      <td>0.643</td>\n      <td>0.23400</td>\n      <td>0.752</td>\n      <td>96.001</td>\n      <td>0.192000</td>\n      <td>-6.536</td>\n      <td>0.821</td>\n      <td>240053</td>\n      <td>2</td>\n      <td>0.582</td>\n      <td>0.0390</td>\n    </tr>\n    <tr>\n      <th>2T9EwC9mQUjaNlVtKCFDwX</th>\n      <td>0.614</td>\n      <td>0.28500</td>\n      <td>0.577</td>\n      <td>145.147</td>\n      <td>0.001620</td>\n      <td>-9.165</td>\n      <td>0.953</td>\n      <td>204000</td>\n      <td>5</td>\n      <td>0.253</td>\n      <td>0.0601</td>\n    </tr>\n    <tr>\n      <th>4k4mhm30I8pOn2k7O19pms</th>\n      <td>0.674</td>\n      <td>0.00754</td>\n      <td>0.796</td>\n      <td>80.033</td>\n      <td>0.000233</td>\n      <td>-6.236</td>\n      <td>0.156</td>\n      <td>135802</td>\n      <td>7</td>\n      <td>0.727</td>\n      <td>0.0545</td>\n    </tr>\n    <tr>\n      <th>2D2ZV5FGcEpAfc2rEMxhV2</th>\n      <td>0.798</td>\n      <td>0.17100</td>\n      <td>0.610</td>\n      <td>95.343</td>\n      <td>0.068800</td>\n      <td>-4.983</td>\n      <td>0.105</td>\n      <td>171425</td>\n      <td>4</td>\n      <td>0.520</td>\n      <td>0.0301</td>\n    </tr>\n  </tbody>\n</table>\n</div>"
     },
     "metadata": {},
     "execution_count": 22
    }
   ],
   "source": [
    "frames = [df_37i9dQZF1DX4pUKG1kS0Ac, df_37i9dQZF1DXbYM3nMM0oPk, df_37i9dQZF1DWWBHeXOYZf74]\n",
    "df = pd.concat(frames)\n",
    "df = df.set_index(['track_id'])\n",
    "df.tail()"
   ]
  },
  {
   "cell_type": "code",
   "execution_count": 23,
   "metadata": {},
   "outputs": [
    {
     "output_type": "execute_result",
     "data": {
      "text/plain": [
       "                        acousticness  danceability  duration_ms  energy  \\\n",
       "track_id                                                                  \n",
       "2aIdVb8v9KTpEZnftkz2mD      -0.07350        -0.321      95491.5  0.0685   \n",
       "3yNVfRQlUPViUh8O2V9SQn       0.03570         0.090     105798.5  0.1815   \n",
       "6o2g1BJvtYQssH84kBYs7y      -0.06880         0.102     133131.5  0.2325   \n",
       "0Uyh92tLyb9JawG8lmWCzJ       0.23370        -0.210     133064.5  0.1125   \n",
       "3jDdpx9PMlfMBS5tOBHFm9      -0.07799        -0.057      80624.5  0.3515   \n",
       "...                              ...           ...          ...     ...   \n",
       "2sijD9pZmS9D9s8hmQkQk5       0.71670        -0.153      68718.5 -0.0645   \n",
       "1ZFsgzYeQuF8IbQgmju5ap       0.14970        -0.129     107584.5  0.2705   \n",
       "2T9EwC9mQUjaNlVtKCFDwX       0.20070        -0.158      71531.5  0.0955   \n",
       "4k4mhm30I8pOn2k7O19pms      -0.07676        -0.098       3333.5  0.3145   \n",
       "2D2ZV5FGcEpAfc2rEMxhV2       0.08670         0.026      38956.5  0.1285   \n",
       "\n",
       "                        instrumentalness  key  liveness  loudness  \\\n",
       "track_id                                                            \n",
       "2aIdVb8v9KTpEZnftkz2mD         -0.000003 -3.0   -0.0503     1.539   \n",
       "3yNVfRQlUPViUh8O2V9SQn         -0.000003 -4.0    0.1940     0.672   \n",
       "6o2g1BJvtYQssH84kBYs7y         -0.000003  3.0   -0.0272     3.012   \n",
       "0Uyh92tLyb9JawG8lmWCzJ         -0.000003 -1.0    0.1870     5.098   \n",
       "3jDdpx9PMlfMBS5tOBHFm9         -0.000003 -2.0    0.0400     4.297   \n",
       "...                                  ...  ...       ...       ...   \n",
       "2sijD9pZmS9D9s8hmQkQk5          0.382997  1.0    0.0520    -0.757   \n",
       "1ZFsgzYeQuF8IbQgmju5ap          0.191997 -2.0    0.6970     3.140   \n",
       "2T9EwC9mQUjaNlVtKCFDwX          0.001617  1.0    0.8290     0.511   \n",
       "4k4mhm30I8pOn2k7O19pms          0.000230  3.0    0.0320     3.440   \n",
       "2D2ZV5FGcEpAfc2rEMxhV2          0.068797  0.0   -0.0190     4.693   \n",
       "\n",
       "                        speechiness    tempo  valence  \n",
       "track_id                                               \n",
       "2aIdVb8v9KTpEZnftkz2mD       0.0430 -52.3425    0.198  \n",
       "3yNVfRQlUPViUh8O2V9SQn      -0.0090 -47.0355    0.441  \n",
       "6o2g1BJvtYQssH84kBYs7y      -0.0900 -36.5175    0.145  \n",
       "0Uyh92tLyb9JawG8lmWCzJ      -0.1632 -69.4675    0.027  \n",
       "3jDdpx9PMlfMBS5tOBHFm9      -0.1110 -36.8565    0.216  \n",
       "...                             ...      ...      ...  \n",
       "2sijD9pZmS9D9s8hmQkQk5      -0.1753   4.1165   -0.200  \n",
       "1ZFsgzYeQuF8IbQgmju5ap      -0.1800 -36.3425    0.186  \n",
       "2T9EwC9mQUjaNlVtKCFDwX      -0.1589  12.8035   -0.143  \n",
       "4k4mhm30I8pOn2k7O19pms      -0.1645 -52.3105    0.331  \n",
       "2D2ZV5FGcEpAfc2rEMxhV2      -0.1889 -37.0005    0.124  \n",
       "\n",
       "[360 rows x 11 columns]"
      ],
      "text/html": "<div>\n<style scoped>\n    .dataframe tbody tr th:only-of-type {\n        vertical-align: middle;\n    }\n\n    .dataframe tbody tr th {\n        vertical-align: top;\n    }\n\n    .dataframe thead th {\n        text-align: right;\n    }\n</style>\n<table border=\"1\" class=\"dataframe\">\n  <thead>\n    <tr style=\"text-align: right;\">\n      <th></th>\n      <th>acousticness</th>\n      <th>danceability</th>\n      <th>duration_ms</th>\n      <th>energy</th>\n      <th>instrumentalness</th>\n      <th>key</th>\n      <th>liveness</th>\n      <th>loudness</th>\n      <th>speechiness</th>\n      <th>tempo</th>\n      <th>valence</th>\n    </tr>\n    <tr>\n      <th>track_id</th>\n      <th></th>\n      <th></th>\n      <th></th>\n      <th></th>\n      <th></th>\n      <th></th>\n      <th></th>\n      <th></th>\n      <th></th>\n      <th></th>\n      <th></th>\n    </tr>\n  </thead>\n  <tbody>\n    <tr>\n      <th>2aIdVb8v9KTpEZnftkz2mD</th>\n      <td>-0.07350</td>\n      <td>-0.321</td>\n      <td>95491.5</td>\n      <td>0.0685</td>\n      <td>-0.000003</td>\n      <td>-3.0</td>\n      <td>-0.0503</td>\n      <td>1.539</td>\n      <td>0.0430</td>\n      <td>-52.3425</td>\n      <td>0.198</td>\n    </tr>\n    <tr>\n      <th>3yNVfRQlUPViUh8O2V9SQn</th>\n      <td>0.03570</td>\n      <td>0.090</td>\n      <td>105798.5</td>\n      <td>0.1815</td>\n      <td>-0.000003</td>\n      <td>-4.0</td>\n      <td>0.1940</td>\n      <td>0.672</td>\n      <td>-0.0090</td>\n      <td>-47.0355</td>\n      <td>0.441</td>\n    </tr>\n    <tr>\n      <th>6o2g1BJvtYQssH84kBYs7y</th>\n      <td>-0.06880</td>\n      <td>0.102</td>\n      <td>133131.5</td>\n      <td>0.2325</td>\n      <td>-0.000003</td>\n      <td>3.0</td>\n      <td>-0.0272</td>\n      <td>3.012</td>\n      <td>-0.0900</td>\n      <td>-36.5175</td>\n      <td>0.145</td>\n    </tr>\n    <tr>\n      <th>0Uyh92tLyb9JawG8lmWCzJ</th>\n      <td>0.23370</td>\n      <td>-0.210</td>\n      <td>133064.5</td>\n      <td>0.1125</td>\n      <td>-0.000003</td>\n      <td>-1.0</td>\n      <td>0.1870</td>\n      <td>5.098</td>\n      <td>-0.1632</td>\n      <td>-69.4675</td>\n      <td>0.027</td>\n    </tr>\n    <tr>\n      <th>3jDdpx9PMlfMBS5tOBHFm9</th>\n      <td>-0.07799</td>\n      <td>-0.057</td>\n      <td>80624.5</td>\n      <td>0.3515</td>\n      <td>-0.000003</td>\n      <td>-2.0</td>\n      <td>0.0400</td>\n      <td>4.297</td>\n      <td>-0.1110</td>\n      <td>-36.8565</td>\n      <td>0.216</td>\n    </tr>\n    <tr>\n      <th>...</th>\n      <td>...</td>\n      <td>...</td>\n      <td>...</td>\n      <td>...</td>\n      <td>...</td>\n      <td>...</td>\n      <td>...</td>\n      <td>...</td>\n      <td>...</td>\n      <td>...</td>\n      <td>...</td>\n    </tr>\n    <tr>\n      <th>2sijD9pZmS9D9s8hmQkQk5</th>\n      <td>0.71670</td>\n      <td>-0.153</td>\n      <td>68718.5</td>\n      <td>-0.0645</td>\n      <td>0.382997</td>\n      <td>1.0</td>\n      <td>0.0520</td>\n      <td>-0.757</td>\n      <td>-0.1753</td>\n      <td>4.1165</td>\n      <td>-0.200</td>\n    </tr>\n    <tr>\n      <th>1ZFsgzYeQuF8IbQgmju5ap</th>\n      <td>0.14970</td>\n      <td>-0.129</td>\n      <td>107584.5</td>\n      <td>0.2705</td>\n      <td>0.191997</td>\n      <td>-2.0</td>\n      <td>0.6970</td>\n      <td>3.140</td>\n      <td>-0.1800</td>\n      <td>-36.3425</td>\n      <td>0.186</td>\n    </tr>\n    <tr>\n      <th>2T9EwC9mQUjaNlVtKCFDwX</th>\n      <td>0.20070</td>\n      <td>-0.158</td>\n      <td>71531.5</td>\n      <td>0.0955</td>\n      <td>0.001617</td>\n      <td>1.0</td>\n      <td>0.8290</td>\n      <td>0.511</td>\n      <td>-0.1589</td>\n      <td>12.8035</td>\n      <td>-0.143</td>\n    </tr>\n    <tr>\n      <th>4k4mhm30I8pOn2k7O19pms</th>\n      <td>-0.07676</td>\n      <td>-0.098</td>\n      <td>3333.5</td>\n      <td>0.3145</td>\n      <td>0.000230</td>\n      <td>3.0</td>\n      <td>0.0320</td>\n      <td>3.440</td>\n      <td>-0.1645</td>\n      <td>-52.3105</td>\n      <td>0.331</td>\n    </tr>\n    <tr>\n      <th>2D2ZV5FGcEpAfc2rEMxhV2</th>\n      <td>0.08670</td>\n      <td>0.026</td>\n      <td>38956.5</td>\n      <td>0.1285</td>\n      <td>0.068797</td>\n      <td>0.0</td>\n      <td>-0.0190</td>\n      <td>4.693</td>\n      <td>-0.1889</td>\n      <td>-37.0005</td>\n      <td>0.124</td>\n    </tr>\n  </tbody>\n</table>\n<p>360 rows × 11 columns</p>\n</div>"
     },
     "metadata": {},
     "execution_count": 23
    }
   ],
   "source": [
    "# Subtract mean of the favourite plalyist from the top 3 playlist \n",
    "df1 = df.subtract(Y, axis='columns') \n",
    "df1"
   ]
  },
  {
   "cell_type": "code",
   "execution_count": 24,
   "metadata": {},
   "outputs": [
    {
     "output_type": "execute_result",
     "data": {
      "text/plain": [
       "                        acousticness  danceability  duration_ms    energy  \\\n",
       "track_id                                                                    \n",
       "2aIdVb8v9KTpEZnftkz2mD     -0.871886     -0.415803     0.720862  0.142264   \n",
       "3yNVfRQlUPViUh8O2V9SQn      0.423488      0.116580     0.798669  0.376947   \n",
       "6o2g1BJvtYQssH84kBYs7y     -0.816133      0.132124     1.005005  0.482866   \n",
       "0Uyh92tLyb9JawG8lmWCzJ      2.772242     -0.272021     1.004499  0.233645   \n",
       "3jDdpx9PMlfMBS5tOBHFm9     -0.925148     -0.073834     0.608631  0.730010   \n",
       "...                              ...           ...          ...       ...   \n",
       "2sijD9pZmS9D9s8hmQkQk5      8.501779     -0.198187     0.518754 -0.133956   \n",
       "1ZFsgzYeQuF8IbQgmju5ap      1.775801     -0.167098     0.812152  0.561786   \n",
       "2T9EwC9mQUjaNlVtKCFDwX      2.380783     -0.204663     0.539989  0.198339   \n",
       "4k4mhm30I8pOn2k7O19pms     -0.910558     -0.126943     0.025164  0.653167   \n",
       "2D2ZV5FGcEpAfc2rEMxhV2      1.028470      0.033679     0.294081  0.266874   \n",
       "\n",
       "                        instrumentalness   key  liveness  loudness  \\\n",
       "track_id                                                             \n",
       "2aIdVb8v9KTpEZnftkz2mD         -1.000000 -0.75 -0.405645 -0.159053   \n",
       "3yNVfRQlUPViUh8O2V9SQn         -1.000000 -1.00  1.564516 -0.069450   \n",
       "6o2g1BJvtYQssH84kBYs7y         -1.000000  0.75 -0.219355 -0.311286   \n",
       "0Uyh92tLyb9JawG8lmWCzJ         -1.000000 -0.25  1.508065 -0.526871   \n",
       "3jDdpx9PMlfMBS5tOBHFm9         -1.000000 -0.50  0.322581 -0.444088   \n",
       "...                                  ...   ...       ...       ...   \n",
       "2sijD9pZmS9D9s8hmQkQk5     137274.985663  0.25  0.419355  0.078235   \n",
       "1ZFsgzYeQuF8IbQgmju5ap      68816.204301 -0.50  5.620968 -0.324514   \n",
       "2T9EwC9mQUjaNlVtKCFDwX        579.645161  0.25  6.685484 -0.052811   \n",
       "4k4mhm30I8pOn2k7O19pms         82.512545  0.75  0.258065 -0.355519   \n",
       "2D2ZV5FGcEpAfc2rEMxhV2      24658.498208  0.00 -0.153226 -0.485014   \n",
       "\n",
       "                        speechiness     tempo   valence  \n",
       "track_id                                                 \n",
       "2aIdVb8v9KTpEZnftkz2mD     0.196347 -0.395505  0.500000  \n",
       "3yNVfRQlUPViUh8O2V9SQn    -0.041096 -0.355405  1.113636  \n",
       "6o2g1BJvtYQssH84kBYs7y    -0.410959 -0.275930  0.366162  \n",
       "0Uyh92tLyb9JawG8lmWCzJ    -0.745205 -0.524903  0.068182  \n",
       "3jDdpx9PMlfMBS5tOBHFm9    -0.506849 -0.278491  0.545455  \n",
       "...                             ...       ...       ...  \n",
       "2sijD9pZmS9D9s8hmQkQk5    -0.800457  0.031105 -0.505051  \n",
       "1ZFsgzYeQuF8IbQgmju5ap    -0.821918 -0.274607  0.469697  \n",
       "2T9EwC9mQUjaNlVtKCFDwX    -0.725571  0.096744 -0.361111  \n",
       "4k4mhm30I8pOn2k7O19pms    -0.751142 -0.395263  0.835859  \n",
       "2D2ZV5FGcEpAfc2rEMxhV2    -0.862557 -0.279579  0.313131  \n",
       "\n",
       "[360 rows x 11 columns]"
      ],
      "text/html": "<div>\n<style scoped>\n    .dataframe tbody tr th:only-of-type {\n        vertical-align: middle;\n    }\n\n    .dataframe tbody tr th {\n        vertical-align: top;\n    }\n\n    .dataframe thead th {\n        text-align: right;\n    }\n</style>\n<table border=\"1\" class=\"dataframe\">\n  <thead>\n    <tr style=\"text-align: right;\">\n      <th></th>\n      <th>acousticness</th>\n      <th>danceability</th>\n      <th>duration_ms</th>\n      <th>energy</th>\n      <th>instrumentalness</th>\n      <th>key</th>\n      <th>liveness</th>\n      <th>loudness</th>\n      <th>speechiness</th>\n      <th>tempo</th>\n      <th>valence</th>\n    </tr>\n    <tr>\n      <th>track_id</th>\n      <th></th>\n      <th></th>\n      <th></th>\n      <th></th>\n      <th></th>\n      <th></th>\n      <th></th>\n      <th></th>\n      <th></th>\n      <th></th>\n      <th></th>\n    </tr>\n  </thead>\n  <tbody>\n    <tr>\n      <th>2aIdVb8v9KTpEZnftkz2mD</th>\n      <td>-0.871886</td>\n      <td>-0.415803</td>\n      <td>0.720862</td>\n      <td>0.142264</td>\n      <td>-1.000000</td>\n      <td>-0.75</td>\n      <td>-0.405645</td>\n      <td>-0.159053</td>\n      <td>0.196347</td>\n      <td>-0.395505</td>\n      <td>0.500000</td>\n    </tr>\n    <tr>\n      <th>3yNVfRQlUPViUh8O2V9SQn</th>\n      <td>0.423488</td>\n      <td>0.116580</td>\n      <td>0.798669</td>\n      <td>0.376947</td>\n      <td>-1.000000</td>\n      <td>-1.00</td>\n      <td>1.564516</td>\n      <td>-0.069450</td>\n      <td>-0.041096</td>\n      <td>-0.355405</td>\n      <td>1.113636</td>\n    </tr>\n    <tr>\n      <th>6o2g1BJvtYQssH84kBYs7y</th>\n      <td>-0.816133</td>\n      <td>0.132124</td>\n      <td>1.005005</td>\n      <td>0.482866</td>\n      <td>-1.000000</td>\n      <td>0.75</td>\n      <td>-0.219355</td>\n      <td>-0.311286</td>\n      <td>-0.410959</td>\n      <td>-0.275930</td>\n      <td>0.366162</td>\n    </tr>\n    <tr>\n      <th>0Uyh92tLyb9JawG8lmWCzJ</th>\n      <td>2.772242</td>\n      <td>-0.272021</td>\n      <td>1.004499</td>\n      <td>0.233645</td>\n      <td>-1.000000</td>\n      <td>-0.25</td>\n      <td>1.508065</td>\n      <td>-0.526871</td>\n      <td>-0.745205</td>\n      <td>-0.524903</td>\n      <td>0.068182</td>\n    </tr>\n    <tr>\n      <th>3jDdpx9PMlfMBS5tOBHFm9</th>\n      <td>-0.925148</td>\n      <td>-0.073834</td>\n      <td>0.608631</td>\n      <td>0.730010</td>\n      <td>-1.000000</td>\n      <td>-0.50</td>\n      <td>0.322581</td>\n      <td>-0.444088</td>\n      <td>-0.506849</td>\n      <td>-0.278491</td>\n      <td>0.545455</td>\n    </tr>\n    <tr>\n      <th>...</th>\n      <td>...</td>\n      <td>...</td>\n      <td>...</td>\n      <td>...</td>\n      <td>...</td>\n      <td>...</td>\n      <td>...</td>\n      <td>...</td>\n      <td>...</td>\n      <td>...</td>\n      <td>...</td>\n    </tr>\n    <tr>\n      <th>2sijD9pZmS9D9s8hmQkQk5</th>\n      <td>8.501779</td>\n      <td>-0.198187</td>\n      <td>0.518754</td>\n      <td>-0.133956</td>\n      <td>137274.985663</td>\n      <td>0.25</td>\n      <td>0.419355</td>\n      <td>0.078235</td>\n      <td>-0.800457</td>\n      <td>0.031105</td>\n      <td>-0.505051</td>\n    </tr>\n    <tr>\n      <th>1ZFsgzYeQuF8IbQgmju5ap</th>\n      <td>1.775801</td>\n      <td>-0.167098</td>\n      <td>0.812152</td>\n      <td>0.561786</td>\n      <td>68816.204301</td>\n      <td>-0.50</td>\n      <td>5.620968</td>\n      <td>-0.324514</td>\n      <td>-0.821918</td>\n      <td>-0.274607</td>\n      <td>0.469697</td>\n    </tr>\n    <tr>\n      <th>2T9EwC9mQUjaNlVtKCFDwX</th>\n      <td>2.380783</td>\n      <td>-0.204663</td>\n      <td>0.539989</td>\n      <td>0.198339</td>\n      <td>579.645161</td>\n      <td>0.25</td>\n      <td>6.685484</td>\n      <td>-0.052811</td>\n      <td>-0.725571</td>\n      <td>0.096744</td>\n      <td>-0.361111</td>\n    </tr>\n    <tr>\n      <th>4k4mhm30I8pOn2k7O19pms</th>\n      <td>-0.910558</td>\n      <td>-0.126943</td>\n      <td>0.025164</td>\n      <td>0.653167</td>\n      <td>82.512545</td>\n      <td>0.75</td>\n      <td>0.258065</td>\n      <td>-0.355519</td>\n      <td>-0.751142</td>\n      <td>-0.395263</td>\n      <td>0.835859</td>\n    </tr>\n    <tr>\n      <th>2D2ZV5FGcEpAfc2rEMxhV2</th>\n      <td>1.028470</td>\n      <td>0.033679</td>\n      <td>0.294081</td>\n      <td>0.266874</td>\n      <td>24658.498208</td>\n      <td>0.00</td>\n      <td>-0.153226</td>\n      <td>-0.485014</td>\n      <td>-0.862557</td>\n      <td>-0.279579</td>\n      <td>0.313131</td>\n    </tr>\n  </tbody>\n</table>\n<p>360 rows × 11 columns</p>\n</div>"
     },
     "metadata": {},
     "execution_count": 24
    }
   ],
   "source": [
    "df1 = df1.divide(Y, axis='columns') \n",
    "df1"
   ]
  },
  {
   "cell_type": "code",
   "execution_count": 25,
   "metadata": {},
   "outputs": [
    {
     "output_type": "execute_result",
     "data": {
      "text/plain": [
       "                        acousticness  danceability  duration_ms    energy  \\\n",
       "track_id                                                                    \n",
       "2aIdVb8v9KTpEZnftkz2mD     -0.871886     -0.415803     0.720862  0.142264   \n",
       "3yNVfRQlUPViUh8O2V9SQn      0.423488      0.116580     0.798669  0.376947   \n",
       "6o2g1BJvtYQssH84kBYs7y     -0.816133      0.132124     1.005005  0.482866   \n",
       "0Uyh92tLyb9JawG8lmWCzJ      2.772242     -0.272021     1.004499  0.233645   \n",
       "3jDdpx9PMlfMBS5tOBHFm9     -0.925148     -0.073834     0.608631  0.730010   \n",
       "...                              ...           ...          ...       ...   \n",
       "2sijD9pZmS9D9s8hmQkQk5      8.501779     -0.198187     0.518754 -0.133956   \n",
       "1ZFsgzYeQuF8IbQgmju5ap      1.775801     -0.167098     0.812152  0.561786   \n",
       "2T9EwC9mQUjaNlVtKCFDwX      2.380783     -0.204663     0.539989  0.198339   \n",
       "4k4mhm30I8pOn2k7O19pms     -0.910558     -0.126943     0.025164  0.653167   \n",
       "2D2ZV5FGcEpAfc2rEMxhV2      1.028470      0.033679     0.294081  0.266874   \n",
       "\n",
       "                        instrumentalness   key  liveness  loudness  \\\n",
       "track_id                                                             \n",
       "2aIdVb8v9KTpEZnftkz2mD         -1.000000 -0.75 -0.405645 -0.159053   \n",
       "3yNVfRQlUPViUh8O2V9SQn         -1.000000 -1.00  1.564516 -0.069450   \n",
       "6o2g1BJvtYQssH84kBYs7y         -1.000000  0.75 -0.219355 -0.311286   \n",
       "0Uyh92tLyb9JawG8lmWCzJ         -1.000000 -0.25  1.508065 -0.526871   \n",
       "3jDdpx9PMlfMBS5tOBHFm9         -1.000000 -0.50  0.322581 -0.444088   \n",
       "...                                  ...   ...       ...       ...   \n",
       "2sijD9pZmS9D9s8hmQkQk5     137274.985663  0.25  0.419355  0.078235   \n",
       "1ZFsgzYeQuF8IbQgmju5ap      68816.204301 -0.50  5.620968 -0.324514   \n",
       "2T9EwC9mQUjaNlVtKCFDwX        579.645161  0.25  6.685484 -0.052811   \n",
       "4k4mhm30I8pOn2k7O19pms         82.512545  0.75  0.258065 -0.355519   \n",
       "2D2ZV5FGcEpAfc2rEMxhV2      24658.498208  0.00 -0.153226 -0.485014   \n",
       "\n",
       "                        speechiness     tempo   valence      variation  \n",
       "track_id                                                                \n",
       "2aIdVb8v9KTpEZnftkz2mD     0.196347 -0.395505  0.500000       2.438420  \n",
       "3yNVfRQlUPViUh8O2V9SQn    -0.041096 -0.355405  1.113636       1.927886  \n",
       "6o2g1BJvtYQssH84kBYs7y    -0.410959 -0.275930  0.366162       0.297505  \n",
       "0Uyh92tLyb9JawG8lmWCzJ    -0.745205 -0.524903  0.068182       2.267633  \n",
       "3jDdpx9PMlfMBS5tOBHFm9    -0.506849 -0.278491  0.545455       1.521734  \n",
       "...                             ...       ...       ...            ...  \n",
       "2sijD9pZmS9D9s8hmQkQk5    -0.800457  0.031105 -0.505051  137283.147240  \n",
       "1ZFsgzYeQuF8IbQgmju5ap    -0.821918 -0.274607  0.469697   68823.356566  \n",
       "2T9EwC9mQUjaNlVtKCFDwX    -0.725571  0.096744 -0.361111     588.452344  \n",
       "4k4mhm30I8pOn2k7O19pms    -0.751142 -0.395263  0.835859      82.495376  \n",
       "2D2ZV5FGcEpAfc2rEMxhV2    -0.862557 -0.279579  0.313131   24658.654067  \n",
       "\n",
       "[360 rows x 12 columns]"
      ],
      "text/html": "<div>\n<style scoped>\n    .dataframe tbody tr th:only-of-type {\n        vertical-align: middle;\n    }\n\n    .dataframe tbody tr th {\n        vertical-align: top;\n    }\n\n    .dataframe thead th {\n        text-align: right;\n    }\n</style>\n<table border=\"1\" class=\"dataframe\">\n  <thead>\n    <tr style=\"text-align: right;\">\n      <th></th>\n      <th>acousticness</th>\n      <th>danceability</th>\n      <th>duration_ms</th>\n      <th>energy</th>\n      <th>instrumentalness</th>\n      <th>key</th>\n      <th>liveness</th>\n      <th>loudness</th>\n      <th>speechiness</th>\n      <th>tempo</th>\n      <th>valence</th>\n      <th>variation</th>\n    </tr>\n    <tr>\n      <th>track_id</th>\n      <th></th>\n      <th></th>\n      <th></th>\n      <th></th>\n      <th></th>\n      <th></th>\n      <th></th>\n      <th></th>\n      <th></th>\n      <th></th>\n      <th></th>\n      <th></th>\n    </tr>\n  </thead>\n  <tbody>\n    <tr>\n      <th>2aIdVb8v9KTpEZnftkz2mD</th>\n      <td>-0.871886</td>\n      <td>-0.415803</td>\n      <td>0.720862</td>\n      <td>0.142264</td>\n      <td>-1.000000</td>\n      <td>-0.75</td>\n      <td>-0.405645</td>\n      <td>-0.159053</td>\n      <td>0.196347</td>\n      <td>-0.395505</td>\n      <td>0.500000</td>\n      <td>2.438420</td>\n    </tr>\n    <tr>\n      <th>3yNVfRQlUPViUh8O2V9SQn</th>\n      <td>0.423488</td>\n      <td>0.116580</td>\n      <td>0.798669</td>\n      <td>0.376947</td>\n      <td>-1.000000</td>\n      <td>-1.00</td>\n      <td>1.564516</td>\n      <td>-0.069450</td>\n      <td>-0.041096</td>\n      <td>-0.355405</td>\n      <td>1.113636</td>\n      <td>1.927886</td>\n    </tr>\n    <tr>\n      <th>6o2g1BJvtYQssH84kBYs7y</th>\n      <td>-0.816133</td>\n      <td>0.132124</td>\n      <td>1.005005</td>\n      <td>0.482866</td>\n      <td>-1.000000</td>\n      <td>0.75</td>\n      <td>-0.219355</td>\n      <td>-0.311286</td>\n      <td>-0.410959</td>\n      <td>-0.275930</td>\n      <td>0.366162</td>\n      <td>0.297505</td>\n    </tr>\n    <tr>\n      <th>0Uyh92tLyb9JawG8lmWCzJ</th>\n      <td>2.772242</td>\n      <td>-0.272021</td>\n      <td>1.004499</td>\n      <td>0.233645</td>\n      <td>-1.000000</td>\n      <td>-0.25</td>\n      <td>1.508065</td>\n      <td>-0.526871</td>\n      <td>-0.745205</td>\n      <td>-0.524903</td>\n      <td>0.068182</td>\n      <td>2.267633</td>\n    </tr>\n    <tr>\n      <th>3jDdpx9PMlfMBS5tOBHFm9</th>\n      <td>-0.925148</td>\n      <td>-0.073834</td>\n      <td>0.608631</td>\n      <td>0.730010</td>\n      <td>-1.000000</td>\n      <td>-0.50</td>\n      <td>0.322581</td>\n      <td>-0.444088</td>\n      <td>-0.506849</td>\n      <td>-0.278491</td>\n      <td>0.545455</td>\n      <td>1.521734</td>\n    </tr>\n    <tr>\n      <th>...</th>\n      <td>...</td>\n      <td>...</td>\n      <td>...</td>\n      <td>...</td>\n      <td>...</td>\n      <td>...</td>\n      <td>...</td>\n      <td>...</td>\n      <td>...</td>\n      <td>...</td>\n      <td>...</td>\n      <td>...</td>\n    </tr>\n    <tr>\n      <th>2sijD9pZmS9D9s8hmQkQk5</th>\n      <td>8.501779</td>\n      <td>-0.198187</td>\n      <td>0.518754</td>\n      <td>-0.133956</td>\n      <td>137274.985663</td>\n      <td>0.25</td>\n      <td>0.419355</td>\n      <td>0.078235</td>\n      <td>-0.800457</td>\n      <td>0.031105</td>\n      <td>-0.505051</td>\n      <td>137283.147240</td>\n    </tr>\n    <tr>\n      <th>1ZFsgzYeQuF8IbQgmju5ap</th>\n      <td>1.775801</td>\n      <td>-0.167098</td>\n      <td>0.812152</td>\n      <td>0.561786</td>\n      <td>68816.204301</td>\n      <td>-0.50</td>\n      <td>5.620968</td>\n      <td>-0.324514</td>\n      <td>-0.821918</td>\n      <td>-0.274607</td>\n      <td>0.469697</td>\n      <td>68823.356566</td>\n    </tr>\n    <tr>\n      <th>2T9EwC9mQUjaNlVtKCFDwX</th>\n      <td>2.380783</td>\n      <td>-0.204663</td>\n      <td>0.539989</td>\n      <td>0.198339</td>\n      <td>579.645161</td>\n      <td>0.25</td>\n      <td>6.685484</td>\n      <td>-0.052811</td>\n      <td>-0.725571</td>\n      <td>0.096744</td>\n      <td>-0.361111</td>\n      <td>588.452344</td>\n    </tr>\n    <tr>\n      <th>4k4mhm30I8pOn2k7O19pms</th>\n      <td>-0.910558</td>\n      <td>-0.126943</td>\n      <td>0.025164</td>\n      <td>0.653167</td>\n      <td>82.512545</td>\n      <td>0.75</td>\n      <td>0.258065</td>\n      <td>-0.355519</td>\n      <td>-0.751142</td>\n      <td>-0.395263</td>\n      <td>0.835859</td>\n      <td>82.495376</td>\n    </tr>\n    <tr>\n      <th>2D2ZV5FGcEpAfc2rEMxhV2</th>\n      <td>1.028470</td>\n      <td>0.033679</td>\n      <td>0.294081</td>\n      <td>0.266874</td>\n      <td>24658.498208</td>\n      <td>0.00</td>\n      <td>-0.153226</td>\n      <td>-0.485014</td>\n      <td>-0.862557</td>\n      <td>-0.279579</td>\n      <td>0.313131</td>\n      <td>24658.654067</td>\n    </tr>\n  </tbody>\n</table>\n<p>360 rows × 12 columns</p>\n</div>"
     },
     "metadata": {},
     "execution_count": 25
    }
   ],
   "source": [
    "# Add all the score \n",
    "df1['variation'] = df1.sum(axis=1)\n",
    "# take the absoulte of the variatio\n",
    "df1['variation'] = df1['variation'].abs()\n",
    "df1"
   ]
  },
  {
   "cell_type": "code",
   "execution_count": 26,
   "metadata": {},
   "outputs": [
    {
     "output_type": "execute_result",
     "data": {
      "text/plain": [
       "                        acousticness  danceability  duration_ms    energy  \\\n",
       "track_id                                                                    \n",
       "1Cv1YLb4q0RzL6pybtaMLo      1.170819      0.137306     0.197047  0.090343   \n",
       "1xTrwHzhHuNb5URVfuBp0f     -0.485172     -0.123057     0.588310  0.308411   \n",
       "74DrA5fFoGSy4xgkZarZtP      1.894425     -0.655440     0.933841 -0.192108   \n",
       "3eekarcy7kvN4yt5ZFzltW     -0.352313     -0.225389     0.326512 -0.113188   \n",
       "1HwpWwa6bnqqRhK8agG4RS     -0.099644     -0.145078     0.617192  0.383178   \n",
       "\n",
       "                        instrumentalness   key  liveness  loudness  \\\n",
       "track_id                                                             \n",
       "1Cv1YLb4q0RzL6pybtaMLo         -1.000000  0.25 -0.424194 -0.293923   \n",
       "1xTrwHzhHuNb5URVfuBp0f         -1.000000  0.00  0.895161 -0.236358   \n",
       "74DrA5fFoGSy4xgkZarZtP         -0.491039  0.00 -0.445161  0.414014   \n",
       "3eekarcy7kvN4yt5ZFzltW          1.089606  0.75  0.693548 -0.094254   \n",
       "1HwpWwa6bnqqRhK8agG4RS         -1.000000  1.25 -0.783871 -0.551261   \n",
       "\n",
       "                        speechiness     tempo   valence  variation  \n",
       "track_id                                                            \n",
       "1Cv1YLb4q0RzL6pybtaMLo    -0.736073 -0.153551  0.752525   0.009702  \n",
       "1xTrwHzhHuNb5URVfuBp0f    -0.479452 -0.244277  0.752525   0.023909  \n",
       "74DrA5fFoGSy4xgkZarZtP    -0.860731  0.059689 -0.626263   0.031227  \n",
       "3eekarcy7kvN4yt5ZFzltW    -0.855251 -0.422193 -0.847222   0.050144  \n",
       "1HwpWwa6bnqqRhK8agG4RS    -0.784475 -0.320140  1.356061   0.078039  "
      ],
      "text/html": "<div>\n<style scoped>\n    .dataframe tbody tr th:only-of-type {\n        vertical-align: middle;\n    }\n\n    .dataframe tbody tr th {\n        vertical-align: top;\n    }\n\n    .dataframe thead th {\n        text-align: right;\n    }\n</style>\n<table border=\"1\" class=\"dataframe\">\n  <thead>\n    <tr style=\"text-align: right;\">\n      <th></th>\n      <th>acousticness</th>\n      <th>danceability</th>\n      <th>duration_ms</th>\n      <th>energy</th>\n      <th>instrumentalness</th>\n      <th>key</th>\n      <th>liveness</th>\n      <th>loudness</th>\n      <th>speechiness</th>\n      <th>tempo</th>\n      <th>valence</th>\n      <th>variation</th>\n    </tr>\n    <tr>\n      <th>track_id</th>\n      <th></th>\n      <th></th>\n      <th></th>\n      <th></th>\n      <th></th>\n      <th></th>\n      <th></th>\n      <th></th>\n      <th></th>\n      <th></th>\n      <th></th>\n      <th></th>\n    </tr>\n  </thead>\n  <tbody>\n    <tr>\n      <th>1Cv1YLb4q0RzL6pybtaMLo</th>\n      <td>1.170819</td>\n      <td>0.137306</td>\n      <td>0.197047</td>\n      <td>0.090343</td>\n      <td>-1.000000</td>\n      <td>0.25</td>\n      <td>-0.424194</td>\n      <td>-0.293923</td>\n      <td>-0.736073</td>\n      <td>-0.153551</td>\n      <td>0.752525</td>\n      <td>0.009702</td>\n    </tr>\n    <tr>\n      <th>1xTrwHzhHuNb5URVfuBp0f</th>\n      <td>-0.485172</td>\n      <td>-0.123057</td>\n      <td>0.588310</td>\n      <td>0.308411</td>\n      <td>-1.000000</td>\n      <td>0.00</td>\n      <td>0.895161</td>\n      <td>-0.236358</td>\n      <td>-0.479452</td>\n      <td>-0.244277</td>\n      <td>0.752525</td>\n      <td>0.023909</td>\n    </tr>\n    <tr>\n      <th>74DrA5fFoGSy4xgkZarZtP</th>\n      <td>1.894425</td>\n      <td>-0.655440</td>\n      <td>0.933841</td>\n      <td>-0.192108</td>\n      <td>-0.491039</td>\n      <td>0.00</td>\n      <td>-0.445161</td>\n      <td>0.414014</td>\n      <td>-0.860731</td>\n      <td>0.059689</td>\n      <td>-0.626263</td>\n      <td>0.031227</td>\n    </tr>\n    <tr>\n      <th>3eekarcy7kvN4yt5ZFzltW</th>\n      <td>-0.352313</td>\n      <td>-0.225389</td>\n      <td>0.326512</td>\n      <td>-0.113188</td>\n      <td>1.089606</td>\n      <td>0.75</td>\n      <td>0.693548</td>\n      <td>-0.094254</td>\n      <td>-0.855251</td>\n      <td>-0.422193</td>\n      <td>-0.847222</td>\n      <td>0.050144</td>\n    </tr>\n    <tr>\n      <th>1HwpWwa6bnqqRhK8agG4RS</th>\n      <td>-0.099644</td>\n      <td>-0.145078</td>\n      <td>0.617192</td>\n      <td>0.383178</td>\n      <td>-1.000000</td>\n      <td>1.25</td>\n      <td>-0.783871</td>\n      <td>-0.551261</td>\n      <td>-0.784475</td>\n      <td>-0.320140</td>\n      <td>1.356061</td>\n      <td>0.078039</td>\n    </tr>\n  </tbody>\n</table>\n</div>"
     },
     "metadata": {},
     "execution_count": 26
    }
   ],
   "source": [
    "# Now we have the variation, we will take the songs with the least variation \n",
    "df2 = df1.nsmallest(50,'variation')\n",
    "df2.head()"
   ]
  },
  {
   "cell_type": "code",
   "execution_count": 27,
   "metadata": {},
   "outputs": [],
   "source": [
    "def create_playlist(sp, username, playlist_name, playlist_description):\n",
    "    playlists = sp.user_playlist_create(username, playlist_name, description = playlist_description)"
   ]
  },
  {
   "cell_type": "code",
   "execution_count": 28,
   "metadata": {},
   "outputs": [],
   "source": [
    "create_playlist(sp, username, 'Your New Jams', 'This playlist was created using python!')"
   ]
  },
  {
   "cell_type": "code",
   "execution_count": 29,
   "metadata": {},
   "outputs": [],
   "source": [
    "def fetch_playlists(sp, username):\n",
    "    \"\"\"\n",
    "    Returns the user's playlists.\n",
    "    \"\"\"\n",
    "        \n",
    "    id = []\n",
    "    name = []\n",
    "    num_tracks = []\n",
    "    \n",
    "    # Make the API request\n",
    "    playlists = sp.user_playlists(username)\n",
    "    for playlist in playlists['items']:\n",
    "        id.append(playlist['id'])\n",
    "        name.append(playlist['name'])\n",
    "        num_tracks.append(playlist['tracks']['total'])\n",
    "\n",
    "    # Create the final df   \n",
    "    df_playlists = pd.DataFrame({\"id\":id, \"name\": name, \"#tracks\": num_tracks})\n",
    "    return df_playlists"
   ]
  },
  {
   "cell_type": "code",
   "execution_count": 30,
   "metadata": {},
   "outputs": [
    {
     "output_type": "execute_result",
     "data": {
      "text/plain": [
       "                       id           name  #tracks\n",
       "0  3zdUVBgr30KKu1lFPimbRQ  Your New Jams        0\n",
       "1  4OqhYtuar9Zcjj4djxIHMo         GOSPEL       34\n",
       "2  3ALg99PJwQoQTZUgVOxZCr          LUCKI       38\n",
       "3  4STXJNA3A9Hkz7soJiPz4s     POSITIVITY       77\n",
       "4  1paxyb8f2gQW3ibSwMVend   AMATERASU 😈🔥      150"
      ],
      "text/html": "<div>\n<style scoped>\n    .dataframe tbody tr th:only-of-type {\n        vertical-align: middle;\n    }\n\n    .dataframe tbody tr th {\n        vertical-align: top;\n    }\n\n    .dataframe thead th {\n        text-align: right;\n    }\n</style>\n<table border=\"1\" class=\"dataframe\">\n  <thead>\n    <tr style=\"text-align: right;\">\n      <th></th>\n      <th>id</th>\n      <th>name</th>\n      <th>#tracks</th>\n    </tr>\n  </thead>\n  <tbody>\n    <tr>\n      <th>0</th>\n      <td>3zdUVBgr30KKu1lFPimbRQ</td>\n      <td>Your New Jams</td>\n      <td>0</td>\n    </tr>\n    <tr>\n      <th>1</th>\n      <td>4OqhYtuar9Zcjj4djxIHMo</td>\n      <td>GOSPEL</td>\n      <td>34</td>\n    </tr>\n    <tr>\n      <th>2</th>\n      <td>3ALg99PJwQoQTZUgVOxZCr</td>\n      <td>LUCKI</td>\n      <td>38</td>\n    </tr>\n    <tr>\n      <th>3</th>\n      <td>4STXJNA3A9Hkz7soJiPz4s</td>\n      <td>POSITIVITY</td>\n      <td>77</td>\n    </tr>\n    <tr>\n      <th>4</th>\n      <td>1paxyb8f2gQW3ibSwMVend</td>\n      <td>AMATERASU 😈🔥</td>\n      <td>150</td>\n    </tr>\n  </tbody>\n</table>\n</div>"
     },
     "metadata": {},
     "execution_count": 30
    }
   ],
   "source": [
    "fetch_playlists(sp,username).head()"
   ]
  },
  {
   "cell_type": "code",
   "execution_count": 31,
   "metadata": {},
   "outputs": [],
   "source": [
    "playlist_id = fetch_playlists(sp,username)['id'][0]"
   ]
  },
  {
   "cell_type": "code",
   "execution_count": 32,
   "metadata": {},
   "outputs": [],
   "source": [
    "def enrich_playlist(sp, username, playlist_id, playlist_tracks):\n",
    "    index = 0\n",
    "    results = []\n",
    "    \n",
    "    while index < len(playlist_tracks):\n",
    "        results += sp.user_playlist_add_tracks(username, playlist_id, tracks = playlist_tracks[index:index + 50])\n",
    "        index += 50"
   ]
  },
  {
   "cell_type": "code",
   "execution_count": 33,
   "metadata": {},
   "outputs": [
    {
     "output_type": "execute_result",
     "data": {
      "text/plain": [
       "                       id           name  #tracks\n",
       "0  3zdUVBgr30KKu1lFPimbRQ  Your New Jams       50\n",
       "1  4OqhYtuar9Zcjj4djxIHMo         GOSPEL       34\n",
       "2  3ALg99PJwQoQTZUgVOxZCr          LUCKI       38\n",
       "3  4STXJNA3A9Hkz7soJiPz4s     POSITIVITY       77\n",
       "4  1paxyb8f2gQW3ibSwMVend   AMATERASU 😈🔥      150"
      ],
      "text/html": "<div>\n<style scoped>\n    .dataframe tbody tr th:only-of-type {\n        vertical-align: middle;\n    }\n\n    .dataframe tbody tr th {\n        vertical-align: top;\n    }\n\n    .dataframe thead th {\n        text-align: right;\n    }\n</style>\n<table border=\"1\" class=\"dataframe\">\n  <thead>\n    <tr style=\"text-align: right;\">\n      <th></th>\n      <th>id</th>\n      <th>name</th>\n      <th>#tracks</th>\n    </tr>\n  </thead>\n  <tbody>\n    <tr>\n      <th>0</th>\n      <td>3zdUVBgr30KKu1lFPimbRQ</td>\n      <td>Your New Jams</td>\n      <td>50</td>\n    </tr>\n    <tr>\n      <th>1</th>\n      <td>4OqhYtuar9Zcjj4djxIHMo</td>\n      <td>GOSPEL</td>\n      <td>34</td>\n    </tr>\n    <tr>\n      <th>2</th>\n      <td>3ALg99PJwQoQTZUgVOxZCr</td>\n      <td>LUCKI</td>\n      <td>38</td>\n    </tr>\n    <tr>\n      <th>3</th>\n      <td>4STXJNA3A9Hkz7soJiPz4s</td>\n      <td>POSITIVITY</td>\n      <td>77</td>\n    </tr>\n    <tr>\n      <th>4</th>\n      <td>1paxyb8f2gQW3ibSwMVend</td>\n      <td>AMATERASU 😈🔥</td>\n      <td>150</td>\n    </tr>\n  </tbody>\n</table>\n</div>"
     },
     "metadata": {},
     "execution_count": 33
    }
   ],
   "source": [
    "list_track = df2.index\n",
    "enrich_playlist(sp, username, playlist_id, list_track)\n",
    "fetch_playlists(sp,username).head()"
   ]
  }
 ]
}