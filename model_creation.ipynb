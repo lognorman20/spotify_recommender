{
 "metadata": {
  "language_info": {
   "codemirror_mode": {
    "name": "ipython",
    "version": 3
   },
   "file_extension": ".py",
   "mimetype": "text/x-python",
   "name": "python",
   "nbconvert_exporter": "python",
   "pygments_lexer": "ipython3",
   "version": "3.9.2-final"
  },
  "orig_nbformat": 2,
  "kernelspec": {
   "name": "python3",
   "display_name": "Python 3.9.2 64-bit ('spotify_recommender': conda)",
   "metadata": {
    "interpreter": {
     "hash": "2fce50c966ce3004344c1d0428fb8658cb2ec3c9dafd73e971076d9a0c6eeeea"
    }
   }
  }
 },
 "nbformat": 4,
 "nbformat_minor": 2,
 "cells": [
  {
   "cell_type": "code",
   "execution_count": 1,
   "metadata": {},
   "outputs": [],
   "source": [
    "import pandas as pd\n",
    "import numpy as np\n",
    "import seaborn as sns\n",
    "import matplotlib.pyplot as plt\n",
    "import matplotlib.ticker as plticker\n",
    "from imblearn.over_sampling import SMOTE\n",
    "%matplotlib inline"
   ]
  },
  {
   "cell_type": "code",
   "execution_count": 2,
   "metadata": {},
   "outputs": [],
   "source": [
    "# Importing playlist dataframes\n",
    "df = pd.read_csv('data/encoded_playlist_songs.csv')\n",
    "df_fav = pd.read_csv('data/favorite_songs.csv')"
   ]
  },
  {
   "cell_type": "code",
   "execution_count": 3,
   "metadata": {},
   "outputs": [
    {
     "output_type": "stream",
     "name": "stdout",
     "text": [
      "<class 'pandas.core.frame.DataFrame'>\nRangeIndex: 9769 entries, 0 to 9768\nData columns (total 17 columns):\n #   Column            Non-Null Count  Dtype  \n---  ------            --------------  -----  \n 0   track_id          9769 non-null   object \n 1   name              9769 non-null   int64  \n 2   album             9769 non-null   int64  \n 3   artist            9769 non-null   int64  \n 4   release_date      9769 non-null   int64  \n 5   length            9769 non-null   int64  \n 6   popularity        9769 non-null   int64  \n 7   danceability      9769 non-null   float64\n 8   acousticness      9769 non-null   float64\n 9   energy            9769 non-null   float64\n 10  instrumentalness  9769 non-null   float64\n 11  liveness          9769 non-null   float64\n 12  loudness          9769 non-null   float64\n 13  speechiness       9769 non-null   float64\n 14  tempo             9769 non-null   float64\n 15  time_signature    9769 non-null   int64  \n 16  favorite          9769 non-null   int64  \ndtypes: float64(8), int64(8), object(1)\nmemory usage: 1.3+ MB\n"
     ]
    }
   ],
   "source": [
    "df.info()"
   ]
  },
  {
   "cell_type": "code",
   "execution_count": 4,
   "metadata": {},
   "outputs": [
    {
     "output_type": "stream",
     "name": "stdout",
     "text": [
      "<class 'pandas.core.frame.DataFrame'>\nRangeIndex: 50 entries, 0 to 49\nData columns (total 17 columns):\n #   Column            Non-Null Count  Dtype  \n---  ------            --------------  -----  \n 0   track_id          50 non-null     object \n 1   name              50 non-null     int64  \n 2   album             50 non-null     int64  \n 3   artist            50 non-null     int64  \n 4   release_date      50 non-null     int64  \n 5   length            50 non-null     int64  \n 6   popularity        50 non-null     int64  \n 7   danceability      50 non-null     float64\n 8   acousticness      50 non-null     float64\n 9   energy            50 non-null     float64\n 10  instrumentalness  50 non-null     float64\n 11  liveness          50 non-null     float64\n 12  loudness          50 non-null     float64\n 13  speechiness       50 non-null     float64\n 14  tempo             50 non-null     float64\n 15  time_signature    50 non-null     int64  \n 16  favorite          50 non-null     int64  \ndtypes: float64(8), int64(8), object(1)\nmemory usage: 6.8+ KB\n"
     ]
    }
   ],
   "source": [
    "df_fav.info()"
   ]
  },
  {
   "source": [
    "### Preparing data for model"
   ],
   "cell_type": "markdown",
   "metadata": {}
  },
  {
   "cell_type": "code",
   "execution_count": 5,
   "metadata": {},
   "outputs": [
    {
     "output_type": "execute_result",
     "data": {
      "text/plain": [
       "(9819, 17)"
      ]
     },
     "metadata": {},
     "execution_count": 5
    }
   ],
   "source": [
    "# Remove song name, artist, album\n",
    "df = pd.concat([df, df_fav], axis=0)\n",
    "df.shape"
   ]
  },
  {
   "cell_type": "code",
   "execution_count": 6,
   "metadata": {},
   "outputs": [
    {
     "output_type": "execute_result",
     "data": {
      "text/plain": [
       "                 track_id  name  album  artist  release_date  length  \\\n",
       "0  7MAibcTli4IisCtbHKrGMh  4008   3340     581          2524  242096   \n",
       "1  5QO79kh1waicV47BqGRL3g  6038    212    3746          2293  215626   \n",
       "2  1diS6nkxMQc3wwC4G1j0bh  8118   2222    1091          2505  165506   \n",
       "3  4u4NyuceXP7Uzh7XFJKCr1  3096   2743    1917          2524  170813   \n",
       "4  3Ofmpyhv5UAQ70mENzB277   542    433    2439          2478  132780   \n",
       "\n",
       "   popularity  danceability  acousticness  energy  instrumentalness  liveness  \\\n",
       "0          90         0.586        0.1820   0.616          0.000000    0.0927   \n",
       "1          97         0.680        0.0212   0.826          0.000012    0.5430   \n",
       "2          88         0.722        0.0319   0.588          0.000000    0.1830   \n",
       "3          89         0.658        0.0106   0.634          0.000000    0.1320   \n",
       "4          94         0.778        0.1750   0.695          0.000000    0.1500   \n",
       "\n",
       "   loudness  speechiness    tempo  time_signature  favorite  \n",
       "0    -7.964       0.0324  148.088               4         0  \n",
       "1    -5.487       0.0309  118.051               4         0  \n",
       "2    -5.932       0.0544  134.010               4         0  \n",
       "3    -5.797       0.0413  139.980               4         0  \n",
       "4    -6.865       0.0913  149.996               4         0  "
      ],
      "text/html": "<div>\n<style scoped>\n    .dataframe tbody tr th:only-of-type {\n        vertical-align: middle;\n    }\n\n    .dataframe tbody tr th {\n        vertical-align: top;\n    }\n\n    .dataframe thead th {\n        text-align: right;\n    }\n</style>\n<table border=\"1\" class=\"dataframe\">\n  <thead>\n    <tr style=\"text-align: right;\">\n      <th></th>\n      <th>track_id</th>\n      <th>name</th>\n      <th>album</th>\n      <th>artist</th>\n      <th>release_date</th>\n      <th>length</th>\n      <th>popularity</th>\n      <th>danceability</th>\n      <th>acousticness</th>\n      <th>energy</th>\n      <th>instrumentalness</th>\n      <th>liveness</th>\n      <th>loudness</th>\n      <th>speechiness</th>\n      <th>tempo</th>\n      <th>time_signature</th>\n      <th>favorite</th>\n    </tr>\n  </thead>\n  <tbody>\n    <tr>\n      <th>0</th>\n      <td>7MAibcTli4IisCtbHKrGMh</td>\n      <td>4008</td>\n      <td>3340</td>\n      <td>581</td>\n      <td>2524</td>\n      <td>242096</td>\n      <td>90</td>\n      <td>0.586</td>\n      <td>0.1820</td>\n      <td>0.616</td>\n      <td>0.000000</td>\n      <td>0.0927</td>\n      <td>-7.964</td>\n      <td>0.0324</td>\n      <td>148.088</td>\n      <td>4</td>\n      <td>0</td>\n    </tr>\n    <tr>\n      <th>1</th>\n      <td>5QO79kh1waicV47BqGRL3g</td>\n      <td>6038</td>\n      <td>212</td>\n      <td>3746</td>\n      <td>2293</td>\n      <td>215626</td>\n      <td>97</td>\n      <td>0.680</td>\n      <td>0.0212</td>\n      <td>0.826</td>\n      <td>0.000012</td>\n      <td>0.5430</td>\n      <td>-5.487</td>\n      <td>0.0309</td>\n      <td>118.051</td>\n      <td>4</td>\n      <td>0</td>\n    </tr>\n    <tr>\n      <th>2</th>\n      <td>1diS6nkxMQc3wwC4G1j0bh</td>\n      <td>8118</td>\n      <td>2222</td>\n      <td>1091</td>\n      <td>2505</td>\n      <td>165506</td>\n      <td>88</td>\n      <td>0.722</td>\n      <td>0.0319</td>\n      <td>0.588</td>\n      <td>0.000000</td>\n      <td>0.1830</td>\n      <td>-5.932</td>\n      <td>0.0544</td>\n      <td>134.010</td>\n      <td>4</td>\n      <td>0</td>\n    </tr>\n    <tr>\n      <th>3</th>\n      <td>4u4NyuceXP7Uzh7XFJKCr1</td>\n      <td>3096</td>\n      <td>2743</td>\n      <td>1917</td>\n      <td>2524</td>\n      <td>170813</td>\n      <td>89</td>\n      <td>0.658</td>\n      <td>0.0106</td>\n      <td>0.634</td>\n      <td>0.000000</td>\n      <td>0.1320</td>\n      <td>-5.797</td>\n      <td>0.0413</td>\n      <td>139.980</td>\n      <td>4</td>\n      <td>0</td>\n    </tr>\n    <tr>\n      <th>4</th>\n      <td>3Ofmpyhv5UAQ70mENzB277</td>\n      <td>542</td>\n      <td>433</td>\n      <td>2439</td>\n      <td>2478</td>\n      <td>132780</td>\n      <td>94</td>\n      <td>0.778</td>\n      <td>0.1750</td>\n      <td>0.695</td>\n      <td>0.000000</td>\n      <td>0.1500</td>\n      <td>-6.865</td>\n      <td>0.0913</td>\n      <td>149.996</td>\n      <td>4</td>\n      <td>0</td>\n    </tr>\n  </tbody>\n</table>\n</div>"
     },
     "metadata": {},
     "execution_count": 6
    }
   ],
   "source": [
    "df.head()"
   ]
  },
  {
   "cell_type": "code",
   "execution_count": null,
   "metadata": {},
   "outputs": [],
   "source": []
  },
  {
   "cell_type": "code",
   "execution_count": 7,
   "metadata": {},
   "outputs": [
    {
     "output_type": "execute_result",
     "data": {
      "text/plain": [
       "0    9769\n",
       "1      50\n",
       "Name: favorite, dtype: int64"
      ]
     },
     "metadata": {},
     "execution_count": 7
    }
   ],
   "source": [
    "df['favorite'].value_counts()"
   ]
  },
  {
   "source": [
    "### Data Prep Contd, Model Selection & Hyperparameter Tuning"
   ],
   "cell_type": "markdown",
   "metadata": {}
  },
  {
   "cell_type": "code",
   "execution_count": 8,
   "metadata": {},
   "outputs": [],
   "source": [
    "# Importing required libraries\n",
    "import sklearn\n",
    "from sklearn.pipeline import Pipeline\n",
    "from sklearn.model_selection import cross_val_score\n",
    "from sklearn.model_selection import train_test_split\n",
    "from sklearn.model_selection import GridSearchCV\n",
    "from sklearn import metrics \n",
    "from sklearn.metrics import f1_score\n",
    "# Models\n",
    "from sklearn.ensemble import RandomForestClassifier\n",
    "from sklearn.linear_model import LogisticRegression \n",
    "from sklearn.tree import DecisionTreeClassifier"
   ]
  },
  {
   "cell_type": "code",
   "execution_count": 9,
   "metadata": {},
   "outputs": [],
   "source": [
    "# Shuffle your dataset \n",
    "shuffle_df = df.sample(frac=1)\n",
    "\n",
    "# Define a size for your train set \n",
    "train_size = int(0.8 * len(df))\n",
    "\n",
    "# Split dataset \n",
    "train_set = shuffle_df[:train_size]\n",
    "test_set = shuffle_df[train_size:]"
   ]
  },
  {
   "cell_type": "code",
   "execution_count": 10,
   "metadata": {},
   "outputs": [
    {
     "output_type": "execute_result",
     "data": {
      "text/plain": [
       "                    track_id  name  album  artist  release_date  length  \\\n",
       "1448  7eX3um6NpOQKWJMGCi97XD  5705   4893    2195          2523  192804   \n",
       "408   3zPfyVThoCzQ6IB5CSGDTz  8416   7241    1462          2495  213546   \n",
       "4485  7L3JMPBLzzVdEeYRnHLI4d  1914   1684    2044          2430  207626   \n",
       "9649  3O34kfvxjR1hRGOdHbHCqu  1242   6238     791          1074  268840   \n",
       "3290  4t0YSm5foVoTYHLpxoK9t2  7097    895    3507           388  281666   \n",
       "\n",
       "      popularity  danceability  acousticness  energy  instrumentalness  \\\n",
       "1448          78         0.779      0.004710   0.705          0.000000   \n",
       "408           73         0.685      0.016000   0.791          0.153000   \n",
       "4485          56         0.689      0.000267   0.747          0.000001   \n",
       "9649           0         0.568      0.369000   0.428          0.136000   \n",
       "3290           2         0.521      0.006300   0.722          0.741000   \n",
       "\n",
       "      liveness  loudness  speechiness    tempo  time_signature  favorite  \n",
       "1448    0.0971    -5.891       0.1630  140.005               4         0  \n",
       "408     0.7030    -6.628       0.0337  125.052               4         0  \n",
       "4485    0.0909    -5.861       0.0283  100.069               4         0  \n",
       "9649    0.0981   -10.305       0.0511  119.951               4         0  \n",
       "3290    0.0682   -13.800       0.0310  106.784               4         0  "
      ],
      "text/html": "<div>\n<style scoped>\n    .dataframe tbody tr th:only-of-type {\n        vertical-align: middle;\n    }\n\n    .dataframe tbody tr th {\n        vertical-align: top;\n    }\n\n    .dataframe thead th {\n        text-align: right;\n    }\n</style>\n<table border=\"1\" class=\"dataframe\">\n  <thead>\n    <tr style=\"text-align: right;\">\n      <th></th>\n      <th>track_id</th>\n      <th>name</th>\n      <th>album</th>\n      <th>artist</th>\n      <th>release_date</th>\n      <th>length</th>\n      <th>popularity</th>\n      <th>danceability</th>\n      <th>acousticness</th>\n      <th>energy</th>\n      <th>instrumentalness</th>\n      <th>liveness</th>\n      <th>loudness</th>\n      <th>speechiness</th>\n      <th>tempo</th>\n      <th>time_signature</th>\n      <th>favorite</th>\n    </tr>\n  </thead>\n  <tbody>\n    <tr>\n      <th>1448</th>\n      <td>7eX3um6NpOQKWJMGCi97XD</td>\n      <td>5705</td>\n      <td>4893</td>\n      <td>2195</td>\n      <td>2523</td>\n      <td>192804</td>\n      <td>78</td>\n      <td>0.779</td>\n      <td>0.004710</td>\n      <td>0.705</td>\n      <td>0.000000</td>\n      <td>0.0971</td>\n      <td>-5.891</td>\n      <td>0.1630</td>\n      <td>140.005</td>\n      <td>4</td>\n      <td>0</td>\n    </tr>\n    <tr>\n      <th>408</th>\n      <td>3zPfyVThoCzQ6IB5CSGDTz</td>\n      <td>8416</td>\n      <td>7241</td>\n      <td>1462</td>\n      <td>2495</td>\n      <td>213546</td>\n      <td>73</td>\n      <td>0.685</td>\n      <td>0.016000</td>\n      <td>0.791</td>\n      <td>0.153000</td>\n      <td>0.7030</td>\n      <td>-6.628</td>\n      <td>0.0337</td>\n      <td>125.052</td>\n      <td>4</td>\n      <td>0</td>\n    </tr>\n    <tr>\n      <th>4485</th>\n      <td>7L3JMPBLzzVdEeYRnHLI4d</td>\n      <td>1914</td>\n      <td>1684</td>\n      <td>2044</td>\n      <td>2430</td>\n      <td>207626</td>\n      <td>56</td>\n      <td>0.689</td>\n      <td>0.000267</td>\n      <td>0.747</td>\n      <td>0.000001</td>\n      <td>0.0909</td>\n      <td>-5.861</td>\n      <td>0.0283</td>\n      <td>100.069</td>\n      <td>4</td>\n      <td>0</td>\n    </tr>\n    <tr>\n      <th>9649</th>\n      <td>3O34kfvxjR1hRGOdHbHCqu</td>\n      <td>1242</td>\n      <td>6238</td>\n      <td>791</td>\n      <td>1074</td>\n      <td>268840</td>\n      <td>0</td>\n      <td>0.568</td>\n      <td>0.369000</td>\n      <td>0.428</td>\n      <td>0.136000</td>\n      <td>0.0981</td>\n      <td>-10.305</td>\n      <td>0.0511</td>\n      <td>119.951</td>\n      <td>4</td>\n      <td>0</td>\n    </tr>\n    <tr>\n      <th>3290</th>\n      <td>4t0YSm5foVoTYHLpxoK9t2</td>\n      <td>7097</td>\n      <td>895</td>\n      <td>3507</td>\n      <td>388</td>\n      <td>281666</td>\n      <td>2</td>\n      <td>0.521</td>\n      <td>0.006300</td>\n      <td>0.722</td>\n      <td>0.741000</td>\n      <td>0.0682</td>\n      <td>-13.800</td>\n      <td>0.0310</td>\n      <td>106.784</td>\n      <td>4</td>\n      <td>0</td>\n    </tr>\n  </tbody>\n</table>\n</div>"
     },
     "metadata": {},
     "execution_count": 10
    }
   ],
   "source": [
    "train_set.head()"
   ]
  },
  {
   "cell_type": "code",
   "execution_count": 11,
   "metadata": {},
   "outputs": [
    {
     "output_type": "execute_result",
     "data": {
      "text/plain": [
       "      name  album  artist  release_date  length  popularity  danceability  \\\n",
       "1448  5705   4893    2195          2523  192804          78         0.779   \n",
       "408   8416   7241    1462          2495  213546          73         0.685   \n",
       "4485  1914   1684    2044          2430  207626          56         0.689   \n",
       "9649  1242   6238     791          1074  268840           0         0.568   \n",
       "3290  7097    895    3507           388  281666           2         0.521   \n",
       "\n",
       "      acousticness  energy  instrumentalness  liveness  loudness  speechiness  \\\n",
       "1448      0.004710   0.705          0.000000    0.0971    -5.891       0.1630   \n",
       "408       0.016000   0.791          0.153000    0.7030    -6.628       0.0337   \n",
       "4485      0.000267   0.747          0.000001    0.0909    -5.861       0.0283   \n",
       "9649      0.369000   0.428          0.136000    0.0981   -10.305       0.0511   \n",
       "3290      0.006300   0.722          0.741000    0.0682   -13.800       0.0310   \n",
       "\n",
       "        tempo  time_signature  \n",
       "1448  140.005               4  \n",
       "408   125.052               4  \n",
       "4485  100.069               4  \n",
       "9649  119.951               4  \n",
       "3290  106.784               4  "
      ],
      "text/html": "<div>\n<style scoped>\n    .dataframe tbody tr th:only-of-type {\n        vertical-align: middle;\n    }\n\n    .dataframe tbody tr th {\n        vertical-align: top;\n    }\n\n    .dataframe thead th {\n        text-align: right;\n    }\n</style>\n<table border=\"1\" class=\"dataframe\">\n  <thead>\n    <tr style=\"text-align: right;\">\n      <th></th>\n      <th>name</th>\n      <th>album</th>\n      <th>artist</th>\n      <th>release_date</th>\n      <th>length</th>\n      <th>popularity</th>\n      <th>danceability</th>\n      <th>acousticness</th>\n      <th>energy</th>\n      <th>instrumentalness</th>\n      <th>liveness</th>\n      <th>loudness</th>\n      <th>speechiness</th>\n      <th>tempo</th>\n      <th>time_signature</th>\n    </tr>\n  </thead>\n  <tbody>\n    <tr>\n      <th>1448</th>\n      <td>5705</td>\n      <td>4893</td>\n      <td>2195</td>\n      <td>2523</td>\n      <td>192804</td>\n      <td>78</td>\n      <td>0.779</td>\n      <td>0.004710</td>\n      <td>0.705</td>\n      <td>0.000000</td>\n      <td>0.0971</td>\n      <td>-5.891</td>\n      <td>0.1630</td>\n      <td>140.005</td>\n      <td>4</td>\n    </tr>\n    <tr>\n      <th>408</th>\n      <td>8416</td>\n      <td>7241</td>\n      <td>1462</td>\n      <td>2495</td>\n      <td>213546</td>\n      <td>73</td>\n      <td>0.685</td>\n      <td>0.016000</td>\n      <td>0.791</td>\n      <td>0.153000</td>\n      <td>0.7030</td>\n      <td>-6.628</td>\n      <td>0.0337</td>\n      <td>125.052</td>\n      <td>4</td>\n    </tr>\n    <tr>\n      <th>4485</th>\n      <td>1914</td>\n      <td>1684</td>\n      <td>2044</td>\n      <td>2430</td>\n      <td>207626</td>\n      <td>56</td>\n      <td>0.689</td>\n      <td>0.000267</td>\n      <td>0.747</td>\n      <td>0.000001</td>\n      <td>0.0909</td>\n      <td>-5.861</td>\n      <td>0.0283</td>\n      <td>100.069</td>\n      <td>4</td>\n    </tr>\n    <tr>\n      <th>9649</th>\n      <td>1242</td>\n      <td>6238</td>\n      <td>791</td>\n      <td>1074</td>\n      <td>268840</td>\n      <td>0</td>\n      <td>0.568</td>\n      <td>0.369000</td>\n      <td>0.428</td>\n      <td>0.136000</td>\n      <td>0.0981</td>\n      <td>-10.305</td>\n      <td>0.0511</td>\n      <td>119.951</td>\n      <td>4</td>\n    </tr>\n    <tr>\n      <th>3290</th>\n      <td>7097</td>\n      <td>895</td>\n      <td>3507</td>\n      <td>388</td>\n      <td>281666</td>\n      <td>2</td>\n      <td>0.521</td>\n      <td>0.006300</td>\n      <td>0.722</td>\n      <td>0.741000</td>\n      <td>0.0682</td>\n      <td>-13.800</td>\n      <td>0.0310</td>\n      <td>106.784</td>\n      <td>4</td>\n    </tr>\n  </tbody>\n</table>\n</div>"
     },
     "metadata": {},
     "execution_count": 11
    }
   ],
   "source": [
    "X = train_set.drop(columns=['favorite', 'track_id'])\n",
    "y = train_set.favorite\n",
    "\n",
    "X.head()"
   ]
  },
  {
   "cell_type": "code",
   "execution_count": 12,
   "metadata": {},
   "outputs": [
    {
     "output_type": "execute_result",
     "data": {
      "text/plain": [
       "0    7815\n",
       "1      40\n",
       "Name: favorite, dtype: int64"
      ]
     },
     "metadata": {},
     "execution_count": 12
    }
   ],
   "source": [
    "# Checking for imbalance\n",
    "y.value_counts()"
   ]
  },
  {
   "cell_type": "code",
   "execution_count": 13,
   "metadata": {},
   "outputs": [],
   "source": [
    "# Train / Split Data\n",
    "oversample = SMOTE()\n",
    "X_train, y_train = oversample.fit_resample(X, y) "
   ]
  },
  {
   "cell_type": "code",
   "execution_count": 14,
   "metadata": {},
   "outputs": [
    {
     "output_type": "execute_result",
     "data": {
      "text/plain": [
       "   name  album  artist  release_date  length  popularity  danceability  \\\n",
       "0  5705   4893    2195          2523  192804          78         0.779   \n",
       "1  8416   7241    1462          2495  213546          73         0.685   \n",
       "2  1914   1684    2044          2430  207626          56         0.689   \n",
       "3  1242   6238     791          1074  268840           0         0.568   \n",
       "4  7097    895    3507           388  281666           2         0.521   \n",
       "\n",
       "   acousticness  energy  instrumentalness  liveness  loudness  speechiness  \\\n",
       "0      0.004710   0.705          0.000000    0.0971    -5.891       0.1630   \n",
       "1      0.016000   0.791          0.153000    0.7030    -6.628       0.0337   \n",
       "2      0.000267   0.747          0.000001    0.0909    -5.861       0.0283   \n",
       "3      0.369000   0.428          0.136000    0.0981   -10.305       0.0511   \n",
       "4      0.006300   0.722          0.741000    0.0682   -13.800       0.0310   \n",
       "\n",
       "     tempo  time_signature  \n",
       "0  140.005               4  \n",
       "1  125.052               4  \n",
       "2  100.069               4  \n",
       "3  119.951               4  \n",
       "4  106.784               4  "
      ],
      "text/html": "<div>\n<style scoped>\n    .dataframe tbody tr th:only-of-type {\n        vertical-align: middle;\n    }\n\n    .dataframe tbody tr th {\n        vertical-align: top;\n    }\n\n    .dataframe thead th {\n        text-align: right;\n    }\n</style>\n<table border=\"1\" class=\"dataframe\">\n  <thead>\n    <tr style=\"text-align: right;\">\n      <th></th>\n      <th>name</th>\n      <th>album</th>\n      <th>artist</th>\n      <th>release_date</th>\n      <th>length</th>\n      <th>popularity</th>\n      <th>danceability</th>\n      <th>acousticness</th>\n      <th>energy</th>\n      <th>instrumentalness</th>\n      <th>liveness</th>\n      <th>loudness</th>\n      <th>speechiness</th>\n      <th>tempo</th>\n      <th>time_signature</th>\n    </tr>\n  </thead>\n  <tbody>\n    <tr>\n      <th>0</th>\n      <td>5705</td>\n      <td>4893</td>\n      <td>2195</td>\n      <td>2523</td>\n      <td>192804</td>\n      <td>78</td>\n      <td>0.779</td>\n      <td>0.004710</td>\n      <td>0.705</td>\n      <td>0.000000</td>\n      <td>0.0971</td>\n      <td>-5.891</td>\n      <td>0.1630</td>\n      <td>140.005</td>\n      <td>4</td>\n    </tr>\n    <tr>\n      <th>1</th>\n      <td>8416</td>\n      <td>7241</td>\n      <td>1462</td>\n      <td>2495</td>\n      <td>213546</td>\n      <td>73</td>\n      <td>0.685</td>\n      <td>0.016000</td>\n      <td>0.791</td>\n      <td>0.153000</td>\n      <td>0.7030</td>\n      <td>-6.628</td>\n      <td>0.0337</td>\n      <td>125.052</td>\n      <td>4</td>\n    </tr>\n    <tr>\n      <th>2</th>\n      <td>1914</td>\n      <td>1684</td>\n      <td>2044</td>\n      <td>2430</td>\n      <td>207626</td>\n      <td>56</td>\n      <td>0.689</td>\n      <td>0.000267</td>\n      <td>0.747</td>\n      <td>0.000001</td>\n      <td>0.0909</td>\n      <td>-5.861</td>\n      <td>0.0283</td>\n      <td>100.069</td>\n      <td>4</td>\n    </tr>\n    <tr>\n      <th>3</th>\n      <td>1242</td>\n      <td>6238</td>\n      <td>791</td>\n      <td>1074</td>\n      <td>268840</td>\n      <td>0</td>\n      <td>0.568</td>\n      <td>0.369000</td>\n      <td>0.428</td>\n      <td>0.136000</td>\n      <td>0.0981</td>\n      <td>-10.305</td>\n      <td>0.0511</td>\n      <td>119.951</td>\n      <td>4</td>\n    </tr>\n    <tr>\n      <th>4</th>\n      <td>7097</td>\n      <td>895</td>\n      <td>3507</td>\n      <td>388</td>\n      <td>281666</td>\n      <td>2</td>\n      <td>0.521</td>\n      <td>0.006300</td>\n      <td>0.722</td>\n      <td>0.741000</td>\n      <td>0.0682</td>\n      <td>-13.800</td>\n      <td>0.0310</td>\n      <td>106.784</td>\n      <td>4</td>\n    </tr>\n  </tbody>\n</table>\n</div>"
     },
     "metadata": {},
     "execution_count": 14
    }
   ],
   "source": [
    "X_train.head()"
   ]
  },
  {
   "cell_type": "code",
   "execution_count": 15,
   "metadata": {},
   "outputs": [
    {
     "output_type": "execute_result",
     "data": {
      "text/plain": [
       "0    7815\n",
       "1    7815\n",
       "Name: favorite, dtype: int64"
      ]
     },
     "metadata": {},
     "execution_count": 15
    }
   ],
   "source": [
    "# Checking if imbalance is gone\n",
    "y_train.value_counts()"
   ]
  },
  {
   "cell_type": "code",
   "execution_count": 16,
   "metadata": {},
   "outputs": [
    {
     "output_type": "execute_result",
     "data": {
      "text/plain": [
       "                    track_id  name  album  artist  release_date  length  \\\n",
       "1707  2Sxo09VIgJDYNrytLGkkSJ  5273     25    3928          1390  254266   \n",
       "7879  4ZD8KtkiNJI9Jh4joc7gFA  7821   3462    1335          1954  166320   \n",
       "171   7vrJn5hDSXRmdXoR30KgF1   596    483    1933          2424  178946   \n",
       "6460  02CkWazM7YqypIxYKy3iSy  3544   5118    3189          2410  225494   \n",
       "9071  53lNcoa49wX4lmLBw5Sqay  1431   5295    2710          1201  450413   \n",
       "\n",
       "      popularity  danceability  acousticness  energy  instrumentalness  \\\n",
       "1707          15         0.732        0.4450  0.1500          0.000000   \n",
       "7879          22         0.316        0.9910  0.0736          0.880000   \n",
       "171           93         0.863        0.2120  0.6660          0.000493   \n",
       "6460          48         0.781        0.0185  0.6320          0.000048   \n",
       "9071          26         0.154        0.9720  0.0118          0.847000   \n",
       "\n",
       "      liveness  loudness  speechiness    tempo  time_signature  favorite  \n",
       "1707    0.3710   -17.737       0.9200   70.341               4         0  \n",
       "7879    0.0824   -25.506       0.0414   77.974               4         0  \n",
       "171     0.1030    -4.158       0.1520  163.908               4         0  \n",
       "6460    0.1160    -7.774       0.1010  114.018               4         0  \n",
       "9071    0.0709   -31.067       0.0467   80.151               3         0  "
      ],
      "text/html": "<div>\n<style scoped>\n    .dataframe tbody tr th:only-of-type {\n        vertical-align: middle;\n    }\n\n    .dataframe tbody tr th {\n        vertical-align: top;\n    }\n\n    .dataframe thead th {\n        text-align: right;\n    }\n</style>\n<table border=\"1\" class=\"dataframe\">\n  <thead>\n    <tr style=\"text-align: right;\">\n      <th></th>\n      <th>track_id</th>\n      <th>name</th>\n      <th>album</th>\n      <th>artist</th>\n      <th>release_date</th>\n      <th>length</th>\n      <th>popularity</th>\n      <th>danceability</th>\n      <th>acousticness</th>\n      <th>energy</th>\n      <th>instrumentalness</th>\n      <th>liveness</th>\n      <th>loudness</th>\n      <th>speechiness</th>\n      <th>tempo</th>\n      <th>time_signature</th>\n      <th>favorite</th>\n    </tr>\n  </thead>\n  <tbody>\n    <tr>\n      <th>1707</th>\n      <td>2Sxo09VIgJDYNrytLGkkSJ</td>\n      <td>5273</td>\n      <td>25</td>\n      <td>3928</td>\n      <td>1390</td>\n      <td>254266</td>\n      <td>15</td>\n      <td>0.732</td>\n      <td>0.4450</td>\n      <td>0.1500</td>\n      <td>0.000000</td>\n      <td>0.3710</td>\n      <td>-17.737</td>\n      <td>0.9200</td>\n      <td>70.341</td>\n      <td>4</td>\n      <td>0</td>\n    </tr>\n    <tr>\n      <th>7879</th>\n      <td>4ZD8KtkiNJI9Jh4joc7gFA</td>\n      <td>7821</td>\n      <td>3462</td>\n      <td>1335</td>\n      <td>1954</td>\n      <td>166320</td>\n      <td>22</td>\n      <td>0.316</td>\n      <td>0.9910</td>\n      <td>0.0736</td>\n      <td>0.880000</td>\n      <td>0.0824</td>\n      <td>-25.506</td>\n      <td>0.0414</td>\n      <td>77.974</td>\n      <td>4</td>\n      <td>0</td>\n    </tr>\n    <tr>\n      <th>171</th>\n      <td>7vrJn5hDSXRmdXoR30KgF1</td>\n      <td>596</td>\n      <td>483</td>\n      <td>1933</td>\n      <td>2424</td>\n      <td>178946</td>\n      <td>93</td>\n      <td>0.863</td>\n      <td>0.2120</td>\n      <td>0.6660</td>\n      <td>0.000493</td>\n      <td>0.1030</td>\n      <td>-4.158</td>\n      <td>0.1520</td>\n      <td>163.908</td>\n      <td>4</td>\n      <td>0</td>\n    </tr>\n    <tr>\n      <th>6460</th>\n      <td>02CkWazM7YqypIxYKy3iSy</td>\n      <td>3544</td>\n      <td>5118</td>\n      <td>3189</td>\n      <td>2410</td>\n      <td>225494</td>\n      <td>48</td>\n      <td>0.781</td>\n      <td>0.0185</td>\n      <td>0.6320</td>\n      <td>0.000048</td>\n      <td>0.1160</td>\n      <td>-7.774</td>\n      <td>0.1010</td>\n      <td>114.018</td>\n      <td>4</td>\n      <td>0</td>\n    </tr>\n    <tr>\n      <th>9071</th>\n      <td>53lNcoa49wX4lmLBw5Sqay</td>\n      <td>1431</td>\n      <td>5295</td>\n      <td>2710</td>\n      <td>1201</td>\n      <td>450413</td>\n      <td>26</td>\n      <td>0.154</td>\n      <td>0.9720</td>\n      <td>0.0118</td>\n      <td>0.847000</td>\n      <td>0.0709</td>\n      <td>-31.067</td>\n      <td>0.0467</td>\n      <td>80.151</td>\n      <td>3</td>\n      <td>0</td>\n    </tr>\n  </tbody>\n</table>\n</div>"
     },
     "metadata": {},
     "execution_count": 16
    }
   ],
   "source": [
    "test_set.head()"
   ]
  },
  {
   "cell_type": "code",
   "execution_count": 17,
   "metadata": {},
   "outputs": [],
   "source": [
    "X_test = test_set.drop(columns=['favorite', 'track_id'])\n",
    "y_test = test_set['favorite']"
   ]
  },
  {
   "cell_type": "code",
   "execution_count": 18,
   "metadata": {},
   "outputs": [
    {
     "output_type": "execute_result",
     "data": {
      "text/plain": [
       "      name  album  artist  release_date  length  popularity  danceability  \\\n",
       "1707  5273     25    3928          1390  254266          15         0.732   \n",
       "7879  7821   3462    1335          1954  166320          22         0.316   \n",
       "171    596    483    1933          2424  178946          93         0.863   \n",
       "6460  3544   5118    3189          2410  225494          48         0.781   \n",
       "9071  1431   5295    2710          1201  450413          26         0.154   \n",
       "\n",
       "      acousticness  energy  instrumentalness  liveness  loudness  speechiness  \\\n",
       "1707        0.4450  0.1500          0.000000    0.3710   -17.737       0.9200   \n",
       "7879        0.9910  0.0736          0.880000    0.0824   -25.506       0.0414   \n",
       "171         0.2120  0.6660          0.000493    0.1030    -4.158       0.1520   \n",
       "6460        0.0185  0.6320          0.000048    0.1160    -7.774       0.1010   \n",
       "9071        0.9720  0.0118          0.847000    0.0709   -31.067       0.0467   \n",
       "\n",
       "        tempo  time_signature  \n",
       "1707   70.341               4  \n",
       "7879   77.974               4  \n",
       "171   163.908               4  \n",
       "6460  114.018               4  \n",
       "9071   80.151               3  "
      ],
      "text/html": "<div>\n<style scoped>\n    .dataframe tbody tr th:only-of-type {\n        vertical-align: middle;\n    }\n\n    .dataframe tbody tr th {\n        vertical-align: top;\n    }\n\n    .dataframe thead th {\n        text-align: right;\n    }\n</style>\n<table border=\"1\" class=\"dataframe\">\n  <thead>\n    <tr style=\"text-align: right;\">\n      <th></th>\n      <th>name</th>\n      <th>album</th>\n      <th>artist</th>\n      <th>release_date</th>\n      <th>length</th>\n      <th>popularity</th>\n      <th>danceability</th>\n      <th>acousticness</th>\n      <th>energy</th>\n      <th>instrumentalness</th>\n      <th>liveness</th>\n      <th>loudness</th>\n      <th>speechiness</th>\n      <th>tempo</th>\n      <th>time_signature</th>\n    </tr>\n  </thead>\n  <tbody>\n    <tr>\n      <th>1707</th>\n      <td>5273</td>\n      <td>25</td>\n      <td>3928</td>\n      <td>1390</td>\n      <td>254266</td>\n      <td>15</td>\n      <td>0.732</td>\n      <td>0.4450</td>\n      <td>0.1500</td>\n      <td>0.000000</td>\n      <td>0.3710</td>\n      <td>-17.737</td>\n      <td>0.9200</td>\n      <td>70.341</td>\n      <td>4</td>\n    </tr>\n    <tr>\n      <th>7879</th>\n      <td>7821</td>\n      <td>3462</td>\n      <td>1335</td>\n      <td>1954</td>\n      <td>166320</td>\n      <td>22</td>\n      <td>0.316</td>\n      <td>0.9910</td>\n      <td>0.0736</td>\n      <td>0.880000</td>\n      <td>0.0824</td>\n      <td>-25.506</td>\n      <td>0.0414</td>\n      <td>77.974</td>\n      <td>4</td>\n    </tr>\n    <tr>\n      <th>171</th>\n      <td>596</td>\n      <td>483</td>\n      <td>1933</td>\n      <td>2424</td>\n      <td>178946</td>\n      <td>93</td>\n      <td>0.863</td>\n      <td>0.2120</td>\n      <td>0.6660</td>\n      <td>0.000493</td>\n      <td>0.1030</td>\n      <td>-4.158</td>\n      <td>0.1520</td>\n      <td>163.908</td>\n      <td>4</td>\n    </tr>\n    <tr>\n      <th>6460</th>\n      <td>3544</td>\n      <td>5118</td>\n      <td>3189</td>\n      <td>2410</td>\n      <td>225494</td>\n      <td>48</td>\n      <td>0.781</td>\n      <td>0.0185</td>\n      <td>0.6320</td>\n      <td>0.000048</td>\n      <td>0.1160</td>\n      <td>-7.774</td>\n      <td>0.1010</td>\n      <td>114.018</td>\n      <td>4</td>\n    </tr>\n    <tr>\n      <th>9071</th>\n      <td>1431</td>\n      <td>5295</td>\n      <td>2710</td>\n      <td>1201</td>\n      <td>450413</td>\n      <td>26</td>\n      <td>0.154</td>\n      <td>0.9720</td>\n      <td>0.0118</td>\n      <td>0.847000</td>\n      <td>0.0709</td>\n      <td>-31.067</td>\n      <td>0.0467</td>\n      <td>80.151</td>\n      <td>3</td>\n    </tr>\n  </tbody>\n</table>\n</div>"
     },
     "metadata": {},
     "execution_count": 18
    }
   ],
   "source": [
    "X_test.head()"
   ]
  },
  {
   "cell_type": "code",
   "execution_count": 19,
   "metadata": {},
   "outputs": [
    {
     "output_type": "execute_result",
     "data": {
      "text/plain": [
       "0    1954\n",
       "1      10\n",
       "Name: favorite, dtype: int64"
      ]
     },
     "metadata": {},
     "execution_count": 19
    }
   ],
   "source": [
    "# Checking for imbalance in test set\n",
    "y_test.value_counts()"
   ]
  },
  {
   "source": [
    "#### Testing models"
   ],
   "cell_type": "markdown",
   "metadata": {}
  },
  {
   "cell_type": "code",
   "execution_count": 20,
   "metadata": {},
   "outputs": [
    {
     "output_type": "stream",
     "name": "stdout",
     "text": [
      "0.804164180311262\nCPU times: user 4.07 s, sys: 773 ms, total: 4.84 s\nWall time: 1.57 s\n"
     ]
    }
   ],
   "source": [
    "%%time\n",
    "# Logistic Regression\n",
    "lr = LogisticRegression(solver='lbfgs', max_iter=400)\n",
    "lr_scores = cross_val_score(lr, X_train, y_train, cv=10, scoring=\"f1\")\n",
    "print(np.mean(lr_scores))"
   ]
  },
  {
   "cell_type": "code",
   "execution_count": 21,
   "metadata": {
    "tags": []
   },
   "outputs": [
    {
     "output_type": "execute_result",
     "data": {
      "text/plain": [
       "{'max_depth': 30}"
      ]
     },
     "metadata": {},
     "execution_count": 21
    }
   ],
   "source": [
    "# Hyperparameter optimization for Decision Tree Classifier\n",
    "parameters = {\n",
    "    'max_depth':[3, 4, 5, 6, 10, 15,20,30],\n",
    "}\n",
    "dtc = Pipeline([('CV',GridSearchCV(DecisionTreeClassifier(), parameters, cv = 5))])\n",
    "dtc.fit(X_train, y_train)\n",
    "dtc.named_steps['CV'].best_params_"
   ]
  },
  {
   "cell_type": "code",
   "execution_count": 22,
   "metadata": {},
   "outputs": [
    {
     "output_type": "stream",
     "name": "stdout",
     "text": [
      "CPU times: user 2.4 s, sys: 26.7 ms, total: 2.43 s\nWall time: 2.45 s\n"
     ]
    },
    {
     "output_type": "execute_result",
     "data": {
      "text/plain": [
       "0.9931676657346721"
      ]
     },
     "metadata": {},
     "execution_count": 22
    }
   ],
   "source": [
    "%%time\n",
    "# Decision Tree Classifier\n",
    "dt = DecisionTreeClassifier(max_depth=30)\n",
    "dt_scores = cross_val_score(dt, X_train, y_train, cv=10, scoring=\"f1\")\n",
    "np.mean(dt_scores)"
   ]
  },
  {
   "cell_type": "code",
   "execution_count": 23,
   "metadata": {},
   "outputs": [
    {
     "output_type": "stream",
     "name": "stdout",
     "text": [
      "CPU times: user 25.7 s, sys: 339 ms, total: 26 s\nWall time: 26.3 s\n"
     ]
    },
    {
     "output_type": "execute_result",
     "data": {
      "text/plain": [
       "{'max_depth': 20, 'n_estimators': 30}"
      ]
     },
     "metadata": {},
     "execution_count": 23
    }
   ],
   "source": [
    "%%time\n",
    "# Hyperparameter optimization of RandomForestClassifier\n",
    "parameters = {\n",
    "    'max_depth':[3, 6,12,15,20],\n",
    "    'n_estimators':[10, 20,30]\n",
    "}\n",
    "clf = Pipeline([('CV',GridSearchCV(RandomForestClassifier(), parameters, cv = 5))])\n",
    "clf.fit(X_train, y_train)\n",
    "clf.named_steps['CV'].best_params_"
   ]
  },
  {
   "cell_type": "code",
   "execution_count": 24,
   "metadata": {},
   "outputs": [
    {
     "output_type": "stream",
     "name": "stdout",
     "text": [
      "CPU times: user 2.59 s, sys: 49.2 ms, total: 2.64 s\nWall time: 2.7 s\n"
     ]
    },
    {
     "output_type": "execute_result",
     "data": {
      "text/plain": [
       "0.9988501654805519"
      ]
     },
     "metadata": {},
     "execution_count": 24
    }
   ],
   "source": [
    "%%time\n",
    "# RandomForestClassifier\n",
    "rf = Pipeline([('rf', RandomForestClassifier(n_estimators = 10, max_depth = 20))])\n",
    "rf_scores = cross_val_score(rf, X_train, y_train, cv=10, scoring=\"f1\")\n",
    "np.mean(rf_scores)"
   ]
  },
  {
   "source": [
    "Since the RandomForestClassifier has the highest accuracy, I will use it to recommend songs."
   ],
   "cell_type": "markdown",
   "metadata": {}
  },
  {
   "source": [
    "### Using algorithm on test data"
   ],
   "cell_type": "markdown",
   "metadata": {}
  },
  {
   "cell_type": "code",
   "execution_count": 25,
   "metadata": {},
   "outputs": [
    {
     "output_type": "execute_result",
     "data": {
      "text/plain": [
       "0    1954\n",
       "1      10\n",
       "Name: favorite, dtype: int64"
      ]
     },
     "metadata": {},
     "execution_count": 25
    }
   ],
   "source": [
    "# Checking for imabalance\n",
    "y_test.value_counts()"
   ]
  },
  {
   "cell_type": "code",
   "execution_count": 44,
   "metadata": {},
   "outputs": [
    {
     "output_type": "error",
     "ename": "AttributeError",
     "evalue": "'Pipeline' object has no attribute 'predict__proba'",
     "traceback": [
      "\u001b[0;31m---------------------------------------------------------------------------\u001b[0m",
      "\u001b[0;31mAttributeError\u001b[0m                            Traceback (most recent call last)",
      "\u001b[0;32m<ipython-input-44-87fd3ef3b321>\u001b[0m in \u001b[0;36m<module>\u001b[0;34m\u001b[0m\n\u001b[1;32m      8\u001b[0m Pipeline(steps=[('standardscaler', StandardScaler()),\n\u001b[1;32m      9\u001b[0m                 ('rf', RandomForestClassifier(n_estimators = 30, max_depth = 20))])\n\u001b[0;32m---> 10\u001b[0;31m \u001b[0mpipe\u001b[0m\u001b[0;34m.\u001b[0m\u001b[0mpredict__proba\u001b[0m \u001b[0;31m# apply threshold\u001b[0m\u001b[0;34m\u001b[0m\u001b[0;34m\u001b[0m\u001b[0m\n\u001b[0m\u001b[1;32m     11\u001b[0m \u001b[0;31m# pipe.score(X_test, y_test)\u001b[0m\u001b[0;34m\u001b[0m\u001b[0;34m\u001b[0m\u001b[0;34m\u001b[0m\u001b[0m\n",
      "\u001b[0;31mAttributeError\u001b[0m: 'Pipeline' object has no attribute 'predict__proba'"
     ]
    }
   ],
   "source": [
    "# Building a pipeline to use on regular data\n",
    "# predict__proba\n",
    "from sklearn.pipeline import make_pipeline\n",
    "from sklearn.preprocessing import StandardScaler\n",
    "\n",
    "pipe = make_pipeline(StandardScaler(), RandomForestClassifier(n_estimators = 30, max_depth = 20))\n",
    "pipe.fit(X_train, y_train)  # apply scaling on training data\n",
    "Pipeline(steps=[('standardscaler', StandardScaler()),\n",
    "                ('rf', RandomForestClassifier(n_estimators = 30, max_depth = 20))])\n",
    "pipe.predict__proba # apply threshold here\n",
    "# pipe.score(X_test, y_test)"
   ]
  },
  {
   "cell_type": "code",
   "execution_count": 27,
   "metadata": {},
   "outputs": [
    {
     "output_type": "execute_result",
     "data": {
      "text/plain": [
       "(9819, 17)"
      ]
     },
     "metadata": {},
     "execution_count": 27
    }
   ],
   "source": [
    "df.shape"
   ]
  },
  {
   "cell_type": "code",
   "execution_count": 28,
   "metadata": {},
   "outputs": [
    {
     "output_type": "execute_result",
     "data": {
      "text/plain": [
       "9819"
      ]
     },
     "metadata": {},
     "execution_count": 28
    }
   ],
   "source": [
    "len(pipe.predict(df.drop(['favorite','track_id'], axis=1)))"
   ]
  },
  {
   "source": [
    "## Predicting songs and saving to dataset"
   ],
   "cell_type": "markdown",
   "metadata": {}
  },
  {
   "cell_type": "code",
   "execution_count": 29,
   "metadata": {},
   "outputs": [],
   "source": [
    "df = pd.read_csv('data/encoded_playlist_songs.csv')"
   ]
  },
  {
   "cell_type": "code",
   "execution_count": 30,
   "metadata": {},
   "outputs": [
    {
     "output_type": "execute_result",
     "data": {
      "text/plain": [
       "                 track_id  name  album  artist  release_date  length  \\\n",
       "0  7MAibcTli4IisCtbHKrGMh  4008   3340     581          2524  242096   \n",
       "1  5QO79kh1waicV47BqGRL3g  6038    212    3746          2293  215626   \n",
       "2  1diS6nkxMQc3wwC4G1j0bh  8118   2222    1091          2505  165506   \n",
       "3  4u4NyuceXP7Uzh7XFJKCr1  3096   2743    1917          2524  170813   \n",
       "4  3Ofmpyhv5UAQ70mENzB277   542    433    2439          2478  132780   \n",
       "\n",
       "   popularity  danceability  acousticness  energy  instrumentalness  liveness  \\\n",
       "0          90         0.586        0.1820   0.616          0.000000    0.0927   \n",
       "1          97         0.680        0.0212   0.826          0.000012    0.5430   \n",
       "2          88         0.722        0.0319   0.588          0.000000    0.1830   \n",
       "3          89         0.658        0.0106   0.634          0.000000    0.1320   \n",
       "4          94         0.778        0.1750   0.695          0.000000    0.1500   \n",
       "\n",
       "   loudness  speechiness    tempo  time_signature  favorite  \n",
       "0    -7.964       0.0324  148.088               4         0  \n",
       "1    -5.487       0.0309  118.051               4         0  \n",
       "2    -5.932       0.0544  134.010               4         0  \n",
       "3    -5.797       0.0413  139.980               4         0  \n",
       "4    -6.865       0.0913  149.996               4         0  "
      ],
      "text/html": "<div>\n<style scoped>\n    .dataframe tbody tr th:only-of-type {\n        vertical-align: middle;\n    }\n\n    .dataframe tbody tr th {\n        vertical-align: top;\n    }\n\n    .dataframe thead th {\n        text-align: right;\n    }\n</style>\n<table border=\"1\" class=\"dataframe\">\n  <thead>\n    <tr style=\"text-align: right;\">\n      <th></th>\n      <th>track_id</th>\n      <th>name</th>\n      <th>album</th>\n      <th>artist</th>\n      <th>release_date</th>\n      <th>length</th>\n      <th>popularity</th>\n      <th>danceability</th>\n      <th>acousticness</th>\n      <th>energy</th>\n      <th>instrumentalness</th>\n      <th>liveness</th>\n      <th>loudness</th>\n      <th>speechiness</th>\n      <th>tempo</th>\n      <th>time_signature</th>\n      <th>favorite</th>\n    </tr>\n  </thead>\n  <tbody>\n    <tr>\n      <th>0</th>\n      <td>7MAibcTli4IisCtbHKrGMh</td>\n      <td>4008</td>\n      <td>3340</td>\n      <td>581</td>\n      <td>2524</td>\n      <td>242096</td>\n      <td>90</td>\n      <td>0.586</td>\n      <td>0.1820</td>\n      <td>0.616</td>\n      <td>0.000000</td>\n      <td>0.0927</td>\n      <td>-7.964</td>\n      <td>0.0324</td>\n      <td>148.088</td>\n      <td>4</td>\n      <td>0</td>\n    </tr>\n    <tr>\n      <th>1</th>\n      <td>5QO79kh1waicV47BqGRL3g</td>\n      <td>6038</td>\n      <td>212</td>\n      <td>3746</td>\n      <td>2293</td>\n      <td>215626</td>\n      <td>97</td>\n      <td>0.680</td>\n      <td>0.0212</td>\n      <td>0.826</td>\n      <td>0.000012</td>\n      <td>0.5430</td>\n      <td>-5.487</td>\n      <td>0.0309</td>\n      <td>118.051</td>\n      <td>4</td>\n      <td>0</td>\n    </tr>\n    <tr>\n      <th>2</th>\n      <td>1diS6nkxMQc3wwC4G1j0bh</td>\n      <td>8118</td>\n      <td>2222</td>\n      <td>1091</td>\n      <td>2505</td>\n      <td>165506</td>\n      <td>88</td>\n      <td>0.722</td>\n      <td>0.0319</td>\n      <td>0.588</td>\n      <td>0.000000</td>\n      <td>0.1830</td>\n      <td>-5.932</td>\n      <td>0.0544</td>\n      <td>134.010</td>\n      <td>4</td>\n      <td>0</td>\n    </tr>\n    <tr>\n      <th>3</th>\n      <td>4u4NyuceXP7Uzh7XFJKCr1</td>\n      <td>3096</td>\n      <td>2743</td>\n      <td>1917</td>\n      <td>2524</td>\n      <td>170813</td>\n      <td>89</td>\n      <td>0.658</td>\n      <td>0.0106</td>\n      <td>0.634</td>\n      <td>0.000000</td>\n      <td>0.1320</td>\n      <td>-5.797</td>\n      <td>0.0413</td>\n      <td>139.980</td>\n      <td>4</td>\n      <td>0</td>\n    </tr>\n    <tr>\n      <th>4</th>\n      <td>3Ofmpyhv5UAQ70mENzB277</td>\n      <td>542</td>\n      <td>433</td>\n      <td>2439</td>\n      <td>2478</td>\n      <td>132780</td>\n      <td>94</td>\n      <td>0.778</td>\n      <td>0.1750</td>\n      <td>0.695</td>\n      <td>0.000000</td>\n      <td>0.1500</td>\n      <td>-6.865</td>\n      <td>0.0913</td>\n      <td>149.996</td>\n      <td>4</td>\n      <td>0</td>\n    </tr>\n  </tbody>\n</table>\n</div>"
     },
     "metadata": {},
     "execution_count": 30
    }
   ],
   "source": [
    "df.head()"
   ]
  },
  {
   "cell_type": "code",
   "execution_count": 31,
   "metadata": {},
   "outputs": [],
   "source": [
    "prediction = pipe.predict(df.drop(['favorite','track_id'], axis=1))\n",
    "df['prediction'] = prediction"
   ]
  },
  {
   "cell_type": "code",
   "execution_count": 32,
   "metadata": {},
   "outputs": [
    {
     "output_type": "execute_result",
     "data": {
      "text/plain": [
       "0    0\n",
       "1    0\n",
       "2    0\n",
       "3    0\n",
       "4    0\n",
       "Name: prediction, dtype: int64"
      ]
     },
     "metadata": {},
     "execution_count": 32
    }
   ],
   "source": [
    "df['prediction'].head()"
   ]
  },
  {
   "cell_type": "code",
   "execution_count": 33,
   "metadata": {},
   "outputs": [
    {
     "output_type": "execute_result",
     "data": {
      "text/plain": [
       "0    9763\n",
       "1       6\n",
       "Name: prediction, dtype: int64"
      ]
     },
     "metadata": {},
     "execution_count": 33
    }
   ],
   "source": [
    "df['prediction'].value_counts()"
   ]
  },
  {
   "source": [
    "## Building the playlist from recommended songs"
   ],
   "cell_type": "markdown",
   "metadata": {}
  },
  {
   "cell_type": "code",
   "execution_count": 34,
   "metadata": {},
   "outputs": [],
   "source": [
    "import spotipy\n",
    "import spotipy.util as util\n",
    "from spotipy.oauth2 import SpotifyClientCredentials\n",
    "from spotipy import oauth2"
   ]
  },
  {
   "cell_type": "code",
   "execution_count": 35,
   "metadata": {},
   "outputs": [],
   "source": [
    "# Insert your Spotify username and the credentials that you obtained from spotify developer\n",
    "cid = '58ecd7aadf294b9aa038a3080ef670cb'\n",
    "secret = '4a277ac2c0a744eea5c839b1ecb27002'\n",
    "redirect_uri='http://localhost:7777/callback'\n",
    "username = 'yvngflash_'"
   ]
  },
  {
   "cell_type": "code",
   "execution_count": 36,
   "metadata": {},
   "outputs": [],
   "source": [
    "# Once the Authorisation is complete, we just need to `sp` to call the APIs\n",
    "scope = 'user-top-read playlist-modify-private playlist-modify-public'\n",
    "token = util.prompt_for_user_token(username, scope, client_id=cid, client_secret=secret, redirect_uri=redirect_uri)\n",
    "\n",
    "if token:\n",
    "    sp = spotipy.Spotify(auth=token)\n",
    "else:\n",
    "    print(\"Can't get token for\", username)"
   ]
  },
  {
   "cell_type": "code",
   "execution_count": 37,
   "metadata": {},
   "outputs": [],
   "source": [
    "def create_playlist(sp, username, playlist_name, playlist_description):\n",
    "    playlists = sp.user_playlist_create(username, playlist_name, description = playlist_description)"
   ]
  },
  {
   "cell_type": "code",
   "execution_count": 38,
   "metadata": {},
   "outputs": [],
   "source": [
    "create_playlist(sp, username, 'Your New Jams', 'This playlist was created using python!')"
   ]
  },
  {
   "cell_type": "code",
   "execution_count": 39,
   "metadata": {},
   "outputs": [],
   "source": [
    "def fetch_playlists(sp, username):\n",
    "    \"\"\"\n",
    "    Returns the user's playlists.\n",
    "    \"\"\"\n",
    "        \n",
    "    id = []\n",
    "    name = []\n",
    "    num_tracks = []\n",
    "    \n",
    "    # Make the API request\n",
    "    playlists = sp.user_playlists(username)\n",
    "    for playlist in playlists['items']:\n",
    "        id.append(playlist['id'])\n",
    "        name.append(playlist['name'])\n",
    "        num_tracks.append(playlist['tracks']['total'])\n",
    "\n",
    "    # Create the final df   \n",
    "    df_playlists = pd.DataFrame({\"id\":id, \"name\": name, \"#tracks\": num_tracks})\n",
    "    return df_playlists"
   ]
  },
  {
   "cell_type": "code",
   "execution_count": 40,
   "metadata": {},
   "outputs": [
    {
     "output_type": "execute_result",
     "data": {
      "text/plain": [
       "                       id           name  #tracks\n",
       "0  45lcKuY3x2s1xp92NxNPHu  Your New Jams        0\n",
       "1  4YrlQcV8l2fXIut0ghVlsR  Your New Jams        9\n",
       "2  4SUx4dz3ZuCvpcdCCDnGXF  Your New Jams       11\n",
       "3  5BvxGNFRftGX1qrDgnOfe5  Your New Jams        3\n",
       "4  3HvrwHSmvuJnKZm1mhxKSK  Your New Jams       11"
      ],
      "text/html": "<div>\n<style scoped>\n    .dataframe tbody tr th:only-of-type {\n        vertical-align: middle;\n    }\n\n    .dataframe tbody tr th {\n        vertical-align: top;\n    }\n\n    .dataframe thead th {\n        text-align: right;\n    }\n</style>\n<table border=\"1\" class=\"dataframe\">\n  <thead>\n    <tr style=\"text-align: right;\">\n      <th></th>\n      <th>id</th>\n      <th>name</th>\n      <th>#tracks</th>\n    </tr>\n  </thead>\n  <tbody>\n    <tr>\n      <th>0</th>\n      <td>45lcKuY3x2s1xp92NxNPHu</td>\n      <td>Your New Jams</td>\n      <td>0</td>\n    </tr>\n    <tr>\n      <th>1</th>\n      <td>4YrlQcV8l2fXIut0ghVlsR</td>\n      <td>Your New Jams</td>\n      <td>9</td>\n    </tr>\n    <tr>\n      <th>2</th>\n      <td>4SUx4dz3ZuCvpcdCCDnGXF</td>\n      <td>Your New Jams</td>\n      <td>11</td>\n    </tr>\n    <tr>\n      <th>3</th>\n      <td>5BvxGNFRftGX1qrDgnOfe5</td>\n      <td>Your New Jams</td>\n      <td>3</td>\n    </tr>\n    <tr>\n      <th>4</th>\n      <td>3HvrwHSmvuJnKZm1mhxKSK</td>\n      <td>Your New Jams</td>\n      <td>11</td>\n    </tr>\n  </tbody>\n</table>\n</div>"
     },
     "metadata": {},
     "execution_count": 40
    }
   ],
   "source": [
    "fetch_playlists(sp,username).head()"
   ]
  },
  {
   "cell_type": "code",
   "execution_count": 41,
   "metadata": {},
   "outputs": [],
   "source": [
    "playlist_id = fetch_playlists(sp,username)['id'][0]"
   ]
  },
  {
   "cell_type": "code",
   "execution_count": 42,
   "metadata": {},
   "outputs": [],
   "source": [
    "def enrich_playlist(sp, username, playlist_id, playlist_tracks):\n",
    "    index = 0\n",
    "    results = []\n",
    "    \n",
    "    while index < len(playlist_tracks):\n",
    "        results += sp.user_playlist_add_tracks(username, playlist_id, tracks = playlist_tracks[index:index + 50])\n",
    "        index += 50"
   ]
  },
  {
   "cell_type": "code",
   "execution_count": 43,
   "metadata": {},
   "outputs": [
    {
     "output_type": "execute_result",
     "data": {
      "text/plain": [
       "                       id           name  #tracks\n",
       "0  45lcKuY3x2s1xp92NxNPHu  Your New Jams        6\n",
       "1  4YrlQcV8l2fXIut0ghVlsR  Your New Jams        9\n",
       "2  4SUx4dz3ZuCvpcdCCDnGXF  Your New Jams       11\n",
       "3  5BvxGNFRftGX1qrDgnOfe5  Your New Jams        3\n",
       "4  3HvrwHSmvuJnKZm1mhxKSK  Your New Jams       11"
      ],
      "text/html": "<div>\n<style scoped>\n    .dataframe tbody tr th:only-of-type {\n        vertical-align: middle;\n    }\n\n    .dataframe tbody tr th {\n        vertical-align: top;\n    }\n\n    .dataframe thead th {\n        text-align: right;\n    }\n</style>\n<table border=\"1\" class=\"dataframe\">\n  <thead>\n    <tr style=\"text-align: right;\">\n      <th></th>\n      <th>id</th>\n      <th>name</th>\n      <th>#tracks</th>\n    </tr>\n  </thead>\n  <tbody>\n    <tr>\n      <th>0</th>\n      <td>45lcKuY3x2s1xp92NxNPHu</td>\n      <td>Your New Jams</td>\n      <td>6</td>\n    </tr>\n    <tr>\n      <th>1</th>\n      <td>4YrlQcV8l2fXIut0ghVlsR</td>\n      <td>Your New Jams</td>\n      <td>9</td>\n    </tr>\n    <tr>\n      <th>2</th>\n      <td>4SUx4dz3ZuCvpcdCCDnGXF</td>\n      <td>Your New Jams</td>\n      <td>11</td>\n    </tr>\n    <tr>\n      <th>3</th>\n      <td>5BvxGNFRftGX1qrDgnOfe5</td>\n      <td>Your New Jams</td>\n      <td>3</td>\n    </tr>\n    <tr>\n      <th>4</th>\n      <td>3HvrwHSmvuJnKZm1mhxKSK</td>\n      <td>Your New Jams</td>\n      <td>11</td>\n    </tr>\n  </tbody>\n</table>\n</div>"
     },
     "metadata": {},
     "execution_count": 43
    }
   ],
   "source": [
    "list_track = df.loc[df['prediction']  == 1]['track_id']\n",
    "enrich_playlist(sp, username, playlist_id, list_track)\n",
    "fetch_playlists(sp,username).head()"
   ]
  }
 ]
}