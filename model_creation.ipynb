{
 "metadata": {
  "language_info": {
   "codemirror_mode": {
    "name": "ipython",
    "version": 3
   },
   "file_extension": ".py",
   "mimetype": "text/x-python",
   "name": "python",
   "nbconvert_exporter": "python",
   "pygments_lexer": "ipython3",
   "version": "3.9.2-final"
  },
  "orig_nbformat": 2,
  "kernelspec": {
   "name": "python3",
   "display_name": "Python 3.9.2 64-bit ('spotify_recommender': conda)",
   "metadata": {
    "interpreter": {
     "hash": "2fce50c966ce3004344c1d0428fb8658cb2ec3c9dafd73e971076d9a0c6eeeea"
    }
   }
  }
 },
 "nbformat": 4,
 "nbformat_minor": 2,
 "cells": [
  {
   "cell_type": "code",
   "execution_count": 1,
   "metadata": {},
   "outputs": [],
   "source": [
    "import pandas as pd\n",
    "import numpy as np\n",
    "import seaborn as sns\n",
    "import matplotlib.pyplot as plt\n",
    "import matplotlib.ticker as plticker\n",
    "from imblearn.over_sampling import SMOTE\n",
    "%matplotlib inline"
   ]
  },
  {
   "cell_type": "code",
   "execution_count": 2,
   "metadata": {},
   "outputs": [],
   "source": [
    "# Importing playlist dataframes\n",
    "df = pd.read_csv('data/encoded_playlist_songs.csv')\n",
    "df_fav = pd.read_csv('data/favorite_songs.csv')"
   ]
  },
  {
   "cell_type": "code",
   "execution_count": 3,
   "metadata": {},
   "outputs": [
    {
     "output_type": "stream",
     "name": "stdout",
     "text": [
      "<class 'pandas.core.frame.DataFrame'>\nRangeIndex: 9769 entries, 0 to 9768\nData columns (total 17 columns):\n #   Column            Non-Null Count  Dtype  \n---  ------            --------------  -----  \n 0   track_id          9769 non-null   object \n 1   name              9769 non-null   int64  \n 2   album             9769 non-null   int64  \n 3   artist            9769 non-null   int64  \n 4   release_date      9769 non-null   int64  \n 5   length            9769 non-null   int64  \n 6   popularity        9769 non-null   int64  \n 7   danceability      9769 non-null   float64\n 8   acousticness      9769 non-null   float64\n 9   energy            9769 non-null   float64\n 10  instrumentalness  9769 non-null   float64\n 11  liveness          9769 non-null   float64\n 12  loudness          9769 non-null   float64\n 13  speechiness       9769 non-null   float64\n 14  tempo             9769 non-null   float64\n 15  time_signature    9769 non-null   int64  \n 16  favorite          9769 non-null   int64  \ndtypes: float64(8), int64(8), object(1)\nmemory usage: 1.3+ MB\n"
     ]
    }
   ],
   "source": [
    "df.info()"
   ]
  },
  {
   "cell_type": "code",
   "execution_count": 4,
   "metadata": {},
   "outputs": [
    {
     "output_type": "stream",
     "name": "stdout",
     "text": [
      "<class 'pandas.core.frame.DataFrame'>\nRangeIndex: 50 entries, 0 to 49\nData columns (total 17 columns):\n #   Column            Non-Null Count  Dtype  \n---  ------            --------------  -----  \n 0   track_id          50 non-null     object \n 1   name              50 non-null     int64  \n 2   album             50 non-null     int64  \n 3   artist            50 non-null     int64  \n 4   release_date      50 non-null     int64  \n 5   length            50 non-null     int64  \n 6   popularity        50 non-null     int64  \n 7   danceability      50 non-null     float64\n 8   acousticness      50 non-null     float64\n 9   energy            50 non-null     float64\n 10  instrumentalness  50 non-null     float64\n 11  liveness          50 non-null     float64\n 12  loudness          50 non-null     float64\n 13  speechiness       50 non-null     float64\n 14  tempo             50 non-null     float64\n 15  time_signature    50 non-null     int64  \n 16  favorite          50 non-null     int64  \ndtypes: float64(8), int64(8), object(1)\nmemory usage: 6.8+ KB\n"
     ]
    }
   ],
   "source": [
    "df_fav.info()"
   ]
  },
  {
   "source": [
    "### Preparing data for model"
   ],
   "cell_type": "markdown",
   "metadata": {}
  },
  {
   "cell_type": "code",
   "execution_count": 5,
   "metadata": {},
   "outputs": [
    {
     "output_type": "execute_result",
     "data": {
      "text/plain": [
       "(9819, 17)"
      ]
     },
     "metadata": {},
     "execution_count": 5
    }
   ],
   "source": [
    "df = pd.concat([df, df_fav], axis=0)\n",
    "df.shape"
   ]
  },
  {
   "cell_type": "code",
   "execution_count": 6,
   "metadata": {},
   "outputs": [
    {
     "output_type": "execute_result",
     "data": {
      "text/plain": [
       "                 track_id  name  album  artist  release_date  length  \\\n",
       "0  7MAibcTli4IisCtbHKrGMh  4008   3340     581          2524  242096   \n",
       "1  5QO79kh1waicV47BqGRL3g  6038    212    3746          2293  215626   \n",
       "2  1diS6nkxMQc3wwC4G1j0bh  8118   2222    1091          2505  165506   \n",
       "3  4u4NyuceXP7Uzh7XFJKCr1  3096   2743    1917          2524  170813   \n",
       "4  3Ofmpyhv5UAQ70mENzB277   542    433    2439          2478  132780   \n",
       "\n",
       "   popularity  danceability  acousticness  energy  instrumentalness  liveness  \\\n",
       "0          90         0.586        0.1820   0.616          0.000000    0.0927   \n",
       "1          97         0.680        0.0212   0.826          0.000012    0.5430   \n",
       "2          88         0.722        0.0319   0.588          0.000000    0.1830   \n",
       "3          89         0.658        0.0106   0.634          0.000000    0.1320   \n",
       "4          94         0.778        0.1750   0.695          0.000000    0.1500   \n",
       "\n",
       "   loudness  speechiness    tempo  time_signature  favorite  \n",
       "0    -7.964       0.0324  148.088               4         0  \n",
       "1    -5.487       0.0309  118.051               4         0  \n",
       "2    -5.932       0.0544  134.010               4         0  \n",
       "3    -5.797       0.0413  139.980               4         0  \n",
       "4    -6.865       0.0913  149.996               4         0  "
      ],
      "text/html": "<div>\n<style scoped>\n    .dataframe tbody tr th:only-of-type {\n        vertical-align: middle;\n    }\n\n    .dataframe tbody tr th {\n        vertical-align: top;\n    }\n\n    .dataframe thead th {\n        text-align: right;\n    }\n</style>\n<table border=\"1\" class=\"dataframe\">\n  <thead>\n    <tr style=\"text-align: right;\">\n      <th></th>\n      <th>track_id</th>\n      <th>name</th>\n      <th>album</th>\n      <th>artist</th>\n      <th>release_date</th>\n      <th>length</th>\n      <th>popularity</th>\n      <th>danceability</th>\n      <th>acousticness</th>\n      <th>energy</th>\n      <th>instrumentalness</th>\n      <th>liveness</th>\n      <th>loudness</th>\n      <th>speechiness</th>\n      <th>tempo</th>\n      <th>time_signature</th>\n      <th>favorite</th>\n    </tr>\n  </thead>\n  <tbody>\n    <tr>\n      <th>0</th>\n      <td>7MAibcTli4IisCtbHKrGMh</td>\n      <td>4008</td>\n      <td>3340</td>\n      <td>581</td>\n      <td>2524</td>\n      <td>242096</td>\n      <td>90</td>\n      <td>0.586</td>\n      <td>0.1820</td>\n      <td>0.616</td>\n      <td>0.000000</td>\n      <td>0.0927</td>\n      <td>-7.964</td>\n      <td>0.0324</td>\n      <td>148.088</td>\n      <td>4</td>\n      <td>0</td>\n    </tr>\n    <tr>\n      <th>1</th>\n      <td>5QO79kh1waicV47BqGRL3g</td>\n      <td>6038</td>\n      <td>212</td>\n      <td>3746</td>\n      <td>2293</td>\n      <td>215626</td>\n      <td>97</td>\n      <td>0.680</td>\n      <td>0.0212</td>\n      <td>0.826</td>\n      <td>0.000012</td>\n      <td>0.5430</td>\n      <td>-5.487</td>\n      <td>0.0309</td>\n      <td>118.051</td>\n      <td>4</td>\n      <td>0</td>\n    </tr>\n    <tr>\n      <th>2</th>\n      <td>1diS6nkxMQc3wwC4G1j0bh</td>\n      <td>8118</td>\n      <td>2222</td>\n      <td>1091</td>\n      <td>2505</td>\n      <td>165506</td>\n      <td>88</td>\n      <td>0.722</td>\n      <td>0.0319</td>\n      <td>0.588</td>\n      <td>0.000000</td>\n      <td>0.1830</td>\n      <td>-5.932</td>\n      <td>0.0544</td>\n      <td>134.010</td>\n      <td>4</td>\n      <td>0</td>\n    </tr>\n    <tr>\n      <th>3</th>\n      <td>4u4NyuceXP7Uzh7XFJKCr1</td>\n      <td>3096</td>\n      <td>2743</td>\n      <td>1917</td>\n      <td>2524</td>\n      <td>170813</td>\n      <td>89</td>\n      <td>0.658</td>\n      <td>0.0106</td>\n      <td>0.634</td>\n      <td>0.000000</td>\n      <td>0.1320</td>\n      <td>-5.797</td>\n      <td>0.0413</td>\n      <td>139.980</td>\n      <td>4</td>\n      <td>0</td>\n    </tr>\n    <tr>\n      <th>4</th>\n      <td>3Ofmpyhv5UAQ70mENzB277</td>\n      <td>542</td>\n      <td>433</td>\n      <td>2439</td>\n      <td>2478</td>\n      <td>132780</td>\n      <td>94</td>\n      <td>0.778</td>\n      <td>0.1750</td>\n      <td>0.695</td>\n      <td>0.000000</td>\n      <td>0.1500</td>\n      <td>-6.865</td>\n      <td>0.0913</td>\n      <td>149.996</td>\n      <td>4</td>\n      <td>0</td>\n    </tr>\n  </tbody>\n</table>\n</div>"
     },
     "metadata": {},
     "execution_count": 6
    }
   ],
   "source": [
    "df.head()"
   ]
  },
  {
   "cell_type": "code",
   "execution_count": 7,
   "metadata": {},
   "outputs": [
    {
     "output_type": "execute_result",
     "data": {
      "text/plain": [
       "0    9769\n",
       "1      50\n",
       "Name: favorite, dtype: int64"
      ]
     },
     "metadata": {},
     "execution_count": 7
    }
   ],
   "source": [
    "df['favorite'].value_counts()"
   ]
  },
  {
   "source": [
    "### Model Selection & Hyperparameter Tuning"
   ],
   "cell_type": "markdown",
   "metadata": {}
  },
  {
   "cell_type": "code",
   "execution_count": 8,
   "metadata": {},
   "outputs": [],
   "source": [
    "# Importing required libraries\n",
    "import sklearn\n",
    "from sklearn.pipeline import Pipeline\n",
    "from sklearn.model_selection import cross_val_score\n",
    "from sklearn.model_selection import train_test_split\n",
    "from sklearn.model_selection import GridSearchCV\n",
    "from sklearn import metrics \n",
    "from sklearn.metrics import f1_score\n",
    "# Models\n",
    "from sklearn.ensemble import RandomForestClassifier\n",
    "from sklearn.linear_model import LogisticRegression \n",
    "from sklearn.tree import DecisionTreeClassifier"
   ]
  },
  {
   "cell_type": "code",
   "execution_count": 9,
   "metadata": {},
   "outputs": [],
   "source": [
    "# Shuffle your dataset \n",
    "shuffle_df = df.sample(frac=1)\n",
    "\n",
    "# Define a size for your train set \n",
    "train_size = int(0.8 * len(df))\n",
    "\n",
    "# Split dataset \n",
    "train_set = shuffle_df[:train_size]\n",
    "test_set = shuffle_df[train_size:]"
   ]
  },
  {
   "cell_type": "code",
   "execution_count": 10,
   "metadata": {},
   "outputs": [
    {
     "output_type": "execute_result",
     "data": {
      "text/plain": [
       "                    track_id  name  album  artist  release_date  length  \\\n",
       "5934  0id7TrBjYYzQ5v5mHWTUxC  2473   2115    2047          2377  205440   \n",
       "1683  3Rp8FNCr3yxM3fGFy99LN8  6350   5512    4021          2360  251846   \n",
       "7820  28bl4jzGKXm5BUaEvCm973  1417   6830     251          1140  220333   \n",
       "497   0M3WxzvPruZ2i5dvOOGAOC  3957   3309    1456          2466  189060   \n",
       "7086  65gBp1aZvizgSWsXBSsHp0  7515   3045     887           174  462066   \n",
       "\n",
       "      popularity  danceability  acousticness  energy  instrumentalness  \\\n",
       "5934          59         0.680      0.004850   0.761          0.001390   \n",
       "1683          55         0.673      0.025800   0.740          0.000000   \n",
       "7820          42         0.423      0.834000   0.231          0.439000   \n",
       "497           59         0.408      0.000142   0.949          0.000005   \n",
       "7086           0         0.806      0.024500   0.937          0.834000   \n",
       "\n",
       "      liveness  loudness  speechiness    tempo  time_signature  favorite  \n",
       "5934    0.0644    -6.142       0.0288  124.981               4         0  \n",
       "1683    0.1270    -4.945       0.0847   90.026               4         0  \n",
       "7820    0.2770   -16.658       0.0381  138.586               3         0  \n",
       "497     0.2600    -3.187       0.1680  155.124               4         0  \n",
       "7086    0.1010    -6.933       0.0466  121.930               4         0  "
      ],
      "text/html": "<div>\n<style scoped>\n    .dataframe tbody tr th:only-of-type {\n        vertical-align: middle;\n    }\n\n    .dataframe tbody tr th {\n        vertical-align: top;\n    }\n\n    .dataframe thead th {\n        text-align: right;\n    }\n</style>\n<table border=\"1\" class=\"dataframe\">\n  <thead>\n    <tr style=\"text-align: right;\">\n      <th></th>\n      <th>track_id</th>\n      <th>name</th>\n      <th>album</th>\n      <th>artist</th>\n      <th>release_date</th>\n      <th>length</th>\n      <th>popularity</th>\n      <th>danceability</th>\n      <th>acousticness</th>\n      <th>energy</th>\n      <th>instrumentalness</th>\n      <th>liveness</th>\n      <th>loudness</th>\n      <th>speechiness</th>\n      <th>tempo</th>\n      <th>time_signature</th>\n      <th>favorite</th>\n    </tr>\n  </thead>\n  <tbody>\n    <tr>\n      <th>5934</th>\n      <td>0id7TrBjYYzQ5v5mHWTUxC</td>\n      <td>2473</td>\n      <td>2115</td>\n      <td>2047</td>\n      <td>2377</td>\n      <td>205440</td>\n      <td>59</td>\n      <td>0.680</td>\n      <td>0.004850</td>\n      <td>0.761</td>\n      <td>0.001390</td>\n      <td>0.0644</td>\n      <td>-6.142</td>\n      <td>0.0288</td>\n      <td>124.981</td>\n      <td>4</td>\n      <td>0</td>\n    </tr>\n    <tr>\n      <th>1683</th>\n      <td>3Rp8FNCr3yxM3fGFy99LN8</td>\n      <td>6350</td>\n      <td>5512</td>\n      <td>4021</td>\n      <td>2360</td>\n      <td>251846</td>\n      <td>55</td>\n      <td>0.673</td>\n      <td>0.025800</td>\n      <td>0.740</td>\n      <td>0.000000</td>\n      <td>0.1270</td>\n      <td>-4.945</td>\n      <td>0.0847</td>\n      <td>90.026</td>\n      <td>4</td>\n      <td>0</td>\n    </tr>\n    <tr>\n      <th>7820</th>\n      <td>28bl4jzGKXm5BUaEvCm973</td>\n      <td>1417</td>\n      <td>6830</td>\n      <td>251</td>\n      <td>1140</td>\n      <td>220333</td>\n      <td>42</td>\n      <td>0.423</td>\n      <td>0.834000</td>\n      <td>0.231</td>\n      <td>0.439000</td>\n      <td>0.2770</td>\n      <td>-16.658</td>\n      <td>0.0381</td>\n      <td>138.586</td>\n      <td>3</td>\n      <td>0</td>\n    </tr>\n    <tr>\n      <th>497</th>\n      <td>0M3WxzvPruZ2i5dvOOGAOC</td>\n      <td>3957</td>\n      <td>3309</td>\n      <td>1456</td>\n      <td>2466</td>\n      <td>189060</td>\n      <td>59</td>\n      <td>0.408</td>\n      <td>0.000142</td>\n      <td>0.949</td>\n      <td>0.000005</td>\n      <td>0.2600</td>\n      <td>-3.187</td>\n      <td>0.1680</td>\n      <td>155.124</td>\n      <td>4</td>\n      <td>0</td>\n    </tr>\n    <tr>\n      <th>7086</th>\n      <td>65gBp1aZvizgSWsXBSsHp0</td>\n      <td>7515</td>\n      <td>3045</td>\n      <td>887</td>\n      <td>174</td>\n      <td>462066</td>\n      <td>0</td>\n      <td>0.806</td>\n      <td>0.024500</td>\n      <td>0.937</td>\n      <td>0.834000</td>\n      <td>0.1010</td>\n      <td>-6.933</td>\n      <td>0.0466</td>\n      <td>121.930</td>\n      <td>4</td>\n      <td>0</td>\n    </tr>\n  </tbody>\n</table>\n</div>"
     },
     "metadata": {},
     "execution_count": 10
    }
   ],
   "source": [
    "train_set.head()"
   ]
  },
  {
   "cell_type": "code",
   "execution_count": 11,
   "metadata": {},
   "outputs": [
    {
     "output_type": "execute_result",
     "data": {
      "text/plain": [
       "      name  album  artist  release_date  length  popularity  danceability  \\\n",
       "5934  2473   2115    2047          2377  205440          59         0.680   \n",
       "1683  6350   5512    4021          2360  251846          55         0.673   \n",
       "7820  1417   6830     251          1140  220333          42         0.423   \n",
       "497   3957   3309    1456          2466  189060          59         0.408   \n",
       "7086  7515   3045     887           174  462066           0         0.806   \n",
       "\n",
       "      acousticness  energy  instrumentalness  liveness  loudness  speechiness  \\\n",
       "5934      0.004850   0.761          0.001390    0.0644    -6.142       0.0288   \n",
       "1683      0.025800   0.740          0.000000    0.1270    -4.945       0.0847   \n",
       "7820      0.834000   0.231          0.439000    0.2770   -16.658       0.0381   \n",
       "497       0.000142   0.949          0.000005    0.2600    -3.187       0.1680   \n",
       "7086      0.024500   0.937          0.834000    0.1010    -6.933       0.0466   \n",
       "\n",
       "        tempo  time_signature  \n",
       "5934  124.981               4  \n",
       "1683   90.026               4  \n",
       "7820  138.586               3  \n",
       "497   155.124               4  \n",
       "7086  121.930               4  "
      ],
      "text/html": "<div>\n<style scoped>\n    .dataframe tbody tr th:only-of-type {\n        vertical-align: middle;\n    }\n\n    .dataframe tbody tr th {\n        vertical-align: top;\n    }\n\n    .dataframe thead th {\n        text-align: right;\n    }\n</style>\n<table border=\"1\" class=\"dataframe\">\n  <thead>\n    <tr style=\"text-align: right;\">\n      <th></th>\n      <th>name</th>\n      <th>album</th>\n      <th>artist</th>\n      <th>release_date</th>\n      <th>length</th>\n      <th>popularity</th>\n      <th>danceability</th>\n      <th>acousticness</th>\n      <th>energy</th>\n      <th>instrumentalness</th>\n      <th>liveness</th>\n      <th>loudness</th>\n      <th>speechiness</th>\n      <th>tempo</th>\n      <th>time_signature</th>\n    </tr>\n  </thead>\n  <tbody>\n    <tr>\n      <th>5934</th>\n      <td>2473</td>\n      <td>2115</td>\n      <td>2047</td>\n      <td>2377</td>\n      <td>205440</td>\n      <td>59</td>\n      <td>0.680</td>\n      <td>0.004850</td>\n      <td>0.761</td>\n      <td>0.001390</td>\n      <td>0.0644</td>\n      <td>-6.142</td>\n      <td>0.0288</td>\n      <td>124.981</td>\n      <td>4</td>\n    </tr>\n    <tr>\n      <th>1683</th>\n      <td>6350</td>\n      <td>5512</td>\n      <td>4021</td>\n      <td>2360</td>\n      <td>251846</td>\n      <td>55</td>\n      <td>0.673</td>\n      <td>0.025800</td>\n      <td>0.740</td>\n      <td>0.000000</td>\n      <td>0.1270</td>\n      <td>-4.945</td>\n      <td>0.0847</td>\n      <td>90.026</td>\n      <td>4</td>\n    </tr>\n    <tr>\n      <th>7820</th>\n      <td>1417</td>\n      <td>6830</td>\n      <td>251</td>\n      <td>1140</td>\n      <td>220333</td>\n      <td>42</td>\n      <td>0.423</td>\n      <td>0.834000</td>\n      <td>0.231</td>\n      <td>0.439000</td>\n      <td>0.2770</td>\n      <td>-16.658</td>\n      <td>0.0381</td>\n      <td>138.586</td>\n      <td>3</td>\n    </tr>\n    <tr>\n      <th>497</th>\n      <td>3957</td>\n      <td>3309</td>\n      <td>1456</td>\n      <td>2466</td>\n      <td>189060</td>\n      <td>59</td>\n      <td>0.408</td>\n      <td>0.000142</td>\n      <td>0.949</td>\n      <td>0.000005</td>\n      <td>0.2600</td>\n      <td>-3.187</td>\n      <td>0.1680</td>\n      <td>155.124</td>\n      <td>4</td>\n    </tr>\n    <tr>\n      <th>7086</th>\n      <td>7515</td>\n      <td>3045</td>\n      <td>887</td>\n      <td>174</td>\n      <td>462066</td>\n      <td>0</td>\n      <td>0.806</td>\n      <td>0.024500</td>\n      <td>0.937</td>\n      <td>0.834000</td>\n      <td>0.1010</td>\n      <td>-6.933</td>\n      <td>0.0466</td>\n      <td>121.930</td>\n      <td>4</td>\n    </tr>\n  </tbody>\n</table>\n</div>"
     },
     "metadata": {},
     "execution_count": 11
    }
   ],
   "source": [
    "X = train_set.drop(columns=['favorite', 'track_id'])\n",
    "y = train_set.favorite\n",
    "\n",
    "X.head()"
   ]
  },
  {
   "cell_type": "code",
   "execution_count": 12,
   "metadata": {},
   "outputs": [
    {
     "output_type": "execute_result",
     "data": {
      "text/plain": [
       "0    7815\n",
       "1      40\n",
       "Name: favorite, dtype: int64"
      ]
     },
     "metadata": {},
     "execution_count": 12
    }
   ],
   "source": [
    "# Checking for imbalance\n",
    "y.value_counts()"
   ]
  },
  {
   "cell_type": "code",
   "execution_count": 13,
   "metadata": {},
   "outputs": [],
   "source": [
    "# Train / Split Data\n",
    "oversample = SMOTE()\n",
    "X_train, y_train = oversample.fit_resample(X, y) "
   ]
  },
  {
   "cell_type": "code",
   "execution_count": 14,
   "metadata": {},
   "outputs": [
    {
     "output_type": "execute_result",
     "data": {
      "text/plain": [
       "   name  album  artist  release_date  length  popularity  danceability  \\\n",
       "0  2473   2115    2047          2377  205440          59         0.680   \n",
       "1  6350   5512    4021          2360  251846          55         0.673   \n",
       "2  1417   6830     251          1140  220333          42         0.423   \n",
       "3  3957   3309    1456          2466  189060          59         0.408   \n",
       "4  7515   3045     887           174  462066           0         0.806   \n",
       "\n",
       "   acousticness  energy  instrumentalness  liveness  loudness  speechiness  \\\n",
       "0      0.004850   0.761          0.001390    0.0644    -6.142       0.0288   \n",
       "1      0.025800   0.740          0.000000    0.1270    -4.945       0.0847   \n",
       "2      0.834000   0.231          0.439000    0.2770   -16.658       0.0381   \n",
       "3      0.000142   0.949          0.000005    0.2600    -3.187       0.1680   \n",
       "4      0.024500   0.937          0.834000    0.1010    -6.933       0.0466   \n",
       "\n",
       "     tempo  time_signature  \n",
       "0  124.981               4  \n",
       "1   90.026               4  \n",
       "2  138.586               3  \n",
       "3  155.124               4  \n",
       "4  121.930               4  "
      ],
      "text/html": "<div>\n<style scoped>\n    .dataframe tbody tr th:only-of-type {\n        vertical-align: middle;\n    }\n\n    .dataframe tbody tr th {\n        vertical-align: top;\n    }\n\n    .dataframe thead th {\n        text-align: right;\n    }\n</style>\n<table border=\"1\" class=\"dataframe\">\n  <thead>\n    <tr style=\"text-align: right;\">\n      <th></th>\n      <th>name</th>\n      <th>album</th>\n      <th>artist</th>\n      <th>release_date</th>\n      <th>length</th>\n      <th>popularity</th>\n      <th>danceability</th>\n      <th>acousticness</th>\n      <th>energy</th>\n      <th>instrumentalness</th>\n      <th>liveness</th>\n      <th>loudness</th>\n      <th>speechiness</th>\n      <th>tempo</th>\n      <th>time_signature</th>\n    </tr>\n  </thead>\n  <tbody>\n    <tr>\n      <th>0</th>\n      <td>2473</td>\n      <td>2115</td>\n      <td>2047</td>\n      <td>2377</td>\n      <td>205440</td>\n      <td>59</td>\n      <td>0.680</td>\n      <td>0.004850</td>\n      <td>0.761</td>\n      <td>0.001390</td>\n      <td>0.0644</td>\n      <td>-6.142</td>\n      <td>0.0288</td>\n      <td>124.981</td>\n      <td>4</td>\n    </tr>\n    <tr>\n      <th>1</th>\n      <td>6350</td>\n      <td>5512</td>\n      <td>4021</td>\n      <td>2360</td>\n      <td>251846</td>\n      <td>55</td>\n      <td>0.673</td>\n      <td>0.025800</td>\n      <td>0.740</td>\n      <td>0.000000</td>\n      <td>0.1270</td>\n      <td>-4.945</td>\n      <td>0.0847</td>\n      <td>90.026</td>\n      <td>4</td>\n    </tr>\n    <tr>\n      <th>2</th>\n      <td>1417</td>\n      <td>6830</td>\n      <td>251</td>\n      <td>1140</td>\n      <td>220333</td>\n      <td>42</td>\n      <td>0.423</td>\n      <td>0.834000</td>\n      <td>0.231</td>\n      <td>0.439000</td>\n      <td>0.2770</td>\n      <td>-16.658</td>\n      <td>0.0381</td>\n      <td>138.586</td>\n      <td>3</td>\n    </tr>\n    <tr>\n      <th>3</th>\n      <td>3957</td>\n      <td>3309</td>\n      <td>1456</td>\n      <td>2466</td>\n      <td>189060</td>\n      <td>59</td>\n      <td>0.408</td>\n      <td>0.000142</td>\n      <td>0.949</td>\n      <td>0.000005</td>\n      <td>0.2600</td>\n      <td>-3.187</td>\n      <td>0.1680</td>\n      <td>155.124</td>\n      <td>4</td>\n    </tr>\n    <tr>\n      <th>4</th>\n      <td>7515</td>\n      <td>3045</td>\n      <td>887</td>\n      <td>174</td>\n      <td>462066</td>\n      <td>0</td>\n      <td>0.806</td>\n      <td>0.024500</td>\n      <td>0.937</td>\n      <td>0.834000</td>\n      <td>0.1010</td>\n      <td>-6.933</td>\n      <td>0.0466</td>\n      <td>121.930</td>\n      <td>4</td>\n    </tr>\n  </tbody>\n</table>\n</div>"
     },
     "metadata": {},
     "execution_count": 14
    }
   ],
   "source": [
    "X_train.head()"
   ]
  },
  {
   "cell_type": "code",
   "execution_count": 15,
   "metadata": {},
   "outputs": [
    {
     "output_type": "execute_result",
     "data": {
      "text/plain": [
       "0    7815\n",
       "1    7815\n",
       "Name: favorite, dtype: int64"
      ]
     },
     "metadata": {},
     "execution_count": 15
    }
   ],
   "source": [
    "# Checking if imbalance is gone\n",
    "y_train.value_counts()"
   ]
  },
  {
   "cell_type": "code",
   "execution_count": 16,
   "metadata": {},
   "outputs": [
    {
     "output_type": "execute_result",
     "data": {
      "text/plain": [
       "                    track_id  name  album  artist  release_date  length  \\\n",
       "1476  7lSXb6XzrrHCxuE1KQcfRK   812    646    4038          2524  123402   \n",
       "1140  1XZRnzOrLuUhrahFwSao51  2732   2354    4041          2519  169842   \n",
       "8515  63JvZ8pIRAKsHBD1TZqDNn    65   4550     118           680  251266   \n",
       "3887  13hCOEVO2ErbVS7pB2dbCc  4703   6619    1995          1909  203360   \n",
       "1805  3OEi89tc0xveSTHAhwrFKT  8489   7287    3168          2519  188141   \n",
       "\n",
       "      popularity  danceability  acousticness  energy  instrumentalness  \\\n",
       "1476          54         0.856       0.24100   0.522          0.000000   \n",
       "1140          64         0.899       0.00442   0.501          0.000000   \n",
       "8515          15         0.132       0.97700   0.112          0.549000   \n",
       "3887           0         0.532       0.19700   0.632          0.000000   \n",
       "1805          58         0.656       0.09460   0.560          0.000063   \n",
       "\n",
       "      liveness  loudness  speechiness    tempo  time_signature  favorite  \n",
       "1476    0.1560    -7.382       0.3370  143.078               4         0  \n",
       "1140    0.0548    -7.150       0.3200  150.028               4         0  \n",
       "8515    0.1140   -17.674       0.0385   98.089               3         0  \n",
       "3887    0.1290    -6.432       0.0376  189.905               3         0  \n",
       "1805    0.3630    -7.499       0.0465   91.038               4         0  "
      ],
      "text/html": "<div>\n<style scoped>\n    .dataframe tbody tr th:only-of-type {\n        vertical-align: middle;\n    }\n\n    .dataframe tbody tr th {\n        vertical-align: top;\n    }\n\n    .dataframe thead th {\n        text-align: right;\n    }\n</style>\n<table border=\"1\" class=\"dataframe\">\n  <thead>\n    <tr style=\"text-align: right;\">\n      <th></th>\n      <th>track_id</th>\n      <th>name</th>\n      <th>album</th>\n      <th>artist</th>\n      <th>release_date</th>\n      <th>length</th>\n      <th>popularity</th>\n      <th>danceability</th>\n      <th>acousticness</th>\n      <th>energy</th>\n      <th>instrumentalness</th>\n      <th>liveness</th>\n      <th>loudness</th>\n      <th>speechiness</th>\n      <th>tempo</th>\n      <th>time_signature</th>\n      <th>favorite</th>\n    </tr>\n  </thead>\n  <tbody>\n    <tr>\n      <th>1476</th>\n      <td>7lSXb6XzrrHCxuE1KQcfRK</td>\n      <td>812</td>\n      <td>646</td>\n      <td>4038</td>\n      <td>2524</td>\n      <td>123402</td>\n      <td>54</td>\n      <td>0.856</td>\n      <td>0.24100</td>\n      <td>0.522</td>\n      <td>0.000000</td>\n      <td>0.1560</td>\n      <td>-7.382</td>\n      <td>0.3370</td>\n      <td>143.078</td>\n      <td>4</td>\n      <td>0</td>\n    </tr>\n    <tr>\n      <th>1140</th>\n      <td>1XZRnzOrLuUhrahFwSao51</td>\n      <td>2732</td>\n      <td>2354</td>\n      <td>4041</td>\n      <td>2519</td>\n      <td>169842</td>\n      <td>64</td>\n      <td>0.899</td>\n      <td>0.00442</td>\n      <td>0.501</td>\n      <td>0.000000</td>\n      <td>0.0548</td>\n      <td>-7.150</td>\n      <td>0.3200</td>\n      <td>150.028</td>\n      <td>4</td>\n      <td>0</td>\n    </tr>\n    <tr>\n      <th>8515</th>\n      <td>63JvZ8pIRAKsHBD1TZqDNn</td>\n      <td>65</td>\n      <td>4550</td>\n      <td>118</td>\n      <td>680</td>\n      <td>251266</td>\n      <td>15</td>\n      <td>0.132</td>\n      <td>0.97700</td>\n      <td>0.112</td>\n      <td>0.549000</td>\n      <td>0.1140</td>\n      <td>-17.674</td>\n      <td>0.0385</td>\n      <td>98.089</td>\n      <td>3</td>\n      <td>0</td>\n    </tr>\n    <tr>\n      <th>3887</th>\n      <td>13hCOEVO2ErbVS7pB2dbCc</td>\n      <td>4703</td>\n      <td>6619</td>\n      <td>1995</td>\n      <td>1909</td>\n      <td>203360</td>\n      <td>0</td>\n      <td>0.532</td>\n      <td>0.19700</td>\n      <td>0.632</td>\n      <td>0.000000</td>\n      <td>0.1290</td>\n      <td>-6.432</td>\n      <td>0.0376</td>\n      <td>189.905</td>\n      <td>3</td>\n      <td>0</td>\n    </tr>\n    <tr>\n      <th>1805</th>\n      <td>3OEi89tc0xveSTHAhwrFKT</td>\n      <td>8489</td>\n      <td>7287</td>\n      <td>3168</td>\n      <td>2519</td>\n      <td>188141</td>\n      <td>58</td>\n      <td>0.656</td>\n      <td>0.09460</td>\n      <td>0.560</td>\n      <td>0.000063</td>\n      <td>0.3630</td>\n      <td>-7.499</td>\n      <td>0.0465</td>\n      <td>91.038</td>\n      <td>4</td>\n      <td>0</td>\n    </tr>\n  </tbody>\n</table>\n</div>"
     },
     "metadata": {},
     "execution_count": 16
    }
   ],
   "source": [
    "test_set.head()"
   ]
  },
  {
   "cell_type": "code",
   "execution_count": 17,
   "metadata": {},
   "outputs": [],
   "source": [
    "X_test = test_set.drop(columns=['favorite', 'track_id'])\n",
    "y_test = test_set['favorite']"
   ]
  },
  {
   "cell_type": "code",
   "execution_count": 18,
   "metadata": {},
   "outputs": [
    {
     "output_type": "execute_result",
     "data": {
      "text/plain": [
       "      name  album  artist  release_date  length  popularity  danceability  \\\n",
       "1476   812    646    4038          2524  123402          54         0.856   \n",
       "1140  2732   2354    4041          2519  169842          64         0.899   \n",
       "8515    65   4550     118           680  251266          15         0.132   \n",
       "3887  4703   6619    1995          1909  203360           0         0.532   \n",
       "1805  8489   7287    3168          2519  188141          58         0.656   \n",
       "\n",
       "      acousticness  energy  instrumentalness  liveness  loudness  speechiness  \\\n",
       "1476       0.24100   0.522          0.000000    0.1560    -7.382       0.3370   \n",
       "1140       0.00442   0.501          0.000000    0.0548    -7.150       0.3200   \n",
       "8515       0.97700   0.112          0.549000    0.1140   -17.674       0.0385   \n",
       "3887       0.19700   0.632          0.000000    0.1290    -6.432       0.0376   \n",
       "1805       0.09460   0.560          0.000063    0.3630    -7.499       0.0465   \n",
       "\n",
       "        tempo  time_signature  \n",
       "1476  143.078               4  \n",
       "1140  150.028               4  \n",
       "8515   98.089               3  \n",
       "3887  189.905               3  \n",
       "1805   91.038               4  "
      ],
      "text/html": "<div>\n<style scoped>\n    .dataframe tbody tr th:only-of-type {\n        vertical-align: middle;\n    }\n\n    .dataframe tbody tr th {\n        vertical-align: top;\n    }\n\n    .dataframe thead th {\n        text-align: right;\n    }\n</style>\n<table border=\"1\" class=\"dataframe\">\n  <thead>\n    <tr style=\"text-align: right;\">\n      <th></th>\n      <th>name</th>\n      <th>album</th>\n      <th>artist</th>\n      <th>release_date</th>\n      <th>length</th>\n      <th>popularity</th>\n      <th>danceability</th>\n      <th>acousticness</th>\n      <th>energy</th>\n      <th>instrumentalness</th>\n      <th>liveness</th>\n      <th>loudness</th>\n      <th>speechiness</th>\n      <th>tempo</th>\n      <th>time_signature</th>\n    </tr>\n  </thead>\n  <tbody>\n    <tr>\n      <th>1476</th>\n      <td>812</td>\n      <td>646</td>\n      <td>4038</td>\n      <td>2524</td>\n      <td>123402</td>\n      <td>54</td>\n      <td>0.856</td>\n      <td>0.24100</td>\n      <td>0.522</td>\n      <td>0.000000</td>\n      <td>0.1560</td>\n      <td>-7.382</td>\n      <td>0.3370</td>\n      <td>143.078</td>\n      <td>4</td>\n    </tr>\n    <tr>\n      <th>1140</th>\n      <td>2732</td>\n      <td>2354</td>\n      <td>4041</td>\n      <td>2519</td>\n      <td>169842</td>\n      <td>64</td>\n      <td>0.899</td>\n      <td>0.00442</td>\n      <td>0.501</td>\n      <td>0.000000</td>\n      <td>0.0548</td>\n      <td>-7.150</td>\n      <td>0.3200</td>\n      <td>150.028</td>\n      <td>4</td>\n    </tr>\n    <tr>\n      <th>8515</th>\n      <td>65</td>\n      <td>4550</td>\n      <td>118</td>\n      <td>680</td>\n      <td>251266</td>\n      <td>15</td>\n      <td>0.132</td>\n      <td>0.97700</td>\n      <td>0.112</td>\n      <td>0.549000</td>\n      <td>0.1140</td>\n      <td>-17.674</td>\n      <td>0.0385</td>\n      <td>98.089</td>\n      <td>3</td>\n    </tr>\n    <tr>\n      <th>3887</th>\n      <td>4703</td>\n      <td>6619</td>\n      <td>1995</td>\n      <td>1909</td>\n      <td>203360</td>\n      <td>0</td>\n      <td>0.532</td>\n      <td>0.19700</td>\n      <td>0.632</td>\n      <td>0.000000</td>\n      <td>0.1290</td>\n      <td>-6.432</td>\n      <td>0.0376</td>\n      <td>189.905</td>\n      <td>3</td>\n    </tr>\n    <tr>\n      <th>1805</th>\n      <td>8489</td>\n      <td>7287</td>\n      <td>3168</td>\n      <td>2519</td>\n      <td>188141</td>\n      <td>58</td>\n      <td>0.656</td>\n      <td>0.09460</td>\n      <td>0.560</td>\n      <td>0.000063</td>\n      <td>0.3630</td>\n      <td>-7.499</td>\n      <td>0.0465</td>\n      <td>91.038</td>\n      <td>4</td>\n    </tr>\n  </tbody>\n</table>\n</div>"
     },
     "metadata": {},
     "execution_count": 18
    }
   ],
   "source": [
    "X_test.head()"
   ]
  },
  {
   "cell_type": "code",
   "execution_count": 19,
   "metadata": {},
   "outputs": [
    {
     "output_type": "execute_result",
     "data": {
      "text/plain": [
       "0    1954\n",
       "1      10\n",
       "Name: favorite, dtype: int64"
      ]
     },
     "metadata": {},
     "execution_count": 19
    }
   ],
   "source": [
    "# Checking for imbalance in test set\n",
    "y_test.value_counts()"
   ]
  },
  {
   "source": [
    "#### Testing models"
   ],
   "cell_type": "markdown",
   "metadata": {}
  },
  {
   "cell_type": "code",
   "execution_count": 20,
   "metadata": {},
   "outputs": [
    {
     "output_type": "stream",
     "name": "stdout",
     "text": [
      "0.8261404185691497\nCPU times: user 4.36 s, sys: 634 ms, total: 5 s\nWall time: 1.33 s\n"
     ]
    }
   ],
   "source": [
    "%%time\n",
    "# Logistic Regression\n",
    "lr = LogisticRegression(solver='lbfgs', max_iter=400)\n",
    "lr_scores = cross_val_score(lr, X_train, y_train, cv=10, scoring=\"f1\")\n",
    "print(np.mean(lr_scores))"
   ]
  },
  {
   "cell_type": "code",
   "execution_count": 21,
   "metadata": {
    "tags": []
   },
   "outputs": [
    {
     "output_type": "execute_result",
     "data": {
      "text/plain": [
       "{'max_depth': 30}"
      ]
     },
     "metadata": {},
     "execution_count": 21
    }
   ],
   "source": [
    "# Hyperparameter optimization for Decision Tree Classifier\n",
    "parameters = {\n",
    "    'max_depth':[3, 4, 5, 6, 10, 15,20,30],\n",
    "}\n",
    "dtc = Pipeline([('CV',GridSearchCV(DecisionTreeClassifier(), parameters, cv = 5))])\n",
    "dtc.fit(X_train, y_train)\n",
    "dtc.named_steps['CV'].best_params_"
   ]
  },
  {
   "cell_type": "code",
   "execution_count": 22,
   "metadata": {},
   "outputs": [
    {
     "output_type": "stream",
     "name": "stdout",
     "text": [
      "CPU times: user 2.27 s, sys: 27.4 ms, total: 2.3 s\nWall time: 2.33 s\n"
     ]
    },
    {
     "output_type": "execute_result",
     "data": {
      "text/plain": [
       "0.9939422910994944"
      ]
     },
     "metadata": {},
     "execution_count": 22
    }
   ],
   "source": [
    "%%time\n",
    "# Decision Tree Classifier\n",
    "dt = DecisionTreeClassifier(max_depth=30)\n",
    "dt_scores = cross_val_score(dt, X_train, y_train, cv=10, scoring=\"f1\")\n",
    "np.mean(dt_scores)"
   ]
  },
  {
   "cell_type": "code",
   "execution_count": 23,
   "metadata": {},
   "outputs": [
    {
     "output_type": "stream",
     "name": "stdout",
     "text": [
      "CPU times: user 24.7 s, sys: 270 ms, total: 25 s\nWall time: 25.2 s\n"
     ]
    },
    {
     "output_type": "execute_result",
     "data": {
      "text/plain": [
       "{'max_depth': 20, 'n_estimators': 20}"
      ]
     },
     "metadata": {},
     "execution_count": 23
    }
   ],
   "source": [
    "%%time\n",
    "# Hyperparameter optimization of RandomForestClassifier\n",
    "parameters = {\n",
    "    'max_depth':[3, 6,12,15,20],\n",
    "    'n_estimators':[10, 20,30]\n",
    "}\n",
    "clf = Pipeline([('CV',GridSearchCV(RandomForestClassifier(), parameters, cv = 5))])\n",
    "clf.fit(X_train, y_train)\n",
    "clf.named_steps['CV'].best_params_"
   ]
  },
  {
   "cell_type": "code",
   "execution_count": 24,
   "metadata": {},
   "outputs": [
    {
     "output_type": "stream",
     "name": "stdout",
     "text": [
      "CPU times: user 2.56 s, sys: 29 ms, total: 2.59 s\nWall time: 2.61 s\n"
     ]
    },
    {
     "output_type": "execute_result",
     "data": {
      "text/plain": [
       "0.9984664516911563"
      ]
     },
     "metadata": {},
     "execution_count": 24
    }
   ],
   "source": [
    "%%time\n",
    "# RandomForestClassifier\n",
    "rf = Pipeline([('rf', RandomForestClassifier(n_estimators = 10, max_depth = 20))])\n",
    "rf_scores = cross_val_score(rf, X_train, y_train, cv=10, scoring=\"f1\")\n",
    "np.mean(rf_scores)"
   ]
  },
  {
   "source": [
    "Since the RandomForestClassifier has the highest accuracy, I will use it to recommend songs."
   ],
   "cell_type": "markdown",
   "metadata": {}
  },
  {
   "source": [
    "### Using algorithm on test data"
   ],
   "cell_type": "markdown",
   "metadata": {}
  },
  {
   "cell_type": "code",
   "execution_count": 25,
   "metadata": {},
   "outputs": [
    {
     "output_type": "execute_result",
     "data": {
      "text/plain": [
       "0    1954\n",
       "1      10\n",
       "Name: favorite, dtype: int64"
      ]
     },
     "metadata": {},
     "execution_count": 25
    }
   ],
   "source": [
    "# Checking for imabalance\n",
    "y_test.value_counts()"
   ]
  },
  {
   "cell_type": "code",
   "execution_count": 26,
   "metadata": {},
   "outputs": [
    {
     "output_type": "execute_result",
     "data": {
      "text/plain": [
       "0.9974541751527495"
      ]
     },
     "metadata": {},
     "execution_count": 26
    }
   ],
   "source": [
    "# Building a pipeline to use on regular data\n",
    "from sklearn.pipeline import make_pipeline\n",
    "from sklearn.preprocessing import StandardScaler\n",
    "\n",
    "pipe = make_pipeline(StandardScaler(), RandomForestClassifier(n_estimators = 30, max_depth = 20))\n",
    "pipe.fit(X_train, y_train)  # apply scaling on training data\n",
    "# pipe.set_params(logisticrergession__n_estimators=30)\n",
    "Pipeline(steps=[('standardscaler', StandardScaler()),\n",
    "                ('rf', RandomForestClassifier(n_estimators = 30, max_depth = 20))])\n",
    "pipe.score(X_test, y_test)"
   ]
  },
  {
   "cell_type": "code",
   "execution_count": 27,
   "metadata": {},
   "outputs": [
    {
     "output_type": "execute_result",
     "data": {
      "text/plain": [
       "(9819, 17)"
      ]
     },
     "metadata": {},
     "execution_count": 27
    }
   ],
   "source": [
    "df.shape"
   ]
  },
  {
   "cell_type": "code",
   "execution_count": 28,
   "metadata": {},
   "outputs": [
    {
     "output_type": "execute_result",
     "data": {
      "text/plain": [
       "9819"
      ]
     },
     "metadata": {},
     "execution_count": 28
    }
   ],
   "source": [
    "len(pipe.predict(df.drop(['favorite','track_id'], axis=1)))"
   ]
  },
  {
   "source": [
    "## Predicting songs and saving to dataset"
   ],
   "cell_type": "markdown",
   "metadata": {}
  },
  {
   "cell_type": "code",
   "execution_count": 29,
   "metadata": {},
   "outputs": [],
   "source": [
    "df = pd.read_csv('data/encoded_playlist_songs.csv')"
   ]
  },
  {
   "cell_type": "code",
   "execution_count": 30,
   "metadata": {},
   "outputs": [
    {
     "output_type": "execute_result",
     "data": {
      "text/plain": [
       "                 track_id  name  album  artist  release_date  length  \\\n",
       "0  7MAibcTli4IisCtbHKrGMh  4008   3340     581          2524  242096   \n",
       "1  5QO79kh1waicV47BqGRL3g  6038    212    3746          2293  215626   \n",
       "2  1diS6nkxMQc3wwC4G1j0bh  8118   2222    1091          2505  165506   \n",
       "3  4u4NyuceXP7Uzh7XFJKCr1  3096   2743    1917          2524  170813   \n",
       "4  3Ofmpyhv5UAQ70mENzB277   542    433    2439          2478  132780   \n",
       "\n",
       "   popularity  danceability  acousticness  energy  instrumentalness  liveness  \\\n",
       "0          90         0.586        0.1820   0.616          0.000000    0.0927   \n",
       "1          97         0.680        0.0212   0.826          0.000012    0.5430   \n",
       "2          88         0.722        0.0319   0.588          0.000000    0.1830   \n",
       "3          89         0.658        0.0106   0.634          0.000000    0.1320   \n",
       "4          94         0.778        0.1750   0.695          0.000000    0.1500   \n",
       "\n",
       "   loudness  speechiness    tempo  time_signature  favorite  \n",
       "0    -7.964       0.0324  148.088               4         0  \n",
       "1    -5.487       0.0309  118.051               4         0  \n",
       "2    -5.932       0.0544  134.010               4         0  \n",
       "3    -5.797       0.0413  139.980               4         0  \n",
       "4    -6.865       0.0913  149.996               4         0  "
      ],
      "text/html": "<div>\n<style scoped>\n    .dataframe tbody tr th:only-of-type {\n        vertical-align: middle;\n    }\n\n    .dataframe tbody tr th {\n        vertical-align: top;\n    }\n\n    .dataframe thead th {\n        text-align: right;\n    }\n</style>\n<table border=\"1\" class=\"dataframe\">\n  <thead>\n    <tr style=\"text-align: right;\">\n      <th></th>\n      <th>track_id</th>\n      <th>name</th>\n      <th>album</th>\n      <th>artist</th>\n      <th>release_date</th>\n      <th>length</th>\n      <th>popularity</th>\n      <th>danceability</th>\n      <th>acousticness</th>\n      <th>energy</th>\n      <th>instrumentalness</th>\n      <th>liveness</th>\n      <th>loudness</th>\n      <th>speechiness</th>\n      <th>tempo</th>\n      <th>time_signature</th>\n      <th>favorite</th>\n    </tr>\n  </thead>\n  <tbody>\n    <tr>\n      <th>0</th>\n      <td>7MAibcTli4IisCtbHKrGMh</td>\n      <td>4008</td>\n      <td>3340</td>\n      <td>581</td>\n      <td>2524</td>\n      <td>242096</td>\n      <td>90</td>\n      <td>0.586</td>\n      <td>0.1820</td>\n      <td>0.616</td>\n      <td>0.000000</td>\n      <td>0.0927</td>\n      <td>-7.964</td>\n      <td>0.0324</td>\n      <td>148.088</td>\n      <td>4</td>\n      <td>0</td>\n    </tr>\n    <tr>\n      <th>1</th>\n      <td>5QO79kh1waicV47BqGRL3g</td>\n      <td>6038</td>\n      <td>212</td>\n      <td>3746</td>\n      <td>2293</td>\n      <td>215626</td>\n      <td>97</td>\n      <td>0.680</td>\n      <td>0.0212</td>\n      <td>0.826</td>\n      <td>0.000012</td>\n      <td>0.5430</td>\n      <td>-5.487</td>\n      <td>0.0309</td>\n      <td>118.051</td>\n      <td>4</td>\n      <td>0</td>\n    </tr>\n    <tr>\n      <th>2</th>\n      <td>1diS6nkxMQc3wwC4G1j0bh</td>\n      <td>8118</td>\n      <td>2222</td>\n      <td>1091</td>\n      <td>2505</td>\n      <td>165506</td>\n      <td>88</td>\n      <td>0.722</td>\n      <td>0.0319</td>\n      <td>0.588</td>\n      <td>0.000000</td>\n      <td>0.1830</td>\n      <td>-5.932</td>\n      <td>0.0544</td>\n      <td>134.010</td>\n      <td>4</td>\n      <td>0</td>\n    </tr>\n    <tr>\n      <th>3</th>\n      <td>4u4NyuceXP7Uzh7XFJKCr1</td>\n      <td>3096</td>\n      <td>2743</td>\n      <td>1917</td>\n      <td>2524</td>\n      <td>170813</td>\n      <td>89</td>\n      <td>0.658</td>\n      <td>0.0106</td>\n      <td>0.634</td>\n      <td>0.000000</td>\n      <td>0.1320</td>\n      <td>-5.797</td>\n      <td>0.0413</td>\n      <td>139.980</td>\n      <td>4</td>\n      <td>0</td>\n    </tr>\n    <tr>\n      <th>4</th>\n      <td>3Ofmpyhv5UAQ70mENzB277</td>\n      <td>542</td>\n      <td>433</td>\n      <td>2439</td>\n      <td>2478</td>\n      <td>132780</td>\n      <td>94</td>\n      <td>0.778</td>\n      <td>0.1750</td>\n      <td>0.695</td>\n      <td>0.000000</td>\n      <td>0.1500</td>\n      <td>-6.865</td>\n      <td>0.0913</td>\n      <td>149.996</td>\n      <td>4</td>\n      <td>0</td>\n    </tr>\n  </tbody>\n</table>\n</div>"
     },
     "metadata": {},
     "execution_count": 30
    }
   ],
   "source": [
    "df.head()"
   ]
  },
  {
   "cell_type": "code",
   "execution_count": 31,
   "metadata": {},
   "outputs": [],
   "source": [
    "prediction = pipe.predict(df.drop(['favorite','track_id'], axis=1))\n",
    "df['prediction'] = prediction"
   ]
  },
  {
   "cell_type": "code",
   "execution_count": 32,
   "metadata": {},
   "outputs": [
    {
     "output_type": "execute_result",
     "data": {
      "text/plain": [
       "0    0\n",
       "1    0\n",
       "2    0\n",
       "3    0\n",
       "4    0\n",
       "Name: prediction, dtype: int64"
      ]
     },
     "metadata": {},
     "execution_count": 32
    }
   ],
   "source": [
    "df['prediction'].head()"
   ]
  },
  {
   "cell_type": "code",
   "execution_count": 33,
   "metadata": {},
   "outputs": [
    {
     "output_type": "execute_result",
     "data": {
      "text/plain": [
       "0    9765\n",
       "1       4\n",
       "Name: prediction, dtype: int64"
      ]
     },
     "metadata": {},
     "execution_count": 33
    }
   ],
   "source": [
    "df['prediction'].value_counts()"
   ]
  },
  {
   "source": [
    "## Building the playlist from recommended songs"
   ],
   "cell_type": "markdown",
   "metadata": {}
  },
  {
   "cell_type": "code",
   "execution_count": null,
   "metadata": {},
   "outputs": [],
   "source": [
    "def create_playlist(sp, username, playlist_name, playlist_description):\n",
    "    playlists = sp.user_playlist_create(username, playlist_name, description = playlist_description)"
   ]
  },
  {
   "cell_type": "code",
   "execution_count": null,
   "metadata": {},
   "outputs": [],
   "source": [
    "create_playlist(sp, username, 'Your New Jams', 'This playlist was created using python!')"
   ]
  },
  {
   "cell_type": "code",
   "execution_count": null,
   "metadata": {},
   "outputs": [],
   "source": [
    "def fetch_playlists(sp, username):\n",
    "    \"\"\"\n",
    "    Returns the user's playlists.\n",
    "    \"\"\"\n",
    "        \n",
    "    id = []\n",
    "    name = []\n",
    "    num_tracks = []\n",
    "    \n",
    "    # Make the API request\n",
    "    playlists = sp.user_playlists(username)\n",
    "    for playlist in playlists['items']:\n",
    "        id.append(playlist['id'])\n",
    "        name.append(playlist['name'])\n",
    "        num_tracks.append(playlist['tracks']['total'])\n",
    "\n",
    "    # Create the final df   \n",
    "    df_playlists = pd.DataFrame({\"id\":id, \"name\": name, \"#tracks\": num_tracks})\n",
    "    return df_playlists"
   ]
  },
  {
   "cell_type": "code",
   "execution_count": null,
   "metadata": {},
   "outputs": [],
   "source": [
    "fetch_playlists(sp,username).head()"
   ]
  },
  {
   "cell_type": "code",
   "execution_count": null,
   "metadata": {},
   "outputs": [],
   "source": [
    "playlist_id = fetch_playlists(sp,username)['id'][0]"
   ]
  },
  {
   "cell_type": "code",
   "execution_count": null,
   "metadata": {},
   "outputs": [],
   "source": [
    "def enrich_playlist(sp, username, playlist_id, playlist_tracks):\n",
    "    index = 0\n",
    "    results = []\n",
    "    \n",
    "    while index < len(playlist_tracks):\n",
    "        results += sp.user_playlist_add_tracks(username, playlist_id, tracks = playlist_tracks[index:index + 50])\n",
    "        index += 50"
   ]
  },
  {
   "cell_type": "code",
   "execution_count": null,
   "metadata": {},
   "outputs": [],
   "source": [
    "list_track = df2.index\n",
    "enrich_playlist(sp, username, playlist_id, list_track)\n",
    "fetch_playlists(sp,username).head()"
   ]
  }
 ]
}