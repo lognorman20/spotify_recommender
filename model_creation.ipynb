{
 "metadata": {
  "language_info": {
   "codemirror_mode": {
    "name": "ipython",
    "version": 3
   },
   "file_extension": ".py",
   "mimetype": "text/x-python",
   "name": "python",
   "nbconvert_exporter": "python",
   "pygments_lexer": "ipython3",
   "version": "3.9.2-final"
  },
  "orig_nbformat": 2,
  "kernelspec": {
   "name": "python3",
   "display_name": "Python 3.9.2 64-bit ('spotify_recommender': conda)",
   "metadata": {
    "interpreter": {
     "hash": "2fce50c966ce3004344c1d0428fb8658cb2ec3c9dafd73e971076d9a0c6eeeea"
    }
   }
  }
 },
 "nbformat": 4,
 "nbformat_minor": 2,
 "cells": [
  {
   "cell_type": "code",
   "execution_count": 1,
   "metadata": {},
   "outputs": [],
   "source": [
    "import pandas as pd\n",
    "import numpy as np\n",
    "import seaborn as sns\n",
    "import matplotlib.pyplot as plt\n",
    "import matplotlib.ticker as plticker\n",
    "from imblearn.over_sampling import SMOTE\n",
    "%matplotlib inline"
   ]
  },
  {
   "cell_type": "code",
   "execution_count": 2,
   "metadata": {},
   "outputs": [],
   "source": [
    "# Importing playlist dataframes\n",
    "df = pd.read_csv('data/encoded_playlist_songs.csv')\n",
    "df_fav = pd.read_csv('data/favorite_songs.csv')"
   ]
  },
  {
   "cell_type": "code",
   "execution_count": 3,
   "metadata": {},
   "outputs": [
    {
     "output_type": "stream",
     "name": "stdout",
     "text": [
      "<class 'pandas.core.frame.DataFrame'>\nRangeIndex: 9769 entries, 0 to 9768\nData columns (total 17 columns):\n #   Column            Non-Null Count  Dtype  \n---  ------            --------------  -----  \n 0   track_id          9769 non-null   object \n 1   name              9769 non-null   int64  \n 2   album             9769 non-null   int64  \n 3   artist            9769 non-null   int64  \n 4   release_date      9769 non-null   int64  \n 5   length            9769 non-null   int64  \n 6   popularity        9769 non-null   int64  \n 7   danceability      9769 non-null   float64\n 8   acousticness      9769 non-null   float64\n 9   energy            9769 non-null   float64\n 10  instrumentalness  9769 non-null   float64\n 11  liveness          9769 non-null   float64\n 12  loudness          9769 non-null   float64\n 13  speechiness       9769 non-null   float64\n 14  tempo             9769 non-null   float64\n 15  time_signature    9769 non-null   int64  \n 16  favorite          9769 non-null   int64  \ndtypes: float64(8), int64(8), object(1)\nmemory usage: 1.3+ MB\n"
     ]
    }
   ],
   "source": [
    "df.info()"
   ]
  },
  {
   "cell_type": "code",
   "execution_count": 4,
   "metadata": {},
   "outputs": [
    {
     "output_type": "stream",
     "name": "stdout",
     "text": [
      "<class 'pandas.core.frame.DataFrame'>\nRangeIndex: 50 entries, 0 to 49\nData columns (total 17 columns):\n #   Column            Non-Null Count  Dtype  \n---  ------            --------------  -----  \n 0   track_id          50 non-null     object \n 1   name              50 non-null     int64  \n 2   album             50 non-null     int64  \n 3   artist            50 non-null     int64  \n 4   release_date      50 non-null     int64  \n 5   length            50 non-null     int64  \n 6   popularity        50 non-null     int64  \n 7   danceability      50 non-null     float64\n 8   acousticness      50 non-null     float64\n 9   energy            50 non-null     float64\n 10  instrumentalness  50 non-null     float64\n 11  liveness          50 non-null     float64\n 12  loudness          50 non-null     float64\n 13  speechiness       50 non-null     float64\n 14  tempo             50 non-null     float64\n 15  time_signature    50 non-null     int64  \n 16  favorite          50 non-null     int64  \ndtypes: float64(8), int64(8), object(1)\nmemory usage: 6.8+ KB\n"
     ]
    }
   ],
   "source": [
    "df_fav.info()"
   ]
  },
  {
   "source": [
    "### Preparing data for model"
   ],
   "cell_type": "markdown",
   "metadata": {}
  },
  {
   "cell_type": "code",
   "execution_count": 5,
   "metadata": {},
   "outputs": [
    {
     "output_type": "execute_result",
     "data": {
      "text/plain": [
       "(9819, 17)"
      ]
     },
     "metadata": {},
     "execution_count": 5
    }
   ],
   "source": [
    "df = pd.concat([df, df_fav], axis=0)\n",
    "df.shape"
   ]
  },
  {
   "cell_type": "code",
   "execution_count": 6,
   "metadata": {},
   "outputs": [
    {
     "output_type": "execute_result",
     "data": {
      "text/plain": [
       "                 track_id  name  album  artist  release_date  length  \\\n",
       "0  7MAibcTli4IisCtbHKrGMh  4008   3340     581          2524  242096   \n",
       "1  5QO79kh1waicV47BqGRL3g  6038    212    3746          2293  215626   \n",
       "2  1diS6nkxMQc3wwC4G1j0bh  8118   2222    1091          2505  165506   \n",
       "3  4u4NyuceXP7Uzh7XFJKCr1  3096   2743    1917          2524  170813   \n",
       "4  3Ofmpyhv5UAQ70mENzB277   542    433    2439          2478  132780   \n",
       "\n",
       "   popularity  danceability  acousticness  energy  instrumentalness  liveness  \\\n",
       "0          90         0.586        0.1820   0.616          0.000000    0.0927   \n",
       "1          97         0.680        0.0212   0.826          0.000012    0.5430   \n",
       "2          88         0.722        0.0319   0.588          0.000000    0.1830   \n",
       "3          89         0.658        0.0106   0.634          0.000000    0.1320   \n",
       "4          94         0.778        0.1750   0.695          0.000000    0.1500   \n",
       "\n",
       "   loudness  speechiness    tempo  time_signature  favorite  \n",
       "0    -7.964       0.0324  148.088               4         0  \n",
       "1    -5.487       0.0309  118.051               4         0  \n",
       "2    -5.932       0.0544  134.010               4         0  \n",
       "3    -5.797       0.0413  139.980               4         0  \n",
       "4    -6.865       0.0913  149.996               4         0  "
      ],
      "text/html": "<div>\n<style scoped>\n    .dataframe tbody tr th:only-of-type {\n        vertical-align: middle;\n    }\n\n    .dataframe tbody tr th {\n        vertical-align: top;\n    }\n\n    .dataframe thead th {\n        text-align: right;\n    }\n</style>\n<table border=\"1\" class=\"dataframe\">\n  <thead>\n    <tr style=\"text-align: right;\">\n      <th></th>\n      <th>track_id</th>\n      <th>name</th>\n      <th>album</th>\n      <th>artist</th>\n      <th>release_date</th>\n      <th>length</th>\n      <th>popularity</th>\n      <th>danceability</th>\n      <th>acousticness</th>\n      <th>energy</th>\n      <th>instrumentalness</th>\n      <th>liveness</th>\n      <th>loudness</th>\n      <th>speechiness</th>\n      <th>tempo</th>\n      <th>time_signature</th>\n      <th>favorite</th>\n    </tr>\n  </thead>\n  <tbody>\n    <tr>\n      <th>0</th>\n      <td>7MAibcTli4IisCtbHKrGMh</td>\n      <td>4008</td>\n      <td>3340</td>\n      <td>581</td>\n      <td>2524</td>\n      <td>242096</td>\n      <td>90</td>\n      <td>0.586</td>\n      <td>0.1820</td>\n      <td>0.616</td>\n      <td>0.000000</td>\n      <td>0.0927</td>\n      <td>-7.964</td>\n      <td>0.0324</td>\n      <td>148.088</td>\n      <td>4</td>\n      <td>0</td>\n    </tr>\n    <tr>\n      <th>1</th>\n      <td>5QO79kh1waicV47BqGRL3g</td>\n      <td>6038</td>\n      <td>212</td>\n      <td>3746</td>\n      <td>2293</td>\n      <td>215626</td>\n      <td>97</td>\n      <td>0.680</td>\n      <td>0.0212</td>\n      <td>0.826</td>\n      <td>0.000012</td>\n      <td>0.5430</td>\n      <td>-5.487</td>\n      <td>0.0309</td>\n      <td>118.051</td>\n      <td>4</td>\n      <td>0</td>\n    </tr>\n    <tr>\n      <th>2</th>\n      <td>1diS6nkxMQc3wwC4G1j0bh</td>\n      <td>8118</td>\n      <td>2222</td>\n      <td>1091</td>\n      <td>2505</td>\n      <td>165506</td>\n      <td>88</td>\n      <td>0.722</td>\n      <td>0.0319</td>\n      <td>0.588</td>\n      <td>0.000000</td>\n      <td>0.1830</td>\n      <td>-5.932</td>\n      <td>0.0544</td>\n      <td>134.010</td>\n      <td>4</td>\n      <td>0</td>\n    </tr>\n    <tr>\n      <th>3</th>\n      <td>4u4NyuceXP7Uzh7XFJKCr1</td>\n      <td>3096</td>\n      <td>2743</td>\n      <td>1917</td>\n      <td>2524</td>\n      <td>170813</td>\n      <td>89</td>\n      <td>0.658</td>\n      <td>0.0106</td>\n      <td>0.634</td>\n      <td>0.000000</td>\n      <td>0.1320</td>\n      <td>-5.797</td>\n      <td>0.0413</td>\n      <td>139.980</td>\n      <td>4</td>\n      <td>0</td>\n    </tr>\n    <tr>\n      <th>4</th>\n      <td>3Ofmpyhv5UAQ70mENzB277</td>\n      <td>542</td>\n      <td>433</td>\n      <td>2439</td>\n      <td>2478</td>\n      <td>132780</td>\n      <td>94</td>\n      <td>0.778</td>\n      <td>0.1750</td>\n      <td>0.695</td>\n      <td>0.000000</td>\n      <td>0.1500</td>\n      <td>-6.865</td>\n      <td>0.0913</td>\n      <td>149.996</td>\n      <td>4</td>\n      <td>0</td>\n    </tr>\n  </tbody>\n</table>\n</div>"
     },
     "metadata": {},
     "execution_count": 6
    }
   ],
   "source": [
    "df.head()"
   ]
  },
  {
   "cell_type": "code",
   "execution_count": 7,
   "metadata": {},
   "outputs": [
    {
     "output_type": "execute_result",
     "data": {
      "text/plain": [
       "0    9769\n",
       "1      50\n",
       "Name: favorite, dtype: int64"
      ]
     },
     "metadata": {},
     "execution_count": 7
    }
   ],
   "source": [
    "df['favorite'].value_counts()"
   ]
  },
  {
   "source": [
    "### Model Selection & Hyperparameter Tuning"
   ],
   "cell_type": "markdown",
   "metadata": {}
  },
  {
   "cell_type": "code",
   "execution_count": 8,
   "metadata": {},
   "outputs": [],
   "source": [
    "# Importing required libraries\n",
    "import sklearn\n",
    "from sklearn.pipeline import Pipeline\n",
    "from sklearn.model_selection import cross_val_score\n",
    "from sklearn.model_selection import train_test_split\n",
    "from sklearn.model_selection import GridSearchCV\n",
    "from sklearn import metrics \n",
    "from sklearn.metrics import f1_score\n",
    "# Models\n",
    "from sklearn.ensemble import RandomForestClassifier\n",
    "from sklearn.linear_model import LogisticRegression \n",
    "from sklearn.tree import DecisionTreeClassifier"
   ]
  },
  {
   "cell_type": "code",
   "execution_count": 9,
   "metadata": {},
   "outputs": [],
   "source": [
    "# Shuffle your dataset \n",
    "shuffle_df = df.sample(frac=1)\n",
    "\n",
    "# Define a size for your train set \n",
    "train_size = int(0.8 * len(df))\n",
    "\n",
    "# Split dataset \n",
    "train_set = shuffle_df[:train_size]\n",
    "test_set = shuffle_df[train_size:]"
   ]
  },
  {
   "cell_type": "code",
   "execution_count": 10,
   "metadata": {},
   "outputs": [
    {
     "output_type": "execute_result",
     "data": {
      "text/plain": [
       "                    track_id  name  album  artist  release_date  length  \\\n",
       "7230  39SAR2aRZiNOFS5e9T76g8  2947   4723    2706          1728  225000   \n",
       "5941  6KpGyJIyA75C0XyAkIcpZn  4678   3895    2270          2302  193132   \n",
       "4291  3cWPcCrbkfnqvpexzbx0ZR  6312   5467     839          2315  176813   \n",
       "1641  3r6Y0k1n0fn8FXwq5Hbeac  2920   2551    3084          2424  140559   \n",
       "6224  0nKh47v1SFiznHpzvWrypr  3211   2848    2090          2530  218813   \n",
       "\n",
       "      popularity  danceability  acousticness  energy  instrumentalness  \\\n",
       "7230          37         0.527        0.0153   0.885          0.000686   \n",
       "5941          60         0.645        0.0773   0.960          0.006410   \n",
       "4291          33         0.654        0.0487   0.852          0.000000   \n",
       "1641          56         0.700        0.3280   0.764          0.000000   \n",
       "6224          50         0.710        0.4560   0.490          0.002180   \n",
       "\n",
       "      liveness  loudness  speechiness    tempo  time_signature  favorite  \n",
       "7230     0.405    -7.017       0.0870  128.057               4         0  \n",
       "5941     0.594    -6.497       0.0399  127.999               4         0  \n",
       "4291     0.367    -4.629       0.0325  105.999               4         0  \n",
       "1641     0.376    -7.143       0.1980   92.045               4         0  \n",
       "6224     0.142    -9.705       0.2110   80.836               4         0  "
      ],
      "text/html": "<div>\n<style scoped>\n    .dataframe tbody tr th:only-of-type {\n        vertical-align: middle;\n    }\n\n    .dataframe tbody tr th {\n        vertical-align: top;\n    }\n\n    .dataframe thead th {\n        text-align: right;\n    }\n</style>\n<table border=\"1\" class=\"dataframe\">\n  <thead>\n    <tr style=\"text-align: right;\">\n      <th></th>\n      <th>track_id</th>\n      <th>name</th>\n      <th>album</th>\n      <th>artist</th>\n      <th>release_date</th>\n      <th>length</th>\n      <th>popularity</th>\n      <th>danceability</th>\n      <th>acousticness</th>\n      <th>energy</th>\n      <th>instrumentalness</th>\n      <th>liveness</th>\n      <th>loudness</th>\n      <th>speechiness</th>\n      <th>tempo</th>\n      <th>time_signature</th>\n      <th>favorite</th>\n    </tr>\n  </thead>\n  <tbody>\n    <tr>\n      <th>7230</th>\n      <td>39SAR2aRZiNOFS5e9T76g8</td>\n      <td>2947</td>\n      <td>4723</td>\n      <td>2706</td>\n      <td>1728</td>\n      <td>225000</td>\n      <td>37</td>\n      <td>0.527</td>\n      <td>0.0153</td>\n      <td>0.885</td>\n      <td>0.000686</td>\n      <td>0.405</td>\n      <td>-7.017</td>\n      <td>0.0870</td>\n      <td>128.057</td>\n      <td>4</td>\n      <td>0</td>\n    </tr>\n    <tr>\n      <th>5941</th>\n      <td>6KpGyJIyA75C0XyAkIcpZn</td>\n      <td>4678</td>\n      <td>3895</td>\n      <td>2270</td>\n      <td>2302</td>\n      <td>193132</td>\n      <td>60</td>\n      <td>0.645</td>\n      <td>0.0773</td>\n      <td>0.960</td>\n      <td>0.006410</td>\n      <td>0.594</td>\n      <td>-6.497</td>\n      <td>0.0399</td>\n      <td>127.999</td>\n      <td>4</td>\n      <td>0</td>\n    </tr>\n    <tr>\n      <th>4291</th>\n      <td>3cWPcCrbkfnqvpexzbx0ZR</td>\n      <td>6312</td>\n      <td>5467</td>\n      <td>839</td>\n      <td>2315</td>\n      <td>176813</td>\n      <td>33</td>\n      <td>0.654</td>\n      <td>0.0487</td>\n      <td>0.852</td>\n      <td>0.000000</td>\n      <td>0.367</td>\n      <td>-4.629</td>\n      <td>0.0325</td>\n      <td>105.999</td>\n      <td>4</td>\n      <td>0</td>\n    </tr>\n    <tr>\n      <th>1641</th>\n      <td>3r6Y0k1n0fn8FXwq5Hbeac</td>\n      <td>2920</td>\n      <td>2551</td>\n      <td>3084</td>\n      <td>2424</td>\n      <td>140559</td>\n      <td>56</td>\n      <td>0.700</td>\n      <td>0.3280</td>\n      <td>0.764</td>\n      <td>0.000000</td>\n      <td>0.376</td>\n      <td>-7.143</td>\n      <td>0.1980</td>\n      <td>92.045</td>\n      <td>4</td>\n      <td>0</td>\n    </tr>\n    <tr>\n      <th>6224</th>\n      <td>0nKh47v1SFiznHpzvWrypr</td>\n      <td>3211</td>\n      <td>2848</td>\n      <td>2090</td>\n      <td>2530</td>\n      <td>218813</td>\n      <td>50</td>\n      <td>0.710</td>\n      <td>0.4560</td>\n      <td>0.490</td>\n      <td>0.002180</td>\n      <td>0.142</td>\n      <td>-9.705</td>\n      <td>0.2110</td>\n      <td>80.836</td>\n      <td>4</td>\n      <td>0</td>\n    </tr>\n  </tbody>\n</table>\n</div>"
     },
     "metadata": {},
     "execution_count": 10
    }
   ],
   "source": [
    "train_set.head()"
   ]
  },
  {
   "cell_type": "code",
   "execution_count": 11,
   "metadata": {},
   "outputs": [
    {
     "output_type": "execute_result",
     "data": {
      "text/plain": [
       "      name  album  artist  release_date  length  popularity  danceability  \\\n",
       "7230  2947   4723    2706          1728  225000          37         0.527   \n",
       "5941  4678   3895    2270          2302  193132          60         0.645   \n",
       "4291  6312   5467     839          2315  176813          33         0.654   \n",
       "1641  2920   2551    3084          2424  140559          56         0.700   \n",
       "6224  3211   2848    2090          2530  218813          50         0.710   \n",
       "\n",
       "      acousticness  energy  instrumentalness  liveness  loudness  speechiness  \\\n",
       "7230        0.0153   0.885          0.000686     0.405    -7.017       0.0870   \n",
       "5941        0.0773   0.960          0.006410     0.594    -6.497       0.0399   \n",
       "4291        0.0487   0.852          0.000000     0.367    -4.629       0.0325   \n",
       "1641        0.3280   0.764          0.000000     0.376    -7.143       0.1980   \n",
       "6224        0.4560   0.490          0.002180     0.142    -9.705       0.2110   \n",
       "\n",
       "        tempo  time_signature  \n",
       "7230  128.057               4  \n",
       "5941  127.999               4  \n",
       "4291  105.999               4  \n",
       "1641   92.045               4  \n",
       "6224   80.836               4  "
      ],
      "text/html": "<div>\n<style scoped>\n    .dataframe tbody tr th:only-of-type {\n        vertical-align: middle;\n    }\n\n    .dataframe tbody tr th {\n        vertical-align: top;\n    }\n\n    .dataframe thead th {\n        text-align: right;\n    }\n</style>\n<table border=\"1\" class=\"dataframe\">\n  <thead>\n    <tr style=\"text-align: right;\">\n      <th></th>\n      <th>name</th>\n      <th>album</th>\n      <th>artist</th>\n      <th>release_date</th>\n      <th>length</th>\n      <th>popularity</th>\n      <th>danceability</th>\n      <th>acousticness</th>\n      <th>energy</th>\n      <th>instrumentalness</th>\n      <th>liveness</th>\n      <th>loudness</th>\n      <th>speechiness</th>\n      <th>tempo</th>\n      <th>time_signature</th>\n    </tr>\n  </thead>\n  <tbody>\n    <tr>\n      <th>7230</th>\n      <td>2947</td>\n      <td>4723</td>\n      <td>2706</td>\n      <td>1728</td>\n      <td>225000</td>\n      <td>37</td>\n      <td>0.527</td>\n      <td>0.0153</td>\n      <td>0.885</td>\n      <td>0.000686</td>\n      <td>0.405</td>\n      <td>-7.017</td>\n      <td>0.0870</td>\n      <td>128.057</td>\n      <td>4</td>\n    </tr>\n    <tr>\n      <th>5941</th>\n      <td>4678</td>\n      <td>3895</td>\n      <td>2270</td>\n      <td>2302</td>\n      <td>193132</td>\n      <td>60</td>\n      <td>0.645</td>\n      <td>0.0773</td>\n      <td>0.960</td>\n      <td>0.006410</td>\n      <td>0.594</td>\n      <td>-6.497</td>\n      <td>0.0399</td>\n      <td>127.999</td>\n      <td>4</td>\n    </tr>\n    <tr>\n      <th>4291</th>\n      <td>6312</td>\n      <td>5467</td>\n      <td>839</td>\n      <td>2315</td>\n      <td>176813</td>\n      <td>33</td>\n      <td>0.654</td>\n      <td>0.0487</td>\n      <td>0.852</td>\n      <td>0.000000</td>\n      <td>0.367</td>\n      <td>-4.629</td>\n      <td>0.0325</td>\n      <td>105.999</td>\n      <td>4</td>\n    </tr>\n    <tr>\n      <th>1641</th>\n      <td>2920</td>\n      <td>2551</td>\n      <td>3084</td>\n      <td>2424</td>\n      <td>140559</td>\n      <td>56</td>\n      <td>0.700</td>\n      <td>0.3280</td>\n      <td>0.764</td>\n      <td>0.000000</td>\n      <td>0.376</td>\n      <td>-7.143</td>\n      <td>0.1980</td>\n      <td>92.045</td>\n      <td>4</td>\n    </tr>\n    <tr>\n      <th>6224</th>\n      <td>3211</td>\n      <td>2848</td>\n      <td>2090</td>\n      <td>2530</td>\n      <td>218813</td>\n      <td>50</td>\n      <td>0.710</td>\n      <td>0.4560</td>\n      <td>0.490</td>\n      <td>0.002180</td>\n      <td>0.142</td>\n      <td>-9.705</td>\n      <td>0.2110</td>\n      <td>80.836</td>\n      <td>4</td>\n    </tr>\n  </tbody>\n</table>\n</div>"
     },
     "metadata": {},
     "execution_count": 11
    }
   ],
   "source": [
    "X = train_set.drop(columns=['favorite', 'track_id'])\n",
    "y = train_set.favorite\n",
    "\n",
    "X.head()"
   ]
  },
  {
   "cell_type": "code",
   "execution_count": 12,
   "metadata": {},
   "outputs": [
    {
     "output_type": "execute_result",
     "data": {
      "text/plain": [
       "0    7818\n",
       "1      37\n",
       "Name: favorite, dtype: int64"
      ]
     },
     "metadata": {},
     "execution_count": 12
    }
   ],
   "source": [
    "# Checking for imbalance\n",
    "y.value_counts()"
   ]
  },
  {
   "cell_type": "code",
   "execution_count": 13,
   "metadata": {},
   "outputs": [],
   "source": [
    "# Train / Split Data\n",
    "oversample = SMOTE()\n",
    "X_train, y_train = oversample.fit_resample(X, y) "
   ]
  },
  {
   "cell_type": "code",
   "execution_count": 14,
   "metadata": {},
   "outputs": [
    {
     "output_type": "execute_result",
     "data": {
      "text/plain": [
       "   name  album  artist  release_date  length  popularity  danceability  \\\n",
       "0  2947   4723    2706          1728  225000          37         0.527   \n",
       "1  4678   3895    2270          2302  193132          60         0.645   \n",
       "2  6312   5467     839          2315  176813          33         0.654   \n",
       "3  2920   2551    3084          2424  140559          56         0.700   \n",
       "4  3211   2848    2090          2530  218813          50         0.710   \n",
       "\n",
       "   acousticness  energy  instrumentalness  liveness  loudness  speechiness  \\\n",
       "0        0.0153   0.885          0.000686     0.405    -7.017       0.0870   \n",
       "1        0.0773   0.960          0.006410     0.594    -6.497       0.0399   \n",
       "2        0.0487   0.852          0.000000     0.367    -4.629       0.0325   \n",
       "3        0.3280   0.764          0.000000     0.376    -7.143       0.1980   \n",
       "4        0.4560   0.490          0.002180     0.142    -9.705       0.2110   \n",
       "\n",
       "     tempo  time_signature  \n",
       "0  128.057               4  \n",
       "1  127.999               4  \n",
       "2  105.999               4  \n",
       "3   92.045               4  \n",
       "4   80.836               4  "
      ],
      "text/html": "<div>\n<style scoped>\n    .dataframe tbody tr th:only-of-type {\n        vertical-align: middle;\n    }\n\n    .dataframe tbody tr th {\n        vertical-align: top;\n    }\n\n    .dataframe thead th {\n        text-align: right;\n    }\n</style>\n<table border=\"1\" class=\"dataframe\">\n  <thead>\n    <tr style=\"text-align: right;\">\n      <th></th>\n      <th>name</th>\n      <th>album</th>\n      <th>artist</th>\n      <th>release_date</th>\n      <th>length</th>\n      <th>popularity</th>\n      <th>danceability</th>\n      <th>acousticness</th>\n      <th>energy</th>\n      <th>instrumentalness</th>\n      <th>liveness</th>\n      <th>loudness</th>\n      <th>speechiness</th>\n      <th>tempo</th>\n      <th>time_signature</th>\n    </tr>\n  </thead>\n  <tbody>\n    <tr>\n      <th>0</th>\n      <td>2947</td>\n      <td>4723</td>\n      <td>2706</td>\n      <td>1728</td>\n      <td>225000</td>\n      <td>37</td>\n      <td>0.527</td>\n      <td>0.0153</td>\n      <td>0.885</td>\n      <td>0.000686</td>\n      <td>0.405</td>\n      <td>-7.017</td>\n      <td>0.0870</td>\n      <td>128.057</td>\n      <td>4</td>\n    </tr>\n    <tr>\n      <th>1</th>\n      <td>4678</td>\n      <td>3895</td>\n      <td>2270</td>\n      <td>2302</td>\n      <td>193132</td>\n      <td>60</td>\n      <td>0.645</td>\n      <td>0.0773</td>\n      <td>0.960</td>\n      <td>0.006410</td>\n      <td>0.594</td>\n      <td>-6.497</td>\n      <td>0.0399</td>\n      <td>127.999</td>\n      <td>4</td>\n    </tr>\n    <tr>\n      <th>2</th>\n      <td>6312</td>\n      <td>5467</td>\n      <td>839</td>\n      <td>2315</td>\n      <td>176813</td>\n      <td>33</td>\n      <td>0.654</td>\n      <td>0.0487</td>\n      <td>0.852</td>\n      <td>0.000000</td>\n      <td>0.367</td>\n      <td>-4.629</td>\n      <td>0.0325</td>\n      <td>105.999</td>\n      <td>4</td>\n    </tr>\n    <tr>\n      <th>3</th>\n      <td>2920</td>\n      <td>2551</td>\n      <td>3084</td>\n      <td>2424</td>\n      <td>140559</td>\n      <td>56</td>\n      <td>0.700</td>\n      <td>0.3280</td>\n      <td>0.764</td>\n      <td>0.000000</td>\n      <td>0.376</td>\n      <td>-7.143</td>\n      <td>0.1980</td>\n      <td>92.045</td>\n      <td>4</td>\n    </tr>\n    <tr>\n      <th>4</th>\n      <td>3211</td>\n      <td>2848</td>\n      <td>2090</td>\n      <td>2530</td>\n      <td>218813</td>\n      <td>50</td>\n      <td>0.710</td>\n      <td>0.4560</td>\n      <td>0.490</td>\n      <td>0.002180</td>\n      <td>0.142</td>\n      <td>-9.705</td>\n      <td>0.2110</td>\n      <td>80.836</td>\n      <td>4</td>\n    </tr>\n  </tbody>\n</table>\n</div>"
     },
     "metadata": {},
     "execution_count": 14
    }
   ],
   "source": [
    "X_train.head()"
   ]
  },
  {
   "cell_type": "code",
   "execution_count": 15,
   "metadata": {},
   "outputs": [
    {
     "output_type": "execute_result",
     "data": {
      "text/plain": [
       "0    7818\n",
       "1    7818\n",
       "Name: favorite, dtype: int64"
      ]
     },
     "metadata": {},
     "execution_count": 15
    }
   ],
   "source": [
    "# Checking if imbalance is gone\n",
    "y_train.value_counts()"
   ]
  },
  {
   "cell_type": "code",
   "execution_count": 16,
   "metadata": {},
   "outputs": [
    {
     "output_type": "execute_result",
     "data": {
      "text/plain": [
       "                    track_id  name  album  artist  release_date   length  \\\n",
       "4359  2SGjJdLuSIvyVB5eXAJXm7  8100   1116    2588          1538   262760   \n",
       "8627  5qaQXGQlrANAeeZM8Kw8En  3902   2337     909           542  1343000   \n",
       "1559  5dfMZKLa5AmXmsMmkQgu0t  3758   3224     183          2418   118627   \n",
       "2126  78gke8uqCWgeqeQm6I9CGi  3743   3215    2338          2430   159393   \n",
       "8441  5W7IiH2jDV6q6EQwBkq8ld  3954   5918    3345          1056   295973   \n",
       "\n",
       "      popularity  danceability  acousticness  energy  instrumentalness  \\\n",
       "4359          51         0.721        0.0130  0.9440            0.0000   \n",
       "8627          10         0.289        0.9910  0.0622            0.9210   \n",
       "1559          59         0.811        0.0475  0.5260            0.0000   \n",
       "2126          64         0.461        0.0246  0.8250            0.0000   \n",
       "8441          45         0.379        0.9860  0.2510            0.0122   \n",
       "\n",
       "      liveness  loudness  speechiness    tempo  time_signature  favorite  \n",
       "4359    0.3200    -5.982       0.1590   85.002               4         0  \n",
       "8627    0.0628   -24.899       0.0333   70.876               4         0  \n",
       "1559    0.1010    -6.365       0.2600  150.084               4         0  \n",
       "2126    0.2240    -3.583       0.1150  198.045               4         0  \n",
       "8441    0.0940   -15.488       0.0991   73.316               4         0  "
      ],
      "text/html": "<div>\n<style scoped>\n    .dataframe tbody tr th:only-of-type {\n        vertical-align: middle;\n    }\n\n    .dataframe tbody tr th {\n        vertical-align: top;\n    }\n\n    .dataframe thead th {\n        text-align: right;\n    }\n</style>\n<table border=\"1\" class=\"dataframe\">\n  <thead>\n    <tr style=\"text-align: right;\">\n      <th></th>\n      <th>track_id</th>\n      <th>name</th>\n      <th>album</th>\n      <th>artist</th>\n      <th>release_date</th>\n      <th>length</th>\n      <th>popularity</th>\n      <th>danceability</th>\n      <th>acousticness</th>\n      <th>energy</th>\n      <th>instrumentalness</th>\n      <th>liveness</th>\n      <th>loudness</th>\n      <th>speechiness</th>\n      <th>tempo</th>\n      <th>time_signature</th>\n      <th>favorite</th>\n    </tr>\n  </thead>\n  <tbody>\n    <tr>\n      <th>4359</th>\n      <td>2SGjJdLuSIvyVB5eXAJXm7</td>\n      <td>8100</td>\n      <td>1116</td>\n      <td>2588</td>\n      <td>1538</td>\n      <td>262760</td>\n      <td>51</td>\n      <td>0.721</td>\n      <td>0.0130</td>\n      <td>0.9440</td>\n      <td>0.0000</td>\n      <td>0.3200</td>\n      <td>-5.982</td>\n      <td>0.1590</td>\n      <td>85.002</td>\n      <td>4</td>\n      <td>0</td>\n    </tr>\n    <tr>\n      <th>8627</th>\n      <td>5qaQXGQlrANAeeZM8Kw8En</td>\n      <td>3902</td>\n      <td>2337</td>\n      <td>909</td>\n      <td>542</td>\n      <td>1343000</td>\n      <td>10</td>\n      <td>0.289</td>\n      <td>0.9910</td>\n      <td>0.0622</td>\n      <td>0.9210</td>\n      <td>0.0628</td>\n      <td>-24.899</td>\n      <td>0.0333</td>\n      <td>70.876</td>\n      <td>4</td>\n      <td>0</td>\n    </tr>\n    <tr>\n      <th>1559</th>\n      <td>5dfMZKLa5AmXmsMmkQgu0t</td>\n      <td>3758</td>\n      <td>3224</td>\n      <td>183</td>\n      <td>2418</td>\n      <td>118627</td>\n      <td>59</td>\n      <td>0.811</td>\n      <td>0.0475</td>\n      <td>0.5260</td>\n      <td>0.0000</td>\n      <td>0.1010</td>\n      <td>-6.365</td>\n      <td>0.2600</td>\n      <td>150.084</td>\n      <td>4</td>\n      <td>0</td>\n    </tr>\n    <tr>\n      <th>2126</th>\n      <td>78gke8uqCWgeqeQm6I9CGi</td>\n      <td>3743</td>\n      <td>3215</td>\n      <td>2338</td>\n      <td>2430</td>\n      <td>159393</td>\n      <td>64</td>\n      <td>0.461</td>\n      <td>0.0246</td>\n      <td>0.8250</td>\n      <td>0.0000</td>\n      <td>0.2240</td>\n      <td>-3.583</td>\n      <td>0.1150</td>\n      <td>198.045</td>\n      <td>4</td>\n      <td>0</td>\n    </tr>\n    <tr>\n      <th>8441</th>\n      <td>5W7IiH2jDV6q6EQwBkq8ld</td>\n      <td>3954</td>\n      <td>5918</td>\n      <td>3345</td>\n      <td>1056</td>\n      <td>295973</td>\n      <td>45</td>\n      <td>0.379</td>\n      <td>0.9860</td>\n      <td>0.2510</td>\n      <td>0.0122</td>\n      <td>0.0940</td>\n      <td>-15.488</td>\n      <td>0.0991</td>\n      <td>73.316</td>\n      <td>4</td>\n      <td>0</td>\n    </tr>\n  </tbody>\n</table>\n</div>"
     },
     "metadata": {},
     "execution_count": 16
    }
   ],
   "source": [
    "test_set.head()"
   ]
  },
  {
   "cell_type": "code",
   "execution_count": 17,
   "metadata": {},
   "outputs": [],
   "source": [
    "X_test = test_set.drop(columns=['favorite', 'track_id'])\n",
    "y_test = test_set['favorite']"
   ]
  },
  {
   "cell_type": "code",
   "execution_count": 18,
   "metadata": {},
   "outputs": [
    {
     "output_type": "execute_result",
     "data": {
      "text/plain": [
       "      name  album  artist  release_date   length  popularity  danceability  \\\n",
       "4359  8100   1116    2588          1538   262760          51         0.721   \n",
       "8627  3902   2337     909           542  1343000          10         0.289   \n",
       "1559  3758   3224     183          2418   118627          59         0.811   \n",
       "2126  3743   3215    2338          2430   159393          64         0.461   \n",
       "8441  3954   5918    3345          1056   295973          45         0.379   \n",
       "\n",
       "      acousticness  energy  instrumentalness  liveness  loudness  speechiness  \\\n",
       "4359        0.0130  0.9440            0.0000    0.3200    -5.982       0.1590   \n",
       "8627        0.9910  0.0622            0.9210    0.0628   -24.899       0.0333   \n",
       "1559        0.0475  0.5260            0.0000    0.1010    -6.365       0.2600   \n",
       "2126        0.0246  0.8250            0.0000    0.2240    -3.583       0.1150   \n",
       "8441        0.9860  0.2510            0.0122    0.0940   -15.488       0.0991   \n",
       "\n",
       "        tempo  time_signature  \n",
       "4359   85.002               4  \n",
       "8627   70.876               4  \n",
       "1559  150.084               4  \n",
       "2126  198.045               4  \n",
       "8441   73.316               4  "
      ],
      "text/html": "<div>\n<style scoped>\n    .dataframe tbody tr th:only-of-type {\n        vertical-align: middle;\n    }\n\n    .dataframe tbody tr th {\n        vertical-align: top;\n    }\n\n    .dataframe thead th {\n        text-align: right;\n    }\n</style>\n<table border=\"1\" class=\"dataframe\">\n  <thead>\n    <tr style=\"text-align: right;\">\n      <th></th>\n      <th>name</th>\n      <th>album</th>\n      <th>artist</th>\n      <th>release_date</th>\n      <th>length</th>\n      <th>popularity</th>\n      <th>danceability</th>\n      <th>acousticness</th>\n      <th>energy</th>\n      <th>instrumentalness</th>\n      <th>liveness</th>\n      <th>loudness</th>\n      <th>speechiness</th>\n      <th>tempo</th>\n      <th>time_signature</th>\n    </tr>\n  </thead>\n  <tbody>\n    <tr>\n      <th>4359</th>\n      <td>8100</td>\n      <td>1116</td>\n      <td>2588</td>\n      <td>1538</td>\n      <td>262760</td>\n      <td>51</td>\n      <td>0.721</td>\n      <td>0.0130</td>\n      <td>0.9440</td>\n      <td>0.0000</td>\n      <td>0.3200</td>\n      <td>-5.982</td>\n      <td>0.1590</td>\n      <td>85.002</td>\n      <td>4</td>\n    </tr>\n    <tr>\n      <th>8627</th>\n      <td>3902</td>\n      <td>2337</td>\n      <td>909</td>\n      <td>542</td>\n      <td>1343000</td>\n      <td>10</td>\n      <td>0.289</td>\n      <td>0.9910</td>\n      <td>0.0622</td>\n      <td>0.9210</td>\n      <td>0.0628</td>\n      <td>-24.899</td>\n      <td>0.0333</td>\n      <td>70.876</td>\n      <td>4</td>\n    </tr>\n    <tr>\n      <th>1559</th>\n      <td>3758</td>\n      <td>3224</td>\n      <td>183</td>\n      <td>2418</td>\n      <td>118627</td>\n      <td>59</td>\n      <td>0.811</td>\n      <td>0.0475</td>\n      <td>0.5260</td>\n      <td>0.0000</td>\n      <td>0.1010</td>\n      <td>-6.365</td>\n      <td>0.2600</td>\n      <td>150.084</td>\n      <td>4</td>\n    </tr>\n    <tr>\n      <th>2126</th>\n      <td>3743</td>\n      <td>3215</td>\n      <td>2338</td>\n      <td>2430</td>\n      <td>159393</td>\n      <td>64</td>\n      <td>0.461</td>\n      <td>0.0246</td>\n      <td>0.8250</td>\n      <td>0.0000</td>\n      <td>0.2240</td>\n      <td>-3.583</td>\n      <td>0.1150</td>\n      <td>198.045</td>\n      <td>4</td>\n    </tr>\n    <tr>\n      <th>8441</th>\n      <td>3954</td>\n      <td>5918</td>\n      <td>3345</td>\n      <td>1056</td>\n      <td>295973</td>\n      <td>45</td>\n      <td>0.379</td>\n      <td>0.9860</td>\n      <td>0.2510</td>\n      <td>0.0122</td>\n      <td>0.0940</td>\n      <td>-15.488</td>\n      <td>0.0991</td>\n      <td>73.316</td>\n      <td>4</td>\n    </tr>\n  </tbody>\n</table>\n</div>"
     },
     "metadata": {},
     "execution_count": 18
    }
   ],
   "source": [
    "X_test.head()"
   ]
  },
  {
   "cell_type": "code",
   "execution_count": 19,
   "metadata": {},
   "outputs": [
    {
     "output_type": "execute_result",
     "data": {
      "text/plain": [
       "0    1951\n",
       "1      13\n",
       "Name: favorite, dtype: int64"
      ]
     },
     "metadata": {},
     "execution_count": 19
    }
   ],
   "source": [
    "# Checking for imbalance in test set\n",
    "y_test.value_counts()"
   ]
  },
  {
   "source": [
    "#### Testing models"
   ],
   "cell_type": "markdown",
   "metadata": {}
  },
  {
   "cell_type": "code",
   "execution_count": 20,
   "metadata": {},
   "outputs": [
    {
     "output_type": "stream",
     "name": "stdout",
     "text": [
      "0.787081904306151\nCPU times: user 4.63 s, sys: 740 ms, total: 5.37 s\nWall time: 1.48 s\n"
     ]
    }
   ],
   "source": [
    "%%time\n",
    "# Logistic Regression\n",
    "lr = LogisticRegression(solver='lbfgs', max_iter=400)\n",
    "lr_scores = cross_val_score(lr, X_train, y_train, cv=10, scoring=\"f1\")\n",
    "print(np.mean(lr_scores))"
   ]
  },
  {
   "cell_type": "code",
   "execution_count": 21,
   "metadata": {
    "tags": []
   },
   "outputs": [
    {
     "output_type": "execute_result",
     "data": {
      "text/plain": [
       "{'max_depth': 30}"
      ]
     },
     "metadata": {},
     "execution_count": 21
    }
   ],
   "source": [
    "# Hyperparameter optimization for Decision Tree Classifier\n",
    "parameters = {\n",
    "    'max_depth':[3, 4, 5, 6, 10, 15,20,30],\n",
    "}\n",
    "dtc = Pipeline([('CV',GridSearchCV(DecisionTreeClassifier(), parameters, cv = 5))])\n",
    "dtc.fit(X_train, y_train)\n",
    "dtc.named_steps['CV'].best_params_"
   ]
  },
  {
   "cell_type": "code",
   "execution_count": 22,
   "metadata": {},
   "outputs": [
    {
     "output_type": "stream",
     "name": "stdout",
     "text": [
      "CPU times: user 2.13 s, sys: 20.7 ms, total: 2.15 s\nWall time: 2.17 s\n"
     ]
    },
    {
     "output_type": "execute_result",
     "data": {
      "text/plain": [
       "0.9964828202843522"
      ]
     },
     "metadata": {},
     "execution_count": 22
    }
   ],
   "source": [
    "%%time\n",
    "# Decision Tree Classifier\n",
    "dt = DecisionTreeClassifier(max_depth=30)\n",
    "dt_scores = cross_val_score(dt, X_train, y_train, cv=10, scoring=\"f1\")\n",
    "np.mean(dt_scores)"
   ]
  },
  {
   "cell_type": "code",
   "execution_count": 23,
   "metadata": {},
   "outputs": [
    {
     "output_type": "stream",
     "name": "stdout",
     "text": [
      "CPU times: user 24.9 s, sys: 312 ms, total: 25.2 s\nWall time: 25.5 s\n"
     ]
    },
    {
     "output_type": "execute_result",
     "data": {
      "text/plain": [
       "{'max_depth': 20, 'n_estimators': 30}"
      ]
     },
     "metadata": {},
     "execution_count": 23
    }
   ],
   "source": [
    "%%time\n",
    "# Hyperparameter optimization of RandomForestClassifier\n",
    "parameters = {\n",
    "    'max_depth':[3, 6,12,15,20],\n",
    "    'n_estimators':[10, 20,30]\n",
    "}\n",
    "clf = Pipeline([('CV',GridSearchCV(RandomForestClassifier(), parameters, cv = 5))])\n",
    "clf.fit(X_train, y_train)\n",
    "clf.named_steps['CV'].best_params_"
   ]
  },
  {
   "cell_type": "code",
   "execution_count": 24,
   "metadata": {},
   "outputs": [
    {
     "output_type": "stream",
     "name": "stdout",
     "text": [
      "CPU times: user 2.38 s, sys: 26 ms, total: 2.41 s\nWall time: 2.42 s\n"
     ]
    },
    {
     "output_type": "execute_result",
     "data": {
      "text/plain": [
       "0.9991694922861608"
      ]
     },
     "metadata": {},
     "execution_count": 24
    }
   ],
   "source": [
    "%%time\n",
    "# RandomForestClassifier\n",
    "rf = Pipeline([('rf', RandomForestClassifier(n_estimators = 10, max_depth = 20))])\n",
    "rf_scores = cross_val_score(rf, X_train, y_train, cv=10, scoring=\"f1\")\n",
    "np.mean(rf_scores)"
   ]
  },
  {
   "source": [
    "Since the RandomForestClassifier has the highest accuracy, I will use it to recommend songs."
   ],
   "cell_type": "markdown",
   "metadata": {}
  },
  {
   "source": [
    "### Using algorithm on test data"
   ],
   "cell_type": "markdown",
   "metadata": {}
  },
  {
   "cell_type": "code",
   "execution_count": 25,
   "metadata": {},
   "outputs": [
    {
     "output_type": "execute_result",
     "data": {
      "text/plain": [
       "0    1951\n",
       "1      13\n",
       "Name: favorite, dtype: int64"
      ]
     },
     "metadata": {},
     "execution_count": 25
    }
   ],
   "source": [
    "# Checking for imabalance\n",
    "y_test.value_counts()"
   ]
  },
  {
   "cell_type": "code",
   "execution_count": 26,
   "metadata": {},
   "outputs": [
    {
     "output_type": "execute_result",
     "data": {
      "text/plain": [
       "0.9938900203665988"
      ]
     },
     "metadata": {},
     "execution_count": 26
    }
   ],
   "source": [
    "# Building a pipeline to use on regular data\n",
    "from sklearn.pipeline import make_pipeline\n",
    "from sklearn.preprocessing import StandardScaler\n",
    "\n",
    "pipe = make_pipeline(StandardScaler(), RandomForestClassifier(n_estimators = 30, max_depth = 20))\n",
    "pipe.fit(X_train, y_train)  # apply scaling on training data\n",
    "# pipe.set_params(logisticrergession__n_estimators=30)\n",
    "Pipeline(steps=[('standardscaler', StandardScaler()),\n",
    "                ('rf', RandomForestClassifier(n_estimators = 30, max_depth = 20))])\n",
    "pipe.score(X_test, y_test)"
   ]
  },
  {
   "cell_type": "code",
   "execution_count": 27,
   "metadata": {},
   "outputs": [
    {
     "output_type": "execute_result",
     "data": {
      "text/plain": [
       "(9819, 17)"
      ]
     },
     "metadata": {},
     "execution_count": 27
    }
   ],
   "source": [
    "df.shape"
   ]
  },
  {
   "cell_type": "code",
   "execution_count": 28,
   "metadata": {},
   "outputs": [
    {
     "output_type": "execute_result",
     "data": {
      "text/plain": [
       "9819"
      ]
     },
     "metadata": {},
     "execution_count": 28
    }
   ],
   "source": [
    "len(pipe.predict(df.drop(['favorite','track_id'], axis=1)))"
   ]
  },
  {
   "source": [
    "## Predicting songs and saving to dataset"
   ],
   "cell_type": "markdown",
   "metadata": {}
  },
  {
   "cell_type": "code",
   "execution_count": 29,
   "metadata": {},
   "outputs": [],
   "source": [
    "df = pd.read_csv('data/encoded_playlist_songs.csv')"
   ]
  },
  {
   "cell_type": "code",
   "execution_count": 30,
   "metadata": {},
   "outputs": [
    {
     "output_type": "execute_result",
     "data": {
      "text/plain": [
       "                 track_id  name  album  artist  release_date  length  \\\n",
       "0  7MAibcTli4IisCtbHKrGMh  4008   3340     581          2524  242096   \n",
       "1  5QO79kh1waicV47BqGRL3g  6038    212    3746          2293  215626   \n",
       "2  1diS6nkxMQc3wwC4G1j0bh  8118   2222    1091          2505  165506   \n",
       "3  4u4NyuceXP7Uzh7XFJKCr1  3096   2743    1917          2524  170813   \n",
       "4  3Ofmpyhv5UAQ70mENzB277   542    433    2439          2478  132780   \n",
       "\n",
       "   popularity  danceability  acousticness  energy  instrumentalness  liveness  \\\n",
       "0          90         0.586        0.1820   0.616          0.000000    0.0927   \n",
       "1          97         0.680        0.0212   0.826          0.000012    0.5430   \n",
       "2          88         0.722        0.0319   0.588          0.000000    0.1830   \n",
       "3          89         0.658        0.0106   0.634          0.000000    0.1320   \n",
       "4          94         0.778        0.1750   0.695          0.000000    0.1500   \n",
       "\n",
       "   loudness  speechiness    tempo  time_signature  favorite  \n",
       "0    -7.964       0.0324  148.088               4         0  \n",
       "1    -5.487       0.0309  118.051               4         0  \n",
       "2    -5.932       0.0544  134.010               4         0  \n",
       "3    -5.797       0.0413  139.980               4         0  \n",
       "4    -6.865       0.0913  149.996               4         0  "
      ],
      "text/html": "<div>\n<style scoped>\n    .dataframe tbody tr th:only-of-type {\n        vertical-align: middle;\n    }\n\n    .dataframe tbody tr th {\n        vertical-align: top;\n    }\n\n    .dataframe thead th {\n        text-align: right;\n    }\n</style>\n<table border=\"1\" class=\"dataframe\">\n  <thead>\n    <tr style=\"text-align: right;\">\n      <th></th>\n      <th>track_id</th>\n      <th>name</th>\n      <th>album</th>\n      <th>artist</th>\n      <th>release_date</th>\n      <th>length</th>\n      <th>popularity</th>\n      <th>danceability</th>\n      <th>acousticness</th>\n      <th>energy</th>\n      <th>instrumentalness</th>\n      <th>liveness</th>\n      <th>loudness</th>\n      <th>speechiness</th>\n      <th>tempo</th>\n      <th>time_signature</th>\n      <th>favorite</th>\n    </tr>\n  </thead>\n  <tbody>\n    <tr>\n      <th>0</th>\n      <td>7MAibcTli4IisCtbHKrGMh</td>\n      <td>4008</td>\n      <td>3340</td>\n      <td>581</td>\n      <td>2524</td>\n      <td>242096</td>\n      <td>90</td>\n      <td>0.586</td>\n      <td>0.1820</td>\n      <td>0.616</td>\n      <td>0.000000</td>\n      <td>0.0927</td>\n      <td>-7.964</td>\n      <td>0.0324</td>\n      <td>148.088</td>\n      <td>4</td>\n      <td>0</td>\n    </tr>\n    <tr>\n      <th>1</th>\n      <td>5QO79kh1waicV47BqGRL3g</td>\n      <td>6038</td>\n      <td>212</td>\n      <td>3746</td>\n      <td>2293</td>\n      <td>215626</td>\n      <td>97</td>\n      <td>0.680</td>\n      <td>0.0212</td>\n      <td>0.826</td>\n      <td>0.000012</td>\n      <td>0.5430</td>\n      <td>-5.487</td>\n      <td>0.0309</td>\n      <td>118.051</td>\n      <td>4</td>\n      <td>0</td>\n    </tr>\n    <tr>\n      <th>2</th>\n      <td>1diS6nkxMQc3wwC4G1j0bh</td>\n      <td>8118</td>\n      <td>2222</td>\n      <td>1091</td>\n      <td>2505</td>\n      <td>165506</td>\n      <td>88</td>\n      <td>0.722</td>\n      <td>0.0319</td>\n      <td>0.588</td>\n      <td>0.000000</td>\n      <td>0.1830</td>\n      <td>-5.932</td>\n      <td>0.0544</td>\n      <td>134.010</td>\n      <td>4</td>\n      <td>0</td>\n    </tr>\n    <tr>\n      <th>3</th>\n      <td>4u4NyuceXP7Uzh7XFJKCr1</td>\n      <td>3096</td>\n      <td>2743</td>\n      <td>1917</td>\n      <td>2524</td>\n      <td>170813</td>\n      <td>89</td>\n      <td>0.658</td>\n      <td>0.0106</td>\n      <td>0.634</td>\n      <td>0.000000</td>\n      <td>0.1320</td>\n      <td>-5.797</td>\n      <td>0.0413</td>\n      <td>139.980</td>\n      <td>4</td>\n      <td>0</td>\n    </tr>\n    <tr>\n      <th>4</th>\n      <td>3Ofmpyhv5UAQ70mENzB277</td>\n      <td>542</td>\n      <td>433</td>\n      <td>2439</td>\n      <td>2478</td>\n      <td>132780</td>\n      <td>94</td>\n      <td>0.778</td>\n      <td>0.1750</td>\n      <td>0.695</td>\n      <td>0.000000</td>\n      <td>0.1500</td>\n      <td>-6.865</td>\n      <td>0.0913</td>\n      <td>149.996</td>\n      <td>4</td>\n      <td>0</td>\n    </tr>\n  </tbody>\n</table>\n</div>"
     },
     "metadata": {},
     "execution_count": 30
    }
   ],
   "source": [
    "df.head()"
   ]
  },
  {
   "cell_type": "code",
   "execution_count": 31,
   "metadata": {},
   "outputs": [],
   "source": [
    "prediction = pipe.predict(df.drop(['favorite','track_id'], axis=1))\n",
    "df['prediction'] = prediction"
   ]
  },
  {
   "cell_type": "code",
   "execution_count": 32,
   "metadata": {},
   "outputs": [
    {
     "output_type": "execute_result",
     "data": {
      "text/plain": [
       "0    0\n",
       "1    0\n",
       "2    0\n",
       "3    0\n",
       "4    0\n",
       "Name: prediction, dtype: int64"
      ]
     },
     "metadata": {},
     "execution_count": 32
    }
   ],
   "source": [
    "df['prediction'].head()"
   ]
  },
  {
   "cell_type": "code",
   "execution_count": 33,
   "metadata": {},
   "outputs": [
    {
     "output_type": "execute_result",
     "data": {
      "text/plain": [
       "0    9761\n",
       "1       8\n",
       "Name: prediction, dtype: int64"
      ]
     },
     "metadata": {},
     "execution_count": 33
    }
   ],
   "source": [
    "df['prediction'].value_counts()"
   ]
  },
  {
   "source": [
    "## Building the playlist from recommended songs"
   ],
   "cell_type": "markdown",
   "metadata": {}
  },
  {
   "cell_type": "code",
   "execution_count": null,
   "metadata": {},
   "outputs": [],
   "source": [
    "def create_playlist(sp, username, playlist_name, playlist_description):\n",
    "    playlists = sp.user_playlist_create(username, playlist_name, description = playlist_description)"
   ]
  },
  {
   "cell_type": "code",
   "execution_count": null,
   "metadata": {},
   "outputs": [],
   "source": [
    "create_playlist(sp, username, 'Your New Jams', 'This playlist was created using python!')"
   ]
  },
  {
   "cell_type": "code",
   "execution_count": null,
   "metadata": {},
   "outputs": [],
   "source": [
    "def fetch_playlists(sp, username):\n",
    "    \"\"\"\n",
    "    Returns the user's playlists.\n",
    "    \"\"\"\n",
    "        \n",
    "    id = []\n",
    "    name = []\n",
    "    num_tracks = []\n",
    "    \n",
    "    # Make the API request\n",
    "    playlists = sp.user_playlists(username)\n",
    "    for playlist in playlists['items']:\n",
    "        id.append(playlist['id'])\n",
    "        name.append(playlist['name'])\n",
    "        num_tracks.append(playlist['tracks']['total'])\n",
    "\n",
    "    # Create the final df   \n",
    "    df_playlists = pd.DataFrame({\"id\":id, \"name\": name, \"#tracks\": num_tracks})\n",
    "    return df_playlists"
   ]
  },
  {
   "cell_type": "code",
   "execution_count": null,
   "metadata": {},
   "outputs": [],
   "source": [
    "fetch_playlists(sp,username).head()"
   ]
  },
  {
   "cell_type": "code",
   "execution_count": null,
   "metadata": {},
   "outputs": [],
   "source": [
    "playlist_id = fetch_playlists(sp,username)['id'][0]"
   ]
  },
  {
   "cell_type": "code",
   "execution_count": null,
   "metadata": {},
   "outputs": [],
   "source": [
    "def enrich_playlist(sp, username, playlist_id, playlist_tracks):\n",
    "    index = 0\n",
    "    results = []\n",
    "    \n",
    "    while index < len(playlist_tracks):\n",
    "        results += sp.user_playlist_add_tracks(username, playlist_id, tracks = playlist_tracks[index:index + 50])\n",
    "        index += 50"
   ]
  },
  {
   "cell_type": "code",
   "execution_count": null,
   "metadata": {},
   "outputs": [],
   "source": [
    "list_track = df2.index\n",
    "enrich_playlist(sp, username, playlist_id, list_track)\n",
    "fetch_playlists(sp,username).head()"
   ]
  }
 ]
}