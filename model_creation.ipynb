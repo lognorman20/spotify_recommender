{
 "metadata": {
  "language_info": {
   "codemirror_mode": {
    "name": "ipython",
    "version": 3
   },
   "file_extension": ".py",
   "mimetype": "text/x-python",
   "name": "python",
   "nbconvert_exporter": "python",
   "pygments_lexer": "ipython3",
   "version": "3.9.2-final"
  },
  "orig_nbformat": 2,
  "kernelspec": {
   "name": "python3",
   "display_name": "Python 3.9.2 64-bit ('spotify_recommender': conda)",
   "metadata": {
    "interpreter": {
     "hash": "2fce50c966ce3004344c1d0428fb8658cb2ec3c9dafd73e971076d9a0c6eeeea"
    }
   }
  }
 },
 "nbformat": 4,
 "nbformat_minor": 2,
 "cells": [
  {
   "cell_type": "code",
   "execution_count": 1,
   "metadata": {},
   "outputs": [],
   "source": [
    "import pandas as pd\n",
    "import numpy as np\n",
    "import seaborn as sns\n",
    "import matplotlib.pyplot as plt\n",
    "import matplotlib.ticker as plticker\n",
    "from imblearn.over_sampling import SMOTE\n",
    "%matplotlib inline"
   ]
  },
  {
   "cell_type": "code",
   "execution_count": 2,
   "metadata": {},
   "outputs": [],
   "source": [
    "# Importing playlist dataframes\n",
    "df = pd.read_csv('data/encoded_playlist_songs.csv')\n",
    "df_fav = pd.read_csv('data/favorite_songs.csv')"
   ]
  },
  {
   "cell_type": "code",
   "execution_count": 3,
   "metadata": {},
   "outputs": [
    {
     "output_type": "stream",
     "name": "stdout",
     "text": [
      "<class 'pandas.core.frame.DataFrame'>\nRangeIndex: 9769 entries, 0 to 9768\nData columns (total 13 columns):\n #   Column            Non-Null Count  Dtype  \n---  ------            --------------  -----  \n 0   track_id          9769 non-null   object \n 1   length            9769 non-null   int64  \n 2   popularity        9769 non-null   int64  \n 3   danceability      9769 non-null   float64\n 4   acousticness      9769 non-null   float64\n 5   energy            9769 non-null   float64\n 6   instrumentalness  9769 non-null   float64\n 7   liveness          9769 non-null   float64\n 8   loudness          9769 non-null   float64\n 9   speechiness       9769 non-null   float64\n 10  tempo             9769 non-null   float64\n 11  time_signature    9769 non-null   int64  \n 12  favorite          9769 non-null   int64  \ndtypes: float64(8), int64(4), object(1)\nmemory usage: 992.3+ KB\n"
     ]
    }
   ],
   "source": [
    "df.info()"
   ]
  },
  {
   "cell_type": "code",
   "execution_count": 4,
   "metadata": {},
   "outputs": [
    {
     "output_type": "stream",
     "name": "stdout",
     "text": [
      "<class 'pandas.core.frame.DataFrame'>\nRangeIndex: 50 entries, 0 to 49\nData columns (total 13 columns):\n #   Column            Non-Null Count  Dtype  \n---  ------            --------------  -----  \n 0   track_id          50 non-null     object \n 1   length            50 non-null     int64  \n 2   popularity        50 non-null     int64  \n 3   danceability      50 non-null     float64\n 4   acousticness      50 non-null     float64\n 5   energy            50 non-null     float64\n 6   instrumentalness  50 non-null     float64\n 7   liveness          50 non-null     float64\n 8   loudness          50 non-null     float64\n 9   speechiness       50 non-null     float64\n 10  tempo             50 non-null     float64\n 11  time_signature    50 non-null     int64  \n 12  favorite          50 non-null     int64  \ndtypes: float64(8), int64(4), object(1)\nmemory usage: 5.2+ KB\n"
     ]
    }
   ],
   "source": [
    "df_fav.info()"
   ]
  },
  {
   "source": [
    "### Preparing data for model"
   ],
   "cell_type": "markdown",
   "metadata": {}
  },
  {
   "cell_type": "code",
   "execution_count": 5,
   "metadata": {},
   "outputs": [
    {
     "output_type": "execute_result",
     "data": {
      "text/plain": [
       "(9819, 13)"
      ]
     },
     "metadata": {},
     "execution_count": 5
    }
   ],
   "source": [
    "# Remove song name, artist, album\n",
    "df = pd.concat([df, df_fav], axis=0)\n",
    "df.shape"
   ]
  },
  {
   "cell_type": "code",
   "execution_count": 6,
   "metadata": {},
   "outputs": [
    {
     "output_type": "execute_result",
     "data": {
      "text/plain": [
       "                 track_id  length  popularity  danceability  acousticness  \\\n",
       "0  7MAibcTli4IisCtbHKrGMh  242096          90         0.586        0.1820   \n",
       "1  5QO79kh1waicV47BqGRL3g  215626          97         0.680        0.0212   \n",
       "2  1diS6nkxMQc3wwC4G1j0bh  165506          88         0.722        0.0319   \n",
       "3  4u4NyuceXP7Uzh7XFJKCr1  170813          89         0.658        0.0106   \n",
       "4  3Ofmpyhv5UAQ70mENzB277  132780          94         0.778        0.1750   \n",
       "\n",
       "   energy  instrumentalness  liveness  loudness  speechiness    tempo  \\\n",
       "0   0.616          0.000000    0.0927    -7.964       0.0324  148.088   \n",
       "1   0.826          0.000012    0.5430    -5.487       0.0309  118.051   \n",
       "2   0.588          0.000000    0.1830    -5.932       0.0544  134.010   \n",
       "3   0.634          0.000000    0.1320    -5.797       0.0413  139.980   \n",
       "4   0.695          0.000000    0.1500    -6.865       0.0913  149.996   \n",
       "\n",
       "   time_signature  favorite  \n",
       "0               4         0  \n",
       "1               4         0  \n",
       "2               4         0  \n",
       "3               4         0  \n",
       "4               4         0  "
      ],
      "text/html": "<div>\n<style scoped>\n    .dataframe tbody tr th:only-of-type {\n        vertical-align: middle;\n    }\n\n    .dataframe tbody tr th {\n        vertical-align: top;\n    }\n\n    .dataframe thead th {\n        text-align: right;\n    }\n</style>\n<table border=\"1\" class=\"dataframe\">\n  <thead>\n    <tr style=\"text-align: right;\">\n      <th></th>\n      <th>track_id</th>\n      <th>length</th>\n      <th>popularity</th>\n      <th>danceability</th>\n      <th>acousticness</th>\n      <th>energy</th>\n      <th>instrumentalness</th>\n      <th>liveness</th>\n      <th>loudness</th>\n      <th>speechiness</th>\n      <th>tempo</th>\n      <th>time_signature</th>\n      <th>favorite</th>\n    </tr>\n  </thead>\n  <tbody>\n    <tr>\n      <th>0</th>\n      <td>7MAibcTli4IisCtbHKrGMh</td>\n      <td>242096</td>\n      <td>90</td>\n      <td>0.586</td>\n      <td>0.1820</td>\n      <td>0.616</td>\n      <td>0.000000</td>\n      <td>0.0927</td>\n      <td>-7.964</td>\n      <td>0.0324</td>\n      <td>148.088</td>\n      <td>4</td>\n      <td>0</td>\n    </tr>\n    <tr>\n      <th>1</th>\n      <td>5QO79kh1waicV47BqGRL3g</td>\n      <td>215626</td>\n      <td>97</td>\n      <td>0.680</td>\n      <td>0.0212</td>\n      <td>0.826</td>\n      <td>0.000012</td>\n      <td>0.5430</td>\n      <td>-5.487</td>\n      <td>0.0309</td>\n      <td>118.051</td>\n      <td>4</td>\n      <td>0</td>\n    </tr>\n    <tr>\n      <th>2</th>\n      <td>1diS6nkxMQc3wwC4G1j0bh</td>\n      <td>165506</td>\n      <td>88</td>\n      <td>0.722</td>\n      <td>0.0319</td>\n      <td>0.588</td>\n      <td>0.000000</td>\n      <td>0.1830</td>\n      <td>-5.932</td>\n      <td>0.0544</td>\n      <td>134.010</td>\n      <td>4</td>\n      <td>0</td>\n    </tr>\n    <tr>\n      <th>3</th>\n      <td>4u4NyuceXP7Uzh7XFJKCr1</td>\n      <td>170813</td>\n      <td>89</td>\n      <td>0.658</td>\n      <td>0.0106</td>\n      <td>0.634</td>\n      <td>0.000000</td>\n      <td>0.1320</td>\n      <td>-5.797</td>\n      <td>0.0413</td>\n      <td>139.980</td>\n      <td>4</td>\n      <td>0</td>\n    </tr>\n    <tr>\n      <th>4</th>\n      <td>3Ofmpyhv5UAQ70mENzB277</td>\n      <td>132780</td>\n      <td>94</td>\n      <td>0.778</td>\n      <td>0.1750</td>\n      <td>0.695</td>\n      <td>0.000000</td>\n      <td>0.1500</td>\n      <td>-6.865</td>\n      <td>0.0913</td>\n      <td>149.996</td>\n      <td>4</td>\n      <td>0</td>\n    </tr>\n  </tbody>\n</table>\n</div>"
     },
     "metadata": {},
     "execution_count": 6
    }
   ],
   "source": [
    "df.head()"
   ]
  },
  {
   "cell_type": "code",
   "execution_count": 7,
   "metadata": {},
   "outputs": [
    {
     "output_type": "execute_result",
     "data": {
      "text/plain": [
       "0    9769\n",
       "1      50\n",
       "Name: favorite, dtype: int64"
      ]
     },
     "metadata": {},
     "execution_count": 7
    }
   ],
   "source": [
    "df['favorite'].value_counts()"
   ]
  },
  {
   "source": [
    "### Data Prep Contd, Model Selection & Hyperparameter Tuning"
   ],
   "cell_type": "markdown",
   "metadata": {}
  },
  {
   "cell_type": "code",
   "execution_count": 8,
   "metadata": {},
   "outputs": [],
   "source": [
    "# Importing required libraries\n",
    "import sklearn\n",
    "from sklearn.pipeline import Pipeline\n",
    "from sklearn.model_selection import cross_val_score\n",
    "from sklearn.model_selection import train_test_split\n",
    "from sklearn.model_selection import GridSearchCV\n",
    "from sklearn import metrics \n",
    "from sklearn.metrics import f1_score\n",
    "# Models\n",
    "from sklearn.ensemble import RandomForestClassifier\n",
    "from sklearn.linear_model import LogisticRegression \n",
    "from sklearn.tree import DecisionTreeClassifier"
   ]
  },
  {
   "cell_type": "code",
   "execution_count": 9,
   "metadata": {},
   "outputs": [],
   "source": [
    "# Shuffle your dataset \n",
    "shuffle_df = df.sample(frac=1)\n",
    "\n",
    "# Define a size for your train set \n",
    "train_size = int(0.8 * len(df))\n",
    "\n",
    "# Split dataset \n",
    "train_set = shuffle_df[:train_size]\n",
    "test_set = shuffle_df[train_size:]"
   ]
  },
  {
   "cell_type": "code",
   "execution_count": 10,
   "metadata": {},
   "outputs": [
    {
     "output_type": "execute_result",
     "data": {
      "text/plain": [
       "                    track_id  length  popularity  danceability  acousticness  \\\n",
       "2755  2Y4lgpOT0sPU1TiTmsbpZh  141608          60         0.409      0.003840   \n",
       "15    60ynsPSSKe6O3sfwRnIBRf  226986          93         0.749      0.208000   \n",
       "1146  0XqrIEnDoHvodUzGRmyKYQ  188962          73         0.898      0.069900   \n",
       "2156  1vXt2d3QwSTYKhgw1pZwMZ  225717          41         0.511      0.001990   \n",
       "1789  28gqksZy2cRqteQDwLOaTj  198874          32         0.535      0.000056   \n",
       "\n",
       "      energy  instrumentalness  liveness  loudness  speechiness    tempo  \\\n",
       "2755   0.816          0.000003    0.0932    -4.590       0.0743  164.841   \n",
       "15     0.463          0.037100    0.3370    -8.433       0.0828   90.028   \n",
       "1146   0.529          0.000000    0.5360    -5.428       0.2000  110.032   \n",
       "2156   0.639          0.320000    0.1620    -6.493       0.0253  164.044   \n",
       "1789   0.863          0.000378    0.0672    -8.405       0.0463  124.055   \n",
       "\n",
       "      time_signature  favorite  \n",
       "2755               4         0  \n",
       "15                 4         0  \n",
       "1146               4         0  \n",
       "2156               4         0  \n",
       "1789               4         0  "
      ],
      "text/html": "<div>\n<style scoped>\n    .dataframe tbody tr th:only-of-type {\n        vertical-align: middle;\n    }\n\n    .dataframe tbody tr th {\n        vertical-align: top;\n    }\n\n    .dataframe thead th {\n        text-align: right;\n    }\n</style>\n<table border=\"1\" class=\"dataframe\">\n  <thead>\n    <tr style=\"text-align: right;\">\n      <th></th>\n      <th>track_id</th>\n      <th>length</th>\n      <th>popularity</th>\n      <th>danceability</th>\n      <th>acousticness</th>\n      <th>energy</th>\n      <th>instrumentalness</th>\n      <th>liveness</th>\n      <th>loudness</th>\n      <th>speechiness</th>\n      <th>tempo</th>\n      <th>time_signature</th>\n      <th>favorite</th>\n    </tr>\n  </thead>\n  <tbody>\n    <tr>\n      <th>2755</th>\n      <td>2Y4lgpOT0sPU1TiTmsbpZh</td>\n      <td>141608</td>\n      <td>60</td>\n      <td>0.409</td>\n      <td>0.003840</td>\n      <td>0.816</td>\n      <td>0.000003</td>\n      <td>0.0932</td>\n      <td>-4.590</td>\n      <td>0.0743</td>\n      <td>164.841</td>\n      <td>4</td>\n      <td>0</td>\n    </tr>\n    <tr>\n      <th>15</th>\n      <td>60ynsPSSKe6O3sfwRnIBRf</td>\n      <td>226986</td>\n      <td>93</td>\n      <td>0.749</td>\n      <td>0.208000</td>\n      <td>0.463</td>\n      <td>0.037100</td>\n      <td>0.3370</td>\n      <td>-8.433</td>\n      <td>0.0828</td>\n      <td>90.028</td>\n      <td>4</td>\n      <td>0</td>\n    </tr>\n    <tr>\n      <th>1146</th>\n      <td>0XqrIEnDoHvodUzGRmyKYQ</td>\n      <td>188962</td>\n      <td>73</td>\n      <td>0.898</td>\n      <td>0.069900</td>\n      <td>0.529</td>\n      <td>0.000000</td>\n      <td>0.5360</td>\n      <td>-5.428</td>\n      <td>0.2000</td>\n      <td>110.032</td>\n      <td>4</td>\n      <td>0</td>\n    </tr>\n    <tr>\n      <th>2156</th>\n      <td>1vXt2d3QwSTYKhgw1pZwMZ</td>\n      <td>225717</td>\n      <td>41</td>\n      <td>0.511</td>\n      <td>0.001990</td>\n      <td>0.639</td>\n      <td>0.320000</td>\n      <td>0.1620</td>\n      <td>-6.493</td>\n      <td>0.0253</td>\n      <td>164.044</td>\n      <td>4</td>\n      <td>0</td>\n    </tr>\n    <tr>\n      <th>1789</th>\n      <td>28gqksZy2cRqteQDwLOaTj</td>\n      <td>198874</td>\n      <td>32</td>\n      <td>0.535</td>\n      <td>0.000056</td>\n      <td>0.863</td>\n      <td>0.000378</td>\n      <td>0.0672</td>\n      <td>-8.405</td>\n      <td>0.0463</td>\n      <td>124.055</td>\n      <td>4</td>\n      <td>0</td>\n    </tr>\n  </tbody>\n</table>\n</div>"
     },
     "metadata": {},
     "execution_count": 10
    }
   ],
   "source": [
    "train_set.head()"
   ]
  },
  {
   "cell_type": "code",
   "execution_count": 11,
   "metadata": {},
   "outputs": [
    {
     "output_type": "execute_result",
     "data": {
      "text/plain": [
       "      length  popularity  danceability  acousticness  energy  \\\n",
       "2755  141608          60         0.409      0.003840   0.816   \n",
       "15    226986          93         0.749      0.208000   0.463   \n",
       "1146  188962          73         0.898      0.069900   0.529   \n",
       "2156  225717          41         0.511      0.001990   0.639   \n",
       "1789  198874          32         0.535      0.000056   0.863   \n",
       "\n",
       "      instrumentalness  liveness  loudness  speechiness    tempo  \\\n",
       "2755          0.000003    0.0932    -4.590       0.0743  164.841   \n",
       "15            0.037100    0.3370    -8.433       0.0828   90.028   \n",
       "1146          0.000000    0.5360    -5.428       0.2000  110.032   \n",
       "2156          0.320000    0.1620    -6.493       0.0253  164.044   \n",
       "1789          0.000378    0.0672    -8.405       0.0463  124.055   \n",
       "\n",
       "      time_signature  \n",
       "2755               4  \n",
       "15                 4  \n",
       "1146               4  \n",
       "2156               4  \n",
       "1789               4  "
      ],
      "text/html": "<div>\n<style scoped>\n    .dataframe tbody tr th:only-of-type {\n        vertical-align: middle;\n    }\n\n    .dataframe tbody tr th {\n        vertical-align: top;\n    }\n\n    .dataframe thead th {\n        text-align: right;\n    }\n</style>\n<table border=\"1\" class=\"dataframe\">\n  <thead>\n    <tr style=\"text-align: right;\">\n      <th></th>\n      <th>length</th>\n      <th>popularity</th>\n      <th>danceability</th>\n      <th>acousticness</th>\n      <th>energy</th>\n      <th>instrumentalness</th>\n      <th>liveness</th>\n      <th>loudness</th>\n      <th>speechiness</th>\n      <th>tempo</th>\n      <th>time_signature</th>\n    </tr>\n  </thead>\n  <tbody>\n    <tr>\n      <th>2755</th>\n      <td>141608</td>\n      <td>60</td>\n      <td>0.409</td>\n      <td>0.003840</td>\n      <td>0.816</td>\n      <td>0.000003</td>\n      <td>0.0932</td>\n      <td>-4.590</td>\n      <td>0.0743</td>\n      <td>164.841</td>\n      <td>4</td>\n    </tr>\n    <tr>\n      <th>15</th>\n      <td>226986</td>\n      <td>93</td>\n      <td>0.749</td>\n      <td>0.208000</td>\n      <td>0.463</td>\n      <td>0.037100</td>\n      <td>0.3370</td>\n      <td>-8.433</td>\n      <td>0.0828</td>\n      <td>90.028</td>\n      <td>4</td>\n    </tr>\n    <tr>\n      <th>1146</th>\n      <td>188962</td>\n      <td>73</td>\n      <td>0.898</td>\n      <td>0.069900</td>\n      <td>0.529</td>\n      <td>0.000000</td>\n      <td>0.5360</td>\n      <td>-5.428</td>\n      <td>0.2000</td>\n      <td>110.032</td>\n      <td>4</td>\n    </tr>\n    <tr>\n      <th>2156</th>\n      <td>225717</td>\n      <td>41</td>\n      <td>0.511</td>\n      <td>0.001990</td>\n      <td>0.639</td>\n      <td>0.320000</td>\n      <td>0.1620</td>\n      <td>-6.493</td>\n      <td>0.0253</td>\n      <td>164.044</td>\n      <td>4</td>\n    </tr>\n    <tr>\n      <th>1789</th>\n      <td>198874</td>\n      <td>32</td>\n      <td>0.535</td>\n      <td>0.000056</td>\n      <td>0.863</td>\n      <td>0.000378</td>\n      <td>0.0672</td>\n      <td>-8.405</td>\n      <td>0.0463</td>\n      <td>124.055</td>\n      <td>4</td>\n    </tr>\n  </tbody>\n</table>\n</div>"
     },
     "metadata": {},
     "execution_count": 11
    }
   ],
   "source": [
    "X = train_set.drop(columns=['favorite', 'track_id'])\n",
    "y = train_set.favorite\n",
    "\n",
    "X.head()"
   ]
  },
  {
   "cell_type": "code",
   "execution_count": 12,
   "metadata": {},
   "outputs": [
    {
     "output_type": "execute_result",
     "data": {
      "text/plain": [
       "0    7819\n",
       "1      36\n",
       "Name: favorite, dtype: int64"
      ]
     },
     "metadata": {},
     "execution_count": 12
    }
   ],
   "source": [
    "# Checking for imbalance\n",
    "y.value_counts()"
   ]
  },
  {
   "cell_type": "code",
   "execution_count": 13,
   "metadata": {},
   "outputs": [],
   "source": [
    "# Train / Split Data\n",
    "oversample = SMOTE()\n",
    "X_train, y_train = oversample.fit_resample(X, y) "
   ]
  },
  {
   "cell_type": "code",
   "execution_count": 14,
   "metadata": {},
   "outputs": [
    {
     "output_type": "execute_result",
     "data": {
      "text/plain": [
       "   length  popularity  danceability  acousticness  energy  instrumentalness  \\\n",
       "0  141608          60         0.409      0.003840   0.816          0.000003   \n",
       "1  226986          93         0.749      0.208000   0.463          0.037100   \n",
       "2  188962          73         0.898      0.069900   0.529          0.000000   \n",
       "3  225717          41         0.511      0.001990   0.639          0.320000   \n",
       "4  198874          32         0.535      0.000056   0.863          0.000378   \n",
       "\n",
       "   liveness  loudness  speechiness    tempo  time_signature  \n",
       "0    0.0932    -4.590       0.0743  164.841               4  \n",
       "1    0.3370    -8.433       0.0828   90.028               4  \n",
       "2    0.5360    -5.428       0.2000  110.032               4  \n",
       "3    0.1620    -6.493       0.0253  164.044               4  \n",
       "4    0.0672    -8.405       0.0463  124.055               4  "
      ],
      "text/html": "<div>\n<style scoped>\n    .dataframe tbody tr th:only-of-type {\n        vertical-align: middle;\n    }\n\n    .dataframe tbody tr th {\n        vertical-align: top;\n    }\n\n    .dataframe thead th {\n        text-align: right;\n    }\n</style>\n<table border=\"1\" class=\"dataframe\">\n  <thead>\n    <tr style=\"text-align: right;\">\n      <th></th>\n      <th>length</th>\n      <th>popularity</th>\n      <th>danceability</th>\n      <th>acousticness</th>\n      <th>energy</th>\n      <th>instrumentalness</th>\n      <th>liveness</th>\n      <th>loudness</th>\n      <th>speechiness</th>\n      <th>tempo</th>\n      <th>time_signature</th>\n    </tr>\n  </thead>\n  <tbody>\n    <tr>\n      <th>0</th>\n      <td>141608</td>\n      <td>60</td>\n      <td>0.409</td>\n      <td>0.003840</td>\n      <td>0.816</td>\n      <td>0.000003</td>\n      <td>0.0932</td>\n      <td>-4.590</td>\n      <td>0.0743</td>\n      <td>164.841</td>\n      <td>4</td>\n    </tr>\n    <tr>\n      <th>1</th>\n      <td>226986</td>\n      <td>93</td>\n      <td>0.749</td>\n      <td>0.208000</td>\n      <td>0.463</td>\n      <td>0.037100</td>\n      <td>0.3370</td>\n      <td>-8.433</td>\n      <td>0.0828</td>\n      <td>90.028</td>\n      <td>4</td>\n    </tr>\n    <tr>\n      <th>2</th>\n      <td>188962</td>\n      <td>73</td>\n      <td>0.898</td>\n      <td>0.069900</td>\n      <td>0.529</td>\n      <td>0.000000</td>\n      <td>0.5360</td>\n      <td>-5.428</td>\n      <td>0.2000</td>\n      <td>110.032</td>\n      <td>4</td>\n    </tr>\n    <tr>\n      <th>3</th>\n      <td>225717</td>\n      <td>41</td>\n      <td>0.511</td>\n      <td>0.001990</td>\n      <td>0.639</td>\n      <td>0.320000</td>\n      <td>0.1620</td>\n      <td>-6.493</td>\n      <td>0.0253</td>\n      <td>164.044</td>\n      <td>4</td>\n    </tr>\n    <tr>\n      <th>4</th>\n      <td>198874</td>\n      <td>32</td>\n      <td>0.535</td>\n      <td>0.000056</td>\n      <td>0.863</td>\n      <td>0.000378</td>\n      <td>0.0672</td>\n      <td>-8.405</td>\n      <td>0.0463</td>\n      <td>124.055</td>\n      <td>4</td>\n    </tr>\n  </tbody>\n</table>\n</div>"
     },
     "metadata": {},
     "execution_count": 14
    }
   ],
   "source": [
    "X_train.head()"
   ]
  },
  {
   "cell_type": "code",
   "execution_count": 15,
   "metadata": {},
   "outputs": [
    {
     "output_type": "execute_result",
     "data": {
      "text/plain": [
       "0    7819\n",
       "1    7819\n",
       "Name: favorite, dtype: int64"
      ]
     },
     "metadata": {},
     "execution_count": 15
    }
   ],
   "source": [
    "# Checking if imbalance is gone\n",
    "y_train.value_counts()"
   ]
  },
  {
   "cell_type": "code",
   "execution_count": 16,
   "metadata": {},
   "outputs": [
    {
     "output_type": "execute_result",
     "data": {
      "text/plain": [
       "                    track_id  length  popularity  danceability  acousticness  \\\n",
       "1455  6aKDdFwPJLgHT4aNktrQmb  170266          75         0.891       0.00225   \n",
       "313   2UJsKjM595pEyWUcd8JEIR  270710          65         0.695       0.08670   \n",
       "6024  1XP0VR8KMArstV37bfzkt8  339310          48         0.331       0.04630   \n",
       "4409  3HAaEJKZPKHJY4YqYRvDas  174558           0         0.524       0.87600   \n",
       "9113  4Cr7xmAJyVbX6qgS4Pxl66  108253          26         0.492       0.99400   \n",
       "\n",
       "       energy  instrumentalness  liveness  loudness  speechiness    tempo  \\\n",
       "1455  0.55200          0.000002     0.162    -6.877       0.2230  135.976   \n",
       "313   0.68900          0.015900     0.136    -8.176       0.0492   95.013   \n",
       "6024  0.66800          0.000000     0.227    -3.167       0.0415  145.133   \n",
       "4409  0.60200          0.003400     0.133   -10.544       0.0327   97.484   \n",
       "9113  0.00591          0.931000     0.156   -31.205       0.0575  130.719   \n",
       "\n",
       "      time_signature  favorite  \n",
       "1455               4         0  \n",
       "313                4         0  \n",
       "6024               4         0  \n",
       "4409               4         0  \n",
       "9113               5         0  "
      ],
      "text/html": "<div>\n<style scoped>\n    .dataframe tbody tr th:only-of-type {\n        vertical-align: middle;\n    }\n\n    .dataframe tbody tr th {\n        vertical-align: top;\n    }\n\n    .dataframe thead th {\n        text-align: right;\n    }\n</style>\n<table border=\"1\" class=\"dataframe\">\n  <thead>\n    <tr style=\"text-align: right;\">\n      <th></th>\n      <th>track_id</th>\n      <th>length</th>\n      <th>popularity</th>\n      <th>danceability</th>\n      <th>acousticness</th>\n      <th>energy</th>\n      <th>instrumentalness</th>\n      <th>liveness</th>\n      <th>loudness</th>\n      <th>speechiness</th>\n      <th>tempo</th>\n      <th>time_signature</th>\n      <th>favorite</th>\n    </tr>\n  </thead>\n  <tbody>\n    <tr>\n      <th>1455</th>\n      <td>6aKDdFwPJLgHT4aNktrQmb</td>\n      <td>170266</td>\n      <td>75</td>\n      <td>0.891</td>\n      <td>0.00225</td>\n      <td>0.55200</td>\n      <td>0.000002</td>\n      <td>0.162</td>\n      <td>-6.877</td>\n      <td>0.2230</td>\n      <td>135.976</td>\n      <td>4</td>\n      <td>0</td>\n    </tr>\n    <tr>\n      <th>313</th>\n      <td>2UJsKjM595pEyWUcd8JEIR</td>\n      <td>270710</td>\n      <td>65</td>\n      <td>0.695</td>\n      <td>0.08670</td>\n      <td>0.68900</td>\n      <td>0.015900</td>\n      <td>0.136</td>\n      <td>-8.176</td>\n      <td>0.0492</td>\n      <td>95.013</td>\n      <td>4</td>\n      <td>0</td>\n    </tr>\n    <tr>\n      <th>6024</th>\n      <td>1XP0VR8KMArstV37bfzkt8</td>\n      <td>339310</td>\n      <td>48</td>\n      <td>0.331</td>\n      <td>0.04630</td>\n      <td>0.66800</td>\n      <td>0.000000</td>\n      <td>0.227</td>\n      <td>-3.167</td>\n      <td>0.0415</td>\n      <td>145.133</td>\n      <td>4</td>\n      <td>0</td>\n    </tr>\n    <tr>\n      <th>4409</th>\n      <td>3HAaEJKZPKHJY4YqYRvDas</td>\n      <td>174558</td>\n      <td>0</td>\n      <td>0.524</td>\n      <td>0.87600</td>\n      <td>0.60200</td>\n      <td>0.003400</td>\n      <td>0.133</td>\n      <td>-10.544</td>\n      <td>0.0327</td>\n      <td>97.484</td>\n      <td>4</td>\n      <td>0</td>\n    </tr>\n    <tr>\n      <th>9113</th>\n      <td>4Cr7xmAJyVbX6qgS4Pxl66</td>\n      <td>108253</td>\n      <td>26</td>\n      <td>0.492</td>\n      <td>0.99400</td>\n      <td>0.00591</td>\n      <td>0.931000</td>\n      <td>0.156</td>\n      <td>-31.205</td>\n      <td>0.0575</td>\n      <td>130.719</td>\n      <td>5</td>\n      <td>0</td>\n    </tr>\n  </tbody>\n</table>\n</div>"
     },
     "metadata": {},
     "execution_count": 16
    }
   ],
   "source": [
    "test_set.head()"
   ]
  },
  {
   "cell_type": "code",
   "execution_count": 17,
   "metadata": {},
   "outputs": [],
   "source": [
    "X_test = test_set.drop(columns=['favorite', 'track_id'])\n",
    "y_test = test_set['favorite']"
   ]
  },
  {
   "cell_type": "code",
   "execution_count": 18,
   "metadata": {},
   "outputs": [
    {
     "output_type": "execute_result",
     "data": {
      "text/plain": [
       "      length  popularity  danceability  acousticness   energy  \\\n",
       "1455  170266          75         0.891       0.00225  0.55200   \n",
       "313   270710          65         0.695       0.08670  0.68900   \n",
       "6024  339310          48         0.331       0.04630  0.66800   \n",
       "4409  174558           0         0.524       0.87600  0.60200   \n",
       "9113  108253          26         0.492       0.99400  0.00591   \n",
       "\n",
       "      instrumentalness  liveness  loudness  speechiness    tempo  \\\n",
       "1455          0.000002     0.162    -6.877       0.2230  135.976   \n",
       "313           0.015900     0.136    -8.176       0.0492   95.013   \n",
       "6024          0.000000     0.227    -3.167       0.0415  145.133   \n",
       "4409          0.003400     0.133   -10.544       0.0327   97.484   \n",
       "9113          0.931000     0.156   -31.205       0.0575  130.719   \n",
       "\n",
       "      time_signature  \n",
       "1455               4  \n",
       "313                4  \n",
       "6024               4  \n",
       "4409               4  \n",
       "9113               5  "
      ],
      "text/html": "<div>\n<style scoped>\n    .dataframe tbody tr th:only-of-type {\n        vertical-align: middle;\n    }\n\n    .dataframe tbody tr th {\n        vertical-align: top;\n    }\n\n    .dataframe thead th {\n        text-align: right;\n    }\n</style>\n<table border=\"1\" class=\"dataframe\">\n  <thead>\n    <tr style=\"text-align: right;\">\n      <th></th>\n      <th>length</th>\n      <th>popularity</th>\n      <th>danceability</th>\n      <th>acousticness</th>\n      <th>energy</th>\n      <th>instrumentalness</th>\n      <th>liveness</th>\n      <th>loudness</th>\n      <th>speechiness</th>\n      <th>tempo</th>\n      <th>time_signature</th>\n    </tr>\n  </thead>\n  <tbody>\n    <tr>\n      <th>1455</th>\n      <td>170266</td>\n      <td>75</td>\n      <td>0.891</td>\n      <td>0.00225</td>\n      <td>0.55200</td>\n      <td>0.000002</td>\n      <td>0.162</td>\n      <td>-6.877</td>\n      <td>0.2230</td>\n      <td>135.976</td>\n      <td>4</td>\n    </tr>\n    <tr>\n      <th>313</th>\n      <td>270710</td>\n      <td>65</td>\n      <td>0.695</td>\n      <td>0.08670</td>\n      <td>0.68900</td>\n      <td>0.015900</td>\n      <td>0.136</td>\n      <td>-8.176</td>\n      <td>0.0492</td>\n      <td>95.013</td>\n      <td>4</td>\n    </tr>\n    <tr>\n      <th>6024</th>\n      <td>339310</td>\n      <td>48</td>\n      <td>0.331</td>\n      <td>0.04630</td>\n      <td>0.66800</td>\n      <td>0.000000</td>\n      <td>0.227</td>\n      <td>-3.167</td>\n      <td>0.0415</td>\n      <td>145.133</td>\n      <td>4</td>\n    </tr>\n    <tr>\n      <th>4409</th>\n      <td>174558</td>\n      <td>0</td>\n      <td>0.524</td>\n      <td>0.87600</td>\n      <td>0.60200</td>\n      <td>0.003400</td>\n      <td>0.133</td>\n      <td>-10.544</td>\n      <td>0.0327</td>\n      <td>97.484</td>\n      <td>4</td>\n    </tr>\n    <tr>\n      <th>9113</th>\n      <td>108253</td>\n      <td>26</td>\n      <td>0.492</td>\n      <td>0.99400</td>\n      <td>0.00591</td>\n      <td>0.931000</td>\n      <td>0.156</td>\n      <td>-31.205</td>\n      <td>0.0575</td>\n      <td>130.719</td>\n      <td>5</td>\n    </tr>\n  </tbody>\n</table>\n</div>"
     },
     "metadata": {},
     "execution_count": 18
    }
   ],
   "source": [
    "X_test.head()"
   ]
  },
  {
   "cell_type": "code",
   "execution_count": 19,
   "metadata": {},
   "outputs": [
    {
     "output_type": "execute_result",
     "data": {
      "text/plain": [
       "0    1950\n",
       "1      14\n",
       "Name: favorite, dtype: int64"
      ]
     },
     "metadata": {},
     "execution_count": 19
    }
   ],
   "source": [
    "# Checking for imbalance in test set\n",
    "y_test.value_counts()"
   ]
  },
  {
   "source": [
    "#### Testing models"
   ],
   "cell_type": "markdown",
   "metadata": {}
  },
  {
   "cell_type": "code",
   "execution_count": 20,
   "metadata": {},
   "outputs": [
    {
     "output_type": "stream",
     "name": "stdout",
     "text": [
      "0.8221827050829876\nCPU times: user 2.51 s, sys: 411 ms, total: 2.92 s\nWall time: 820 ms\n"
     ]
    }
   ],
   "source": [
    "%%time\n",
    "# Logistic Regression\n",
    "lr = LogisticRegression(solver='lbfgs', max_iter=400)\n",
    "lr_scores = cross_val_score(lr, X_train, y_train, cv=10, scoring=\"f1\")\n",
    "print(np.mean(lr_scores))"
   ]
  },
  {
   "cell_type": "code",
   "execution_count": 21,
   "metadata": {
    "tags": []
   },
   "outputs": [
    {
     "output_type": "execute_result",
     "data": {
      "text/plain": [
       "{'max_depth': 30}"
      ]
     },
     "metadata": {},
     "execution_count": 21
    }
   ],
   "source": [
    "# Hyperparameter optimization for Decision Tree Classifier\n",
    "parameters = {\n",
    "    'max_depth':[3, 4, 5, 6, 10, 15,20,30],\n",
    "}\n",
    "dtc = Pipeline([('CV',GridSearchCV(DecisionTreeClassifier(), parameters, cv = 5))])\n",
    "dtc.fit(X_train, y_train)\n",
    "dtc.named_steps['CV'].best_params_"
   ]
  },
  {
   "cell_type": "code",
   "execution_count": 22,
   "metadata": {},
   "outputs": [
    {
     "output_type": "stream",
     "name": "stdout",
     "text": [
      "CPU times: user 1.56 s, sys: 11.5 ms, total: 1.57 s\nWall time: 1.58 s\n"
     ]
    },
    {
     "output_type": "execute_result",
     "data": {
      "text/plain": [
       "0.9949613401906703"
      ]
     },
     "metadata": {},
     "execution_count": 22
    }
   ],
   "source": [
    "%%time\n",
    "# Decision Tree Classifier\n",
    "dt = DecisionTreeClassifier(max_depth=30)\n",
    "dt_scores = cross_val_score(dt, X_train, y_train, cv=10, scoring=\"f1\")\n",
    "np.mean(dt_scores)"
   ]
  },
  {
   "cell_type": "code",
   "execution_count": 23,
   "metadata": {},
   "outputs": [
    {
     "output_type": "stream",
     "name": "stdout",
     "text": [
      "CPU times: user 23.8 s, sys: 258 ms, total: 24 s\nWall time: 24.3 s\n"
     ]
    },
    {
     "output_type": "execute_result",
     "data": {
      "text/plain": [
       "{'max_depth': 20, 'n_estimators': 10}"
      ]
     },
     "metadata": {},
     "execution_count": 23
    }
   ],
   "source": [
    "%%time\n",
    "# Hyperparameter optimization of RandomForestClassifier\n",
    "parameters = {\n",
    "    'max_depth':[3, 6,12,15,20],\n",
    "    'n_estimators':[10, 20,30]\n",
    "}\n",
    "clf = Pipeline([('CV',GridSearchCV(RandomForestClassifier(), parameters, cv = 5))])\n",
    "clf.fit(X_train, y_train)\n",
    "clf.named_steps['CV'].best_params_"
   ]
  },
  {
   "cell_type": "code",
   "execution_count": 24,
   "metadata": {},
   "outputs": [
    {
     "output_type": "stream",
     "name": "stdout",
     "text": [
      "CPU times: user 2.41 s, sys: 22 ms, total: 2.44 s\nWall time: 2.45 s\n"
     ]
    },
    {
     "output_type": "execute_result",
     "data": {
      "text/plain": [
       "0.9972561335198975"
      ]
     },
     "metadata": {},
     "execution_count": 24
    }
   ],
   "source": [
    "%%time\n",
    "# RandomForestClassifier\n",
    "rf = Pipeline([('rf', RandomForestClassifier(n_estimators = 10, max_depth = 20))])\n",
    "rf_scores = cross_val_score(rf, X_train, y_train, cv=10, scoring=\"f1\")\n",
    "np.mean(rf_scores)"
   ]
  },
  {
   "source": [
    "Since the RandomForestClassifier has the highest accuracy, I will use it to recommend songs."
   ],
   "cell_type": "markdown",
   "metadata": {}
  },
  {
   "source": [
    "### Using algorithm on test data"
   ],
   "cell_type": "markdown",
   "metadata": {}
  },
  {
   "cell_type": "code",
   "execution_count": 25,
   "metadata": {},
   "outputs": [
    {
     "output_type": "execute_result",
     "data": {
      "text/plain": [
       "0    1950\n",
       "1      14\n",
       "Name: favorite, dtype: int64"
      ]
     },
     "metadata": {},
     "execution_count": 25
    }
   ],
   "source": [
    "# Checking for imabalance\n",
    "y_test.value_counts()"
   ]
  },
  {
   "cell_type": "code",
   "execution_count": 27,
   "metadata": {},
   "outputs": [
    {
     "output_type": "execute_result",
     "data": {
      "text/plain": [
       "0.9913441955193483"
      ]
     },
     "metadata": {},
     "execution_count": 27
    }
   ],
   "source": [
    "# Building a pipeline to use on regular data\n",
    "# predict__proba\n",
    "from sklearn.pipeline import make_pipeline\n",
    "from sklearn.preprocessing import StandardScaler\n",
    "\n",
    "pipe = make_pipeline(StandardScaler(), RandomForestClassifier(n_estimators = 30, max_depth = 20))\n",
    "pipe.fit(X_train, y_train)  # apply scaling on training data\n",
    "Pipeline(steps=[('standardscaler', StandardScaler()),\n",
    "                ('rf', RandomForestClassifier(n_estimators = 30, max_depth = 20))])\n",
    "\n",
    "pipe.score(X_test, y_test)"
   ]
  },
  {
   "source": [
    "## Predicting songs and saving to dataset"
   ],
   "cell_type": "markdown",
   "metadata": {}
  },
  {
   "cell_type": "code",
   "execution_count": 29,
   "metadata": {},
   "outputs": [],
   "source": [
    "df = pd.read_csv('data/encoded_playlist_songs.csv')"
   ]
  },
  {
   "cell_type": "code",
   "execution_count": 30,
   "metadata": {},
   "outputs": [
    {
     "output_type": "execute_result",
     "data": {
      "text/plain": [
       "                 track_id  length  popularity  danceability  acousticness  \\\n",
       "0  7MAibcTli4IisCtbHKrGMh  242096          90         0.586        0.1820   \n",
       "1  5QO79kh1waicV47BqGRL3g  215626          97         0.680        0.0212   \n",
       "2  1diS6nkxMQc3wwC4G1j0bh  165506          88         0.722        0.0319   \n",
       "3  4u4NyuceXP7Uzh7XFJKCr1  170813          89         0.658        0.0106   \n",
       "4  3Ofmpyhv5UAQ70mENzB277  132780          94         0.778        0.1750   \n",
       "\n",
       "   energy  instrumentalness  liveness  loudness  speechiness    tempo  \\\n",
       "0   0.616          0.000000    0.0927    -7.964       0.0324  148.088   \n",
       "1   0.826          0.000012    0.5430    -5.487       0.0309  118.051   \n",
       "2   0.588          0.000000    0.1830    -5.932       0.0544  134.010   \n",
       "3   0.634          0.000000    0.1320    -5.797       0.0413  139.980   \n",
       "4   0.695          0.000000    0.1500    -6.865       0.0913  149.996   \n",
       "\n",
       "   time_signature  favorite  \n",
       "0               4         0  \n",
       "1               4         0  \n",
       "2               4         0  \n",
       "3               4         0  \n",
       "4               4         0  "
      ],
      "text/html": "<div>\n<style scoped>\n    .dataframe tbody tr th:only-of-type {\n        vertical-align: middle;\n    }\n\n    .dataframe tbody tr th {\n        vertical-align: top;\n    }\n\n    .dataframe thead th {\n        text-align: right;\n    }\n</style>\n<table border=\"1\" class=\"dataframe\">\n  <thead>\n    <tr style=\"text-align: right;\">\n      <th></th>\n      <th>track_id</th>\n      <th>length</th>\n      <th>popularity</th>\n      <th>danceability</th>\n      <th>acousticness</th>\n      <th>energy</th>\n      <th>instrumentalness</th>\n      <th>liveness</th>\n      <th>loudness</th>\n      <th>speechiness</th>\n      <th>tempo</th>\n      <th>time_signature</th>\n      <th>favorite</th>\n    </tr>\n  </thead>\n  <tbody>\n    <tr>\n      <th>0</th>\n      <td>7MAibcTli4IisCtbHKrGMh</td>\n      <td>242096</td>\n      <td>90</td>\n      <td>0.586</td>\n      <td>0.1820</td>\n      <td>0.616</td>\n      <td>0.000000</td>\n      <td>0.0927</td>\n      <td>-7.964</td>\n      <td>0.0324</td>\n      <td>148.088</td>\n      <td>4</td>\n      <td>0</td>\n    </tr>\n    <tr>\n      <th>1</th>\n      <td>5QO79kh1waicV47BqGRL3g</td>\n      <td>215626</td>\n      <td>97</td>\n      <td>0.680</td>\n      <td>0.0212</td>\n      <td>0.826</td>\n      <td>0.000012</td>\n      <td>0.5430</td>\n      <td>-5.487</td>\n      <td>0.0309</td>\n      <td>118.051</td>\n      <td>4</td>\n      <td>0</td>\n    </tr>\n    <tr>\n      <th>2</th>\n      <td>1diS6nkxMQc3wwC4G1j0bh</td>\n      <td>165506</td>\n      <td>88</td>\n      <td>0.722</td>\n      <td>0.0319</td>\n      <td>0.588</td>\n      <td>0.000000</td>\n      <td>0.1830</td>\n      <td>-5.932</td>\n      <td>0.0544</td>\n      <td>134.010</td>\n      <td>4</td>\n      <td>0</td>\n    </tr>\n    <tr>\n      <th>3</th>\n      <td>4u4NyuceXP7Uzh7XFJKCr1</td>\n      <td>170813</td>\n      <td>89</td>\n      <td>0.658</td>\n      <td>0.0106</td>\n      <td>0.634</td>\n      <td>0.000000</td>\n      <td>0.1320</td>\n      <td>-5.797</td>\n      <td>0.0413</td>\n      <td>139.980</td>\n      <td>4</td>\n      <td>0</td>\n    </tr>\n    <tr>\n      <th>4</th>\n      <td>3Ofmpyhv5UAQ70mENzB277</td>\n      <td>132780</td>\n      <td>94</td>\n      <td>0.778</td>\n      <td>0.1750</td>\n      <td>0.695</td>\n      <td>0.000000</td>\n      <td>0.1500</td>\n      <td>-6.865</td>\n      <td>0.0913</td>\n      <td>149.996</td>\n      <td>4</td>\n      <td>0</td>\n    </tr>\n  </tbody>\n</table>\n</div>"
     },
     "metadata": {},
     "execution_count": 30
    }
   ],
   "source": [
    "df.head()"
   ]
  },
  {
   "cell_type": "code",
   "execution_count": 31,
   "metadata": {},
   "outputs": [],
   "source": [
    "prob_preds = pipe.predict_proba(df.drop(['favorite','track_id'], axis=1))\n",
    "threshold = 0.30 # define threshold here\n",
    "preds = [1 if prob_preds[i][1]> threshold else 0 for i in range(len(prob_preds))]\n",
    "df['prediction'] = preds"
   ]
  },
  {
   "cell_type": "code",
   "execution_count": 33,
   "metadata": {},
   "outputs": [
    {
     "output_type": "execute_result",
     "data": {
      "text/plain": [
       "0    9734\n",
       "1      35\n",
       "Name: prediction, dtype: int64"
      ]
     },
     "metadata": {},
     "execution_count": 33
    }
   ],
   "source": [
    "df['prediction'].value_counts()"
   ]
  },
  {
   "source": [
    "## Building the playlist from recommended songs"
   ],
   "cell_type": "markdown",
   "metadata": {}
  },
  {
   "cell_type": "code",
   "execution_count": 34,
   "metadata": {},
   "outputs": [],
   "source": [
    "import spotipy\n",
    "import spotipy.util as util\n",
    "from spotipy.oauth2 import SpotifyClientCredentials\n",
    "from spotipy import oauth2"
   ]
  },
  {
   "cell_type": "code",
   "execution_count": 35,
   "metadata": {},
   "outputs": [],
   "source": [
    "# Insert your Spotify username and the credentials that you obtained from spotify developer\n",
    "cid = 'XXXXXX'\n",
    "secret = 'XXXXX'\n",
    "redirect_uri='http://localhost:7777/callback'\n",
    "username = 'XXXXXX'"
   ]
  },
  {
   "cell_type": "code",
   "execution_count": 36,
   "metadata": {},
   "outputs": [],
   "source": [
    "# Once the Authorisation is complete, we just need to `sp` to call the APIs\n",
    "scope = 'user-top-read playlist-modify-private playlist-modify-public'\n",
    "token = util.prompt_for_user_token(username, scope, client_id=cid, client_secret=secret, redirect_uri=redirect_uri)\n",
    "\n",
    "if token:\n",
    "    sp = spotipy.Spotify(auth=token)\n",
    "else:\n",
    "    print(\"Can't get token for\", username)"
   ]
  },
  {
   "cell_type": "code",
   "execution_count": 37,
   "metadata": {},
   "outputs": [],
   "source": [
    "def create_playlist(sp, username, playlist_name, playlist_description):\n",
    "    playlists = sp.user_playlist_create(username, playlist_name, description = playlist_description)"
   ]
  },
  {
   "cell_type": "code",
   "execution_count": 38,
   "metadata": {},
   "outputs": [],
   "source": [
    "create_playlist(sp, username, 'Your New Jams', 'This playlist was created using python!')"
   ]
  },
  {
   "cell_type": "code",
   "execution_count": 39,
   "metadata": {},
   "outputs": [],
   "source": [
    "def fetch_playlists(sp, username):\n",
    "    \"\"\"\n",
    "    Returns the user's playlists.\n",
    "    \"\"\"\n",
    "        \n",
    "    id = []\n",
    "    name = []\n",
    "    num_tracks = []\n",
    "    \n",
    "    # Make the API request\n",
    "    playlists = sp.user_playlists(username)\n",
    "    for playlist in playlists['items']:\n",
    "        id.append(playlist['id'])\n",
    "        name.append(playlist['name'])\n",
    "        num_tracks.append(playlist['tracks']['total'])\n",
    "\n",
    "    # Create the final df   \n",
    "    df_playlists = pd.DataFrame({\"id\":id, \"name\": name, \"#tracks\": num_tracks})\n",
    "    return df_playlists"
   ]
  },
  {
   "cell_type": "code",
   "execution_count": 40,
   "metadata": {},
   "outputs": [
    {
     "output_type": "execute_result",
     "data": {
      "text/plain": [
       "                       id                name  #tracks\n",
       "0  2IILGkkdPYQhCm5FhleTH4       Your New Jams        0\n",
       "1  7vBNuND6ANSxetwQP56lbB       Your New Jams       19\n",
       "2  3zdUVBgr30KKu1lFPimbRQ  Python Playlist #1       50\n",
       "3  4OqhYtuar9Zcjj4djxIHMo              GOSPEL       34\n",
       "4  3ALg99PJwQoQTZUgVOxZCr               LUCKI       38"
      ],
      "text/html": "<div>\n<style scoped>\n    .dataframe tbody tr th:only-of-type {\n        vertical-align: middle;\n    }\n\n    .dataframe tbody tr th {\n        vertical-align: top;\n    }\n\n    .dataframe thead th {\n        text-align: right;\n    }\n</style>\n<table border=\"1\" class=\"dataframe\">\n  <thead>\n    <tr style=\"text-align: right;\">\n      <th></th>\n      <th>id</th>\n      <th>name</th>\n      <th>#tracks</th>\n    </tr>\n  </thead>\n  <tbody>\n    <tr>\n      <th>0</th>\n      <td>2IILGkkdPYQhCm5FhleTH4</td>\n      <td>Your New Jams</td>\n      <td>0</td>\n    </tr>\n    <tr>\n      <th>1</th>\n      <td>7vBNuND6ANSxetwQP56lbB</td>\n      <td>Your New Jams</td>\n      <td>19</td>\n    </tr>\n    <tr>\n      <th>2</th>\n      <td>3zdUVBgr30KKu1lFPimbRQ</td>\n      <td>Python Playlist #1</td>\n      <td>50</td>\n    </tr>\n    <tr>\n      <th>3</th>\n      <td>4OqhYtuar9Zcjj4djxIHMo</td>\n      <td>GOSPEL</td>\n      <td>34</td>\n    </tr>\n    <tr>\n      <th>4</th>\n      <td>3ALg99PJwQoQTZUgVOxZCr</td>\n      <td>LUCKI</td>\n      <td>38</td>\n    </tr>\n  </tbody>\n</table>\n</div>"
     },
     "metadata": {},
     "execution_count": 40
    }
   ],
   "source": [
    "fetch_playlists(sp,username).head()"
   ]
  },
  {
   "cell_type": "code",
   "execution_count": 41,
   "metadata": {},
   "outputs": [],
   "source": [
    "playlist_id = fetch_playlists(sp,username)['id'][0]"
   ]
  },
  {
   "cell_type": "code",
   "execution_count": 42,
   "metadata": {},
   "outputs": [],
   "source": [
    "def enrich_playlist(sp, username, playlist_id, playlist_tracks):\n",
    "    index = 0\n",
    "    results = []\n",
    "    \n",
    "    while index < len(playlist_tracks):\n",
    "        results += sp.user_playlist_add_tracks(username, playlist_id, tracks = playlist_tracks[index:index + 50])\n",
    "        index += 50"
   ]
  },
  {
   "cell_type": "code",
   "execution_count": 43,
   "metadata": {},
   "outputs": [
    {
     "output_type": "execute_result",
     "data": {
      "text/plain": [
       "                       id                name  #tracks\n",
       "0  2IILGkkdPYQhCm5FhleTH4       Your New Jams       35\n",
       "1  7vBNuND6ANSxetwQP56lbB       Your New Jams       19\n",
       "2  3zdUVBgr30KKu1lFPimbRQ  Python Playlist #1       50\n",
       "3  4OqhYtuar9Zcjj4djxIHMo              GOSPEL       34\n",
       "4  3ALg99PJwQoQTZUgVOxZCr               LUCKI       38"
      ],
      "text/html": "<div>\n<style scoped>\n    .dataframe tbody tr th:only-of-type {\n        vertical-align: middle;\n    }\n\n    .dataframe tbody tr th {\n        vertical-align: top;\n    }\n\n    .dataframe thead th {\n        text-align: right;\n    }\n</style>\n<table border=\"1\" class=\"dataframe\">\n  <thead>\n    <tr style=\"text-align: right;\">\n      <th></th>\n      <th>id</th>\n      <th>name</th>\n      <th>#tracks</th>\n    </tr>\n  </thead>\n  <tbody>\n    <tr>\n      <th>0</th>\n      <td>2IILGkkdPYQhCm5FhleTH4</td>\n      <td>Your New Jams</td>\n      <td>35</td>\n    </tr>\n    <tr>\n      <th>1</th>\n      <td>7vBNuND6ANSxetwQP56lbB</td>\n      <td>Your New Jams</td>\n      <td>19</td>\n    </tr>\n    <tr>\n      <th>2</th>\n      <td>3zdUVBgr30KKu1lFPimbRQ</td>\n      <td>Python Playlist #1</td>\n      <td>50</td>\n    </tr>\n    <tr>\n      <th>3</th>\n      <td>4OqhYtuar9Zcjj4djxIHMo</td>\n      <td>GOSPEL</td>\n      <td>34</td>\n    </tr>\n    <tr>\n      <th>4</th>\n      <td>3ALg99PJwQoQTZUgVOxZCr</td>\n      <td>LUCKI</td>\n      <td>38</td>\n    </tr>\n  </tbody>\n</table>\n</div>"
     },
     "metadata": {},
     "execution_count": 43
    }
   ],
   "source": [
    "list_track = df.loc[df['prediction']  == 1]['track_id']\n",
    "enrich_playlist(sp, username, playlist_id, list_track)\n",
    "fetch_playlists(sp,username).head()"
   ]
  }
 ]
}