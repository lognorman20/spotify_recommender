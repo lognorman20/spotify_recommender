{
 "metadata": {
  "language_info": {
   "codemirror_mode": {
    "name": "ipython",
    "version": 3
   },
   "file_extension": ".py",
   "mimetype": "text/x-python",
   "name": "python",
   "nbconvert_exporter": "python",
   "pygments_lexer": "ipython3",
   "version": "3.9.2-final"
  },
  "orig_nbformat": 2,
  "kernelspec": {
   "name": "python3",
   "display_name": "Python 3",
   "language": "python"
  }
 },
 "nbformat": 4,
 "nbformat_minor": 2,
 "cells": [
  {
   "cell_type": "code",
   "execution_count": 3,
   "metadata": {},
   "outputs": [],
   "source": [
    "import os\n",
    "import pandas as pd\n",
    "import numpy as np\n",
    "import json\n",
    "import matplotlib.pyplot as plt\n",
    "import seaborn as sns\n",
    "%config InlineBackend.figure_format ='retina'\n",
    "import random\n",
    "from functools import reduce\n",
    "import spotipy\n",
    "import spotipy.util as util\n",
    "from spotipy.oauth2 import SpotifyClientCredentials\n",
    "from spotipy import oauth2"
   ]
  },
  {
   "cell_type": "code",
   "execution_count": 4,
   "metadata": {},
   "outputs": [],
   "source": [
    "# Insert your Spotify username and the credentials that you obtained from spotify developer\n",
    "cid = '58ecd7aadf294b9aa038a3080ef670cb'\n",
    "secret = '4a277ac2c0a744eea5c839b1ecb27002'\n",
    "redirect_uri='http://localhost:7777/callback'\n",
    "username = 'yvngflash_'"
   ]
  },
  {
   "cell_type": "code",
   "execution_count": 5,
   "metadata": {},
   "outputs": [],
   "source": [
    "# Once the Authorisation is complete, we just need to `sp` to call the APIs\n",
    "scope = 'user-top-read playlist-modify-private playlist-modify-public'\n",
    "token = util.prompt_for_user_token(username, scope, client_id=cid, client_secret=secret, redirect_uri=redirect_uri)\n",
    "\n",
    "if token:\n",
    "    sp = spotipy.Spotify(auth=token)\n",
    "else:\n",
    "    print(\"Can't get token for\", username)"
   ]
  },
  {
   "cell_type": "code",
   "execution_count": 6,
   "metadata": {},
   "outputs": [],
   "source": [
    "# Getting top 1000 tracks from user\n",
    "results = sp.current_user_top_tracks(limit=1000, offset=0,time_range='short_term')"
   ]
  },
  {
   "cell_type": "code",
   "execution_count": 7,
   "metadata": {},
   "outputs": [
    {
     "output_type": "execute_result",
     "data": {
      "text/plain": [
       "           track_name                                         album  \\\n",
       "0    Feels Like Death                              Feels Like Death   \n",
       "1  Deep End Freestyle  Sleepy Hallow Presents: Sleepy For President   \n",
       "2           Glory Boy                                    Freewave 3   \n",
       "3               Place                               Whole Lotta Red   \n",
       "4               Faith                                         Faith   \n",
       "\n",
       "                 track_id         artist  duration  popularity  \n",
       "0  03vMyCyCK7pVWjC1i1zur0    Levi Carter    237505          44  \n",
       "1  2AlYncTpVHKwHb55F9lF6O  Sleepy Hallow    115200          75  \n",
       "2  5LpnrXjrt0BOU0iOGH78UN          LUCKI    111048          40  \n",
       "3  1Bg2CNZw6S4e9cGWPmi0uI  Playboi Carti    117239          69  \n",
       "4  0TqNfrOY2IrpFRI2zxsMq4          LUCKI    107467          36  "
      ],
      "text/html": "<div>\n<style scoped>\n    .dataframe tbody tr th:only-of-type {\n        vertical-align: middle;\n    }\n\n    .dataframe tbody tr th {\n        vertical-align: top;\n    }\n\n    .dataframe thead th {\n        text-align: right;\n    }\n</style>\n<table border=\"1\" class=\"dataframe\">\n  <thead>\n    <tr style=\"text-align: right;\">\n      <th></th>\n      <th>track_name</th>\n      <th>album</th>\n      <th>track_id</th>\n      <th>artist</th>\n      <th>duration</th>\n      <th>popularity</th>\n    </tr>\n  </thead>\n  <tbody>\n    <tr>\n      <th>0</th>\n      <td>Feels Like Death</td>\n      <td>Feels Like Death</td>\n      <td>03vMyCyCK7pVWjC1i1zur0</td>\n      <td>Levi Carter</td>\n      <td>237505</td>\n      <td>44</td>\n    </tr>\n    <tr>\n      <th>1</th>\n      <td>Deep End Freestyle</td>\n      <td>Sleepy Hallow Presents: Sleepy For President</td>\n      <td>2AlYncTpVHKwHb55F9lF6O</td>\n      <td>Sleepy Hallow</td>\n      <td>115200</td>\n      <td>75</td>\n    </tr>\n    <tr>\n      <th>2</th>\n      <td>Glory Boy</td>\n      <td>Freewave 3</td>\n      <td>5LpnrXjrt0BOU0iOGH78UN</td>\n      <td>LUCKI</td>\n      <td>111048</td>\n      <td>40</td>\n    </tr>\n    <tr>\n      <th>3</th>\n      <td>Place</td>\n      <td>Whole Lotta Red</td>\n      <td>1Bg2CNZw6S4e9cGWPmi0uI</td>\n      <td>Playboi Carti</td>\n      <td>117239</td>\n      <td>69</td>\n    </tr>\n    <tr>\n      <th>4</th>\n      <td>Faith</td>\n      <td>Faith</td>\n      <td>0TqNfrOY2IrpFRI2zxsMq4</td>\n      <td>LUCKI</td>\n      <td>107467</td>\n      <td>36</td>\n    </tr>\n  </tbody>\n</table>\n</div>"
     },
     "metadata": {},
     "execution_count": 7
    }
   ],
   "source": [
    "# Convert it to Dataframe\n",
    "track_name = []\n",
    "track_id = []\n",
    "artist = []\n",
    "album = []\n",
    "duration = []\n",
    "popularity = []\n",
    "for i, items in enumerate(results['items']):\n",
    "        track_name.append(items['name'])\n",
    "        track_id.append(items['id'])\n",
    "        artist.append(items[\"artists\"][0][\"name\"])\n",
    "        duration.append(items[\"duration_ms\"])\n",
    "        album.append(items[\"album\"][\"name\"])\n",
    "        popularity.append(items[\"popularity\"])\n",
    "\n",
    "# Create the final df   \n",
    "df_favourite = pd.DataFrame({ \"track_name\": track_name, \n",
    "                             \"album\": album, \n",
    "                             \"track_id\": track_id,\n",
    "                             \"artist\": artist, \n",
    "                             \"duration\": duration, \n",
    "                             \"popularity\": popularity})\n",
    "\n",
    "df_favourite.head()"
   ]
  },
  {
   "cell_type": "code",
   "execution_count": 8,
   "metadata": {},
   "outputs": [],
   "source": [
    "# Getting features for each song\n",
    "def fetch_audio_features(sp, df):\n",
    "    playlist = df[['track_id','track_name']] \n",
    "    index = 0\n",
    "    audio_features = []\n",
    "    \n",
    "    # Make the API request\n",
    "    while index < playlist.shape[0]:\n",
    "        audio_features += sp.audio_features(playlist.iloc[index:index + 50, 0])\n",
    "        index += 50\n",
    "    \n",
    "    # Create an empty list to feed in different charactieritcs of the tracks\n",
    "    features_list = []\n",
    "    #Create keys-values of empty lists inside nested dictionary for album\n",
    "    for features in audio_features:\n",
    "        features_list.append([features['danceability'],\n",
    "                              features['acousticness'],\n",
    "                              features['energy'], \n",
    "                              features['tempo'],\n",
    "                              features['instrumentalness'], \n",
    "                              features['loudness'],\n",
    "                              features['liveness'],\n",
    "                              features['duration_ms'],\n",
    "                              features['key'],\n",
    "                              features['valence'],\n",
    "                              features['speechiness'],\n",
    "                              features['mode']\n",
    "                             ])\n",
    "    \n",
    "    df_audio_features = pd.DataFrame(features_list, columns=['danceability', 'acousticness', 'energy','tempo', \n",
    "                                                             'instrumentalness', 'loudness', 'liveness','duration_ms', 'key',\n",
    "                                                             'valence', 'speechiness', 'mode'])\n",
    "    \n",
    "    # Create the final df, using the 'track_id' as index for future reference\n",
    "    df_playlist_audio_features = pd.concat([playlist, df_audio_features], axis=1)\n",
    "    df_playlist_audio_features.set_index('track_name', inplace=True, drop=True)\n",
    "    return df_playlist_audio_features"
   ]
  },
  {
   "cell_type": "code",
   "execution_count": 9,
   "metadata": {},
   "outputs": [
    {
     "output_type": "execute_result",
     "data": {
      "text/plain": [
       "                                  track_id  danceability  acousticness  \\\n",
       "track_name                                                               \n",
       "Feels Like Death    03vMyCyCK7pVWjC1i1zur0         0.755      0.337000   \n",
       "Deep End Freestyle  2AlYncTpVHKwHb55F9lF6O         0.868      0.703000   \n",
       "Glory Boy           5LpnrXjrt0BOU0iOGH78UN         0.784      0.096600   \n",
       "Place               1Bg2CNZw6S4e9cGWPmi0uI         0.891      0.000674   \n",
       "Faith               0TqNfrOY2IrpFRI2zxsMq4         0.878      0.123000   \n",
       "\n",
       "                    energy    tempo  instrumentalness  loudness  liveness  \\\n",
       "track_name                                                                  \n",
       "Feels Like Death     0.626  110.088            0.0000    -6.247    0.1370   \n",
       "Deep End Freestyle   0.479  133.928            0.0000    -6.687    0.1020   \n",
       "Glory Boy            0.519  129.953            0.0109    -9.868    0.0748   \n",
       "Place                0.628  131.060            0.0000    -6.350    0.1190   \n",
       "Faith                0.584  125.069            0.0000   -10.014    0.1050   \n",
       "\n",
       "                    duration_ms  key  valence  speechiness  mode  \n",
       "track_name                                                        \n",
       "Feels Like Death         237505    6    0.465        0.293     1  \n",
       "Deep End Freestyle       115200    4    0.776        0.445     0  \n",
       "Glory Boy                111048    1    0.599        0.096     1  \n",
       "Place                    117240    1    0.040        0.105     1  \n",
       "Faith                    107468   10    0.488        0.419     1  "
      ],
      "text/html": "<div>\n<style scoped>\n    .dataframe tbody tr th:only-of-type {\n        vertical-align: middle;\n    }\n\n    .dataframe tbody tr th {\n        vertical-align: top;\n    }\n\n    .dataframe thead th {\n        text-align: right;\n    }\n</style>\n<table border=\"1\" class=\"dataframe\">\n  <thead>\n    <tr style=\"text-align: right;\">\n      <th></th>\n      <th>track_id</th>\n      <th>danceability</th>\n      <th>acousticness</th>\n      <th>energy</th>\n      <th>tempo</th>\n      <th>instrumentalness</th>\n      <th>loudness</th>\n      <th>liveness</th>\n      <th>duration_ms</th>\n      <th>key</th>\n      <th>valence</th>\n      <th>speechiness</th>\n      <th>mode</th>\n    </tr>\n    <tr>\n      <th>track_name</th>\n      <th></th>\n      <th></th>\n      <th></th>\n      <th></th>\n      <th></th>\n      <th></th>\n      <th></th>\n      <th></th>\n      <th></th>\n      <th></th>\n      <th></th>\n      <th></th>\n      <th></th>\n    </tr>\n  </thead>\n  <tbody>\n    <tr>\n      <th>Feels Like Death</th>\n      <td>03vMyCyCK7pVWjC1i1zur0</td>\n      <td>0.755</td>\n      <td>0.337000</td>\n      <td>0.626</td>\n      <td>110.088</td>\n      <td>0.0000</td>\n      <td>-6.247</td>\n      <td>0.1370</td>\n      <td>237505</td>\n      <td>6</td>\n      <td>0.465</td>\n      <td>0.293</td>\n      <td>1</td>\n    </tr>\n    <tr>\n      <th>Deep End Freestyle</th>\n      <td>2AlYncTpVHKwHb55F9lF6O</td>\n      <td>0.868</td>\n      <td>0.703000</td>\n      <td>0.479</td>\n      <td>133.928</td>\n      <td>0.0000</td>\n      <td>-6.687</td>\n      <td>0.1020</td>\n      <td>115200</td>\n      <td>4</td>\n      <td>0.776</td>\n      <td>0.445</td>\n      <td>0</td>\n    </tr>\n    <tr>\n      <th>Glory Boy</th>\n      <td>5LpnrXjrt0BOU0iOGH78UN</td>\n      <td>0.784</td>\n      <td>0.096600</td>\n      <td>0.519</td>\n      <td>129.953</td>\n      <td>0.0109</td>\n      <td>-9.868</td>\n      <td>0.0748</td>\n      <td>111048</td>\n      <td>1</td>\n      <td>0.599</td>\n      <td>0.096</td>\n      <td>1</td>\n    </tr>\n    <tr>\n      <th>Place</th>\n      <td>1Bg2CNZw6S4e9cGWPmi0uI</td>\n      <td>0.891</td>\n      <td>0.000674</td>\n      <td>0.628</td>\n      <td>131.060</td>\n      <td>0.0000</td>\n      <td>-6.350</td>\n      <td>0.1190</td>\n      <td>117240</td>\n      <td>1</td>\n      <td>0.040</td>\n      <td>0.105</td>\n      <td>1</td>\n    </tr>\n    <tr>\n      <th>Faith</th>\n      <td>0TqNfrOY2IrpFRI2zxsMq4</td>\n      <td>0.878</td>\n      <td>0.123000</td>\n      <td>0.584</td>\n      <td>125.069</td>\n      <td>0.0000</td>\n      <td>-10.014</td>\n      <td>0.1050</td>\n      <td>107468</td>\n      <td>10</td>\n      <td>0.488</td>\n      <td>0.419</td>\n      <td>1</td>\n    </tr>\n  </tbody>\n</table>\n</div>"
     },
     "metadata": {},
     "execution_count": 9
    }
   ],
   "source": [
    "df_fav = fetch_audio_features(sp, df_favourite)\n",
    "df_fav.head()"
   ]
  },
  {
   "source": [
    "### Getting the songs from all of Spotify's playlists"
   ],
   "cell_type": "markdown",
   "metadata": {}
  },
  {
   "cell_type": "code",
   "execution_count": 26,
   "metadata": {},
   "outputs": [
    {
     "output_type": "execute_result",
     "data": {
      "text/plain": [
       "['7AiMnJSODcJoKDejQ3mnoJ',\n",
       " '73C4vh7W8u41Vll5HvBqv7',\n",
       " '5kYZbBLAGrrhFKNbOs6D95',\n",
       " '18z6OV5lknJmKnZi7aA1zH',\n",
       " '1gHtbcRP4tz1O1NsxPpBea',\n",
       " '3kJudfRjZMItdFYVCCaSi6',\n",
       " '6mzaCRuLTRiz1caGOum3zT',\n",
       " '5h4Uqkh9RpRZwm5ADLh5uj',\n",
       " '3rGew9pmFEmGD9nZ12F1tN',\n",
       " '0dYDmow4l5hbPs5E6QLMSC',\n",
       " '1B3jkf6CyuiF8CQcKlUx9y',\n",
       " '6DkmFhzJrkVhDlcgcEy7Pc',\n",
       " '5dKy6Cgv6xwiRY3j3AJ7Uq',\n",
       " '0oz4ZqHuUaz3uEkP2vD0u8',\n",
       " '389hKTL3ZBPPWP3VuXfEyv',\n",
       " '5cw9s2zGrbny2M2p3WRmGm',\n",
       " '3YaMX9Cf68dxiG6RKo0pSY',\n",
       " '1cAL4sFzXXRMbpZnTPa7Zi',\n",
       " '4w5BVeKJFCj2rrrEy31s0n',\n",
       " '4ta2AWru6ldjg1aHzww0aK',\n",
       " '45DJ0PbKPdbslnyrcM80HN',\n",
       " '7yNu82yd6dYmGQ0H1q0jKo',\n",
       " '4v4HwTfMPslhWAnJxIXchn',\n",
       " '6XptjfnUvLfejptpjPRhCT',\n",
       " '1y2SK8EjL3WSnJvJEMWOoq',\n",
       " '4UMp46x46Zmu9OEr8m3Gl2',\n",
       " '7nb50hgKYhnHJLHKZ7qiKO',\n",
       " '5y5OzukBTl0yTRMEdNmApJ',\n",
       " '3Hdl3BEFb1IEbL0Jq53enx',\n",
       " '0lsC0OkBgiLYbSsoHOzMnr',\n",
       " '0Pm1BZp4MpoMKkNxIXCfAu',\n",
       " '2droOB3xlZkhgfUM0owDTq',\n",
       " '2Nd2HLWrIq1DcNMiYPTQUC',\n",
       " '4j644tViOFAf4i0BYT12R8',\n",
       " '4k6hX9RKD096K1NCjjJZLc',\n",
       " '0aSW5EMeNnQSMJQ8QN3zIW',\n",
       " '0tkmYNfaEaH9HpR59ApRtE',\n",
       " '0kas95RruYRVqrOb07rgkh',\n",
       " '4BOikd4oZjOYMde9AXfrTo',\n",
       " '6ZRuF2n1CQxyxxAAWsKJOy',\n",
       " '1EGrDTfEuAiRzRdxlblpET',\n",
       " '32s2Dn9EVvO2f85MrpRoBV',\n",
       " '4jM3c9KLTO9iZPm9A7neiL',\n",
       " '6GCRnf1W9OKxok9fvNp3pz',\n",
       " '1Zm9qGPQkTAOBiVpGSnJUq',\n",
       " '3ucRKbRlikYHyoI17gfR0c',\n",
       " '6HUO25AttZZCoKAY0vUVtc',\n",
       " '5Qr7StTFbXhgHt9JlqJx0I',\n",
       " '1QzC4y8h6WFxHE4KlokhVr',\n",
       " '1xz905v9g71heS0BQQM9re',\n",
       " '5QTdOvIF2ehBMZpSIIGzIo',\n",
       " '7IJiDYPZy2AIJn3YVHhvD4',\n",
       " '23wuZgeX1oyJ43QYOTo9s7',\n",
       " '0tBBihoEWiWKqsO5ZlCbwS']"
      ]
     },
     "metadata": {},
     "execution_count": 26
    }
   ],
   "source": [
    "def getTrackIDs(user, playlist_id):\n",
    "    ids = []\n",
    "    playlist = sp.user_playlist(user, playlist_id)\n",
    "    for item in playlist['tracks']['items']:\n",
    "        track = item['track']\n",
    "        ids.append(track['id'])\n",
    "    return ids\n",
    "\n",
    "ids = getTrackIDs('angelicadietzel', '4R0BZVh27NUJhHGLNitU08')\n",
    "ids"
   ]
  },
  {
   "source": [
    "### Getting featured playlists from spotify"
   ],
   "cell_type": "markdown",
   "metadata": {}
  },
  {
   "cell_type": "code",
   "execution_count": 11,
   "metadata": {},
   "outputs": [],
   "source": [
    "# Function to create a df of featured playlist\n",
    "def featured_playlists(sp):\n",
    "    id = []\n",
    "    name = []\n",
    "    num_tracks = []\n",
    " # For looping through the API request  \n",
    "    response = sp.featured_playlists(limit = 50)\n",
    "    playlists = response['playlists']\n",
    "    for i, items in enumerate(playlists['items']):\n",
    "        id.append(items['id'])\n",
    "        name.append(items['name'])\n",
    "        num_tracks.append(items['tracks']['total'])\n",
    "\n",
    "# Create the final df   \n",
    "    df_playlists = pd.DataFrame({\"id\":id, \"name\": name, \"#tracks\": num_tracks})\n",
    "    return df_playlists"
   ]
  },
  {
   "cell_type": "code",
   "execution_count": 12,
   "metadata": {},
   "outputs": [
    {
     "output_type": "execute_result",
     "data": {
      "text/plain": [
       "                       id                                             name  \\\n",
       "0  37i9dQZF1DXcBWIGoYBM5M                                 Today's Top Hits   \n",
       "1  37i9dQZF1DXbm6HfkbMtFZ                                 Feel Good Dinner   \n",
       "2  37i9dQZF1DX1tW4VlEfDSS                                    Groove Theory   \n",
       "3  37i9dQZF1DWY4xHQp97fN6                                        Get Turnt   \n",
       "4  37i9dQZF1DXcDxnC0UqHJa                                    Folksy Covers   \n",
       "5  37i9dQZF1DXdbXrPNafg9d                                    All New Indie   \n",
       "6  37i9dQZF1DWWQRwui0ExPn                                      Lo-Fi Beats   \n",
       "7  37i9dQZF1DWUvHZA1zLcjW                                Chilled Classical   \n",
       "8  37i9dQZF1DXbrUpGvoi3TS  Broken Heart - Sad Girl Songs by Olivia Rodrigo   \n",
       "9  37i9dQZF1DX0MLFaUdXnjA                                        Chill Pop   \n",
       "\n",
       "   #tracks  \n",
       "0       50  \n",
       "1      115  \n",
       "2       60  \n",
       "3      100  \n",
       "4      115  \n",
       "5      151  \n",
       "6      599  \n",
       "7       90  \n",
       "8       26  \n",
       "9      109  "
      ],
      "text/html": "<div>\n<style scoped>\n    .dataframe tbody tr th:only-of-type {\n        vertical-align: middle;\n    }\n\n    .dataframe tbody tr th {\n        vertical-align: top;\n    }\n\n    .dataframe thead th {\n        text-align: right;\n    }\n</style>\n<table border=\"1\" class=\"dataframe\">\n  <thead>\n    <tr style=\"text-align: right;\">\n      <th></th>\n      <th>id</th>\n      <th>name</th>\n      <th>#tracks</th>\n    </tr>\n  </thead>\n  <tbody>\n    <tr>\n      <th>0</th>\n      <td>37i9dQZF1DXcBWIGoYBM5M</td>\n      <td>Today's Top Hits</td>\n      <td>50</td>\n    </tr>\n    <tr>\n      <th>1</th>\n      <td>37i9dQZF1DXbm6HfkbMtFZ</td>\n      <td>Feel Good Dinner</td>\n      <td>115</td>\n    </tr>\n    <tr>\n      <th>2</th>\n      <td>37i9dQZF1DX1tW4VlEfDSS</td>\n      <td>Groove Theory</td>\n      <td>60</td>\n    </tr>\n    <tr>\n      <th>3</th>\n      <td>37i9dQZF1DWY4xHQp97fN6</td>\n      <td>Get Turnt</td>\n      <td>100</td>\n    </tr>\n    <tr>\n      <th>4</th>\n      <td>37i9dQZF1DXcDxnC0UqHJa</td>\n      <td>Folksy Covers</td>\n      <td>115</td>\n    </tr>\n    <tr>\n      <th>5</th>\n      <td>37i9dQZF1DXdbXrPNafg9d</td>\n      <td>All New Indie</td>\n      <td>151</td>\n    </tr>\n    <tr>\n      <th>6</th>\n      <td>37i9dQZF1DWWQRwui0ExPn</td>\n      <td>Lo-Fi Beats</td>\n      <td>599</td>\n    </tr>\n    <tr>\n      <th>7</th>\n      <td>37i9dQZF1DWUvHZA1zLcjW</td>\n      <td>Chilled Classical</td>\n      <td>90</td>\n    </tr>\n    <tr>\n      <th>8</th>\n      <td>37i9dQZF1DXbrUpGvoi3TS</td>\n      <td>Broken Heart - Sad Girl Songs by Olivia Rodrigo</td>\n      <td>26</td>\n    </tr>\n    <tr>\n      <th>9</th>\n      <td>37i9dQZF1DX0MLFaUdXnjA</td>\n      <td>Chill Pop</td>\n      <td>109</td>\n    </tr>\n  </tbody>\n</table>\n</div>"
     },
     "metadata": {},
     "execution_count": 12
    }
   ],
   "source": [
    "df_playlists = featured_playlists(sp)\n",
    "df_playlists"
   ]
  },
  {
   "cell_type": "code",
   "execution_count": 13,
   "metadata": {},
   "outputs": [],
   "source": [
    "# Getting the tracks in each playlist\n",
    "def fetch_playlist_tracks(sp, playlistsid): \n",
    "    offset = 0\n",
    "    tracks = []\n",
    "    # Make the API request\n",
    "    while True:\n",
    "            content = sp.playlist_tracks( playlistsid, fields=None, limit=100, offset=offset, market=None)\n",
    "            tracks += content['items']\n",
    "        \n",
    "            if content['next'] is not None:\n",
    "                offset += 100\n",
    "            else:\n",
    "                break\n",
    "    \n",
    "    track_id = []\n",
    "    track_name = []\n",
    "    \n",
    "    for track in tracks:\n",
    "        track_id.append(track['track']['id'])\n",
    "        track_name.append(track['track']['name'])\n",
    "    \n",
    "# Create the final df\n",
    "    df_playlists_tracks = pd.DataFrame({\"track_id\":track_id, \"track_name\": track_name})\n",
    "    return df_playlists_tracks"
   ]
  },
  {
   "cell_type": "code",
   "execution_count": 14,
   "metadata": {},
   "outputs": [
    {
     "output_type": "execute_result",
     "data": {
      "text/plain": [
       "                 track_id                          track_name\n",
       "0  7vFv0yFGMJW3qVXbAd9BK9           Your Body Is a Wonderland\n",
       "1  24YvUQnuPL8gObCfSnAobH                    Hey, Soul Sister\n",
       "2  3rKYiySCDMUKTw5kGVVhaa  Marvin Gaye (feat. Meghan Trainor)\n",
       "3  0ULAOsJR33XQzlZVZvjGpB               Don't Dream It's Over\n",
       "4  0IktbUcnAGrvD03AWnz3Q8                               Lucky"
      ],
      "text/html": "<div>\n<style scoped>\n    .dataframe tbody tr th:only-of-type {\n        vertical-align: middle;\n    }\n\n    .dataframe tbody tr th {\n        vertical-align: top;\n    }\n\n    .dataframe thead th {\n        text-align: right;\n    }\n</style>\n<table border=\"1\" class=\"dataframe\">\n  <thead>\n    <tr style=\"text-align: right;\">\n      <th></th>\n      <th>track_id</th>\n      <th>track_name</th>\n    </tr>\n  </thead>\n  <tbody>\n    <tr>\n      <th>0</th>\n      <td>7vFv0yFGMJW3qVXbAd9BK9</td>\n      <td>Your Body Is a Wonderland</td>\n    </tr>\n    <tr>\n      <th>1</th>\n      <td>24YvUQnuPL8gObCfSnAobH</td>\n      <td>Hey, Soul Sister</td>\n    </tr>\n    <tr>\n      <th>2</th>\n      <td>3rKYiySCDMUKTw5kGVVhaa</td>\n      <td>Marvin Gaye (feat. Meghan Trainor)</td>\n    </tr>\n    <tr>\n      <th>3</th>\n      <td>0ULAOsJR33XQzlZVZvjGpB</td>\n      <td>Don't Dream It's Over</td>\n    </tr>\n    <tr>\n      <th>4</th>\n      <td>0IktbUcnAGrvD03AWnz3Q8</td>\n      <td>Lucky</td>\n    </tr>\n  </tbody>\n</table>\n</div>"
     },
     "metadata": {},
     "execution_count": 14
    }
   ],
   "source": [
    "fetch_playlist_tracks(sp,'37i9dQZF1DXaz7CcPuNVXF').head()"
   ]
  },
  {
   "cell_type": "code",
   "execution_count": 15,
   "metadata": {},
   "outputs": [],
   "source": [
    "# Function to fetch the audio features from the songs of given playlist\n",
    "def fetch_audio_features(sp, playlist_id):\n",
    "    playlist = fetch_playlist_tracks(sp, playlist_id)\n",
    "    index = 0\n",
    "    audio_features = []\n",
    "    \n",
    "    # Make the API request\n",
    "    while index < playlist.shape[0]:\n",
    "        audio_features += sp.audio_features(playlist.iloc[index:index + 50, 0])\n",
    "        index += 50\n",
    "    \n",
    "    # Create an empty list to feed in different charactieritcs of the tracks\n",
    "    features_list = []\n",
    "    #Create keys-values of empty lists inside nested dictionary for album\n",
    "    for features in audio_features:\n",
    "        features_list.append([features['danceability'],\n",
    "                              features['acousticness'],\n",
    "                              features['energy'], \n",
    "                              features['tempo'],\n",
    "                              features['instrumentalness'], \n",
    "                              features['loudness'],\n",
    "                              features['liveness'],\n",
    "                              features['duration_ms'],\n",
    "                              features['key'],\n",
    "                              features['valence'],\n",
    "                              features['speechiness']\n",
    "                             ])\n",
    "    \n",
    "    df_audio_features = pd.DataFrame(features_list, columns=['danceability', 'acousticness', 'energy','tempo', \n",
    "                                                             'instrumentalness', 'loudness', 'liveness', 'duration_ms', 'key',\n",
    "                                                             'valence', 'speechiness'])\n",
    "    \n",
    "    # Create the final df, using the 'track_id' as index for future reference\n",
    "    df_playlist_audio_features = pd.concat([playlist, df_audio_features], axis=1)\n",
    "    df_playlist_audio_features.set_index('track_name', inplace=True, drop=True)\n",
    "    return df_playlist_audio_features\n"
   ]
  },
  {
   "cell_type": "code",
   "execution_count": 16,
   "metadata": {},
   "outputs": [
    {
     "output_type": "stream",
     "name": "stdout",
     "text": [
      "Create df_37i9dQZF1DXcBWIGoYBM5M = fetch_audio_features(sp, playlist)\n",
      "Create df_37i9dQZF1DXbm6HfkbMtFZ = fetch_audio_features(sp, playlist)\n",
      "Create df_37i9dQZF1DX1tW4VlEfDSS = fetch_audio_features(sp, playlist)\n",
      "Create df_37i9dQZF1DWY4xHQp97fN6 = fetch_audio_features(sp, playlist)\n",
      "Create df_37i9dQZF1DXcDxnC0UqHJa = fetch_audio_features(sp, playlist)\n",
      "Create df_37i9dQZF1DXdbXrPNafg9d = fetch_audio_features(sp, playlist)\n",
      "playlist with id 37i9dQZF1DXdbXrPNafg9d is not valid, skiping \n",
      "Create df_37i9dQZF1DWWQRwui0ExPn = fetch_audio_features(sp, playlist)\n",
      "Create df_37i9dQZF1DWUvHZA1zLcjW = fetch_audio_features(sp, playlist)\n",
      "Create df_37i9dQZF1DXbrUpGvoi3TS = fetch_audio_features(sp, playlist)\n",
      "Create df_37i9dQZF1DX0MLFaUdXnjA = fetch_audio_features(sp, playlist)\n"
     ]
    }
   ],
   "source": [
    "# Build the dtaframe froms the playlists\n",
    "for i, playlist in enumerate(df_playlists['id']):\n",
    "    try:\n",
    "        string_command = \"df_{} = fetch_audio_features(sp, playlist)\".format(playlist)\n",
    "        print(\"Create {}\".format(string_command))\n",
    "        exec(string_command)\n",
    "    except:\n",
    "        print(\"playlist with id {} is not valid, skiping \".format(playlist))\n",
    "        pass\n"
   ]
  },
  {
   "cell_type": "code",
   "execution_count": 17,
   "metadata": {},
   "outputs": [],
   "source": [
    "# To understand the playlist, it would be useful to get the average value for each audio feature\n",
    "def fetch_audio_features_mean(sp, playlist_id):\n",
    "    Playlist = fetch_audio_features(sp, playlist_id)\n",
    "    return pd.DataFrame(Playlist.mean(), columns= [playlist_id])"
   ]
  },
  {
   "cell_type": "code",
   "execution_count": 18,
   "metadata": {},
   "outputs": [
    {
     "output_type": "execute_result",
     "data": {
      "text/plain": [
       "                  37i9dQZF1DX0MLFaUdXnjA\n",
       "danceability                    0.605716\n",
       "acousticness                    0.459792\n",
       "energy                          0.465119\n",
       "tempo                         117.807000\n",
       "instrumentalness                0.005687"
      ],
      "text/html": "<div>\n<style scoped>\n    .dataframe tbody tr th:only-of-type {\n        vertical-align: middle;\n    }\n\n    .dataframe tbody tr th {\n        vertical-align: top;\n    }\n\n    .dataframe thead th {\n        text-align: right;\n    }\n</style>\n<table border=\"1\" class=\"dataframe\">\n  <thead>\n    <tr style=\"text-align: right;\">\n      <th></th>\n      <th>37i9dQZF1DX0MLFaUdXnjA</th>\n    </tr>\n  </thead>\n  <tbody>\n    <tr>\n      <th>danceability</th>\n      <td>0.605716</td>\n    </tr>\n    <tr>\n      <th>acousticness</th>\n      <td>0.459792</td>\n    </tr>\n    <tr>\n      <th>energy</th>\n      <td>0.465119</td>\n    </tr>\n    <tr>\n      <th>tempo</th>\n      <td>117.807000</td>\n    </tr>\n    <tr>\n      <th>instrumentalness</th>\n      <td>0.005687</td>\n    </tr>\n  </tbody>\n</table>\n</div>"
     },
     "metadata": {},
     "execution_count": 18
    }
   ],
   "source": [
    "df = fetch_audio_features_mean(sp, '37i9dQZF1DX0MLFaUdXnjA')\n",
    "df.head()"
   ]
  },
  {
   "cell_type": "code",
   "execution_count": 19,
   "metadata": {},
   "outputs": [],
   "source": [
    "# Merge all playlists together to get a large df of tracks\n",
    "dataframes = []\n",
    "# Loop through the filenames to populate dataframes with different dataframes \n",
    "for i in df_playlists['id']:\n",
    "    try:\n",
    "        dataframes.append(fetch_audio_features_mean(sp, i))\n",
    "    except:\n",
    "        pass"
   ]
  },
  {
   "cell_type": "code",
   "execution_count": 20,
   "metadata": {},
   "outputs": [
    {
     "output_type": "execute_result",
     "data": {
      "text/plain": [
       "                  37i9dQZF1DXcBWIGoYBM5M  37i9dQZF1DXbm6HfkbMtFZ  \\\n",
       "danceability                    0.691640                0.685270   \n",
       "acousticness                    0.253529                0.335726   \n",
       "energy                          0.605240                0.556104   \n",
       "tempo                         117.936080              110.955565   \n",
       "instrumentalness                0.012115                0.117939   \n",
       "\n",
       "                  37i9dQZF1DX1tW4VlEfDSS  37i9dQZF1DWY4xHQp97fN6  \\\n",
       "danceability                    0.742733                0.804810   \n",
       "acousticness                    0.050852                0.104753   \n",
       "energy                          0.788333                0.626620   \n",
       "tempo                         122.982517              126.977600   \n",
       "instrumentalness                0.296927                0.006425   \n",
       "\n",
       "                  37i9dQZF1DXcDxnC0UqHJa  37i9dQZF1DWWQRwui0ExPn  \\\n",
       "danceability                    0.523113                0.675492   \n",
       "acousticness                    0.766639                0.595740   \n",
       "energy                          0.287623                0.346713   \n",
       "tempo                         116.104913              107.113479   \n",
       "instrumentalness                0.053388                0.739269   \n",
       "\n",
       "                  37i9dQZF1DWUvHZA1zLcjW  37i9dQZF1DXbrUpGvoi3TS  \\\n",
       "danceability                    0.246024                0.536654   \n",
       "acousticness                    0.943356                0.548327   \n",
       "energy                          0.045943                0.454269   \n",
       "tempo                          95.969533              121.402346   \n",
       "instrumentalness                0.798594                0.060950   \n",
       "\n",
       "                  37i9dQZF1DX0MLFaUdXnjA  \n",
       "danceability                    0.605716  \n",
       "acousticness                    0.459792  \n",
       "energy                          0.465119  \n",
       "tempo                         117.807000  \n",
       "instrumentalness                0.005687  "
      ],
      "text/html": "<div>\n<style scoped>\n    .dataframe tbody tr th:only-of-type {\n        vertical-align: middle;\n    }\n\n    .dataframe tbody tr th {\n        vertical-align: top;\n    }\n\n    .dataframe thead th {\n        text-align: right;\n    }\n</style>\n<table border=\"1\" class=\"dataframe\">\n  <thead>\n    <tr style=\"text-align: right;\">\n      <th></th>\n      <th>37i9dQZF1DXcBWIGoYBM5M</th>\n      <th>37i9dQZF1DXbm6HfkbMtFZ</th>\n      <th>37i9dQZF1DX1tW4VlEfDSS</th>\n      <th>37i9dQZF1DWY4xHQp97fN6</th>\n      <th>37i9dQZF1DXcDxnC0UqHJa</th>\n      <th>37i9dQZF1DWWQRwui0ExPn</th>\n      <th>37i9dQZF1DWUvHZA1zLcjW</th>\n      <th>37i9dQZF1DXbrUpGvoi3TS</th>\n      <th>37i9dQZF1DX0MLFaUdXnjA</th>\n    </tr>\n  </thead>\n  <tbody>\n    <tr>\n      <th>danceability</th>\n      <td>0.691640</td>\n      <td>0.685270</td>\n      <td>0.742733</td>\n      <td>0.804810</td>\n      <td>0.523113</td>\n      <td>0.675492</td>\n      <td>0.246024</td>\n      <td>0.536654</td>\n      <td>0.605716</td>\n    </tr>\n    <tr>\n      <th>acousticness</th>\n      <td>0.253529</td>\n      <td>0.335726</td>\n      <td>0.050852</td>\n      <td>0.104753</td>\n      <td>0.766639</td>\n      <td>0.595740</td>\n      <td>0.943356</td>\n      <td>0.548327</td>\n      <td>0.459792</td>\n    </tr>\n    <tr>\n      <th>energy</th>\n      <td>0.605240</td>\n      <td>0.556104</td>\n      <td>0.788333</td>\n      <td>0.626620</td>\n      <td>0.287623</td>\n      <td>0.346713</td>\n      <td>0.045943</td>\n      <td>0.454269</td>\n      <td>0.465119</td>\n    </tr>\n    <tr>\n      <th>tempo</th>\n      <td>117.936080</td>\n      <td>110.955565</td>\n      <td>122.982517</td>\n      <td>126.977600</td>\n      <td>116.104913</td>\n      <td>107.113479</td>\n      <td>95.969533</td>\n      <td>121.402346</td>\n      <td>117.807000</td>\n    </tr>\n    <tr>\n      <th>instrumentalness</th>\n      <td>0.012115</td>\n      <td>0.117939</td>\n      <td>0.296927</td>\n      <td>0.006425</td>\n      <td>0.053388</td>\n      <td>0.739269</td>\n      <td>0.798594</td>\n      <td>0.060950</td>\n      <td>0.005687</td>\n    </tr>\n  </tbody>\n</table>\n</div>"
     },
     "metadata": {},
     "execution_count": 20
    }
   ],
   "source": [
    "# Preparing dataset for model creation\n",
    "X = reduce(lambda left,right: pd.merge(left,right, left_index=True, right_index=True), dataframes)\n",
    "X.head()"
   ]
  },
  {
   "cell_type": "code",
   "execution_count": 21,
   "metadata": {},
   "outputs": [
    {
     "output_type": "execute_result",
     "data": {
      "text/plain": [
       "                  fav_playlist\n",
       "danceability          0.772000\n",
       "acousticness          0.084300\n",
       "energy                0.481500\n",
       "tempo               132.343500\n",
       "instrumentalness      0.000003"
      ],
      "text/html": "<div>\n<style scoped>\n    .dataframe tbody tr th:only-of-type {\n        vertical-align: middle;\n    }\n\n    .dataframe tbody tr th {\n        vertical-align: top;\n    }\n\n    .dataframe thead th {\n        text-align: right;\n    }\n</style>\n<table border=\"1\" class=\"dataframe\">\n  <thead>\n    <tr style=\"text-align: right;\">\n      <th></th>\n      <th>fav_playlist</th>\n    </tr>\n  </thead>\n  <tbody>\n    <tr>\n      <th>danceability</th>\n      <td>0.772000</td>\n    </tr>\n    <tr>\n      <th>acousticness</th>\n      <td>0.084300</td>\n    </tr>\n    <tr>\n      <th>energy</th>\n      <td>0.481500</td>\n    </tr>\n    <tr>\n      <th>tempo</th>\n      <td>132.343500</td>\n    </tr>\n    <tr>\n      <th>instrumentalness</th>\n      <td>0.000003</td>\n    </tr>\n  </tbody>\n</table>\n</div>"
     },
     "metadata": {},
     "execution_count": 21
    }
   ],
   "source": [
    "Y = pd.DataFrame(df_fav.median(), columns= ['fav_playlist'])\n",
    "Y = Y.drop('mode')\n",
    "Y.head()"
   ]
  },
  {
   "cell_type": "code",
   "execution_count": 22,
   "metadata": {},
   "outputs": [],
   "source": [
    "# Turning Y into a scalar to pass through model\n",
    "Y = Y.squeeze('columns')"
   ]
  },
  {
   "cell_type": "code",
   "execution_count": 23,
   "metadata": {},
   "outputs": [
    {
     "output_type": "execute_result",
     "data": {
      "text/plain": [
       "acousticness             0.084300\n",
       "danceability             0.772000\n",
       "duration_ms         132468.500000\n",
       "energy                   0.481500\n",
       "instrumentalness         0.000003\n",
       "Name: fav_playlist, dtype: float64"
      ]
     },
     "metadata": {},
     "execution_count": 23
    }
   ],
   "source": [
    "Y = Y.sort_index( axis=0, level=None, ascending=True, inplace=False, kind='quicksort')\n",
    "Y.head()"
   ]
  },
  {
   "source": [
    "## Model Building"
   ],
   "cell_type": "markdown",
   "metadata": {}
  },
  {
   "cell_type": "code",
   "execution_count": 24,
   "metadata": {},
   "outputs": [
    {
     "output_type": "error",
     "ename": "ValueError",
     "evalue": "max_features must be in (0, n_features]",
     "traceback": [
      "\u001b[0;31m---------------------------------------------------------------------------\u001b[0m",
      "\u001b[0;31mValueError\u001b[0m                                Traceback (most recent call last)",
      "\u001b[0;32m<ipython-input-24-e309144e992a>\u001b[0m in \u001b[0;36m<module>\u001b[0;34m\u001b[0m\n\u001b[1;32m      3\u001b[0m \u001b[0;31m# Can combine step above with this\u001b[0m\u001b[0;34m\u001b[0m\u001b[0;34m\u001b[0m\u001b[0;34m\u001b[0m\u001b[0m\n\u001b[1;32m      4\u001b[0m \u001b[0mforest\u001b[0m \u001b[0;34m=\u001b[0m \u001b[0mRandomForestRegressor\u001b[0m\u001b[0;34m(\u001b[0m\u001b[0mrandom_state\u001b[0m\u001b[0;34m=\u001b[0m\u001b[0;36m42\u001b[0m\u001b[0;34m,\u001b[0m \u001b[0mmax_depth\u001b[0m\u001b[0;34m=\u001b[0m\u001b[0;36m5\u001b[0m\u001b[0;34m,\u001b[0m \u001b[0mmax_features\u001b[0m\u001b[0;34m=\u001b[0m\u001b[0;36m10\u001b[0m\u001b[0;34m)\u001b[0m\u001b[0;34m\u001b[0m\u001b[0;34m\u001b[0m\u001b[0m\n\u001b[0;32m----> 5\u001b[0;31m \u001b[0mforest\u001b[0m\u001b[0;34m.\u001b[0m\u001b[0mfit\u001b[0m\u001b[0;34m(\u001b[0m\u001b[0mX\u001b[0m\u001b[0;34m,\u001b[0m\u001b[0mY\u001b[0m\u001b[0;34m)\u001b[0m\u001b[0;34m\u001b[0m\u001b[0;34m\u001b[0m\u001b[0m\n\u001b[0m\u001b[1;32m      6\u001b[0m \u001b[0mimportances\u001b[0m \u001b[0;34m=\u001b[0m \u001b[0mforest\u001b[0m\u001b[0;34m.\u001b[0m\u001b[0mfeature_importances_\u001b[0m\u001b[0;34m\u001b[0m\u001b[0;34m\u001b[0m\u001b[0m\n\u001b[1;32m      7\u001b[0m \u001b[0mindices\u001b[0m \u001b[0;34m=\u001b[0m \u001b[0mnp\u001b[0m\u001b[0;34m.\u001b[0m\u001b[0margsort\u001b[0m\u001b[0;34m(\u001b[0m\u001b[0mimportances\u001b[0m\u001b[0;34m)\u001b[0m\u001b[0;34m[\u001b[0m\u001b[0;34m:\u001b[0m\u001b[0;34m:\u001b[0m\u001b[0;34m-\u001b[0m\u001b[0;36m1\u001b[0m\u001b[0;34m]\u001b[0m\u001b[0;34m\u001b[0m\u001b[0;34m\u001b[0m\u001b[0m\n",
      "\u001b[0;32m~/opt/anaconda3/envs/spotify_recommender/lib/python3.9/site-packages/sklearn/ensemble/_forest.py\u001b[0m in \u001b[0;36mfit\u001b[0;34m(self, X, y, sample_weight)\u001b[0m\n\u001b[1;32m    385\u001b[0m             \u001b[0;31m# parallel_backend contexts set at a higher level,\u001b[0m\u001b[0;34m\u001b[0m\u001b[0;34m\u001b[0m\u001b[0;34m\u001b[0m\u001b[0m\n\u001b[1;32m    386\u001b[0m             \u001b[0;31m# since correctness does not rely on using threads.\u001b[0m\u001b[0;34m\u001b[0m\u001b[0;34m\u001b[0m\u001b[0;34m\u001b[0m\u001b[0m\n\u001b[0;32m--> 387\u001b[0;31m             trees = Parallel(n_jobs=self.n_jobs, verbose=self.verbose,\n\u001b[0m\u001b[1;32m    388\u001b[0m                              \u001b[0;34m**\u001b[0m\u001b[0m_joblib_parallel_args\u001b[0m\u001b[0;34m(\u001b[0m\u001b[0mprefer\u001b[0m\u001b[0;34m=\u001b[0m\u001b[0;34m'threads'\u001b[0m\u001b[0;34m)\u001b[0m\u001b[0;34m)\u001b[0m\u001b[0;34m(\u001b[0m\u001b[0;34m\u001b[0m\u001b[0;34m\u001b[0m\u001b[0m\n\u001b[1;32m    389\u001b[0m                 delayed(_parallel_build_trees)(\n",
      "\u001b[0;32m~/opt/anaconda3/envs/spotify_recommender/lib/python3.9/site-packages/joblib/parallel.py\u001b[0m in \u001b[0;36m__call__\u001b[0;34m(self, iterable)\u001b[0m\n\u001b[1;32m   1039\u001b[0m             \u001b[0;31m# remaining jobs.\u001b[0m\u001b[0;34m\u001b[0m\u001b[0;34m\u001b[0m\u001b[0;34m\u001b[0m\u001b[0m\n\u001b[1;32m   1040\u001b[0m             \u001b[0mself\u001b[0m\u001b[0;34m.\u001b[0m\u001b[0m_iterating\u001b[0m \u001b[0;34m=\u001b[0m \u001b[0;32mFalse\u001b[0m\u001b[0;34m\u001b[0m\u001b[0;34m\u001b[0m\u001b[0m\n\u001b[0;32m-> 1041\u001b[0;31m             \u001b[0;32mif\u001b[0m \u001b[0mself\u001b[0m\u001b[0;34m.\u001b[0m\u001b[0mdispatch_one_batch\u001b[0m\u001b[0;34m(\u001b[0m\u001b[0miterator\u001b[0m\u001b[0;34m)\u001b[0m\u001b[0;34m:\u001b[0m\u001b[0;34m\u001b[0m\u001b[0;34m\u001b[0m\u001b[0m\n\u001b[0m\u001b[1;32m   1042\u001b[0m                 \u001b[0mself\u001b[0m\u001b[0;34m.\u001b[0m\u001b[0m_iterating\u001b[0m \u001b[0;34m=\u001b[0m \u001b[0mself\u001b[0m\u001b[0;34m.\u001b[0m\u001b[0m_original_iterator\u001b[0m \u001b[0;32mis\u001b[0m \u001b[0;32mnot\u001b[0m \u001b[0;32mNone\u001b[0m\u001b[0;34m\u001b[0m\u001b[0;34m\u001b[0m\u001b[0m\n\u001b[1;32m   1043\u001b[0m \u001b[0;34m\u001b[0m\u001b[0m\n",
      "\u001b[0;32m~/opt/anaconda3/envs/spotify_recommender/lib/python3.9/site-packages/joblib/parallel.py\u001b[0m in \u001b[0;36mdispatch_one_batch\u001b[0;34m(self, iterator)\u001b[0m\n\u001b[1;32m    857\u001b[0m                 \u001b[0;32mreturn\u001b[0m \u001b[0;32mFalse\u001b[0m\u001b[0;34m\u001b[0m\u001b[0;34m\u001b[0m\u001b[0m\n\u001b[1;32m    858\u001b[0m             \u001b[0;32melse\u001b[0m\u001b[0;34m:\u001b[0m\u001b[0;34m\u001b[0m\u001b[0;34m\u001b[0m\u001b[0m\n\u001b[0;32m--> 859\u001b[0;31m                 \u001b[0mself\u001b[0m\u001b[0;34m.\u001b[0m\u001b[0m_dispatch\u001b[0m\u001b[0;34m(\u001b[0m\u001b[0mtasks\u001b[0m\u001b[0;34m)\u001b[0m\u001b[0;34m\u001b[0m\u001b[0;34m\u001b[0m\u001b[0m\n\u001b[0m\u001b[1;32m    860\u001b[0m                 \u001b[0;32mreturn\u001b[0m \u001b[0;32mTrue\u001b[0m\u001b[0;34m\u001b[0m\u001b[0;34m\u001b[0m\u001b[0m\n\u001b[1;32m    861\u001b[0m \u001b[0;34m\u001b[0m\u001b[0m\n",
      "\u001b[0;32m~/opt/anaconda3/envs/spotify_recommender/lib/python3.9/site-packages/joblib/parallel.py\u001b[0m in \u001b[0;36m_dispatch\u001b[0;34m(self, batch)\u001b[0m\n\u001b[1;32m    775\u001b[0m         \u001b[0;32mwith\u001b[0m \u001b[0mself\u001b[0m\u001b[0;34m.\u001b[0m\u001b[0m_lock\u001b[0m\u001b[0;34m:\u001b[0m\u001b[0;34m\u001b[0m\u001b[0;34m\u001b[0m\u001b[0m\n\u001b[1;32m    776\u001b[0m             \u001b[0mjob_idx\u001b[0m \u001b[0;34m=\u001b[0m \u001b[0mlen\u001b[0m\u001b[0;34m(\u001b[0m\u001b[0mself\u001b[0m\u001b[0;34m.\u001b[0m\u001b[0m_jobs\u001b[0m\u001b[0;34m)\u001b[0m\u001b[0;34m\u001b[0m\u001b[0;34m\u001b[0m\u001b[0m\n\u001b[0;32m--> 777\u001b[0;31m             \u001b[0mjob\u001b[0m \u001b[0;34m=\u001b[0m \u001b[0mself\u001b[0m\u001b[0;34m.\u001b[0m\u001b[0m_backend\u001b[0m\u001b[0;34m.\u001b[0m\u001b[0mapply_async\u001b[0m\u001b[0;34m(\u001b[0m\u001b[0mbatch\u001b[0m\u001b[0;34m,\u001b[0m \u001b[0mcallback\u001b[0m\u001b[0;34m=\u001b[0m\u001b[0mcb\u001b[0m\u001b[0;34m)\u001b[0m\u001b[0;34m\u001b[0m\u001b[0;34m\u001b[0m\u001b[0m\n\u001b[0m\u001b[1;32m    778\u001b[0m             \u001b[0;31m# A job can complete so quickly than its callback is\u001b[0m\u001b[0;34m\u001b[0m\u001b[0;34m\u001b[0m\u001b[0;34m\u001b[0m\u001b[0m\n\u001b[1;32m    779\u001b[0m             \u001b[0;31m# called before we get here, causing self._jobs to\u001b[0m\u001b[0;34m\u001b[0m\u001b[0;34m\u001b[0m\u001b[0;34m\u001b[0m\u001b[0m\n",
      "\u001b[0;32m~/opt/anaconda3/envs/spotify_recommender/lib/python3.9/site-packages/joblib/_parallel_backends.py\u001b[0m in \u001b[0;36mapply_async\u001b[0;34m(self, func, callback)\u001b[0m\n\u001b[1;32m    206\u001b[0m     \u001b[0;32mdef\u001b[0m \u001b[0mapply_async\u001b[0m\u001b[0;34m(\u001b[0m\u001b[0mself\u001b[0m\u001b[0;34m,\u001b[0m \u001b[0mfunc\u001b[0m\u001b[0;34m,\u001b[0m \u001b[0mcallback\u001b[0m\u001b[0;34m=\u001b[0m\u001b[0;32mNone\u001b[0m\u001b[0;34m)\u001b[0m\u001b[0;34m:\u001b[0m\u001b[0;34m\u001b[0m\u001b[0;34m\u001b[0m\u001b[0m\n\u001b[1;32m    207\u001b[0m         \u001b[0;34m\"\"\"Schedule a func to be run\"\"\"\u001b[0m\u001b[0;34m\u001b[0m\u001b[0;34m\u001b[0m\u001b[0m\n\u001b[0;32m--> 208\u001b[0;31m         \u001b[0mresult\u001b[0m \u001b[0;34m=\u001b[0m \u001b[0mImmediateResult\u001b[0m\u001b[0;34m(\u001b[0m\u001b[0mfunc\u001b[0m\u001b[0;34m)\u001b[0m\u001b[0;34m\u001b[0m\u001b[0;34m\u001b[0m\u001b[0m\n\u001b[0m\u001b[1;32m    209\u001b[0m         \u001b[0;32mif\u001b[0m \u001b[0mcallback\u001b[0m\u001b[0;34m:\u001b[0m\u001b[0;34m\u001b[0m\u001b[0;34m\u001b[0m\u001b[0m\n\u001b[1;32m    210\u001b[0m             \u001b[0mcallback\u001b[0m\u001b[0;34m(\u001b[0m\u001b[0mresult\u001b[0m\u001b[0;34m)\u001b[0m\u001b[0;34m\u001b[0m\u001b[0;34m\u001b[0m\u001b[0m\n",
      "\u001b[0;32m~/opt/anaconda3/envs/spotify_recommender/lib/python3.9/site-packages/joblib/_parallel_backends.py\u001b[0m in \u001b[0;36m__init__\u001b[0;34m(self, batch)\u001b[0m\n\u001b[1;32m    570\u001b[0m         \u001b[0;31m# Don't delay the application, to avoid keeping the input\u001b[0m\u001b[0;34m\u001b[0m\u001b[0;34m\u001b[0m\u001b[0;34m\u001b[0m\u001b[0m\n\u001b[1;32m    571\u001b[0m         \u001b[0;31m# arguments in memory\u001b[0m\u001b[0;34m\u001b[0m\u001b[0;34m\u001b[0m\u001b[0;34m\u001b[0m\u001b[0m\n\u001b[0;32m--> 572\u001b[0;31m         \u001b[0mself\u001b[0m\u001b[0;34m.\u001b[0m\u001b[0mresults\u001b[0m \u001b[0;34m=\u001b[0m \u001b[0mbatch\u001b[0m\u001b[0;34m(\u001b[0m\u001b[0;34m)\u001b[0m\u001b[0;34m\u001b[0m\u001b[0;34m\u001b[0m\u001b[0m\n\u001b[0m\u001b[1;32m    573\u001b[0m \u001b[0;34m\u001b[0m\u001b[0m\n\u001b[1;32m    574\u001b[0m     \u001b[0;32mdef\u001b[0m \u001b[0mget\u001b[0m\u001b[0;34m(\u001b[0m\u001b[0mself\u001b[0m\u001b[0;34m)\u001b[0m\u001b[0;34m:\u001b[0m\u001b[0;34m\u001b[0m\u001b[0;34m\u001b[0m\u001b[0m\n",
      "\u001b[0;32m~/opt/anaconda3/envs/spotify_recommender/lib/python3.9/site-packages/joblib/parallel.py\u001b[0m in \u001b[0;36m__call__\u001b[0;34m(self)\u001b[0m\n\u001b[1;32m    260\u001b[0m         \u001b[0;31m# change the default number of processes to -1\u001b[0m\u001b[0;34m\u001b[0m\u001b[0;34m\u001b[0m\u001b[0;34m\u001b[0m\u001b[0m\n\u001b[1;32m    261\u001b[0m         \u001b[0;32mwith\u001b[0m \u001b[0mparallel_backend\u001b[0m\u001b[0;34m(\u001b[0m\u001b[0mself\u001b[0m\u001b[0;34m.\u001b[0m\u001b[0m_backend\u001b[0m\u001b[0;34m,\u001b[0m \u001b[0mn_jobs\u001b[0m\u001b[0;34m=\u001b[0m\u001b[0mself\u001b[0m\u001b[0;34m.\u001b[0m\u001b[0m_n_jobs\u001b[0m\u001b[0;34m)\u001b[0m\u001b[0;34m:\u001b[0m\u001b[0;34m\u001b[0m\u001b[0;34m\u001b[0m\u001b[0m\n\u001b[0;32m--> 262\u001b[0;31m             return [func(*args, **kwargs)\n\u001b[0m\u001b[1;32m    263\u001b[0m                     for func, args, kwargs in self.items]\n\u001b[1;32m    264\u001b[0m \u001b[0;34m\u001b[0m\u001b[0m\n",
      "\u001b[0;32m~/opt/anaconda3/envs/spotify_recommender/lib/python3.9/site-packages/joblib/parallel.py\u001b[0m in \u001b[0;36m<listcomp>\u001b[0;34m(.0)\u001b[0m\n\u001b[1;32m    260\u001b[0m         \u001b[0;31m# change the default number of processes to -1\u001b[0m\u001b[0;34m\u001b[0m\u001b[0;34m\u001b[0m\u001b[0;34m\u001b[0m\u001b[0m\n\u001b[1;32m    261\u001b[0m         \u001b[0;32mwith\u001b[0m \u001b[0mparallel_backend\u001b[0m\u001b[0;34m(\u001b[0m\u001b[0mself\u001b[0m\u001b[0;34m.\u001b[0m\u001b[0m_backend\u001b[0m\u001b[0;34m,\u001b[0m \u001b[0mn_jobs\u001b[0m\u001b[0;34m=\u001b[0m\u001b[0mself\u001b[0m\u001b[0;34m.\u001b[0m\u001b[0m_n_jobs\u001b[0m\u001b[0;34m)\u001b[0m\u001b[0;34m:\u001b[0m\u001b[0;34m\u001b[0m\u001b[0;34m\u001b[0m\u001b[0m\n\u001b[0;32m--> 262\u001b[0;31m             return [func(*args, **kwargs)\n\u001b[0m\u001b[1;32m    263\u001b[0m                     for func, args, kwargs in self.items]\n\u001b[1;32m    264\u001b[0m \u001b[0;34m\u001b[0m\u001b[0m\n",
      "\u001b[0;32m~/opt/anaconda3/envs/spotify_recommender/lib/python3.9/site-packages/sklearn/utils/fixes.py\u001b[0m in \u001b[0;36m__call__\u001b[0;34m(self, *args, **kwargs)\u001b[0m\n\u001b[1;32m    220\u001b[0m     \u001b[0;32mdef\u001b[0m \u001b[0m__call__\u001b[0m\u001b[0;34m(\u001b[0m\u001b[0mself\u001b[0m\u001b[0;34m,\u001b[0m \u001b[0;34m*\u001b[0m\u001b[0margs\u001b[0m\u001b[0;34m,\u001b[0m \u001b[0;34m**\u001b[0m\u001b[0mkwargs\u001b[0m\u001b[0;34m)\u001b[0m\u001b[0;34m:\u001b[0m\u001b[0;34m\u001b[0m\u001b[0;34m\u001b[0m\u001b[0m\n\u001b[1;32m    221\u001b[0m         \u001b[0;32mwith\u001b[0m \u001b[0mconfig_context\u001b[0m\u001b[0;34m(\u001b[0m\u001b[0;34m**\u001b[0m\u001b[0mself\u001b[0m\u001b[0;34m.\u001b[0m\u001b[0mconfig\u001b[0m\u001b[0;34m)\u001b[0m\u001b[0;34m:\u001b[0m\u001b[0;34m\u001b[0m\u001b[0;34m\u001b[0m\u001b[0m\n\u001b[0;32m--> 222\u001b[0;31m             \u001b[0;32mreturn\u001b[0m \u001b[0mself\u001b[0m\u001b[0;34m.\u001b[0m\u001b[0mfunction\u001b[0m\u001b[0;34m(\u001b[0m\u001b[0;34m*\u001b[0m\u001b[0margs\u001b[0m\u001b[0;34m,\u001b[0m \u001b[0;34m**\u001b[0m\u001b[0mkwargs\u001b[0m\u001b[0;34m)\u001b[0m\u001b[0;34m\u001b[0m\u001b[0;34m\u001b[0m\u001b[0m\n\u001b[0m",
      "\u001b[0;32m~/opt/anaconda3/envs/spotify_recommender/lib/python3.9/site-packages/sklearn/ensemble/_forest.py\u001b[0m in \u001b[0;36m_parallel_build_trees\u001b[0;34m(tree, forest, X, y, sample_weight, tree_idx, n_trees, verbose, class_weight, n_samples_bootstrap)\u001b[0m\n\u001b[1;32m    167\u001b[0m                                                         indices=indices)\n\u001b[1;32m    168\u001b[0m \u001b[0;34m\u001b[0m\u001b[0m\n\u001b[0;32m--> 169\u001b[0;31m         \u001b[0mtree\u001b[0m\u001b[0;34m.\u001b[0m\u001b[0mfit\u001b[0m\u001b[0;34m(\u001b[0m\u001b[0mX\u001b[0m\u001b[0;34m,\u001b[0m \u001b[0my\u001b[0m\u001b[0;34m,\u001b[0m \u001b[0msample_weight\u001b[0m\u001b[0;34m=\u001b[0m\u001b[0mcurr_sample_weight\u001b[0m\u001b[0;34m,\u001b[0m \u001b[0mcheck_input\u001b[0m\u001b[0;34m=\u001b[0m\u001b[0;32mFalse\u001b[0m\u001b[0;34m)\u001b[0m\u001b[0;34m\u001b[0m\u001b[0;34m\u001b[0m\u001b[0m\n\u001b[0m\u001b[1;32m    170\u001b[0m     \u001b[0;32melse\u001b[0m\u001b[0;34m:\u001b[0m\u001b[0;34m\u001b[0m\u001b[0;34m\u001b[0m\u001b[0m\n\u001b[1;32m    171\u001b[0m         \u001b[0mtree\u001b[0m\u001b[0;34m.\u001b[0m\u001b[0mfit\u001b[0m\u001b[0;34m(\u001b[0m\u001b[0mX\u001b[0m\u001b[0;34m,\u001b[0m \u001b[0my\u001b[0m\u001b[0;34m,\u001b[0m \u001b[0msample_weight\u001b[0m\u001b[0;34m=\u001b[0m\u001b[0msample_weight\u001b[0m\u001b[0;34m,\u001b[0m \u001b[0mcheck_input\u001b[0m\u001b[0;34m=\u001b[0m\u001b[0;32mFalse\u001b[0m\u001b[0;34m)\u001b[0m\u001b[0;34m\u001b[0m\u001b[0;34m\u001b[0m\u001b[0m\n",
      "\u001b[0;32m~/opt/anaconda3/envs/spotify_recommender/lib/python3.9/site-packages/sklearn/tree/_classes.py\u001b[0m in \u001b[0;36mfit\u001b[0;34m(self, X, y, sample_weight, check_input, X_idx_sorted)\u001b[0m\n\u001b[1;32m   1245\u001b[0m         \"\"\"\n\u001b[1;32m   1246\u001b[0m \u001b[0;34m\u001b[0m\u001b[0m\n\u001b[0;32m-> 1247\u001b[0;31m         super().fit(\n\u001b[0m\u001b[1;32m   1248\u001b[0m             \u001b[0mX\u001b[0m\u001b[0;34m,\u001b[0m \u001b[0my\u001b[0m\u001b[0;34m,\u001b[0m\u001b[0;34m\u001b[0m\u001b[0;34m\u001b[0m\u001b[0m\n\u001b[1;32m   1249\u001b[0m             \u001b[0msample_weight\u001b[0m\u001b[0;34m=\u001b[0m\u001b[0msample_weight\u001b[0m\u001b[0;34m,\u001b[0m\u001b[0;34m\u001b[0m\u001b[0;34m\u001b[0m\u001b[0m\n",
      "\u001b[0;32m~/opt/anaconda3/envs/spotify_recommender/lib/python3.9/site-packages/sklearn/tree/_classes.py\u001b[0m in \u001b[0;36mfit\u001b[0;34m(self, X, y, sample_weight, check_input, X_idx_sorted)\u001b[0m\n\u001b[1;32m    286\u001b[0m             \u001b[0;32mraise\u001b[0m \u001b[0mValueError\u001b[0m\u001b[0;34m(\u001b[0m\u001b[0;34m\"max_depth must be greater than zero. \"\u001b[0m\u001b[0;34m)\u001b[0m\u001b[0;34m\u001b[0m\u001b[0;34m\u001b[0m\u001b[0m\n\u001b[1;32m    287\u001b[0m         \u001b[0;32mif\u001b[0m \u001b[0;32mnot\u001b[0m \u001b[0;34m(\u001b[0m\u001b[0;36m0\u001b[0m \u001b[0;34m<\u001b[0m \u001b[0mmax_features\u001b[0m \u001b[0;34m<=\u001b[0m \u001b[0mself\u001b[0m\u001b[0;34m.\u001b[0m\u001b[0mn_features_\u001b[0m\u001b[0;34m)\u001b[0m\u001b[0;34m:\u001b[0m\u001b[0;34m\u001b[0m\u001b[0;34m\u001b[0m\u001b[0m\n\u001b[0;32m--> 288\u001b[0;31m             \u001b[0;32mraise\u001b[0m \u001b[0mValueError\u001b[0m\u001b[0;34m(\u001b[0m\u001b[0;34m\"max_features must be in (0, n_features]\"\u001b[0m\u001b[0;34m)\u001b[0m\u001b[0;34m\u001b[0m\u001b[0;34m\u001b[0m\u001b[0m\n\u001b[0m\u001b[1;32m    289\u001b[0m         \u001b[0;32mif\u001b[0m \u001b[0;32mnot\u001b[0m \u001b[0misinstance\u001b[0m\u001b[0;34m(\u001b[0m\u001b[0mmax_leaf_nodes\u001b[0m\u001b[0;34m,\u001b[0m \u001b[0mnumbers\u001b[0m\u001b[0;34m.\u001b[0m\u001b[0mIntegral\u001b[0m\u001b[0;34m)\u001b[0m\u001b[0;34m:\u001b[0m\u001b[0;34m\u001b[0m\u001b[0;34m\u001b[0m\u001b[0m\n\u001b[1;32m    290\u001b[0m             raise ValueError(\"max_leaf_nodes must be integral number but was \"\n",
      "\u001b[0;31mValueError\u001b[0m: max_features must be in (0, n_features]"
     ]
    }
   ],
   "source": [
    "# Analyze playlists as features\n",
    "from sklearn.ensemble import RandomForestRegressor\n",
    "# Can combine step above with this\n",
    "forest = RandomForestRegressor(random_state=42, max_depth=5, max_features=10) \n",
    "forest.fit(X,Y)\n",
    "importances = forest.feature_importances_\n",
    "indices = np.argsort(importances)[::-1]\n",
    "# Print the feature rankings\n",
    "print(\"Playlist ranking:\")\n",
    "  \n",
    "for f in range(len(importances)):\n",
    "    print(\"%d. %s %f \" % (f + 1, \n",
    "            X.columns[f], \n",
    "            importances[indices[f]]))"
   ]
  },
  {
   "cell_type": "code",
   "execution_count": 22,
   "metadata": {},
   "outputs": [
    {
     "output_type": "execute_result",
     "data": {
      "text/plain": [
       "                        danceability  acousticness  energy    tempo  \\\n",
       "track_id                                                              \n",
       "2sijD9pZmS9D9s8hmQkQk5         0.619       0.80100   0.417  136.460   \n",
       "1ZFsgzYeQuF8IbQgmju5ap         0.643       0.23400   0.752   96.001   \n",
       "2T9EwC9mQUjaNlVtKCFDwX         0.614       0.28500   0.577  145.147   \n",
       "4k4mhm30I8pOn2k7O19pms         0.674       0.00754   0.796   80.033   \n",
       "2D2ZV5FGcEpAfc2rEMxhV2         0.798       0.17100   0.610   95.343   \n",
       "\n",
       "                        instrumentalness  loudness  liveness  duration_ms  \\\n",
       "track_id                                                                    \n",
       "2sijD9pZmS9D9s8hmQkQk5          0.383000   -10.433     0.176       201187   \n",
       "1ZFsgzYeQuF8IbQgmju5ap          0.192000    -6.536     0.821       240053   \n",
       "2T9EwC9mQUjaNlVtKCFDwX          0.001620    -9.165     0.953       204000   \n",
       "4k4mhm30I8pOn2k7O19pms          0.000233    -6.236     0.156       135802   \n",
       "2D2ZV5FGcEpAfc2rEMxhV2          0.068800    -4.983     0.105       171425   \n",
       "\n",
       "                        key  valence  speechiness  \n",
       "track_id                                           \n",
       "2sijD9pZmS9D9s8hmQkQk5    5    0.196       0.0437  \n",
       "1ZFsgzYeQuF8IbQgmju5ap    2    0.582       0.0390  \n",
       "2T9EwC9mQUjaNlVtKCFDwX    5    0.253       0.0601  \n",
       "4k4mhm30I8pOn2k7O19pms    7    0.727       0.0545  \n",
       "2D2ZV5FGcEpAfc2rEMxhV2    4    0.520       0.0301  "
      ],
      "text/html": "<div>\n<style scoped>\n    .dataframe tbody tr th:only-of-type {\n        vertical-align: middle;\n    }\n\n    .dataframe tbody tr th {\n        vertical-align: top;\n    }\n\n    .dataframe thead th {\n        text-align: right;\n    }\n</style>\n<table border=\"1\" class=\"dataframe\">\n  <thead>\n    <tr style=\"text-align: right;\">\n      <th></th>\n      <th>danceability</th>\n      <th>acousticness</th>\n      <th>energy</th>\n      <th>tempo</th>\n      <th>instrumentalness</th>\n      <th>loudness</th>\n      <th>liveness</th>\n      <th>duration_ms</th>\n      <th>key</th>\n      <th>valence</th>\n      <th>speechiness</th>\n    </tr>\n    <tr>\n      <th>track_id</th>\n      <th></th>\n      <th></th>\n      <th></th>\n      <th></th>\n      <th></th>\n      <th></th>\n      <th></th>\n      <th></th>\n      <th></th>\n      <th></th>\n      <th></th>\n    </tr>\n  </thead>\n  <tbody>\n    <tr>\n      <th>2sijD9pZmS9D9s8hmQkQk5</th>\n      <td>0.619</td>\n      <td>0.80100</td>\n      <td>0.417</td>\n      <td>136.460</td>\n      <td>0.383000</td>\n      <td>-10.433</td>\n      <td>0.176</td>\n      <td>201187</td>\n      <td>5</td>\n      <td>0.196</td>\n      <td>0.0437</td>\n    </tr>\n    <tr>\n      <th>1ZFsgzYeQuF8IbQgmju5ap</th>\n      <td>0.643</td>\n      <td>0.23400</td>\n      <td>0.752</td>\n      <td>96.001</td>\n      <td>0.192000</td>\n      <td>-6.536</td>\n      <td>0.821</td>\n      <td>240053</td>\n      <td>2</td>\n      <td>0.582</td>\n      <td>0.0390</td>\n    </tr>\n    <tr>\n      <th>2T9EwC9mQUjaNlVtKCFDwX</th>\n      <td>0.614</td>\n      <td>0.28500</td>\n      <td>0.577</td>\n      <td>145.147</td>\n      <td>0.001620</td>\n      <td>-9.165</td>\n      <td>0.953</td>\n      <td>204000</td>\n      <td>5</td>\n      <td>0.253</td>\n      <td>0.0601</td>\n    </tr>\n    <tr>\n      <th>4k4mhm30I8pOn2k7O19pms</th>\n      <td>0.674</td>\n      <td>0.00754</td>\n      <td>0.796</td>\n      <td>80.033</td>\n      <td>0.000233</td>\n      <td>-6.236</td>\n      <td>0.156</td>\n      <td>135802</td>\n      <td>7</td>\n      <td>0.727</td>\n      <td>0.0545</td>\n    </tr>\n    <tr>\n      <th>2D2ZV5FGcEpAfc2rEMxhV2</th>\n      <td>0.798</td>\n      <td>0.17100</td>\n      <td>0.610</td>\n      <td>95.343</td>\n      <td>0.068800</td>\n      <td>-4.983</td>\n      <td>0.105</td>\n      <td>171425</td>\n      <td>4</td>\n      <td>0.520</td>\n      <td>0.0301</td>\n    </tr>\n  </tbody>\n</table>\n</div>"
     },
     "metadata": {},
     "execution_count": 22
    }
   ],
   "source": [
    "frames = [df_37i9dQZF1DX4pUKG1kS0Ac, df_37i9dQZF1DXbYM3nMM0oPk, df_37i9dQZF1DWWBHeXOYZf74]\n",
    "df = pd.concat(frames)\n",
    "df = df.set_index(['track_id'])\n",
    "df.tail()"
   ]
  },
  {
   "cell_type": "code",
   "execution_count": 23,
   "metadata": {},
   "outputs": [
    {
     "output_type": "execute_result",
     "data": {
      "text/plain": [
       "                        acousticness  danceability  duration_ms  energy  \\\n",
       "track_id                                                                  \n",
       "2aIdVb8v9KTpEZnftkz2mD      -0.07350        -0.321      95491.5  0.0685   \n",
       "3yNVfRQlUPViUh8O2V9SQn       0.03570         0.090     105798.5  0.1815   \n",
       "6o2g1BJvtYQssH84kBYs7y      -0.06880         0.102     133131.5  0.2325   \n",
       "0Uyh92tLyb9JawG8lmWCzJ       0.23370        -0.210     133064.5  0.1125   \n",
       "3jDdpx9PMlfMBS5tOBHFm9      -0.07799        -0.057      80624.5  0.3515   \n",
       "...                              ...           ...          ...     ...   \n",
       "2sijD9pZmS9D9s8hmQkQk5       0.71670        -0.153      68718.5 -0.0645   \n",
       "1ZFsgzYeQuF8IbQgmju5ap       0.14970        -0.129     107584.5  0.2705   \n",
       "2T9EwC9mQUjaNlVtKCFDwX       0.20070        -0.158      71531.5  0.0955   \n",
       "4k4mhm30I8pOn2k7O19pms      -0.07676        -0.098       3333.5  0.3145   \n",
       "2D2ZV5FGcEpAfc2rEMxhV2       0.08670         0.026      38956.5  0.1285   \n",
       "\n",
       "                        instrumentalness  key  liveness  loudness  \\\n",
       "track_id                                                            \n",
       "2aIdVb8v9KTpEZnftkz2mD         -0.000003 -3.0   -0.0503     1.539   \n",
       "3yNVfRQlUPViUh8O2V9SQn         -0.000003 -4.0    0.1940     0.672   \n",
       "6o2g1BJvtYQssH84kBYs7y         -0.000003  3.0   -0.0272     3.012   \n",
       "0Uyh92tLyb9JawG8lmWCzJ         -0.000003 -1.0    0.1870     5.098   \n",
       "3jDdpx9PMlfMBS5tOBHFm9         -0.000003 -2.0    0.0400     4.297   \n",
       "...                                  ...  ...       ...       ...   \n",
       "2sijD9pZmS9D9s8hmQkQk5          0.382997  1.0    0.0520    -0.757   \n",
       "1ZFsgzYeQuF8IbQgmju5ap          0.191997 -2.0    0.6970     3.140   \n",
       "2T9EwC9mQUjaNlVtKCFDwX          0.001617  1.0    0.8290     0.511   \n",
       "4k4mhm30I8pOn2k7O19pms          0.000230  3.0    0.0320     3.440   \n",
       "2D2ZV5FGcEpAfc2rEMxhV2          0.068797  0.0   -0.0190     4.693   \n",
       "\n",
       "                        speechiness    tempo  valence  \n",
       "track_id                                               \n",
       "2aIdVb8v9KTpEZnftkz2mD       0.0430 -52.3425    0.198  \n",
       "3yNVfRQlUPViUh8O2V9SQn      -0.0090 -47.0355    0.441  \n",
       "6o2g1BJvtYQssH84kBYs7y      -0.0900 -36.5175    0.145  \n",
       "0Uyh92tLyb9JawG8lmWCzJ      -0.1632 -69.4675    0.027  \n",
       "3jDdpx9PMlfMBS5tOBHFm9      -0.1110 -36.8565    0.216  \n",
       "...                             ...      ...      ...  \n",
       "2sijD9pZmS9D9s8hmQkQk5      -0.1753   4.1165   -0.200  \n",
       "1ZFsgzYeQuF8IbQgmju5ap      -0.1800 -36.3425    0.186  \n",
       "2T9EwC9mQUjaNlVtKCFDwX      -0.1589  12.8035   -0.143  \n",
       "4k4mhm30I8pOn2k7O19pms      -0.1645 -52.3105    0.331  \n",
       "2D2ZV5FGcEpAfc2rEMxhV2      -0.1889 -37.0005    0.124  \n",
       "\n",
       "[360 rows x 11 columns]"
      ],
      "text/html": "<div>\n<style scoped>\n    .dataframe tbody tr th:only-of-type {\n        vertical-align: middle;\n    }\n\n    .dataframe tbody tr th {\n        vertical-align: top;\n    }\n\n    .dataframe thead th {\n        text-align: right;\n    }\n</style>\n<table border=\"1\" class=\"dataframe\">\n  <thead>\n    <tr style=\"text-align: right;\">\n      <th></th>\n      <th>acousticness</th>\n      <th>danceability</th>\n      <th>duration_ms</th>\n      <th>energy</th>\n      <th>instrumentalness</th>\n      <th>key</th>\n      <th>liveness</th>\n      <th>loudness</th>\n      <th>speechiness</th>\n      <th>tempo</th>\n      <th>valence</th>\n    </tr>\n    <tr>\n      <th>track_id</th>\n      <th></th>\n      <th></th>\n      <th></th>\n      <th></th>\n      <th></th>\n      <th></th>\n      <th></th>\n      <th></th>\n      <th></th>\n      <th></th>\n      <th></th>\n    </tr>\n  </thead>\n  <tbody>\n    <tr>\n      <th>2aIdVb8v9KTpEZnftkz2mD</th>\n      <td>-0.07350</td>\n      <td>-0.321</td>\n      <td>95491.5</td>\n      <td>0.0685</td>\n      <td>-0.000003</td>\n      <td>-3.0</td>\n      <td>-0.0503</td>\n      <td>1.539</td>\n      <td>0.0430</td>\n      <td>-52.3425</td>\n      <td>0.198</td>\n    </tr>\n    <tr>\n      <th>3yNVfRQlUPViUh8O2V9SQn</th>\n      <td>0.03570</td>\n      <td>0.090</td>\n      <td>105798.5</td>\n      <td>0.1815</td>\n      <td>-0.000003</td>\n      <td>-4.0</td>\n      <td>0.1940</td>\n      <td>0.672</td>\n      <td>-0.0090</td>\n      <td>-47.0355</td>\n      <td>0.441</td>\n    </tr>\n    <tr>\n      <th>6o2g1BJvtYQssH84kBYs7y</th>\n      <td>-0.06880</td>\n      <td>0.102</td>\n      <td>133131.5</td>\n      <td>0.2325</td>\n      <td>-0.000003</td>\n      <td>3.0</td>\n      <td>-0.0272</td>\n      <td>3.012</td>\n      <td>-0.0900</td>\n      <td>-36.5175</td>\n      <td>0.145</td>\n    </tr>\n    <tr>\n      <th>0Uyh92tLyb9JawG8lmWCzJ</th>\n      <td>0.23370</td>\n      <td>-0.210</td>\n      <td>133064.5</td>\n      <td>0.1125</td>\n      <td>-0.000003</td>\n      <td>-1.0</td>\n      <td>0.1870</td>\n      <td>5.098</td>\n      <td>-0.1632</td>\n      <td>-69.4675</td>\n      <td>0.027</td>\n    </tr>\n    <tr>\n      <th>3jDdpx9PMlfMBS5tOBHFm9</th>\n      <td>-0.07799</td>\n      <td>-0.057</td>\n      <td>80624.5</td>\n      <td>0.3515</td>\n      <td>-0.000003</td>\n      <td>-2.0</td>\n      <td>0.0400</td>\n      <td>4.297</td>\n      <td>-0.1110</td>\n      <td>-36.8565</td>\n      <td>0.216</td>\n    </tr>\n    <tr>\n      <th>...</th>\n      <td>...</td>\n      <td>...</td>\n      <td>...</td>\n      <td>...</td>\n      <td>...</td>\n      <td>...</td>\n      <td>...</td>\n      <td>...</td>\n      <td>...</td>\n      <td>...</td>\n      <td>...</td>\n    </tr>\n    <tr>\n      <th>2sijD9pZmS9D9s8hmQkQk5</th>\n      <td>0.71670</td>\n      <td>-0.153</td>\n      <td>68718.5</td>\n      <td>-0.0645</td>\n      <td>0.382997</td>\n      <td>1.0</td>\n      <td>0.0520</td>\n      <td>-0.757</td>\n      <td>-0.1753</td>\n      <td>4.1165</td>\n      <td>-0.200</td>\n    </tr>\n    <tr>\n      <th>1ZFsgzYeQuF8IbQgmju5ap</th>\n      <td>0.14970</td>\n      <td>-0.129</td>\n      <td>107584.5</td>\n      <td>0.2705</td>\n      <td>0.191997</td>\n      <td>-2.0</td>\n      <td>0.6970</td>\n      <td>3.140</td>\n      <td>-0.1800</td>\n      <td>-36.3425</td>\n      <td>0.186</td>\n    </tr>\n    <tr>\n      <th>2T9EwC9mQUjaNlVtKCFDwX</th>\n      <td>0.20070</td>\n      <td>-0.158</td>\n      <td>71531.5</td>\n      <td>0.0955</td>\n      <td>0.001617</td>\n      <td>1.0</td>\n      <td>0.8290</td>\n      <td>0.511</td>\n      <td>-0.1589</td>\n      <td>12.8035</td>\n      <td>-0.143</td>\n    </tr>\n    <tr>\n      <th>4k4mhm30I8pOn2k7O19pms</th>\n      <td>-0.07676</td>\n      <td>-0.098</td>\n      <td>3333.5</td>\n      <td>0.3145</td>\n      <td>0.000230</td>\n      <td>3.0</td>\n      <td>0.0320</td>\n      <td>3.440</td>\n      <td>-0.1645</td>\n      <td>-52.3105</td>\n      <td>0.331</td>\n    </tr>\n    <tr>\n      <th>2D2ZV5FGcEpAfc2rEMxhV2</th>\n      <td>0.08670</td>\n      <td>0.026</td>\n      <td>38956.5</td>\n      <td>0.1285</td>\n      <td>0.068797</td>\n      <td>0.0</td>\n      <td>-0.0190</td>\n      <td>4.693</td>\n      <td>-0.1889</td>\n      <td>-37.0005</td>\n      <td>0.124</td>\n    </tr>\n  </tbody>\n</table>\n<p>360 rows × 11 columns</p>\n</div>"
     },
     "metadata": {},
     "execution_count": 23
    }
   ],
   "source": [
    "# Subtract mean of the favourite plalyist from the top 3 playlist \n",
    "df1 = df.subtract(Y, axis='columns') \n",
    "df1"
   ]
  },
  {
   "cell_type": "code",
   "execution_count": 24,
   "metadata": {},
   "outputs": [
    {
     "output_type": "execute_result",
     "data": {
      "text/plain": [
       "                        acousticness  danceability  duration_ms    energy  \\\n",
       "track_id                                                                    \n",
       "2aIdVb8v9KTpEZnftkz2mD     -0.871886     -0.415803     0.720862  0.142264   \n",
       "3yNVfRQlUPViUh8O2V9SQn      0.423488      0.116580     0.798669  0.376947   \n",
       "6o2g1BJvtYQssH84kBYs7y     -0.816133      0.132124     1.005005  0.482866   \n",
       "0Uyh92tLyb9JawG8lmWCzJ      2.772242     -0.272021     1.004499  0.233645   \n",
       "3jDdpx9PMlfMBS5tOBHFm9     -0.925148     -0.073834     0.608631  0.730010   \n",
       "...                              ...           ...          ...       ...   \n",
       "2sijD9pZmS9D9s8hmQkQk5      8.501779     -0.198187     0.518754 -0.133956   \n",
       "1ZFsgzYeQuF8IbQgmju5ap      1.775801     -0.167098     0.812152  0.561786   \n",
       "2T9EwC9mQUjaNlVtKCFDwX      2.380783     -0.204663     0.539989  0.198339   \n",
       "4k4mhm30I8pOn2k7O19pms     -0.910558     -0.126943     0.025164  0.653167   \n",
       "2D2ZV5FGcEpAfc2rEMxhV2      1.028470      0.033679     0.294081  0.266874   \n",
       "\n",
       "                        instrumentalness   key  liveness  loudness  \\\n",
       "track_id                                                             \n",
       "2aIdVb8v9KTpEZnftkz2mD         -1.000000 -0.75 -0.405645 -0.159053   \n",
       "3yNVfRQlUPViUh8O2V9SQn         -1.000000 -1.00  1.564516 -0.069450   \n",
       "6o2g1BJvtYQssH84kBYs7y         -1.000000  0.75 -0.219355 -0.311286   \n",
       "0Uyh92tLyb9JawG8lmWCzJ         -1.000000 -0.25  1.508065 -0.526871   \n",
       "3jDdpx9PMlfMBS5tOBHFm9         -1.000000 -0.50  0.322581 -0.444088   \n",
       "...                                  ...   ...       ...       ...   \n",
       "2sijD9pZmS9D9s8hmQkQk5     137274.985663  0.25  0.419355  0.078235   \n",
       "1ZFsgzYeQuF8IbQgmju5ap      68816.204301 -0.50  5.620968 -0.324514   \n",
       "2T9EwC9mQUjaNlVtKCFDwX        579.645161  0.25  6.685484 -0.052811   \n",
       "4k4mhm30I8pOn2k7O19pms         82.512545  0.75  0.258065 -0.355519   \n",
       "2D2ZV5FGcEpAfc2rEMxhV2      24658.498208  0.00 -0.153226 -0.485014   \n",
       "\n",
       "                        speechiness     tempo   valence  \n",
       "track_id                                                 \n",
       "2aIdVb8v9KTpEZnftkz2mD     0.196347 -0.395505  0.500000  \n",
       "3yNVfRQlUPViUh8O2V9SQn    -0.041096 -0.355405  1.113636  \n",
       "6o2g1BJvtYQssH84kBYs7y    -0.410959 -0.275930  0.366162  \n",
       "0Uyh92tLyb9JawG8lmWCzJ    -0.745205 -0.524903  0.068182  \n",
       "3jDdpx9PMlfMBS5tOBHFm9    -0.506849 -0.278491  0.545455  \n",
       "...                             ...       ...       ...  \n",
       "2sijD9pZmS9D9s8hmQkQk5    -0.800457  0.031105 -0.505051  \n",
       "1ZFsgzYeQuF8IbQgmju5ap    -0.821918 -0.274607  0.469697  \n",
       "2T9EwC9mQUjaNlVtKCFDwX    -0.725571  0.096744 -0.361111  \n",
       "4k4mhm30I8pOn2k7O19pms    -0.751142 -0.395263  0.835859  \n",
       "2D2ZV5FGcEpAfc2rEMxhV2    -0.862557 -0.279579  0.313131  \n",
       "\n",
       "[360 rows x 11 columns]"
      ],
      "text/html": "<div>\n<style scoped>\n    .dataframe tbody tr th:only-of-type {\n        vertical-align: middle;\n    }\n\n    .dataframe tbody tr th {\n        vertical-align: top;\n    }\n\n    .dataframe thead th {\n        text-align: right;\n    }\n</style>\n<table border=\"1\" class=\"dataframe\">\n  <thead>\n    <tr style=\"text-align: right;\">\n      <th></th>\n      <th>acousticness</th>\n      <th>danceability</th>\n      <th>duration_ms</th>\n      <th>energy</th>\n      <th>instrumentalness</th>\n      <th>key</th>\n      <th>liveness</th>\n      <th>loudness</th>\n      <th>speechiness</th>\n      <th>tempo</th>\n      <th>valence</th>\n    </tr>\n    <tr>\n      <th>track_id</th>\n      <th></th>\n      <th></th>\n      <th></th>\n      <th></th>\n      <th></th>\n      <th></th>\n      <th></th>\n      <th></th>\n      <th></th>\n      <th></th>\n      <th></th>\n    </tr>\n  </thead>\n  <tbody>\n    <tr>\n      <th>2aIdVb8v9KTpEZnftkz2mD</th>\n      <td>-0.871886</td>\n      <td>-0.415803</td>\n      <td>0.720862</td>\n      <td>0.142264</td>\n      <td>-1.000000</td>\n      <td>-0.75</td>\n      <td>-0.405645</td>\n      <td>-0.159053</td>\n      <td>0.196347</td>\n      <td>-0.395505</td>\n      <td>0.500000</td>\n    </tr>\n    <tr>\n      <th>3yNVfRQlUPViUh8O2V9SQn</th>\n      <td>0.423488</td>\n      <td>0.116580</td>\n      <td>0.798669</td>\n      <td>0.376947</td>\n      <td>-1.000000</td>\n      <td>-1.00</td>\n      <td>1.564516</td>\n      <td>-0.069450</td>\n      <td>-0.041096</td>\n      <td>-0.355405</td>\n      <td>1.113636</td>\n    </tr>\n    <tr>\n      <th>6o2g1BJvtYQssH84kBYs7y</th>\n      <td>-0.816133</td>\n      <td>0.132124</td>\n      <td>1.005005</td>\n      <td>0.482866</td>\n      <td>-1.000000</td>\n      <td>0.75</td>\n      <td>-0.219355</td>\n      <td>-0.311286</td>\n      <td>-0.410959</td>\n      <td>-0.275930</td>\n      <td>0.366162</td>\n    </tr>\n    <tr>\n      <th>0Uyh92tLyb9JawG8lmWCzJ</th>\n      <td>2.772242</td>\n      <td>-0.272021</td>\n      <td>1.004499</td>\n      <td>0.233645</td>\n      <td>-1.000000</td>\n      <td>-0.25</td>\n      <td>1.508065</td>\n      <td>-0.526871</td>\n      <td>-0.745205</td>\n      <td>-0.524903</td>\n      <td>0.068182</td>\n    </tr>\n    <tr>\n      <th>3jDdpx9PMlfMBS5tOBHFm9</th>\n      <td>-0.925148</td>\n      <td>-0.073834</td>\n      <td>0.608631</td>\n      <td>0.730010</td>\n      <td>-1.000000</td>\n      <td>-0.50</td>\n      <td>0.322581</td>\n      <td>-0.444088</td>\n      <td>-0.506849</td>\n      <td>-0.278491</td>\n      <td>0.545455</td>\n    </tr>\n    <tr>\n      <th>...</th>\n      <td>...</td>\n      <td>...</td>\n      <td>...</td>\n      <td>...</td>\n      <td>...</td>\n      <td>...</td>\n      <td>...</td>\n      <td>...</td>\n      <td>...</td>\n      <td>...</td>\n      <td>...</td>\n    </tr>\n    <tr>\n      <th>2sijD9pZmS9D9s8hmQkQk5</th>\n      <td>8.501779</td>\n      <td>-0.198187</td>\n      <td>0.518754</td>\n      <td>-0.133956</td>\n      <td>137274.985663</td>\n      <td>0.25</td>\n      <td>0.419355</td>\n      <td>0.078235</td>\n      <td>-0.800457</td>\n      <td>0.031105</td>\n      <td>-0.505051</td>\n    </tr>\n    <tr>\n      <th>1ZFsgzYeQuF8IbQgmju5ap</th>\n      <td>1.775801</td>\n      <td>-0.167098</td>\n      <td>0.812152</td>\n      <td>0.561786</td>\n      <td>68816.204301</td>\n      <td>-0.50</td>\n      <td>5.620968</td>\n      <td>-0.324514</td>\n      <td>-0.821918</td>\n      <td>-0.274607</td>\n      <td>0.469697</td>\n    </tr>\n    <tr>\n      <th>2T9EwC9mQUjaNlVtKCFDwX</th>\n      <td>2.380783</td>\n      <td>-0.204663</td>\n      <td>0.539989</td>\n      <td>0.198339</td>\n      <td>579.645161</td>\n      <td>0.25</td>\n      <td>6.685484</td>\n      <td>-0.052811</td>\n      <td>-0.725571</td>\n      <td>0.096744</td>\n      <td>-0.361111</td>\n    </tr>\n    <tr>\n      <th>4k4mhm30I8pOn2k7O19pms</th>\n      <td>-0.910558</td>\n      <td>-0.126943</td>\n      <td>0.025164</td>\n      <td>0.653167</td>\n      <td>82.512545</td>\n      <td>0.75</td>\n      <td>0.258065</td>\n      <td>-0.355519</td>\n      <td>-0.751142</td>\n      <td>-0.395263</td>\n      <td>0.835859</td>\n    </tr>\n    <tr>\n      <th>2D2ZV5FGcEpAfc2rEMxhV2</th>\n      <td>1.028470</td>\n      <td>0.033679</td>\n      <td>0.294081</td>\n      <td>0.266874</td>\n      <td>24658.498208</td>\n      <td>0.00</td>\n      <td>-0.153226</td>\n      <td>-0.485014</td>\n      <td>-0.862557</td>\n      <td>-0.279579</td>\n      <td>0.313131</td>\n    </tr>\n  </tbody>\n</table>\n<p>360 rows × 11 columns</p>\n</div>"
     },
     "metadata": {},
     "execution_count": 24
    }
   ],
   "source": [
    "df1 = df1.divide(Y, axis='columns') \n",
    "df1"
   ]
  },
  {
   "cell_type": "code",
   "execution_count": 25,
   "metadata": {},
   "outputs": [
    {
     "output_type": "execute_result",
     "data": {
      "text/plain": [
       "                        acousticness  danceability  duration_ms    energy  \\\n",
       "track_id                                                                    \n",
       "2aIdVb8v9KTpEZnftkz2mD     -0.871886     -0.415803     0.720862  0.142264   \n",
       "3yNVfRQlUPViUh8O2V9SQn      0.423488      0.116580     0.798669  0.376947   \n",
       "6o2g1BJvtYQssH84kBYs7y     -0.816133      0.132124     1.005005  0.482866   \n",
       "0Uyh92tLyb9JawG8lmWCzJ      2.772242     -0.272021     1.004499  0.233645   \n",
       "3jDdpx9PMlfMBS5tOBHFm9     -0.925148     -0.073834     0.608631  0.730010   \n",
       "...                              ...           ...          ...       ...   \n",
       "2sijD9pZmS9D9s8hmQkQk5      8.501779     -0.198187     0.518754 -0.133956   \n",
       "1ZFsgzYeQuF8IbQgmju5ap      1.775801     -0.167098     0.812152  0.561786   \n",
       "2T9EwC9mQUjaNlVtKCFDwX      2.380783     -0.204663     0.539989  0.198339   \n",
       "4k4mhm30I8pOn2k7O19pms     -0.910558     -0.126943     0.025164  0.653167   \n",
       "2D2ZV5FGcEpAfc2rEMxhV2      1.028470      0.033679     0.294081  0.266874   \n",
       "\n",
       "                        instrumentalness   key  liveness  loudness  \\\n",
       "track_id                                                             \n",
       "2aIdVb8v9KTpEZnftkz2mD         -1.000000 -0.75 -0.405645 -0.159053   \n",
       "3yNVfRQlUPViUh8O2V9SQn         -1.000000 -1.00  1.564516 -0.069450   \n",
       "6o2g1BJvtYQssH84kBYs7y         -1.000000  0.75 -0.219355 -0.311286   \n",
       "0Uyh92tLyb9JawG8lmWCzJ         -1.000000 -0.25  1.508065 -0.526871   \n",
       "3jDdpx9PMlfMBS5tOBHFm9         -1.000000 -0.50  0.322581 -0.444088   \n",
       "...                                  ...   ...       ...       ...   \n",
       "2sijD9pZmS9D9s8hmQkQk5     137274.985663  0.25  0.419355  0.078235   \n",
       "1ZFsgzYeQuF8IbQgmju5ap      68816.204301 -0.50  5.620968 -0.324514   \n",
       "2T9EwC9mQUjaNlVtKCFDwX        579.645161  0.25  6.685484 -0.052811   \n",
       "4k4mhm30I8pOn2k7O19pms         82.512545  0.75  0.258065 -0.355519   \n",
       "2D2ZV5FGcEpAfc2rEMxhV2      24658.498208  0.00 -0.153226 -0.485014   \n",
       "\n",
       "                        speechiness     tempo   valence      variation  \n",
       "track_id                                                                \n",
       "2aIdVb8v9KTpEZnftkz2mD     0.196347 -0.395505  0.500000       2.438420  \n",
       "3yNVfRQlUPViUh8O2V9SQn    -0.041096 -0.355405  1.113636       1.927886  \n",
       "6o2g1BJvtYQssH84kBYs7y    -0.410959 -0.275930  0.366162       0.297505  \n",
       "0Uyh92tLyb9JawG8lmWCzJ    -0.745205 -0.524903  0.068182       2.267633  \n",
       "3jDdpx9PMlfMBS5tOBHFm9    -0.506849 -0.278491  0.545455       1.521734  \n",
       "...                             ...       ...       ...            ...  \n",
       "2sijD9pZmS9D9s8hmQkQk5    -0.800457  0.031105 -0.505051  137283.147240  \n",
       "1ZFsgzYeQuF8IbQgmju5ap    -0.821918 -0.274607  0.469697   68823.356566  \n",
       "2T9EwC9mQUjaNlVtKCFDwX    -0.725571  0.096744 -0.361111     588.452344  \n",
       "4k4mhm30I8pOn2k7O19pms    -0.751142 -0.395263  0.835859      82.495376  \n",
       "2D2ZV5FGcEpAfc2rEMxhV2    -0.862557 -0.279579  0.313131   24658.654067  \n",
       "\n",
       "[360 rows x 12 columns]"
      ],
      "text/html": "<div>\n<style scoped>\n    .dataframe tbody tr th:only-of-type {\n        vertical-align: middle;\n    }\n\n    .dataframe tbody tr th {\n        vertical-align: top;\n    }\n\n    .dataframe thead th {\n        text-align: right;\n    }\n</style>\n<table border=\"1\" class=\"dataframe\">\n  <thead>\n    <tr style=\"text-align: right;\">\n      <th></th>\n      <th>acousticness</th>\n      <th>danceability</th>\n      <th>duration_ms</th>\n      <th>energy</th>\n      <th>instrumentalness</th>\n      <th>key</th>\n      <th>liveness</th>\n      <th>loudness</th>\n      <th>speechiness</th>\n      <th>tempo</th>\n      <th>valence</th>\n      <th>variation</th>\n    </tr>\n    <tr>\n      <th>track_id</th>\n      <th></th>\n      <th></th>\n      <th></th>\n      <th></th>\n      <th></th>\n      <th></th>\n      <th></th>\n      <th></th>\n      <th></th>\n      <th></th>\n      <th></th>\n      <th></th>\n    </tr>\n  </thead>\n  <tbody>\n    <tr>\n      <th>2aIdVb8v9KTpEZnftkz2mD</th>\n      <td>-0.871886</td>\n      <td>-0.415803</td>\n      <td>0.720862</td>\n      <td>0.142264</td>\n      <td>-1.000000</td>\n      <td>-0.75</td>\n      <td>-0.405645</td>\n      <td>-0.159053</td>\n      <td>0.196347</td>\n      <td>-0.395505</td>\n      <td>0.500000</td>\n      <td>2.438420</td>\n    </tr>\n    <tr>\n      <th>3yNVfRQlUPViUh8O2V9SQn</th>\n      <td>0.423488</td>\n      <td>0.116580</td>\n      <td>0.798669</td>\n      <td>0.376947</td>\n      <td>-1.000000</td>\n      <td>-1.00</td>\n      <td>1.564516</td>\n      <td>-0.069450</td>\n      <td>-0.041096</td>\n      <td>-0.355405</td>\n      <td>1.113636</td>\n      <td>1.927886</td>\n    </tr>\n    <tr>\n      <th>6o2g1BJvtYQssH84kBYs7y</th>\n      <td>-0.816133</td>\n      <td>0.132124</td>\n      <td>1.005005</td>\n      <td>0.482866</td>\n      <td>-1.000000</td>\n      <td>0.75</td>\n      <td>-0.219355</td>\n      <td>-0.311286</td>\n      <td>-0.410959</td>\n      <td>-0.275930</td>\n      <td>0.366162</td>\n      <td>0.297505</td>\n    </tr>\n    <tr>\n      <th>0Uyh92tLyb9JawG8lmWCzJ</th>\n      <td>2.772242</td>\n      <td>-0.272021</td>\n      <td>1.004499</td>\n      <td>0.233645</td>\n      <td>-1.000000</td>\n      <td>-0.25</td>\n      <td>1.508065</td>\n      <td>-0.526871</td>\n      <td>-0.745205</td>\n      <td>-0.524903</td>\n      <td>0.068182</td>\n      <td>2.267633</td>\n    </tr>\n    <tr>\n      <th>3jDdpx9PMlfMBS5tOBHFm9</th>\n      <td>-0.925148</td>\n      <td>-0.073834</td>\n      <td>0.608631</td>\n      <td>0.730010</td>\n      <td>-1.000000</td>\n      <td>-0.50</td>\n      <td>0.322581</td>\n      <td>-0.444088</td>\n      <td>-0.506849</td>\n      <td>-0.278491</td>\n      <td>0.545455</td>\n      <td>1.521734</td>\n    </tr>\n    <tr>\n      <th>...</th>\n      <td>...</td>\n      <td>...</td>\n      <td>...</td>\n      <td>...</td>\n      <td>...</td>\n      <td>...</td>\n      <td>...</td>\n      <td>...</td>\n      <td>...</td>\n      <td>...</td>\n      <td>...</td>\n      <td>...</td>\n    </tr>\n    <tr>\n      <th>2sijD9pZmS9D9s8hmQkQk5</th>\n      <td>8.501779</td>\n      <td>-0.198187</td>\n      <td>0.518754</td>\n      <td>-0.133956</td>\n      <td>137274.985663</td>\n      <td>0.25</td>\n      <td>0.419355</td>\n      <td>0.078235</td>\n      <td>-0.800457</td>\n      <td>0.031105</td>\n      <td>-0.505051</td>\n      <td>137283.147240</td>\n    </tr>\n    <tr>\n      <th>1ZFsgzYeQuF8IbQgmju5ap</th>\n      <td>1.775801</td>\n      <td>-0.167098</td>\n      <td>0.812152</td>\n      <td>0.561786</td>\n      <td>68816.204301</td>\n      <td>-0.50</td>\n      <td>5.620968</td>\n      <td>-0.324514</td>\n      <td>-0.821918</td>\n      <td>-0.274607</td>\n      <td>0.469697</td>\n      <td>68823.356566</td>\n    </tr>\n    <tr>\n      <th>2T9EwC9mQUjaNlVtKCFDwX</th>\n      <td>2.380783</td>\n      <td>-0.204663</td>\n      <td>0.539989</td>\n      <td>0.198339</td>\n      <td>579.645161</td>\n      <td>0.25</td>\n      <td>6.685484</td>\n      <td>-0.052811</td>\n      <td>-0.725571</td>\n      <td>0.096744</td>\n      <td>-0.361111</td>\n      <td>588.452344</td>\n    </tr>\n    <tr>\n      <th>4k4mhm30I8pOn2k7O19pms</th>\n      <td>-0.910558</td>\n      <td>-0.126943</td>\n      <td>0.025164</td>\n      <td>0.653167</td>\n      <td>82.512545</td>\n      <td>0.75</td>\n      <td>0.258065</td>\n      <td>-0.355519</td>\n      <td>-0.751142</td>\n      <td>-0.395263</td>\n      <td>0.835859</td>\n      <td>82.495376</td>\n    </tr>\n    <tr>\n      <th>2D2ZV5FGcEpAfc2rEMxhV2</th>\n      <td>1.028470</td>\n      <td>0.033679</td>\n      <td>0.294081</td>\n      <td>0.266874</td>\n      <td>24658.498208</td>\n      <td>0.00</td>\n      <td>-0.153226</td>\n      <td>-0.485014</td>\n      <td>-0.862557</td>\n      <td>-0.279579</td>\n      <td>0.313131</td>\n      <td>24658.654067</td>\n    </tr>\n  </tbody>\n</table>\n<p>360 rows × 12 columns</p>\n</div>"
     },
     "metadata": {},
     "execution_count": 25
    }
   ],
   "source": [
    "# Add all the score \n",
    "df1['variation'] = df1.sum(axis=1)\n",
    "# take the absoulte of the variatio\n",
    "df1['variation'] = df1['variation'].abs()\n",
    "df1"
   ]
  },
  {
   "cell_type": "code",
   "execution_count": 26,
   "metadata": {},
   "outputs": [
    {
     "output_type": "execute_result",
     "data": {
      "text/plain": [
       "                        acousticness  danceability  duration_ms    energy  \\\n",
       "track_id                                                                    \n",
       "1Cv1YLb4q0RzL6pybtaMLo      1.170819      0.137306     0.197047  0.090343   \n",
       "1xTrwHzhHuNb5URVfuBp0f     -0.485172     -0.123057     0.588310  0.308411   \n",
       "74DrA5fFoGSy4xgkZarZtP      1.894425     -0.655440     0.933841 -0.192108   \n",
       "3eekarcy7kvN4yt5ZFzltW     -0.352313     -0.225389     0.326512 -0.113188   \n",
       "1HwpWwa6bnqqRhK8agG4RS     -0.099644     -0.145078     0.617192  0.383178   \n",
       "\n",
       "                        instrumentalness   key  liveness  loudness  \\\n",
       "track_id                                                             \n",
       "1Cv1YLb4q0RzL6pybtaMLo         -1.000000  0.25 -0.424194 -0.293923   \n",
       "1xTrwHzhHuNb5URVfuBp0f         -1.000000  0.00  0.895161 -0.236358   \n",
       "74DrA5fFoGSy4xgkZarZtP         -0.491039  0.00 -0.445161  0.414014   \n",
       "3eekarcy7kvN4yt5ZFzltW          1.089606  0.75  0.693548 -0.094254   \n",
       "1HwpWwa6bnqqRhK8agG4RS         -1.000000  1.25 -0.783871 -0.551261   \n",
       "\n",
       "                        speechiness     tempo   valence  variation  \n",
       "track_id                                                            \n",
       "1Cv1YLb4q0RzL6pybtaMLo    -0.736073 -0.153551  0.752525   0.009702  \n",
       "1xTrwHzhHuNb5URVfuBp0f    -0.479452 -0.244277  0.752525   0.023909  \n",
       "74DrA5fFoGSy4xgkZarZtP    -0.860731  0.059689 -0.626263   0.031227  \n",
       "3eekarcy7kvN4yt5ZFzltW    -0.855251 -0.422193 -0.847222   0.050144  \n",
       "1HwpWwa6bnqqRhK8agG4RS    -0.784475 -0.320140  1.356061   0.078039  "
      ],
      "text/html": "<div>\n<style scoped>\n    .dataframe tbody tr th:only-of-type {\n        vertical-align: middle;\n    }\n\n    .dataframe tbody tr th {\n        vertical-align: top;\n    }\n\n    .dataframe thead th {\n        text-align: right;\n    }\n</style>\n<table border=\"1\" class=\"dataframe\">\n  <thead>\n    <tr style=\"text-align: right;\">\n      <th></th>\n      <th>acousticness</th>\n      <th>danceability</th>\n      <th>duration_ms</th>\n      <th>energy</th>\n      <th>instrumentalness</th>\n      <th>key</th>\n      <th>liveness</th>\n      <th>loudness</th>\n      <th>speechiness</th>\n      <th>tempo</th>\n      <th>valence</th>\n      <th>variation</th>\n    </tr>\n    <tr>\n      <th>track_id</th>\n      <th></th>\n      <th></th>\n      <th></th>\n      <th></th>\n      <th></th>\n      <th></th>\n      <th></th>\n      <th></th>\n      <th></th>\n      <th></th>\n      <th></th>\n      <th></th>\n    </tr>\n  </thead>\n  <tbody>\n    <tr>\n      <th>1Cv1YLb4q0RzL6pybtaMLo</th>\n      <td>1.170819</td>\n      <td>0.137306</td>\n      <td>0.197047</td>\n      <td>0.090343</td>\n      <td>-1.000000</td>\n      <td>0.25</td>\n      <td>-0.424194</td>\n      <td>-0.293923</td>\n      <td>-0.736073</td>\n      <td>-0.153551</td>\n      <td>0.752525</td>\n      <td>0.009702</td>\n    </tr>\n    <tr>\n      <th>1xTrwHzhHuNb5URVfuBp0f</th>\n      <td>-0.485172</td>\n      <td>-0.123057</td>\n      <td>0.588310</td>\n      <td>0.308411</td>\n      <td>-1.000000</td>\n      <td>0.00</td>\n      <td>0.895161</td>\n      <td>-0.236358</td>\n      <td>-0.479452</td>\n      <td>-0.244277</td>\n      <td>0.752525</td>\n      <td>0.023909</td>\n    </tr>\n    <tr>\n      <th>74DrA5fFoGSy4xgkZarZtP</th>\n      <td>1.894425</td>\n      <td>-0.655440</td>\n      <td>0.933841</td>\n      <td>-0.192108</td>\n      <td>-0.491039</td>\n      <td>0.00</td>\n      <td>-0.445161</td>\n      <td>0.414014</td>\n      <td>-0.860731</td>\n      <td>0.059689</td>\n      <td>-0.626263</td>\n      <td>0.031227</td>\n    </tr>\n    <tr>\n      <th>3eekarcy7kvN4yt5ZFzltW</th>\n      <td>-0.352313</td>\n      <td>-0.225389</td>\n      <td>0.326512</td>\n      <td>-0.113188</td>\n      <td>1.089606</td>\n      <td>0.75</td>\n      <td>0.693548</td>\n      <td>-0.094254</td>\n      <td>-0.855251</td>\n      <td>-0.422193</td>\n      <td>-0.847222</td>\n      <td>0.050144</td>\n    </tr>\n    <tr>\n      <th>1HwpWwa6bnqqRhK8agG4RS</th>\n      <td>-0.099644</td>\n      <td>-0.145078</td>\n      <td>0.617192</td>\n      <td>0.383178</td>\n      <td>-1.000000</td>\n      <td>1.25</td>\n      <td>-0.783871</td>\n      <td>-0.551261</td>\n      <td>-0.784475</td>\n      <td>-0.320140</td>\n      <td>1.356061</td>\n      <td>0.078039</td>\n    </tr>\n  </tbody>\n</table>\n</div>"
     },
     "metadata": {},
     "execution_count": 26
    }
   ],
   "source": [
    "# Now we have the variation, we will take the songs with the least variation \n",
    "df2 = df1.nsmallest(50,'variation')\n",
    "df2.head()"
   ]
  },
  {
   "cell_type": "code",
   "execution_count": 27,
   "metadata": {},
   "outputs": [],
   "source": [
    "def create_playlist(sp, username, playlist_name, playlist_description):\n",
    "    playlists = sp.user_playlist_create(username, playlist_name, description = playlist_description)"
   ]
  },
  {
   "cell_type": "code",
   "execution_count": 28,
   "metadata": {},
   "outputs": [],
   "source": [
    "create_playlist(sp, username, 'Your New Jams', 'This playlist was created using python!')"
   ]
  },
  {
   "cell_type": "code",
   "execution_count": 29,
   "metadata": {},
   "outputs": [],
   "source": [
    "def fetch_playlists(sp, username):\n",
    "    \"\"\"\n",
    "    Returns the user's playlists.\n",
    "    \"\"\"\n",
    "        \n",
    "    id = []\n",
    "    name = []\n",
    "    num_tracks = []\n",
    "    \n",
    "    # Make the API request\n",
    "    playlists = sp.user_playlists(username)\n",
    "    for playlist in playlists['items']:\n",
    "        id.append(playlist['id'])\n",
    "        name.append(playlist['name'])\n",
    "        num_tracks.append(playlist['tracks']['total'])\n",
    "\n",
    "    # Create the final df   \n",
    "    df_playlists = pd.DataFrame({\"id\":id, \"name\": name, \"#tracks\": num_tracks})\n",
    "    return df_playlists"
   ]
  },
  {
   "cell_type": "code",
   "execution_count": 30,
   "metadata": {},
   "outputs": [
    {
     "output_type": "execute_result",
     "data": {
      "text/plain": [
       "                       id           name  #tracks\n",
       "0  3zdUVBgr30KKu1lFPimbRQ  Your New Jams        0\n",
       "1  4OqhYtuar9Zcjj4djxIHMo         GOSPEL       34\n",
       "2  3ALg99PJwQoQTZUgVOxZCr          LUCKI       38\n",
       "3  4STXJNA3A9Hkz7soJiPz4s     POSITIVITY       77\n",
       "4  1paxyb8f2gQW3ibSwMVend   AMATERASU 😈🔥      150"
      ],
      "text/html": "<div>\n<style scoped>\n    .dataframe tbody tr th:only-of-type {\n        vertical-align: middle;\n    }\n\n    .dataframe tbody tr th {\n        vertical-align: top;\n    }\n\n    .dataframe thead th {\n        text-align: right;\n    }\n</style>\n<table border=\"1\" class=\"dataframe\">\n  <thead>\n    <tr style=\"text-align: right;\">\n      <th></th>\n      <th>id</th>\n      <th>name</th>\n      <th>#tracks</th>\n    </tr>\n  </thead>\n  <tbody>\n    <tr>\n      <th>0</th>\n      <td>3zdUVBgr30KKu1lFPimbRQ</td>\n      <td>Your New Jams</td>\n      <td>0</td>\n    </tr>\n    <tr>\n      <th>1</th>\n      <td>4OqhYtuar9Zcjj4djxIHMo</td>\n      <td>GOSPEL</td>\n      <td>34</td>\n    </tr>\n    <tr>\n      <th>2</th>\n      <td>3ALg99PJwQoQTZUgVOxZCr</td>\n      <td>LUCKI</td>\n      <td>38</td>\n    </tr>\n    <tr>\n      <th>3</th>\n      <td>4STXJNA3A9Hkz7soJiPz4s</td>\n      <td>POSITIVITY</td>\n      <td>77</td>\n    </tr>\n    <tr>\n      <th>4</th>\n      <td>1paxyb8f2gQW3ibSwMVend</td>\n      <td>AMATERASU 😈🔥</td>\n      <td>150</td>\n    </tr>\n  </tbody>\n</table>\n</div>"
     },
     "metadata": {},
     "execution_count": 30
    }
   ],
   "source": [
    "fetch_playlists(sp,username).head()"
   ]
  },
  {
   "cell_type": "code",
   "execution_count": 31,
   "metadata": {},
   "outputs": [],
   "source": [
    "playlist_id = fetch_playlists(sp,username)['id'][0]"
   ]
  },
  {
   "cell_type": "code",
   "execution_count": 32,
   "metadata": {},
   "outputs": [],
   "source": [
    "def enrich_playlist(sp, username, playlist_id, playlist_tracks):\n",
    "    index = 0\n",
    "    results = []\n",
    "    \n",
    "    while index < len(playlist_tracks):\n",
    "        results += sp.user_playlist_add_tracks(username, playlist_id, tracks = playlist_tracks[index:index + 50])\n",
    "        index += 50"
   ]
  },
  {
   "cell_type": "code",
   "execution_count": 33,
   "metadata": {},
   "outputs": [
    {
     "output_type": "execute_result",
     "data": {
      "text/plain": [
       "                       id           name  #tracks\n",
       "0  3zdUVBgr30KKu1lFPimbRQ  Your New Jams       50\n",
       "1  4OqhYtuar9Zcjj4djxIHMo         GOSPEL       34\n",
       "2  3ALg99PJwQoQTZUgVOxZCr          LUCKI       38\n",
       "3  4STXJNA3A9Hkz7soJiPz4s     POSITIVITY       77\n",
       "4  1paxyb8f2gQW3ibSwMVend   AMATERASU 😈🔥      150"
      ],
      "text/html": "<div>\n<style scoped>\n    .dataframe tbody tr th:only-of-type {\n        vertical-align: middle;\n    }\n\n    .dataframe tbody tr th {\n        vertical-align: top;\n    }\n\n    .dataframe thead th {\n        text-align: right;\n    }\n</style>\n<table border=\"1\" class=\"dataframe\">\n  <thead>\n    <tr style=\"text-align: right;\">\n      <th></th>\n      <th>id</th>\n      <th>name</th>\n      <th>#tracks</th>\n    </tr>\n  </thead>\n  <tbody>\n    <tr>\n      <th>0</th>\n      <td>3zdUVBgr30KKu1lFPimbRQ</td>\n      <td>Your New Jams</td>\n      <td>50</td>\n    </tr>\n    <tr>\n      <th>1</th>\n      <td>4OqhYtuar9Zcjj4djxIHMo</td>\n      <td>GOSPEL</td>\n      <td>34</td>\n    </tr>\n    <tr>\n      <th>2</th>\n      <td>3ALg99PJwQoQTZUgVOxZCr</td>\n      <td>LUCKI</td>\n      <td>38</td>\n    </tr>\n    <tr>\n      <th>3</th>\n      <td>4STXJNA3A9Hkz7soJiPz4s</td>\n      <td>POSITIVITY</td>\n      <td>77</td>\n    </tr>\n    <tr>\n      <th>4</th>\n      <td>1paxyb8f2gQW3ibSwMVend</td>\n      <td>AMATERASU 😈🔥</td>\n      <td>150</td>\n    </tr>\n  </tbody>\n</table>\n</div>"
     },
     "metadata": {},
     "execution_count": 33
    }
   ],
   "source": [
    "list_track = df2.index\n",
    "enrich_playlist(sp, username, playlist_id, list_track)\n",
    "fetch_playlists(sp,username).head()"
   ]
  }
 ]
}