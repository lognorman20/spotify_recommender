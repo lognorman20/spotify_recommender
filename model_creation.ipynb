{
 "metadata": {
  "language_info": {
   "codemirror_mode": {
    "name": "ipython",
    "version": 3
   },
   "file_extension": ".py",
   "mimetype": "text/x-python",
   "name": "python",
   "nbconvert_exporter": "python",
   "pygments_lexer": "ipython3",
   "version": "3.9.2-final"
  },
  "orig_nbformat": 2,
  "kernelspec": {
   "name": "python3",
   "display_name": "Python 3.9.2 64-bit ('spotify_recommender': conda)",
   "metadata": {
    "interpreter": {
     "hash": "2fce50c966ce3004344c1d0428fb8658cb2ec3c9dafd73e971076d9a0c6eeeea"
    }
   }
  }
 },
 "nbformat": 4,
 "nbformat_minor": 2,
 "cells": [
  {
   "cell_type": "code",
   "execution_count": 1,
   "metadata": {},
   "outputs": [],
   "source": [
    "import pandas as pd\n",
    "import numpy as np\n",
    "import seaborn as sns\n",
    "import matplotlib.pyplot as plt\n",
    "import matplotlib.ticker as plticker\n",
    "from imblearn.over_sampling import SMOTE\n",
    "%matplotlib inline"
   ]
  },
  {
   "cell_type": "code",
   "execution_count": 2,
   "metadata": {},
   "outputs": [],
   "source": [
    "# Importing playlist dataframes\n",
    "df = pd.read_csv('data/encoded_playlist_songs.csv')\n",
    "df_fav = pd.read_csv('data/favorite_songs.csv')"
   ]
  },
  {
   "cell_type": "code",
   "execution_count": 3,
   "metadata": {},
   "outputs": [
    {
     "output_type": "stream",
     "name": "stdout",
     "text": [
      "<class 'pandas.core.frame.DataFrame'>\nRangeIndex: 9769 entries, 0 to 9768\nData columns (total 17 columns):\n #   Column            Non-Null Count  Dtype  \n---  ------            --------------  -----  \n 0   track_id          9769 non-null   object \n 1   name              9769 non-null   int64  \n 2   album             9769 non-null   int64  \n 3   artist            9769 non-null   int64  \n 4   release_date      9769 non-null   int64  \n 5   length            9769 non-null   int64  \n 6   popularity        9769 non-null   int64  \n 7   danceability      9769 non-null   float64\n 8   acousticness      9769 non-null   float64\n 9   energy            9769 non-null   float64\n 10  instrumentalness  9769 non-null   float64\n 11  liveness          9769 non-null   float64\n 12  loudness          9769 non-null   float64\n 13  speechiness       9769 non-null   float64\n 14  tempo             9769 non-null   float64\n 15  time_signature    9769 non-null   int64  \n 16  favorite          9769 non-null   int64  \ndtypes: float64(8), int64(8), object(1)\nmemory usage: 1.3+ MB\n"
     ]
    }
   ],
   "source": [
    "df.info()"
   ]
  },
  {
   "cell_type": "code",
   "execution_count": 4,
   "metadata": {},
   "outputs": [
    {
     "output_type": "stream",
     "name": "stdout",
     "text": [
      "<class 'pandas.core.frame.DataFrame'>\nRangeIndex: 50 entries, 0 to 49\nData columns (total 17 columns):\n #   Column            Non-Null Count  Dtype  \n---  ------            --------------  -----  \n 0   track_id          50 non-null     object \n 1   name              50 non-null     int64  \n 2   album             50 non-null     int64  \n 3   artist            50 non-null     int64  \n 4   release_date      50 non-null     int64  \n 5   length            50 non-null     int64  \n 6   popularity        50 non-null     int64  \n 7   danceability      50 non-null     float64\n 8   acousticness      50 non-null     float64\n 9   energy            50 non-null     float64\n 10  instrumentalness  50 non-null     float64\n 11  liveness          50 non-null     float64\n 12  loudness          50 non-null     float64\n 13  speechiness       50 non-null     float64\n 14  tempo             50 non-null     float64\n 15  time_signature    50 non-null     int64  \n 16  favorite          50 non-null     int64  \ndtypes: float64(8), int64(8), object(1)\nmemory usage: 6.8+ KB\n"
     ]
    }
   ],
   "source": [
    "df_fav.info()"
   ]
  },
  {
   "source": [
    "### Preparing data for model"
   ],
   "cell_type": "markdown",
   "metadata": {}
  },
  {
   "cell_type": "code",
   "execution_count": 5,
   "metadata": {},
   "outputs": [
    {
     "output_type": "execute_result",
     "data": {
      "text/plain": [
       "(9819, 17)"
      ]
     },
     "metadata": {},
     "execution_count": 5
    }
   ],
   "source": [
    "df = pd.concat([df, df_fav], axis=0)\n",
    "df.drop(columns=['track_id'])\n",
    "df.shape"
   ]
  },
  {
   "source": [
    "### Model Selection & Hyperparameter Tuning"
   ],
   "cell_type": "markdown",
   "metadata": {}
  },
  {
   "cell_type": "code",
   "execution_count": 6,
   "metadata": {},
   "outputs": [],
   "source": [
    "# Importing required libraries\n",
    "import sklearn\n",
    "from sklearn.pipeline import Pipeline\n",
    "from sklearn.model_selection import cross_val_score\n",
    "from sklearn.model_selection import train_test_split\n",
    "from sklearn.model_selection import GridSearchCV\n",
    "from sklearn import metrics \n",
    "from sklearn.metrics import f1_score\n",
    "# Models\n",
    "from sklearn.ensemble import RandomForestClassifier\n",
    "from sklearn.linear_model import LogisticRegression \n",
    "from sklearn.tree import DecisionTreeClassifier"
   ]
  },
  {
   "cell_type": "code",
   "execution_count": 7,
   "metadata": {},
   "outputs": [],
   "source": [
    "# Shuffle your dataset \n",
    "shuffle_df = df.sample(frac=1)\n",
    "\n",
    "# Define a size for your train set \n",
    "train_size = int(0.8 * len(df))\n",
    "\n",
    "# Split dataset \n",
    "train_set = shuffle_df[:train_size]\n",
    "test_set = shuffle_df[train_size:]"
   ]
  },
  {
   "cell_type": "code",
   "execution_count": 8,
   "metadata": {},
   "outputs": [
    {
     "output_type": "execute_result",
     "data": {
      "text/plain": [
       "                    track_id  name  album  artist  release_date  length  \\\n",
       "4130  6nGAVc9i8gmC0IBUVf2DoG   824   3157    1863          1139  150653   \n",
       "811   0wJoRiX5K5BxlqZTolB2LD  5623    396    1805            58  170813   \n",
       "9733  0cXWMzsFVYkb8rTti0IvO1  7791    223    1857           229  210826   \n",
       "3722  3GpSelbkykBVq1HqFQh9gN  2925   2556     315          2270  224027   \n",
       "9444  3mgO7YAlNvmGoZNEaEjfaA  4388    237    1788          1075  252186   \n",
       "\n",
       "      popularity  danceability  acousticness  energy  instrumentalness  \\\n",
       "4130           0         0.626       0.80700  0.5840          0.000422   \n",
       "811           72         0.533       0.00876  0.9050          0.578000   \n",
       "9733          38         0.448       0.80200  0.0992          0.013800   \n",
       "3722           5         0.533       0.00191  0.8330          0.000000   \n",
       "9444           0         0.137       0.33500  0.0616          0.966000   \n",
       "\n",
       "      liveness  loudness  speechiness    tempo  time_signature  favorite  \n",
       "4130    0.1250   -10.317       0.0887  183.243               4         0  \n",
       "811     0.0698    -5.270       0.0754  108.900               4         0  \n",
       "9733    0.1660   -23.850       0.0361   67.025               4         0  \n",
       "3722    0.0764    -6.556       0.0356   99.981               4         0  \n",
       "9444    0.1140   -21.753       0.0380   68.854               3         0  "
      ],
      "text/html": "<div>\n<style scoped>\n    .dataframe tbody tr th:only-of-type {\n        vertical-align: middle;\n    }\n\n    .dataframe tbody tr th {\n        vertical-align: top;\n    }\n\n    .dataframe thead th {\n        text-align: right;\n    }\n</style>\n<table border=\"1\" class=\"dataframe\">\n  <thead>\n    <tr style=\"text-align: right;\">\n      <th></th>\n      <th>track_id</th>\n      <th>name</th>\n      <th>album</th>\n      <th>artist</th>\n      <th>release_date</th>\n      <th>length</th>\n      <th>popularity</th>\n      <th>danceability</th>\n      <th>acousticness</th>\n      <th>energy</th>\n      <th>instrumentalness</th>\n      <th>liveness</th>\n      <th>loudness</th>\n      <th>speechiness</th>\n      <th>tempo</th>\n      <th>time_signature</th>\n      <th>favorite</th>\n    </tr>\n  </thead>\n  <tbody>\n    <tr>\n      <th>4130</th>\n      <td>6nGAVc9i8gmC0IBUVf2DoG</td>\n      <td>824</td>\n      <td>3157</td>\n      <td>1863</td>\n      <td>1139</td>\n      <td>150653</td>\n      <td>0</td>\n      <td>0.626</td>\n      <td>0.80700</td>\n      <td>0.5840</td>\n      <td>0.000422</td>\n      <td>0.1250</td>\n      <td>-10.317</td>\n      <td>0.0887</td>\n      <td>183.243</td>\n      <td>4</td>\n      <td>0</td>\n    </tr>\n    <tr>\n      <th>811</th>\n      <td>0wJoRiX5K5BxlqZTolB2LD</td>\n      <td>5623</td>\n      <td>396</td>\n      <td>1805</td>\n      <td>58</td>\n      <td>170813</td>\n      <td>72</td>\n      <td>0.533</td>\n      <td>0.00876</td>\n      <td>0.9050</td>\n      <td>0.578000</td>\n      <td>0.0698</td>\n      <td>-5.270</td>\n      <td>0.0754</td>\n      <td>108.900</td>\n      <td>4</td>\n      <td>0</td>\n    </tr>\n    <tr>\n      <th>9733</th>\n      <td>0cXWMzsFVYkb8rTti0IvO1</td>\n      <td>7791</td>\n      <td>223</td>\n      <td>1857</td>\n      <td>229</td>\n      <td>210826</td>\n      <td>38</td>\n      <td>0.448</td>\n      <td>0.80200</td>\n      <td>0.0992</td>\n      <td>0.013800</td>\n      <td>0.1660</td>\n      <td>-23.850</td>\n      <td>0.0361</td>\n      <td>67.025</td>\n      <td>4</td>\n      <td>0</td>\n    </tr>\n    <tr>\n      <th>3722</th>\n      <td>3GpSelbkykBVq1HqFQh9gN</td>\n      <td>2925</td>\n      <td>2556</td>\n      <td>315</td>\n      <td>2270</td>\n      <td>224027</td>\n      <td>5</td>\n      <td>0.533</td>\n      <td>0.00191</td>\n      <td>0.8330</td>\n      <td>0.000000</td>\n      <td>0.0764</td>\n      <td>-6.556</td>\n      <td>0.0356</td>\n      <td>99.981</td>\n      <td>4</td>\n      <td>0</td>\n    </tr>\n    <tr>\n      <th>9444</th>\n      <td>3mgO7YAlNvmGoZNEaEjfaA</td>\n      <td>4388</td>\n      <td>237</td>\n      <td>1788</td>\n      <td>1075</td>\n      <td>252186</td>\n      <td>0</td>\n      <td>0.137</td>\n      <td>0.33500</td>\n      <td>0.0616</td>\n      <td>0.966000</td>\n      <td>0.1140</td>\n      <td>-21.753</td>\n      <td>0.0380</td>\n      <td>68.854</td>\n      <td>3</td>\n      <td>0</td>\n    </tr>\n  </tbody>\n</table>\n</div>"
     },
     "metadata": {},
     "execution_count": 8
    }
   ],
   "source": [
    "train_set.head()"
   ]
  },
  {
   "cell_type": "code",
   "execution_count": 13,
   "metadata": {},
   "outputs": [
    {
     "output_type": "execute_result",
     "data": {
      "text/plain": [
       "      name  album  artist  release_date  length  popularity  danceability  \\\n",
       "4130   824   3157    1863          1139  150653           0         0.626   \n",
       "811   5623    396    1805            58  170813          72         0.533   \n",
       "9733  7791    223    1857           229  210826          38         0.448   \n",
       "3722  2925   2556     315          2270  224027           5         0.533   \n",
       "9444  4388    237    1788          1075  252186           0         0.137   \n",
       "\n",
       "      acousticness  energy  instrumentalness  liveness  loudness  speechiness  \\\n",
       "4130       0.80700  0.5840          0.000422    0.1250   -10.317       0.0887   \n",
       "811        0.00876  0.9050          0.578000    0.0698    -5.270       0.0754   \n",
       "9733       0.80200  0.0992          0.013800    0.1660   -23.850       0.0361   \n",
       "3722       0.00191  0.8330          0.000000    0.0764    -6.556       0.0356   \n",
       "9444       0.33500  0.0616          0.966000    0.1140   -21.753       0.0380   \n",
       "\n",
       "        tempo  time_signature  \n",
       "4130  183.243               4  \n",
       "811   108.900               4  \n",
       "9733   67.025               4  \n",
       "3722   99.981               4  \n",
       "9444   68.854               3  "
      ],
      "text/html": "<div>\n<style scoped>\n    .dataframe tbody tr th:only-of-type {\n        vertical-align: middle;\n    }\n\n    .dataframe tbody tr th {\n        vertical-align: top;\n    }\n\n    .dataframe thead th {\n        text-align: right;\n    }\n</style>\n<table border=\"1\" class=\"dataframe\">\n  <thead>\n    <tr style=\"text-align: right;\">\n      <th></th>\n      <th>name</th>\n      <th>album</th>\n      <th>artist</th>\n      <th>release_date</th>\n      <th>length</th>\n      <th>popularity</th>\n      <th>danceability</th>\n      <th>acousticness</th>\n      <th>energy</th>\n      <th>instrumentalness</th>\n      <th>liveness</th>\n      <th>loudness</th>\n      <th>speechiness</th>\n      <th>tempo</th>\n      <th>time_signature</th>\n    </tr>\n  </thead>\n  <tbody>\n    <tr>\n      <th>4130</th>\n      <td>824</td>\n      <td>3157</td>\n      <td>1863</td>\n      <td>1139</td>\n      <td>150653</td>\n      <td>0</td>\n      <td>0.626</td>\n      <td>0.80700</td>\n      <td>0.5840</td>\n      <td>0.000422</td>\n      <td>0.1250</td>\n      <td>-10.317</td>\n      <td>0.0887</td>\n      <td>183.243</td>\n      <td>4</td>\n    </tr>\n    <tr>\n      <th>811</th>\n      <td>5623</td>\n      <td>396</td>\n      <td>1805</td>\n      <td>58</td>\n      <td>170813</td>\n      <td>72</td>\n      <td>0.533</td>\n      <td>0.00876</td>\n      <td>0.9050</td>\n      <td>0.578000</td>\n      <td>0.0698</td>\n      <td>-5.270</td>\n      <td>0.0754</td>\n      <td>108.900</td>\n      <td>4</td>\n    </tr>\n    <tr>\n      <th>9733</th>\n      <td>7791</td>\n      <td>223</td>\n      <td>1857</td>\n      <td>229</td>\n      <td>210826</td>\n      <td>38</td>\n      <td>0.448</td>\n      <td>0.80200</td>\n      <td>0.0992</td>\n      <td>0.013800</td>\n      <td>0.1660</td>\n      <td>-23.850</td>\n      <td>0.0361</td>\n      <td>67.025</td>\n      <td>4</td>\n    </tr>\n    <tr>\n      <th>3722</th>\n      <td>2925</td>\n      <td>2556</td>\n      <td>315</td>\n      <td>2270</td>\n      <td>224027</td>\n      <td>5</td>\n      <td>0.533</td>\n      <td>0.00191</td>\n      <td>0.8330</td>\n      <td>0.000000</td>\n      <td>0.0764</td>\n      <td>-6.556</td>\n      <td>0.0356</td>\n      <td>99.981</td>\n      <td>4</td>\n    </tr>\n    <tr>\n      <th>9444</th>\n      <td>4388</td>\n      <td>237</td>\n      <td>1788</td>\n      <td>1075</td>\n      <td>252186</td>\n      <td>0</td>\n      <td>0.137</td>\n      <td>0.33500</td>\n      <td>0.0616</td>\n      <td>0.966000</td>\n      <td>0.1140</td>\n      <td>-21.753</td>\n      <td>0.0380</td>\n      <td>68.854</td>\n      <td>3</td>\n    </tr>\n  </tbody>\n</table>\n</div>"
     },
     "metadata": {},
     "execution_count": 13
    }
   ],
   "source": [
    "X = train_set.drop(columns=['favorite', 'track_id'])\n",
    "y = train_set.favorite\n",
    "\n",
    "X.head()"
   ]
  },
  {
   "cell_type": "code",
   "execution_count": 14,
   "metadata": {},
   "outputs": [
    {
     "output_type": "execute_result",
     "data": {
      "text/plain": [
       "0    7815\n",
       "1      40\n",
       "Name: favorite, dtype: int64"
      ]
     },
     "metadata": {},
     "execution_count": 14
    }
   ],
   "source": [
    "# Checking for imbalance\n",
    "y.value_counts()"
   ]
  },
  {
   "cell_type": "code",
   "execution_count": 17,
   "metadata": {},
   "outputs": [],
   "source": [
    "# Train / Split Data\n",
    "oversample = SMOTE()\n",
    "X_train, y_train = oversample.fit_resample(X, y)\n",
    "# X_test, y_test = "
   ]
  },
  {
   "cell_type": "code",
   "execution_count": 18,
   "metadata": {},
   "outputs": [
    {
     "output_type": "execute_result",
     "data": {
      "text/plain": [
       "   name  album  artist  release_date  length  popularity  danceability  \\\n",
       "0   824   3157    1863          1139  150653           0         0.626   \n",
       "1  5623    396    1805            58  170813          72         0.533   \n",
       "2  7791    223    1857           229  210826          38         0.448   \n",
       "3  2925   2556     315          2270  224027           5         0.533   \n",
       "4  4388    237    1788          1075  252186           0         0.137   \n",
       "\n",
       "   acousticness  energy  instrumentalness  liveness  loudness  speechiness  \\\n",
       "0       0.80700  0.5840          0.000422    0.1250   -10.317       0.0887   \n",
       "1       0.00876  0.9050          0.578000    0.0698    -5.270       0.0754   \n",
       "2       0.80200  0.0992          0.013800    0.1660   -23.850       0.0361   \n",
       "3       0.00191  0.8330          0.000000    0.0764    -6.556       0.0356   \n",
       "4       0.33500  0.0616          0.966000    0.1140   -21.753       0.0380   \n",
       "\n",
       "     tempo  time_signature  \n",
       "0  183.243               4  \n",
       "1  108.900               4  \n",
       "2   67.025               4  \n",
       "3   99.981               4  \n",
       "4   68.854               3  "
      ],
      "text/html": "<div>\n<style scoped>\n    .dataframe tbody tr th:only-of-type {\n        vertical-align: middle;\n    }\n\n    .dataframe tbody tr th {\n        vertical-align: top;\n    }\n\n    .dataframe thead th {\n        text-align: right;\n    }\n</style>\n<table border=\"1\" class=\"dataframe\">\n  <thead>\n    <tr style=\"text-align: right;\">\n      <th></th>\n      <th>name</th>\n      <th>album</th>\n      <th>artist</th>\n      <th>release_date</th>\n      <th>length</th>\n      <th>popularity</th>\n      <th>danceability</th>\n      <th>acousticness</th>\n      <th>energy</th>\n      <th>instrumentalness</th>\n      <th>liveness</th>\n      <th>loudness</th>\n      <th>speechiness</th>\n      <th>tempo</th>\n      <th>time_signature</th>\n    </tr>\n  </thead>\n  <tbody>\n    <tr>\n      <th>0</th>\n      <td>824</td>\n      <td>3157</td>\n      <td>1863</td>\n      <td>1139</td>\n      <td>150653</td>\n      <td>0</td>\n      <td>0.626</td>\n      <td>0.80700</td>\n      <td>0.5840</td>\n      <td>0.000422</td>\n      <td>0.1250</td>\n      <td>-10.317</td>\n      <td>0.0887</td>\n      <td>183.243</td>\n      <td>4</td>\n    </tr>\n    <tr>\n      <th>1</th>\n      <td>5623</td>\n      <td>396</td>\n      <td>1805</td>\n      <td>58</td>\n      <td>170813</td>\n      <td>72</td>\n      <td>0.533</td>\n      <td>0.00876</td>\n      <td>0.9050</td>\n      <td>0.578000</td>\n      <td>0.0698</td>\n      <td>-5.270</td>\n      <td>0.0754</td>\n      <td>108.900</td>\n      <td>4</td>\n    </tr>\n    <tr>\n      <th>2</th>\n      <td>7791</td>\n      <td>223</td>\n      <td>1857</td>\n      <td>229</td>\n      <td>210826</td>\n      <td>38</td>\n      <td>0.448</td>\n      <td>0.80200</td>\n      <td>0.0992</td>\n      <td>0.013800</td>\n      <td>0.1660</td>\n      <td>-23.850</td>\n      <td>0.0361</td>\n      <td>67.025</td>\n      <td>4</td>\n    </tr>\n    <tr>\n      <th>3</th>\n      <td>2925</td>\n      <td>2556</td>\n      <td>315</td>\n      <td>2270</td>\n      <td>224027</td>\n      <td>5</td>\n      <td>0.533</td>\n      <td>0.00191</td>\n      <td>0.8330</td>\n      <td>0.000000</td>\n      <td>0.0764</td>\n      <td>-6.556</td>\n      <td>0.0356</td>\n      <td>99.981</td>\n      <td>4</td>\n    </tr>\n    <tr>\n      <th>4</th>\n      <td>4388</td>\n      <td>237</td>\n      <td>1788</td>\n      <td>1075</td>\n      <td>252186</td>\n      <td>0</td>\n      <td>0.137</td>\n      <td>0.33500</td>\n      <td>0.0616</td>\n      <td>0.966000</td>\n      <td>0.1140</td>\n      <td>-21.753</td>\n      <td>0.0380</td>\n      <td>68.854</td>\n      <td>3</td>\n    </tr>\n  </tbody>\n</table>\n</div>"
     },
     "metadata": {},
     "execution_count": 18
    }
   ],
   "source": [
    "X_train.head()"
   ]
  },
  {
   "cell_type": "code",
   "execution_count": 21,
   "metadata": {},
   "outputs": [
    {
     "output_type": "execute_result",
     "data": {
      "text/plain": [
       "0    7815\n",
       "1    7815\n",
       "Name: favorite, dtype: int64"
      ]
     },
     "metadata": {},
     "execution_count": 21
    }
   ],
   "source": [
    "# Checking if imbalance is gone\n",
    "y_train.value_counts()"
   ]
  },
  {
   "cell_type": "code",
   "execution_count": 13,
   "metadata": {},
   "outputs": [
    {
     "output_type": "execute_result",
     "data": {
      "text/plain": [
       "1    7842\n",
       "0    7788\n",
       "Name: favorite, dtype: int64"
      ]
     },
     "metadata": {},
     "execution_count": 13
    }
   ],
   "source": [
    "y_train.value_counts()"
   ]
  },
  {
   "cell_type": "code",
   "execution_count": 14,
   "metadata": {},
   "outputs": [
    {
     "output_type": "execute_result",
     "data": {
      "text/plain": [
       "0    1981\n",
       "1    1927\n",
       "Name: favorite, dtype: int64"
      ]
     },
     "metadata": {},
     "execution_count": 14
    }
   ],
   "source": [
    "y_test.value_counts()"
   ]
  },
  {
   "cell_type": "code",
   "execution_count": 13,
   "metadata": {},
   "outputs": [
    {
     "output_type": "execute_result",
     "data": {
      "text/plain": [
       "1    7816\n",
       "0    7814\n",
       "Name: favorite, dtype: int64"
      ]
     },
     "metadata": {},
     "execution_count": 13
    }
   ],
   "source": [
    "# Checking for imbalance again\n",
    "y_train.value_counts()"
   ]
  },
  {
   "cell_type": "code",
   "execution_count": 14,
   "metadata": {},
   "outputs": [
    {
     "output_type": "execute_result",
     "data": {
      "text/plain": [
       "       name  album  artist  release_date  length  popularity  danceability  \\\n",
       "10229  3406   1871    3470          2297  135640          38      0.852028   \n",
       "17353  6128   1686    2167          1892  135084          34      0.814834   \n",
       "14872  4562   1993     618          1974  174273          64      0.633099   \n",
       "11098  1160    729    2107          1938   95328          38      0.604338   \n",
       "4826   6281   5447    2437          2413  198299          61      0.789000   \n",
       "\n",
       "       acousticness    energy  instrumentalness  liveness   loudness  \\\n",
       "10229      0.174427  0.489884          0.000371  0.294738  -9.364194   \n",
       "17353      0.389966  0.409520          0.009649  0.239826 -10.613884   \n",
       "14872      0.140757  0.502026          0.000002  0.263168  -7.838800   \n",
       "11098      0.253974  0.555528          0.021466  0.235820  -9.374091   \n",
       "4826       0.513000  0.653000          0.000415  0.099200  -8.506000   \n",
       "\n",
       "       speechiness       tempo  time_signature  \n",
       "10229     0.276863  129.371900               4  \n",
       "17353     0.315841  146.424723               4  \n",
       "14872     0.403331  159.531825               4  \n",
       "11098     0.304657  119.663414               4  \n",
       "4826      0.094000  101.985000               4  "
      ],
      "text/html": "<div>\n<style scoped>\n    .dataframe tbody tr th:only-of-type {\n        vertical-align: middle;\n    }\n\n    .dataframe tbody tr th {\n        vertical-align: top;\n    }\n\n    .dataframe thead th {\n        text-align: right;\n    }\n</style>\n<table border=\"1\" class=\"dataframe\">\n  <thead>\n    <tr style=\"text-align: right;\">\n      <th></th>\n      <th>name</th>\n      <th>album</th>\n      <th>artist</th>\n      <th>release_date</th>\n      <th>length</th>\n      <th>popularity</th>\n      <th>danceability</th>\n      <th>acousticness</th>\n      <th>energy</th>\n      <th>instrumentalness</th>\n      <th>liveness</th>\n      <th>loudness</th>\n      <th>speechiness</th>\n      <th>tempo</th>\n      <th>time_signature</th>\n    </tr>\n  </thead>\n  <tbody>\n    <tr>\n      <th>10229</th>\n      <td>3406</td>\n      <td>1871</td>\n      <td>3470</td>\n      <td>2297</td>\n      <td>135640</td>\n      <td>38</td>\n      <td>0.852028</td>\n      <td>0.174427</td>\n      <td>0.489884</td>\n      <td>0.000371</td>\n      <td>0.294738</td>\n      <td>-9.364194</td>\n      <td>0.276863</td>\n      <td>129.371900</td>\n      <td>4</td>\n    </tr>\n    <tr>\n      <th>17353</th>\n      <td>6128</td>\n      <td>1686</td>\n      <td>2167</td>\n      <td>1892</td>\n      <td>135084</td>\n      <td>34</td>\n      <td>0.814834</td>\n      <td>0.389966</td>\n      <td>0.409520</td>\n      <td>0.009649</td>\n      <td>0.239826</td>\n      <td>-10.613884</td>\n      <td>0.315841</td>\n      <td>146.424723</td>\n      <td>4</td>\n    </tr>\n    <tr>\n      <th>14872</th>\n      <td>4562</td>\n      <td>1993</td>\n      <td>618</td>\n      <td>1974</td>\n      <td>174273</td>\n      <td>64</td>\n      <td>0.633099</td>\n      <td>0.140757</td>\n      <td>0.502026</td>\n      <td>0.000002</td>\n      <td>0.263168</td>\n      <td>-7.838800</td>\n      <td>0.403331</td>\n      <td>159.531825</td>\n      <td>4</td>\n    </tr>\n    <tr>\n      <th>11098</th>\n      <td>1160</td>\n      <td>729</td>\n      <td>2107</td>\n      <td>1938</td>\n      <td>95328</td>\n      <td>38</td>\n      <td>0.604338</td>\n      <td>0.253974</td>\n      <td>0.555528</td>\n      <td>0.021466</td>\n      <td>0.235820</td>\n      <td>-9.374091</td>\n      <td>0.304657</td>\n      <td>119.663414</td>\n      <td>4</td>\n    </tr>\n    <tr>\n      <th>4826</th>\n      <td>6281</td>\n      <td>5447</td>\n      <td>2437</td>\n      <td>2413</td>\n      <td>198299</td>\n      <td>61</td>\n      <td>0.789000</td>\n      <td>0.513000</td>\n      <td>0.653000</td>\n      <td>0.000415</td>\n      <td>0.099200</td>\n      <td>-8.506000</td>\n      <td>0.094000</td>\n      <td>101.985000</td>\n      <td>4</td>\n    </tr>\n  </tbody>\n</table>\n</div>"
     },
     "metadata": {},
     "execution_count": 14
    }
   ],
   "source": [
    "X_train.head()"
   ]
  },
  {
   "source": [
    "#### Testing models"
   ],
   "cell_type": "markdown",
   "metadata": {}
  },
  {
   "cell_type": "code",
   "execution_count": 15,
   "metadata": {},
   "outputs": [
    {
     "output_type": "stream",
     "name": "stdout",
     "text": [
      "0.8289648231501412\nCPU times: user 3.87 s, sys: 1.32 s, total: 5.19 s\nWall time: 1.66 s\n"
     ]
    }
   ],
   "source": [
    "%%time\n",
    "# Logistic Regression\n",
    "lr = LogisticRegression(solver='lbfgs', max_iter=400)\n",
    "lr_scores = cross_val_score(lr, X_train, y_train, cv=10, scoring=\"f1\")\n",
    "print(np.mean(lr_scores))"
   ]
  },
  {
   "cell_type": "code",
   "execution_count": 16,
   "metadata": {
    "tags": []
   },
   "outputs": [
    {
     "output_type": "execute_result",
     "data": {
      "text/plain": [
       "{'max_depth': 30}"
      ]
     },
     "metadata": {},
     "execution_count": 16
    }
   ],
   "source": [
    "# Hyperparameter optimization for Decision Tree Classifier\n",
    "parameters = {\n",
    "    'max_depth':[3, 4, 5, 6, 10, 15,20,30],\n",
    "}\n",
    "dtc = Pipeline([('CV',GridSearchCV(DecisionTreeClassifier(), parameters, cv = 5))])\n",
    "dtc.fit(X_train, y_train)\n",
    "dtc.named_steps['CV'].best_params_"
   ]
  },
  {
   "cell_type": "code",
   "execution_count": 17,
   "metadata": {},
   "outputs": [
    {
     "output_type": "stream",
     "name": "stdout",
     "text": [
      "CPU times: user 865 ms, sys: 10.9 ms, total: 876 ms\nWall time: 883 ms\n"
     ]
    },
    {
     "output_type": "execute_result",
     "data": {
      "text/plain": [
       "0.9650589699146167"
      ]
     },
     "metadata": {},
     "execution_count": 17
    }
   ],
   "source": [
    "%%time\n",
    "# Decision Tree Classifier\n",
    "dt = DecisionTreeClassifier(max_depth=5)\n",
    "dt_scores = cross_val_score(dt, X_train, y_train, cv=10, scoring=\"f1\")\n",
    "np.mean(dt_scores)"
   ]
  },
  {
   "cell_type": "code",
   "execution_count": 18,
   "metadata": {},
   "outputs": [
    {
     "output_type": "stream",
     "name": "stdout",
     "text": [
      "CPU times: user 25.5 s, sys: 211 ms, total: 25.7 s\nWall time: 25.8 s\n"
     ]
    },
    {
     "output_type": "execute_result",
     "data": {
      "text/plain": [
       "{'max_depth': 20, 'n_estimators': 30}"
      ]
     },
     "metadata": {},
     "execution_count": 18
    }
   ],
   "source": [
    "%%time\n",
    "# Hyperparameter optimization of RandomForestClassifier\n",
    "parameters = {\n",
    "    'max_depth':[3, 6,12,15,20],\n",
    "    'n_estimators':[10, 20,30]\n",
    "}\n",
    "clf = Pipeline([('CV',GridSearchCV(RandomForestClassifier(), parameters, cv = 5))])\n",
    "clf.fit(X_train, y_train)\n",
    "clf.named_steps['CV'].best_params_"
   ]
  },
  {
   "cell_type": "code",
   "execution_count": 19,
   "metadata": {},
   "outputs": [
    {
     "output_type": "stream",
     "name": "stdout",
     "text": [
      "CPU times: user 7.58 s, sys: 47.5 ms, total: 7.63 s\nWall time: 7.65 s\n"
     ]
    },
    {
     "output_type": "execute_result",
     "data": {
      "text/plain": [
       "0.9987871626850143"
      ]
     },
     "metadata": {},
     "execution_count": 19
    }
   ],
   "source": [
    "%%time\n",
    "# RandomForestClassifier\n",
    "rf = Pipeline([('rf', RandomForestClassifier(n_estimators = 30, max_depth = 20))])\n",
    "rf_scores = cross_val_score(rf, X_train, y_train, cv=10, scoring=\"f1\")\n",
    "np.mean(rf_scores)"
   ]
  },
  {
   "source": [
    "Since the RandomForestClassifier has the highest accuracy, I will use it to recommend songs."
   ],
   "cell_type": "markdown",
   "metadata": {}
  },
  {
   "source": [
    "### Using algorithm on test data"
   ],
   "cell_type": "markdown",
   "metadata": {}
  },
  {
   "cell_type": "code",
   "execution_count": 20,
   "metadata": {},
   "outputs": [
    {
     "output_type": "execute_result",
     "data": {
      "text/plain": [
       "0    1955\n",
       "1    1953\n",
       "Name: favorite, dtype: int64"
      ]
     },
     "metadata": {},
     "execution_count": 20
    }
   ],
   "source": [
    "# Checking for imabalance\n",
    "y_test.value_counts()"
   ]
  },
  {
   "cell_type": "code",
   "execution_count": 21,
   "metadata": {},
   "outputs": [
    {
     "output_type": "execute_result",
     "data": {
      "text/plain": [
       "0.9961714954306162"
      ]
     },
     "metadata": {},
     "execution_count": 21
    }
   ],
   "source": [
    "rf_test_scores = cross_val_score(rf, X_test, y_test, cv=10, scoring=\"f1\")\n",
    "np.mean(rf_test_scores)"
   ]
  },
  {
   "cell_type": "code",
   "execution_count": 22,
   "metadata": {},
   "outputs": [
    {
     "output_type": "execute_result",
     "data": {
      "text/plain": [
       "0.9987205731832139"
      ]
     },
     "metadata": {},
     "execution_count": 22
    }
   ],
   "source": [
    "# Building a pipeline to use on regular data\n",
    "from sklearn.pipeline import make_pipeline\n",
    "from sklearn.preprocessing import StandardScaler\n",
    "\n",
    "pipe = make_pipeline(StandardScaler(), RandomForestClassifier(n_estimators = 30, max_depth = 20))\n",
    "pipe.fit(X_train, y_train)  # apply scaling on training data\n",
    "# pipe.set_params(logisticrergession__n_estimators=30)\n",
    "Pipeline(steps=[('standardscaler', StandardScaler()),\n",
    "                ('rf', RandomForestClassifier(n_estimators = 30, max_depth = 20))])\n",
    "pipe.score(X_test, y_test)"
   ]
  },
  {
   "cell_type": "code",
   "execution_count": 32,
   "metadata": {},
   "outputs": [
    {
     "output_type": "execute_result",
     "data": {
      "text/plain": [
       "(19538, 16)"
      ]
     },
     "metadata": {},
     "execution_count": 32
    }
   ],
   "source": [
    "X.shape"
   ]
  },
  {
   "cell_type": "code",
   "execution_count": 30,
   "metadata": {},
   "outputs": [
    {
     "output_type": "execute_result",
     "data": {
      "text/plain": [
       "19538"
      ]
     },
     "metadata": {},
     "execution_count": 30
    }
   ],
   "source": [
    "len(pipe.predict(X.drop(['favorite'], axis=1)))"
   ]
  },
  {
   "source": [
    "## Predicting songs and saving to dataset"
   ],
   "cell_type": "markdown",
   "metadata": {}
  },
  {
   "cell_type": "code",
   "execution_count": 33,
   "metadata": {},
   "outputs": [
    {
     "output_type": "error",
     "ename": "ValueError",
     "evalue": "Length of values (19538) does not match length of index (9819)",
     "traceback": [
      "\u001b[0;31m---------------------------------------------------------------------------\u001b[0m",
      "\u001b[0;31mValueError\u001b[0m                                Traceback (most recent call last)",
      "\u001b[0;32m<ipython-input-33-053bec0a42ce>\u001b[0m in \u001b[0;36m<module>\u001b[0;34m\u001b[0m\n\u001b[1;32m      1\u001b[0m \u001b[0mprediction\u001b[0m \u001b[0;34m=\u001b[0m \u001b[0mpipe\u001b[0m\u001b[0;34m.\u001b[0m\u001b[0mpredict\u001b[0m\u001b[0;34m(\u001b[0m\u001b[0mX\u001b[0m\u001b[0;34m.\u001b[0m\u001b[0mdrop\u001b[0m\u001b[0;34m(\u001b[0m\u001b[0;34m[\u001b[0m\u001b[0;34m'favorite'\u001b[0m\u001b[0;34m]\u001b[0m\u001b[0;34m,\u001b[0m \u001b[0maxis\u001b[0m\u001b[0;34m=\u001b[0m\u001b[0;36m1\u001b[0m\u001b[0;34m)\u001b[0m\u001b[0;34m)\u001b[0m\u001b[0;34m\u001b[0m\u001b[0;34m\u001b[0m\u001b[0m\n\u001b[0;32m----> 2\u001b[0;31m \u001b[0mdf\u001b[0m\u001b[0;34m[\u001b[0m\u001b[0;34m'prediction'\u001b[0m\u001b[0;34m]\u001b[0m \u001b[0;34m=\u001b[0m \u001b[0mprediction\u001b[0m\u001b[0;34m\u001b[0m\u001b[0;34m\u001b[0m\u001b[0m\n\u001b[0m",
      "\u001b[0;32m~/opt/anaconda3/envs/spotify_recommender/lib/python3.9/site-packages/pandas/core/frame.py\u001b[0m in \u001b[0;36m__setitem__\u001b[0;34m(self, key, value)\u001b[0m\n\u001b[1;32m   3161\u001b[0m         \u001b[0;32melse\u001b[0m\u001b[0;34m:\u001b[0m\u001b[0;34m\u001b[0m\u001b[0;34m\u001b[0m\u001b[0m\n\u001b[1;32m   3162\u001b[0m             \u001b[0;31m# set column\u001b[0m\u001b[0;34m\u001b[0m\u001b[0;34m\u001b[0m\u001b[0;34m\u001b[0m\u001b[0m\n\u001b[0;32m-> 3163\u001b[0;31m             \u001b[0mself\u001b[0m\u001b[0;34m.\u001b[0m\u001b[0m_set_item\u001b[0m\u001b[0;34m(\u001b[0m\u001b[0mkey\u001b[0m\u001b[0;34m,\u001b[0m \u001b[0mvalue\u001b[0m\u001b[0;34m)\u001b[0m\u001b[0;34m\u001b[0m\u001b[0;34m\u001b[0m\u001b[0m\n\u001b[0m\u001b[1;32m   3164\u001b[0m \u001b[0;34m\u001b[0m\u001b[0m\n\u001b[1;32m   3165\u001b[0m     \u001b[0;32mdef\u001b[0m \u001b[0m_setitem_slice\u001b[0m\u001b[0;34m(\u001b[0m\u001b[0mself\u001b[0m\u001b[0;34m,\u001b[0m \u001b[0mkey\u001b[0m\u001b[0;34m:\u001b[0m \u001b[0mslice\u001b[0m\u001b[0;34m,\u001b[0m \u001b[0mvalue\u001b[0m\u001b[0;34m)\u001b[0m\u001b[0;34m:\u001b[0m\u001b[0;34m\u001b[0m\u001b[0;34m\u001b[0m\u001b[0m\n",
      "\u001b[0;32m~/opt/anaconda3/envs/spotify_recommender/lib/python3.9/site-packages/pandas/core/frame.py\u001b[0m in \u001b[0;36m_set_item\u001b[0;34m(self, key, value)\u001b[0m\n\u001b[1;32m   3240\u001b[0m         \"\"\"\n\u001b[1;32m   3241\u001b[0m         \u001b[0mself\u001b[0m\u001b[0;34m.\u001b[0m\u001b[0m_ensure_valid_index\u001b[0m\u001b[0;34m(\u001b[0m\u001b[0mvalue\u001b[0m\u001b[0;34m)\u001b[0m\u001b[0;34m\u001b[0m\u001b[0;34m\u001b[0m\u001b[0m\n\u001b[0;32m-> 3242\u001b[0;31m         \u001b[0mvalue\u001b[0m \u001b[0;34m=\u001b[0m \u001b[0mself\u001b[0m\u001b[0;34m.\u001b[0m\u001b[0m_sanitize_column\u001b[0m\u001b[0;34m(\u001b[0m\u001b[0mkey\u001b[0m\u001b[0;34m,\u001b[0m \u001b[0mvalue\u001b[0m\u001b[0;34m)\u001b[0m\u001b[0;34m\u001b[0m\u001b[0;34m\u001b[0m\u001b[0m\n\u001b[0m\u001b[1;32m   3243\u001b[0m         \u001b[0mNDFrame\u001b[0m\u001b[0;34m.\u001b[0m\u001b[0m_set_item\u001b[0m\u001b[0;34m(\u001b[0m\u001b[0mself\u001b[0m\u001b[0;34m,\u001b[0m \u001b[0mkey\u001b[0m\u001b[0;34m,\u001b[0m \u001b[0mvalue\u001b[0m\u001b[0;34m)\u001b[0m\u001b[0;34m\u001b[0m\u001b[0;34m\u001b[0m\u001b[0m\n\u001b[1;32m   3244\u001b[0m \u001b[0;34m\u001b[0m\u001b[0m\n",
      "\u001b[0;32m~/opt/anaconda3/envs/spotify_recommender/lib/python3.9/site-packages/pandas/core/frame.py\u001b[0m in \u001b[0;36m_sanitize_column\u001b[0;34m(self, key, value, broadcast)\u001b[0m\n\u001b[1;32m   3897\u001b[0m \u001b[0;34m\u001b[0m\u001b[0m\n\u001b[1;32m   3898\u001b[0m             \u001b[0;31m# turn me into an ndarray\u001b[0m\u001b[0;34m\u001b[0m\u001b[0;34m\u001b[0m\u001b[0;34m\u001b[0m\u001b[0m\n\u001b[0;32m-> 3899\u001b[0;31m             \u001b[0mvalue\u001b[0m \u001b[0;34m=\u001b[0m \u001b[0msanitize_index\u001b[0m\u001b[0;34m(\u001b[0m\u001b[0mvalue\u001b[0m\u001b[0;34m,\u001b[0m \u001b[0mself\u001b[0m\u001b[0;34m.\u001b[0m\u001b[0mindex\u001b[0m\u001b[0;34m)\u001b[0m\u001b[0;34m\u001b[0m\u001b[0;34m\u001b[0m\u001b[0m\n\u001b[0m\u001b[1;32m   3900\u001b[0m             \u001b[0;32mif\u001b[0m \u001b[0;32mnot\u001b[0m \u001b[0misinstance\u001b[0m\u001b[0;34m(\u001b[0m\u001b[0mvalue\u001b[0m\u001b[0;34m,\u001b[0m \u001b[0;34m(\u001b[0m\u001b[0mnp\u001b[0m\u001b[0;34m.\u001b[0m\u001b[0mndarray\u001b[0m\u001b[0;34m,\u001b[0m \u001b[0mIndex\u001b[0m\u001b[0;34m)\u001b[0m\u001b[0;34m)\u001b[0m\u001b[0;34m:\u001b[0m\u001b[0;34m\u001b[0m\u001b[0;34m\u001b[0m\u001b[0m\n\u001b[1;32m   3901\u001b[0m                 \u001b[0;32mif\u001b[0m \u001b[0misinstance\u001b[0m\u001b[0;34m(\u001b[0m\u001b[0mvalue\u001b[0m\u001b[0;34m,\u001b[0m \u001b[0mlist\u001b[0m\u001b[0;34m)\u001b[0m \u001b[0;32mand\u001b[0m \u001b[0mlen\u001b[0m\u001b[0;34m(\u001b[0m\u001b[0mvalue\u001b[0m\u001b[0;34m)\u001b[0m \u001b[0;34m>\u001b[0m \u001b[0;36m0\u001b[0m\u001b[0;34m:\u001b[0m\u001b[0;34m\u001b[0m\u001b[0;34m\u001b[0m\u001b[0m\n",
      "\u001b[0;32m~/opt/anaconda3/envs/spotify_recommender/lib/python3.9/site-packages/pandas/core/internals/construction.py\u001b[0m in \u001b[0;36msanitize_index\u001b[0;34m(data, index)\u001b[0m\n\u001b[1;32m    749\u001b[0m     \"\"\"\n\u001b[1;32m    750\u001b[0m     \u001b[0;32mif\u001b[0m \u001b[0mlen\u001b[0m\u001b[0;34m(\u001b[0m\u001b[0mdata\u001b[0m\u001b[0;34m)\u001b[0m \u001b[0;34m!=\u001b[0m \u001b[0mlen\u001b[0m\u001b[0;34m(\u001b[0m\u001b[0mindex\u001b[0m\u001b[0;34m)\u001b[0m\u001b[0;34m:\u001b[0m\u001b[0;34m\u001b[0m\u001b[0;34m\u001b[0m\u001b[0m\n\u001b[0;32m--> 751\u001b[0;31m         raise ValueError(\n\u001b[0m\u001b[1;32m    752\u001b[0m             \u001b[0;34m\"Length of values \"\u001b[0m\u001b[0;34m\u001b[0m\u001b[0;34m\u001b[0m\u001b[0m\n\u001b[1;32m    753\u001b[0m             \u001b[0;34mf\"({len(data)}) \"\u001b[0m\u001b[0;34m\u001b[0m\u001b[0;34m\u001b[0m\u001b[0m\n",
      "\u001b[0;31mValueError\u001b[0m: Length of values (19538) does not match length of index (9819)"
     ]
    }
   ],
   "source": [
    "prediction = pipe.predict(X.drop(['favorite'], axis=1))\n",
    "df['prediction'] = prediction"
   ]
  },
  {
   "source": [
    "## Building the playlist from recommended songs"
   ],
   "cell_type": "markdown",
   "metadata": {}
  },
  {
   "cell_type": "code",
   "execution_count": null,
   "metadata": {},
   "outputs": [],
   "source": [
    "def create_playlist(sp, username, playlist_name, playlist_description):\n",
    "    playlists = sp.user_playlist_create(username, playlist_name, description = playlist_description)"
   ]
  },
  {
   "cell_type": "code",
   "execution_count": null,
   "metadata": {},
   "outputs": [],
   "source": [
    "create_playlist(sp, username, 'Your New Jams', 'This playlist was created using python!')"
   ]
  },
  {
   "cell_type": "code",
   "execution_count": null,
   "metadata": {},
   "outputs": [],
   "source": [
    "def fetch_playlists(sp, username):\n",
    "    \"\"\"\n",
    "    Returns the user's playlists.\n",
    "    \"\"\"\n",
    "        \n",
    "    id = []\n",
    "    name = []\n",
    "    num_tracks = []\n",
    "    \n",
    "    # Make the API request\n",
    "    playlists = sp.user_playlists(username)\n",
    "    for playlist in playlists['items']:\n",
    "        id.append(playlist['id'])\n",
    "        name.append(playlist['name'])\n",
    "        num_tracks.append(playlist['tracks']['total'])\n",
    "\n",
    "    # Create the final df   \n",
    "    df_playlists = pd.DataFrame({\"id\":id, \"name\": name, \"#tracks\": num_tracks})\n",
    "    return df_playlists"
   ]
  },
  {
   "cell_type": "code",
   "execution_count": null,
   "metadata": {},
   "outputs": [],
   "source": [
    "fetch_playlists(sp,username).head()"
   ]
  },
  {
   "cell_type": "code",
   "execution_count": null,
   "metadata": {},
   "outputs": [],
   "source": [
    "playlist_id = fetch_playlists(sp,username)['id'][0]"
   ]
  },
  {
   "cell_type": "code",
   "execution_count": null,
   "metadata": {},
   "outputs": [],
   "source": [
    "def enrich_playlist(sp, username, playlist_id, playlist_tracks):\n",
    "    index = 0\n",
    "    results = []\n",
    "    \n",
    "    while index < len(playlist_tracks):\n",
    "        results += sp.user_playlist_add_tracks(username, playlist_id, tracks = playlist_tracks[index:index + 50])\n",
    "        index += 50"
   ]
  },
  {
   "cell_type": "code",
   "execution_count": null,
   "metadata": {},
   "outputs": [],
   "source": [
    "list_track = df2.index\n",
    "enrich_playlist(sp, username, playlist_id, list_track)\n",
    "fetch_playlists(sp,username).head()"
   ]
  }
 ]
}