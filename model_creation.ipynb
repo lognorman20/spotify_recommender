{
 "metadata": {
  "language_info": {
   "codemirror_mode": {
    "name": "ipython",
    "version": 3
   },
   "file_extension": ".py",
   "mimetype": "text/x-python",
   "name": "python",
   "nbconvert_exporter": "python",
   "pygments_lexer": "ipython3",
   "version": "3.9.2-final"
  },
  "orig_nbformat": 2,
  "kernelspec": {
   "name": "python3",
   "display_name": "Python 3.9.2 64-bit ('spotify_recommender': conda)",
   "metadata": {
    "interpreter": {
     "hash": "2fce50c966ce3004344c1d0428fb8658cb2ec3c9dafd73e971076d9a0c6eeeea"
    }
   }
  }
 },
 "nbformat": 4,
 "nbformat_minor": 2,
 "cells": [
  {
   "cell_type": "code",
   "execution_count": 1,
   "metadata": {},
   "outputs": [],
   "source": [
    "import pandas as pd\n",
    "import numpy as np\n",
    "import seaborn as sns\n",
    "import matplotlib.pyplot as plt\n",
    "import matplotlib.ticker as plticker\n",
    "from imblearn.over_sampling import SMOTE\n",
    "%matplotlib inline"
   ]
  },
  {
   "cell_type": "code",
   "execution_count": 2,
   "metadata": {},
   "outputs": [],
   "source": [
    "# Importing playlist dataframes\n",
    "df = pd.read_csv('data/encoded_playlist_songs.csv')\n",
    "df_fav = pd.read_csv('data/favorite_songs.csv')"
   ]
  },
  {
   "cell_type": "code",
   "execution_count": 3,
   "metadata": {},
   "outputs": [
    {
     "output_type": "stream",
     "name": "stdout",
     "text": [
      "<class 'pandas.core.frame.DataFrame'>\nRangeIndex: 9769 entries, 0 to 9768\nData columns (total 17 columns):\n #   Column            Non-Null Count  Dtype  \n---  ------            --------------  -----  \n 0   track_id          9769 non-null   object \n 1   name              9769 non-null   int64  \n 2   album             9769 non-null   int64  \n 3   artist            9769 non-null   int64  \n 4   release_date      9769 non-null   int64  \n 5   length            9769 non-null   int64  \n 6   popularity        9769 non-null   int64  \n 7   danceability      9769 non-null   float64\n 8   acousticness      9769 non-null   float64\n 9   energy            9769 non-null   float64\n 10  instrumentalness  9769 non-null   float64\n 11  liveness          9769 non-null   float64\n 12  loudness          9769 non-null   float64\n 13  speechiness       9769 non-null   float64\n 14  tempo             9769 non-null   float64\n 15  time_signature    9769 non-null   int64  \n 16  favorite          9769 non-null   int64  \ndtypes: float64(8), int64(8), object(1)\nmemory usage: 1.3+ MB\n"
     ]
    }
   ],
   "source": [
    "df.info()"
   ]
  },
  {
   "cell_type": "code",
   "execution_count": 4,
   "metadata": {},
   "outputs": [
    {
     "output_type": "stream",
     "name": "stdout",
     "text": [
      "<class 'pandas.core.frame.DataFrame'>\nRangeIndex: 50 entries, 0 to 49\nData columns (total 17 columns):\n #   Column            Non-Null Count  Dtype  \n---  ------            --------------  -----  \n 0   track_id          50 non-null     object \n 1   name              50 non-null     int64  \n 2   album             50 non-null     int64  \n 3   artist            50 non-null     int64  \n 4   release_date      50 non-null     int64  \n 5   length            50 non-null     int64  \n 6   popularity        50 non-null     int64  \n 7   danceability      50 non-null     float64\n 8   acousticness      50 non-null     float64\n 9   energy            50 non-null     float64\n 10  instrumentalness  50 non-null     float64\n 11  liveness          50 non-null     float64\n 12  loudness          50 non-null     float64\n 13  speechiness       50 non-null     float64\n 14  tempo             50 non-null     float64\n 15  time_signature    50 non-null     int64  \n 16  favorite          50 non-null     int64  \ndtypes: float64(8), int64(8), object(1)\nmemory usage: 6.8+ KB\n"
     ]
    }
   ],
   "source": [
    "df_fav.info()"
   ]
  },
  {
   "source": [
    "### Preparing data for model"
   ],
   "cell_type": "markdown",
   "metadata": {}
  },
  {
   "cell_type": "code",
   "execution_count": 5,
   "metadata": {},
   "outputs": [
    {
     "output_type": "execute_result",
     "data": {
      "text/plain": [
       "(9819, 17)"
      ]
     },
     "metadata": {},
     "execution_count": 5
    }
   ],
   "source": [
    "df = pd.concat([df, df_fav], axis=0)\n",
    "df.shape"
   ]
  },
  {
   "cell_type": "code",
   "execution_count": 6,
   "metadata": {},
   "outputs": [
    {
     "output_type": "execute_result",
     "data": {
      "text/plain": [
       "                 track_id  name  album  artist  release_date  length  \\\n",
       "0  7MAibcTli4IisCtbHKrGMh  4008   3340     581          2524  242096   \n",
       "1  5QO79kh1waicV47BqGRL3g  6038    212    3746          2293  215626   \n",
       "2  1diS6nkxMQc3wwC4G1j0bh  8118   2222    1091          2505  165506   \n",
       "3  4u4NyuceXP7Uzh7XFJKCr1  3096   2743    1917          2524  170813   \n",
       "4  3Ofmpyhv5UAQ70mENzB277   542    433    2439          2478  132780   \n",
       "\n",
       "   popularity  danceability  acousticness  energy  instrumentalness  liveness  \\\n",
       "0          90         0.586        0.1820   0.616          0.000000    0.0927   \n",
       "1          97         0.680        0.0212   0.826          0.000012    0.5430   \n",
       "2          88         0.722        0.0319   0.588          0.000000    0.1830   \n",
       "3          89         0.658        0.0106   0.634          0.000000    0.1320   \n",
       "4          94         0.778        0.1750   0.695          0.000000    0.1500   \n",
       "\n",
       "   loudness  speechiness    tempo  time_signature  favorite  \n",
       "0    -7.964       0.0324  148.088               4         0  \n",
       "1    -5.487       0.0309  118.051               4         0  \n",
       "2    -5.932       0.0544  134.010               4         0  \n",
       "3    -5.797       0.0413  139.980               4         0  \n",
       "4    -6.865       0.0913  149.996               4         0  "
      ],
      "text/html": "<div>\n<style scoped>\n    .dataframe tbody tr th:only-of-type {\n        vertical-align: middle;\n    }\n\n    .dataframe tbody tr th {\n        vertical-align: top;\n    }\n\n    .dataframe thead th {\n        text-align: right;\n    }\n</style>\n<table border=\"1\" class=\"dataframe\">\n  <thead>\n    <tr style=\"text-align: right;\">\n      <th></th>\n      <th>track_id</th>\n      <th>name</th>\n      <th>album</th>\n      <th>artist</th>\n      <th>release_date</th>\n      <th>length</th>\n      <th>popularity</th>\n      <th>danceability</th>\n      <th>acousticness</th>\n      <th>energy</th>\n      <th>instrumentalness</th>\n      <th>liveness</th>\n      <th>loudness</th>\n      <th>speechiness</th>\n      <th>tempo</th>\n      <th>time_signature</th>\n      <th>favorite</th>\n    </tr>\n  </thead>\n  <tbody>\n    <tr>\n      <th>0</th>\n      <td>7MAibcTli4IisCtbHKrGMh</td>\n      <td>4008</td>\n      <td>3340</td>\n      <td>581</td>\n      <td>2524</td>\n      <td>242096</td>\n      <td>90</td>\n      <td>0.586</td>\n      <td>0.1820</td>\n      <td>0.616</td>\n      <td>0.000000</td>\n      <td>0.0927</td>\n      <td>-7.964</td>\n      <td>0.0324</td>\n      <td>148.088</td>\n      <td>4</td>\n      <td>0</td>\n    </tr>\n    <tr>\n      <th>1</th>\n      <td>5QO79kh1waicV47BqGRL3g</td>\n      <td>6038</td>\n      <td>212</td>\n      <td>3746</td>\n      <td>2293</td>\n      <td>215626</td>\n      <td>97</td>\n      <td>0.680</td>\n      <td>0.0212</td>\n      <td>0.826</td>\n      <td>0.000012</td>\n      <td>0.5430</td>\n      <td>-5.487</td>\n      <td>0.0309</td>\n      <td>118.051</td>\n      <td>4</td>\n      <td>0</td>\n    </tr>\n    <tr>\n      <th>2</th>\n      <td>1diS6nkxMQc3wwC4G1j0bh</td>\n      <td>8118</td>\n      <td>2222</td>\n      <td>1091</td>\n      <td>2505</td>\n      <td>165506</td>\n      <td>88</td>\n      <td>0.722</td>\n      <td>0.0319</td>\n      <td>0.588</td>\n      <td>0.000000</td>\n      <td>0.1830</td>\n      <td>-5.932</td>\n      <td>0.0544</td>\n      <td>134.010</td>\n      <td>4</td>\n      <td>0</td>\n    </tr>\n    <tr>\n      <th>3</th>\n      <td>4u4NyuceXP7Uzh7XFJKCr1</td>\n      <td>3096</td>\n      <td>2743</td>\n      <td>1917</td>\n      <td>2524</td>\n      <td>170813</td>\n      <td>89</td>\n      <td>0.658</td>\n      <td>0.0106</td>\n      <td>0.634</td>\n      <td>0.000000</td>\n      <td>0.1320</td>\n      <td>-5.797</td>\n      <td>0.0413</td>\n      <td>139.980</td>\n      <td>4</td>\n      <td>0</td>\n    </tr>\n    <tr>\n      <th>4</th>\n      <td>3Ofmpyhv5UAQ70mENzB277</td>\n      <td>542</td>\n      <td>433</td>\n      <td>2439</td>\n      <td>2478</td>\n      <td>132780</td>\n      <td>94</td>\n      <td>0.778</td>\n      <td>0.1750</td>\n      <td>0.695</td>\n      <td>0.000000</td>\n      <td>0.1500</td>\n      <td>-6.865</td>\n      <td>0.0913</td>\n      <td>149.996</td>\n      <td>4</td>\n      <td>0</td>\n    </tr>\n  </tbody>\n</table>\n</div>"
     },
     "metadata": {},
     "execution_count": 6
    }
   ],
   "source": [
    "df.head()"
   ]
  },
  {
   "cell_type": "code",
   "execution_count": 7,
   "metadata": {},
   "outputs": [
    {
     "output_type": "execute_result",
     "data": {
      "text/plain": [
       "0    9769\n",
       "1      50\n",
       "Name: favorite, dtype: int64"
      ]
     },
     "metadata": {},
     "execution_count": 7
    }
   ],
   "source": [
    "df['favorite'].value_counts()"
   ]
  },
  {
   "source": [
    "### Model Selection & Hyperparameter Tuning"
   ],
   "cell_type": "markdown",
   "metadata": {}
  },
  {
   "cell_type": "code",
   "execution_count": 8,
   "metadata": {},
   "outputs": [],
   "source": [
    "# Importing required libraries\n",
    "import sklearn\n",
    "from sklearn.pipeline import Pipeline\n",
    "from sklearn.model_selection import cross_val_score\n",
    "from sklearn.model_selection import train_test_split\n",
    "from sklearn.model_selection import GridSearchCV\n",
    "from sklearn import metrics \n",
    "from sklearn.metrics import f1_score\n",
    "# Models\n",
    "from sklearn.ensemble import RandomForestClassifier\n",
    "from sklearn.linear_model import LogisticRegression \n",
    "from sklearn.tree import DecisionTreeClassifier"
   ]
  },
  {
   "cell_type": "code",
   "execution_count": 9,
   "metadata": {},
   "outputs": [],
   "source": [
    "# Shuffle your dataset \n",
    "shuffle_df = df.sample(frac=1)\n",
    "\n",
    "# Define a size for your train set \n",
    "train_size = int(0.8 * len(df))\n",
    "\n",
    "# Split dataset \n",
    "train_set = shuffle_df[:train_size]\n",
    "test_set = shuffle_df[train_size:]"
   ]
  },
  {
   "cell_type": "code",
   "execution_count": 10,
   "metadata": {},
   "outputs": [
    {
     "output_type": "execute_result",
     "data": {
      "text/plain": [
       "                    track_id  name  album  artist  release_date  length  \\\n",
       "3071  6nlA3j4n3KAY8AgEGmos2o  4078   3383    3699          1881  230738   \n",
       "4973  5BEfxZNZZa4wN6mlz4LH4U  3071   6960    3974          2211  241838   \n",
       "1916  4bPQs0PHn4xbipzdPfn6du  3382    132    2855          1009  186634   \n",
       "4902  2rkVoKVEMuct8SmEIGKzBw   764    861     482           447  299800   \n",
       "3380  1vbtH9ZIuGzTMtcl45QVg9  6362   5525    4155          2454  322813   \n",
       "\n",
       "      popularity  danceability  acousticness  energy  instrumentalness  \\\n",
       "3071          51         0.606       0.14200   0.781           0.00803   \n",
       "4973          42         0.383       0.62600   0.478           0.00000   \n",
       "1916          75         0.569       0.08070   0.830           0.00000   \n",
       "4902          58         0.670       0.32500   0.468           0.00000   \n",
       "3380          41         0.261       0.00012   0.860           0.01540   \n",
       "\n",
       "      liveness  loudness  speechiness    tempo  time_signature  favorite  \n",
       "3071    0.0734    -5.846       0.0703  170.007               4         0  \n",
       "4973    0.1550    -6.687       0.0428   98.153               4         0  \n",
       "1916    0.1140    -4.106       0.1400  170.094               4         0  \n",
       "4902    0.0516    -6.725       0.0328  140.069               4         0  \n",
       "3380    0.1500    -5.006       0.0585  159.924               4         0  "
      ],
      "text/html": "<div>\n<style scoped>\n    .dataframe tbody tr th:only-of-type {\n        vertical-align: middle;\n    }\n\n    .dataframe tbody tr th {\n        vertical-align: top;\n    }\n\n    .dataframe thead th {\n        text-align: right;\n    }\n</style>\n<table border=\"1\" class=\"dataframe\">\n  <thead>\n    <tr style=\"text-align: right;\">\n      <th></th>\n      <th>track_id</th>\n      <th>name</th>\n      <th>album</th>\n      <th>artist</th>\n      <th>release_date</th>\n      <th>length</th>\n      <th>popularity</th>\n      <th>danceability</th>\n      <th>acousticness</th>\n      <th>energy</th>\n      <th>instrumentalness</th>\n      <th>liveness</th>\n      <th>loudness</th>\n      <th>speechiness</th>\n      <th>tempo</th>\n      <th>time_signature</th>\n      <th>favorite</th>\n    </tr>\n  </thead>\n  <tbody>\n    <tr>\n      <th>3071</th>\n      <td>6nlA3j4n3KAY8AgEGmos2o</td>\n      <td>4078</td>\n      <td>3383</td>\n      <td>3699</td>\n      <td>1881</td>\n      <td>230738</td>\n      <td>51</td>\n      <td>0.606</td>\n      <td>0.14200</td>\n      <td>0.781</td>\n      <td>0.00803</td>\n      <td>0.0734</td>\n      <td>-5.846</td>\n      <td>0.0703</td>\n      <td>170.007</td>\n      <td>4</td>\n      <td>0</td>\n    </tr>\n    <tr>\n      <th>4973</th>\n      <td>5BEfxZNZZa4wN6mlz4LH4U</td>\n      <td>3071</td>\n      <td>6960</td>\n      <td>3974</td>\n      <td>2211</td>\n      <td>241838</td>\n      <td>42</td>\n      <td>0.383</td>\n      <td>0.62600</td>\n      <td>0.478</td>\n      <td>0.00000</td>\n      <td>0.1550</td>\n      <td>-6.687</td>\n      <td>0.0428</td>\n      <td>98.153</td>\n      <td>4</td>\n      <td>0</td>\n    </tr>\n    <tr>\n      <th>1916</th>\n      <td>4bPQs0PHn4xbipzdPfn6du</td>\n      <td>3382</td>\n      <td>132</td>\n      <td>2855</td>\n      <td>1009</td>\n      <td>186634</td>\n      <td>75</td>\n      <td>0.569</td>\n      <td>0.08070</td>\n      <td>0.830</td>\n      <td>0.00000</td>\n      <td>0.1140</td>\n      <td>-4.106</td>\n      <td>0.1400</td>\n      <td>170.094</td>\n      <td>4</td>\n      <td>0</td>\n    </tr>\n    <tr>\n      <th>4902</th>\n      <td>2rkVoKVEMuct8SmEIGKzBw</td>\n      <td>764</td>\n      <td>861</td>\n      <td>482</td>\n      <td>447</td>\n      <td>299800</td>\n      <td>58</td>\n      <td>0.670</td>\n      <td>0.32500</td>\n      <td>0.468</td>\n      <td>0.00000</td>\n      <td>0.0516</td>\n      <td>-6.725</td>\n      <td>0.0328</td>\n      <td>140.069</td>\n      <td>4</td>\n      <td>0</td>\n    </tr>\n    <tr>\n      <th>3380</th>\n      <td>1vbtH9ZIuGzTMtcl45QVg9</td>\n      <td>6362</td>\n      <td>5525</td>\n      <td>4155</td>\n      <td>2454</td>\n      <td>322813</td>\n      <td>41</td>\n      <td>0.261</td>\n      <td>0.00012</td>\n      <td>0.860</td>\n      <td>0.01540</td>\n      <td>0.1500</td>\n      <td>-5.006</td>\n      <td>0.0585</td>\n      <td>159.924</td>\n      <td>4</td>\n      <td>0</td>\n    </tr>\n  </tbody>\n</table>\n</div>"
     },
     "metadata": {},
     "execution_count": 10
    }
   ],
   "source": [
    "train_set.head()"
   ]
  },
  {
   "cell_type": "code",
   "execution_count": 11,
   "metadata": {},
   "outputs": [
    {
     "output_type": "execute_result",
     "data": {
      "text/plain": [
       "      name  album  artist  release_date  length  popularity  danceability  \\\n",
       "3071  4078   3383    3699          1881  230738          51         0.606   \n",
       "4973  3071   6960    3974          2211  241838          42         0.383   \n",
       "1916  3382    132    2855          1009  186634          75         0.569   \n",
       "4902   764    861     482           447  299800          58         0.670   \n",
       "3380  6362   5525    4155          2454  322813          41         0.261   \n",
       "\n",
       "      acousticness  energy  instrumentalness  liveness  loudness  speechiness  \\\n",
       "3071       0.14200   0.781           0.00803    0.0734    -5.846       0.0703   \n",
       "4973       0.62600   0.478           0.00000    0.1550    -6.687       0.0428   \n",
       "1916       0.08070   0.830           0.00000    0.1140    -4.106       0.1400   \n",
       "4902       0.32500   0.468           0.00000    0.0516    -6.725       0.0328   \n",
       "3380       0.00012   0.860           0.01540    0.1500    -5.006       0.0585   \n",
       "\n",
       "        tempo  time_signature  \n",
       "3071  170.007               4  \n",
       "4973   98.153               4  \n",
       "1916  170.094               4  \n",
       "4902  140.069               4  \n",
       "3380  159.924               4  "
      ],
      "text/html": "<div>\n<style scoped>\n    .dataframe tbody tr th:only-of-type {\n        vertical-align: middle;\n    }\n\n    .dataframe tbody tr th {\n        vertical-align: top;\n    }\n\n    .dataframe thead th {\n        text-align: right;\n    }\n</style>\n<table border=\"1\" class=\"dataframe\">\n  <thead>\n    <tr style=\"text-align: right;\">\n      <th></th>\n      <th>name</th>\n      <th>album</th>\n      <th>artist</th>\n      <th>release_date</th>\n      <th>length</th>\n      <th>popularity</th>\n      <th>danceability</th>\n      <th>acousticness</th>\n      <th>energy</th>\n      <th>instrumentalness</th>\n      <th>liveness</th>\n      <th>loudness</th>\n      <th>speechiness</th>\n      <th>tempo</th>\n      <th>time_signature</th>\n    </tr>\n  </thead>\n  <tbody>\n    <tr>\n      <th>3071</th>\n      <td>4078</td>\n      <td>3383</td>\n      <td>3699</td>\n      <td>1881</td>\n      <td>230738</td>\n      <td>51</td>\n      <td>0.606</td>\n      <td>0.14200</td>\n      <td>0.781</td>\n      <td>0.00803</td>\n      <td>0.0734</td>\n      <td>-5.846</td>\n      <td>0.0703</td>\n      <td>170.007</td>\n      <td>4</td>\n    </tr>\n    <tr>\n      <th>4973</th>\n      <td>3071</td>\n      <td>6960</td>\n      <td>3974</td>\n      <td>2211</td>\n      <td>241838</td>\n      <td>42</td>\n      <td>0.383</td>\n      <td>0.62600</td>\n      <td>0.478</td>\n      <td>0.00000</td>\n      <td>0.1550</td>\n      <td>-6.687</td>\n      <td>0.0428</td>\n      <td>98.153</td>\n      <td>4</td>\n    </tr>\n    <tr>\n      <th>1916</th>\n      <td>3382</td>\n      <td>132</td>\n      <td>2855</td>\n      <td>1009</td>\n      <td>186634</td>\n      <td>75</td>\n      <td>0.569</td>\n      <td>0.08070</td>\n      <td>0.830</td>\n      <td>0.00000</td>\n      <td>0.1140</td>\n      <td>-4.106</td>\n      <td>0.1400</td>\n      <td>170.094</td>\n      <td>4</td>\n    </tr>\n    <tr>\n      <th>4902</th>\n      <td>764</td>\n      <td>861</td>\n      <td>482</td>\n      <td>447</td>\n      <td>299800</td>\n      <td>58</td>\n      <td>0.670</td>\n      <td>0.32500</td>\n      <td>0.468</td>\n      <td>0.00000</td>\n      <td>0.0516</td>\n      <td>-6.725</td>\n      <td>0.0328</td>\n      <td>140.069</td>\n      <td>4</td>\n    </tr>\n    <tr>\n      <th>3380</th>\n      <td>6362</td>\n      <td>5525</td>\n      <td>4155</td>\n      <td>2454</td>\n      <td>322813</td>\n      <td>41</td>\n      <td>0.261</td>\n      <td>0.00012</td>\n      <td>0.860</td>\n      <td>0.01540</td>\n      <td>0.1500</td>\n      <td>-5.006</td>\n      <td>0.0585</td>\n      <td>159.924</td>\n      <td>4</td>\n    </tr>\n  </tbody>\n</table>\n</div>"
     },
     "metadata": {},
     "execution_count": 11
    }
   ],
   "source": [
    "X = train_set.drop(columns=['favorite', 'track_id'])\n",
    "y = train_set.favorite\n",
    "\n",
    "X.head()"
   ]
  },
  {
   "cell_type": "code",
   "execution_count": 12,
   "metadata": {},
   "outputs": [
    {
     "output_type": "execute_result",
     "data": {
      "text/plain": [
       "0    7813\n",
       "1      42\n",
       "Name: favorite, dtype: int64"
      ]
     },
     "metadata": {},
     "execution_count": 12
    }
   ],
   "source": [
    "# Checking for imbalance\n",
    "y.value_counts()"
   ]
  },
  {
   "cell_type": "code",
   "execution_count": 13,
   "metadata": {},
   "outputs": [],
   "source": [
    "# Train / Split Data\n",
    "oversample = SMOTE()\n",
    "X_train, y_train = oversample.fit_resample(X, y) "
   ]
  },
  {
   "cell_type": "code",
   "execution_count": 14,
   "metadata": {},
   "outputs": [
    {
     "output_type": "execute_result",
     "data": {
      "text/plain": [
       "   name  album  artist  release_date  length  popularity  danceability  \\\n",
       "0  4078   3383    3699          1881  230738          51         0.606   \n",
       "1  3071   6960    3974          2211  241838          42         0.383   \n",
       "2  3382    132    2855          1009  186634          75         0.569   \n",
       "3   764    861     482           447  299800          58         0.670   \n",
       "4  6362   5525    4155          2454  322813          41         0.261   \n",
       "\n",
       "   acousticness  energy  instrumentalness  liveness  loudness  speechiness  \\\n",
       "0       0.14200   0.781           0.00803    0.0734    -5.846       0.0703   \n",
       "1       0.62600   0.478           0.00000    0.1550    -6.687       0.0428   \n",
       "2       0.08070   0.830           0.00000    0.1140    -4.106       0.1400   \n",
       "3       0.32500   0.468           0.00000    0.0516    -6.725       0.0328   \n",
       "4       0.00012   0.860           0.01540    0.1500    -5.006       0.0585   \n",
       "\n",
       "     tempo  time_signature  \n",
       "0  170.007               4  \n",
       "1   98.153               4  \n",
       "2  170.094               4  \n",
       "3  140.069               4  \n",
       "4  159.924               4  "
      ],
      "text/html": "<div>\n<style scoped>\n    .dataframe tbody tr th:only-of-type {\n        vertical-align: middle;\n    }\n\n    .dataframe tbody tr th {\n        vertical-align: top;\n    }\n\n    .dataframe thead th {\n        text-align: right;\n    }\n</style>\n<table border=\"1\" class=\"dataframe\">\n  <thead>\n    <tr style=\"text-align: right;\">\n      <th></th>\n      <th>name</th>\n      <th>album</th>\n      <th>artist</th>\n      <th>release_date</th>\n      <th>length</th>\n      <th>popularity</th>\n      <th>danceability</th>\n      <th>acousticness</th>\n      <th>energy</th>\n      <th>instrumentalness</th>\n      <th>liveness</th>\n      <th>loudness</th>\n      <th>speechiness</th>\n      <th>tempo</th>\n      <th>time_signature</th>\n    </tr>\n  </thead>\n  <tbody>\n    <tr>\n      <th>0</th>\n      <td>4078</td>\n      <td>3383</td>\n      <td>3699</td>\n      <td>1881</td>\n      <td>230738</td>\n      <td>51</td>\n      <td>0.606</td>\n      <td>0.14200</td>\n      <td>0.781</td>\n      <td>0.00803</td>\n      <td>0.0734</td>\n      <td>-5.846</td>\n      <td>0.0703</td>\n      <td>170.007</td>\n      <td>4</td>\n    </tr>\n    <tr>\n      <th>1</th>\n      <td>3071</td>\n      <td>6960</td>\n      <td>3974</td>\n      <td>2211</td>\n      <td>241838</td>\n      <td>42</td>\n      <td>0.383</td>\n      <td>0.62600</td>\n      <td>0.478</td>\n      <td>0.00000</td>\n      <td>0.1550</td>\n      <td>-6.687</td>\n      <td>0.0428</td>\n      <td>98.153</td>\n      <td>4</td>\n    </tr>\n    <tr>\n      <th>2</th>\n      <td>3382</td>\n      <td>132</td>\n      <td>2855</td>\n      <td>1009</td>\n      <td>186634</td>\n      <td>75</td>\n      <td>0.569</td>\n      <td>0.08070</td>\n      <td>0.830</td>\n      <td>0.00000</td>\n      <td>0.1140</td>\n      <td>-4.106</td>\n      <td>0.1400</td>\n      <td>170.094</td>\n      <td>4</td>\n    </tr>\n    <tr>\n      <th>3</th>\n      <td>764</td>\n      <td>861</td>\n      <td>482</td>\n      <td>447</td>\n      <td>299800</td>\n      <td>58</td>\n      <td>0.670</td>\n      <td>0.32500</td>\n      <td>0.468</td>\n      <td>0.00000</td>\n      <td>0.0516</td>\n      <td>-6.725</td>\n      <td>0.0328</td>\n      <td>140.069</td>\n      <td>4</td>\n    </tr>\n    <tr>\n      <th>4</th>\n      <td>6362</td>\n      <td>5525</td>\n      <td>4155</td>\n      <td>2454</td>\n      <td>322813</td>\n      <td>41</td>\n      <td>0.261</td>\n      <td>0.00012</td>\n      <td>0.860</td>\n      <td>0.01540</td>\n      <td>0.1500</td>\n      <td>-5.006</td>\n      <td>0.0585</td>\n      <td>159.924</td>\n      <td>4</td>\n    </tr>\n  </tbody>\n</table>\n</div>"
     },
     "metadata": {},
     "execution_count": 14
    }
   ],
   "source": [
    "X_train.head()"
   ]
  },
  {
   "cell_type": "code",
   "execution_count": 15,
   "metadata": {},
   "outputs": [
    {
     "output_type": "execute_result",
     "data": {
      "text/plain": [
       "0    7813\n",
       "1    7813\n",
       "Name: favorite, dtype: int64"
      ]
     },
     "metadata": {},
     "execution_count": 15
    }
   ],
   "source": [
    "# Checking if imbalance is gone\n",
    "y_train.value_counts()"
   ]
  },
  {
   "cell_type": "code",
   "execution_count": 16,
   "metadata": {},
   "outputs": [
    {
     "output_type": "execute_result",
     "data": {
      "text/plain": [
       "                    track_id  name  album  artist  release_date  length  \\\n",
       "1801  3XiQt1q17AatYNvhyVK64S  1694   1503    3632          2524  214889   \n",
       "304   5VlTQnZO89Ioku8ssdbqJk  1689   1498     556          2399  247079   \n",
       "4914  6OLlACmD4AlW2N7CWVhVxO  6050   5210    2840          2087  212973   \n",
       "1052  6ZmLu4NAhMsuAXLkcLMBrb  3169    255      21           528  287546   \n",
       "3387  2tmWeWTmfTX2TpLnNtnUlR  2367   2044    1501          2454  225250   \n",
       "\n",
       "      popularity  danceability  acousticness  energy  instrumentalness  \\\n",
       "1801          42         0.427      0.007490   0.738           0.00012   \n",
       "304           83         0.505      0.279000   0.267           0.00000   \n",
       "4914          49         0.502      0.591000   0.409           0.00000   \n",
       "1052          60         0.763      0.034600   0.840           0.00000   \n",
       "3387          38         0.160      0.000832   0.932           0.00477   \n",
       "\n",
       "      liveness  loudness  speechiness    tempo  time_signature  favorite  \n",
       "1801    0.0755    -3.241       0.0433   88.769               4         0  \n",
       "304     0.0960   -13.763       0.0500  143.929               4         0  \n",
       "4914    0.1130    -7.581       0.0512   75.231               4         0  \n",
       "1052    0.0601    -3.704       0.0929   92.477               4         0  \n",
       "3387    0.1500    -3.419       0.0833   80.607               4         0  "
      ],
      "text/html": "<div>\n<style scoped>\n    .dataframe tbody tr th:only-of-type {\n        vertical-align: middle;\n    }\n\n    .dataframe tbody tr th {\n        vertical-align: top;\n    }\n\n    .dataframe thead th {\n        text-align: right;\n    }\n</style>\n<table border=\"1\" class=\"dataframe\">\n  <thead>\n    <tr style=\"text-align: right;\">\n      <th></th>\n      <th>track_id</th>\n      <th>name</th>\n      <th>album</th>\n      <th>artist</th>\n      <th>release_date</th>\n      <th>length</th>\n      <th>popularity</th>\n      <th>danceability</th>\n      <th>acousticness</th>\n      <th>energy</th>\n      <th>instrumentalness</th>\n      <th>liveness</th>\n      <th>loudness</th>\n      <th>speechiness</th>\n      <th>tempo</th>\n      <th>time_signature</th>\n      <th>favorite</th>\n    </tr>\n  </thead>\n  <tbody>\n    <tr>\n      <th>1801</th>\n      <td>3XiQt1q17AatYNvhyVK64S</td>\n      <td>1694</td>\n      <td>1503</td>\n      <td>3632</td>\n      <td>2524</td>\n      <td>214889</td>\n      <td>42</td>\n      <td>0.427</td>\n      <td>0.007490</td>\n      <td>0.738</td>\n      <td>0.00012</td>\n      <td>0.0755</td>\n      <td>-3.241</td>\n      <td>0.0433</td>\n      <td>88.769</td>\n      <td>4</td>\n      <td>0</td>\n    </tr>\n    <tr>\n      <th>304</th>\n      <td>5VlTQnZO89Ioku8ssdbqJk</td>\n      <td>1689</td>\n      <td>1498</td>\n      <td>556</td>\n      <td>2399</td>\n      <td>247079</td>\n      <td>83</td>\n      <td>0.505</td>\n      <td>0.279000</td>\n      <td>0.267</td>\n      <td>0.00000</td>\n      <td>0.0960</td>\n      <td>-13.763</td>\n      <td>0.0500</td>\n      <td>143.929</td>\n      <td>4</td>\n      <td>0</td>\n    </tr>\n    <tr>\n      <th>4914</th>\n      <td>6OLlACmD4AlW2N7CWVhVxO</td>\n      <td>6050</td>\n      <td>5210</td>\n      <td>2840</td>\n      <td>2087</td>\n      <td>212973</td>\n      <td>49</td>\n      <td>0.502</td>\n      <td>0.591000</td>\n      <td>0.409</td>\n      <td>0.00000</td>\n      <td>0.1130</td>\n      <td>-7.581</td>\n      <td>0.0512</td>\n      <td>75.231</td>\n      <td>4</td>\n      <td>0</td>\n    </tr>\n    <tr>\n      <th>1052</th>\n      <td>6ZmLu4NAhMsuAXLkcLMBrb</td>\n      <td>3169</td>\n      <td>255</td>\n      <td>21</td>\n      <td>528</td>\n      <td>287546</td>\n      <td>60</td>\n      <td>0.763</td>\n      <td>0.034600</td>\n      <td>0.840</td>\n      <td>0.00000</td>\n      <td>0.0601</td>\n      <td>-3.704</td>\n      <td>0.0929</td>\n      <td>92.477</td>\n      <td>4</td>\n      <td>0</td>\n    </tr>\n    <tr>\n      <th>3387</th>\n      <td>2tmWeWTmfTX2TpLnNtnUlR</td>\n      <td>2367</td>\n      <td>2044</td>\n      <td>1501</td>\n      <td>2454</td>\n      <td>225250</td>\n      <td>38</td>\n      <td>0.160</td>\n      <td>0.000832</td>\n      <td>0.932</td>\n      <td>0.00477</td>\n      <td>0.1500</td>\n      <td>-3.419</td>\n      <td>0.0833</td>\n      <td>80.607</td>\n      <td>4</td>\n      <td>0</td>\n    </tr>\n  </tbody>\n</table>\n</div>"
     },
     "metadata": {},
     "execution_count": 16
    }
   ],
   "source": [
    "test_set.head()"
   ]
  },
  {
   "cell_type": "code",
   "execution_count": 17,
   "metadata": {},
   "outputs": [],
   "source": [
    "X_test = test_set.drop(columns=['favorite', 'track_id'])\n",
    "y_test = test_set['favorite']"
   ]
  },
  {
   "cell_type": "code",
   "execution_count": 18,
   "metadata": {},
   "outputs": [
    {
     "output_type": "execute_result",
     "data": {
      "text/plain": [
       "      name  album  artist  release_date  length  popularity  danceability  \\\n",
       "1801  1694   1503    3632          2524  214889          42         0.427   \n",
       "304   1689   1498     556          2399  247079          83         0.505   \n",
       "4914  6050   5210    2840          2087  212973          49         0.502   \n",
       "1052  3169    255      21           528  287546          60         0.763   \n",
       "3387  2367   2044    1501          2454  225250          38         0.160   \n",
       "\n",
       "      acousticness  energy  instrumentalness  liveness  loudness  speechiness  \\\n",
       "1801      0.007490   0.738           0.00012    0.0755    -3.241       0.0433   \n",
       "304       0.279000   0.267           0.00000    0.0960   -13.763       0.0500   \n",
       "4914      0.591000   0.409           0.00000    0.1130    -7.581       0.0512   \n",
       "1052      0.034600   0.840           0.00000    0.0601    -3.704       0.0929   \n",
       "3387      0.000832   0.932           0.00477    0.1500    -3.419       0.0833   \n",
       "\n",
       "        tempo  time_signature  \n",
       "1801   88.769               4  \n",
       "304   143.929               4  \n",
       "4914   75.231               4  \n",
       "1052   92.477               4  \n",
       "3387   80.607               4  "
      ],
      "text/html": "<div>\n<style scoped>\n    .dataframe tbody tr th:only-of-type {\n        vertical-align: middle;\n    }\n\n    .dataframe tbody tr th {\n        vertical-align: top;\n    }\n\n    .dataframe thead th {\n        text-align: right;\n    }\n</style>\n<table border=\"1\" class=\"dataframe\">\n  <thead>\n    <tr style=\"text-align: right;\">\n      <th></th>\n      <th>name</th>\n      <th>album</th>\n      <th>artist</th>\n      <th>release_date</th>\n      <th>length</th>\n      <th>popularity</th>\n      <th>danceability</th>\n      <th>acousticness</th>\n      <th>energy</th>\n      <th>instrumentalness</th>\n      <th>liveness</th>\n      <th>loudness</th>\n      <th>speechiness</th>\n      <th>tempo</th>\n      <th>time_signature</th>\n    </tr>\n  </thead>\n  <tbody>\n    <tr>\n      <th>1801</th>\n      <td>1694</td>\n      <td>1503</td>\n      <td>3632</td>\n      <td>2524</td>\n      <td>214889</td>\n      <td>42</td>\n      <td>0.427</td>\n      <td>0.007490</td>\n      <td>0.738</td>\n      <td>0.00012</td>\n      <td>0.0755</td>\n      <td>-3.241</td>\n      <td>0.0433</td>\n      <td>88.769</td>\n      <td>4</td>\n    </tr>\n    <tr>\n      <th>304</th>\n      <td>1689</td>\n      <td>1498</td>\n      <td>556</td>\n      <td>2399</td>\n      <td>247079</td>\n      <td>83</td>\n      <td>0.505</td>\n      <td>0.279000</td>\n      <td>0.267</td>\n      <td>0.00000</td>\n      <td>0.0960</td>\n      <td>-13.763</td>\n      <td>0.0500</td>\n      <td>143.929</td>\n      <td>4</td>\n    </tr>\n    <tr>\n      <th>4914</th>\n      <td>6050</td>\n      <td>5210</td>\n      <td>2840</td>\n      <td>2087</td>\n      <td>212973</td>\n      <td>49</td>\n      <td>0.502</td>\n      <td>0.591000</td>\n      <td>0.409</td>\n      <td>0.00000</td>\n      <td>0.1130</td>\n      <td>-7.581</td>\n      <td>0.0512</td>\n      <td>75.231</td>\n      <td>4</td>\n    </tr>\n    <tr>\n      <th>1052</th>\n      <td>3169</td>\n      <td>255</td>\n      <td>21</td>\n      <td>528</td>\n      <td>287546</td>\n      <td>60</td>\n      <td>0.763</td>\n      <td>0.034600</td>\n      <td>0.840</td>\n      <td>0.00000</td>\n      <td>0.0601</td>\n      <td>-3.704</td>\n      <td>0.0929</td>\n      <td>92.477</td>\n      <td>4</td>\n    </tr>\n    <tr>\n      <th>3387</th>\n      <td>2367</td>\n      <td>2044</td>\n      <td>1501</td>\n      <td>2454</td>\n      <td>225250</td>\n      <td>38</td>\n      <td>0.160</td>\n      <td>0.000832</td>\n      <td>0.932</td>\n      <td>0.00477</td>\n      <td>0.1500</td>\n      <td>-3.419</td>\n      <td>0.0833</td>\n      <td>80.607</td>\n      <td>4</td>\n    </tr>\n  </tbody>\n</table>\n</div>"
     },
     "metadata": {},
     "execution_count": 18
    }
   ],
   "source": [
    "X_test.head()"
   ]
  },
  {
   "cell_type": "code",
   "execution_count": 19,
   "metadata": {},
   "outputs": [
    {
     "output_type": "execute_result",
     "data": {
      "text/plain": [
       "0    1956\n",
       "1       8\n",
       "Name: favorite, dtype: int64"
      ]
     },
     "metadata": {},
     "execution_count": 19
    }
   ],
   "source": [
    "# Checking for imbalance in test set\n",
    "y_test.value_counts()"
   ]
  },
  {
   "source": [
    "#### Testing models"
   ],
   "cell_type": "markdown",
   "metadata": {}
  },
  {
   "cell_type": "code",
   "execution_count": 20,
   "metadata": {},
   "outputs": [
    {
     "output_type": "stream",
     "name": "stdout",
     "text": [
      "0.8121918207896656\nCPU times: user 3.68 s, sys: 661 ms, total: 4.34 s\nWall time: 1.39 s\n"
     ]
    }
   ],
   "source": [
    "%%time\n",
    "# Logistic Regression\n",
    "lr = LogisticRegression(solver='lbfgs', max_iter=400)\n",
    "lr_scores = cross_val_score(lr, X_train, y_train, cv=10, scoring=\"f1\")\n",
    "print(np.mean(lr_scores))"
   ]
  },
  {
   "cell_type": "code",
   "execution_count": 21,
   "metadata": {
    "tags": []
   },
   "outputs": [
    {
     "output_type": "execute_result",
     "data": {
      "text/plain": [
       "{'max_depth': 30}"
      ]
     },
     "metadata": {},
     "execution_count": 21
    }
   ],
   "source": [
    "# Hyperparameter optimization for Decision Tree Classifier\n",
    "parameters = {\n",
    "    'max_depth':[3, 4, 5, 6, 10, 15,20,30],\n",
    "}\n",
    "dtc = Pipeline([('CV',GridSearchCV(DecisionTreeClassifier(), parameters, cv = 5))])\n",
    "dtc.fit(X_train, y_train)\n",
    "dtc.named_steps['CV'].best_params_"
   ]
  },
  {
   "cell_type": "code",
   "execution_count": 22,
   "metadata": {},
   "outputs": [
    {
     "output_type": "stream",
     "name": "stdout",
     "text": [
      "CPU times: user 2.25 s, sys: 25.6 ms, total: 2.28 s\nWall time: 2.31 s\n"
     ]
    },
    {
     "output_type": "execute_result",
     "data": {
      "text/plain": [
       "0.99533530029983"
      ]
     },
     "metadata": {},
     "execution_count": 22
    }
   ],
   "source": [
    "%%time\n",
    "# Decision Tree Classifier\n",
    "dt = DecisionTreeClassifier(max_depth=30)\n",
    "dt_scores = cross_val_score(dt, X_train, y_train, cv=10, scoring=\"f1\")\n",
    "np.mean(dt_scores)"
   ]
  },
  {
   "cell_type": "code",
   "execution_count": 23,
   "metadata": {},
   "outputs": [
    {
     "output_type": "stream",
     "name": "stdout",
     "text": [
      "CPU times: user 25.1 s, sys: 334 ms, total: 25.5 s\nWall time: 25.8 s\n"
     ]
    },
    {
     "output_type": "execute_result",
     "data": {
      "text/plain": [
       "{'max_depth': 20, 'n_estimators': 30}"
      ]
     },
     "metadata": {},
     "execution_count": 23
    }
   ],
   "source": [
    "%%time\n",
    "# Hyperparameter optimization of RandomForestClassifier\n",
    "parameters = {\n",
    "    'max_depth':[3, 6,12,15,20],\n",
    "    'n_estimators':[10, 20,30]\n",
    "}\n",
    "clf = Pipeline([('CV',GridSearchCV(RandomForestClassifier(), parameters, cv = 5))])\n",
    "clf.fit(X_train, y_train)\n",
    "clf.named_steps['CV'].best_params_"
   ]
  },
  {
   "cell_type": "code",
   "execution_count": 24,
   "metadata": {},
   "outputs": [
    {
     "output_type": "stream",
     "name": "stdout",
     "text": [
      "CPU times: user 2.55 s, sys: 35.7 ms, total: 2.58 s\nWall time: 2.62 s\n"
     ]
    },
    {
     "output_type": "execute_result",
     "data": {
      "text/plain": [
       "0.9984673390801653"
      ]
     },
     "metadata": {},
     "execution_count": 24
    }
   ],
   "source": [
    "%%time\n",
    "# RandomForestClassifier\n",
    "rf = Pipeline([('rf', RandomForestClassifier(n_estimators = 10, max_depth = 20))])\n",
    "rf_scores = cross_val_score(rf, X_train, y_train, cv=10, scoring=\"f1\")\n",
    "np.mean(rf_scores)"
   ]
  },
  {
   "source": [
    "Since the RandomForestClassifier has the highest accuracy, I will use it to recommend songs."
   ],
   "cell_type": "markdown",
   "metadata": {}
  },
  {
   "source": [
    "### Using algorithm on test data"
   ],
   "cell_type": "markdown",
   "metadata": {}
  },
  {
   "cell_type": "code",
   "execution_count": 25,
   "metadata": {},
   "outputs": [
    {
     "output_type": "execute_result",
     "data": {
      "text/plain": [
       "0    1956\n",
       "1       8\n",
       "Name: favorite, dtype: int64"
      ]
     },
     "metadata": {},
     "execution_count": 25
    }
   ],
   "source": [
    "# Checking for imabalance\n",
    "y_test.value_counts()"
   ]
  },
  {
   "cell_type": "code",
   "execution_count": 26,
   "metadata": {},
   "outputs": [
    {
     "output_type": "execute_result",
     "data": {
      "text/plain": [
       "0.9959266802443992"
      ]
     },
     "metadata": {},
     "execution_count": 26
    }
   ],
   "source": [
    "# Building a pipeline to use on regular data\n",
    "from sklearn.pipeline import make_pipeline\n",
    "from sklearn.preprocessing import StandardScaler\n",
    "\n",
    "pipe = make_pipeline(StandardScaler(), RandomForestClassifier(n_estimators = 30, max_depth = 20))\n",
    "pipe.fit(X_train, y_train)  # apply scaling on training data\n",
    "# pipe.set_params(logisticrergession__n_estimators=30)\n",
    "Pipeline(steps=[('standardscaler', StandardScaler()),\n",
    "                ('rf', RandomForestClassifier(n_estimators = 30, max_depth = 20))])\n",
    "pipe.score(X_test, y_test)"
   ]
  },
  {
   "cell_type": "code",
   "execution_count": 27,
   "metadata": {},
   "outputs": [
    {
     "output_type": "execute_result",
     "data": {
      "text/plain": [
       "(9819, 17)"
      ]
     },
     "metadata": {},
     "execution_count": 27
    }
   ],
   "source": [
    "df.shape"
   ]
  },
  {
   "cell_type": "code",
   "execution_count": 28,
   "metadata": {},
   "outputs": [
    {
     "output_type": "execute_result",
     "data": {
      "text/plain": [
       "9819"
      ]
     },
     "metadata": {},
     "execution_count": 28
    }
   ],
   "source": [
    "len(pipe.predict(df.drop(['favorite','track_id'], axis=1)))"
   ]
  },
  {
   "source": [
    "## Predicting songs and saving to dataset"
   ],
   "cell_type": "markdown",
   "metadata": {}
  },
  {
   "cell_type": "code",
   "execution_count": 29,
   "metadata": {},
   "outputs": [],
   "source": [
    "df = pd.read_csv('data/encoded_playlist_songs.csv')"
   ]
  },
  {
   "cell_type": "code",
   "execution_count": 30,
   "metadata": {},
   "outputs": [
    {
     "output_type": "execute_result",
     "data": {
      "text/plain": [
       "                 track_id  name  album  artist  release_date  length  \\\n",
       "0  7MAibcTli4IisCtbHKrGMh  4008   3340     581          2524  242096   \n",
       "1  5QO79kh1waicV47BqGRL3g  6038    212    3746          2293  215626   \n",
       "2  1diS6nkxMQc3wwC4G1j0bh  8118   2222    1091          2505  165506   \n",
       "3  4u4NyuceXP7Uzh7XFJKCr1  3096   2743    1917          2524  170813   \n",
       "4  3Ofmpyhv5UAQ70mENzB277   542    433    2439          2478  132780   \n",
       "\n",
       "   popularity  danceability  acousticness  energy  instrumentalness  liveness  \\\n",
       "0          90         0.586        0.1820   0.616          0.000000    0.0927   \n",
       "1          97         0.680        0.0212   0.826          0.000012    0.5430   \n",
       "2          88         0.722        0.0319   0.588          0.000000    0.1830   \n",
       "3          89         0.658        0.0106   0.634          0.000000    0.1320   \n",
       "4          94         0.778        0.1750   0.695          0.000000    0.1500   \n",
       "\n",
       "   loudness  speechiness    tempo  time_signature  favorite  \n",
       "0    -7.964       0.0324  148.088               4         0  \n",
       "1    -5.487       0.0309  118.051               4         0  \n",
       "2    -5.932       0.0544  134.010               4         0  \n",
       "3    -5.797       0.0413  139.980               4         0  \n",
       "4    -6.865       0.0913  149.996               4         0  "
      ],
      "text/html": "<div>\n<style scoped>\n    .dataframe tbody tr th:only-of-type {\n        vertical-align: middle;\n    }\n\n    .dataframe tbody tr th {\n        vertical-align: top;\n    }\n\n    .dataframe thead th {\n        text-align: right;\n    }\n</style>\n<table border=\"1\" class=\"dataframe\">\n  <thead>\n    <tr style=\"text-align: right;\">\n      <th></th>\n      <th>track_id</th>\n      <th>name</th>\n      <th>album</th>\n      <th>artist</th>\n      <th>release_date</th>\n      <th>length</th>\n      <th>popularity</th>\n      <th>danceability</th>\n      <th>acousticness</th>\n      <th>energy</th>\n      <th>instrumentalness</th>\n      <th>liveness</th>\n      <th>loudness</th>\n      <th>speechiness</th>\n      <th>tempo</th>\n      <th>time_signature</th>\n      <th>favorite</th>\n    </tr>\n  </thead>\n  <tbody>\n    <tr>\n      <th>0</th>\n      <td>7MAibcTli4IisCtbHKrGMh</td>\n      <td>4008</td>\n      <td>3340</td>\n      <td>581</td>\n      <td>2524</td>\n      <td>242096</td>\n      <td>90</td>\n      <td>0.586</td>\n      <td>0.1820</td>\n      <td>0.616</td>\n      <td>0.000000</td>\n      <td>0.0927</td>\n      <td>-7.964</td>\n      <td>0.0324</td>\n      <td>148.088</td>\n      <td>4</td>\n      <td>0</td>\n    </tr>\n    <tr>\n      <th>1</th>\n      <td>5QO79kh1waicV47BqGRL3g</td>\n      <td>6038</td>\n      <td>212</td>\n      <td>3746</td>\n      <td>2293</td>\n      <td>215626</td>\n      <td>97</td>\n      <td>0.680</td>\n      <td>0.0212</td>\n      <td>0.826</td>\n      <td>0.000012</td>\n      <td>0.5430</td>\n      <td>-5.487</td>\n      <td>0.0309</td>\n      <td>118.051</td>\n      <td>4</td>\n      <td>0</td>\n    </tr>\n    <tr>\n      <th>2</th>\n      <td>1diS6nkxMQc3wwC4G1j0bh</td>\n      <td>8118</td>\n      <td>2222</td>\n      <td>1091</td>\n      <td>2505</td>\n      <td>165506</td>\n      <td>88</td>\n      <td>0.722</td>\n      <td>0.0319</td>\n      <td>0.588</td>\n      <td>0.000000</td>\n      <td>0.1830</td>\n      <td>-5.932</td>\n      <td>0.0544</td>\n      <td>134.010</td>\n      <td>4</td>\n      <td>0</td>\n    </tr>\n    <tr>\n      <th>3</th>\n      <td>4u4NyuceXP7Uzh7XFJKCr1</td>\n      <td>3096</td>\n      <td>2743</td>\n      <td>1917</td>\n      <td>2524</td>\n      <td>170813</td>\n      <td>89</td>\n      <td>0.658</td>\n      <td>0.0106</td>\n      <td>0.634</td>\n      <td>0.000000</td>\n      <td>0.1320</td>\n      <td>-5.797</td>\n      <td>0.0413</td>\n      <td>139.980</td>\n      <td>4</td>\n      <td>0</td>\n    </tr>\n    <tr>\n      <th>4</th>\n      <td>3Ofmpyhv5UAQ70mENzB277</td>\n      <td>542</td>\n      <td>433</td>\n      <td>2439</td>\n      <td>2478</td>\n      <td>132780</td>\n      <td>94</td>\n      <td>0.778</td>\n      <td>0.1750</td>\n      <td>0.695</td>\n      <td>0.000000</td>\n      <td>0.1500</td>\n      <td>-6.865</td>\n      <td>0.0913</td>\n      <td>149.996</td>\n      <td>4</td>\n      <td>0</td>\n    </tr>\n  </tbody>\n</table>\n</div>"
     },
     "metadata": {},
     "execution_count": 30
    }
   ],
   "source": [
    "df.head()"
   ]
  },
  {
   "cell_type": "code",
   "execution_count": 31,
   "metadata": {},
   "outputs": [],
   "source": [
    "prediction = pipe.predict(df.drop(['favorite','track_id'], axis=1))\n",
    "df['prediction'] = prediction"
   ]
  },
  {
   "cell_type": "code",
   "execution_count": 32,
   "metadata": {},
   "outputs": [
    {
     "output_type": "execute_result",
     "data": {
      "text/plain": [
       "0    0\n",
       "1    0\n",
       "2    0\n",
       "3    0\n",
       "4    0\n",
       "Name: prediction, dtype: int64"
      ]
     },
     "metadata": {},
     "execution_count": 32
    }
   ],
   "source": [
    "df['prediction'].head()"
   ]
  },
  {
   "cell_type": "code",
   "execution_count": 33,
   "metadata": {},
   "outputs": [
    {
     "output_type": "execute_result",
     "data": {
      "text/plain": [
       "0    9758\n",
       "1      11\n",
       "Name: prediction, dtype: int64"
      ]
     },
     "metadata": {},
     "execution_count": 33
    }
   ],
   "source": [
    "df['prediction'].value_counts()"
   ]
  },
  {
   "source": [
    "## Building the playlist from recommended songs"
   ],
   "cell_type": "markdown",
   "metadata": {}
  },
  {
   "cell_type": "code",
   "execution_count": 34,
   "metadata": {},
   "outputs": [],
   "source": [
    "import spotipy\n",
    "import spotipy.util as util\n",
    "from spotipy.oauth2 import SpotifyClientCredentials\n",
    "from spotipy import oauth2"
   ]
  },
  {
   "cell_type": "code",
   "execution_count": 35,
   "metadata": {},
   "outputs": [],
   "source": [
    "# Insert your Spotify username and the credentials that you obtained from spotify developer\n",
    "cid = 'XXXXX'\n",
    "secret = 'XXXXX'\n",
    "redirect_uri='http://localhost:7777/callback'\n",
    "username = 'XXXXXX'"
   ]
  },
  {
   "cell_type": "code",
   "execution_count": 36,
   "metadata": {},
   "outputs": [],
   "source": [
    "# Once the Authorisation is complete, we just need to `sp` to call the APIs\n",
    "scope = 'user-top-read playlist-modify-private playlist-modify-public'\n",
    "token = util.prompt_for_user_token(username, scope, client_id=cid, client_secret=secret, redirect_uri=redirect_uri)\n",
    "\n",
    "if token:\n",
    "    sp = spotipy.Spotify(auth=token)\n",
    "else:\n",
    "    print(\"Can't get token for\", username)"
   ]
  },
  {
   "cell_type": "code",
   "execution_count": 37,
   "metadata": {},
   "outputs": [],
   "source": [
    "def create_playlist(sp, username, playlist_name, playlist_description):\n",
    "    playlists = sp.user_playlist_create(username, playlist_name, description = playlist_description)"
   ]
  },
  {
   "cell_type": "code",
   "execution_count": 38,
   "metadata": {},
   "outputs": [],
   "source": [
    "create_playlist(sp, username, 'Your New Jams', 'This playlist was created using python!')"
   ]
  },
  {
   "cell_type": "code",
   "execution_count": 39,
   "metadata": {},
   "outputs": [],
   "source": [
    "def fetch_playlists(sp, username):\n",
    "    \"\"\"\n",
    "    Returns the user's playlists.\n",
    "    \"\"\"\n",
    "        \n",
    "    id = []\n",
    "    name = []\n",
    "    num_tracks = []\n",
    "    \n",
    "    # Make the API request\n",
    "    playlists = sp.user_playlists(username)\n",
    "    for playlist in playlists['items']:\n",
    "        id.append(playlist['id'])\n",
    "        name.append(playlist['name'])\n",
    "        num_tracks.append(playlist['tracks']['total'])\n",
    "\n",
    "    # Create the final df   \n",
    "    df_playlists = pd.DataFrame({\"id\":id, \"name\": name, \"#tracks\": num_tracks})\n",
    "    return df_playlists"
   ]
  },
  {
   "cell_type": "code",
   "execution_count": 40,
   "metadata": {},
   "outputs": [
    {
     "output_type": "execute_result",
     "data": {
      "text/plain": [
       "                       id           name  #tracks\n",
       "0  3HvrwHSmvuJnKZm1mhxKSK  Your New Jams        0\n",
       "1  3zdUVBgr30KKu1lFPimbRQ  Your New Jams       50\n",
       "2  4OqhYtuar9Zcjj4djxIHMo         GOSPEL       34\n",
       "3  3ALg99PJwQoQTZUgVOxZCr          LUCKI       38\n",
       "4  4STXJNA3A9Hkz7soJiPz4s     POSITIVITY       77"
      ],
      "text/html": "<div>\n<style scoped>\n    .dataframe tbody tr th:only-of-type {\n        vertical-align: middle;\n    }\n\n    .dataframe tbody tr th {\n        vertical-align: top;\n    }\n\n    .dataframe thead th {\n        text-align: right;\n    }\n</style>\n<table border=\"1\" class=\"dataframe\">\n  <thead>\n    <tr style=\"text-align: right;\">\n      <th></th>\n      <th>id</th>\n      <th>name</th>\n      <th>#tracks</th>\n    </tr>\n  </thead>\n  <tbody>\n    <tr>\n      <th>0</th>\n      <td>3HvrwHSmvuJnKZm1mhxKSK</td>\n      <td>Your New Jams</td>\n      <td>0</td>\n    </tr>\n    <tr>\n      <th>1</th>\n      <td>3zdUVBgr30KKu1lFPimbRQ</td>\n      <td>Your New Jams</td>\n      <td>50</td>\n    </tr>\n    <tr>\n      <th>2</th>\n      <td>4OqhYtuar9Zcjj4djxIHMo</td>\n      <td>GOSPEL</td>\n      <td>34</td>\n    </tr>\n    <tr>\n      <th>3</th>\n      <td>3ALg99PJwQoQTZUgVOxZCr</td>\n      <td>LUCKI</td>\n      <td>38</td>\n    </tr>\n    <tr>\n      <th>4</th>\n      <td>4STXJNA3A9Hkz7soJiPz4s</td>\n      <td>POSITIVITY</td>\n      <td>77</td>\n    </tr>\n  </tbody>\n</table>\n</div>"
     },
     "metadata": {},
     "execution_count": 40
    }
   ],
   "source": [
    "fetch_playlists(sp,username).head()"
   ]
  },
  {
   "cell_type": "code",
   "execution_count": 41,
   "metadata": {},
   "outputs": [],
   "source": [
    "playlist_id = fetch_playlists(sp,username)['id'][0]"
   ]
  },
  {
   "cell_type": "code",
   "execution_count": 42,
   "metadata": {},
   "outputs": [],
   "source": [
    "def enrich_playlist(sp, username, playlist_id, playlist_tracks):\n",
    "    index = 0\n",
    "    results = []\n",
    "    \n",
    "    while index < len(playlist_tracks):\n",
    "        results += sp.user_playlist_add_tracks(username, playlist_id, tracks = playlist_tracks[index:index + 50])\n",
    "        index += 50"
   ]
  },
  {
   "cell_type": "code",
   "execution_count": 44,
   "metadata": {},
   "outputs": [
    {
     "output_type": "execute_result",
     "data": {
      "text/plain": [
       "                       id           name  #tracks\n",
       "0  3HvrwHSmvuJnKZm1mhxKSK  Your New Jams       11\n",
       "1  3zdUVBgr30KKu1lFPimbRQ  Your New Jams       50\n",
       "2  4OqhYtuar9Zcjj4djxIHMo         GOSPEL       34\n",
       "3  3ALg99PJwQoQTZUgVOxZCr          LUCKI       38\n",
       "4  4STXJNA3A9Hkz7soJiPz4s     POSITIVITY       77"
      ],
      "text/html": "<div>\n<style scoped>\n    .dataframe tbody tr th:only-of-type {\n        vertical-align: middle;\n    }\n\n    .dataframe tbody tr th {\n        vertical-align: top;\n    }\n\n    .dataframe thead th {\n        text-align: right;\n    }\n</style>\n<table border=\"1\" class=\"dataframe\">\n  <thead>\n    <tr style=\"text-align: right;\">\n      <th></th>\n      <th>id</th>\n      <th>name</th>\n      <th>#tracks</th>\n    </tr>\n  </thead>\n  <tbody>\n    <tr>\n      <th>0</th>\n      <td>3HvrwHSmvuJnKZm1mhxKSK</td>\n      <td>Your New Jams</td>\n      <td>11</td>\n    </tr>\n    <tr>\n      <th>1</th>\n      <td>3zdUVBgr30KKu1lFPimbRQ</td>\n      <td>Your New Jams</td>\n      <td>50</td>\n    </tr>\n    <tr>\n      <th>2</th>\n      <td>4OqhYtuar9Zcjj4djxIHMo</td>\n      <td>GOSPEL</td>\n      <td>34</td>\n    </tr>\n    <tr>\n      <th>3</th>\n      <td>3ALg99PJwQoQTZUgVOxZCr</td>\n      <td>LUCKI</td>\n      <td>38</td>\n    </tr>\n    <tr>\n      <th>4</th>\n      <td>4STXJNA3A9Hkz7soJiPz4s</td>\n      <td>POSITIVITY</td>\n      <td>77</td>\n    </tr>\n  </tbody>\n</table>\n</div>"
     },
     "metadata": {},
     "execution_count": 44
    }
   ],
   "source": [
    "list_track = df.loc[df['prediction']  == 1]['track_id']\n",
    "enrich_playlist(sp, username, playlist_id, list_track)\n",
    "fetch_playlists(sp,username).head()"
   ]
  }
 ]
}