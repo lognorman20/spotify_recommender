{
 "metadata": {
  "language_info": {
   "codemirror_mode": {
    "name": "ipython",
    "version": 3
   },
   "file_extension": ".py",
   "mimetype": "text/x-python",
   "name": "python",
   "nbconvert_exporter": "python",
   "pygments_lexer": "ipython3",
   "version": "3.8.5-final"
  },
  "orig_nbformat": 2,
  "kernelspec": {
   "name": "python3",
   "display_name": "Python 3.8.5 64-bit",
   "metadata": {
    "interpreter": {
     "hash": "082e9a3bcad0a290d0001e938aa60b99250c6c2ef33a923c00b70f9826caf4b7"
    }
   }
  }
 },
 "nbformat": 4,
 "nbformat_minor": 2,
 "cells": [
  {
   "cell_type": "code",
   "execution_count": 1,
   "metadata": {},
   "outputs": [],
   "source": [
    "import pandas as pd\n",
    "import numpy as np\n",
    "import seaborn as sns\n",
    "import plotly.graph_objects as go\n",
    "import matplotlib.pyplot as plt\n",
    "import matplotlib.ticker as plticker\n",
    "%matplotlib inline"
   ]
  },
  {
   "cell_type": "code",
   "execution_count": 2,
   "metadata": {},
   "outputs": [
    {
     "output_type": "execute_result",
     "data": {
      "text/plain": [
       "                                name           endTime   artistName  \\\n",
       "0  Move It (feat. Offset)___Lil Keed  2020-03-08 17:00     Lil Keed   \n",
       "1                 Way 2 Rare___LUCKI  2020-03-08 18:51        LUCKI   \n",
       "2          Cool It Now___New Edition  2020-03-08 19:00  New Edition   \n",
       "3                 Feeling Safe___DLJ  2020-03-09 00:38          DLJ   \n",
       "4                Tides Out___Astairé  2020-03-09 00:42      Astairé   \n",
       "\n",
       "                trackName  msPlayed             datetime  danceability  \\\n",
       "0  Move It (feat. Offset)     80666  2020-03-08 17:00:00         0.964   \n",
       "1              Way 2 Rare     22912  2020-03-08 18:51:00         0.644   \n",
       "2             Cool It Now    290069  2020-03-08 19:00:00         0.871   \n",
       "3            Feeling Safe    139834  2020-03-09 00:38:00         0.828   \n",
       "4               Tides Out    208636  2020-03-09 00:42:00         0.272   \n",
       "\n",
       "   energy  key  loudness  ...    tempo            type  \\\n",
       "0   0.390    1    -8.812  ...  122.990  audio_features   \n",
       "1   0.678   10    -8.986  ...  139.808  audio_features   \n",
       "2   0.532   10   -13.335  ...  116.574  audio_features   \n",
       "3   0.250    1   -15.887  ...  121.027  audio_features   \n",
       "4   0.876    4    -7.135  ...  102.718  audio_features   \n",
       "\n",
       "                       id                                   uri  \\\n",
       "0  6hgEAYd3CimkLdOa4VgwTw  spotify:track:6hgEAYd3CimkLdOa4VgwTw   \n",
       "1  53d1tlSLNunnKIQAHpHRSO  spotify:track:53d1tlSLNunnKIQAHpHRSO   \n",
       "2  5LkcAjqj5NOctNGi2qUjlw  spotify:track:5LkcAjqj5NOctNGi2qUjlw   \n",
       "3  79oR758W174pGqPA2Fky7j  spotify:track:79oR758W174pGqPA2Fky7j   \n",
       "4  2sXtpY9mCTXnUTUSQqrXbX  spotify:track:2sXtpY9mCTXnUTUSQqrXbX   \n",
       "\n",
       "                                          track_href  \\\n",
       "0  https://api.spotify.com/v1/tracks/6hgEAYd3Cimk...   \n",
       "1  https://api.spotify.com/v1/tracks/53d1tlSLNunn...   \n",
       "2  https://api.spotify.com/v1/tracks/5LkcAjqj5NOc...   \n",
       "3  https://api.spotify.com/v1/tracks/79oR758W174p...   \n",
       "4  https://api.spotify.com/v1/tracks/2sXtpY9mCTXn...   \n",
       "\n",
       "                                        analysis_url  duration_ms  \\\n",
       "0  https://api.spotify.com/v1/audio-analysis/6hgE...       171827   \n",
       "1  https://api.spotify.com/v1/audio-analysis/53d1...       123182   \n",
       "2  https://api.spotify.com/v1/audio-analysis/5Lkc...       347667   \n",
       "3  https://api.spotify.com/v1/audio-analysis/79oR...       139835   \n",
       "4  https://api.spotify.com/v1/audio-analysis/2sXt...       591693   \n",
       "\n",
       "  time_signature               albumName                 albumID  \n",
       "0              4  Move It (feat. Offset)  66BviQeZVng0GigsRwDsLq  \n",
       "1              4             Days B4 III  0p1QXY0M8LRXybgy9TchHE  \n",
       "2              4             New Edition  68moCweQx7EoMvHdZ6HzDc  \n",
       "3              4            Feeling Safe  6KHpq8tlBKcvmdw8sZHugV  \n",
       "4              4             The Outlaws  5NR8rq89bfEMA7JJGzfFkp  \n",
       "\n",
       "[5 rows x 26 columns]"
      ],
      "text/html": "<div>\n<style scoped>\n    .dataframe tbody tr th:only-of-type {\n        vertical-align: middle;\n    }\n\n    .dataframe tbody tr th {\n        vertical-align: top;\n    }\n\n    .dataframe thead th {\n        text-align: right;\n    }\n</style>\n<table border=\"1\" class=\"dataframe\">\n  <thead>\n    <tr style=\"text-align: right;\">\n      <th></th>\n      <th>name</th>\n      <th>endTime</th>\n      <th>artistName</th>\n      <th>trackName</th>\n      <th>msPlayed</th>\n      <th>datetime</th>\n      <th>danceability</th>\n      <th>energy</th>\n      <th>key</th>\n      <th>loudness</th>\n      <th>...</th>\n      <th>tempo</th>\n      <th>type</th>\n      <th>id</th>\n      <th>uri</th>\n      <th>track_href</th>\n      <th>analysis_url</th>\n      <th>duration_ms</th>\n      <th>time_signature</th>\n      <th>albumName</th>\n      <th>albumID</th>\n    </tr>\n  </thead>\n  <tbody>\n    <tr>\n      <th>0</th>\n      <td>Move It (feat. Offset)___Lil Keed</td>\n      <td>2020-03-08 17:00</td>\n      <td>Lil Keed</td>\n      <td>Move It (feat. Offset)</td>\n      <td>80666</td>\n      <td>2020-03-08 17:00:00</td>\n      <td>0.964</td>\n      <td>0.390</td>\n      <td>1</td>\n      <td>-8.812</td>\n      <td>...</td>\n      <td>122.990</td>\n      <td>audio_features</td>\n      <td>6hgEAYd3CimkLdOa4VgwTw</td>\n      <td>spotify:track:6hgEAYd3CimkLdOa4VgwTw</td>\n      <td>https://api.spotify.com/v1/tracks/6hgEAYd3Cimk...</td>\n      <td>https://api.spotify.com/v1/audio-analysis/6hgE...</td>\n      <td>171827</td>\n      <td>4</td>\n      <td>Move It (feat. Offset)</td>\n      <td>66BviQeZVng0GigsRwDsLq</td>\n    </tr>\n    <tr>\n      <th>1</th>\n      <td>Way 2 Rare___LUCKI</td>\n      <td>2020-03-08 18:51</td>\n      <td>LUCKI</td>\n      <td>Way 2 Rare</td>\n      <td>22912</td>\n      <td>2020-03-08 18:51:00</td>\n      <td>0.644</td>\n      <td>0.678</td>\n      <td>10</td>\n      <td>-8.986</td>\n      <td>...</td>\n      <td>139.808</td>\n      <td>audio_features</td>\n      <td>53d1tlSLNunnKIQAHpHRSO</td>\n      <td>spotify:track:53d1tlSLNunnKIQAHpHRSO</td>\n      <td>https://api.spotify.com/v1/tracks/53d1tlSLNunn...</td>\n      <td>https://api.spotify.com/v1/audio-analysis/53d1...</td>\n      <td>123182</td>\n      <td>4</td>\n      <td>Days B4 III</td>\n      <td>0p1QXY0M8LRXybgy9TchHE</td>\n    </tr>\n    <tr>\n      <th>2</th>\n      <td>Cool It Now___New Edition</td>\n      <td>2020-03-08 19:00</td>\n      <td>New Edition</td>\n      <td>Cool It Now</td>\n      <td>290069</td>\n      <td>2020-03-08 19:00:00</td>\n      <td>0.871</td>\n      <td>0.532</td>\n      <td>10</td>\n      <td>-13.335</td>\n      <td>...</td>\n      <td>116.574</td>\n      <td>audio_features</td>\n      <td>5LkcAjqj5NOctNGi2qUjlw</td>\n      <td>spotify:track:5LkcAjqj5NOctNGi2qUjlw</td>\n      <td>https://api.spotify.com/v1/tracks/5LkcAjqj5NOc...</td>\n      <td>https://api.spotify.com/v1/audio-analysis/5Lkc...</td>\n      <td>347667</td>\n      <td>4</td>\n      <td>New Edition</td>\n      <td>68moCweQx7EoMvHdZ6HzDc</td>\n    </tr>\n    <tr>\n      <th>3</th>\n      <td>Feeling Safe___DLJ</td>\n      <td>2020-03-09 00:38</td>\n      <td>DLJ</td>\n      <td>Feeling Safe</td>\n      <td>139834</td>\n      <td>2020-03-09 00:38:00</td>\n      <td>0.828</td>\n      <td>0.250</td>\n      <td>1</td>\n      <td>-15.887</td>\n      <td>...</td>\n      <td>121.027</td>\n      <td>audio_features</td>\n      <td>79oR758W174pGqPA2Fky7j</td>\n      <td>spotify:track:79oR758W174pGqPA2Fky7j</td>\n      <td>https://api.spotify.com/v1/tracks/79oR758W174p...</td>\n      <td>https://api.spotify.com/v1/audio-analysis/79oR...</td>\n      <td>139835</td>\n      <td>4</td>\n      <td>Feeling Safe</td>\n      <td>6KHpq8tlBKcvmdw8sZHugV</td>\n    </tr>\n    <tr>\n      <th>4</th>\n      <td>Tides Out___Astairé</td>\n      <td>2020-03-09 00:42</td>\n      <td>Astairé</td>\n      <td>Tides Out</td>\n      <td>208636</td>\n      <td>2020-03-09 00:42:00</td>\n      <td>0.272</td>\n      <td>0.876</td>\n      <td>4</td>\n      <td>-7.135</td>\n      <td>...</td>\n      <td>102.718</td>\n      <td>audio_features</td>\n      <td>2sXtpY9mCTXnUTUSQqrXbX</td>\n      <td>spotify:track:2sXtpY9mCTXnUTUSQqrXbX</td>\n      <td>https://api.spotify.com/v1/tracks/2sXtpY9mCTXn...</td>\n      <td>https://api.spotify.com/v1/audio-analysis/2sXt...</td>\n      <td>591693</td>\n      <td>4</td>\n      <td>The Outlaws</td>\n      <td>5NR8rq89bfEMA7JJGzfFkp</td>\n    </tr>\n  </tbody>\n</table>\n<p>5 rows × 26 columns</p>\n</div>"
     },
     "metadata": {},
     "execution_count": 2
    }
   ],
   "source": [
    "df = pd.read_csv('/Users/logno/Documents/GitHub/spotify_recommender/final.csv', index_col = 0)\n",
    "df.head()"
   ]
  },
  {
   "cell_type": "code",
   "execution_count": 3,
   "metadata": {},
   "outputs": [
    {
     "output_type": "execute_result",
     "data": {
      "text/plain": [
       "                                                    name           endTime  \\\n",
       "36219                 Bankroll (feat. Lil Keed)___88GLAM  2021-03-09 22:42   \n",
       "36220              No Time (feat. Gunna)___Playboi Carti  2021-03-09 22:46   \n",
       "36221                             Nascar Dashcar___LUCKI  2021-03-09 22:48   \n",
       "36222  Not A Rapper (feat. Lil Baby & Yo Gotti)___42 ...  2021-03-09 22:49   \n",
       "36223                      Right Through You___Yung Bans  2021-03-09 22:52   \n",
       "\n",
       "          artistName                                 trackName  msPlayed  \\\n",
       "36219         88GLAM                 Bankroll (feat. Lil Keed)    219920   \n",
       "36220  Playboi Carti                     No Time (feat. Gunna)    219453   \n",
       "36221          LUCKI                            Nascar Dashcar    116897   \n",
       "36222        42 Dugg  Not A Rapper (feat. Lil Baby & Yo Gotti)    107771   \n",
       "36223      Yung Bans                         Right Through You    150465   \n",
       "\n",
       "                  datetime  danceability  energy  key  loudness  ...    tempo  \\\n",
       "36219  2021-03-09 22:42:00         0.778   0.591   10    -8.835  ...  154.977   \n",
       "36220  2021-03-09 22:46:00         0.943   0.763    5    -5.568  ...  139.969   \n",
       "36221  2021-03-09 22:48:00         0.709   0.569    6    -9.269  ...   76.031   \n",
       "36222  2021-03-09 22:49:00         0.888   0.715    8    -3.377  ...  120.106   \n",
       "36223  2021-03-09 22:52:00         0.804   0.358    1   -10.999  ...  144.029   \n",
       "\n",
       "                 type                      id  \\\n",
       "36219  audio_features  4ATl9ijSiEgNs9XCpdPL2t   \n",
       "36220  audio_features  5pHJv0bgNsT9nPoK2BjNBn   \n",
       "36221  audio_features  1uJGWwJ0NZYvGD4kbKlOTl   \n",
       "36222  audio_features  0qnHywpYq7D2SGMpuHEasL   \n",
       "36223  audio_features  3PjeetzZNTIuWJGPcacvbS   \n",
       "\n",
       "                                        uri  \\\n",
       "36219  spotify:track:4ATl9ijSiEgNs9XCpdPL2t   \n",
       "36220  spotify:track:5pHJv0bgNsT9nPoK2BjNBn   \n",
       "36221  spotify:track:1uJGWwJ0NZYvGD4kbKlOTl   \n",
       "36222  spotify:track:0qnHywpYq7D2SGMpuHEasL   \n",
       "36223  spotify:track:3PjeetzZNTIuWJGPcacvbS   \n",
       "\n",
       "                                              track_href  \\\n",
       "36219  https://api.spotify.com/v1/tracks/4ATl9ijSiEgN...   \n",
       "36220  https://api.spotify.com/v1/tracks/5pHJv0bgNsT9...   \n",
       "36221  https://api.spotify.com/v1/tracks/1uJGWwJ0NZYv...   \n",
       "36222  https://api.spotify.com/v1/tracks/0qnHywpYq7D2...   \n",
       "36223  https://api.spotify.com/v1/tracks/3PjeetzZNTIu...   \n",
       "\n",
       "                                            analysis_url  duration_ms  \\\n",
       "36219  https://api.spotify.com/v1/audio-analysis/4ATl...       219920   \n",
       "36220  https://api.spotify.com/v1/audio-analysis/5pHJ...       219453   \n",
       "36221  https://api.spotify.com/v1/audio-analysis/1uJG...       116898   \n",
       "36222  https://api.spotify.com/v1/audio-analysis/0qnH...       107771   \n",
       "36223  https://api.spotify.com/v1/audio-analysis/3Pje...       150000   \n",
       "\n",
       "      time_signature          albumName                 albumID  \n",
       "36219              4           Bankroll  0BHoLb77mSCByEkoI0juyH  \n",
       "36220              4            Die Lit  7dAm8ShwJLFm9SaJ6Yc58O  \n",
       "36221              4     Nascar Dashcar  6vrHjmCAEiYOBHnNraoZiF  \n",
       "36222              4    Young & Turnt 2  0pdD5ojKQ5WdZRPBY5bfv4  \n",
       "36223              4  Right Through You  1gazzdNoCkfeMwUOWxe7S2  \n",
       "\n",
       "[5 rows x 26 columns]"
      ],
      "text/html": "<div>\n<style scoped>\n    .dataframe tbody tr th:only-of-type {\n        vertical-align: middle;\n    }\n\n    .dataframe tbody tr th {\n        vertical-align: top;\n    }\n\n    .dataframe thead th {\n        text-align: right;\n    }\n</style>\n<table border=\"1\" class=\"dataframe\">\n  <thead>\n    <tr style=\"text-align: right;\">\n      <th></th>\n      <th>name</th>\n      <th>endTime</th>\n      <th>artistName</th>\n      <th>trackName</th>\n      <th>msPlayed</th>\n      <th>datetime</th>\n      <th>danceability</th>\n      <th>energy</th>\n      <th>key</th>\n      <th>loudness</th>\n      <th>...</th>\n      <th>tempo</th>\n      <th>type</th>\n      <th>id</th>\n      <th>uri</th>\n      <th>track_href</th>\n      <th>analysis_url</th>\n      <th>duration_ms</th>\n      <th>time_signature</th>\n      <th>albumName</th>\n      <th>albumID</th>\n    </tr>\n  </thead>\n  <tbody>\n    <tr>\n      <th>36219</th>\n      <td>Bankroll (feat. Lil Keed)___88GLAM</td>\n      <td>2021-03-09 22:42</td>\n      <td>88GLAM</td>\n      <td>Bankroll (feat. Lil Keed)</td>\n      <td>219920</td>\n      <td>2021-03-09 22:42:00</td>\n      <td>0.778</td>\n      <td>0.591</td>\n      <td>10</td>\n      <td>-8.835</td>\n      <td>...</td>\n      <td>154.977</td>\n      <td>audio_features</td>\n      <td>4ATl9ijSiEgNs9XCpdPL2t</td>\n      <td>spotify:track:4ATl9ijSiEgNs9XCpdPL2t</td>\n      <td>https://api.spotify.com/v1/tracks/4ATl9ijSiEgN...</td>\n      <td>https://api.spotify.com/v1/audio-analysis/4ATl...</td>\n      <td>219920</td>\n      <td>4</td>\n      <td>Bankroll</td>\n      <td>0BHoLb77mSCByEkoI0juyH</td>\n    </tr>\n    <tr>\n      <th>36220</th>\n      <td>No Time (feat. Gunna)___Playboi Carti</td>\n      <td>2021-03-09 22:46</td>\n      <td>Playboi Carti</td>\n      <td>No Time (feat. Gunna)</td>\n      <td>219453</td>\n      <td>2021-03-09 22:46:00</td>\n      <td>0.943</td>\n      <td>0.763</td>\n      <td>5</td>\n      <td>-5.568</td>\n      <td>...</td>\n      <td>139.969</td>\n      <td>audio_features</td>\n      <td>5pHJv0bgNsT9nPoK2BjNBn</td>\n      <td>spotify:track:5pHJv0bgNsT9nPoK2BjNBn</td>\n      <td>https://api.spotify.com/v1/tracks/5pHJv0bgNsT9...</td>\n      <td>https://api.spotify.com/v1/audio-analysis/5pHJ...</td>\n      <td>219453</td>\n      <td>4</td>\n      <td>Die Lit</td>\n      <td>7dAm8ShwJLFm9SaJ6Yc58O</td>\n    </tr>\n    <tr>\n      <th>36221</th>\n      <td>Nascar Dashcar___LUCKI</td>\n      <td>2021-03-09 22:48</td>\n      <td>LUCKI</td>\n      <td>Nascar Dashcar</td>\n      <td>116897</td>\n      <td>2021-03-09 22:48:00</td>\n      <td>0.709</td>\n      <td>0.569</td>\n      <td>6</td>\n      <td>-9.269</td>\n      <td>...</td>\n      <td>76.031</td>\n      <td>audio_features</td>\n      <td>1uJGWwJ0NZYvGD4kbKlOTl</td>\n      <td>spotify:track:1uJGWwJ0NZYvGD4kbKlOTl</td>\n      <td>https://api.spotify.com/v1/tracks/1uJGWwJ0NZYv...</td>\n      <td>https://api.spotify.com/v1/audio-analysis/1uJG...</td>\n      <td>116898</td>\n      <td>4</td>\n      <td>Nascar Dashcar</td>\n      <td>6vrHjmCAEiYOBHnNraoZiF</td>\n    </tr>\n    <tr>\n      <th>36222</th>\n      <td>Not A Rapper (feat. Lil Baby &amp; Yo Gotti)___42 ...</td>\n      <td>2021-03-09 22:49</td>\n      <td>42 Dugg</td>\n      <td>Not A Rapper (feat. Lil Baby &amp; Yo Gotti)</td>\n      <td>107771</td>\n      <td>2021-03-09 22:49:00</td>\n      <td>0.888</td>\n      <td>0.715</td>\n      <td>8</td>\n      <td>-3.377</td>\n      <td>...</td>\n      <td>120.106</td>\n      <td>audio_features</td>\n      <td>0qnHywpYq7D2SGMpuHEasL</td>\n      <td>spotify:track:0qnHywpYq7D2SGMpuHEasL</td>\n      <td>https://api.spotify.com/v1/tracks/0qnHywpYq7D2...</td>\n      <td>https://api.spotify.com/v1/audio-analysis/0qnH...</td>\n      <td>107771</td>\n      <td>4</td>\n      <td>Young &amp; Turnt 2</td>\n      <td>0pdD5ojKQ5WdZRPBY5bfv4</td>\n    </tr>\n    <tr>\n      <th>36223</th>\n      <td>Right Through You___Yung Bans</td>\n      <td>2021-03-09 22:52</td>\n      <td>Yung Bans</td>\n      <td>Right Through You</td>\n      <td>150465</td>\n      <td>2021-03-09 22:52:00</td>\n      <td>0.804</td>\n      <td>0.358</td>\n      <td>1</td>\n      <td>-10.999</td>\n      <td>...</td>\n      <td>144.029</td>\n      <td>audio_features</td>\n      <td>3PjeetzZNTIuWJGPcacvbS</td>\n      <td>spotify:track:3PjeetzZNTIuWJGPcacvbS</td>\n      <td>https://api.spotify.com/v1/tracks/3PjeetzZNTIu...</td>\n      <td>https://api.spotify.com/v1/audio-analysis/3Pje...</td>\n      <td>150000</td>\n      <td>4</td>\n      <td>Right Through You</td>\n      <td>1gazzdNoCkfeMwUOWxe7S2</td>\n    </tr>\n  </tbody>\n</table>\n<p>5 rows × 26 columns</p>\n</div>"
     },
     "metadata": {},
     "execution_count": 3
    }
   ],
   "source": [
    "df.tail()"
   ]
  },
  {
   "source": [
    "## Data Cleaning & Comprehension"
   ],
   "cell_type": "markdown",
   "metadata": {}
  },
  {
   "cell_type": "code",
   "execution_count": 4,
   "metadata": {},
   "outputs": [
    {
     "output_type": "execute_result",
     "data": {
      "text/plain": [
       "(36224, 26)"
      ]
     },
     "metadata": {},
     "execution_count": 4
    }
   ],
   "source": [
    "df.shape"
   ]
  },
  {
   "cell_type": "code",
   "execution_count": 5,
   "metadata": {},
   "outputs": [
    {
     "output_type": "execute_result",
     "data": {
      "text/plain": [
       "Index(['name', 'endTime', 'artistName', 'trackName', 'msPlayed', 'datetime',\n",
       "       'danceability', 'energy', 'key', 'loudness', 'mode', 'speechiness',\n",
       "       'acousticness', 'instrumentalness', 'liveness', 'valence', 'tempo',\n",
       "       'type', 'id', 'uri', 'track_href', 'analysis_url', 'duration_ms',\n",
       "       'time_signature', 'albumName', 'albumID'],\n",
       "      dtype='object')"
      ]
     },
     "metadata": {},
     "execution_count": 5
    }
   ],
   "source": [
    "df.columns"
   ]
  },
  {
   "source": [
    "# Checking if these two columns are the same\n",
    "df[['msPlayed', 'duration_ms']] "
   ],
   "cell_type": "code",
   "metadata": {},
   "execution_count": 6,
   "outputs": [
    {
     "output_type": "execute_result",
     "data": {
      "text/plain": [
       "       msPlayed  duration_ms\n",
       "0         80666       171827\n",
       "1         22912       123182\n",
       "2        290069       347667\n",
       "3        139834       139835\n",
       "4        208636       591693\n",
       "...         ...          ...\n",
       "36219    219920       219920\n",
       "36220    219453       219453\n",
       "36221    116897       116898\n",
       "36222    107771       107771\n",
       "36223    150465       150000\n",
       "\n",
       "[36224 rows x 2 columns]"
      ],
      "text/html": "<div>\n<style scoped>\n    .dataframe tbody tr th:only-of-type {\n        vertical-align: middle;\n    }\n\n    .dataframe tbody tr th {\n        vertical-align: top;\n    }\n\n    .dataframe thead th {\n        text-align: right;\n    }\n</style>\n<table border=\"1\" class=\"dataframe\">\n  <thead>\n    <tr style=\"text-align: right;\">\n      <th></th>\n      <th>msPlayed</th>\n      <th>duration_ms</th>\n    </tr>\n  </thead>\n  <tbody>\n    <tr>\n      <th>0</th>\n      <td>80666</td>\n      <td>171827</td>\n    </tr>\n    <tr>\n      <th>1</th>\n      <td>22912</td>\n      <td>123182</td>\n    </tr>\n    <tr>\n      <th>2</th>\n      <td>290069</td>\n      <td>347667</td>\n    </tr>\n    <tr>\n      <th>3</th>\n      <td>139834</td>\n      <td>139835</td>\n    </tr>\n    <tr>\n      <th>4</th>\n      <td>208636</td>\n      <td>591693</td>\n    </tr>\n    <tr>\n      <th>...</th>\n      <td>...</td>\n      <td>...</td>\n    </tr>\n    <tr>\n      <th>36219</th>\n      <td>219920</td>\n      <td>219920</td>\n    </tr>\n    <tr>\n      <th>36220</th>\n      <td>219453</td>\n      <td>219453</td>\n    </tr>\n    <tr>\n      <th>36221</th>\n      <td>116897</td>\n      <td>116898</td>\n    </tr>\n    <tr>\n      <th>36222</th>\n      <td>107771</td>\n      <td>107771</td>\n    </tr>\n    <tr>\n      <th>36223</th>\n      <td>150465</td>\n      <td>150000</td>\n    </tr>\n  </tbody>\n</table>\n<p>36224 rows × 2 columns</p>\n</div>"
     },
     "metadata": {},
     "execution_count": 6
    }
   ]
  },
  {
   "cell_type": "code",
   "execution_count": 7,
   "metadata": {},
   "outputs": [
    {
     "output_type": "execute_result",
     "data": {
      "text/plain": [
       "name                False\n",
       "endTime             False\n",
       "artistName          False\n",
       "trackName           False\n",
       "msPlayed            False\n",
       "datetime            False\n",
       "danceability        False\n",
       "energy              False\n",
       "key                 False\n",
       "loudness            False\n",
       "mode                False\n",
       "speechiness         False\n",
       "acousticness        False\n",
       "instrumentalness    False\n",
       "liveness            False\n",
       "valence             False\n",
       "tempo               False\n",
       "type                False\n",
       "id                  False\n",
       "uri                 False\n",
       "track_href          False\n",
       "analysis_url        False\n",
       "duration_ms         False\n",
       "time_signature      False\n",
       "albumName           False\n",
       "albumID             False\n",
       "dtype: bool"
      ]
     },
     "metadata": {},
     "execution_count": 7
    }
   ],
   "source": [
    "# Checking for null values\n",
    "df.isnull().any()"
   ]
  },
  {
   "cell_type": "code",
   "execution_count": 8,
   "metadata": {},
   "outputs": [
    {
     "output_type": "stream",
     "name": "stdout",
     "text": [
      "<class 'pandas.core.frame.DataFrame'>\nInt64Index: 36224 entries, 0 to 36223\nData columns (total 26 columns):\n #   Column            Non-Null Count  Dtype  \n---  ------            --------------  -----  \n 0   name              36224 non-null  object \n 1   endTime           36224 non-null  object \n 2   artistName        36224 non-null  object \n 3   trackName         36224 non-null  object \n 4   msPlayed          36224 non-null  int64  \n 5   datetime          36224 non-null  object \n 6   danceability      36224 non-null  float64\n 7   energy            36224 non-null  float64\n 8   key               36224 non-null  int64  \n 9   loudness          36224 non-null  float64\n 10  mode              36224 non-null  int64  \n 11  speechiness       36224 non-null  float64\n 12  acousticness      36224 non-null  float64\n 13  instrumentalness  36224 non-null  float64\n 14  liveness          36224 non-null  float64\n 15  valence           36224 non-null  float64\n 16  tempo             36224 non-null  float64\n 17  type              36224 non-null  object \n 18  id                36224 non-null  object \n 19  uri               36224 non-null  object \n 20  track_href        36224 non-null  object \n 21  analysis_url      36224 non-null  object \n 22  duration_ms       36224 non-null  int64  \n 23  time_signature    36224 non-null  int64  \n 24  albumName         36224 non-null  object \n 25  albumID           36224 non-null  object \ndtypes: float64(9), int64(5), object(12)\nmemory usage: 7.5+ MB\n"
     ]
    }
   ],
   "source": [
    "df.info()"
   ]
  },
  {
   "cell_type": "code",
   "execution_count": 9,
   "metadata": {},
   "outputs": [],
   "source": [
    "# Converting time columns to dt format\n",
    "df['endTime'] = pd.to_datetime(df['endTime'])\n",
    "df['datetime'] = pd.to_datetime(df['datetime'])"
   ]
  },
  {
   "cell_type": "code",
   "execution_count": 10,
   "metadata": {},
   "outputs": [
    {
     "output_type": "execute_result",
     "data": {
      "text/plain": [
       "Empty DataFrame\n",
       "Columns: [name, endTime, artistName, trackName, msPlayed, datetime, danceability, energy, key, loudness, mode, speechiness, acousticness, instrumentalness, liveness, valence, tempo, type, id, uri, track_href, analysis_url, duration_ms, time_signature, albumName, albumID]\n",
       "Index: []\n",
       "\n",
       "[0 rows x 26 columns]"
      ],
      "text/html": "<div>\n<style scoped>\n    .dataframe tbody tr th:only-of-type {\n        vertical-align: middle;\n    }\n\n    .dataframe tbody tr th {\n        vertical-align: top;\n    }\n\n    .dataframe thead th {\n        text-align: right;\n    }\n</style>\n<table border=\"1\" class=\"dataframe\">\n  <thead>\n    <tr style=\"text-align: right;\">\n      <th></th>\n      <th>name</th>\n      <th>endTime</th>\n      <th>artistName</th>\n      <th>trackName</th>\n      <th>msPlayed</th>\n      <th>datetime</th>\n      <th>danceability</th>\n      <th>energy</th>\n      <th>key</th>\n      <th>loudness</th>\n      <th>...</th>\n      <th>tempo</th>\n      <th>type</th>\n      <th>id</th>\n      <th>uri</th>\n      <th>track_href</th>\n      <th>analysis_url</th>\n      <th>duration_ms</th>\n      <th>time_signature</th>\n      <th>albumName</th>\n      <th>albumID</th>\n    </tr>\n  </thead>\n  <tbody>\n  </tbody>\n</table>\n<p>0 rows × 26 columns</p>\n</div>"
     },
     "metadata": {},
     "execution_count": 10
    }
   ],
   "source": [
    "# Checking for duplicate entries\n",
    "df[df.duplicated()]"
   ]
  },
  {
   "cell_type": "code",
   "execution_count": 11,
   "metadata": {},
   "outputs": [],
   "source": [
    "# Create new columns with song name & artist\n",
    "df['name'] = df['name'].str.replace('___',' by ')"
   ]
  },
  {
   "cell_type": "code",
   "execution_count": 12,
   "metadata": {},
   "outputs": [],
   "source": [
    "# Create new column with minutes listened to\n",
    "df['minutesPlayed'] = df['msPlayed'] / 60000"
   ]
  },
  {
   "cell_type": "code",
   "execution_count": 13,
   "metadata": {},
   "outputs": [],
   "source": [
    "# Create new column with total length of song in minutes\n",
    "df['totalMinutes'] = df['duration_ms'] / 60000"
   ]
  },
  {
   "cell_type": "code",
   "execution_count": 14,
   "metadata": {},
   "outputs": [],
   "source": [
    "# Create column with only day, time, hour, year\n",
    "df['date'] = [d.date() for d in df['endTime']]\n",
    "df['time'] = [d.time() for d in df['endTime']]\n",
    "df['day'] = df['endTime'].dt.day\n",
    "df['hour'] = df['endTime'].dt.hour\n",
    "df['year'] = df['endTime'].dt.year"
   ]
  },
  {
   "source": [
    "## Data Exploration"
   ],
   "cell_type": "markdown",
   "metadata": {}
  },
  {
   "cell_type": "code",
   "execution_count": 15,
   "metadata": {},
   "outputs": [
    {
     "output_type": "execute_result",
     "data": {
      "text/plain": [
       "                                 name             endTime   artistName  \\\n",
       "0  Move It (feat. Offset) by Lil Keed 2020-03-08 17:00:00     Lil Keed   \n",
       "1                 Way 2 Rare by LUCKI 2020-03-08 18:51:00        LUCKI   \n",
       "2          Cool It Now by New Edition 2020-03-08 19:00:00  New Edition   \n",
       "3                 Feeling Safe by DLJ 2020-03-09 00:38:00          DLJ   \n",
       "4                Tides Out by Astairé 2020-03-09 00:42:00      Astairé   \n",
       "\n",
       "                trackName  msPlayed            datetime  danceability  energy  \\\n",
       "0  Move It (feat. Offset)     80666 2020-03-08 17:00:00         0.964   0.390   \n",
       "1              Way 2 Rare     22912 2020-03-08 18:51:00         0.644   0.678   \n",
       "2             Cool It Now    290069 2020-03-08 19:00:00         0.871   0.532   \n",
       "3            Feeling Safe    139834 2020-03-09 00:38:00         0.828   0.250   \n",
       "4               Tides Out    208636 2020-03-09 00:42:00         0.272   0.876   \n",
       "\n",
       "   key  loudness  ...  time_signature               albumName  \\\n",
       "0    1    -8.812  ...               4  Move It (feat. Offset)   \n",
       "1   10    -8.986  ...               4             Days B4 III   \n",
       "2   10   -13.335  ...               4             New Edition   \n",
       "3    1   -15.887  ...               4            Feeling Safe   \n",
       "4    4    -7.135  ...               4             The Outlaws   \n",
       "\n",
       "                  albumID  minutesPlayed  totalMinutes        date      time  \\\n",
       "0  66BviQeZVng0GigsRwDsLq       1.344433      2.863783  2020-03-08  17:00:00   \n",
       "1  0p1QXY0M8LRXybgy9TchHE       0.381867      2.053033  2020-03-08  18:51:00   \n",
       "2  68moCweQx7EoMvHdZ6HzDc       4.834483      5.794450  2020-03-08  19:00:00   \n",
       "3  6KHpq8tlBKcvmdw8sZHugV       2.330567      2.330583  2020-03-09  00:38:00   \n",
       "4  5NR8rq89bfEMA7JJGzfFkp       3.477267      9.861550  2020-03-09  00:42:00   \n",
       "\n",
       "  day hour  year  \n",
       "0   8   17  2020  \n",
       "1   8   18  2020  \n",
       "2   8   19  2020  \n",
       "3   9    0  2020  \n",
       "4   9    0  2020  \n",
       "\n",
       "[5 rows x 33 columns]"
      ],
      "text/html": "<div>\n<style scoped>\n    .dataframe tbody tr th:only-of-type {\n        vertical-align: middle;\n    }\n\n    .dataframe tbody tr th {\n        vertical-align: top;\n    }\n\n    .dataframe thead th {\n        text-align: right;\n    }\n</style>\n<table border=\"1\" class=\"dataframe\">\n  <thead>\n    <tr style=\"text-align: right;\">\n      <th></th>\n      <th>name</th>\n      <th>endTime</th>\n      <th>artistName</th>\n      <th>trackName</th>\n      <th>msPlayed</th>\n      <th>datetime</th>\n      <th>danceability</th>\n      <th>energy</th>\n      <th>key</th>\n      <th>loudness</th>\n      <th>...</th>\n      <th>time_signature</th>\n      <th>albumName</th>\n      <th>albumID</th>\n      <th>minutesPlayed</th>\n      <th>totalMinutes</th>\n      <th>date</th>\n      <th>time</th>\n      <th>day</th>\n      <th>hour</th>\n      <th>year</th>\n    </tr>\n  </thead>\n  <tbody>\n    <tr>\n      <th>0</th>\n      <td>Move It (feat. Offset) by Lil Keed</td>\n      <td>2020-03-08 17:00:00</td>\n      <td>Lil Keed</td>\n      <td>Move It (feat. Offset)</td>\n      <td>80666</td>\n      <td>2020-03-08 17:00:00</td>\n      <td>0.964</td>\n      <td>0.390</td>\n      <td>1</td>\n      <td>-8.812</td>\n      <td>...</td>\n      <td>4</td>\n      <td>Move It (feat. Offset)</td>\n      <td>66BviQeZVng0GigsRwDsLq</td>\n      <td>1.344433</td>\n      <td>2.863783</td>\n      <td>2020-03-08</td>\n      <td>17:00:00</td>\n      <td>8</td>\n      <td>17</td>\n      <td>2020</td>\n    </tr>\n    <tr>\n      <th>1</th>\n      <td>Way 2 Rare by LUCKI</td>\n      <td>2020-03-08 18:51:00</td>\n      <td>LUCKI</td>\n      <td>Way 2 Rare</td>\n      <td>22912</td>\n      <td>2020-03-08 18:51:00</td>\n      <td>0.644</td>\n      <td>0.678</td>\n      <td>10</td>\n      <td>-8.986</td>\n      <td>...</td>\n      <td>4</td>\n      <td>Days B4 III</td>\n      <td>0p1QXY0M8LRXybgy9TchHE</td>\n      <td>0.381867</td>\n      <td>2.053033</td>\n      <td>2020-03-08</td>\n      <td>18:51:00</td>\n      <td>8</td>\n      <td>18</td>\n      <td>2020</td>\n    </tr>\n    <tr>\n      <th>2</th>\n      <td>Cool It Now by New Edition</td>\n      <td>2020-03-08 19:00:00</td>\n      <td>New Edition</td>\n      <td>Cool It Now</td>\n      <td>290069</td>\n      <td>2020-03-08 19:00:00</td>\n      <td>0.871</td>\n      <td>0.532</td>\n      <td>10</td>\n      <td>-13.335</td>\n      <td>...</td>\n      <td>4</td>\n      <td>New Edition</td>\n      <td>68moCweQx7EoMvHdZ6HzDc</td>\n      <td>4.834483</td>\n      <td>5.794450</td>\n      <td>2020-03-08</td>\n      <td>19:00:00</td>\n      <td>8</td>\n      <td>19</td>\n      <td>2020</td>\n    </tr>\n    <tr>\n      <th>3</th>\n      <td>Feeling Safe by DLJ</td>\n      <td>2020-03-09 00:38:00</td>\n      <td>DLJ</td>\n      <td>Feeling Safe</td>\n      <td>139834</td>\n      <td>2020-03-09 00:38:00</td>\n      <td>0.828</td>\n      <td>0.250</td>\n      <td>1</td>\n      <td>-15.887</td>\n      <td>...</td>\n      <td>4</td>\n      <td>Feeling Safe</td>\n      <td>6KHpq8tlBKcvmdw8sZHugV</td>\n      <td>2.330567</td>\n      <td>2.330583</td>\n      <td>2020-03-09</td>\n      <td>00:38:00</td>\n      <td>9</td>\n      <td>0</td>\n      <td>2020</td>\n    </tr>\n    <tr>\n      <th>4</th>\n      <td>Tides Out by Astairé</td>\n      <td>2020-03-09 00:42:00</td>\n      <td>Astairé</td>\n      <td>Tides Out</td>\n      <td>208636</td>\n      <td>2020-03-09 00:42:00</td>\n      <td>0.272</td>\n      <td>0.876</td>\n      <td>4</td>\n      <td>-7.135</td>\n      <td>...</td>\n      <td>4</td>\n      <td>The Outlaws</td>\n      <td>5NR8rq89bfEMA7JJGzfFkp</td>\n      <td>3.477267</td>\n      <td>9.861550</td>\n      <td>2020-03-09</td>\n      <td>00:42:00</td>\n      <td>9</td>\n      <td>0</td>\n      <td>2020</td>\n    </tr>\n  </tbody>\n</table>\n<p>5 rows × 33 columns</p>\n</div>"
     },
     "metadata": {},
     "execution_count": 15
    }
   ],
   "source": [
    "df.head()"
   ]
  },
  {
   "cell_type": "code",
   "execution_count": 16,
   "metadata": {},
   "outputs": [
    {
     "output_type": "display_data",
     "data": {
      "text/plain": "<Figure size 1080x360 with 1 Axes>",
      "image/svg+xml": "<?xml version=\"1.0\" encoding=\"utf-8\" standalone=\"no\"?>\n<!DOCTYPE svg PUBLIC \"-//W3C//DTD SVG 1.1//EN\"\n  \"http://www.w3.org/Graphics/SVG/1.1/DTD/svg11.dtd\">\n<!-- Created with matplotlib (https://matplotlib.org/) -->\n<svg height=\"410.051658pt\" version=\"1.1\" viewBox=\"0 0 898.882043 410.051658\" width=\"898.882043pt\" xmlns=\"http://www.w3.org/2000/svg\" xmlns:xlink=\"http://www.w3.org/1999/xlink\">\n <metadata>\n  <rdf:RDF xmlns:cc=\"http://creativecommons.org/ns#\" xmlns:dc=\"http://purl.org/dc/elements/1.1/\" xmlns:rdf=\"http://www.w3.org/1999/02/22-rdf-syntax-ns#\">\n   <cc:Work>\n    <dc:type rdf:resource=\"http://purl.org/dc/dcmitype/StillImage\"/>\n    <dc:date>2021-03-13T11:10:02.412320</dc:date>\n    <dc:format>image/svg+xml</dc:format>\n    <dc:creator>\n     <cc:Agent>\n      <dc:title>Matplotlib v3.3.1, https://matplotlib.org/</dc:title>\n     </cc:Agent>\n    </dc:creator>\n   </cc:Work>\n  </rdf:RDF>\n </metadata>\n <defs>\n  <style type=\"text/css\">*{stroke-linecap:butt;stroke-linejoin:round;}</style>\n </defs>\n <g id=\"figure_1\">\n  <g id=\"patch_1\">\n   <path d=\"M 0 410.051658 \nL 898.882043 410.051658 \nL 898.882043 0 \nL 0 0 \nz\n\" style=\"fill:none;\"/>\n  </g>\n  <g id=\"axes_1\">\n   <g id=\"patch_2\">\n    <path d=\"M 48.90125 294.118125 \nL 885.90125 294.118125 \nL 885.90125 22.318125 \nL 48.90125 22.318125 \nz\n\" style=\"fill:#ffffff;\"/>\n   </g>\n   <g id=\"patch_3\">\n    <path clip-path=\"url(#p1c89b94c84)\" d=\"M 57.27125 294.118125 \nL 124.23125 294.118125 \nL 124.23125 35.260982 \nL 57.27125 35.260982 \nz\n\" style=\"fill:#3274a1;opacity:0.8;\"/>\n   </g>\n   <g id=\"patch_4\">\n    <path clip-path=\"url(#p1c89b94c84)\" d=\"M 140.97125 294.118125 \nL 207.93125 294.118125 \nL 207.93125 54.744853 \nL 140.97125 54.744853 \nz\n\" style=\"fill:#e1812c;opacity:0.8;\"/>\n   </g>\n   <g id=\"patch_5\">\n    <path clip-path=\"url(#p1c89b94c84)\" d=\"M 224.67125 294.118125 \nL 291.63125 294.118125 \nL 291.63125 79.795544 \nL 224.67125 79.795544 \nz\n\" style=\"fill:#3a923a;opacity:0.8;\"/>\n   </g>\n   <g id=\"patch_6\">\n    <path clip-path=\"url(#p1c89b94c84)\" d=\"M 308.37125 294.118125 \nL 375.33125 294.118125 \nL 375.33125 96.496005 \nL 308.37125 96.496005 \nz\n\" style=\"fill:#c03d3e;opacity:0.8;\"/>\n   </g>\n   <g id=\"patch_7\">\n    <path clip-path=\"url(#p1c89b94c84)\" d=\"M 392.07125 294.118125 \nL 459.03125 294.118125 \nL 459.03125 106.237941 \nL 392.07125 106.237941 \nz\n\" style=\"fill:#9372b2;opacity:0.8;\"/>\n   </g>\n   <g id=\"patch_8\">\n    <path clip-path=\"url(#p1c89b94c84)\" d=\"M 475.77125 294.118125 \nL 542.73125 294.118125 \nL 542.73125 111.804761 \nL 475.77125 111.804761 \nz\n\" style=\"fill:#845b53;opacity:0.8;\"/>\n   </g>\n   <g id=\"patch_9\">\n    <path clip-path=\"url(#p1c89b94c84)\" d=\"M 559.47125 294.118125 \nL 626.43125 294.118125 \nL 626.43125 113.196466 \nL 559.47125 113.196466 \nz\n\" style=\"fill:#d684bd;opacity:0.8;\"/>\n   </g>\n   <g id=\"patch_10\">\n    <path clip-path=\"url(#p1c89b94c84)\" d=\"M 643.17125 294.118125 \nL 710.13125 294.118125 \nL 710.13125 113.196466 \nL 643.17125 113.196466 \nz\n\" style=\"fill:#7f7f7f;opacity:0.8;\"/>\n   </g>\n   <g id=\"patch_11\">\n    <path clip-path=\"url(#p1c89b94c84)\" d=\"M 726.87125 294.118125 \nL 793.83125 294.118125 \nL 793.83125 117.371581 \nL 726.87125 117.371581 \nz\n\" style=\"fill:#a9aa35;opacity:0.8;\"/>\n   </g>\n   <g id=\"patch_12\">\n    <path clip-path=\"url(#p1c89b94c84)\" d=\"M 810.57125 294.118125 \nL 877.53125 294.118125 \nL 877.53125 118.763286 \nL 810.57125 118.763286 \nz\n\" style=\"fill:#2eabb8;opacity:0.8;\"/>\n   </g>\n   <g id=\"matplotlib.axis_1\">\n    <g id=\"xtick_1\">\n     <g id=\"line2d_1\">\n      <defs>\n       <path d=\"M 0 0 \nL 0 3.5 \n\" id=\"m693a3e06e6\" style=\"stroke:#000000;stroke-width:0.8;\"/>\n      </defs>\n      <g>\n       <use style=\"stroke:#000000;stroke-width:0.8;\" x=\"90.75125\" xlink:href=\"#m693a3e06e6\" y=\"294.118125\"/>\n      </g>\n     </g>\n     <g id=\"text_1\">\n      <!-- Prada Tune by LUCKI -->\n      <g transform=\"translate(47.670682 359.036846)rotate(-30)scale(0.1 -0.1)\">\n       <defs>\n        <path d=\"M 19.671875 64.796875 \nL 19.671875 37.40625 \nL 32.078125 37.40625 \nQ 38.96875 37.40625 42.71875 40.96875 \nQ 46.484375 44.53125 46.484375 51.125 \nQ 46.484375 57.671875 42.71875 61.234375 \nQ 38.96875 64.796875 32.078125 64.796875 \nz\nM 9.8125 72.90625 \nL 32.078125 72.90625 \nQ 44.34375 72.90625 50.609375 67.359375 \nQ 56.890625 61.8125 56.890625 51.125 \nQ 56.890625 40.328125 50.609375 34.8125 \nQ 44.34375 29.296875 32.078125 29.296875 \nL 19.671875 29.296875 \nL 19.671875 0 \nL 9.8125 0 \nz\n\" id=\"DejaVuSans-80\"/>\n        <path d=\"M 41.109375 46.296875 \nQ 39.59375 47.171875 37.8125 47.578125 \nQ 36.03125 48 33.890625 48 \nQ 26.265625 48 22.1875 43.046875 \nQ 18.109375 38.09375 18.109375 28.8125 \nL 18.109375 0 \nL 9.078125 0 \nL 9.078125 54.6875 \nL 18.109375 54.6875 \nL 18.109375 46.1875 \nQ 20.953125 51.171875 25.484375 53.578125 \nQ 30.03125 56 36.53125 56 \nQ 37.453125 56 38.578125 55.875 \nQ 39.703125 55.765625 41.0625 55.515625 \nz\n\" id=\"DejaVuSans-114\"/>\n        <path d=\"M 34.28125 27.484375 \nQ 23.390625 27.484375 19.1875 25 \nQ 14.984375 22.515625 14.984375 16.5 \nQ 14.984375 11.71875 18.140625 8.90625 \nQ 21.296875 6.109375 26.703125 6.109375 \nQ 34.1875 6.109375 38.703125 11.40625 \nQ 43.21875 16.703125 43.21875 25.484375 \nL 43.21875 27.484375 \nz\nM 52.203125 31.203125 \nL 52.203125 0 \nL 43.21875 0 \nL 43.21875 8.296875 \nQ 40.140625 3.328125 35.546875 0.953125 \nQ 30.953125 -1.421875 24.3125 -1.421875 \nQ 15.921875 -1.421875 10.953125 3.296875 \nQ 6 8.015625 6 15.921875 \nQ 6 25.140625 12.171875 29.828125 \nQ 18.359375 34.515625 30.609375 34.515625 \nL 43.21875 34.515625 \nL 43.21875 35.40625 \nQ 43.21875 41.609375 39.140625 45 \nQ 35.0625 48.390625 27.6875 48.390625 \nQ 23 48.390625 18.546875 47.265625 \nQ 14.109375 46.140625 10.015625 43.890625 \nL 10.015625 52.203125 \nQ 14.9375 54.109375 19.578125 55.046875 \nQ 24.21875 56 28.609375 56 \nQ 40.484375 56 46.34375 49.84375 \nQ 52.203125 43.703125 52.203125 31.203125 \nz\n\" id=\"DejaVuSans-97\"/>\n        <path d=\"M 45.40625 46.390625 \nL 45.40625 75.984375 \nL 54.390625 75.984375 \nL 54.390625 0 \nL 45.40625 0 \nL 45.40625 8.203125 \nQ 42.578125 3.328125 38.25 0.953125 \nQ 33.9375 -1.421875 27.875 -1.421875 \nQ 17.96875 -1.421875 11.734375 6.484375 \nQ 5.515625 14.40625 5.515625 27.296875 \nQ 5.515625 40.1875 11.734375 48.09375 \nQ 17.96875 56 27.875 56 \nQ 33.9375 56 38.25 53.625 \nQ 42.578125 51.265625 45.40625 46.390625 \nz\nM 14.796875 27.296875 \nQ 14.796875 17.390625 18.875 11.75 \nQ 22.953125 6.109375 30.078125 6.109375 \nQ 37.203125 6.109375 41.296875 11.75 \nQ 45.40625 17.390625 45.40625 27.296875 \nQ 45.40625 37.203125 41.296875 42.84375 \nQ 37.203125 48.484375 30.078125 48.484375 \nQ 22.953125 48.484375 18.875 42.84375 \nQ 14.796875 37.203125 14.796875 27.296875 \nz\n\" id=\"DejaVuSans-100\"/>\n        <path id=\"DejaVuSans-32\"/>\n        <path d=\"M -0.296875 72.90625 \nL 61.375 72.90625 \nL 61.375 64.59375 \nL 35.5 64.59375 \nL 35.5 0 \nL 25.59375 0 \nL 25.59375 64.59375 \nL -0.296875 64.59375 \nz\n\" id=\"DejaVuSans-84\"/>\n        <path d=\"M 8.5 21.578125 \nL 8.5 54.6875 \nL 17.484375 54.6875 \nL 17.484375 21.921875 \nQ 17.484375 14.15625 20.5 10.265625 \nQ 23.53125 6.390625 29.59375 6.390625 \nQ 36.859375 6.390625 41.078125 11.03125 \nQ 45.3125 15.671875 45.3125 23.6875 \nL 45.3125 54.6875 \nL 54.296875 54.6875 \nL 54.296875 0 \nL 45.3125 0 \nL 45.3125 8.40625 \nQ 42.046875 3.421875 37.71875 1 \nQ 33.40625 -1.421875 27.6875 -1.421875 \nQ 18.265625 -1.421875 13.375 4.4375 \nQ 8.5 10.296875 8.5 21.578125 \nz\nM 31.109375 56 \nz\n\" id=\"DejaVuSans-117\"/>\n        <path d=\"M 54.890625 33.015625 \nL 54.890625 0 \nL 45.90625 0 \nL 45.90625 32.71875 \nQ 45.90625 40.484375 42.875 44.328125 \nQ 39.84375 48.1875 33.796875 48.1875 \nQ 26.515625 48.1875 22.3125 43.546875 \nQ 18.109375 38.921875 18.109375 30.90625 \nL 18.109375 0 \nL 9.078125 0 \nL 9.078125 54.6875 \nL 18.109375 54.6875 \nL 18.109375 46.1875 \nQ 21.34375 51.125 25.703125 53.5625 \nQ 30.078125 56 35.796875 56 \nQ 45.21875 56 50.046875 50.171875 \nQ 54.890625 44.34375 54.890625 33.015625 \nz\n\" id=\"DejaVuSans-110\"/>\n        <path d=\"M 56.203125 29.59375 \nL 56.203125 25.203125 \nL 14.890625 25.203125 \nQ 15.484375 15.921875 20.484375 11.0625 \nQ 25.484375 6.203125 34.421875 6.203125 \nQ 39.59375 6.203125 44.453125 7.46875 \nQ 49.3125 8.734375 54.109375 11.28125 \nL 54.109375 2.78125 \nQ 49.265625 0.734375 44.1875 -0.34375 \nQ 39.109375 -1.421875 33.890625 -1.421875 \nQ 20.796875 -1.421875 13.15625 6.1875 \nQ 5.515625 13.8125 5.515625 26.8125 \nQ 5.515625 40.234375 12.765625 48.109375 \nQ 20.015625 56 32.328125 56 \nQ 43.359375 56 49.78125 48.890625 \nQ 56.203125 41.796875 56.203125 29.59375 \nz\nM 47.21875 32.234375 \nQ 47.125 39.59375 43.09375 43.984375 \nQ 39.0625 48.390625 32.421875 48.390625 \nQ 24.90625 48.390625 20.390625 44.140625 \nQ 15.875 39.890625 15.1875 32.171875 \nz\n\" id=\"DejaVuSans-101\"/>\n        <path d=\"M 48.6875 27.296875 \nQ 48.6875 37.203125 44.609375 42.84375 \nQ 40.53125 48.484375 33.40625 48.484375 \nQ 26.265625 48.484375 22.1875 42.84375 \nQ 18.109375 37.203125 18.109375 27.296875 \nQ 18.109375 17.390625 22.1875 11.75 \nQ 26.265625 6.109375 33.40625 6.109375 \nQ 40.53125 6.109375 44.609375 11.75 \nQ 48.6875 17.390625 48.6875 27.296875 \nz\nM 18.109375 46.390625 \nQ 20.953125 51.265625 25.265625 53.625 \nQ 29.59375 56 35.59375 56 \nQ 45.5625 56 51.78125 48.09375 \nQ 58.015625 40.1875 58.015625 27.296875 \nQ 58.015625 14.40625 51.78125 6.484375 \nQ 45.5625 -1.421875 35.59375 -1.421875 \nQ 29.59375 -1.421875 25.265625 0.953125 \nQ 20.953125 3.328125 18.109375 8.203125 \nL 18.109375 0 \nL 9.078125 0 \nL 9.078125 75.984375 \nL 18.109375 75.984375 \nz\n\" id=\"DejaVuSans-98\"/>\n        <path d=\"M 32.171875 -5.078125 \nQ 28.375 -14.84375 24.75 -17.8125 \nQ 21.140625 -20.796875 15.09375 -20.796875 \nL 7.90625 -20.796875 \nL 7.90625 -13.28125 \nL 13.1875 -13.28125 \nQ 16.890625 -13.28125 18.9375 -11.515625 \nQ 21 -9.765625 23.484375 -3.21875 \nL 25.09375 0.875 \nL 2.984375 54.6875 \nL 12.5 54.6875 \nL 29.59375 11.921875 \nL 46.6875 54.6875 \nL 56.203125 54.6875 \nz\n\" id=\"DejaVuSans-121\"/>\n        <path d=\"M 9.8125 72.90625 \nL 19.671875 72.90625 \nL 19.671875 8.296875 \nL 55.171875 8.296875 \nL 55.171875 0 \nL 9.8125 0 \nz\n\" id=\"DejaVuSans-76\"/>\n        <path d=\"M 8.6875 72.90625 \nL 18.609375 72.90625 \nL 18.609375 28.609375 \nQ 18.609375 16.890625 22.84375 11.734375 \nQ 27.09375 6.59375 36.625 6.59375 \nQ 46.09375 6.59375 50.34375 11.734375 \nQ 54.59375 16.890625 54.59375 28.609375 \nL 54.59375 72.90625 \nL 64.5 72.90625 \nL 64.5 27.390625 \nQ 64.5 13.140625 57.4375 5.859375 \nQ 50.390625 -1.421875 36.625 -1.421875 \nQ 22.796875 -1.421875 15.734375 5.859375 \nQ 8.6875 13.140625 8.6875 27.390625 \nz\n\" id=\"DejaVuSans-85\"/>\n        <path d=\"M 64.40625 67.28125 \nL 64.40625 56.890625 \nQ 59.421875 61.53125 53.78125 63.8125 \nQ 48.140625 66.109375 41.796875 66.109375 \nQ 29.296875 66.109375 22.65625 58.46875 \nQ 16.015625 50.828125 16.015625 36.375 \nQ 16.015625 21.96875 22.65625 14.328125 \nQ 29.296875 6.6875 41.796875 6.6875 \nQ 48.140625 6.6875 53.78125 8.984375 \nQ 59.421875 11.28125 64.40625 15.921875 \nL 64.40625 5.609375 \nQ 59.234375 2.09375 53.4375 0.328125 \nQ 47.65625 -1.421875 41.21875 -1.421875 \nQ 24.65625 -1.421875 15.125 8.703125 \nQ 5.609375 18.84375 5.609375 36.375 \nQ 5.609375 53.953125 15.125 64.078125 \nQ 24.65625 74.21875 41.21875 74.21875 \nQ 47.75 74.21875 53.53125 72.484375 \nQ 59.328125 70.75 64.40625 67.28125 \nz\n\" id=\"DejaVuSans-67\"/>\n        <path d=\"M 9.8125 72.90625 \nL 19.671875 72.90625 \nL 19.671875 42.09375 \nL 52.390625 72.90625 \nL 65.09375 72.90625 \nL 28.90625 38.921875 \nL 67.671875 0 \nL 54.6875 0 \nL 19.671875 35.109375 \nL 19.671875 0 \nL 9.8125 0 \nz\n\" id=\"DejaVuSans-75\"/>\n        <path d=\"M 9.8125 72.90625 \nL 19.671875 72.90625 \nL 19.671875 0 \nL 9.8125 0 \nz\n\" id=\"DejaVuSans-73\"/>\n       </defs>\n       <use xlink:href=\"#DejaVuSans-80\"/>\n       <use x=\"58.552734\" xlink:href=\"#DejaVuSans-114\"/>\n       <use x=\"99.666016\" xlink:href=\"#DejaVuSans-97\"/>\n       <use x=\"160.945312\" xlink:href=\"#DejaVuSans-100\"/>\n       <use x=\"224.421875\" xlink:href=\"#DejaVuSans-97\"/>\n       <use x=\"285.701172\" xlink:href=\"#DejaVuSans-32\"/>\n       <use x=\"317.488281\" xlink:href=\"#DejaVuSans-84\"/>\n       <use x=\"363.447266\" xlink:href=\"#DejaVuSans-117\"/>\n       <use x=\"426.826172\" xlink:href=\"#DejaVuSans-110\"/>\n       <use x=\"490.205078\" xlink:href=\"#DejaVuSans-101\"/>\n       <use x=\"551.728516\" xlink:href=\"#DejaVuSans-32\"/>\n       <use x=\"583.515625\" xlink:href=\"#DejaVuSans-98\"/>\n       <use x=\"646.992188\" xlink:href=\"#DejaVuSans-121\"/>\n       <use x=\"706.171875\" xlink:href=\"#DejaVuSans-32\"/>\n       <use x=\"737.958984\" xlink:href=\"#DejaVuSans-76\"/>\n       <use x=\"788.671875\" xlink:href=\"#DejaVuSans-85\"/>\n       <use x=\"861.865234\" xlink:href=\"#DejaVuSans-67\"/>\n       <use x=\"931.689453\" xlink:href=\"#DejaVuSans-75\"/>\n       <use x=\"997.265625\" xlink:href=\"#DejaVuSans-73\"/>\n      </g>\n     </g>\n    </g>\n    <g id=\"xtick_2\">\n     <g id=\"line2d_2\">\n      <g>\n       <use style=\"stroke:#000000;stroke-width:0.8;\" x=\"174.45125\" xlink:href=\"#m693a3e06e6\" y=\"294.118125\"/>\n      </g>\n     </g>\n     <g id=\"text_2\">\n      <!-- Tarantino by LUCKI -->\n      <g transform=\"translate(135.204874 354.609502)rotate(-30)scale(0.1 -0.1)\">\n       <defs>\n        <path d=\"M 18.3125 70.21875 \nL 18.3125 54.6875 \nL 36.8125 54.6875 \nL 36.8125 47.703125 \nL 18.3125 47.703125 \nL 18.3125 18.015625 \nQ 18.3125 11.328125 20.140625 9.421875 \nQ 21.96875 7.515625 27.59375 7.515625 \nL 36.8125 7.515625 \nL 36.8125 0 \nL 27.59375 0 \nQ 17.1875 0 13.234375 3.875 \nQ 9.28125 7.765625 9.28125 18.015625 \nL 9.28125 47.703125 \nL 2.6875 47.703125 \nL 2.6875 54.6875 \nL 9.28125 54.6875 \nL 9.28125 70.21875 \nz\n\" id=\"DejaVuSans-116\"/>\n        <path d=\"M 9.421875 54.6875 \nL 18.40625 54.6875 \nL 18.40625 0 \nL 9.421875 0 \nz\nM 9.421875 75.984375 \nL 18.40625 75.984375 \nL 18.40625 64.59375 \nL 9.421875 64.59375 \nz\n\" id=\"DejaVuSans-105\"/>\n        <path d=\"M 30.609375 48.390625 \nQ 23.390625 48.390625 19.1875 42.75 \nQ 14.984375 37.109375 14.984375 27.296875 \nQ 14.984375 17.484375 19.15625 11.84375 \nQ 23.34375 6.203125 30.609375 6.203125 \nQ 37.796875 6.203125 41.984375 11.859375 \nQ 46.1875 17.53125 46.1875 27.296875 \nQ 46.1875 37.015625 41.984375 42.703125 \nQ 37.796875 48.390625 30.609375 48.390625 \nz\nM 30.609375 56 \nQ 42.328125 56 49.015625 48.375 \nQ 55.71875 40.765625 55.71875 27.296875 \nQ 55.71875 13.875 49.015625 6.21875 \nQ 42.328125 -1.421875 30.609375 -1.421875 \nQ 18.84375 -1.421875 12.171875 6.21875 \nQ 5.515625 13.875 5.515625 27.296875 \nQ 5.515625 40.765625 12.171875 48.375 \nQ 18.84375 56 30.609375 56 \nz\n\" id=\"DejaVuSans-111\"/>\n       </defs>\n       <use xlink:href=\"#DejaVuSans-84\"/>\n       <use x=\"44.583984\" xlink:href=\"#DejaVuSans-97\"/>\n       <use x=\"105.863281\" xlink:href=\"#DejaVuSans-114\"/>\n       <use x=\"146.976562\" xlink:href=\"#DejaVuSans-97\"/>\n       <use x=\"208.255859\" xlink:href=\"#DejaVuSans-110\"/>\n       <use x=\"271.634766\" xlink:href=\"#DejaVuSans-116\"/>\n       <use x=\"310.84375\" xlink:href=\"#DejaVuSans-105\"/>\n       <use x=\"338.626953\" xlink:href=\"#DejaVuSans-110\"/>\n       <use x=\"402.005859\" xlink:href=\"#DejaVuSans-111\"/>\n       <use x=\"463.1875\" xlink:href=\"#DejaVuSans-32\"/>\n       <use x=\"494.974609\" xlink:href=\"#DejaVuSans-98\"/>\n       <use x=\"558.451172\" xlink:href=\"#DejaVuSans-121\"/>\n       <use x=\"617.630859\" xlink:href=\"#DejaVuSans-32\"/>\n       <use x=\"649.417969\" xlink:href=\"#DejaVuSans-76\"/>\n       <use x=\"700.130859\" xlink:href=\"#DejaVuSans-85\"/>\n       <use x=\"773.324219\" xlink:href=\"#DejaVuSans-67\"/>\n       <use x=\"843.148438\" xlink:href=\"#DejaVuSans-75\"/>\n       <use x=\"908.724609\" xlink:href=\"#DejaVuSans-73\"/>\n      </g>\n     </g>\n    </g>\n    <g id=\"xtick_3\">\n     <g id=\"line2d_3\">\n      <g>\n       <use style=\"stroke:#000000;stroke-width:0.8;\" x=\"258.15125\" xlink:href=\"#m693a3e06e6\" y=\"294.118125\"/>\n      </g>\n     </g>\n     <g id=\"text_3\">\n      <!-- Lo-Air by WNX -->\n      <g transform=\"translate(228.502194 343.527471)rotate(-30)scale(0.1 -0.1)\">\n       <defs>\n        <path d=\"M 4.890625 31.390625 \nL 31.203125 31.390625 \nL 31.203125 23.390625 \nL 4.890625 23.390625 \nz\n\" id=\"DejaVuSans-45\"/>\n        <path d=\"M 34.1875 63.1875 \nL 20.796875 26.90625 \nL 47.609375 26.90625 \nz\nM 28.609375 72.90625 \nL 39.796875 72.90625 \nL 67.578125 0 \nL 57.328125 0 \nL 50.6875 18.703125 \nL 17.828125 18.703125 \nL 11.1875 0 \nL 0.78125 0 \nz\n\" id=\"DejaVuSans-65\"/>\n        <path d=\"M 3.328125 72.90625 \nL 13.28125 72.90625 \nL 28.609375 11.28125 \nL 43.890625 72.90625 \nL 54.984375 72.90625 \nL 70.3125 11.28125 \nL 85.59375 72.90625 \nL 95.609375 72.90625 \nL 77.296875 0 \nL 64.890625 0 \nL 49.515625 63.28125 \nL 33.984375 0 \nL 21.578125 0 \nz\n\" id=\"DejaVuSans-87\"/>\n        <path d=\"M 9.8125 72.90625 \nL 23.09375 72.90625 \nL 55.421875 11.921875 \nL 55.421875 72.90625 \nL 64.984375 72.90625 \nL 64.984375 0 \nL 51.703125 0 \nL 19.390625 60.984375 \nL 19.390625 0 \nL 9.8125 0 \nz\n\" id=\"DejaVuSans-78\"/>\n        <path d=\"M 6.296875 72.90625 \nL 16.890625 72.90625 \nL 35.015625 45.796875 \nL 53.21875 72.90625 \nL 63.8125 72.90625 \nL 40.375 37.890625 \nL 65.375 0 \nL 54.78125 0 \nL 34.28125 31 \nL 13.625 0 \nL 2.984375 0 \nL 29 38.921875 \nz\n\" id=\"DejaVuSans-88\"/>\n       </defs>\n       <use xlink:href=\"#DejaVuSans-76\"/>\n       <use x=\"53.962891\" xlink:href=\"#DejaVuSans-111\"/>\n       <use x=\"117.019531\" xlink:href=\"#DejaVuSans-45\"/>\n       <use x=\"150.853516\" xlink:href=\"#DejaVuSans-65\"/>\n       <use x=\"219.261719\" xlink:href=\"#DejaVuSans-105\"/>\n       <use x=\"247.044922\" xlink:href=\"#DejaVuSans-114\"/>\n       <use x=\"288.158203\" xlink:href=\"#DejaVuSans-32\"/>\n       <use x=\"319.945312\" xlink:href=\"#DejaVuSans-98\"/>\n       <use x=\"383.421875\" xlink:href=\"#DejaVuSans-121\"/>\n       <use x=\"442.601562\" xlink:href=\"#DejaVuSans-32\"/>\n       <use x=\"474.388672\" xlink:href=\"#DejaVuSans-87\"/>\n       <use x=\"573.265625\" xlink:href=\"#DejaVuSans-78\"/>\n       <use x=\"648.070312\" xlink:href=\"#DejaVuSans-88\"/>\n      </g>\n     </g>\n    </g>\n    <g id=\"xtick_4\">\n     <g id=\"line2d_4\">\n      <g>\n       <use style=\"stroke:#000000;stroke-width:0.8;\" x=\"341.85125\" xlink:href=\"#m693a3e06e6\" y=\"294.118125\"/>\n      </g>\n     </g>\n     <g id=\"text_4\">\n      <!-- 4everybody by LUCKI -->\n      <g transform=\"translate(296.960824 361.12669)rotate(-30)scale(0.1 -0.1)\">\n       <defs>\n        <path d=\"M 37.796875 64.3125 \nL 12.890625 25.390625 \nL 37.796875 25.390625 \nz\nM 35.203125 72.90625 \nL 47.609375 72.90625 \nL 47.609375 25.390625 \nL 58.015625 25.390625 \nL 58.015625 17.1875 \nL 47.609375 17.1875 \nL 47.609375 0 \nL 37.796875 0 \nL 37.796875 17.1875 \nL 4.890625 17.1875 \nL 4.890625 26.703125 \nz\n\" id=\"DejaVuSans-52\"/>\n        <path d=\"M 2.984375 54.6875 \nL 12.5 54.6875 \nL 29.59375 8.796875 \nL 46.6875 54.6875 \nL 56.203125 54.6875 \nL 35.6875 0 \nL 23.484375 0 \nz\n\" id=\"DejaVuSans-118\"/>\n       </defs>\n       <use xlink:href=\"#DejaVuSans-52\"/>\n       <use x=\"63.623047\" xlink:href=\"#DejaVuSans-101\"/>\n       <use x=\"125.146484\" xlink:href=\"#DejaVuSans-118\"/>\n       <use x=\"184.326172\" xlink:href=\"#DejaVuSans-101\"/>\n       <use x=\"245.849609\" xlink:href=\"#DejaVuSans-114\"/>\n       <use x=\"286.962891\" xlink:href=\"#DejaVuSans-121\"/>\n       <use x=\"346.142578\" xlink:href=\"#DejaVuSans-98\"/>\n       <use x=\"409.619141\" xlink:href=\"#DejaVuSans-111\"/>\n       <use x=\"470.800781\" xlink:href=\"#DejaVuSans-100\"/>\n       <use x=\"534.277344\" xlink:href=\"#DejaVuSans-121\"/>\n       <use x=\"593.457031\" xlink:href=\"#DejaVuSans-32\"/>\n       <use x=\"625.244141\" xlink:href=\"#DejaVuSans-98\"/>\n       <use x=\"688.720703\" xlink:href=\"#DejaVuSans-121\"/>\n       <use x=\"747.900391\" xlink:href=\"#DejaVuSans-32\"/>\n       <use x=\"779.6875\" xlink:href=\"#DejaVuSans-76\"/>\n       <use x=\"830.400391\" xlink:href=\"#DejaVuSans-85\"/>\n       <use x=\"903.59375\" xlink:href=\"#DejaVuSans-67\"/>\n       <use x=\"973.417969\" xlink:href=\"#DejaVuSans-75\"/>\n       <use x=\"1038.994141\" xlink:href=\"#DejaVuSans-73\"/>\n      </g>\n     </g>\n    </g>\n    <g id=\"xtick_5\">\n     <g id=\"line2d_5\">\n      <g>\n       <use style=\"stroke:#000000;stroke-width:0.8;\" x=\"425.55125\" xlink:href=\"#m693a3e06e6\" y=\"294.118125\"/>\n      </g>\n     </g>\n     <g id=\"text_5\">\n      <!-- Feels Like Death by Levi Carter -->\n      <g transform=\"translate(359.607611 385.436846)rotate(-30)scale(0.1 -0.1)\">\n       <defs>\n        <path d=\"M 9.8125 72.90625 \nL 51.703125 72.90625 \nL 51.703125 64.59375 \nL 19.671875 64.59375 \nL 19.671875 43.109375 \nL 48.578125 43.109375 \nL 48.578125 34.8125 \nL 19.671875 34.8125 \nL 19.671875 0 \nL 9.8125 0 \nz\n\" id=\"DejaVuSans-70\"/>\n        <path d=\"M 9.421875 75.984375 \nL 18.40625 75.984375 \nL 18.40625 0 \nL 9.421875 0 \nz\n\" id=\"DejaVuSans-108\"/>\n        <path d=\"M 44.28125 53.078125 \nL 44.28125 44.578125 \nQ 40.484375 46.53125 36.375 47.5 \nQ 32.28125 48.484375 27.875 48.484375 \nQ 21.1875 48.484375 17.84375 46.4375 \nQ 14.5 44.390625 14.5 40.28125 \nQ 14.5 37.15625 16.890625 35.375 \nQ 19.28125 33.59375 26.515625 31.984375 \nL 29.59375 31.296875 \nQ 39.15625 29.25 43.1875 25.515625 \nQ 47.21875 21.78125 47.21875 15.09375 \nQ 47.21875 7.46875 41.1875 3.015625 \nQ 35.15625 -1.421875 24.609375 -1.421875 \nQ 20.21875 -1.421875 15.453125 -0.5625 \nQ 10.6875 0.296875 5.421875 2 \nL 5.421875 11.28125 \nQ 10.40625 8.6875 15.234375 7.390625 \nQ 20.0625 6.109375 24.8125 6.109375 \nQ 31.15625 6.109375 34.5625 8.28125 \nQ 37.984375 10.453125 37.984375 14.40625 \nQ 37.984375 18.0625 35.515625 20.015625 \nQ 33.0625 21.96875 24.703125 23.78125 \nL 21.578125 24.515625 \nQ 13.234375 26.265625 9.515625 29.90625 \nQ 5.8125 33.546875 5.8125 39.890625 \nQ 5.8125 47.609375 11.28125 51.796875 \nQ 16.75 56 26.8125 56 \nQ 31.78125 56 36.171875 55.265625 \nQ 40.578125 54.546875 44.28125 53.078125 \nz\n\" id=\"DejaVuSans-115\"/>\n        <path d=\"M 9.078125 75.984375 \nL 18.109375 75.984375 \nL 18.109375 31.109375 \nL 44.921875 54.6875 \nL 56.390625 54.6875 \nL 27.390625 29.109375 \nL 57.625 0 \nL 45.90625 0 \nL 18.109375 26.703125 \nL 18.109375 0 \nL 9.078125 0 \nz\n\" id=\"DejaVuSans-107\"/>\n        <path d=\"M 19.671875 64.796875 \nL 19.671875 8.109375 \nL 31.59375 8.109375 \nQ 46.6875 8.109375 53.6875 14.9375 \nQ 60.6875 21.78125 60.6875 36.53125 \nQ 60.6875 51.171875 53.6875 57.984375 \nQ 46.6875 64.796875 31.59375 64.796875 \nz\nM 9.8125 72.90625 \nL 30.078125 72.90625 \nQ 51.265625 72.90625 61.171875 64.09375 \nQ 71.09375 55.28125 71.09375 36.53125 \nQ 71.09375 17.671875 61.125 8.828125 \nQ 51.171875 0 30.078125 0 \nL 9.8125 0 \nz\n\" id=\"DejaVuSans-68\"/>\n        <path d=\"M 54.890625 33.015625 \nL 54.890625 0 \nL 45.90625 0 \nL 45.90625 32.71875 \nQ 45.90625 40.484375 42.875 44.328125 \nQ 39.84375 48.1875 33.796875 48.1875 \nQ 26.515625 48.1875 22.3125 43.546875 \nQ 18.109375 38.921875 18.109375 30.90625 \nL 18.109375 0 \nL 9.078125 0 \nL 9.078125 75.984375 \nL 18.109375 75.984375 \nL 18.109375 46.1875 \nQ 21.34375 51.125 25.703125 53.5625 \nQ 30.078125 56 35.796875 56 \nQ 45.21875 56 50.046875 50.171875 \nQ 54.890625 44.34375 54.890625 33.015625 \nz\n\" id=\"DejaVuSans-104\"/>\n       </defs>\n       <use xlink:href=\"#DejaVuSans-70\"/>\n       <use x=\"52.019531\" xlink:href=\"#DejaVuSans-101\"/>\n       <use x=\"113.542969\" xlink:href=\"#DejaVuSans-101\"/>\n       <use x=\"175.066406\" xlink:href=\"#DejaVuSans-108\"/>\n       <use x=\"202.849609\" xlink:href=\"#DejaVuSans-115\"/>\n       <use x=\"254.949219\" xlink:href=\"#DejaVuSans-32\"/>\n       <use x=\"286.736328\" xlink:href=\"#DejaVuSans-76\"/>\n       <use x=\"342.449219\" xlink:href=\"#DejaVuSans-105\"/>\n       <use x=\"370.232422\" xlink:href=\"#DejaVuSans-107\"/>\n       <use x=\"424.517578\" xlink:href=\"#DejaVuSans-101\"/>\n       <use x=\"486.041016\" xlink:href=\"#DejaVuSans-32\"/>\n       <use x=\"517.828125\" xlink:href=\"#DejaVuSans-68\"/>\n       <use x=\"594.830078\" xlink:href=\"#DejaVuSans-101\"/>\n       <use x=\"656.353516\" xlink:href=\"#DejaVuSans-97\"/>\n       <use x=\"717.632812\" xlink:href=\"#DejaVuSans-116\"/>\n       <use x=\"756.841797\" xlink:href=\"#DejaVuSans-104\"/>\n       <use x=\"820.220703\" xlink:href=\"#DejaVuSans-32\"/>\n       <use x=\"852.007812\" xlink:href=\"#DejaVuSans-98\"/>\n       <use x=\"915.484375\" xlink:href=\"#DejaVuSans-121\"/>\n       <use x=\"974.664062\" xlink:href=\"#DejaVuSans-32\"/>\n       <use x=\"1006.451172\" xlink:href=\"#DejaVuSans-76\"/>\n       <use x=\"1060.414062\" xlink:href=\"#DejaVuSans-101\"/>\n       <use x=\"1121.9375\" xlink:href=\"#DejaVuSans-118\"/>\n       <use x=\"1181.117188\" xlink:href=\"#DejaVuSans-105\"/>\n       <use x=\"1208.900391\" xlink:href=\"#DejaVuSans-32\"/>\n       <use x=\"1240.6875\" xlink:href=\"#DejaVuSans-67\"/>\n       <use x=\"1310.511719\" xlink:href=\"#DejaVuSans-97\"/>\n       <use x=\"1371.791016\" xlink:href=\"#DejaVuSans-114\"/>\n       <use x=\"1412.904297\" xlink:href=\"#DejaVuSans-116\"/>\n       <use x=\"1452.113281\" xlink:href=\"#DejaVuSans-101\"/>\n       <use x=\"1513.636719\" xlink:href=\"#DejaVuSans-114\"/>\n      </g>\n     </g>\n    </g>\n    <g id=\"xtick_6\">\n     <g id=\"line2d_6\">\n      <g>\n       <use style=\"stroke:#000000;stroke-width:0.8;\" x=\"509.25125\" xlink:href=\"#m693a3e06e6\" y=\"294.118125\"/>\n      </g>\n     </g>\n     <g id=\"text_6\">\n      <!-- Beverly Hills to 35th by LUCKI -->\n      <g transform=\"translate(446.103926 382.20794)rotate(-30)scale(0.1 -0.1)\">\n       <defs>\n        <path d=\"M 19.671875 34.8125 \nL 19.671875 8.109375 \nL 35.5 8.109375 \nQ 43.453125 8.109375 47.28125 11.40625 \nQ 51.125 14.703125 51.125 21.484375 \nQ 51.125 28.328125 47.28125 31.5625 \nQ 43.453125 34.8125 35.5 34.8125 \nz\nM 19.671875 64.796875 \nL 19.671875 42.828125 \nL 34.28125 42.828125 \nQ 41.5 42.828125 45.03125 45.53125 \nQ 48.578125 48.25 48.578125 53.8125 \nQ 48.578125 59.328125 45.03125 62.0625 \nQ 41.5 64.796875 34.28125 64.796875 \nz\nM 9.8125 72.90625 \nL 35.015625 72.90625 \nQ 46.296875 72.90625 52.390625 68.21875 \nQ 58.5 63.53125 58.5 54.890625 \nQ 58.5 48.1875 55.375 44.234375 \nQ 52.25 40.28125 46.1875 39.3125 \nQ 53.46875 37.75 57.5 32.78125 \nQ 61.53125 27.828125 61.53125 20.40625 \nQ 61.53125 10.640625 54.890625 5.3125 \nQ 48.25 0 35.984375 0 \nL 9.8125 0 \nz\n\" id=\"DejaVuSans-66\"/>\n        <path d=\"M 9.8125 72.90625 \nL 19.671875 72.90625 \nL 19.671875 43.015625 \nL 55.515625 43.015625 \nL 55.515625 72.90625 \nL 65.375 72.90625 \nL 65.375 0 \nL 55.515625 0 \nL 55.515625 34.71875 \nL 19.671875 34.71875 \nL 19.671875 0 \nL 9.8125 0 \nz\n\" id=\"DejaVuSans-72\"/>\n        <path d=\"M 40.578125 39.3125 \nQ 47.65625 37.796875 51.625 33 \nQ 55.609375 28.21875 55.609375 21.1875 \nQ 55.609375 10.40625 48.1875 4.484375 \nQ 40.765625 -1.421875 27.09375 -1.421875 \nQ 22.515625 -1.421875 17.65625 -0.515625 \nQ 12.796875 0.390625 7.625 2.203125 \nL 7.625 11.71875 \nQ 11.71875 9.328125 16.59375 8.109375 \nQ 21.484375 6.890625 26.8125 6.890625 \nQ 36.078125 6.890625 40.9375 10.546875 \nQ 45.796875 14.203125 45.796875 21.1875 \nQ 45.796875 27.640625 41.28125 31.265625 \nQ 36.765625 34.90625 28.71875 34.90625 \nL 20.21875 34.90625 \nL 20.21875 43.015625 \nL 29.109375 43.015625 \nQ 36.375 43.015625 40.234375 45.921875 \nQ 44.09375 48.828125 44.09375 54.296875 \nQ 44.09375 59.90625 40.109375 62.90625 \nQ 36.140625 65.921875 28.71875 65.921875 \nQ 24.65625 65.921875 20.015625 65.03125 \nQ 15.375 64.15625 9.8125 62.3125 \nL 9.8125 71.09375 \nQ 15.4375 72.65625 20.34375 73.4375 \nQ 25.25 74.21875 29.59375 74.21875 \nQ 40.828125 74.21875 47.359375 69.109375 \nQ 53.90625 64.015625 53.90625 55.328125 \nQ 53.90625 49.265625 50.4375 45.09375 \nQ 46.96875 40.921875 40.578125 39.3125 \nz\n\" id=\"DejaVuSans-51\"/>\n        <path d=\"M 10.796875 72.90625 \nL 49.515625 72.90625 \nL 49.515625 64.59375 \nL 19.828125 64.59375 \nL 19.828125 46.734375 \nQ 21.96875 47.46875 24.109375 47.828125 \nQ 26.265625 48.1875 28.421875 48.1875 \nQ 40.625 48.1875 47.75 41.5 \nQ 54.890625 34.8125 54.890625 23.390625 \nQ 54.890625 11.625 47.5625 5.09375 \nQ 40.234375 -1.421875 26.90625 -1.421875 \nQ 22.3125 -1.421875 17.546875 -0.640625 \nQ 12.796875 0.140625 7.71875 1.703125 \nL 7.71875 11.625 \nQ 12.109375 9.234375 16.796875 8.0625 \nQ 21.484375 6.890625 26.703125 6.890625 \nQ 35.15625 6.890625 40.078125 11.328125 \nQ 45.015625 15.765625 45.015625 23.390625 \nQ 45.015625 31 40.078125 35.4375 \nQ 35.15625 39.890625 26.703125 39.890625 \nQ 22.75 39.890625 18.8125 39.015625 \nQ 14.890625 38.140625 10.796875 36.28125 \nz\n\" id=\"DejaVuSans-53\"/>\n       </defs>\n       <use xlink:href=\"#DejaVuSans-66\"/>\n       <use x=\"68.603516\" xlink:href=\"#DejaVuSans-101\"/>\n       <use x=\"130.126953\" xlink:href=\"#DejaVuSans-118\"/>\n       <use x=\"189.306641\" xlink:href=\"#DejaVuSans-101\"/>\n       <use x=\"250.830078\" xlink:href=\"#DejaVuSans-114\"/>\n       <use x=\"291.943359\" xlink:href=\"#DejaVuSans-108\"/>\n       <use x=\"319.726562\" xlink:href=\"#DejaVuSans-121\"/>\n       <use x=\"378.90625\" xlink:href=\"#DejaVuSans-32\"/>\n       <use x=\"410.693359\" xlink:href=\"#DejaVuSans-72\"/>\n       <use x=\"485.888672\" xlink:href=\"#DejaVuSans-105\"/>\n       <use x=\"513.671875\" xlink:href=\"#DejaVuSans-108\"/>\n       <use x=\"541.455078\" xlink:href=\"#DejaVuSans-108\"/>\n       <use x=\"569.238281\" xlink:href=\"#DejaVuSans-115\"/>\n       <use x=\"621.337891\" xlink:href=\"#DejaVuSans-32\"/>\n       <use x=\"653.125\" xlink:href=\"#DejaVuSans-116\"/>\n       <use x=\"692.333984\" xlink:href=\"#DejaVuSans-111\"/>\n       <use x=\"753.515625\" xlink:href=\"#DejaVuSans-32\"/>\n       <use x=\"785.302734\" xlink:href=\"#DejaVuSans-51\"/>\n       <use x=\"848.925781\" xlink:href=\"#DejaVuSans-53\"/>\n       <use x=\"912.548828\" xlink:href=\"#DejaVuSans-116\"/>\n       <use x=\"951.757812\" xlink:href=\"#DejaVuSans-104\"/>\n       <use x=\"1015.136719\" xlink:href=\"#DejaVuSans-32\"/>\n       <use x=\"1046.923828\" xlink:href=\"#DejaVuSans-98\"/>\n       <use x=\"1110.400391\" xlink:href=\"#DejaVuSans-121\"/>\n       <use x=\"1169.580078\" xlink:href=\"#DejaVuSans-32\"/>\n       <use x=\"1201.367188\" xlink:href=\"#DejaVuSans-76\"/>\n       <use x=\"1252.080078\" xlink:href=\"#DejaVuSans-85\"/>\n       <use x=\"1325.273438\" xlink:href=\"#DejaVuSans-67\"/>\n       <use x=\"1395.097656\" xlink:href=\"#DejaVuSans-75\"/>\n       <use x=\"1460.673828\" xlink:href=\"#DejaVuSans-73\"/>\n      </g>\n     </g>\n    </g>\n    <g id=\"xtick_7\">\n     <g id=\"line2d_7\">\n      <g>\n       <use style=\"stroke:#000000;stroke-width:0.8;\" x=\"592.95125\" xlink:href=\"#m693a3e06e6\" y=\"294.118125\"/>\n      </g>\n     </g>\n     <g id=\"text_7\">\n      <!-- Me Myself &amp; I by LUCKI -->\n      <g transform=\"translate(544.631228 365.086846)rotate(-30)scale(0.1 -0.1)\">\n       <defs>\n        <path d=\"M 9.8125 72.90625 \nL 24.515625 72.90625 \nL 43.109375 23.296875 \nL 61.8125 72.90625 \nL 76.515625 72.90625 \nL 76.515625 0 \nL 66.890625 0 \nL 66.890625 64.015625 \nL 48.09375 14.015625 \nL 38.1875 14.015625 \nL 19.390625 64.015625 \nL 19.390625 0 \nL 9.8125 0 \nz\n\" id=\"DejaVuSans-77\"/>\n        <path d=\"M 37.109375 75.984375 \nL 37.109375 68.5 \nL 28.515625 68.5 \nQ 23.6875 68.5 21.796875 66.546875 \nQ 19.921875 64.59375 19.921875 59.515625 \nL 19.921875 54.6875 \nL 34.71875 54.6875 \nL 34.71875 47.703125 \nL 19.921875 47.703125 \nL 19.921875 0 \nL 10.890625 0 \nL 10.890625 47.703125 \nL 2.296875 47.703125 \nL 2.296875 54.6875 \nL 10.890625 54.6875 \nL 10.890625 58.5 \nQ 10.890625 67.625 15.140625 71.796875 \nQ 19.390625 75.984375 28.609375 75.984375 \nz\n\" id=\"DejaVuSans-102\"/>\n        <path d=\"M 24.3125 39.203125 \nQ 19.875 35.25 17.796875 31.3125 \nQ 15.71875 27.390625 15.71875 23.09375 \nQ 15.71875 15.96875 20.890625 11.234375 \nQ 26.078125 6.5 33.890625 6.5 \nQ 38.53125 6.5 42.578125 8.03125 \nQ 46.625 9.578125 50.203125 12.703125 \nz\nM 31.203125 44.671875 \nL 56 19.28125 \nQ 58.890625 23.640625 60.5 28.59375 \nQ 62.109375 33.546875 62.40625 39.109375 \nL 71.484375 39.109375 \nQ 70.90625 32.671875 68.359375 26.359375 \nQ 65.828125 20.0625 61.28125 13.921875 \nL 74.90625 0 \nL 62.59375 0 \nL 55.609375 7.171875 \nQ 50.53125 2.828125 44.96875 0.703125 \nQ 39.40625 -1.421875 33.015625 -1.421875 \nQ 21.234375 -1.421875 13.765625 5.296875 \nQ 6.296875 12.015625 6.296875 22.515625 \nQ 6.296875 28.765625 9.5625 34.25 \nQ 12.84375 39.75 19.390625 44.578125 \nQ 17.046875 47.65625 15.8125 50.703125 \nQ 14.59375 53.765625 14.59375 56.6875 \nQ 14.59375 64.59375 20.015625 69.40625 \nQ 25.4375 74.21875 34.421875 74.21875 \nQ 38.484375 74.21875 42.5 73.34375 \nQ 46.53125 72.46875 50.6875 70.703125 \nL 50.6875 61.8125 \nQ 46.4375 64.109375 42.578125 65.296875 \nQ 38.71875 66.5 35.40625 66.5 \nQ 30.28125 66.5 27.078125 63.78125 \nQ 23.875 61.078125 23.875 56.78125 \nQ 23.875 54.296875 25.3125 51.78125 \nQ 26.765625 49.265625 31.203125 44.671875 \nz\n\" id=\"DejaVuSans-38\"/>\n       </defs>\n       <use xlink:href=\"#DejaVuSans-77\"/>\n       <use x=\"86.279297\" xlink:href=\"#DejaVuSans-101\"/>\n       <use x=\"147.802734\" xlink:href=\"#DejaVuSans-32\"/>\n       <use x=\"179.589844\" xlink:href=\"#DejaVuSans-77\"/>\n       <use x=\"265.869141\" xlink:href=\"#DejaVuSans-121\"/>\n       <use x=\"325.048828\" xlink:href=\"#DejaVuSans-115\"/>\n       <use x=\"377.148438\" xlink:href=\"#DejaVuSans-101\"/>\n       <use x=\"438.671875\" xlink:href=\"#DejaVuSans-108\"/>\n       <use x=\"466.455078\" xlink:href=\"#DejaVuSans-102\"/>\n       <use x=\"501.660156\" xlink:href=\"#DejaVuSans-32\"/>\n       <use x=\"533.447266\" xlink:href=\"#DejaVuSans-38\"/>\n       <use x=\"611.425781\" xlink:href=\"#DejaVuSans-32\"/>\n       <use x=\"643.212891\" xlink:href=\"#DejaVuSans-73\"/>\n       <use x=\"672.705078\" xlink:href=\"#DejaVuSans-32\"/>\n       <use x=\"704.492188\" xlink:href=\"#DejaVuSans-98\"/>\n       <use x=\"767.96875\" xlink:href=\"#DejaVuSans-121\"/>\n       <use x=\"827.148438\" xlink:href=\"#DejaVuSans-32\"/>\n       <use x=\"858.935547\" xlink:href=\"#DejaVuSans-76\"/>\n       <use x=\"909.648438\" xlink:href=\"#DejaVuSans-85\"/>\n       <use x=\"982.841797\" xlink:href=\"#DejaVuSans-67\"/>\n       <use x=\"1052.666016\" xlink:href=\"#DejaVuSans-75\"/>\n       <use x=\"1118.242188\" xlink:href=\"#DejaVuSans-73\"/>\n      </g>\n     </g>\n    </g>\n    <g id=\"xtick_8\">\n     <g id=\"line2d_8\">\n      <g>\n       <use style=\"stroke:#000000;stroke-width:0.8;\" x=\"676.65125\" xlink:href=\"#m693a3e06e6\" y=\"294.118125\"/>\n      </g>\n     </g>\n     <g id=\"text_8\">\n      <!-- Big Drip by Fivio Foreign -->\n      <g transform=\"translate(625.404333 368.466534)rotate(-30)scale(0.1 -0.1)\">\n       <defs>\n        <path d=\"M 45.40625 27.984375 \nQ 45.40625 37.75 41.375 43.109375 \nQ 37.359375 48.484375 30.078125 48.484375 \nQ 22.859375 48.484375 18.828125 43.109375 \nQ 14.796875 37.75 14.796875 27.984375 \nQ 14.796875 18.265625 18.828125 12.890625 \nQ 22.859375 7.515625 30.078125 7.515625 \nQ 37.359375 7.515625 41.375 12.890625 \nQ 45.40625 18.265625 45.40625 27.984375 \nz\nM 54.390625 6.78125 \nQ 54.390625 -7.171875 48.1875 -13.984375 \nQ 42 -20.796875 29.203125 -20.796875 \nQ 24.46875 -20.796875 20.265625 -20.09375 \nQ 16.0625 -19.390625 12.109375 -17.921875 \nL 12.109375 -9.1875 \nQ 16.0625 -11.328125 19.921875 -12.34375 \nQ 23.78125 -13.375 27.78125 -13.375 \nQ 36.625 -13.375 41.015625 -8.765625 \nQ 45.40625 -4.15625 45.40625 5.171875 \nL 45.40625 9.625 \nQ 42.625 4.78125 38.28125 2.390625 \nQ 33.9375 0 27.875 0 \nQ 17.828125 0 11.671875 7.65625 \nQ 5.515625 15.328125 5.515625 27.984375 \nQ 5.515625 40.671875 11.671875 48.328125 \nQ 17.828125 56 27.875 56 \nQ 33.9375 56 38.28125 53.609375 \nQ 42.625 51.21875 45.40625 46.390625 \nL 45.40625 54.6875 \nL 54.390625 54.6875 \nz\n\" id=\"DejaVuSans-103\"/>\n        <path d=\"M 18.109375 8.203125 \nL 18.109375 -20.796875 \nL 9.078125 -20.796875 \nL 9.078125 54.6875 \nL 18.109375 54.6875 \nL 18.109375 46.390625 \nQ 20.953125 51.265625 25.265625 53.625 \nQ 29.59375 56 35.59375 56 \nQ 45.5625 56 51.78125 48.09375 \nQ 58.015625 40.1875 58.015625 27.296875 \nQ 58.015625 14.40625 51.78125 6.484375 \nQ 45.5625 -1.421875 35.59375 -1.421875 \nQ 29.59375 -1.421875 25.265625 0.953125 \nQ 20.953125 3.328125 18.109375 8.203125 \nz\nM 48.6875 27.296875 \nQ 48.6875 37.203125 44.609375 42.84375 \nQ 40.53125 48.484375 33.40625 48.484375 \nQ 26.265625 48.484375 22.1875 42.84375 \nQ 18.109375 37.203125 18.109375 27.296875 \nQ 18.109375 17.390625 22.1875 11.75 \nQ 26.265625 6.109375 33.40625 6.109375 \nQ 40.53125 6.109375 44.609375 11.75 \nQ 48.6875 17.390625 48.6875 27.296875 \nz\n\" id=\"DejaVuSans-112\"/>\n       </defs>\n       <use xlink:href=\"#DejaVuSans-66\"/>\n       <use x=\"68.603516\" xlink:href=\"#DejaVuSans-105\"/>\n       <use x=\"96.386719\" xlink:href=\"#DejaVuSans-103\"/>\n       <use x=\"159.863281\" xlink:href=\"#DejaVuSans-32\"/>\n       <use x=\"191.650391\" xlink:href=\"#DejaVuSans-68\"/>\n       <use x=\"268.652344\" xlink:href=\"#DejaVuSans-114\"/>\n       <use x=\"309.765625\" xlink:href=\"#DejaVuSans-105\"/>\n       <use x=\"337.548828\" xlink:href=\"#DejaVuSans-112\"/>\n       <use x=\"401.025391\" xlink:href=\"#DejaVuSans-32\"/>\n       <use x=\"432.8125\" xlink:href=\"#DejaVuSans-98\"/>\n       <use x=\"496.289062\" xlink:href=\"#DejaVuSans-121\"/>\n       <use x=\"555.46875\" xlink:href=\"#DejaVuSans-32\"/>\n       <use x=\"587.255859\" xlink:href=\"#DejaVuSans-70\"/>\n       <use x=\"637.525391\" xlink:href=\"#DejaVuSans-105\"/>\n       <use x=\"665.308594\" xlink:href=\"#DejaVuSans-118\"/>\n       <use x=\"724.488281\" xlink:href=\"#DejaVuSans-105\"/>\n       <use x=\"752.271484\" xlink:href=\"#DejaVuSans-111\"/>\n       <use x=\"813.453125\" xlink:href=\"#DejaVuSans-32\"/>\n       <use x=\"845.240234\" xlink:href=\"#DejaVuSans-70\"/>\n       <use x=\"899.134766\" xlink:href=\"#DejaVuSans-111\"/>\n       <use x=\"960.316406\" xlink:href=\"#DejaVuSans-114\"/>\n       <use x=\"999.179688\" xlink:href=\"#DejaVuSans-101\"/>\n       <use x=\"1060.703125\" xlink:href=\"#DejaVuSans-105\"/>\n       <use x=\"1088.486328\" xlink:href=\"#DejaVuSans-103\"/>\n       <use x=\"1151.962891\" xlink:href=\"#DejaVuSans-110\"/>\n      </g>\n     </g>\n    </g>\n    <g id=\"xtick_9\">\n     <g id=\"line2d_9\">\n      <g>\n       <use style=\"stroke:#000000;stroke-width:0.8;\" x=\"760.35125\" xlink:href=\"#m693a3e06e6\" y=\"294.118125\"/>\n      </g>\n     </g>\n     <g id=\"text_9\">\n      <!-- Left 4 Dead by LUCKI -->\n      <g transform=\"translate(716.10493 360.38294)rotate(-30)scale(0.1 -0.1)\">\n       <use xlink:href=\"#DejaVuSans-76\"/>\n       <use x=\"53.962891\" xlink:href=\"#DejaVuSans-101\"/>\n       <use x=\"115.486328\" xlink:href=\"#DejaVuSans-102\"/>\n       <use x=\"148.941406\" xlink:href=\"#DejaVuSans-116\"/>\n       <use x=\"188.150391\" xlink:href=\"#DejaVuSans-32\"/>\n       <use x=\"219.9375\" xlink:href=\"#DejaVuSans-52\"/>\n       <use x=\"283.560547\" xlink:href=\"#DejaVuSans-32\"/>\n       <use x=\"315.347656\" xlink:href=\"#DejaVuSans-68\"/>\n       <use x=\"392.349609\" xlink:href=\"#DejaVuSans-101\"/>\n       <use x=\"453.873047\" xlink:href=\"#DejaVuSans-97\"/>\n       <use x=\"515.152344\" xlink:href=\"#DejaVuSans-100\"/>\n       <use x=\"578.628906\" xlink:href=\"#DejaVuSans-32\"/>\n       <use x=\"610.416016\" xlink:href=\"#DejaVuSans-98\"/>\n       <use x=\"673.892578\" xlink:href=\"#DejaVuSans-121\"/>\n       <use x=\"733.072266\" xlink:href=\"#DejaVuSans-32\"/>\n       <use x=\"764.859375\" xlink:href=\"#DejaVuSans-76\"/>\n       <use x=\"815.572266\" xlink:href=\"#DejaVuSans-85\"/>\n       <use x=\"888.765625\" xlink:href=\"#DejaVuSans-67\"/>\n       <use x=\"958.589844\" xlink:href=\"#DejaVuSans-75\"/>\n       <use x=\"1024.166016\" xlink:href=\"#DejaVuSans-73\"/>\n      </g>\n     </g>\n    </g>\n    <g id=\"xtick_10\">\n     <g id=\"line2d_10\">\n      <g>\n       <use style=\"stroke:#000000;stroke-width:0.8;\" x=\"844.05125\" xlink:href=\"#m693a3e06e6\" y=\"294.118125\"/>\n      </g>\n     </g>\n     <g id=\"text_10\">\n      <!-- Way 2 Rare by LUCKI -->\n      <g transform=\"translate(800.219675 359.904034)rotate(-30)scale(0.1 -0.1)\">\n       <defs>\n        <path d=\"M 19.1875 8.296875 \nL 53.609375 8.296875 \nL 53.609375 0 \nL 7.328125 0 \nL 7.328125 8.296875 \nQ 12.9375 14.109375 22.625 23.890625 \nQ 32.328125 33.6875 34.8125 36.53125 \nQ 39.546875 41.84375 41.421875 45.53125 \nQ 43.3125 49.21875 43.3125 52.78125 \nQ 43.3125 58.59375 39.234375 62.25 \nQ 35.15625 65.921875 28.609375 65.921875 \nQ 23.96875 65.921875 18.8125 64.3125 \nQ 13.671875 62.703125 7.8125 59.421875 \nL 7.8125 69.390625 \nQ 13.765625 71.78125 18.9375 73 \nQ 24.125 74.21875 28.421875 74.21875 \nQ 39.75 74.21875 46.484375 68.546875 \nQ 53.21875 62.890625 53.21875 53.421875 \nQ 53.21875 48.921875 51.53125 44.890625 \nQ 49.859375 40.875 45.40625 35.40625 \nQ 44.1875 33.984375 37.640625 27.21875 \nQ 31.109375 20.453125 19.1875 8.296875 \nz\n\" id=\"DejaVuSans-50\"/>\n        <path d=\"M 44.390625 34.1875 \nQ 47.5625 33.109375 50.5625 29.59375 \nQ 53.5625 26.078125 56.59375 19.921875 \nL 66.609375 0 \nL 56 0 \nL 46.6875 18.703125 \nQ 43.0625 26.03125 39.671875 28.421875 \nQ 36.28125 30.8125 30.421875 30.8125 \nL 19.671875 30.8125 \nL 19.671875 0 \nL 9.8125 0 \nL 9.8125 72.90625 \nL 32.078125 72.90625 \nQ 44.578125 72.90625 50.734375 67.671875 \nQ 56.890625 62.453125 56.890625 51.90625 \nQ 56.890625 45.015625 53.6875 40.46875 \nQ 50.484375 35.9375 44.390625 34.1875 \nz\nM 19.671875 64.796875 \nL 19.671875 38.921875 \nL 32.078125 38.921875 \nQ 39.203125 38.921875 42.84375 42.21875 \nQ 46.484375 45.515625 46.484375 51.90625 \nQ 46.484375 58.296875 42.84375 61.546875 \nQ 39.203125 64.796875 32.078125 64.796875 \nz\n\" id=\"DejaVuSans-82\"/>\n       </defs>\n       <use xlink:href=\"#DejaVuSans-87\"/>\n       <use x=\"92.501953\" xlink:href=\"#DejaVuSans-97\"/>\n       <use x=\"153.78125\" xlink:href=\"#DejaVuSans-121\"/>\n       <use x=\"212.960938\" xlink:href=\"#DejaVuSans-32\"/>\n       <use x=\"244.748047\" xlink:href=\"#DejaVuSans-50\"/>\n       <use x=\"308.371094\" xlink:href=\"#DejaVuSans-32\"/>\n       <use x=\"340.158203\" xlink:href=\"#DejaVuSans-82\"/>\n       <use x=\"407.390625\" xlink:href=\"#DejaVuSans-97\"/>\n       <use x=\"468.669922\" xlink:href=\"#DejaVuSans-114\"/>\n       <use x=\"507.533203\" xlink:href=\"#DejaVuSans-101\"/>\n       <use x=\"569.056641\" xlink:href=\"#DejaVuSans-32\"/>\n       <use x=\"600.84375\" xlink:href=\"#DejaVuSans-98\"/>\n       <use x=\"664.320312\" xlink:href=\"#DejaVuSans-121\"/>\n       <use x=\"723.5\" xlink:href=\"#DejaVuSans-32\"/>\n       <use x=\"755.287109\" xlink:href=\"#DejaVuSans-76\"/>\n       <use x=\"806\" xlink:href=\"#DejaVuSans-85\"/>\n       <use x=\"879.193359\" xlink:href=\"#DejaVuSans-67\"/>\n       <use x=\"949.017578\" xlink:href=\"#DejaVuSans-75\"/>\n       <use x=\"1014.59375\" xlink:href=\"#DejaVuSans-73\"/>\n      </g>\n     </g>\n    </g>\n    <g id=\"text_11\">\n     <!-- Song -->\n     <g transform=\"translate(452.309375 400.356033)scale(0.12 -0.12)\">\n      <defs>\n       <path d=\"M 53.515625 70.515625 \nL 53.515625 60.890625 \nQ 47.90625 63.578125 42.921875 64.890625 \nQ 37.9375 66.21875 33.296875 66.21875 \nQ 25.25 66.21875 20.875 63.09375 \nQ 16.5 59.96875 16.5 54.203125 \nQ 16.5 49.359375 19.40625 46.890625 \nQ 22.3125 44.4375 30.421875 42.921875 \nL 36.375 41.703125 \nQ 47.40625 39.59375 52.65625 34.296875 \nQ 57.90625 29 57.90625 20.125 \nQ 57.90625 9.515625 50.796875 4.046875 \nQ 43.703125 -1.421875 29.984375 -1.421875 \nQ 24.8125 -1.421875 18.96875 -0.25 \nQ 13.140625 0.921875 6.890625 3.21875 \nL 6.890625 13.375 \nQ 12.890625 10.015625 18.65625 8.296875 \nQ 24.421875 6.59375 29.984375 6.59375 \nQ 38.421875 6.59375 43.015625 9.90625 \nQ 47.609375 13.234375 47.609375 19.390625 \nQ 47.609375 24.75 44.3125 27.78125 \nQ 41.015625 30.8125 33.5 32.328125 \nL 27.484375 33.5 \nQ 16.453125 35.6875 11.515625 40.375 \nQ 6.59375 45.0625 6.59375 53.421875 \nQ 6.59375 63.09375 13.40625 68.65625 \nQ 20.21875 74.21875 32.171875 74.21875 \nQ 37.3125 74.21875 42.625 73.28125 \nQ 47.953125 72.359375 53.515625 70.515625 \nz\n\" id=\"DejaVuSans-83\"/>\n      </defs>\n      <use xlink:href=\"#DejaVuSans-83\"/>\n      <use x=\"63.476562\" xlink:href=\"#DejaVuSans-111\"/>\n      <use x=\"124.658203\" xlink:href=\"#DejaVuSans-110\"/>\n      <use x=\"188.037109\" xlink:href=\"#DejaVuSans-103\"/>\n     </g>\n    </g>\n   </g>\n   <g id=\"matplotlib.axis_2\">\n    <g id=\"ytick_1\">\n     <g id=\"line2d_11\">\n      <defs>\n       <path d=\"M 0 0 \nL -3.5 0 \n\" id=\"m3f040b5914\" style=\"stroke:#000000;stroke-width:0.8;\"/>\n      </defs>\n      <g>\n       <use style=\"stroke:#000000;stroke-width:0.8;\" x=\"48.90125\" xlink:href=\"#m3f040b5914\" y=\"294.118125\"/>\n      </g>\n     </g>\n     <g id=\"text_12\">\n      <!-- 0 -->\n      <g transform=\"translate(35.53875 297.917344)scale(0.1 -0.1)\">\n       <defs>\n        <path d=\"M 31.78125 66.40625 \nQ 24.171875 66.40625 20.328125 58.90625 \nQ 16.5 51.421875 16.5 36.375 \nQ 16.5 21.390625 20.328125 13.890625 \nQ 24.171875 6.390625 31.78125 6.390625 \nQ 39.453125 6.390625 43.28125 13.890625 \nQ 47.125 21.390625 47.125 36.375 \nQ 47.125 51.421875 43.28125 58.90625 \nQ 39.453125 66.40625 31.78125 66.40625 \nz\nM 31.78125 74.21875 \nQ 44.046875 74.21875 50.515625 64.515625 \nQ 56.984375 54.828125 56.984375 36.375 \nQ 56.984375 17.96875 50.515625 8.265625 \nQ 44.046875 -1.421875 31.78125 -1.421875 \nQ 19.53125 -1.421875 13.0625 8.265625 \nQ 6.59375 17.96875 6.59375 36.375 \nQ 6.59375 54.828125 13.0625 64.515625 \nQ 19.53125 74.21875 31.78125 74.21875 \nz\n\" id=\"DejaVuSans-48\"/>\n       </defs>\n       <use xlink:href=\"#DejaVuSans-48\"/>\n      </g>\n     </g>\n    </g>\n    <g id=\"ytick_2\">\n     <g id=\"line2d_12\">\n      <g>\n       <use style=\"stroke:#000000;stroke-width:0.8;\" x=\"48.90125\" xlink:href=\"#m3f040b5914\" y=\"259.325498\"/>\n      </g>\n     </g>\n     <g id=\"text_13\">\n      <!-- 25 -->\n      <g transform=\"translate(29.17625 263.124717)scale(0.1 -0.1)\">\n       <use xlink:href=\"#DejaVuSans-50\"/>\n       <use x=\"63.623047\" xlink:href=\"#DejaVuSans-53\"/>\n      </g>\n     </g>\n    </g>\n    <g id=\"ytick_3\">\n     <g id=\"line2d_13\">\n      <g>\n       <use style=\"stroke:#000000;stroke-width:0.8;\" x=\"48.90125\" xlink:href=\"#m3f040b5914\" y=\"224.532872\"/>\n      </g>\n     </g>\n     <g id=\"text_14\">\n      <!-- 50 -->\n      <g transform=\"translate(29.17625 228.33209)scale(0.1 -0.1)\">\n       <use xlink:href=\"#DejaVuSans-53\"/>\n       <use x=\"63.623047\" xlink:href=\"#DejaVuSans-48\"/>\n      </g>\n     </g>\n    </g>\n    <g id=\"ytick_4\">\n     <g id=\"line2d_14\">\n      <g>\n       <use style=\"stroke:#000000;stroke-width:0.8;\" x=\"48.90125\" xlink:href=\"#m3f040b5914\" y=\"189.740245\"/>\n      </g>\n     </g>\n     <g id=\"text_15\">\n      <!-- 75 -->\n      <g transform=\"translate(29.17625 193.539464)scale(0.1 -0.1)\">\n       <defs>\n        <path d=\"M 8.203125 72.90625 \nL 55.078125 72.90625 \nL 55.078125 68.703125 \nL 28.609375 0 \nL 18.3125 0 \nL 43.21875 64.59375 \nL 8.203125 64.59375 \nz\n\" id=\"DejaVuSans-55\"/>\n       </defs>\n       <use xlink:href=\"#DejaVuSans-55\"/>\n       <use x=\"63.623047\" xlink:href=\"#DejaVuSans-53\"/>\n      </g>\n     </g>\n    </g>\n    <g id=\"ytick_5\">\n     <g id=\"line2d_15\">\n      <g>\n       <use style=\"stroke:#000000;stroke-width:0.8;\" x=\"48.90125\" xlink:href=\"#m3f040b5914\" y=\"154.947618\"/>\n      </g>\n     </g>\n     <g id=\"text_16\">\n      <!-- 100 -->\n      <g transform=\"translate(22.81375 158.746837)scale(0.1 -0.1)\">\n       <defs>\n        <path d=\"M 12.40625 8.296875 \nL 28.515625 8.296875 \nL 28.515625 63.921875 \nL 10.984375 60.40625 \nL 10.984375 69.390625 \nL 28.421875 72.90625 \nL 38.28125 72.90625 \nL 38.28125 8.296875 \nL 54.390625 8.296875 \nL 54.390625 0 \nL 12.40625 0 \nz\n\" id=\"DejaVuSans-49\"/>\n       </defs>\n       <use xlink:href=\"#DejaVuSans-49\"/>\n       <use x=\"63.623047\" xlink:href=\"#DejaVuSans-48\"/>\n       <use x=\"127.246094\" xlink:href=\"#DejaVuSans-48\"/>\n      </g>\n     </g>\n    </g>\n    <g id=\"ytick_6\">\n     <g id=\"line2d_16\">\n      <g>\n       <use style=\"stroke:#000000;stroke-width:0.8;\" x=\"48.90125\" xlink:href=\"#m3f040b5914\" y=\"120.154991\"/>\n      </g>\n     </g>\n     <g id=\"text_17\">\n      <!-- 125 -->\n      <g transform=\"translate(22.81375 123.95421)scale(0.1 -0.1)\">\n       <use xlink:href=\"#DejaVuSans-49\"/>\n       <use x=\"63.623047\" xlink:href=\"#DejaVuSans-50\"/>\n       <use x=\"127.246094\" xlink:href=\"#DejaVuSans-53\"/>\n      </g>\n     </g>\n    </g>\n    <g id=\"ytick_7\">\n     <g id=\"line2d_17\">\n      <g>\n       <use style=\"stroke:#000000;stroke-width:0.8;\" x=\"48.90125\" xlink:href=\"#m3f040b5914\" y=\"85.362365\"/>\n      </g>\n     </g>\n     <g id=\"text_18\">\n      <!-- 150 -->\n      <g transform=\"translate(22.81375 89.161583)scale(0.1 -0.1)\">\n       <use xlink:href=\"#DejaVuSans-49\"/>\n       <use x=\"63.623047\" xlink:href=\"#DejaVuSans-53\"/>\n       <use x=\"127.246094\" xlink:href=\"#DejaVuSans-48\"/>\n      </g>\n     </g>\n    </g>\n    <g id=\"ytick_8\">\n     <g id=\"line2d_18\">\n      <g>\n       <use style=\"stroke:#000000;stroke-width:0.8;\" x=\"48.90125\" xlink:href=\"#m3f040b5914\" y=\"50.569738\"/>\n      </g>\n     </g>\n     <g id=\"text_19\">\n      <!-- 175 -->\n      <g transform=\"translate(22.81375 54.368957)scale(0.1 -0.1)\">\n       <use xlink:href=\"#DejaVuSans-49\"/>\n       <use x=\"63.623047\" xlink:href=\"#DejaVuSans-55\"/>\n       <use x=\"127.246094\" xlink:href=\"#DejaVuSans-53\"/>\n      </g>\n     </g>\n    </g>\n    <g id=\"text_20\">\n     <!-- Number of Occurrences -->\n     <g transform=\"translate(16.318125 229.34625)rotate(-90)scale(0.12 -0.12)\">\n      <defs>\n       <path d=\"M 52 44.1875 \nQ 55.375 50.25 60.0625 53.125 \nQ 64.75 56 71.09375 56 \nQ 79.640625 56 84.28125 50.015625 \nQ 88.921875 44.046875 88.921875 33.015625 \nL 88.921875 0 \nL 79.890625 0 \nL 79.890625 32.71875 \nQ 79.890625 40.578125 77.09375 44.375 \nQ 74.3125 48.1875 68.609375 48.1875 \nQ 61.625 48.1875 57.5625 43.546875 \nQ 53.515625 38.921875 53.515625 30.90625 \nL 53.515625 0 \nL 44.484375 0 \nL 44.484375 32.71875 \nQ 44.484375 40.625 41.703125 44.40625 \nQ 38.921875 48.1875 33.109375 48.1875 \nQ 26.21875 48.1875 22.15625 43.53125 \nQ 18.109375 38.875 18.109375 30.90625 \nL 18.109375 0 \nL 9.078125 0 \nL 9.078125 54.6875 \nL 18.109375 54.6875 \nL 18.109375 46.1875 \nQ 21.1875 51.21875 25.484375 53.609375 \nQ 29.78125 56 35.6875 56 \nQ 41.65625 56 45.828125 52.96875 \nQ 50 49.953125 52 44.1875 \nz\n\" id=\"DejaVuSans-109\"/>\n       <path d=\"M 39.40625 66.21875 \nQ 28.65625 66.21875 22.328125 58.203125 \nQ 16.015625 50.203125 16.015625 36.375 \nQ 16.015625 22.609375 22.328125 14.59375 \nQ 28.65625 6.59375 39.40625 6.59375 \nQ 50.140625 6.59375 56.421875 14.59375 \nQ 62.703125 22.609375 62.703125 36.375 \nQ 62.703125 50.203125 56.421875 58.203125 \nQ 50.140625 66.21875 39.40625 66.21875 \nz\nM 39.40625 74.21875 \nQ 54.734375 74.21875 63.90625 63.9375 \nQ 73.09375 53.65625 73.09375 36.375 \nQ 73.09375 19.140625 63.90625 8.859375 \nQ 54.734375 -1.421875 39.40625 -1.421875 \nQ 24.03125 -1.421875 14.8125 8.828125 \nQ 5.609375 19.09375 5.609375 36.375 \nQ 5.609375 53.65625 14.8125 63.9375 \nQ 24.03125 74.21875 39.40625 74.21875 \nz\n\" id=\"DejaVuSans-79\"/>\n       <path d=\"M 48.78125 52.59375 \nL 48.78125 44.1875 \nQ 44.96875 46.296875 41.140625 47.34375 \nQ 37.3125 48.390625 33.40625 48.390625 \nQ 24.65625 48.390625 19.8125 42.84375 \nQ 14.984375 37.3125 14.984375 27.296875 \nQ 14.984375 17.28125 19.8125 11.734375 \nQ 24.65625 6.203125 33.40625 6.203125 \nQ 37.3125 6.203125 41.140625 7.25 \nQ 44.96875 8.296875 48.78125 10.40625 \nL 48.78125 2.09375 \nQ 45.015625 0.34375 40.984375 -0.53125 \nQ 36.96875 -1.421875 32.421875 -1.421875 \nQ 20.0625 -1.421875 12.78125 6.34375 \nQ 5.515625 14.109375 5.515625 27.296875 \nQ 5.515625 40.671875 12.859375 48.328125 \nQ 20.21875 56 33.015625 56 \nQ 37.15625 56 41.109375 55.140625 \nQ 45.0625 54.296875 48.78125 52.59375 \nz\n\" id=\"DejaVuSans-99\"/>\n      </defs>\n      <use xlink:href=\"#DejaVuSans-78\"/>\n      <use x=\"74.804688\" xlink:href=\"#DejaVuSans-117\"/>\n      <use x=\"138.183594\" xlink:href=\"#DejaVuSans-109\"/>\n      <use x=\"235.595703\" xlink:href=\"#DejaVuSans-98\"/>\n      <use x=\"299.072266\" xlink:href=\"#DejaVuSans-101\"/>\n      <use x=\"360.595703\" xlink:href=\"#DejaVuSans-114\"/>\n      <use x=\"401.708984\" xlink:href=\"#DejaVuSans-32\"/>\n      <use x=\"433.496094\" xlink:href=\"#DejaVuSans-111\"/>\n      <use x=\"494.677734\" xlink:href=\"#DejaVuSans-102\"/>\n      <use x=\"529.882812\" xlink:href=\"#DejaVuSans-32\"/>\n      <use x=\"561.669922\" xlink:href=\"#DejaVuSans-79\"/>\n      <use x=\"640.380859\" xlink:href=\"#DejaVuSans-99\"/>\n      <use x=\"695.361328\" xlink:href=\"#DejaVuSans-99\"/>\n      <use x=\"750.341797\" xlink:href=\"#DejaVuSans-117\"/>\n      <use x=\"813.720703\" xlink:href=\"#DejaVuSans-114\"/>\n      <use x=\"853.083984\" xlink:href=\"#DejaVuSans-114\"/>\n      <use x=\"891.947266\" xlink:href=\"#DejaVuSans-101\"/>\n      <use x=\"953.470703\" xlink:href=\"#DejaVuSans-110\"/>\n      <use x=\"1016.849609\" xlink:href=\"#DejaVuSans-99\"/>\n      <use x=\"1071.830078\" xlink:href=\"#DejaVuSans-101\"/>\n      <use x=\"1133.353516\" xlink:href=\"#DejaVuSans-115\"/>\n     </g>\n    </g>\n   </g>\n   <g id=\"line2d_19\">\n    <path clip-path=\"url(#p1c89b94c84)\" d=\"M 0 0 \n\" style=\"fill:none;stroke:#424242;stroke-linecap:square;stroke-width:2.7;\"/>\n   </g>\n   <g id=\"line2d_20\">\n    <path clip-path=\"url(#p1c89b94c84)\" d=\"M 0 0 \n\" style=\"fill:none;stroke:#424242;stroke-linecap:square;stroke-width:2.7;\"/>\n   </g>\n   <g id=\"line2d_21\">\n    <path clip-path=\"url(#p1c89b94c84)\" d=\"M 0 0 \n\" style=\"fill:none;stroke:#424242;stroke-linecap:square;stroke-width:2.7;\"/>\n   </g>\n   <g id=\"line2d_22\">\n    <path clip-path=\"url(#p1c89b94c84)\" d=\"M 0 0 \n\" style=\"fill:none;stroke:#424242;stroke-linecap:square;stroke-width:2.7;\"/>\n   </g>\n   <g id=\"line2d_23\">\n    <path clip-path=\"url(#p1c89b94c84)\" d=\"M 0 0 \n\" style=\"fill:none;stroke:#424242;stroke-linecap:square;stroke-width:2.7;\"/>\n   </g>\n   <g id=\"line2d_24\">\n    <path clip-path=\"url(#p1c89b94c84)\" d=\"M 0 0 \n\" style=\"fill:none;stroke:#424242;stroke-linecap:square;stroke-width:2.7;\"/>\n   </g>\n   <g id=\"line2d_25\">\n    <path clip-path=\"url(#p1c89b94c84)\" d=\"M 0 0 \n\" style=\"fill:none;stroke:#424242;stroke-linecap:square;stroke-width:2.7;\"/>\n   </g>\n   <g id=\"line2d_26\">\n    <path clip-path=\"url(#p1c89b94c84)\" d=\"M 0 0 \n\" style=\"fill:none;stroke:#424242;stroke-linecap:square;stroke-width:2.7;\"/>\n   </g>\n   <g id=\"line2d_27\">\n    <path clip-path=\"url(#p1c89b94c84)\" d=\"M 0 0 \n\" style=\"fill:none;stroke:#424242;stroke-linecap:square;stroke-width:2.7;\"/>\n   </g>\n   <g id=\"line2d_28\">\n    <path clip-path=\"url(#p1c89b94c84)\" d=\"M 0 0 \n\" style=\"fill:none;stroke:#424242;stroke-linecap:square;stroke-width:2.7;\"/>\n   </g>\n   <g id=\"patch_13\">\n    <path d=\"M 48.90125 294.118125 \nL 48.90125 22.318125 \n\" style=\"fill:none;stroke:#000000;stroke-linecap:square;stroke-linejoin:miter;stroke-width:0.8;\"/>\n   </g>\n   <g id=\"patch_14\">\n    <path d=\"M 885.90125 294.118125 \nL 885.90125 22.318125 \n\" style=\"fill:none;stroke:#000000;stroke-linecap:square;stroke-linejoin:miter;stroke-width:0.8;\"/>\n   </g>\n   <g id=\"patch_15\">\n    <path d=\"M 48.90125 294.118125 \nL 885.90125 294.118125 \n\" style=\"fill:none;stroke:#000000;stroke-linecap:square;stroke-linejoin:miter;stroke-width:0.8;\"/>\n   </g>\n   <g id=\"patch_16\">\n    <path d=\"M 48.90125 22.318125 \nL 885.90125 22.318125 \n\" style=\"fill:none;stroke:#000000;stroke-linecap:square;stroke-linejoin:miter;stroke-width:0.8;\"/>\n   </g>\n   <g id=\"text_21\">\n    <!-- Top 10 Songs All Time -->\n    <g transform=\"translate(401.677813 16.318125)scale(0.12 -0.12)\">\n     <use xlink:href=\"#DejaVuSans-84\"/>\n     <use x=\"44.083984\" xlink:href=\"#DejaVuSans-111\"/>\n     <use x=\"105.265625\" xlink:href=\"#DejaVuSans-112\"/>\n     <use x=\"168.742188\" xlink:href=\"#DejaVuSans-32\"/>\n     <use x=\"200.529297\" xlink:href=\"#DejaVuSans-49\"/>\n     <use x=\"264.152344\" xlink:href=\"#DejaVuSans-48\"/>\n     <use x=\"327.775391\" xlink:href=\"#DejaVuSans-32\"/>\n     <use x=\"359.5625\" xlink:href=\"#DejaVuSans-83\"/>\n     <use x=\"423.039062\" xlink:href=\"#DejaVuSans-111\"/>\n     <use x=\"484.220703\" xlink:href=\"#DejaVuSans-110\"/>\n     <use x=\"547.599609\" xlink:href=\"#DejaVuSans-103\"/>\n     <use x=\"611.076172\" xlink:href=\"#DejaVuSans-115\"/>\n     <use x=\"663.175781\" xlink:href=\"#DejaVuSans-32\"/>\n     <use x=\"694.962891\" xlink:href=\"#DejaVuSans-65\"/>\n     <use x=\"763.371094\" xlink:href=\"#DejaVuSans-108\"/>\n     <use x=\"791.154297\" xlink:href=\"#DejaVuSans-108\"/>\n     <use x=\"818.9375\" xlink:href=\"#DejaVuSans-32\"/>\n     <use x=\"850.724609\" xlink:href=\"#DejaVuSans-84\"/>\n     <use x=\"908.683594\" xlink:href=\"#DejaVuSans-105\"/>\n     <use x=\"936.466797\" xlink:href=\"#DejaVuSans-109\"/>\n     <use x=\"1033.878906\" xlink:href=\"#DejaVuSans-101\"/>\n    </g>\n   </g>\n  </g>\n </g>\n <defs>\n  <clipPath id=\"p1c89b94c84\">\n   <rect height=\"271.8\" width=\"837\" x=\"48.90125\" y=\"22.318125\"/>\n  </clipPath>\n </defs>\n</svg>\n",
      "image/png": "[encoded data removed]"
     },
     "metadata": {
      "needs_background": "light"
     }
    }
   ],
   "source": [
    "# What song(s) are the most listened to of all time?\n",
    "song_count  = df['name'].value_counts()\n",
    "song_count = song_count[:10,]\n",
    "plt.figure(figsize=(15,5))\n",
    "chart = sns.barplot(song_count.index, song_count.values, alpha=0.8)\n",
    "plt.title('Top 10 Songs All Time')\n",
    "plt.ylabel('Number of Occurrences', fontsize=12)\n",
    "plt.xlabel('Song', fontsize=12)\n",
    "xticks=chart.xaxis.get_major_ticks()\n",
    "chart.set_xticklabels(song_count.index, rotation=30)\n",
    "\n",
    "plt.show()"
   ]
  },
  {
   "cell_type": "code",
   "execution_count": 17,
   "metadata": {},
   "outputs": [
    {
     "output_type": "display_data",
     "data": {
      "text/plain": "<Figure size 1080x360 with 1 Axes>",
      "image/svg+xml": "<?xml version=\"1.0\" encoding=\"utf-8\" standalone=\"no\"?>\n<!DOCTYPE svg PUBLIC \"-//W3C//DTD SVG 1.1//EN\"\n  \"http://www.w3.org/Graphics/SVG/1.1/DTD/svg11.dtd\">\n<!-- Created with matplotlib (https://matplotlib.org/) -->\n<svg height=\"404.840721pt\" version=\"1.1\" viewBox=\"0 0 899.46375 404.840721\" width=\"899.46375pt\" xmlns=\"http://www.w3.org/2000/svg\" xmlns:xlink=\"http://www.w3.org/1999/xlink\">\n <metadata>\n  <rdf:RDF xmlns:cc=\"http://creativecommons.org/ns#\" xmlns:dc=\"http://purl.org/dc/elements/1.1/\" xmlns:rdf=\"http://www.w3.org/1999/02/22-rdf-syntax-ns#\">\n   <cc:Work>\n    <dc:type rdf:resource=\"http://purl.org/dc/dcmitype/StillImage\"/>\n    <dc:date>2021-03-13T11:10:02.848716</dc:date>\n    <dc:format>image/svg+xml</dc:format>\n    <dc:creator>\n     <cc:Agent>\n      <dc:title>Matplotlib v3.3.1, https://matplotlib.org/</dc:title>\n     </cc:Agent>\n    </dc:creator>\n   </cc:Work>\n  </rdf:RDF>\n </metadata>\n <defs>\n  <style type=\"text/css\">*{stroke-linecap:butt;stroke-linejoin:round;}</style>\n </defs>\n <g id=\"figure_1\">\n  <g id=\"patch_1\">\n   <path d=\"M 0 404.840721 \nL 899.46375 404.840721 \nL 899.46375 0 \nL 0 0 \nz\n\" style=\"fill:none;\"/>\n  </g>\n  <g id=\"axes_1\">\n   <g id=\"patch_2\">\n    <path d=\"M 55.26375 294.118125 \nL 892.26375 294.118125 \nL 892.26375 22.318125 \nL 55.26375 22.318125 \nz\n\" style=\"fill:#ffffff;\"/>\n   </g>\n   <g id=\"patch_3\">\n    <path clip-path=\"url(#p8d6d9797a0)\" d=\"M 63.63375 294.118125 \nL 130.59375 294.118125 \nL 130.59375 35.260982 \nL 63.63375 35.260982 \nz\n\" style=\"fill:#3274a1;opacity:0.8;\"/>\n   </g>\n   <g id=\"patch_4\">\n    <path clip-path=\"url(#p8d6d9797a0)\" d=\"M 147.33375 294.118125 \nL 214.29375 294.118125 \nL 214.29375 204.424087 \nL 147.33375 204.424087 \nz\n\" style=\"fill:#e1812c;opacity:0.8;\"/>\n   </g>\n   <g id=\"patch_5\">\n    <path clip-path=\"url(#p8d6d9797a0)\" d=\"M 231.03375 294.118125 \nL 297.99375 294.118125 \nL 297.99375 228.407657 \nL 231.03375 228.407657 \nz\n\" style=\"fill:#3a923a;opacity:0.8;\"/>\n   </g>\n   <g id=\"patch_6\">\n    <path clip-path=\"url(#p8d6d9797a0)\" d=\"M 314.73375 294.118125 \nL 381.69375 294.118125 \nL 381.69375 239.760381 \nL 314.73375 239.760381 \nz\n\" style=\"fill:#c03d3e;opacity:0.8;\"/>\n   </g>\n   <g id=\"patch_7\">\n    <path clip-path=\"url(#p8d6d9797a0)\" d=\"M 398.43375 294.118125 \nL 465.39375 294.118125 \nL 465.39375 244.421764 \nL 398.43375 244.421764 \nz\n\" style=\"fill:#9372b2;opacity:0.8;\"/>\n   </g>\n   <g id=\"patch_8\">\n    <path clip-path=\"url(#p8d6d9797a0)\" d=\"M 482.13375 294.118125 \nL 549.09375 294.118125 \nL 549.09375 246.22617 \nL 482.13375 246.22617 \nz\n\" style=\"fill:#845b53;opacity:0.8;\"/>\n   </g>\n   <g id=\"patch_9\">\n    <path clip-path=\"url(#p8d6d9797a0)\" d=\"M 565.83375 294.118125 \nL 632.79375 294.118125 \nL 632.79375 250.887554 \nL 565.83375 250.887554 \nz\n\" style=\"fill:#d684bd;opacity:0.8;\"/>\n   </g>\n   <g id=\"patch_10\">\n    <path clip-path=\"url(#p8d6d9797a0)\" d=\"M 649.53375 294.118125 \nL 716.49375 294.118125 \nL 716.49375 251.338655 \nL 649.53375 251.338655 \nz\n\" style=\"fill:#7f7f7f;opacity:0.8;\"/>\n   </g>\n   <g id=\"patch_11\">\n    <path clip-path=\"url(#p8d6d9797a0)\" d=\"M 733.23375 294.118125 \nL 800.19375 294.118125 \nL 800.19375 251.564206 \nL 733.23375 251.564206 \nz\n\" style=\"fill:#a9aa35;opacity:0.8;\"/>\n   </g>\n   <g id=\"patch_12\">\n    <path clip-path=\"url(#p8d6d9797a0)\" d=\"M 816.93375 294.118125 \nL 883.89375 294.118125 \nL 883.89375 253.819714 \nL 816.93375 253.819714 \nz\n\" style=\"fill:#2eabb8;opacity:0.8;\"/>\n   </g>\n   <g id=\"matplotlib.axis_1\">\n    <g id=\"xtick_1\">\n     <g id=\"line2d_1\">\n      <defs>\n       <path d=\"M 0 0 \nL 0 3.5 \n\" id=\"m5ed3d4185c\" style=\"stroke:#000000;stroke-width:0.8;\"/>\n      </defs>\n      <g>\n       <use style=\"stroke:#000000;stroke-width:0.8;\" x=\"97.11375\" xlink:href=\"#m5ed3d4185c\" y=\"294.118125\"/>\n      </g>\n     </g>\n     <g id=\"text_1\">\n      <!-- LUCKI -->\n      <g transform=\"translate(85.987489 322.13919)rotate(-30)scale(0.1 -0.1)\">\n       <defs>\n        <path d=\"M 9.8125 72.90625 \nL 19.671875 72.90625 \nL 19.671875 8.296875 \nL 55.171875 8.296875 \nL 55.171875 0 \nL 9.8125 0 \nz\n\" id=\"DejaVuSans-76\"/>\n        <path d=\"M 8.6875 72.90625 \nL 18.609375 72.90625 \nL 18.609375 28.609375 \nQ 18.609375 16.890625 22.84375 11.734375 \nQ 27.09375 6.59375 36.625 6.59375 \nQ 46.09375 6.59375 50.34375 11.734375 \nQ 54.59375 16.890625 54.59375 28.609375 \nL 54.59375 72.90625 \nL 64.5 72.90625 \nL 64.5 27.390625 \nQ 64.5 13.140625 57.4375 5.859375 \nQ 50.390625 -1.421875 36.625 -1.421875 \nQ 22.796875 -1.421875 15.734375 5.859375 \nQ 8.6875 13.140625 8.6875 27.390625 \nz\n\" id=\"DejaVuSans-85\"/>\n        <path d=\"M 64.40625 67.28125 \nL 64.40625 56.890625 \nQ 59.421875 61.53125 53.78125 63.8125 \nQ 48.140625 66.109375 41.796875 66.109375 \nQ 29.296875 66.109375 22.65625 58.46875 \nQ 16.015625 50.828125 16.015625 36.375 \nQ 16.015625 21.96875 22.65625 14.328125 \nQ 29.296875 6.6875 41.796875 6.6875 \nQ 48.140625 6.6875 53.78125 8.984375 \nQ 59.421875 11.28125 64.40625 15.921875 \nL 64.40625 5.609375 \nQ 59.234375 2.09375 53.4375 0.328125 \nQ 47.65625 -1.421875 41.21875 -1.421875 \nQ 24.65625 -1.421875 15.125 8.703125 \nQ 5.609375 18.84375 5.609375 36.375 \nQ 5.609375 53.953125 15.125 64.078125 \nQ 24.65625 74.21875 41.21875 74.21875 \nQ 47.75 74.21875 53.53125 72.484375 \nQ 59.328125 70.75 64.40625 67.28125 \nz\n\" id=\"DejaVuSans-67\"/>\n        <path d=\"M 9.8125 72.90625 \nL 19.671875 72.90625 \nL 19.671875 42.09375 \nL 52.390625 72.90625 \nL 65.09375 72.90625 \nL 28.90625 38.921875 \nL 67.671875 0 \nL 54.6875 0 \nL 19.671875 35.109375 \nL 19.671875 0 \nL 9.8125 0 \nz\n\" id=\"DejaVuSans-75\"/>\n        <path d=\"M 9.8125 72.90625 \nL 19.671875 72.90625 \nL 19.671875 0 \nL 9.8125 0 \nz\n\" id=\"DejaVuSans-73\"/>\n       </defs>\n       <use xlink:href=\"#DejaVuSans-76\"/>\n       <use x=\"50.712891\" xlink:href=\"#DejaVuSans-85\"/>\n       <use x=\"123.90625\" xlink:href=\"#DejaVuSans-67\"/>\n       <use x=\"193.730469\" xlink:href=\"#DejaVuSans-75\"/>\n       <use x=\"259.306641\" xlink:href=\"#DejaVuSans-73\"/>\n      </g>\n     </g>\n    </g>\n    <g id=\"xtick_2\">\n     <g id=\"line2d_2\">\n      <g>\n       <use style=\"stroke:#000000;stroke-width:0.8;\" x=\"180.81375\" xlink:href=\"#m5ed3d4185c\" y=\"294.118125\"/>\n      </g>\n     </g>\n     <g id=\"text_2\">\n      <!-- Playboi Carti -->\n      <g transform=\"translate(154.827711 339.297784)rotate(-30)scale(0.1 -0.1)\">\n       <defs>\n        <path d=\"M 19.671875 64.796875 \nL 19.671875 37.40625 \nL 32.078125 37.40625 \nQ 38.96875 37.40625 42.71875 40.96875 \nQ 46.484375 44.53125 46.484375 51.125 \nQ 46.484375 57.671875 42.71875 61.234375 \nQ 38.96875 64.796875 32.078125 64.796875 \nz\nM 9.8125 72.90625 \nL 32.078125 72.90625 \nQ 44.34375 72.90625 50.609375 67.359375 \nQ 56.890625 61.8125 56.890625 51.125 \nQ 56.890625 40.328125 50.609375 34.8125 \nQ 44.34375 29.296875 32.078125 29.296875 \nL 19.671875 29.296875 \nL 19.671875 0 \nL 9.8125 0 \nz\n\" id=\"DejaVuSans-80\"/>\n        <path d=\"M 9.421875 75.984375 \nL 18.40625 75.984375 \nL 18.40625 0 \nL 9.421875 0 \nz\n\" id=\"DejaVuSans-108\"/>\n        <path d=\"M 34.28125 27.484375 \nQ 23.390625 27.484375 19.1875 25 \nQ 14.984375 22.515625 14.984375 16.5 \nQ 14.984375 11.71875 18.140625 8.90625 \nQ 21.296875 6.109375 26.703125 6.109375 \nQ 34.1875 6.109375 38.703125 11.40625 \nQ 43.21875 16.703125 43.21875 25.484375 \nL 43.21875 27.484375 \nz\nM 52.203125 31.203125 \nL 52.203125 0 \nL 43.21875 0 \nL 43.21875 8.296875 \nQ 40.140625 3.328125 35.546875 0.953125 \nQ 30.953125 -1.421875 24.3125 -1.421875 \nQ 15.921875 -1.421875 10.953125 3.296875 \nQ 6 8.015625 6 15.921875 \nQ 6 25.140625 12.171875 29.828125 \nQ 18.359375 34.515625 30.609375 34.515625 \nL 43.21875 34.515625 \nL 43.21875 35.40625 \nQ 43.21875 41.609375 39.140625 45 \nQ 35.0625 48.390625 27.6875 48.390625 \nQ 23 48.390625 18.546875 47.265625 \nQ 14.109375 46.140625 10.015625 43.890625 \nL 10.015625 52.203125 \nQ 14.9375 54.109375 19.578125 55.046875 \nQ 24.21875 56 28.609375 56 \nQ 40.484375 56 46.34375 49.84375 \nQ 52.203125 43.703125 52.203125 31.203125 \nz\n\" id=\"DejaVuSans-97\"/>\n        <path d=\"M 32.171875 -5.078125 \nQ 28.375 -14.84375 24.75 -17.8125 \nQ 21.140625 -20.796875 15.09375 -20.796875 \nL 7.90625 -20.796875 \nL 7.90625 -13.28125 \nL 13.1875 -13.28125 \nQ 16.890625 -13.28125 18.9375 -11.515625 \nQ 21 -9.765625 23.484375 -3.21875 \nL 25.09375 0.875 \nL 2.984375 54.6875 \nL 12.5 54.6875 \nL 29.59375 11.921875 \nL 46.6875 54.6875 \nL 56.203125 54.6875 \nz\n\" id=\"DejaVuSans-121\"/>\n        <path d=\"M 48.6875 27.296875 \nQ 48.6875 37.203125 44.609375 42.84375 \nQ 40.53125 48.484375 33.40625 48.484375 \nQ 26.265625 48.484375 22.1875 42.84375 \nQ 18.109375 37.203125 18.109375 27.296875 \nQ 18.109375 17.390625 22.1875 11.75 \nQ 26.265625 6.109375 33.40625 6.109375 \nQ 40.53125 6.109375 44.609375 11.75 \nQ 48.6875 17.390625 48.6875 27.296875 \nz\nM 18.109375 46.390625 \nQ 20.953125 51.265625 25.265625 53.625 \nQ 29.59375 56 35.59375 56 \nQ 45.5625 56 51.78125 48.09375 \nQ 58.015625 40.1875 58.015625 27.296875 \nQ 58.015625 14.40625 51.78125 6.484375 \nQ 45.5625 -1.421875 35.59375 -1.421875 \nQ 29.59375 -1.421875 25.265625 0.953125 \nQ 20.953125 3.328125 18.109375 8.203125 \nL 18.109375 0 \nL 9.078125 0 \nL 9.078125 75.984375 \nL 18.109375 75.984375 \nz\n\" id=\"DejaVuSans-98\"/>\n        <path d=\"M 30.609375 48.390625 \nQ 23.390625 48.390625 19.1875 42.75 \nQ 14.984375 37.109375 14.984375 27.296875 \nQ 14.984375 17.484375 19.15625 11.84375 \nQ 23.34375 6.203125 30.609375 6.203125 \nQ 37.796875 6.203125 41.984375 11.859375 \nQ 46.1875 17.53125 46.1875 27.296875 \nQ 46.1875 37.015625 41.984375 42.703125 \nQ 37.796875 48.390625 30.609375 48.390625 \nz\nM 30.609375 56 \nQ 42.328125 56 49.015625 48.375 \nQ 55.71875 40.765625 55.71875 27.296875 \nQ 55.71875 13.875 49.015625 6.21875 \nQ 42.328125 -1.421875 30.609375 -1.421875 \nQ 18.84375 -1.421875 12.171875 6.21875 \nQ 5.515625 13.875 5.515625 27.296875 \nQ 5.515625 40.765625 12.171875 48.375 \nQ 18.84375 56 30.609375 56 \nz\n\" id=\"DejaVuSans-111\"/>\n        <path d=\"M 9.421875 54.6875 \nL 18.40625 54.6875 \nL 18.40625 0 \nL 9.421875 0 \nz\nM 9.421875 75.984375 \nL 18.40625 75.984375 \nL 18.40625 64.59375 \nL 9.421875 64.59375 \nz\n\" id=\"DejaVuSans-105\"/>\n        <path id=\"DejaVuSans-32\"/>\n        <path d=\"M 41.109375 46.296875 \nQ 39.59375 47.171875 37.8125 47.578125 \nQ 36.03125 48 33.890625 48 \nQ 26.265625 48 22.1875 43.046875 \nQ 18.109375 38.09375 18.109375 28.8125 \nL 18.109375 0 \nL 9.078125 0 \nL 9.078125 54.6875 \nL 18.109375 54.6875 \nL 18.109375 46.1875 \nQ 20.953125 51.171875 25.484375 53.578125 \nQ 30.03125 56 36.53125 56 \nQ 37.453125 56 38.578125 55.875 \nQ 39.703125 55.765625 41.0625 55.515625 \nz\n\" id=\"DejaVuSans-114\"/>\n        <path d=\"M 18.3125 70.21875 \nL 18.3125 54.6875 \nL 36.8125 54.6875 \nL 36.8125 47.703125 \nL 18.3125 47.703125 \nL 18.3125 18.015625 \nQ 18.3125 11.328125 20.140625 9.421875 \nQ 21.96875 7.515625 27.59375 7.515625 \nL 36.8125 7.515625 \nL 36.8125 0 \nL 27.59375 0 \nQ 17.1875 0 13.234375 3.875 \nQ 9.28125 7.765625 9.28125 18.015625 \nL 9.28125 47.703125 \nL 2.6875 47.703125 \nL 2.6875 54.6875 \nL 9.28125 54.6875 \nL 9.28125 70.21875 \nz\n\" id=\"DejaVuSans-116\"/>\n       </defs>\n       <use xlink:href=\"#DejaVuSans-80\"/>\n       <use x=\"60.302734\" xlink:href=\"#DejaVuSans-108\"/>\n       <use x=\"88.085938\" xlink:href=\"#DejaVuSans-97\"/>\n       <use x=\"149.365234\" xlink:href=\"#DejaVuSans-121\"/>\n       <use x=\"208.544922\" xlink:href=\"#DejaVuSans-98\"/>\n       <use x=\"272.021484\" xlink:href=\"#DejaVuSans-111\"/>\n       <use x=\"333.203125\" xlink:href=\"#DejaVuSans-105\"/>\n       <use x=\"360.986328\" xlink:href=\"#DejaVuSans-32\"/>\n       <use x=\"392.773438\" xlink:href=\"#DejaVuSans-67\"/>\n       <use x=\"462.597656\" xlink:href=\"#DejaVuSans-97\"/>\n       <use x=\"523.876953\" xlink:href=\"#DejaVuSans-114\"/>\n       <use x=\"564.990234\" xlink:href=\"#DejaVuSans-116\"/>\n       <use x=\"604.199219\" xlink:href=\"#DejaVuSans-105\"/>\n      </g>\n     </g>\n    </g>\n    <g id=\"xtick_3\">\n     <g id=\"line2d_3\">\n      <g>\n       <use style=\"stroke:#000000;stroke-width:0.8;\" x=\"264.51375\" xlink:href=\"#m5ed3d4185c\" y=\"294.118125\"/>\n      </g>\n     </g>\n     <g id=\"text_3\">\n      <!-- Lil Baby -->\n      <g transform=\"translate(248.762372 327.479815)rotate(-30)scale(0.1 -0.1)\">\n       <defs>\n        <path d=\"M 19.671875 34.8125 \nL 19.671875 8.109375 \nL 35.5 8.109375 \nQ 43.453125 8.109375 47.28125 11.40625 \nQ 51.125 14.703125 51.125 21.484375 \nQ 51.125 28.328125 47.28125 31.5625 \nQ 43.453125 34.8125 35.5 34.8125 \nz\nM 19.671875 64.796875 \nL 19.671875 42.828125 \nL 34.28125 42.828125 \nQ 41.5 42.828125 45.03125 45.53125 \nQ 48.578125 48.25 48.578125 53.8125 \nQ 48.578125 59.328125 45.03125 62.0625 \nQ 41.5 64.796875 34.28125 64.796875 \nz\nM 9.8125 72.90625 \nL 35.015625 72.90625 \nQ 46.296875 72.90625 52.390625 68.21875 \nQ 58.5 63.53125 58.5 54.890625 \nQ 58.5 48.1875 55.375 44.234375 \nQ 52.25 40.28125 46.1875 39.3125 \nQ 53.46875 37.75 57.5 32.78125 \nQ 61.53125 27.828125 61.53125 20.40625 \nQ 61.53125 10.640625 54.890625 5.3125 \nQ 48.25 0 35.984375 0 \nL 9.8125 0 \nz\n\" id=\"DejaVuSans-66\"/>\n       </defs>\n       <use xlink:href=\"#DejaVuSans-76\"/>\n       <use x=\"55.712891\" xlink:href=\"#DejaVuSans-105\"/>\n       <use x=\"83.496094\" xlink:href=\"#DejaVuSans-108\"/>\n       <use x=\"111.279297\" xlink:href=\"#DejaVuSans-32\"/>\n       <use x=\"143.066406\" xlink:href=\"#DejaVuSans-66\"/>\n       <use x=\"211.669922\" xlink:href=\"#DejaVuSans-97\"/>\n       <use x=\"272.949219\" xlink:href=\"#DejaVuSans-98\"/>\n       <use x=\"336.425781\" xlink:href=\"#DejaVuSans-121\"/>\n      </g>\n     </g>\n    </g>\n    <g id=\"xtick_4\">\n     <g id=\"line2d_4\">\n      <g>\n       <use style=\"stroke:#000000;stroke-width:0.8;\" x=\"348.21375\" xlink:href=\"#m5ed3d4185c\" y=\"294.118125\"/>\n      </g>\n     </g>\n     <g id=\"text_4\">\n      <!-- Gunna -->\n      <g transform=\"translate(335.352056 324.143096)rotate(-30)scale(0.1 -0.1)\">\n       <defs>\n        <path d=\"M 59.515625 10.40625 \nL 59.515625 29.984375 \nL 43.40625 29.984375 \nL 43.40625 38.09375 \nL 69.28125 38.09375 \nL 69.28125 6.78125 \nQ 63.578125 2.734375 56.6875 0.65625 \nQ 49.8125 -1.421875 42 -1.421875 \nQ 24.90625 -1.421875 15.25 8.5625 \nQ 5.609375 18.5625 5.609375 36.375 \nQ 5.609375 54.25 15.25 64.234375 \nQ 24.90625 74.21875 42 74.21875 \nQ 49.125 74.21875 55.546875 72.453125 \nQ 61.96875 70.703125 67.390625 67.28125 \nL 67.390625 56.78125 \nQ 61.921875 61.421875 55.765625 63.765625 \nQ 49.609375 66.109375 42.828125 66.109375 \nQ 29.4375 66.109375 22.71875 58.640625 \nQ 16.015625 51.171875 16.015625 36.375 \nQ 16.015625 21.625 22.71875 14.15625 \nQ 29.4375 6.6875 42.828125 6.6875 \nQ 48.046875 6.6875 52.140625 7.59375 \nQ 56.25 8.5 59.515625 10.40625 \nz\n\" id=\"DejaVuSans-71\"/>\n        <path d=\"M 8.5 21.578125 \nL 8.5 54.6875 \nL 17.484375 54.6875 \nL 17.484375 21.921875 \nQ 17.484375 14.15625 20.5 10.265625 \nQ 23.53125 6.390625 29.59375 6.390625 \nQ 36.859375 6.390625 41.078125 11.03125 \nQ 45.3125 15.671875 45.3125 23.6875 \nL 45.3125 54.6875 \nL 54.296875 54.6875 \nL 54.296875 0 \nL 45.3125 0 \nL 45.3125 8.40625 \nQ 42.046875 3.421875 37.71875 1 \nQ 33.40625 -1.421875 27.6875 -1.421875 \nQ 18.265625 -1.421875 13.375 4.4375 \nQ 8.5 10.296875 8.5 21.578125 \nz\nM 31.109375 56 \nz\n\" id=\"DejaVuSans-117\"/>\n        <path d=\"M 54.890625 33.015625 \nL 54.890625 0 \nL 45.90625 0 \nL 45.90625 32.71875 \nQ 45.90625 40.484375 42.875 44.328125 \nQ 39.84375 48.1875 33.796875 48.1875 \nQ 26.515625 48.1875 22.3125 43.546875 \nQ 18.109375 38.921875 18.109375 30.90625 \nL 18.109375 0 \nL 9.078125 0 \nL 9.078125 54.6875 \nL 18.109375 54.6875 \nL 18.109375 46.1875 \nQ 21.34375 51.125 25.703125 53.5625 \nQ 30.078125 56 35.796875 56 \nQ 45.21875 56 50.046875 50.171875 \nQ 54.890625 44.34375 54.890625 33.015625 \nz\n\" id=\"DejaVuSans-110\"/>\n       </defs>\n       <use xlink:href=\"#DejaVuSans-71\"/>\n       <use x=\"77.490234\" xlink:href=\"#DejaVuSans-117\"/>\n       <use x=\"140.869141\" xlink:href=\"#DejaVuSans-110\"/>\n       <use x=\"204.248047\" xlink:href=\"#DejaVuSans-110\"/>\n       <use x=\"267.626953\" xlink:href=\"#DejaVuSans-97\"/>\n      </g>\n     </g>\n    </g>\n    <g id=\"xtick_5\">\n     <g id=\"line2d_5\">\n      <g>\n       <use style=\"stroke:#000000;stroke-width:0.8;\" x=\"431.91375\" xlink:href=\"#m5ed3d4185c\" y=\"294.118125\"/>\n      </g>\n     </g>\n     <g id=\"text_5\">\n      <!-- Drake -->\n      <g transform=\"translate(420.510767 322.458721)rotate(-30)scale(0.1 -0.1)\">\n       <defs>\n        <path d=\"M 19.671875 64.796875 \nL 19.671875 8.109375 \nL 31.59375 8.109375 \nQ 46.6875 8.109375 53.6875 14.9375 \nQ 60.6875 21.78125 60.6875 36.53125 \nQ 60.6875 51.171875 53.6875 57.984375 \nQ 46.6875 64.796875 31.59375 64.796875 \nz\nM 9.8125 72.90625 \nL 30.078125 72.90625 \nQ 51.265625 72.90625 61.171875 64.09375 \nQ 71.09375 55.28125 71.09375 36.53125 \nQ 71.09375 17.671875 61.125 8.828125 \nQ 51.171875 0 30.078125 0 \nL 9.8125 0 \nz\n\" id=\"DejaVuSans-68\"/>\n        <path d=\"M 9.078125 75.984375 \nL 18.109375 75.984375 \nL 18.109375 31.109375 \nL 44.921875 54.6875 \nL 56.390625 54.6875 \nL 27.390625 29.109375 \nL 57.625 0 \nL 45.90625 0 \nL 18.109375 26.703125 \nL 18.109375 0 \nL 9.078125 0 \nz\n\" id=\"DejaVuSans-107\"/>\n        <path d=\"M 56.203125 29.59375 \nL 56.203125 25.203125 \nL 14.890625 25.203125 \nQ 15.484375 15.921875 20.484375 11.0625 \nQ 25.484375 6.203125 34.421875 6.203125 \nQ 39.59375 6.203125 44.453125 7.46875 \nQ 49.3125 8.734375 54.109375 11.28125 \nL 54.109375 2.78125 \nQ 49.265625 0.734375 44.1875 -0.34375 \nQ 39.109375 -1.421875 33.890625 -1.421875 \nQ 20.796875 -1.421875 13.15625 6.1875 \nQ 5.515625 13.8125 5.515625 26.8125 \nQ 5.515625 40.234375 12.765625 48.109375 \nQ 20.015625 56 32.328125 56 \nQ 43.359375 56 49.78125 48.890625 \nQ 56.203125 41.796875 56.203125 29.59375 \nz\nM 47.21875 32.234375 \nQ 47.125 39.59375 43.09375 43.984375 \nQ 39.0625 48.390625 32.421875 48.390625 \nQ 24.90625 48.390625 20.390625 44.140625 \nQ 15.875 39.890625 15.1875 32.171875 \nz\n\" id=\"DejaVuSans-101\"/>\n       </defs>\n       <use xlink:href=\"#DejaVuSans-68\"/>\n       <use x=\"77.001953\" xlink:href=\"#DejaVuSans-114\"/>\n       <use x=\"118.115234\" xlink:href=\"#DejaVuSans-97\"/>\n       <use x=\"179.394531\" xlink:href=\"#DejaVuSans-107\"/>\n       <use x=\"233.679688\" xlink:href=\"#DejaVuSans-101\"/>\n      </g>\n     </g>\n    </g>\n    <g id=\"xtick_6\">\n     <g id=\"line2d_6\">\n      <g>\n       <use style=\"stroke:#000000;stroke-width:0.8;\" x=\"515.61375\" xlink:href=\"#m5ed3d4185c\" y=\"294.118125\"/>\n      </g>\n     </g>\n     <g id=\"text_6\">\n      <!-- Future -->\n      <g transform=\"translate(503.208072 323.616534)rotate(-30)scale(0.1 -0.1)\">\n       <defs>\n        <path d=\"M 9.8125 72.90625 \nL 51.703125 72.90625 \nL 51.703125 64.59375 \nL 19.671875 64.59375 \nL 19.671875 43.109375 \nL 48.578125 43.109375 \nL 48.578125 34.8125 \nL 19.671875 34.8125 \nL 19.671875 0 \nL 9.8125 0 \nz\n\" id=\"DejaVuSans-70\"/>\n       </defs>\n       <use xlink:href=\"#DejaVuSans-70\"/>\n       <use x=\"52.019531\" xlink:href=\"#DejaVuSans-117\"/>\n       <use x=\"115.398438\" xlink:href=\"#DejaVuSans-116\"/>\n       <use x=\"154.607422\" xlink:href=\"#DejaVuSans-117\"/>\n       <use x=\"217.986328\" xlink:href=\"#DejaVuSans-114\"/>\n       <use x=\"256.849609\" xlink:href=\"#DejaVuSans-101\"/>\n      </g>\n     </g>\n    </g>\n    <g id=\"xtick_7\">\n     <g id=\"line2d_7\">\n      <g>\n       <use style=\"stroke:#000000;stroke-width:0.8;\" x=\"599.31375\" xlink:href=\"#m5ed3d4185c\" y=\"294.118125\"/>\n      </g>\n     </g>\n     <g id=\"text_7\">\n      <!-- Lil Tjay -->\n      <g transform=\"translate(585.434476 325.318096)rotate(-30)scale(0.1 -0.1)\">\n       <defs>\n        <path d=\"M -0.296875 72.90625 \nL 61.375 72.90625 \nL 61.375 64.59375 \nL 35.5 64.59375 \nL 35.5 0 \nL 25.59375 0 \nL 25.59375 64.59375 \nL -0.296875 64.59375 \nz\n\" id=\"DejaVuSans-84\"/>\n        <path d=\"M 9.421875 54.6875 \nL 18.40625 54.6875 \nL 18.40625 -0.984375 \nQ 18.40625 -11.421875 14.421875 -16.109375 \nQ 10.453125 -20.796875 1.609375 -20.796875 \nL -1.8125 -20.796875 \nL -1.8125 -13.1875 \nL 0.59375 -13.1875 \nQ 5.71875 -13.1875 7.5625 -10.8125 \nQ 9.421875 -8.453125 9.421875 -0.984375 \nz\nM 9.421875 75.984375 \nL 18.40625 75.984375 \nL 18.40625 64.59375 \nL 9.421875 64.59375 \nz\n\" id=\"DejaVuSans-106\"/>\n       </defs>\n       <use xlink:href=\"#DejaVuSans-76\"/>\n       <use x=\"55.712891\" xlink:href=\"#DejaVuSans-105\"/>\n       <use x=\"83.496094\" xlink:href=\"#DejaVuSans-108\"/>\n       <use x=\"111.279297\" xlink:href=\"#DejaVuSans-32\"/>\n       <use x=\"143.066406\" xlink:href=\"#DejaVuSans-84\"/>\n       <use x=\"204.150391\" xlink:href=\"#DejaVuSans-106\"/>\n       <use x=\"231.933594\" xlink:href=\"#DejaVuSans-97\"/>\n       <use x=\"293.212891\" xlink:href=\"#DejaVuSans-121\"/>\n      </g>\n     </g>\n    </g>\n    <g id=\"xtick_8\">\n     <g id=\"line2d_8\">\n      <g>\n       <use style=\"stroke:#000000;stroke-width:0.8;\" x=\"683.01375\" xlink:href=\"#m5ed3d4185c\" y=\"294.118125\"/>\n      </g>\n     </g>\n     <g id=\"text_8\">\n      <!-- Lil Uzi Vert -->\n      <g transform=\"translate(661.409259 334.238409)rotate(-30)scale(0.1 -0.1)\">\n       <defs>\n        <path d=\"M 5.515625 54.6875 \nL 48.1875 54.6875 \nL 48.1875 46.484375 \nL 14.40625 7.171875 \nL 48.1875 7.171875 \nL 48.1875 0 \nL 4.296875 0 \nL 4.296875 8.203125 \nL 38.09375 47.515625 \nL 5.515625 47.515625 \nz\n\" id=\"DejaVuSans-122\"/>\n        <path d=\"M 28.609375 0 \nL 0.78125 72.90625 \nL 11.078125 72.90625 \nL 34.1875 11.53125 \nL 57.328125 72.90625 \nL 67.578125 72.90625 \nL 39.796875 0 \nz\n\" id=\"DejaVuSans-86\"/>\n       </defs>\n       <use xlink:href=\"#DejaVuSans-76\"/>\n       <use x=\"55.712891\" xlink:href=\"#DejaVuSans-105\"/>\n       <use x=\"83.496094\" xlink:href=\"#DejaVuSans-108\"/>\n       <use x=\"111.279297\" xlink:href=\"#DejaVuSans-32\"/>\n       <use x=\"143.066406\" xlink:href=\"#DejaVuSans-85\"/>\n       <use x=\"216.259766\" xlink:href=\"#DejaVuSans-122\"/>\n       <use x=\"268.75\" xlink:href=\"#DejaVuSans-105\"/>\n       <use x=\"296.533203\" xlink:href=\"#DejaVuSans-32\"/>\n       <use x=\"328.320312\" xlink:href=\"#DejaVuSans-86\"/>\n       <use x=\"388.978516\" xlink:href=\"#DejaVuSans-101\"/>\n       <use x=\"450.501953\" xlink:href=\"#DejaVuSans-114\"/>\n       <use x=\"491.615234\" xlink:href=\"#DejaVuSans-116\"/>\n      </g>\n     </g>\n    </g>\n    <g id=\"xtick_9\">\n     <g id=\"line2d_9\">\n      <g>\n       <use style=\"stroke:#000000;stroke-width:0.8;\" x=\"766.71375\" xlink:href=\"#m5ed3d4185c\" y=\"294.118125\"/>\n      </g>\n     </g>\n     <g id=\"text_9\">\n      <!-- YoungBoy Never Broke Again -->\n      <g transform=\"translate(705.282915 380.225909)rotate(-30)scale(0.1 -0.1)\">\n       <defs>\n        <path d=\"M -0.203125 72.90625 \nL 10.40625 72.90625 \nL 30.609375 42.921875 \nL 50.6875 72.90625 \nL 61.28125 72.90625 \nL 35.5 34.71875 \nL 35.5 0 \nL 25.59375 0 \nL 25.59375 34.71875 \nz\n\" id=\"DejaVuSans-89\"/>\n        <path d=\"M 45.40625 27.984375 \nQ 45.40625 37.75 41.375 43.109375 \nQ 37.359375 48.484375 30.078125 48.484375 \nQ 22.859375 48.484375 18.828125 43.109375 \nQ 14.796875 37.75 14.796875 27.984375 \nQ 14.796875 18.265625 18.828125 12.890625 \nQ 22.859375 7.515625 30.078125 7.515625 \nQ 37.359375 7.515625 41.375 12.890625 \nQ 45.40625 18.265625 45.40625 27.984375 \nz\nM 54.390625 6.78125 \nQ 54.390625 -7.171875 48.1875 -13.984375 \nQ 42 -20.796875 29.203125 -20.796875 \nQ 24.46875 -20.796875 20.265625 -20.09375 \nQ 16.0625 -19.390625 12.109375 -17.921875 \nL 12.109375 -9.1875 \nQ 16.0625 -11.328125 19.921875 -12.34375 \nQ 23.78125 -13.375 27.78125 -13.375 \nQ 36.625 -13.375 41.015625 -8.765625 \nQ 45.40625 -4.15625 45.40625 5.171875 \nL 45.40625 9.625 \nQ 42.625 4.78125 38.28125 2.390625 \nQ 33.9375 0 27.875 0 \nQ 17.828125 0 11.671875 7.65625 \nQ 5.515625 15.328125 5.515625 27.984375 \nQ 5.515625 40.671875 11.671875 48.328125 \nQ 17.828125 56 27.875 56 \nQ 33.9375 56 38.28125 53.609375 \nQ 42.625 51.21875 45.40625 46.390625 \nL 45.40625 54.6875 \nL 54.390625 54.6875 \nz\n\" id=\"DejaVuSans-103\"/>\n        <path d=\"M 9.8125 72.90625 \nL 23.09375 72.90625 \nL 55.421875 11.921875 \nL 55.421875 72.90625 \nL 64.984375 72.90625 \nL 64.984375 0 \nL 51.703125 0 \nL 19.390625 60.984375 \nL 19.390625 0 \nL 9.8125 0 \nz\n\" id=\"DejaVuSans-78\"/>\n        <path d=\"M 2.984375 54.6875 \nL 12.5 54.6875 \nL 29.59375 8.796875 \nL 46.6875 54.6875 \nL 56.203125 54.6875 \nL 35.6875 0 \nL 23.484375 0 \nz\n\" id=\"DejaVuSans-118\"/>\n        <path d=\"M 34.1875 63.1875 \nL 20.796875 26.90625 \nL 47.609375 26.90625 \nz\nM 28.609375 72.90625 \nL 39.796875 72.90625 \nL 67.578125 0 \nL 57.328125 0 \nL 50.6875 18.703125 \nL 17.828125 18.703125 \nL 11.1875 0 \nL 0.78125 0 \nz\n\" id=\"DejaVuSans-65\"/>\n       </defs>\n       <use xlink:href=\"#DejaVuSans-89\"/>\n       <use x=\"47.833984\" xlink:href=\"#DejaVuSans-111\"/>\n       <use x=\"109.015625\" xlink:href=\"#DejaVuSans-117\"/>\n       <use x=\"172.394531\" xlink:href=\"#DejaVuSans-110\"/>\n       <use x=\"235.773438\" xlink:href=\"#DejaVuSans-103\"/>\n       <use x=\"299.25\" xlink:href=\"#DejaVuSans-66\"/>\n       <use x=\"367.853516\" xlink:href=\"#DejaVuSans-111\"/>\n       <use x=\"429.035156\" xlink:href=\"#DejaVuSans-121\"/>\n       <use x=\"488.214844\" xlink:href=\"#DejaVuSans-32\"/>\n       <use x=\"520.001953\" xlink:href=\"#DejaVuSans-78\"/>\n       <use x=\"594.806641\" xlink:href=\"#DejaVuSans-101\"/>\n       <use x=\"656.330078\" xlink:href=\"#DejaVuSans-118\"/>\n       <use x=\"715.509766\" xlink:href=\"#DejaVuSans-101\"/>\n       <use x=\"777.033203\" xlink:href=\"#DejaVuSans-114\"/>\n       <use x=\"818.146484\" xlink:href=\"#DejaVuSans-32\"/>\n       <use x=\"849.933594\" xlink:href=\"#DejaVuSans-66\"/>\n       <use x=\"918.537109\" xlink:href=\"#DejaVuSans-114\"/>\n       <use x=\"957.400391\" xlink:href=\"#DejaVuSans-111\"/>\n       <use x=\"1018.582031\" xlink:href=\"#DejaVuSans-107\"/>\n       <use x=\"1072.867188\" xlink:href=\"#DejaVuSans-101\"/>\n       <use x=\"1134.390625\" xlink:href=\"#DejaVuSans-32\"/>\n       <use x=\"1166.177734\" xlink:href=\"#DejaVuSans-65\"/>\n       <use x=\"1234.585938\" xlink:href=\"#DejaVuSans-103\"/>\n       <use x=\"1298.0625\" xlink:href=\"#DejaVuSans-97\"/>\n       <use x=\"1359.341797\" xlink:href=\"#DejaVuSans-105\"/>\n       <use x=\"1387.125\" xlink:href=\"#DejaVuSans-110\"/>\n      </g>\n     </g>\n    </g>\n    <g id=\"xtick_10\">\n     <g id=\"line2d_10\">\n      <g>\n       <use style=\"stroke:#000000;stroke-width:0.8;\" x=\"850.41375\" xlink:href=\"#m5ed3d4185c\" y=\"294.118125\"/>\n      </g>\n     </g>\n     <g id=\"text_10\">\n      <!-- Lil Keed -->\n      <g transform=\"translate(834.897823 327.20794)rotate(-30)scale(0.1 -0.1)\">\n       <defs>\n        <path d=\"M 45.40625 46.390625 \nL 45.40625 75.984375 \nL 54.390625 75.984375 \nL 54.390625 0 \nL 45.40625 0 \nL 45.40625 8.203125 \nQ 42.578125 3.328125 38.25 0.953125 \nQ 33.9375 -1.421875 27.875 -1.421875 \nQ 17.96875 -1.421875 11.734375 6.484375 \nQ 5.515625 14.40625 5.515625 27.296875 \nQ 5.515625 40.1875 11.734375 48.09375 \nQ 17.96875 56 27.875 56 \nQ 33.9375 56 38.25 53.625 \nQ 42.578125 51.265625 45.40625 46.390625 \nz\nM 14.796875 27.296875 \nQ 14.796875 17.390625 18.875 11.75 \nQ 22.953125 6.109375 30.078125 6.109375 \nQ 37.203125 6.109375 41.296875 11.75 \nQ 45.40625 17.390625 45.40625 27.296875 \nQ 45.40625 37.203125 41.296875 42.84375 \nQ 37.203125 48.484375 30.078125 48.484375 \nQ 22.953125 48.484375 18.875 42.84375 \nQ 14.796875 37.203125 14.796875 27.296875 \nz\n\" id=\"DejaVuSans-100\"/>\n       </defs>\n       <use xlink:href=\"#DejaVuSans-76\"/>\n       <use x=\"55.712891\" xlink:href=\"#DejaVuSans-105\"/>\n       <use x=\"83.496094\" xlink:href=\"#DejaVuSans-108\"/>\n       <use x=\"111.279297\" xlink:href=\"#DejaVuSans-32\"/>\n       <use x=\"143.066406\" xlink:href=\"#DejaVuSans-75\"/>\n       <use x=\"203.642578\" xlink:href=\"#DejaVuSans-101\"/>\n       <use x=\"265.166016\" xlink:href=\"#DejaVuSans-101\"/>\n       <use x=\"326.689453\" xlink:href=\"#DejaVuSans-100\"/>\n      </g>\n     </g>\n    </g>\n    <g id=\"text_11\">\n     <!-- Artist -->\n     <g transform=\"translate(457.695938 395.145096)scale(0.12 -0.12)\">\n      <defs>\n       <path d=\"M 44.28125 53.078125 \nL 44.28125 44.578125 \nQ 40.484375 46.53125 36.375 47.5 \nQ 32.28125 48.484375 27.875 48.484375 \nQ 21.1875 48.484375 17.84375 46.4375 \nQ 14.5 44.390625 14.5 40.28125 \nQ 14.5 37.15625 16.890625 35.375 \nQ 19.28125 33.59375 26.515625 31.984375 \nL 29.59375 31.296875 \nQ 39.15625 29.25 43.1875 25.515625 \nQ 47.21875 21.78125 47.21875 15.09375 \nQ 47.21875 7.46875 41.1875 3.015625 \nQ 35.15625 -1.421875 24.609375 -1.421875 \nQ 20.21875 -1.421875 15.453125 -0.5625 \nQ 10.6875 0.296875 5.421875 2 \nL 5.421875 11.28125 \nQ 10.40625 8.6875 15.234375 7.390625 \nQ 20.0625 6.109375 24.8125 6.109375 \nQ 31.15625 6.109375 34.5625 8.28125 \nQ 37.984375 10.453125 37.984375 14.40625 \nQ 37.984375 18.0625 35.515625 20.015625 \nQ 33.0625 21.96875 24.703125 23.78125 \nL 21.578125 24.515625 \nQ 13.234375 26.265625 9.515625 29.90625 \nQ 5.8125 33.546875 5.8125 39.890625 \nQ 5.8125 47.609375 11.28125 51.796875 \nQ 16.75 56 26.8125 56 \nQ 31.78125 56 36.171875 55.265625 \nQ 40.578125 54.546875 44.28125 53.078125 \nz\n\" id=\"DejaVuSans-115\"/>\n      </defs>\n      <use xlink:href=\"#DejaVuSans-65\"/>\n      <use x=\"68.408203\" xlink:href=\"#DejaVuSans-114\"/>\n      <use x=\"109.521484\" xlink:href=\"#DejaVuSans-116\"/>\n      <use x=\"148.730469\" xlink:href=\"#DejaVuSans-105\"/>\n      <use x=\"176.513672\" xlink:href=\"#DejaVuSans-115\"/>\n      <use x=\"228.613281\" xlink:href=\"#DejaVuSans-116\"/>\n     </g>\n    </g>\n   </g>\n   <g id=\"matplotlib.axis_2\">\n    <g id=\"ytick_1\">\n     <g id=\"line2d_11\">\n      <defs>\n       <path d=\"M 0 0 \nL -3.5 0 \n\" id=\"m785697e90e\" style=\"stroke:#000000;stroke-width:0.8;\"/>\n      </defs>\n      <g>\n       <use style=\"stroke:#000000;stroke-width:0.8;\" x=\"55.26375\" xlink:href=\"#m785697e90e\" y=\"294.118125\"/>\n      </g>\n     </g>\n     <g id=\"text_12\">\n      <!-- 0 -->\n      <g transform=\"translate(41.90125 297.917344)scale(0.1 -0.1)\">\n       <defs>\n        <path d=\"M 31.78125 66.40625 \nQ 24.171875 66.40625 20.328125 58.90625 \nQ 16.5 51.421875 16.5 36.375 \nQ 16.5 21.390625 20.328125 13.890625 \nQ 24.171875 6.390625 31.78125 6.390625 \nQ 39.453125 6.390625 43.28125 13.890625 \nQ 47.125 21.390625 47.125 36.375 \nQ 47.125 51.421875 43.28125 58.90625 \nQ 39.453125 66.40625 31.78125 66.40625 \nz\nM 31.78125 74.21875 \nQ 44.046875 74.21875 50.515625 64.515625 \nQ 56.984375 54.828125 56.984375 36.375 \nQ 56.984375 17.96875 50.515625 8.265625 \nQ 44.046875 -1.421875 31.78125 -1.421875 \nQ 19.53125 -1.421875 13.0625 8.265625 \nQ 6.59375 17.96875 6.59375 36.375 \nQ 6.59375 54.828125 13.0625 64.515625 \nQ 19.53125 74.21875 31.78125 74.21875 \nz\n\" id=\"DejaVuSans-48\"/>\n       </defs>\n       <use xlink:href=\"#DejaVuSans-48\"/>\n      </g>\n     </g>\n    </g>\n    <g id=\"ytick_2\">\n     <g id=\"line2d_12\">\n      <g>\n       <use style=\"stroke:#000000;stroke-width:0.8;\" x=\"55.26375\" xlink:href=\"#m785697e90e\" y=\"256.526324\"/>\n      </g>\n     </g>\n     <g id=\"text_13\">\n      <!-- 500 -->\n      <g transform=\"translate(29.17625 260.325543)scale(0.1 -0.1)\">\n       <defs>\n        <path d=\"M 10.796875 72.90625 \nL 49.515625 72.90625 \nL 49.515625 64.59375 \nL 19.828125 64.59375 \nL 19.828125 46.734375 \nQ 21.96875 47.46875 24.109375 47.828125 \nQ 26.265625 48.1875 28.421875 48.1875 \nQ 40.625 48.1875 47.75 41.5 \nQ 54.890625 34.8125 54.890625 23.390625 \nQ 54.890625 11.625 47.5625 5.09375 \nQ 40.234375 -1.421875 26.90625 -1.421875 \nQ 22.3125 -1.421875 17.546875 -0.640625 \nQ 12.796875 0.140625 7.71875 1.703125 \nL 7.71875 11.625 \nQ 12.109375 9.234375 16.796875 8.0625 \nQ 21.484375 6.890625 26.703125 6.890625 \nQ 35.15625 6.890625 40.078125 11.328125 \nQ 45.015625 15.765625 45.015625 23.390625 \nQ 45.015625 31 40.078125 35.4375 \nQ 35.15625 39.890625 26.703125 39.890625 \nQ 22.75 39.890625 18.8125 39.015625 \nQ 14.890625 38.140625 10.796875 36.28125 \nz\n\" id=\"DejaVuSans-53\"/>\n       </defs>\n       <use xlink:href=\"#DejaVuSans-53\"/>\n       <use x=\"63.623047\" xlink:href=\"#DejaVuSans-48\"/>\n       <use x=\"127.246094\" xlink:href=\"#DejaVuSans-48\"/>\n      </g>\n     </g>\n    </g>\n    <g id=\"ytick_3\">\n     <g id=\"line2d_13\">\n      <g>\n       <use style=\"stroke:#000000;stroke-width:0.8;\" x=\"55.26375\" xlink:href=\"#m785697e90e\" y=\"218.934523\"/>\n      </g>\n     </g>\n     <g id=\"text_14\">\n      <!-- 1000 -->\n      <g transform=\"translate(22.81375 222.733741)scale(0.1 -0.1)\">\n       <defs>\n        <path d=\"M 12.40625 8.296875 \nL 28.515625 8.296875 \nL 28.515625 63.921875 \nL 10.984375 60.40625 \nL 10.984375 69.390625 \nL 28.421875 72.90625 \nL 38.28125 72.90625 \nL 38.28125 8.296875 \nL 54.390625 8.296875 \nL 54.390625 0 \nL 12.40625 0 \nz\n\" id=\"DejaVuSans-49\"/>\n       </defs>\n       <use xlink:href=\"#DejaVuSans-49\"/>\n       <use x=\"63.623047\" xlink:href=\"#DejaVuSans-48\"/>\n       <use x=\"127.246094\" xlink:href=\"#DejaVuSans-48\"/>\n       <use x=\"190.869141\" xlink:href=\"#DejaVuSans-48\"/>\n      </g>\n     </g>\n    </g>\n    <g id=\"ytick_4\">\n     <g id=\"line2d_14\">\n      <g>\n       <use style=\"stroke:#000000;stroke-width:0.8;\" x=\"55.26375\" xlink:href=\"#m785697e90e\" y=\"181.342721\"/>\n      </g>\n     </g>\n     <g id=\"text_15\">\n      <!-- 1500 -->\n      <g transform=\"translate(22.81375 185.14194)scale(0.1 -0.1)\">\n       <use xlink:href=\"#DejaVuSans-49\"/>\n       <use x=\"63.623047\" xlink:href=\"#DejaVuSans-53\"/>\n       <use x=\"127.246094\" xlink:href=\"#DejaVuSans-48\"/>\n       <use x=\"190.869141\" xlink:href=\"#DejaVuSans-48\"/>\n      </g>\n     </g>\n    </g>\n    <g id=\"ytick_5\">\n     <g id=\"line2d_15\">\n      <g>\n       <use style=\"stroke:#000000;stroke-width:0.8;\" x=\"55.26375\" xlink:href=\"#m785697e90e\" y=\"143.75092\"/>\n      </g>\n     </g>\n     <g id=\"text_16\">\n      <!-- 2000 -->\n      <g transform=\"translate(22.81375 147.550139)scale(0.1 -0.1)\">\n       <defs>\n        <path d=\"M 19.1875 8.296875 \nL 53.609375 8.296875 \nL 53.609375 0 \nL 7.328125 0 \nL 7.328125 8.296875 \nQ 12.9375 14.109375 22.625 23.890625 \nQ 32.328125 33.6875 34.8125 36.53125 \nQ 39.546875 41.84375 41.421875 45.53125 \nQ 43.3125 49.21875 43.3125 52.78125 \nQ 43.3125 58.59375 39.234375 62.25 \nQ 35.15625 65.921875 28.609375 65.921875 \nQ 23.96875 65.921875 18.8125 64.3125 \nQ 13.671875 62.703125 7.8125 59.421875 \nL 7.8125 69.390625 \nQ 13.765625 71.78125 18.9375 73 \nQ 24.125 74.21875 28.421875 74.21875 \nQ 39.75 74.21875 46.484375 68.546875 \nQ 53.21875 62.890625 53.21875 53.421875 \nQ 53.21875 48.921875 51.53125 44.890625 \nQ 49.859375 40.875 45.40625 35.40625 \nQ 44.1875 33.984375 37.640625 27.21875 \nQ 31.109375 20.453125 19.1875 8.296875 \nz\n\" id=\"DejaVuSans-50\"/>\n       </defs>\n       <use xlink:href=\"#DejaVuSans-50\"/>\n       <use x=\"63.623047\" xlink:href=\"#DejaVuSans-48\"/>\n       <use x=\"127.246094\" xlink:href=\"#DejaVuSans-48\"/>\n       <use x=\"190.869141\" xlink:href=\"#DejaVuSans-48\"/>\n      </g>\n     </g>\n    </g>\n    <g id=\"ytick_6\">\n     <g id=\"line2d_16\">\n      <g>\n       <use style=\"stroke:#000000;stroke-width:0.8;\" x=\"55.26375\" xlink:href=\"#m785697e90e\" y=\"106.159119\"/>\n      </g>\n     </g>\n     <g id=\"text_17\">\n      <!-- 2500 -->\n      <g transform=\"translate(22.81375 109.958338)scale(0.1 -0.1)\">\n       <use xlink:href=\"#DejaVuSans-50\"/>\n       <use x=\"63.623047\" xlink:href=\"#DejaVuSans-53\"/>\n       <use x=\"127.246094\" xlink:href=\"#DejaVuSans-48\"/>\n       <use x=\"190.869141\" xlink:href=\"#DejaVuSans-48\"/>\n      </g>\n     </g>\n    </g>\n    <g id=\"ytick_7\">\n     <g id=\"line2d_17\">\n      <g>\n       <use style=\"stroke:#000000;stroke-width:0.8;\" x=\"55.26375\" xlink:href=\"#m785697e90e\" y=\"68.567318\"/>\n      </g>\n     </g>\n     <g id=\"text_18\">\n      <!-- 3000 -->\n      <g transform=\"translate(22.81375 72.366537)scale(0.1 -0.1)\">\n       <defs>\n        <path d=\"M 40.578125 39.3125 \nQ 47.65625 37.796875 51.625 33 \nQ 55.609375 28.21875 55.609375 21.1875 \nQ 55.609375 10.40625 48.1875 4.484375 \nQ 40.765625 -1.421875 27.09375 -1.421875 \nQ 22.515625 -1.421875 17.65625 -0.515625 \nQ 12.796875 0.390625 7.625 2.203125 \nL 7.625 11.71875 \nQ 11.71875 9.328125 16.59375 8.109375 \nQ 21.484375 6.890625 26.8125 6.890625 \nQ 36.078125 6.890625 40.9375 10.546875 \nQ 45.796875 14.203125 45.796875 21.1875 \nQ 45.796875 27.640625 41.28125 31.265625 \nQ 36.765625 34.90625 28.71875 34.90625 \nL 20.21875 34.90625 \nL 20.21875 43.015625 \nL 29.109375 43.015625 \nQ 36.375 43.015625 40.234375 45.921875 \nQ 44.09375 48.828125 44.09375 54.296875 \nQ 44.09375 59.90625 40.109375 62.90625 \nQ 36.140625 65.921875 28.71875 65.921875 \nQ 24.65625 65.921875 20.015625 65.03125 \nQ 15.375 64.15625 9.8125 62.3125 \nL 9.8125 71.09375 \nQ 15.4375 72.65625 20.34375 73.4375 \nQ 25.25 74.21875 29.59375 74.21875 \nQ 40.828125 74.21875 47.359375 69.109375 \nQ 53.90625 64.015625 53.90625 55.328125 \nQ 53.90625 49.265625 50.4375 45.09375 \nQ 46.96875 40.921875 40.578125 39.3125 \nz\n\" id=\"DejaVuSans-51\"/>\n       </defs>\n       <use xlink:href=\"#DejaVuSans-51\"/>\n       <use x=\"63.623047\" xlink:href=\"#DejaVuSans-48\"/>\n       <use x=\"127.246094\" xlink:href=\"#DejaVuSans-48\"/>\n       <use x=\"190.869141\" xlink:href=\"#DejaVuSans-48\"/>\n      </g>\n     </g>\n    </g>\n    <g id=\"ytick_8\">\n     <g id=\"line2d_18\">\n      <g>\n       <use style=\"stroke:#000000;stroke-width:0.8;\" x=\"55.26375\" xlink:href=\"#m785697e90e\" y=\"30.975517\"/>\n      </g>\n     </g>\n     <g id=\"text_19\">\n      <!-- 3500 -->\n      <g transform=\"translate(22.81375 34.774736)scale(0.1 -0.1)\">\n       <use xlink:href=\"#DejaVuSans-51\"/>\n       <use x=\"63.623047\" xlink:href=\"#DejaVuSans-53\"/>\n       <use x=\"127.246094\" xlink:href=\"#DejaVuSans-48\"/>\n       <use x=\"190.869141\" xlink:href=\"#DejaVuSans-48\"/>\n      </g>\n     </g>\n    </g>\n    <g id=\"text_20\">\n     <!-- Number of Occurrences -->\n     <g transform=\"translate(16.318125 229.34625)rotate(-90)scale(0.12 -0.12)\">\n      <defs>\n       <path d=\"M 52 44.1875 \nQ 55.375 50.25 60.0625 53.125 \nQ 64.75 56 71.09375 56 \nQ 79.640625 56 84.28125 50.015625 \nQ 88.921875 44.046875 88.921875 33.015625 \nL 88.921875 0 \nL 79.890625 0 \nL 79.890625 32.71875 \nQ 79.890625 40.578125 77.09375 44.375 \nQ 74.3125 48.1875 68.609375 48.1875 \nQ 61.625 48.1875 57.5625 43.546875 \nQ 53.515625 38.921875 53.515625 30.90625 \nL 53.515625 0 \nL 44.484375 0 \nL 44.484375 32.71875 \nQ 44.484375 40.625 41.703125 44.40625 \nQ 38.921875 48.1875 33.109375 48.1875 \nQ 26.21875 48.1875 22.15625 43.53125 \nQ 18.109375 38.875 18.109375 30.90625 \nL 18.109375 0 \nL 9.078125 0 \nL 9.078125 54.6875 \nL 18.109375 54.6875 \nL 18.109375 46.1875 \nQ 21.1875 51.21875 25.484375 53.609375 \nQ 29.78125 56 35.6875 56 \nQ 41.65625 56 45.828125 52.96875 \nQ 50 49.953125 52 44.1875 \nz\n\" id=\"DejaVuSans-109\"/>\n       <path d=\"M 37.109375 75.984375 \nL 37.109375 68.5 \nL 28.515625 68.5 \nQ 23.6875 68.5 21.796875 66.546875 \nQ 19.921875 64.59375 19.921875 59.515625 \nL 19.921875 54.6875 \nL 34.71875 54.6875 \nL 34.71875 47.703125 \nL 19.921875 47.703125 \nL 19.921875 0 \nL 10.890625 0 \nL 10.890625 47.703125 \nL 2.296875 47.703125 \nL 2.296875 54.6875 \nL 10.890625 54.6875 \nL 10.890625 58.5 \nQ 10.890625 67.625 15.140625 71.796875 \nQ 19.390625 75.984375 28.609375 75.984375 \nz\n\" id=\"DejaVuSans-102\"/>\n       <path d=\"M 39.40625 66.21875 \nQ 28.65625 66.21875 22.328125 58.203125 \nQ 16.015625 50.203125 16.015625 36.375 \nQ 16.015625 22.609375 22.328125 14.59375 \nQ 28.65625 6.59375 39.40625 6.59375 \nQ 50.140625 6.59375 56.421875 14.59375 \nQ 62.703125 22.609375 62.703125 36.375 \nQ 62.703125 50.203125 56.421875 58.203125 \nQ 50.140625 66.21875 39.40625 66.21875 \nz\nM 39.40625 74.21875 \nQ 54.734375 74.21875 63.90625 63.9375 \nQ 73.09375 53.65625 73.09375 36.375 \nQ 73.09375 19.140625 63.90625 8.859375 \nQ 54.734375 -1.421875 39.40625 -1.421875 \nQ 24.03125 -1.421875 14.8125 8.828125 \nQ 5.609375 19.09375 5.609375 36.375 \nQ 5.609375 53.65625 14.8125 63.9375 \nQ 24.03125 74.21875 39.40625 74.21875 \nz\n\" id=\"DejaVuSans-79\"/>\n       <path d=\"M 48.78125 52.59375 \nL 48.78125 44.1875 \nQ 44.96875 46.296875 41.140625 47.34375 \nQ 37.3125 48.390625 33.40625 48.390625 \nQ 24.65625 48.390625 19.8125 42.84375 \nQ 14.984375 37.3125 14.984375 27.296875 \nQ 14.984375 17.28125 19.8125 11.734375 \nQ 24.65625 6.203125 33.40625 6.203125 \nQ 37.3125 6.203125 41.140625 7.25 \nQ 44.96875 8.296875 48.78125 10.40625 \nL 48.78125 2.09375 \nQ 45.015625 0.34375 40.984375 -0.53125 \nQ 36.96875 -1.421875 32.421875 -1.421875 \nQ 20.0625 -1.421875 12.78125 6.34375 \nQ 5.515625 14.109375 5.515625 27.296875 \nQ 5.515625 40.671875 12.859375 48.328125 \nQ 20.21875 56 33.015625 56 \nQ 37.15625 56 41.109375 55.140625 \nQ 45.0625 54.296875 48.78125 52.59375 \nz\n\" id=\"DejaVuSans-99\"/>\n      </defs>\n      <use xlink:href=\"#DejaVuSans-78\"/>\n      <use x=\"74.804688\" xlink:href=\"#DejaVuSans-117\"/>\n      <use x=\"138.183594\" xlink:href=\"#DejaVuSans-109\"/>\n      <use x=\"235.595703\" xlink:href=\"#DejaVuSans-98\"/>\n      <use x=\"299.072266\" xlink:href=\"#DejaVuSans-101\"/>\n      <use x=\"360.595703\" xlink:href=\"#DejaVuSans-114\"/>\n      <use x=\"401.708984\" xlink:href=\"#DejaVuSans-32\"/>\n      <use x=\"433.496094\" xlink:href=\"#DejaVuSans-111\"/>\n      <use x=\"494.677734\" xlink:href=\"#DejaVuSans-102\"/>\n      <use x=\"529.882812\" xlink:href=\"#DejaVuSans-32\"/>\n      <use x=\"561.669922\" xlink:href=\"#DejaVuSans-79\"/>\n      <use x=\"640.380859\" xlink:href=\"#DejaVuSans-99\"/>\n      <use x=\"695.361328\" xlink:href=\"#DejaVuSans-99\"/>\n      <use x=\"750.341797\" xlink:href=\"#DejaVuSans-117\"/>\n      <use x=\"813.720703\" xlink:href=\"#DejaVuSans-114\"/>\n      <use x=\"853.083984\" xlink:href=\"#DejaVuSans-114\"/>\n      <use x=\"891.947266\" xlink:href=\"#DejaVuSans-101\"/>\n      <use x=\"953.470703\" xlink:href=\"#DejaVuSans-110\"/>\n      <use x=\"1016.849609\" xlink:href=\"#DejaVuSans-99\"/>\n      <use x=\"1071.830078\" xlink:href=\"#DejaVuSans-101\"/>\n      <use x=\"1133.353516\" xlink:href=\"#DejaVuSans-115\"/>\n     </g>\n    </g>\n   </g>\n   <g id=\"line2d_19\">\n    <path clip-path=\"url(#p8d6d9797a0)\" d=\"M 0 0 \n\" style=\"fill:none;stroke:#424242;stroke-linecap:square;stroke-width:2.7;\"/>\n   </g>\n   <g id=\"line2d_20\">\n    <path clip-path=\"url(#p8d6d9797a0)\" d=\"M 0 0 \n\" style=\"fill:none;stroke:#424242;stroke-linecap:square;stroke-width:2.7;\"/>\n   </g>\n   <g id=\"line2d_21\">\n    <path clip-path=\"url(#p8d6d9797a0)\" d=\"M 0 0 \n\" style=\"fill:none;stroke:#424242;stroke-linecap:square;stroke-width:2.7;\"/>\n   </g>\n   <g id=\"line2d_22\">\n    <path clip-path=\"url(#p8d6d9797a0)\" d=\"M 0 0 \n\" style=\"fill:none;stroke:#424242;stroke-linecap:square;stroke-width:2.7;\"/>\n   </g>\n   <g id=\"line2d_23\">\n    <path clip-path=\"url(#p8d6d9797a0)\" d=\"M 0 0 \n\" style=\"fill:none;stroke:#424242;stroke-linecap:square;stroke-width:2.7;\"/>\n   </g>\n   <g id=\"line2d_24\">\n    <path clip-path=\"url(#p8d6d9797a0)\" d=\"M 0 0 \n\" style=\"fill:none;stroke:#424242;stroke-linecap:square;stroke-width:2.7;\"/>\n   </g>\n   <g id=\"line2d_25\">\n    <path clip-path=\"url(#p8d6d9797a0)\" d=\"M 0 0 \n\" style=\"fill:none;stroke:#424242;stroke-linecap:square;stroke-width:2.7;\"/>\n   </g>\n   <g id=\"line2d_26\">\n    <path clip-path=\"url(#p8d6d9797a0)\" d=\"M 0 0 \n\" style=\"fill:none;stroke:#424242;stroke-linecap:square;stroke-width:2.7;\"/>\n   </g>\n   <g id=\"line2d_27\">\n    <path clip-path=\"url(#p8d6d9797a0)\" d=\"M 0 0 \n\" style=\"fill:none;stroke:#424242;stroke-linecap:square;stroke-width:2.7;\"/>\n   </g>\n   <g id=\"line2d_28\">\n    <path clip-path=\"url(#p8d6d9797a0)\" d=\"M 0 0 \n\" style=\"fill:none;stroke:#424242;stroke-linecap:square;stroke-width:2.7;\"/>\n   </g>\n   <g id=\"patch_13\">\n    <path d=\"M 55.26375 294.118125 \nL 55.26375 22.318125 \n\" style=\"fill:none;stroke:#000000;stroke-linecap:square;stroke-linejoin:miter;stroke-width:0.8;\"/>\n   </g>\n   <g id=\"patch_14\">\n    <path d=\"M 892.26375 294.118125 \nL 892.26375 22.318125 \n\" style=\"fill:none;stroke:#000000;stroke-linecap:square;stroke-linejoin:miter;stroke-width:0.8;\"/>\n   </g>\n   <g id=\"patch_15\">\n    <path d=\"M 55.26375 294.118125 \nL 892.26375 294.118125 \n\" style=\"fill:none;stroke:#000000;stroke-linecap:square;stroke-linejoin:miter;stroke-width:0.8;\"/>\n   </g>\n   <g id=\"patch_16\">\n    <path d=\"M 55.26375 22.318125 \nL 892.26375 22.318125 \n\" style=\"fill:none;stroke:#000000;stroke-linecap:square;stroke-linejoin:miter;stroke-width:0.8;\"/>\n   </g>\n   <g id=\"text_21\">\n    <!-- Top 10 Artists All Time -->\n    <g transform=\"translate(407.064375 16.318125)scale(0.12 -0.12)\">\n     <defs>\n      <path d=\"M 18.109375 8.203125 \nL 18.109375 -20.796875 \nL 9.078125 -20.796875 \nL 9.078125 54.6875 \nL 18.109375 54.6875 \nL 18.109375 46.390625 \nQ 20.953125 51.265625 25.265625 53.625 \nQ 29.59375 56 35.59375 56 \nQ 45.5625 56 51.78125 48.09375 \nQ 58.015625 40.1875 58.015625 27.296875 \nQ 58.015625 14.40625 51.78125 6.484375 \nQ 45.5625 -1.421875 35.59375 -1.421875 \nQ 29.59375 -1.421875 25.265625 0.953125 \nQ 20.953125 3.328125 18.109375 8.203125 \nz\nM 48.6875 27.296875 \nQ 48.6875 37.203125 44.609375 42.84375 \nQ 40.53125 48.484375 33.40625 48.484375 \nQ 26.265625 48.484375 22.1875 42.84375 \nQ 18.109375 37.203125 18.109375 27.296875 \nQ 18.109375 17.390625 22.1875 11.75 \nQ 26.265625 6.109375 33.40625 6.109375 \nQ 40.53125 6.109375 44.609375 11.75 \nQ 48.6875 17.390625 48.6875 27.296875 \nz\n\" id=\"DejaVuSans-112\"/>\n     </defs>\n     <use xlink:href=\"#DejaVuSans-84\"/>\n     <use x=\"44.083984\" xlink:href=\"#DejaVuSans-111\"/>\n     <use x=\"105.265625\" xlink:href=\"#DejaVuSans-112\"/>\n     <use x=\"168.742188\" xlink:href=\"#DejaVuSans-32\"/>\n     <use x=\"200.529297\" xlink:href=\"#DejaVuSans-49\"/>\n     <use x=\"264.152344\" xlink:href=\"#DejaVuSans-48\"/>\n     <use x=\"327.775391\" xlink:href=\"#DejaVuSans-32\"/>\n     <use x=\"359.5625\" xlink:href=\"#DejaVuSans-65\"/>\n     <use x=\"427.970703\" xlink:href=\"#DejaVuSans-114\"/>\n     <use x=\"469.083984\" xlink:href=\"#DejaVuSans-116\"/>\n     <use x=\"508.292969\" xlink:href=\"#DejaVuSans-105\"/>\n     <use x=\"536.076172\" xlink:href=\"#DejaVuSans-115\"/>\n     <use x=\"588.175781\" xlink:href=\"#DejaVuSans-116\"/>\n     <use x=\"627.384766\" xlink:href=\"#DejaVuSans-115\"/>\n     <use x=\"679.484375\" xlink:href=\"#DejaVuSans-32\"/>\n     <use x=\"711.271484\" xlink:href=\"#DejaVuSans-65\"/>\n     <use x=\"779.679688\" xlink:href=\"#DejaVuSans-108\"/>\n     <use x=\"807.462891\" xlink:href=\"#DejaVuSans-108\"/>\n     <use x=\"835.246094\" xlink:href=\"#DejaVuSans-32\"/>\n     <use x=\"867.033203\" xlink:href=\"#DejaVuSans-84\"/>\n     <use x=\"924.992188\" xlink:href=\"#DejaVuSans-105\"/>\n     <use x=\"952.775391\" xlink:href=\"#DejaVuSans-109\"/>\n     <use x=\"1050.1875\" xlink:href=\"#DejaVuSans-101\"/>\n    </g>\n   </g>\n  </g>\n </g>\n <defs>\n  <clipPath id=\"p8d6d9797a0\">\n   <rect height=\"271.8\" width=\"837\" x=\"55.26375\" y=\"22.318125\"/>\n  </clipPath>\n </defs>\n</svg>\n",
      "image/png": "[encoded data removed]"
     },
     "metadata": {
      "needs_background": "light"
     }
    }
   ],
   "source": [
    "# What arttists are the most listened to of all time?\n",
    "song_count = df['artistName'].value_counts()\n",
    "song_count = song_count[:10,]\n",
    "plt.figure(figsize=(15,5))\n",
    "chart = sns.barplot(song_count.index, song_count.values, alpha=0.8)\n",
    "plt.title('Top 10 Artists All Time')\n",
    "plt.ylabel('Number of Occurrences', fontsize=12)\n",
    "plt.xlabel('Artist', fontsize=12)\n",
    "xticks=chart.xaxis.get_major_ticks()\n",
    "chart.set_xticklabels(song_count.index, rotation=30)\n",
    "\n",
    "plt.show()"
   ]
  },
  {
   "cell_type": "code",
   "execution_count": 19,
   "metadata": {},
   "outputs": [
    {
     "output_type": "execute_result",
     "data": {
      "text/plain": [
       "artistName\n",
       "LUCKI                         6340.906550\n",
       "Playboi Carti                 2902.107033\n",
       "Lil Baby                      2117.212583\n",
       "Drake                         1890.323067\n",
       "Gunna                         1763.441133\n",
       "Future                        1704.769333\n",
       "Lil Tjay                      1552.566017\n",
       "Lil Keed                      1425.783433\n",
       "YoungBoy Never Broke Again    1410.090017\n",
       "Lil Uzi Vert                  1371.642083\n",
       "Thouxanbanfauni               1222.278950\n",
       "Fivio Foreign                  940.304400\n",
       "Polo G                         827.893033\n",
       "21 Savage                      769.432600\n",
       "Duwap Kaine                    768.548883\n",
       "Name: minutesPlayed, dtype: float64"
      ]
     },
     "metadata": {},
     "execution_count": 19
    }
   ],
   "source": [
    "# Look at most popular artists by amount of time spent listening to their songs\n",
    "amount_of_time = df.groupby(by='artistName')['minutesPlayed'].sum().sort_values(ascending=False)[:15]\n",
    "\n",
    "amount_of_time"
   ]
  },
  {
   "cell_type": "code",
   "execution_count": 20,
   "metadata": {},
   "outputs": [
    {
     "output_type": "display_data",
     "data": {
      "application/vnd.plotly.v1+json": {
       "config": {
        "plotlyServerURL": "https://plot.ly"
       },
       "data": [
        {
         "marker": {
          "color": [
           "RGB(103, 0, 31)",
           "RGB(178, 24, 43)",
           "RGB(214, 96, 77)",
           "RGB(244, 165, 130)",
           "RGB(253, 219, 199)",
           "RGB(247, 247, 247)",
           "RGB(209, 229, 240)",
           "RGB(146, 197, 222)",
           "RGB(67, 147, 195)",
           "RGB(33, 102, 172)",
           "RGB(5, 48, 97)"
          ]
         },
         "opacity": 1,
         "type": "bar",
         "x": [
          "LUCKI",
          "Playboi Carti",
          "Lil Baby",
          "Drake",
          "Gunna",
          "Future",
          "Lil Tjay",
          "Lil Keed",
          "YoungBoy Never Broke Again",
          "Lil Uzi Vert",
          "Thouxanbanfauni",
          "Fivio Foreign",
          "Polo G",
          "21 Savage",
          "Duwap Kaine"
         ],
         "y": [
          6340.906550000022,
          2902.1070333333287,
          2117.21258333334,
          1890.323066666665,
          1763.4411333333353,
          1704.769333333333,
          1552.566016666665,
          1425.7834333333344,
          1410.0900166666645,
          1371.6420833333345,
          1222.2789500000029,
          940.304400000003,
          827.8930333333336,
          769.4326000000002,
          768.5488833333341
         ]
        }
       ],
       "layout": {
        "template": {
         "data": {
          "bar": [
           {
            "error_x": {
             "color": "#2a3f5f"
            },
            "error_y": {
             "color": "#2a3f5f"
            },
            "marker": {
             "line": {
              "color": "#E5ECF6",
              "width": 0.5
             }
            },
            "type": "bar"
           }
          ],
          "barpolar": [
           {
            "marker": {
             "line": {
              "color": "#E5ECF6",
              "width": 0.5
             }
            },
            "type": "barpolar"
           }
          ],
          "carpet": [
           {
            "aaxis": {
             "endlinecolor": "#2a3f5f",
             "gridcolor": "white",
             "linecolor": "white",
             "minorgridcolor": "white",
             "startlinecolor": "#2a3f5f"
            },
            "baxis": {
             "endlinecolor": "#2a3f5f",
             "gridcolor": "white",
             "linecolor": "white",
             "minorgridcolor": "white",
             "startlinecolor": "#2a3f5f"
            },
            "type": "carpet"
           }
          ],
          "choropleth": [
           {
            "colorbar": {
             "outlinewidth": 0,
             "ticks": ""
            },
            "type": "choropleth"
           }
          ],
          "contour": [
           {
            "colorbar": {
             "outlinewidth": 0,
             "ticks": ""
            },
            "colorscale": [
             [
              0,
              "#0d0887"
             ],
             [
              0.1111111111111111,
              "#46039f"
             ],
             [
              0.2222222222222222,
              "#7201a8"
             ],
             [
              0.3333333333333333,
              "#9c179e"
             ],
             [
              0.4444444444444444,
              "#bd3786"
             ],
             [
              0.5555555555555556,
              "#d8576b"
             ],
             [
              0.6666666666666666,
              "#ed7953"
             ],
             [
              0.7777777777777778,
              "#fb9f3a"
             ],
             [
              0.8888888888888888,
              "#fdca26"
             ],
             [
              1,
              "#f0f921"
             ]
            ],
            "type": "contour"
           }
          ],
          "contourcarpet": [
           {
            "colorbar": {
             "outlinewidth": 0,
             "ticks": ""
            },
            "type": "contourcarpet"
           }
          ],
          "heatmap": [
           {
            "colorbar": {
             "outlinewidth": 0,
             "ticks": ""
            },
            "colorscale": [
             [
              0,
              "#0d0887"
             ],
             [
              0.1111111111111111,
              "#46039f"
             ],
             [
              0.2222222222222222,
              "#7201a8"
             ],
             [
              0.3333333333333333,
              "#9c179e"
             ],
             [
              0.4444444444444444,
              "#bd3786"
             ],
             [
              0.5555555555555556,
              "#d8576b"
             ],
             [
              0.6666666666666666,
              "#ed7953"
             ],
             [
              0.7777777777777778,
              "#fb9f3a"
             ],
             [
              0.8888888888888888,
              "#fdca26"
             ],
             [
              1,
              "#f0f921"
             ]
            ],
            "type": "heatmap"
           }
          ],
          "heatmapgl": [
           {
            "colorbar": {
             "outlinewidth": 0,
             "ticks": ""
            },
            "colorscale": [
             [
              0,
              "#0d0887"
             ],
             [
              0.1111111111111111,
              "#46039f"
             ],
             [
              0.2222222222222222,
              "#7201a8"
             ],
             [
              0.3333333333333333,
              "#9c179e"
             ],
             [
              0.4444444444444444,
              "#bd3786"
             ],
             [
              0.5555555555555556,
              "#d8576b"
             ],
             [
              0.6666666666666666,
              "#ed7953"
             ],
             [
              0.7777777777777778,
              "#fb9f3a"
             ],
             [
              0.8888888888888888,
              "#fdca26"
             ],
             [
              1,
              "#f0f921"
             ]
            ],
            "type": "heatmapgl"
           }
          ],
          "histogram": [
           {
            "marker": {
             "colorbar": {
              "outlinewidth": 0,
              "ticks": ""
             }
            },
            "type": "histogram"
           }
          ],
          "histogram2d": [
           {
            "colorbar": {
             "outlinewidth": 0,
             "ticks": ""
            },
            "colorscale": [
             [
              0,
              "#0d0887"
             ],
             [
              0.1111111111111111,
              "#46039f"
             ],
             [
              0.2222222222222222,
              "#7201a8"
             ],
             [
              0.3333333333333333,
              "#9c179e"
             ],
             [
              0.4444444444444444,
              "#bd3786"
             ],
             [
              0.5555555555555556,
              "#d8576b"
             ],
             [
              0.6666666666666666,
              "#ed7953"
             ],
             [
              0.7777777777777778,
              "#fb9f3a"
             ],
             [
              0.8888888888888888,
              "#fdca26"
             ],
             [
              1,
              "#f0f921"
             ]
            ],
            "type": "histogram2d"
           }
          ],
          "histogram2dcontour": [
           {
            "colorbar": {
             "outlinewidth": 0,
             "ticks": ""
            },
            "colorscale": [
             [
              0,
              "#0d0887"
             ],
             [
              0.1111111111111111,
              "#46039f"
             ],
             [
              0.2222222222222222,
              "#7201a8"
             ],
             [
              0.3333333333333333,
              "#9c179e"
             ],
             [
              0.4444444444444444,
              "#bd3786"
             ],
             [
              0.5555555555555556,
              "#d8576b"
             ],
             [
              0.6666666666666666,
              "#ed7953"
             ],
             [
              0.7777777777777778,
              "#fb9f3a"
             ],
             [
              0.8888888888888888,
              "#fdca26"
             ],
             [
              1,
              "#f0f921"
             ]
            ],
            "type": "histogram2dcontour"
           }
          ],
          "mesh3d": [
           {
            "colorbar": {
             "outlinewidth": 0,
             "ticks": ""
            },
            "type": "mesh3d"
           }
          ],
          "parcoords": [
           {
            "line": {
             "colorbar": {
              "outlinewidth": 0,
              "ticks": ""
             }
            },
            "type": "parcoords"
           }
          ],
          "pie": [
           {
            "automargin": true,
            "type": "pie"
           }
          ],
          "scatter": [
           {
            "marker": {
             "colorbar": {
              "outlinewidth": 0,
              "ticks": ""
             }
            },
            "type": "scatter"
           }
          ],
          "scatter3d": [
           {
            "line": {
             "colorbar": {
              "outlinewidth": 0,
              "ticks": ""
             }
            },
            "marker": {
             "colorbar": {
              "outlinewidth": 0,
              "ticks": ""
             }
            },
            "type": "scatter3d"
           }
          ],
          "scattercarpet": [
           {
            "marker": {
             "colorbar": {
              "outlinewidth": 0,
              "ticks": ""
             }
            },
            "type": "scattercarpet"
           }
          ],
          "scattergeo": [
           {
            "marker": {
             "colorbar": {
              "outlinewidth": 0,
              "ticks": ""
             }
            },
            "type": "scattergeo"
           }
          ],
          "scattergl": [
           {
            "marker": {
             "colorbar": {
              "outlinewidth": 0,
              "ticks": ""
             }
            },
            "type": "scattergl"
           }
          ],
          "scattermapbox": [
           {
            "marker": {
             "colorbar": {
              "outlinewidth": 0,
              "ticks": ""
             }
            },
            "type": "scattermapbox"
           }
          ],
          "scatterpolar": [
           {
            "marker": {
             "colorbar": {
              "outlinewidth": 0,
              "ticks": ""
             }
            },
            "type": "scatterpolar"
           }
          ],
          "scatterpolargl": [
           {
            "marker": {
             "colorbar": {
              "outlinewidth": 0,
              "ticks": ""
             }
            },
            "type": "scatterpolargl"
           }
          ],
          "scatterternary": [
           {
            "marker": {
             "colorbar": {
              "outlinewidth": 0,
              "ticks": ""
             }
            },
            "type": "scatterternary"
           }
          ],
          "surface": [
           {
            "colorbar": {
             "outlinewidth": 0,
             "ticks": ""
            },
            "colorscale": [
             [
              0,
              "#0d0887"
             ],
             [
              0.1111111111111111,
              "#46039f"
             ],
             [
              0.2222222222222222,
              "#7201a8"
             ],
             [
              0.3333333333333333,
              "#9c179e"
             ],
             [
              0.4444444444444444,
              "#bd3786"
             ],
             [
              0.5555555555555556,
              "#d8576b"
             ],
             [
              0.6666666666666666,
              "#ed7953"
             ],
             [
              0.7777777777777778,
              "#fb9f3a"
             ],
             [
              0.8888888888888888,
              "#fdca26"
             ],
             [
              1,
              "#f0f921"
             ]
            ],
            "type": "surface"
           }
          ],
          "table": [
           {
            "cells": {
             "fill": {
              "color": "#EBF0F8"
             },
             "line": {
              "color": "white"
             }
            },
            "header": {
             "fill": {
              "color": "#C8D4E3"
             },
             "line": {
              "color": "white"
             }
            },
            "type": "table"
           }
          ]
         },
         "layout": {
          "annotationdefaults": {
           "arrowcolor": "#2a3f5f",
           "arrowhead": 0,
           "arrowwidth": 1
          },
          "coloraxis": {
           "colorbar": {
            "outlinewidth": 0,
            "ticks": ""
           }
          },
          "colorscale": {
           "diverging": [
            [
             0,
             "#8e0152"
            ],
            [
             0.1,
             "#c51b7d"
            ],
            [
             0.2,
             "#de77ae"
            ],
            [
             0.3,
             "#f1b6da"
            ],
            [
             0.4,
             "#fde0ef"
            ],
            [
             0.5,
             "#f7f7f7"
            ],
            [
             0.6,
             "#e6f5d0"
            ],
            [
             0.7,
             "#b8e186"
            ],
            [
             0.8,
             "#7fbc41"
            ],
            [
             0.9,
             "#4d9221"
            ],
            [
             1,
             "#276419"
            ]
           ],
           "sequential": [
            [
             0,
             "#0d0887"
            ],
            [
             0.1111111111111111,
             "#46039f"
            ],
            [
             0.2222222222222222,
             "#7201a8"
            ],
            [
             0.3333333333333333,
             "#9c179e"
            ],
            [
             0.4444444444444444,
             "#bd3786"
            ],
            [
             0.5555555555555556,
             "#d8576b"
            ],
            [
             0.6666666666666666,
             "#ed7953"
            ],
            [
             0.7777777777777778,
             "#fb9f3a"
            ],
            [
             0.8888888888888888,
             "#fdca26"
            ],
            [
             1,
             "#f0f921"
            ]
           ],
           "sequentialminus": [
            [
             0,
             "#0d0887"
            ],
            [
             0.1111111111111111,
             "#46039f"
            ],
            [
             0.2222222222222222,
             "#7201a8"
            ],
            [
             0.3333333333333333,
             "#9c179e"
            ],
            [
             0.4444444444444444,
             "#bd3786"
            ],
            [
             0.5555555555555556,
             "#d8576b"
            ],
            [
             0.6666666666666666,
             "#ed7953"
            ],
            [
             0.7777777777777778,
             "#fb9f3a"
            ],
            [
             0.8888888888888888,
             "#fdca26"
            ],
            [
             1,
             "#f0f921"
            ]
           ]
          },
          "colorway": [
           "#636efa",
           "#EF553B",
           "#00cc96",
           "#ab63fa",
           "#FFA15A",
           "#19d3f3",
           "#FF6692",
           "#B6E880",
           "#FF97FF",
           "#FECB52"
          ],
          "font": {
           "color": "#2a3f5f"
          },
          "geo": {
           "bgcolor": "white",
           "lakecolor": "white",
           "landcolor": "#E5ECF6",
           "showlakes": true,
           "showland": true,
           "subunitcolor": "white"
          },
          "hoverlabel": {
           "align": "left"
          },
          "hovermode": "closest",
          "mapbox": {
           "style": "light"
          },
          "paper_bgcolor": "white",
          "plot_bgcolor": "#E5ECF6",
          "polar": {
           "angularaxis": {
            "gridcolor": "white",
            "linecolor": "white",
            "ticks": ""
           },
           "bgcolor": "#E5ECF6",
           "radialaxis": {
            "gridcolor": "white",
            "linecolor": "white",
            "ticks": ""
           }
          },
          "scene": {
           "xaxis": {
            "backgroundcolor": "#E5ECF6",
            "gridcolor": "white",
            "gridwidth": 2,
            "linecolor": "white",
            "showbackground": true,
            "ticks": "",
            "zerolinecolor": "white"
           },
           "yaxis": {
            "backgroundcolor": "#E5ECF6",
            "gridcolor": "white",
            "gridwidth": 2,
            "linecolor": "white",
            "showbackground": true,
            "ticks": "",
            "zerolinecolor": "white"
           },
           "zaxis": {
            "backgroundcolor": "#E5ECF6",
            "gridcolor": "white",
            "gridwidth": 2,
            "linecolor": "white",
            "showbackground": true,
            "ticks": "",
            "zerolinecolor": "white"
           }
          },
          "shapedefaults": {
           "line": {
            "color": "#2a3f5f"
           }
          },
          "ternary": {
           "aaxis": {
            "gridcolor": "white",
            "linecolor": "white",
            "ticks": ""
           },
           "baxis": {
            "gridcolor": "white",
            "linecolor": "white",
            "ticks": ""
           },
           "bgcolor": "#E5ECF6",
           "caxis": {
            "gridcolor": "white",
            "linecolor": "white",
            "ticks": ""
           }
          },
          "title": {
           "x": 0.05
          },
          "xaxis": {
           "automargin": true,
           "gridcolor": "white",
           "linecolor": "white",
           "ticks": "",
           "title": {
            "standoff": 15
           },
           "zerolinecolor": "white",
           "zerolinewidth": 2
          },
          "yaxis": {
           "automargin": true,
           "gridcolor": "white",
           "linecolor": "white",
           "ticks": "",
           "title": {
            "standoff": 15
           },
           "zerolinecolor": "white",
           "zerolinewidth": 2
          }
         }
        }
       }
      }
     },
     "metadata": {}
    }
   ],
   "source": [
    "colors = ['RGB(103, 0, 31)','RGB(178, 24, 43)','RGB(214, 96, 77)','RGB(244, 165, 130)','RGB(253, 219, 199)',\n",
    "          'RGB(247, 247, 247)','RGB(209, 229, 240)','RGB(146, 197, 222)','RGB(67, 147, 195)','RGB(33, 102, 172)',\n",
    "          'RGB(5, 48, 97)']\n",
    "\n",
    "layout = go.Layout(\n",
    "    title='Popularity of artists by amount of time spent listening to their song',\n",
    "    yaxis= dict(\n",
    "        title='Amount of time (in minutes)',\n",
    "        gridcolor='rgb(255, 255, 255)',\n",
    "        zerolinewidth=1,\n",
    "        ticklen=5,\n",
    "        gridwidth=2,\n",
    "        titlefont=dict(size=15)),\n",
    "    xaxis= dict(\n",
    "        title = 'Artist Name'))\n",
    "\n",
    "\n",
    "fig = go.Figure(data=[go.Bar(x=amount_of_time.index,\n",
    "                             y=amount_of_time,\n",
    "                             opacity=1,\n",
    "                            marker_color=colors)])\n",
    "\n",
    "fig.show()"
   ]
  },
  {
   "cell_type": "code",
   "execution_count": 35,
   "metadata": {},
   "outputs": [
    {
     "output_type": "execute_result",
     "data": {
      "text/plain": [
       "         date  minutesPlayed\n",
       "0  2020-03-08       6.560783\n",
       "1  2020-03-09     348.460350\n",
       "2  2020-03-10     158.896617\n",
       "3  2020-03-11     254.856533\n",
       "4  2020-03-12     252.447417"
      ],
      "text/html": "<div>\n<style scoped>\n    .dataframe tbody tr th:only-of-type {\n        vertical-align: middle;\n    }\n\n    .dataframe tbody tr th {\n        vertical-align: top;\n    }\n\n    .dataframe thead th {\n        text-align: right;\n    }\n</style>\n<table border=\"1\" class=\"dataframe\">\n  <thead>\n    <tr style=\"text-align: right;\">\n      <th></th>\n      <th>date</th>\n      <th>minutesPlayed</th>\n    </tr>\n  </thead>\n  <tbody>\n    <tr>\n      <th>0</th>\n      <td>2020-03-08</td>\n      <td>6.560783</td>\n    </tr>\n    <tr>\n      <th>1</th>\n      <td>2020-03-09</td>\n      <td>348.460350</td>\n    </tr>\n    <tr>\n      <th>2</th>\n      <td>2020-03-10</td>\n      <td>158.896617</td>\n    </tr>\n    <tr>\n      <th>3</th>\n      <td>2020-03-11</td>\n      <td>254.856533</td>\n    </tr>\n    <tr>\n      <th>4</th>\n      <td>2020-03-12</td>\n      <td>252.447417</td>\n    </tr>\n  </tbody>\n</table>\n</div>"
     },
     "metadata": {},
     "execution_count": 35
    }
   ],
   "source": [
    "# How has the amount of music listened to per day changed over time?\n",
    "a = df.groupby('date')['minutesPlayed'].sum().reset_index()\n",
    "a.head()"
   ]
  },
  {
   "cell_type": "code",
   "execution_count": null,
   "metadata": {},
   "outputs": [],
   "source": []
  }
 ]
}