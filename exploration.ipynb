{
 "metadata": {
  "language_info": {
   "codemirror_mode": {
    "name": "ipython",
    "version": 3
   },
   "file_extension": ".py",
   "mimetype": "text/x-python",
   "name": "python",
   "nbconvert_exporter": "python",
   "pygments_lexer": "ipython3",
   "version": "3.8.5-final"
  },
  "orig_nbformat": 2,
  "kernelspec": {
   "name": "python3",
   "display_name": "Python 3.8.5 64-bit",
   "metadata": {
    "interpreter": {
     "hash": "082e9a3bcad0a290d0001e938aa60b99250c6c2ef33a923c00b70f9826caf4b7"
    }
   }
  }
 },
 "nbformat": 4,
 "nbformat_minor": 2,
 "cells": [
  {
   "cell_type": "code",
   "execution_count": 1,
   "metadata": {},
   "outputs": [],
   "source": [
    "import pandas as pd\n",
    "import numpy as np\n",
    "import seaborn as sns\n",
    "import matplotlib.pyplot as plt\n",
    "import matplotlib.ticker as plticker\n",
    "%matplotlib inline"
   ]
  },
  {
   "cell_type": "code",
   "execution_count": 2,
   "metadata": {},
   "outputs": [
    {
     "output_type": "execute_result",
     "data": {
      "text/plain": [
       "                                name           endTime   artistName  \\\n",
       "0  Move It (feat. Offset)___Lil Keed  2020-03-08 17:00     Lil Keed   \n",
       "1                 Way 2 Rare___LUCKI  2020-03-08 18:51        LUCKI   \n",
       "2          Cool It Now___New Edition  2020-03-08 19:00  New Edition   \n",
       "3                 Feeling Safe___DLJ  2020-03-09 00:38          DLJ   \n",
       "4                Tides Out___Astairé  2020-03-09 00:42      Astairé   \n",
       "\n",
       "                trackName  msPlayed             datetime  danceability  \\\n",
       "0  Move It (feat. Offset)     80666  2020-03-08 17:00:00         0.964   \n",
       "1              Way 2 Rare     22912  2020-03-08 18:51:00         0.644   \n",
       "2             Cool It Now    290069  2020-03-08 19:00:00         0.871   \n",
       "3            Feeling Safe    139834  2020-03-09 00:38:00         0.828   \n",
       "4               Tides Out    208636  2020-03-09 00:42:00         0.272   \n",
       "\n",
       "   energy  key  loudness  ...    tempo            type  \\\n",
       "0   0.390    1    -8.812  ...  122.990  audio_features   \n",
       "1   0.678   10    -8.986  ...  139.808  audio_features   \n",
       "2   0.532   10   -13.335  ...  116.574  audio_features   \n",
       "3   0.250    1   -15.887  ...  121.027  audio_features   \n",
       "4   0.876    4    -7.135  ...  102.718  audio_features   \n",
       "\n",
       "                       id                                   uri  \\\n",
       "0  6hgEAYd3CimkLdOa4VgwTw  spotify:track:6hgEAYd3CimkLdOa4VgwTw   \n",
       "1  53d1tlSLNunnKIQAHpHRSO  spotify:track:53d1tlSLNunnKIQAHpHRSO   \n",
       "2  5LkcAjqj5NOctNGi2qUjlw  spotify:track:5LkcAjqj5NOctNGi2qUjlw   \n",
       "3  79oR758W174pGqPA2Fky7j  spotify:track:79oR758W174pGqPA2Fky7j   \n",
       "4  2sXtpY9mCTXnUTUSQqrXbX  spotify:track:2sXtpY9mCTXnUTUSQqrXbX   \n",
       "\n",
       "                                          track_href  \\\n",
       "0  https://api.spotify.com/v1/tracks/6hgEAYd3Cimk...   \n",
       "1  https://api.spotify.com/v1/tracks/53d1tlSLNunn...   \n",
       "2  https://api.spotify.com/v1/tracks/5LkcAjqj5NOc...   \n",
       "3  https://api.spotify.com/v1/tracks/79oR758W174p...   \n",
       "4  https://api.spotify.com/v1/tracks/2sXtpY9mCTXn...   \n",
       "\n",
       "                                        analysis_url  duration_ms  \\\n",
       "0  https://api.spotify.com/v1/audio-analysis/6hgE...       171827   \n",
       "1  https://api.spotify.com/v1/audio-analysis/53d1...       123182   \n",
       "2  https://api.spotify.com/v1/audio-analysis/5Lkc...       347667   \n",
       "3  https://api.spotify.com/v1/audio-analysis/79oR...       139835   \n",
       "4  https://api.spotify.com/v1/audio-analysis/2sXt...       591693   \n",
       "\n",
       "  time_signature               albumName                 albumID  \n",
       "0              4  Move It (feat. Offset)  66BviQeZVng0GigsRwDsLq  \n",
       "1              4             Days B4 III  0p1QXY0M8LRXybgy9TchHE  \n",
       "2              4             New Edition  68moCweQx7EoMvHdZ6HzDc  \n",
       "3              4            Feeling Safe  6KHpq8tlBKcvmdw8sZHugV  \n",
       "4              4             The Outlaws  5NR8rq89bfEMA7JJGzfFkp  \n",
       "\n",
       "[5 rows x 26 columns]"
      ],
      "text/html": "<div>\n<style scoped>\n    .dataframe tbody tr th:only-of-type {\n        vertical-align: middle;\n    }\n\n    .dataframe tbody tr th {\n        vertical-align: top;\n    }\n\n    .dataframe thead th {\n        text-align: right;\n    }\n</style>\n<table border=\"1\" class=\"dataframe\">\n  <thead>\n    <tr style=\"text-align: right;\">\n      <th></th>\n      <th>name</th>\n      <th>endTime</th>\n      <th>artistName</th>\n      <th>trackName</th>\n      <th>msPlayed</th>\n      <th>datetime</th>\n      <th>danceability</th>\n      <th>energy</th>\n      <th>key</th>\n      <th>loudness</th>\n      <th>...</th>\n      <th>tempo</th>\n      <th>type</th>\n      <th>id</th>\n      <th>uri</th>\n      <th>track_href</th>\n      <th>analysis_url</th>\n      <th>duration_ms</th>\n      <th>time_signature</th>\n      <th>albumName</th>\n      <th>albumID</th>\n    </tr>\n  </thead>\n  <tbody>\n    <tr>\n      <th>0</th>\n      <td>Move It (feat. Offset)___Lil Keed</td>\n      <td>2020-03-08 17:00</td>\n      <td>Lil Keed</td>\n      <td>Move It (feat. Offset)</td>\n      <td>80666</td>\n      <td>2020-03-08 17:00:00</td>\n      <td>0.964</td>\n      <td>0.390</td>\n      <td>1</td>\n      <td>-8.812</td>\n      <td>...</td>\n      <td>122.990</td>\n      <td>audio_features</td>\n      <td>6hgEAYd3CimkLdOa4VgwTw</td>\n      <td>spotify:track:6hgEAYd3CimkLdOa4VgwTw</td>\n      <td>https://api.spotify.com/v1/tracks/6hgEAYd3Cimk...</td>\n      <td>https://api.spotify.com/v1/audio-analysis/6hgE...</td>\n      <td>171827</td>\n      <td>4</td>\n      <td>Move It (feat. Offset)</td>\n      <td>66BviQeZVng0GigsRwDsLq</td>\n    </tr>\n    <tr>\n      <th>1</th>\n      <td>Way 2 Rare___LUCKI</td>\n      <td>2020-03-08 18:51</td>\n      <td>LUCKI</td>\n      <td>Way 2 Rare</td>\n      <td>22912</td>\n      <td>2020-03-08 18:51:00</td>\n      <td>0.644</td>\n      <td>0.678</td>\n      <td>10</td>\n      <td>-8.986</td>\n      <td>...</td>\n      <td>139.808</td>\n      <td>audio_features</td>\n      <td>53d1tlSLNunnKIQAHpHRSO</td>\n      <td>spotify:track:53d1tlSLNunnKIQAHpHRSO</td>\n      <td>https://api.spotify.com/v1/tracks/53d1tlSLNunn...</td>\n      <td>https://api.spotify.com/v1/audio-analysis/53d1...</td>\n      <td>123182</td>\n      <td>4</td>\n      <td>Days B4 III</td>\n      <td>0p1QXY0M8LRXybgy9TchHE</td>\n    </tr>\n    <tr>\n      <th>2</th>\n      <td>Cool It Now___New Edition</td>\n      <td>2020-03-08 19:00</td>\n      <td>New Edition</td>\n      <td>Cool It Now</td>\n      <td>290069</td>\n      <td>2020-03-08 19:00:00</td>\n      <td>0.871</td>\n      <td>0.532</td>\n      <td>10</td>\n      <td>-13.335</td>\n      <td>...</td>\n      <td>116.574</td>\n      <td>audio_features</td>\n      <td>5LkcAjqj5NOctNGi2qUjlw</td>\n      <td>spotify:track:5LkcAjqj5NOctNGi2qUjlw</td>\n      <td>https://api.spotify.com/v1/tracks/5LkcAjqj5NOc...</td>\n      <td>https://api.spotify.com/v1/audio-analysis/5Lkc...</td>\n      <td>347667</td>\n      <td>4</td>\n      <td>New Edition</td>\n      <td>68moCweQx7EoMvHdZ6HzDc</td>\n    </tr>\n    <tr>\n      <th>3</th>\n      <td>Feeling Safe___DLJ</td>\n      <td>2020-03-09 00:38</td>\n      <td>DLJ</td>\n      <td>Feeling Safe</td>\n      <td>139834</td>\n      <td>2020-03-09 00:38:00</td>\n      <td>0.828</td>\n      <td>0.250</td>\n      <td>1</td>\n      <td>-15.887</td>\n      <td>...</td>\n      <td>121.027</td>\n      <td>audio_features</td>\n      <td>79oR758W174pGqPA2Fky7j</td>\n      <td>spotify:track:79oR758W174pGqPA2Fky7j</td>\n      <td>https://api.spotify.com/v1/tracks/79oR758W174p...</td>\n      <td>https://api.spotify.com/v1/audio-analysis/79oR...</td>\n      <td>139835</td>\n      <td>4</td>\n      <td>Feeling Safe</td>\n      <td>6KHpq8tlBKcvmdw8sZHugV</td>\n    </tr>\n    <tr>\n      <th>4</th>\n      <td>Tides Out___Astairé</td>\n      <td>2020-03-09 00:42</td>\n      <td>Astairé</td>\n      <td>Tides Out</td>\n      <td>208636</td>\n      <td>2020-03-09 00:42:00</td>\n      <td>0.272</td>\n      <td>0.876</td>\n      <td>4</td>\n      <td>-7.135</td>\n      <td>...</td>\n      <td>102.718</td>\n      <td>audio_features</td>\n      <td>2sXtpY9mCTXnUTUSQqrXbX</td>\n      <td>spotify:track:2sXtpY9mCTXnUTUSQqrXbX</td>\n      <td>https://api.spotify.com/v1/tracks/2sXtpY9mCTXn...</td>\n      <td>https://api.spotify.com/v1/audio-analysis/2sXt...</td>\n      <td>591693</td>\n      <td>4</td>\n      <td>The Outlaws</td>\n      <td>5NR8rq89bfEMA7JJGzfFkp</td>\n    </tr>\n  </tbody>\n</table>\n<p>5 rows × 26 columns</p>\n</div>"
     },
     "metadata": {},
     "execution_count": 2
    }
   ],
   "source": [
    "df = pd.read_csv('/Users/logno/Documents/GitHub/spotify_recommender/final.csv', index_col = 0)\n",
    "df.head()"
   ]
  },
  {
   "cell_type": "code",
   "execution_count": 3,
   "metadata": {},
   "outputs": [
    {
     "output_type": "execute_result",
     "data": {
      "text/plain": [
       "                                                    name           endTime  \\\n",
       "36219                 Bankroll (feat. Lil Keed)___88GLAM  2021-03-09 22:42   \n",
       "36220              No Time (feat. Gunna)___Playboi Carti  2021-03-09 22:46   \n",
       "36221                             Nascar Dashcar___LUCKI  2021-03-09 22:48   \n",
       "36222  Not A Rapper (feat. Lil Baby & Yo Gotti)___42 ...  2021-03-09 22:49   \n",
       "36223                      Right Through You___Yung Bans  2021-03-09 22:52   \n",
       "\n",
       "          artistName                                 trackName  msPlayed  \\\n",
       "36219         88GLAM                 Bankroll (feat. Lil Keed)    219920   \n",
       "36220  Playboi Carti                     No Time (feat. Gunna)    219453   \n",
       "36221          LUCKI                            Nascar Dashcar    116897   \n",
       "36222        42 Dugg  Not A Rapper (feat. Lil Baby & Yo Gotti)    107771   \n",
       "36223      Yung Bans                         Right Through You    150465   \n",
       "\n",
       "                  datetime  danceability  energy  key  loudness  ...    tempo  \\\n",
       "36219  2021-03-09 22:42:00         0.778   0.591   10    -8.835  ...  154.977   \n",
       "36220  2021-03-09 22:46:00         0.943   0.763    5    -5.568  ...  139.969   \n",
       "36221  2021-03-09 22:48:00         0.709   0.569    6    -9.269  ...   76.031   \n",
       "36222  2021-03-09 22:49:00         0.888   0.715    8    -3.377  ...  120.106   \n",
       "36223  2021-03-09 22:52:00         0.804   0.358    1   -10.999  ...  144.029   \n",
       "\n",
       "                 type                      id  \\\n",
       "36219  audio_features  4ATl9ijSiEgNs9XCpdPL2t   \n",
       "36220  audio_features  5pHJv0bgNsT9nPoK2BjNBn   \n",
       "36221  audio_features  1uJGWwJ0NZYvGD4kbKlOTl   \n",
       "36222  audio_features  0qnHywpYq7D2SGMpuHEasL   \n",
       "36223  audio_features  3PjeetzZNTIuWJGPcacvbS   \n",
       "\n",
       "                                        uri  \\\n",
       "36219  spotify:track:4ATl9ijSiEgNs9XCpdPL2t   \n",
       "36220  spotify:track:5pHJv0bgNsT9nPoK2BjNBn   \n",
       "36221  spotify:track:1uJGWwJ0NZYvGD4kbKlOTl   \n",
       "36222  spotify:track:0qnHywpYq7D2SGMpuHEasL   \n",
       "36223  spotify:track:3PjeetzZNTIuWJGPcacvbS   \n",
       "\n",
       "                                              track_href  \\\n",
       "36219  https://api.spotify.com/v1/tracks/4ATl9ijSiEgN...   \n",
       "36220  https://api.spotify.com/v1/tracks/5pHJv0bgNsT9...   \n",
       "36221  https://api.spotify.com/v1/tracks/1uJGWwJ0NZYv...   \n",
       "36222  https://api.spotify.com/v1/tracks/0qnHywpYq7D2...   \n",
       "36223  https://api.spotify.com/v1/tracks/3PjeetzZNTIu...   \n",
       "\n",
       "                                            analysis_url  duration_ms  \\\n",
       "36219  https://api.spotify.com/v1/audio-analysis/4ATl...       219920   \n",
       "36220  https://api.spotify.com/v1/audio-analysis/5pHJ...       219453   \n",
       "36221  https://api.spotify.com/v1/audio-analysis/1uJG...       116898   \n",
       "36222  https://api.spotify.com/v1/audio-analysis/0qnH...       107771   \n",
       "36223  https://api.spotify.com/v1/audio-analysis/3Pje...       150000   \n",
       "\n",
       "      time_signature          albumName                 albumID  \n",
       "36219              4           Bankroll  0BHoLb77mSCByEkoI0juyH  \n",
       "36220              4            Die Lit  7dAm8ShwJLFm9SaJ6Yc58O  \n",
       "36221              4     Nascar Dashcar  6vrHjmCAEiYOBHnNraoZiF  \n",
       "36222              4    Young & Turnt 2  0pdD5ojKQ5WdZRPBY5bfv4  \n",
       "36223              4  Right Through You  1gazzdNoCkfeMwUOWxe7S2  \n",
       "\n",
       "[5 rows x 26 columns]"
      ],
      "text/html": "<div>\n<style scoped>\n    .dataframe tbody tr th:only-of-type {\n        vertical-align: middle;\n    }\n\n    .dataframe tbody tr th {\n        vertical-align: top;\n    }\n\n    .dataframe thead th {\n        text-align: right;\n    }\n</style>\n<table border=\"1\" class=\"dataframe\">\n  <thead>\n    <tr style=\"text-align: right;\">\n      <th></th>\n      <th>name</th>\n      <th>endTime</th>\n      <th>artistName</th>\n      <th>trackName</th>\n      <th>msPlayed</th>\n      <th>datetime</th>\n      <th>danceability</th>\n      <th>energy</th>\n      <th>key</th>\n      <th>loudness</th>\n      <th>...</th>\n      <th>tempo</th>\n      <th>type</th>\n      <th>id</th>\n      <th>uri</th>\n      <th>track_href</th>\n      <th>analysis_url</th>\n      <th>duration_ms</th>\n      <th>time_signature</th>\n      <th>albumName</th>\n      <th>albumID</th>\n    </tr>\n  </thead>\n  <tbody>\n    <tr>\n      <th>36219</th>\n      <td>Bankroll (feat. Lil Keed)___88GLAM</td>\n      <td>2021-03-09 22:42</td>\n      <td>88GLAM</td>\n      <td>Bankroll (feat. Lil Keed)</td>\n      <td>219920</td>\n      <td>2021-03-09 22:42:00</td>\n      <td>0.778</td>\n      <td>0.591</td>\n      <td>10</td>\n      <td>-8.835</td>\n      <td>...</td>\n      <td>154.977</td>\n      <td>audio_features</td>\n      <td>4ATl9ijSiEgNs9XCpdPL2t</td>\n      <td>spotify:track:4ATl9ijSiEgNs9XCpdPL2t</td>\n      <td>https://api.spotify.com/v1/tracks/4ATl9ijSiEgN...</td>\n      <td>https://api.spotify.com/v1/audio-analysis/4ATl...</td>\n      <td>219920</td>\n      <td>4</td>\n      <td>Bankroll</td>\n      <td>0BHoLb77mSCByEkoI0juyH</td>\n    </tr>\n    <tr>\n      <th>36220</th>\n      <td>No Time (feat. Gunna)___Playboi Carti</td>\n      <td>2021-03-09 22:46</td>\n      <td>Playboi Carti</td>\n      <td>No Time (feat. Gunna)</td>\n      <td>219453</td>\n      <td>2021-03-09 22:46:00</td>\n      <td>0.943</td>\n      <td>0.763</td>\n      <td>5</td>\n      <td>-5.568</td>\n      <td>...</td>\n      <td>139.969</td>\n      <td>audio_features</td>\n      <td>5pHJv0bgNsT9nPoK2BjNBn</td>\n      <td>spotify:track:5pHJv0bgNsT9nPoK2BjNBn</td>\n      <td>https://api.spotify.com/v1/tracks/5pHJv0bgNsT9...</td>\n      <td>https://api.spotify.com/v1/audio-analysis/5pHJ...</td>\n      <td>219453</td>\n      <td>4</td>\n      <td>Die Lit</td>\n      <td>7dAm8ShwJLFm9SaJ6Yc58O</td>\n    </tr>\n    <tr>\n      <th>36221</th>\n      <td>Nascar Dashcar___LUCKI</td>\n      <td>2021-03-09 22:48</td>\n      <td>LUCKI</td>\n      <td>Nascar Dashcar</td>\n      <td>116897</td>\n      <td>2021-03-09 22:48:00</td>\n      <td>0.709</td>\n      <td>0.569</td>\n      <td>6</td>\n      <td>-9.269</td>\n      <td>...</td>\n      <td>76.031</td>\n      <td>audio_features</td>\n      <td>1uJGWwJ0NZYvGD4kbKlOTl</td>\n      <td>spotify:track:1uJGWwJ0NZYvGD4kbKlOTl</td>\n      <td>https://api.spotify.com/v1/tracks/1uJGWwJ0NZYv...</td>\n      <td>https://api.spotify.com/v1/audio-analysis/1uJG...</td>\n      <td>116898</td>\n      <td>4</td>\n      <td>Nascar Dashcar</td>\n      <td>6vrHjmCAEiYOBHnNraoZiF</td>\n    </tr>\n    <tr>\n      <th>36222</th>\n      <td>Not A Rapper (feat. Lil Baby &amp; Yo Gotti)___42 ...</td>\n      <td>2021-03-09 22:49</td>\n      <td>42 Dugg</td>\n      <td>Not A Rapper (feat. Lil Baby &amp; Yo Gotti)</td>\n      <td>107771</td>\n      <td>2021-03-09 22:49:00</td>\n      <td>0.888</td>\n      <td>0.715</td>\n      <td>8</td>\n      <td>-3.377</td>\n      <td>...</td>\n      <td>120.106</td>\n      <td>audio_features</td>\n      <td>0qnHywpYq7D2SGMpuHEasL</td>\n      <td>spotify:track:0qnHywpYq7D2SGMpuHEasL</td>\n      <td>https://api.spotify.com/v1/tracks/0qnHywpYq7D2...</td>\n      <td>https://api.spotify.com/v1/audio-analysis/0qnH...</td>\n      <td>107771</td>\n      <td>4</td>\n      <td>Young &amp; Turnt 2</td>\n      <td>0pdD5ojKQ5WdZRPBY5bfv4</td>\n    </tr>\n    <tr>\n      <th>36223</th>\n      <td>Right Through You___Yung Bans</td>\n      <td>2021-03-09 22:52</td>\n      <td>Yung Bans</td>\n      <td>Right Through You</td>\n      <td>150465</td>\n      <td>2021-03-09 22:52:00</td>\n      <td>0.804</td>\n      <td>0.358</td>\n      <td>1</td>\n      <td>-10.999</td>\n      <td>...</td>\n      <td>144.029</td>\n      <td>audio_features</td>\n      <td>3PjeetzZNTIuWJGPcacvbS</td>\n      <td>spotify:track:3PjeetzZNTIuWJGPcacvbS</td>\n      <td>https://api.spotify.com/v1/tracks/3PjeetzZNTIu...</td>\n      <td>https://api.spotify.com/v1/audio-analysis/3Pje...</td>\n      <td>150000</td>\n      <td>4</td>\n      <td>Right Through You</td>\n      <td>1gazzdNoCkfeMwUOWxe7S2</td>\n    </tr>\n  </tbody>\n</table>\n<p>5 rows × 26 columns</p>\n</div>"
     },
     "metadata": {},
     "execution_count": 3
    }
   ],
   "source": [
    "df.tail()"
   ]
  },
  {
   "source": [
    "## Data Cleaning & Comprehension"
   ],
   "cell_type": "markdown",
   "metadata": {}
  },
  {
   "cell_type": "code",
   "execution_count": 4,
   "metadata": {},
   "outputs": [
    {
     "output_type": "execute_result",
     "data": {
      "text/plain": [
       "(36224, 26)"
      ]
     },
     "metadata": {},
     "execution_count": 4
    }
   ],
   "source": [
    "df.shape"
   ]
  },
  {
   "cell_type": "code",
   "execution_count": 5,
   "metadata": {},
   "outputs": [
    {
     "output_type": "execute_result",
     "data": {
      "text/plain": [
       "Index(['name', 'endTime', 'artistName', 'trackName', 'msPlayed', 'datetime',\n",
       "       'danceability', 'energy', 'key', 'loudness', 'mode', 'speechiness',\n",
       "       'acousticness', 'instrumentalness', 'liveness', 'valence', 'tempo',\n",
       "       'type', 'id', 'uri', 'track_href', 'analysis_url', 'duration_ms',\n",
       "       'time_signature', 'albumName', 'albumID'],\n",
       "      dtype='object')"
      ]
     },
     "metadata": {},
     "execution_count": 5
    }
   ],
   "source": [
    "df.columns"
   ]
  },
  {
   "source": [
    "# Checking if these two columns are the same\n",
    "df[['msPlayed', 'duration_ms']] "
   ],
   "cell_type": "code",
   "metadata": {},
   "execution_count": 6,
   "outputs": [
    {
     "output_type": "execute_result",
     "data": {
      "text/plain": [
       "       msPlayed  duration_ms\n",
       "0         80666       171827\n",
       "1         22912       123182\n",
       "2        290069       347667\n",
       "3        139834       139835\n",
       "4        208636       591693\n",
       "...         ...          ...\n",
       "36219    219920       219920\n",
       "36220    219453       219453\n",
       "36221    116897       116898\n",
       "36222    107771       107771\n",
       "36223    150465       150000\n",
       "\n",
       "[36224 rows x 2 columns]"
      ],
      "text/html": "<div>\n<style scoped>\n    .dataframe tbody tr th:only-of-type {\n        vertical-align: middle;\n    }\n\n    .dataframe tbody tr th {\n        vertical-align: top;\n    }\n\n    .dataframe thead th {\n        text-align: right;\n    }\n</style>\n<table border=\"1\" class=\"dataframe\">\n  <thead>\n    <tr style=\"text-align: right;\">\n      <th></th>\n      <th>msPlayed</th>\n      <th>duration_ms</th>\n    </tr>\n  </thead>\n  <tbody>\n    <tr>\n      <th>0</th>\n      <td>80666</td>\n      <td>171827</td>\n    </tr>\n    <tr>\n      <th>1</th>\n      <td>22912</td>\n      <td>123182</td>\n    </tr>\n    <tr>\n      <th>2</th>\n      <td>290069</td>\n      <td>347667</td>\n    </tr>\n    <tr>\n      <th>3</th>\n      <td>139834</td>\n      <td>139835</td>\n    </tr>\n    <tr>\n      <th>4</th>\n      <td>208636</td>\n      <td>591693</td>\n    </tr>\n    <tr>\n      <th>...</th>\n      <td>...</td>\n      <td>...</td>\n    </tr>\n    <tr>\n      <th>36219</th>\n      <td>219920</td>\n      <td>219920</td>\n    </tr>\n    <tr>\n      <th>36220</th>\n      <td>219453</td>\n      <td>219453</td>\n    </tr>\n    <tr>\n      <th>36221</th>\n      <td>116897</td>\n      <td>116898</td>\n    </tr>\n    <tr>\n      <th>36222</th>\n      <td>107771</td>\n      <td>107771</td>\n    </tr>\n    <tr>\n      <th>36223</th>\n      <td>150465</td>\n      <td>150000</td>\n    </tr>\n  </tbody>\n</table>\n<p>36224 rows × 2 columns</p>\n</div>"
     },
     "metadata": {},
     "execution_count": 6
    }
   ]
  },
  {
   "cell_type": "code",
   "execution_count": 7,
   "metadata": {},
   "outputs": [
    {
     "output_type": "execute_result",
     "data": {
      "text/plain": [
       "name                False\n",
       "endTime             False\n",
       "artistName          False\n",
       "trackName           False\n",
       "msPlayed            False\n",
       "datetime            False\n",
       "danceability        False\n",
       "energy              False\n",
       "key                 False\n",
       "loudness            False\n",
       "mode                False\n",
       "speechiness         False\n",
       "acousticness        False\n",
       "instrumentalness    False\n",
       "liveness            False\n",
       "valence             False\n",
       "tempo               False\n",
       "type                False\n",
       "id                  False\n",
       "uri                 False\n",
       "track_href          False\n",
       "analysis_url        False\n",
       "duration_ms         False\n",
       "time_signature      False\n",
       "albumName           False\n",
       "albumID             False\n",
       "dtype: bool"
      ]
     },
     "metadata": {},
     "execution_count": 7
    }
   ],
   "source": [
    "# Checking for null values\n",
    "df.isnull().any()"
   ]
  },
  {
   "cell_type": "code",
   "execution_count": 8,
   "metadata": {},
   "outputs": [
    {
     "output_type": "stream",
     "name": "stdout",
     "text": [
      "<class 'pandas.core.frame.DataFrame'>\nInt64Index: 36224 entries, 0 to 36223\nData columns (total 26 columns):\n #   Column            Non-Null Count  Dtype  \n---  ------            --------------  -----  \n 0   name              36224 non-null  object \n 1   endTime           36224 non-null  object \n 2   artistName        36224 non-null  object \n 3   trackName         36224 non-null  object \n 4   msPlayed          36224 non-null  int64  \n 5   datetime          36224 non-null  object \n 6   danceability      36224 non-null  float64\n 7   energy            36224 non-null  float64\n 8   key               36224 non-null  int64  \n 9   loudness          36224 non-null  float64\n 10  mode              36224 non-null  int64  \n 11  speechiness       36224 non-null  float64\n 12  acousticness      36224 non-null  float64\n 13  instrumentalness  36224 non-null  float64\n 14  liveness          36224 non-null  float64\n 15  valence           36224 non-null  float64\n 16  tempo             36224 non-null  float64\n 17  type              36224 non-null  object \n 18  id                36224 non-null  object \n 19  uri               36224 non-null  object \n 20  track_href        36224 non-null  object \n 21  analysis_url      36224 non-null  object \n 22  duration_ms       36224 non-null  int64  \n 23  time_signature    36224 non-null  int64  \n 24  albumName         36224 non-null  object \n 25  albumID           36224 non-null  object \ndtypes: float64(9), int64(5), object(12)\nmemory usage: 7.5+ MB\n"
     ]
    }
   ],
   "source": [
    "df.info()"
   ]
  },
  {
   "cell_type": "code",
   "execution_count": 9,
   "metadata": {},
   "outputs": [],
   "source": [
    "# Converting time columns to dt format\n",
    "df['endTime'] = pd.to_datetime(df['endTime'])\n",
    "df['datetime'] = pd.to_datetime(df['datetime'])"
   ]
  },
  {
   "cell_type": "code",
   "execution_count": 10,
   "metadata": {},
   "outputs": [
    {
     "output_type": "execute_result",
     "data": {
      "text/plain": [
       "                                            name             endTime  \\\n",
       "28                          I'm The Plug___Drake 2020-03-09 02:43:00   \n",
       "30  Almighty (feat. HoodRich Pablo Juan)___Gunna 2020-03-09 02:43:00   \n",
       "35                         Hoes Mad___Famous Dex 2020-03-09 02:55:00   \n",
       "36                           Digits___Young Thug 2020-03-09 02:55:00   \n",
       "39                       M.... She Wrote___Tay-K 2020-03-09 03:01:00   \n",
       "\n",
       "    artistName                             trackName  msPlayed  \\\n",
       "28       Drake                          I'm The Plug      1365   \n",
       "30       Gunna  Almighty (feat. HoodRich Pablo Juan)      6165   \n",
       "35  Famous Dex                              Hoes Mad      1621   \n",
       "36  Young Thug                                Digits      1877   \n",
       "39       Tay-K                       M.... She Wrote      1365   \n",
       "\n",
       "              datetime  danceability  energy  key  loudness  ...    tempo  \\\n",
       "28 2020-03-09 02:43:00         0.828   0.550    5    -9.158  ...  160.016   \n",
       "30 2020-03-09 02:43:00         0.952   0.334    1   -11.375  ...  117.977   \n",
       "35 2020-03-09 02:55:00         0.706   0.758    7    -7.543  ...  134.867   \n",
       "36 2020-03-09 02:55:00         0.769   0.632   10    -4.228  ...  131.932   \n",
       "39 2020-03-09 03:01:00         0.777   0.707    9    -4.850  ...  159.662   \n",
       "\n",
       "              type                      id  \\\n",
       "28  audio_features  6bqtKURdSWkInAJHDkuaL0   \n",
       "30  audio_features  7tjXeAUgZEe2yE6nSOcqWA   \n",
       "35  audio_features  1u8kqieXwWHMnetFOk8rjg   \n",
       "36  audio_features  4cg1yakyRSIOjxKM2I7J1q   \n",
       "39  audio_features  1WRzux3cJRM9xRNN99QKgR   \n",
       "\n",
       "                                     uri  \\\n",
       "28  spotify:track:6bqtKURdSWkInAJHDkuaL0   \n",
       "30  spotify:track:7tjXeAUgZEe2yE6nSOcqWA   \n",
       "35  spotify:track:1u8kqieXwWHMnetFOk8rjg   \n",
       "36  spotify:track:4cg1yakyRSIOjxKM2I7J1q   \n",
       "39  spotify:track:1WRzux3cJRM9xRNN99QKgR   \n",
       "\n",
       "                                           track_href  \\\n",
       "28  https://api.spotify.com/v1/tracks/6bqtKURdSWkI...   \n",
       "30  https://api.spotify.com/v1/tracks/7tjXeAUgZEe2...   \n",
       "35  https://api.spotify.com/v1/tracks/1u8kqieXwWHM...   \n",
       "36  https://api.spotify.com/v1/tracks/4cg1yakyRSIO...   \n",
       "39  https://api.spotify.com/v1/tracks/1WRzux3cJRM9...   \n",
       "\n",
       "                                         analysis_url  duration_ms  \\\n",
       "28  https://api.spotify.com/v1/audio-analysis/6bqt...       180000   \n",
       "30  https://api.spotify.com/v1/audio-analysis/7tjX...       144407   \n",
       "35  https://api.spotify.com/v1/audio-analysis/1u8k...       190222   \n",
       "36  https://api.spotify.com/v1/audio-analysis/4cg1...       176387   \n",
       "39  https://api.spotify.com/v1/audio-analysis/1WRz...       112000   \n",
       "\n",
       "   time_signature                albumName                 albumID  \n",
       "28              4  What A Time To Be Alive  1ozpmkWcCHwsQ4QTnxOOdT  \n",
       "30              4   Drip Season 3 (Deluxe)  5xtAAHr59ozJ2PQ67utEmi  \n",
       "35              4      Dexter's Laboratory  0hJoy2A7e6kspDrkxpib3o  \n",
       "36              4           Slime Season 3  2z4c8M8aVzl7CTobIp36KF  \n",
       "39              4        #SantanaWorld (+)  1S7KWH0szrqutOvzsqxiBv  \n",
       "\n",
       "[5 rows x 26 columns]"
      ],
      "text/html": "<div>\n<style scoped>\n    .dataframe tbody tr th:only-of-type {\n        vertical-align: middle;\n    }\n\n    .dataframe tbody tr th {\n        vertical-align: top;\n    }\n\n    .dataframe thead th {\n        text-align: right;\n    }\n</style>\n<table border=\"1\" class=\"dataframe\">\n  <thead>\n    <tr style=\"text-align: right;\">\n      <th></th>\n      <th>name</th>\n      <th>endTime</th>\n      <th>artistName</th>\n      <th>trackName</th>\n      <th>msPlayed</th>\n      <th>datetime</th>\n      <th>danceability</th>\n      <th>energy</th>\n      <th>key</th>\n      <th>loudness</th>\n      <th>...</th>\n      <th>tempo</th>\n      <th>type</th>\n      <th>id</th>\n      <th>uri</th>\n      <th>track_href</th>\n      <th>analysis_url</th>\n      <th>duration_ms</th>\n      <th>time_signature</th>\n      <th>albumName</th>\n      <th>albumID</th>\n    </tr>\n  </thead>\n  <tbody>\n    <tr>\n      <th>28</th>\n      <td>I'm The Plug___Drake</td>\n      <td>2020-03-09 02:43:00</td>\n      <td>Drake</td>\n      <td>I'm The Plug</td>\n      <td>1365</td>\n      <td>2020-03-09 02:43:00</td>\n      <td>0.828</td>\n      <td>0.550</td>\n      <td>5</td>\n      <td>-9.158</td>\n      <td>...</td>\n      <td>160.016</td>\n      <td>audio_features</td>\n      <td>6bqtKURdSWkInAJHDkuaL0</td>\n      <td>spotify:track:6bqtKURdSWkInAJHDkuaL0</td>\n      <td>https://api.spotify.com/v1/tracks/6bqtKURdSWkI...</td>\n      <td>https://api.spotify.com/v1/audio-analysis/6bqt...</td>\n      <td>180000</td>\n      <td>4</td>\n      <td>What A Time To Be Alive</td>\n      <td>1ozpmkWcCHwsQ4QTnxOOdT</td>\n    </tr>\n    <tr>\n      <th>30</th>\n      <td>Almighty (feat. HoodRich Pablo Juan)___Gunna</td>\n      <td>2020-03-09 02:43:00</td>\n      <td>Gunna</td>\n      <td>Almighty (feat. HoodRich Pablo Juan)</td>\n      <td>6165</td>\n      <td>2020-03-09 02:43:00</td>\n      <td>0.952</td>\n      <td>0.334</td>\n      <td>1</td>\n      <td>-11.375</td>\n      <td>...</td>\n      <td>117.977</td>\n      <td>audio_features</td>\n      <td>7tjXeAUgZEe2yE6nSOcqWA</td>\n      <td>spotify:track:7tjXeAUgZEe2yE6nSOcqWA</td>\n      <td>https://api.spotify.com/v1/tracks/7tjXeAUgZEe2...</td>\n      <td>https://api.spotify.com/v1/audio-analysis/7tjX...</td>\n      <td>144407</td>\n      <td>4</td>\n      <td>Drip Season 3 (Deluxe)</td>\n      <td>5xtAAHr59ozJ2PQ67utEmi</td>\n    </tr>\n    <tr>\n      <th>35</th>\n      <td>Hoes Mad___Famous Dex</td>\n      <td>2020-03-09 02:55:00</td>\n      <td>Famous Dex</td>\n      <td>Hoes Mad</td>\n      <td>1621</td>\n      <td>2020-03-09 02:55:00</td>\n      <td>0.706</td>\n      <td>0.758</td>\n      <td>7</td>\n      <td>-7.543</td>\n      <td>...</td>\n      <td>134.867</td>\n      <td>audio_features</td>\n      <td>1u8kqieXwWHMnetFOk8rjg</td>\n      <td>spotify:track:1u8kqieXwWHMnetFOk8rjg</td>\n      <td>https://api.spotify.com/v1/tracks/1u8kqieXwWHM...</td>\n      <td>https://api.spotify.com/v1/audio-analysis/1u8k...</td>\n      <td>190222</td>\n      <td>4</td>\n      <td>Dexter's Laboratory</td>\n      <td>0hJoy2A7e6kspDrkxpib3o</td>\n    </tr>\n    <tr>\n      <th>36</th>\n      <td>Digits___Young Thug</td>\n      <td>2020-03-09 02:55:00</td>\n      <td>Young Thug</td>\n      <td>Digits</td>\n      <td>1877</td>\n      <td>2020-03-09 02:55:00</td>\n      <td>0.769</td>\n      <td>0.632</td>\n      <td>10</td>\n      <td>-4.228</td>\n      <td>...</td>\n      <td>131.932</td>\n      <td>audio_features</td>\n      <td>4cg1yakyRSIOjxKM2I7J1q</td>\n      <td>spotify:track:4cg1yakyRSIOjxKM2I7J1q</td>\n      <td>https://api.spotify.com/v1/tracks/4cg1yakyRSIO...</td>\n      <td>https://api.spotify.com/v1/audio-analysis/4cg1...</td>\n      <td>176387</td>\n      <td>4</td>\n      <td>Slime Season 3</td>\n      <td>2z4c8M8aVzl7CTobIp36KF</td>\n    </tr>\n    <tr>\n      <th>39</th>\n      <td>M.... She Wrote___Tay-K</td>\n      <td>2020-03-09 03:01:00</td>\n      <td>Tay-K</td>\n      <td>M.... She Wrote</td>\n      <td>1365</td>\n      <td>2020-03-09 03:01:00</td>\n      <td>0.777</td>\n      <td>0.707</td>\n      <td>9</td>\n      <td>-4.850</td>\n      <td>...</td>\n      <td>159.662</td>\n      <td>audio_features</td>\n      <td>1WRzux3cJRM9xRNN99QKgR</td>\n      <td>spotify:track:1WRzux3cJRM9xRNN99QKgR</td>\n      <td>https://api.spotify.com/v1/tracks/1WRzux3cJRM9...</td>\n      <td>https://api.spotify.com/v1/audio-analysis/1WRz...</td>\n      <td>112000</td>\n      <td>4</td>\n      <td>#SantanaWorld (+)</td>\n      <td>1S7KWH0szrqutOvzsqxiBv</td>\n    </tr>\n  </tbody>\n</table>\n<p>5 rows × 26 columns</p>\n</div>"
     },
     "metadata": {},
     "execution_count": 10
    }
   ],
   "source": [
    "# Finding duplicate entries\n",
    "duplicated_songs = df.loc[\n",
    "    df['trackName'].duplicated(keep=False) & \n",
    "    df['msPlayed'].duplicated(keep=False) & \n",
    "    df['time_signature'].duplicated(keep=False) & \n",
    "    df['datetime'].duplicated(keep=False)\n",
    "    ]\n",
    "duplicated_songs.head()"
   ]
  },
  {
   "cell_type": "code",
   "execution_count": 24,
   "metadata": {},
   "outputs": [
    {
     "output_type": "execute_result",
     "data": {
      "text/plain": [
       "                                                                 name  \\\n",
       "datetime                                                                \n",
       "2020-03-09 02:43:00                              I'm The Plug___Drake   \n",
       "2020-03-09 02:55:00                             Hoes Mad___Famous Dex   \n",
       "2020-03-09 03:01:00                           M.... She Wrote___Tay-K   \n",
       "2020-03-09 07:18:00                      First Day Out___Tee Grizzley   \n",
       "2020-03-09 07:33:00             BoAtLoAd (feat. BlocBoy JB)___Co Cash   \n",
       "...                                                               ...   \n",
       "2021-03-05 01:11:00                                 Lost It___Cochise   \n",
       "2021-03-05 04:47:00                            One Dolla___Young Nudy   \n",
       "2021-03-09 20:10:00  Victory Lap (feat. Stacy Barthe)___Nipsey Hussle   \n",
       "2021-03-09 21:20:00              Peta (feat. Meek Mill)___Roddy Ricch   \n",
       "2021-03-09 22:36:00                                  Finally___Lil 2z   \n",
       "\n",
       "                                endTime     artistName  \\\n",
       "datetime                                                 \n",
       "2020-03-09 02:43:00 2020-03-09 02:43:00          Drake   \n",
       "2020-03-09 02:55:00 2020-03-09 02:55:00     Famous Dex   \n",
       "2020-03-09 03:01:00 2020-03-09 03:01:00          Tay-K   \n",
       "2020-03-09 07:18:00 2020-03-09 07:18:00   Tee Grizzley   \n",
       "2020-03-09 07:33:00 2020-03-09 07:33:00        Co Cash   \n",
       "...                                 ...            ...   \n",
       "2021-03-05 01:11:00 2021-03-05 01:11:00        Cochise   \n",
       "2021-03-05 04:47:00 2021-03-05 04:47:00     Young Nudy   \n",
       "2021-03-09 20:10:00 2021-03-09 20:10:00  Nipsey Hussle   \n",
       "2021-03-09 21:20:00 2021-03-09 21:20:00    Roddy Ricch   \n",
       "2021-03-09 22:36:00 2021-03-09 22:36:00         Lil 2z   \n",
       "\n",
       "                                            trackName  msPlayed  danceability  \\\n",
       "datetime                                                                        \n",
       "2020-03-09 02:43:00                      I'm The Plug      1365         0.828   \n",
       "2020-03-09 02:55:00                          Hoes Mad      1621         0.706   \n",
       "2020-03-09 03:01:00                   M.... She Wrote      1365         0.777   \n",
       "2020-03-09 07:18:00                     First Day Out      1514         0.587   \n",
       "2020-03-09 07:33:00       BoAtLoAd (feat. BlocBoy JB)    141862         0.789   \n",
       "...                                               ...       ...           ...   \n",
       "2021-03-05 01:11:00                           Lost It      3691         0.699   \n",
       "2021-03-05 04:47:00                         One Dolla      2965         0.877   \n",
       "2021-03-09 20:10:00  Victory Lap (feat. Stacy Barthe)      1416         0.597   \n",
       "2021-03-09 21:20:00            Peta (feat. Meek Mill)    198848         0.778   \n",
       "2021-03-09 22:36:00                           Finally    179147         0.770   \n",
       "\n",
       "                     energy  key  loudness  mode  ...    tempo  \\\n",
       "datetime                                          ...            \n",
       "2020-03-09 02:43:00   0.550    5    -9.158     1  ...  160.016   \n",
       "2020-03-09 02:55:00   0.758    7    -7.543     1  ...  134.867   \n",
       "2020-03-09 03:01:00   0.707    9    -4.850     0  ...  159.662   \n",
       "2020-03-09 07:18:00   0.711    1    -6.330     1  ...   98.008   \n",
       "2020-03-09 07:33:00   0.717    3    -7.901     0  ...  134.947   \n",
       "...                     ...  ...       ...   ...  ...      ...   \n",
       "2021-03-05 01:11:00   0.776    0    -7.353     1  ...  165.099   \n",
       "2021-03-05 04:47:00   0.546    1    -4.953     1  ...  141.016   \n",
       "2021-03-09 20:10:00   0.755    4    -2.209     0  ...   89.146   \n",
       "2021-03-09 21:20:00   0.573   10    -7.339     0  ...  140.114   \n",
       "2021-03-09 22:36:00   0.449    0    -8.783     1  ...  130.092   \n",
       "\n",
       "                               type                      id  \\\n",
       "datetime                                                      \n",
       "2020-03-09 02:43:00  audio_features  6bqtKURdSWkInAJHDkuaL0   \n",
       "2020-03-09 02:55:00  audio_features  1u8kqieXwWHMnetFOk8rjg   \n",
       "2020-03-09 03:01:00  audio_features  1WRzux3cJRM9xRNN99QKgR   \n",
       "2020-03-09 07:18:00  audio_features  3muBQDekYAg7jm6hDu6R0Z   \n",
       "2020-03-09 07:33:00  audio_features  5w5OMYW9hhgH8R9iu82PGO   \n",
       "...                             ...                     ...   \n",
       "2021-03-05 01:11:00  audio_features  77Vy7OnL35k3FgMcwT8646   \n",
       "2021-03-05 04:47:00  audio_features  4qYVsAquxc797qD5sDVdcJ   \n",
       "2021-03-09 20:10:00  audio_features  6hkQ6OQ6nhe7QCckH91aGa   \n",
       "2021-03-09 21:20:00  audio_features  4bl1HBZliBuYpFZjWgefE4   \n",
       "2021-03-09 22:36:00  audio_features  1YM7Y7W1e2nsAV19XhPKV5   \n",
       "\n",
       "                                                      uri  \\\n",
       "datetime                                                    \n",
       "2020-03-09 02:43:00  spotify:track:6bqtKURdSWkInAJHDkuaL0   \n",
       "2020-03-09 02:55:00  spotify:track:1u8kqieXwWHMnetFOk8rjg   \n",
       "2020-03-09 03:01:00  spotify:track:1WRzux3cJRM9xRNN99QKgR   \n",
       "2020-03-09 07:18:00  spotify:track:3muBQDekYAg7jm6hDu6R0Z   \n",
       "2020-03-09 07:33:00  spotify:track:5w5OMYW9hhgH8R9iu82PGO   \n",
       "...                                                   ...   \n",
       "2021-03-05 01:11:00  spotify:track:77Vy7OnL35k3FgMcwT8646   \n",
       "2021-03-05 04:47:00  spotify:track:4qYVsAquxc797qD5sDVdcJ   \n",
       "2021-03-09 20:10:00  spotify:track:6hkQ6OQ6nhe7QCckH91aGa   \n",
       "2021-03-09 21:20:00  spotify:track:4bl1HBZliBuYpFZjWgefE4   \n",
       "2021-03-09 22:36:00  spotify:track:1YM7Y7W1e2nsAV19XhPKV5   \n",
       "\n",
       "                                                            track_href  \\\n",
       "datetime                                                                 \n",
       "2020-03-09 02:43:00  https://api.spotify.com/v1/tracks/6bqtKURdSWkI...   \n",
       "2020-03-09 02:55:00  https://api.spotify.com/v1/tracks/1u8kqieXwWHM...   \n",
       "2020-03-09 03:01:00  https://api.spotify.com/v1/tracks/1WRzux3cJRM9...   \n",
       "2020-03-09 07:18:00  https://api.spotify.com/v1/tracks/3muBQDekYAg7...   \n",
       "2020-03-09 07:33:00  https://api.spotify.com/v1/tracks/5w5OMYW9hhgH...   \n",
       "...                                                                ...   \n",
       "2021-03-05 01:11:00  https://api.spotify.com/v1/tracks/77Vy7OnL35k3...   \n",
       "2021-03-05 04:47:00  https://api.spotify.com/v1/tracks/4qYVsAquxc79...   \n",
       "2021-03-09 20:10:00  https://api.spotify.com/v1/tracks/6hkQ6OQ6nhe7...   \n",
       "2021-03-09 21:20:00  https://api.spotify.com/v1/tracks/4bl1HBZliBuY...   \n",
       "2021-03-09 22:36:00  https://api.spotify.com/v1/tracks/1YM7Y7W1e2ns...   \n",
       "\n",
       "                                                          analysis_url  \\\n",
       "datetime                                                                 \n",
       "2020-03-09 02:43:00  https://api.spotify.com/v1/audio-analysis/6bqt...   \n",
       "2020-03-09 02:55:00  https://api.spotify.com/v1/audio-analysis/1u8k...   \n",
       "2020-03-09 03:01:00  https://api.spotify.com/v1/audio-analysis/1WRz...   \n",
       "2020-03-09 07:18:00  https://api.spotify.com/v1/audio-analysis/3muB...   \n",
       "2020-03-09 07:33:00  https://api.spotify.com/v1/audio-analysis/5w5O...   \n",
       "...                                                                ...   \n",
       "2021-03-05 01:11:00  https://api.spotify.com/v1/audio-analysis/77Vy...   \n",
       "2021-03-05 04:47:00  https://api.spotify.com/v1/audio-analysis/4qYV...   \n",
       "2021-03-09 20:10:00  https://api.spotify.com/v1/audio-analysis/6hkQ...   \n",
       "2021-03-09 21:20:00  https://api.spotify.com/v1/audio-analysis/4bl1...   \n",
       "2021-03-09 22:36:00  https://api.spotify.com/v1/audio-analysis/1YM7...   \n",
       "\n",
       "                    duration_ms time_signature  \\\n",
       "datetime                                         \n",
       "2020-03-09 02:43:00      180000              4   \n",
       "2020-03-09 02:55:00      190222              4   \n",
       "2020-03-09 03:01:00      112000              4   \n",
       "2020-03-09 07:18:00      254694              4   \n",
       "2020-03-09 07:33:00      141863              4   \n",
       "...                         ...            ...   \n",
       "2021-03-05 01:11:00      145120              4   \n",
       "2021-03-05 04:47:00      163520              4   \n",
       "2021-03-09 20:10:00      238333              4   \n",
       "2021-03-09 21:20:00      198849              4   \n",
       "2021-03-09 22:36:00      179148              4   \n",
       "\n",
       "                                                 albumName  \\\n",
       "datetime                                                     \n",
       "2020-03-09 02:43:00                What A Time To Be Alive   \n",
       "2020-03-09 02:55:00                    Dexter's Laboratory   \n",
       "2020-03-09 03:01:00                      #SantanaWorld (+)   \n",
       "2020-03-09 07:18:00                              My Moment   \n",
       "2020-03-09 07:33:00                             F.A.C.T.S.   \n",
       "...                                                    ...   \n",
       "2021-03-05 01:11:00                                Lost It   \n",
       "2021-03-05 04:47:00                            SlimeBall 3   \n",
       "2021-03-09 20:10:00                            Victory Lap   \n",
       "2021-03-09 21:20:00  Please Excuse Me For Being Antisocial   \n",
       "2021-03-09 22:36:00                                Finally   \n",
       "\n",
       "                                    albumID  \n",
       "datetime                                     \n",
       "2020-03-09 02:43:00  1ozpmkWcCHwsQ4QTnxOOdT  \n",
       "2020-03-09 02:55:00  0hJoy2A7e6kspDrkxpib3o  \n",
       "2020-03-09 03:01:00  1S7KWH0szrqutOvzsqxiBv  \n",
       "2020-03-09 07:18:00  6074OsmUN1PdFgy0zTP4Fn  \n",
       "2020-03-09 07:33:00  3U2PmvVkO4gvoC0CBrpNm7  \n",
       "...                                     ...  \n",
       "2021-03-05 01:11:00  2q4WKwPvJXjYZphj5D8lte  \n",
       "2021-03-05 04:47:00  6NNqD3Z4ETW7AgEKjV6iII  \n",
       "2021-03-09 20:10:00  6rcbbhcm8Os7EiVRHP9Aef  \n",
       "2021-03-09 21:20:00  52u4anZbHd6UInnmHRFzba  \n",
       "2021-03-09 22:36:00  2xrvEkrmnoaRSMuZD4haWZ  \n",
       "\n",
       "[2049 rows x 25 columns]"
      ],
      "text/html": "<div>\n<style scoped>\n    .dataframe tbody tr th:only-of-type {\n        vertical-align: middle;\n    }\n\n    .dataframe tbody tr th {\n        vertical-align: top;\n    }\n\n    .dataframe thead th {\n        text-align: right;\n    }\n</style>\n<table border=\"1\" class=\"dataframe\">\n  <thead>\n    <tr style=\"text-align: right;\">\n      <th></th>\n      <th>name</th>\n      <th>endTime</th>\n      <th>artistName</th>\n      <th>trackName</th>\n      <th>msPlayed</th>\n      <th>danceability</th>\n      <th>energy</th>\n      <th>key</th>\n      <th>loudness</th>\n      <th>mode</th>\n      <th>...</th>\n      <th>tempo</th>\n      <th>type</th>\n      <th>id</th>\n      <th>uri</th>\n      <th>track_href</th>\n      <th>analysis_url</th>\n      <th>duration_ms</th>\n      <th>time_signature</th>\n      <th>albumName</th>\n      <th>albumID</th>\n    </tr>\n    <tr>\n      <th>datetime</th>\n      <th></th>\n      <th></th>\n      <th></th>\n      <th></th>\n      <th></th>\n      <th></th>\n      <th></th>\n      <th></th>\n      <th></th>\n      <th></th>\n      <th></th>\n      <th></th>\n      <th></th>\n      <th></th>\n      <th></th>\n      <th></th>\n      <th></th>\n      <th></th>\n      <th></th>\n      <th></th>\n      <th></th>\n    </tr>\n  </thead>\n  <tbody>\n    <tr>\n      <th>2020-03-09 02:43:00</th>\n      <td>I'm The Plug___Drake</td>\n      <td>2020-03-09 02:43:00</td>\n      <td>Drake</td>\n      <td>I'm The Plug</td>\n      <td>1365</td>\n      <td>0.828</td>\n      <td>0.550</td>\n      <td>5</td>\n      <td>-9.158</td>\n      <td>1</td>\n      <td>...</td>\n      <td>160.016</td>\n      <td>audio_features</td>\n      <td>6bqtKURdSWkInAJHDkuaL0</td>\n      <td>spotify:track:6bqtKURdSWkInAJHDkuaL0</td>\n      <td>https://api.spotify.com/v1/tracks/6bqtKURdSWkI...</td>\n      <td>https://api.spotify.com/v1/audio-analysis/6bqt...</td>\n      <td>180000</td>\n      <td>4</td>\n      <td>What A Time To Be Alive</td>\n      <td>1ozpmkWcCHwsQ4QTnxOOdT</td>\n    </tr>\n    <tr>\n      <th>2020-03-09 02:55:00</th>\n      <td>Hoes Mad___Famous Dex</td>\n      <td>2020-03-09 02:55:00</td>\n      <td>Famous Dex</td>\n      <td>Hoes Mad</td>\n      <td>1621</td>\n      <td>0.706</td>\n      <td>0.758</td>\n      <td>7</td>\n      <td>-7.543</td>\n      <td>1</td>\n      <td>...</td>\n      <td>134.867</td>\n      <td>audio_features</td>\n      <td>1u8kqieXwWHMnetFOk8rjg</td>\n      <td>spotify:track:1u8kqieXwWHMnetFOk8rjg</td>\n      <td>https://api.spotify.com/v1/tracks/1u8kqieXwWHM...</td>\n      <td>https://api.spotify.com/v1/audio-analysis/1u8k...</td>\n      <td>190222</td>\n      <td>4</td>\n      <td>Dexter's Laboratory</td>\n      <td>0hJoy2A7e6kspDrkxpib3o</td>\n    </tr>\n    <tr>\n      <th>2020-03-09 03:01:00</th>\n      <td>M.... She Wrote___Tay-K</td>\n      <td>2020-03-09 03:01:00</td>\n      <td>Tay-K</td>\n      <td>M.... She Wrote</td>\n      <td>1365</td>\n      <td>0.777</td>\n      <td>0.707</td>\n      <td>9</td>\n      <td>-4.850</td>\n      <td>0</td>\n      <td>...</td>\n      <td>159.662</td>\n      <td>audio_features</td>\n      <td>1WRzux3cJRM9xRNN99QKgR</td>\n      <td>spotify:track:1WRzux3cJRM9xRNN99QKgR</td>\n      <td>https://api.spotify.com/v1/tracks/1WRzux3cJRM9...</td>\n      <td>https://api.spotify.com/v1/audio-analysis/1WRz...</td>\n      <td>112000</td>\n      <td>4</td>\n      <td>#SantanaWorld (+)</td>\n      <td>1S7KWH0szrqutOvzsqxiBv</td>\n    </tr>\n    <tr>\n      <th>2020-03-09 07:18:00</th>\n      <td>First Day Out___Tee Grizzley</td>\n      <td>2020-03-09 07:18:00</td>\n      <td>Tee Grizzley</td>\n      <td>First Day Out</td>\n      <td>1514</td>\n      <td>0.587</td>\n      <td>0.711</td>\n      <td>1</td>\n      <td>-6.330</td>\n      <td>1</td>\n      <td>...</td>\n      <td>98.008</td>\n      <td>audio_features</td>\n      <td>3muBQDekYAg7jm6hDu6R0Z</td>\n      <td>spotify:track:3muBQDekYAg7jm6hDu6R0Z</td>\n      <td>https://api.spotify.com/v1/tracks/3muBQDekYAg7...</td>\n      <td>https://api.spotify.com/v1/audio-analysis/3muB...</td>\n      <td>254694</td>\n      <td>4</td>\n      <td>My Moment</td>\n      <td>6074OsmUN1PdFgy0zTP4Fn</td>\n    </tr>\n    <tr>\n      <th>2020-03-09 07:33:00</th>\n      <td>BoAtLoAd (feat. BlocBoy JB)___Co Cash</td>\n      <td>2020-03-09 07:33:00</td>\n      <td>Co Cash</td>\n      <td>BoAtLoAd (feat. BlocBoy JB)</td>\n      <td>141862</td>\n      <td>0.789</td>\n      <td>0.717</td>\n      <td>3</td>\n      <td>-7.901</td>\n      <td>0</td>\n      <td>...</td>\n      <td>134.947</td>\n      <td>audio_features</td>\n      <td>5w5OMYW9hhgH8R9iu82PGO</td>\n      <td>spotify:track:5w5OMYW9hhgH8R9iu82PGO</td>\n      <td>https://api.spotify.com/v1/tracks/5w5OMYW9hhgH...</td>\n      <td>https://api.spotify.com/v1/audio-analysis/5w5O...</td>\n      <td>141863</td>\n      <td>4</td>\n      <td>F.A.C.T.S.</td>\n      <td>3U2PmvVkO4gvoC0CBrpNm7</td>\n    </tr>\n    <tr>\n      <th>...</th>\n      <td>...</td>\n      <td>...</td>\n      <td>...</td>\n      <td>...</td>\n      <td>...</td>\n      <td>...</td>\n      <td>...</td>\n      <td>...</td>\n      <td>...</td>\n      <td>...</td>\n      <td>...</td>\n      <td>...</td>\n      <td>...</td>\n      <td>...</td>\n      <td>...</td>\n      <td>...</td>\n      <td>...</td>\n      <td>...</td>\n      <td>...</td>\n      <td>...</td>\n      <td>...</td>\n    </tr>\n    <tr>\n      <th>2021-03-05 01:11:00</th>\n      <td>Lost It___Cochise</td>\n      <td>2021-03-05 01:11:00</td>\n      <td>Cochise</td>\n      <td>Lost It</td>\n      <td>3691</td>\n      <td>0.699</td>\n      <td>0.776</td>\n      <td>0</td>\n      <td>-7.353</td>\n      <td>1</td>\n      <td>...</td>\n      <td>165.099</td>\n      <td>audio_features</td>\n      <td>77Vy7OnL35k3FgMcwT8646</td>\n      <td>spotify:track:77Vy7OnL35k3FgMcwT8646</td>\n      <td>https://api.spotify.com/v1/tracks/77Vy7OnL35k3...</td>\n      <td>https://api.spotify.com/v1/audio-analysis/77Vy...</td>\n      <td>145120</td>\n      <td>4</td>\n      <td>Lost It</td>\n      <td>2q4WKwPvJXjYZphj5D8lte</td>\n    </tr>\n    <tr>\n      <th>2021-03-05 04:47:00</th>\n      <td>One Dolla___Young Nudy</td>\n      <td>2021-03-05 04:47:00</td>\n      <td>Young Nudy</td>\n      <td>One Dolla</td>\n      <td>2965</td>\n      <td>0.877</td>\n      <td>0.546</td>\n      <td>1</td>\n      <td>-4.953</td>\n      <td>1</td>\n      <td>...</td>\n      <td>141.016</td>\n      <td>audio_features</td>\n      <td>4qYVsAquxc797qD5sDVdcJ</td>\n      <td>spotify:track:4qYVsAquxc797qD5sDVdcJ</td>\n      <td>https://api.spotify.com/v1/tracks/4qYVsAquxc79...</td>\n      <td>https://api.spotify.com/v1/audio-analysis/4qYV...</td>\n      <td>163520</td>\n      <td>4</td>\n      <td>SlimeBall 3</td>\n      <td>6NNqD3Z4ETW7AgEKjV6iII</td>\n    </tr>\n    <tr>\n      <th>2021-03-09 20:10:00</th>\n      <td>Victory Lap (feat. Stacy Barthe)___Nipsey Hussle</td>\n      <td>2021-03-09 20:10:00</td>\n      <td>Nipsey Hussle</td>\n      <td>Victory Lap (feat. Stacy Barthe)</td>\n      <td>1416</td>\n      <td>0.597</td>\n      <td>0.755</td>\n      <td>4</td>\n      <td>-2.209</td>\n      <td>0</td>\n      <td>...</td>\n      <td>89.146</td>\n      <td>audio_features</td>\n      <td>6hkQ6OQ6nhe7QCckH91aGa</td>\n      <td>spotify:track:6hkQ6OQ6nhe7QCckH91aGa</td>\n      <td>https://api.spotify.com/v1/tracks/6hkQ6OQ6nhe7...</td>\n      <td>https://api.spotify.com/v1/audio-analysis/6hkQ...</td>\n      <td>238333</td>\n      <td>4</td>\n      <td>Victory Lap</td>\n      <td>6rcbbhcm8Os7EiVRHP9Aef</td>\n    </tr>\n    <tr>\n      <th>2021-03-09 21:20:00</th>\n      <td>Peta (feat. Meek Mill)___Roddy Ricch</td>\n      <td>2021-03-09 21:20:00</td>\n      <td>Roddy Ricch</td>\n      <td>Peta (feat. Meek Mill)</td>\n      <td>198848</td>\n      <td>0.778</td>\n      <td>0.573</td>\n      <td>10</td>\n      <td>-7.339</td>\n      <td>0</td>\n      <td>...</td>\n      <td>140.114</td>\n      <td>audio_features</td>\n      <td>4bl1HBZliBuYpFZjWgefE4</td>\n      <td>spotify:track:4bl1HBZliBuYpFZjWgefE4</td>\n      <td>https://api.spotify.com/v1/tracks/4bl1HBZliBuY...</td>\n      <td>https://api.spotify.com/v1/audio-analysis/4bl1...</td>\n      <td>198849</td>\n      <td>4</td>\n      <td>Please Excuse Me For Being Antisocial</td>\n      <td>52u4anZbHd6UInnmHRFzba</td>\n    </tr>\n    <tr>\n      <th>2021-03-09 22:36:00</th>\n      <td>Finally___Lil 2z</td>\n      <td>2021-03-09 22:36:00</td>\n      <td>Lil 2z</td>\n      <td>Finally</td>\n      <td>179147</td>\n      <td>0.770</td>\n      <td>0.449</td>\n      <td>0</td>\n      <td>-8.783</td>\n      <td>1</td>\n      <td>...</td>\n      <td>130.092</td>\n      <td>audio_features</td>\n      <td>1YM7Y7W1e2nsAV19XhPKV5</td>\n      <td>spotify:track:1YM7Y7W1e2nsAV19XhPKV5</td>\n      <td>https://api.spotify.com/v1/tracks/1YM7Y7W1e2ns...</td>\n      <td>https://api.spotify.com/v1/audio-analysis/1YM7...</td>\n      <td>179148</td>\n      <td>4</td>\n      <td>Finally</td>\n      <td>2xrvEkrmnoaRSMuZD4haWZ</td>\n    </tr>\n  </tbody>\n</table>\n<p>2049 rows × 25 columns</p>\n</div>"
     },
     "metadata": {},
     "execution_count": 24
    }
   ],
   "source": [
    "duplicated_songs.groupby('datetime').first()"
   ]
  },
  {
   "cell_type": "code",
   "execution_count": null,
   "metadata": {},
   "outputs": [],
   "source": []
  }
 ]
}