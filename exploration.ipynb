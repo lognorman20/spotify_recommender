{
 "metadata": {
  "language_info": {
   "codemirror_mode": {
    "name": "ipython",
    "version": 3
   },
   "file_extension": ".py",
   "mimetype": "text/x-python",
   "name": "python",
   "nbconvert_exporter": "python",
   "pygments_lexer": "ipython3",
   "version": "3.8.5-final"
  },
  "orig_nbformat": 2,
  "kernelspec": {
   "name": "python3",
   "display_name": "Python 3.8.5 64-bit",
   "metadata": {
    "interpreter": {
     "hash": "082e9a3bcad0a290d0001e938aa60b99250c6c2ef33a923c00b70f9826caf4b7"
    }
   }
  }
 },
 "nbformat": 4,
 "nbformat_minor": 2,
 "cells": [
  {
   "cell_type": "code",
   "execution_count": 1,
   "metadata": {},
   "outputs": [],
   "source": [
    "import pandas as pd\n",
    "import numpy as np\n",
    "import seaborn as sns\n",
    "import matplotlib.pyplot as plt\n",
    "import matplotlib.ticker as plticker\n",
    "%matplotlib inline"
   ]
  },
  {
   "cell_type": "code",
   "execution_count": 11,
   "metadata": {},
   "outputs": [
    {
     "output_type": "execute_result",
     "data": {
      "text/plain": [
       "                                name           endTime   artistName  \\\n",
       "0  Move It (feat. Offset)___Lil Keed  2020-03-08 17:00     Lil Keed   \n",
       "1                 Way 2 Rare___LUCKI  2020-03-08 18:51        LUCKI   \n",
       "2          Cool It Now___New Edition  2020-03-08 19:00  New Edition   \n",
       "3                 Feeling Safe___DLJ  2020-03-09 00:38          DLJ   \n",
       "4                Tides Out___Astairé  2020-03-09 00:42      Astairé   \n",
       "\n",
       "                trackName  msPlayed             datetime  danceability  \\\n",
       "0  Move It (feat. Offset)     80666  2020-03-08 17:00:00         0.964   \n",
       "1              Way 2 Rare     22912  2020-03-08 18:51:00         0.644   \n",
       "2             Cool It Now    290069  2020-03-08 19:00:00         0.871   \n",
       "3            Feeling Safe    139834  2020-03-09 00:38:00         0.828   \n",
       "4               Tides Out    208636  2020-03-09 00:42:00         0.272   \n",
       "\n",
       "   energy  key  loudness  ...    tempo            type  \\\n",
       "0   0.390    1    -8.812  ...  122.990  audio_features   \n",
       "1   0.678   10    -8.986  ...  139.808  audio_features   \n",
       "2   0.532   10   -13.335  ...  116.574  audio_features   \n",
       "3   0.250    1   -15.887  ...  121.027  audio_features   \n",
       "4   0.876    4    -7.135  ...  102.718  audio_features   \n",
       "\n",
       "                       id                                   uri  \\\n",
       "0  6hgEAYd3CimkLdOa4VgwTw  spotify:track:6hgEAYd3CimkLdOa4VgwTw   \n",
       "1  53d1tlSLNunnKIQAHpHRSO  spotify:track:53d1tlSLNunnKIQAHpHRSO   \n",
       "2  5LkcAjqj5NOctNGi2qUjlw  spotify:track:5LkcAjqj5NOctNGi2qUjlw   \n",
       "3  79oR758W174pGqPA2Fky7j  spotify:track:79oR758W174pGqPA2Fky7j   \n",
       "4  2sXtpY9mCTXnUTUSQqrXbX  spotify:track:2sXtpY9mCTXnUTUSQqrXbX   \n",
       "\n",
       "                                          track_href  \\\n",
       "0  https://api.spotify.com/v1/tracks/6hgEAYd3Cimk...   \n",
       "1  https://api.spotify.com/v1/tracks/53d1tlSLNunn...   \n",
       "2  https://api.spotify.com/v1/tracks/5LkcAjqj5NOc...   \n",
       "3  https://api.spotify.com/v1/tracks/79oR758W174p...   \n",
       "4  https://api.spotify.com/v1/tracks/2sXtpY9mCTXn...   \n",
       "\n",
       "                                        analysis_url  duration_ms  \\\n",
       "0  https://api.spotify.com/v1/audio-analysis/6hgE...       171827   \n",
       "1  https://api.spotify.com/v1/audio-analysis/53d1...       123182   \n",
       "2  https://api.spotify.com/v1/audio-analysis/5Lkc...       347667   \n",
       "3  https://api.spotify.com/v1/audio-analysis/79oR...       139835   \n",
       "4  https://api.spotify.com/v1/audio-analysis/2sXt...       591693   \n",
       "\n",
       "  time_signature               albumName                 albumID  \n",
       "0              4  Move It (feat. Offset)  66BviQeZVng0GigsRwDsLq  \n",
       "1              4             Days B4 III  0p1QXY0M8LRXybgy9TchHE  \n",
       "2              4             New Edition  68moCweQx7EoMvHdZ6HzDc  \n",
       "3              4            Feeling Safe  6KHpq8tlBKcvmdw8sZHugV  \n",
       "4              4             The Outlaws  5NR8rq89bfEMA7JJGzfFkp  \n",
       "\n",
       "[5 rows x 26 columns]"
      ],
      "text/html": "<div>\n<style scoped>\n    .dataframe tbody tr th:only-of-type {\n        vertical-align: middle;\n    }\n\n    .dataframe tbody tr th {\n        vertical-align: top;\n    }\n\n    .dataframe thead th {\n        text-align: right;\n    }\n</style>\n<table border=\"1\" class=\"dataframe\">\n  <thead>\n    <tr style=\"text-align: right;\">\n      <th></th>\n      <th>name</th>\n      <th>endTime</th>\n      <th>artistName</th>\n      <th>trackName</th>\n      <th>msPlayed</th>\n      <th>datetime</th>\n      <th>danceability</th>\n      <th>energy</th>\n      <th>key</th>\n      <th>loudness</th>\n      <th>...</th>\n      <th>tempo</th>\n      <th>type</th>\n      <th>id</th>\n      <th>uri</th>\n      <th>track_href</th>\n      <th>analysis_url</th>\n      <th>duration_ms</th>\n      <th>time_signature</th>\n      <th>albumName</th>\n      <th>albumID</th>\n    </tr>\n  </thead>\n  <tbody>\n    <tr>\n      <th>0</th>\n      <td>Move It (feat. Offset)___Lil Keed</td>\n      <td>2020-03-08 17:00</td>\n      <td>Lil Keed</td>\n      <td>Move It (feat. Offset)</td>\n      <td>80666</td>\n      <td>2020-03-08 17:00:00</td>\n      <td>0.964</td>\n      <td>0.390</td>\n      <td>1</td>\n      <td>-8.812</td>\n      <td>...</td>\n      <td>122.990</td>\n      <td>audio_features</td>\n      <td>6hgEAYd3CimkLdOa4VgwTw</td>\n      <td>spotify:track:6hgEAYd3CimkLdOa4VgwTw</td>\n      <td>https://api.spotify.com/v1/tracks/6hgEAYd3Cimk...</td>\n      <td>https://api.spotify.com/v1/audio-analysis/6hgE...</td>\n      <td>171827</td>\n      <td>4</td>\n      <td>Move It (feat. Offset)</td>\n      <td>66BviQeZVng0GigsRwDsLq</td>\n    </tr>\n    <tr>\n      <th>1</th>\n      <td>Way 2 Rare___LUCKI</td>\n      <td>2020-03-08 18:51</td>\n      <td>LUCKI</td>\n      <td>Way 2 Rare</td>\n      <td>22912</td>\n      <td>2020-03-08 18:51:00</td>\n      <td>0.644</td>\n      <td>0.678</td>\n      <td>10</td>\n      <td>-8.986</td>\n      <td>...</td>\n      <td>139.808</td>\n      <td>audio_features</td>\n      <td>53d1tlSLNunnKIQAHpHRSO</td>\n      <td>spotify:track:53d1tlSLNunnKIQAHpHRSO</td>\n      <td>https://api.spotify.com/v1/tracks/53d1tlSLNunn...</td>\n      <td>https://api.spotify.com/v1/audio-analysis/53d1...</td>\n      <td>123182</td>\n      <td>4</td>\n      <td>Days B4 III</td>\n      <td>0p1QXY0M8LRXybgy9TchHE</td>\n    </tr>\n    <tr>\n      <th>2</th>\n      <td>Cool It Now___New Edition</td>\n      <td>2020-03-08 19:00</td>\n      <td>New Edition</td>\n      <td>Cool It Now</td>\n      <td>290069</td>\n      <td>2020-03-08 19:00:00</td>\n      <td>0.871</td>\n      <td>0.532</td>\n      <td>10</td>\n      <td>-13.335</td>\n      <td>...</td>\n      <td>116.574</td>\n      <td>audio_features</td>\n      <td>5LkcAjqj5NOctNGi2qUjlw</td>\n      <td>spotify:track:5LkcAjqj5NOctNGi2qUjlw</td>\n      <td>https://api.spotify.com/v1/tracks/5LkcAjqj5NOc...</td>\n      <td>https://api.spotify.com/v1/audio-analysis/5Lkc...</td>\n      <td>347667</td>\n      <td>4</td>\n      <td>New Edition</td>\n      <td>68moCweQx7EoMvHdZ6HzDc</td>\n    </tr>\n    <tr>\n      <th>3</th>\n      <td>Feeling Safe___DLJ</td>\n      <td>2020-03-09 00:38</td>\n      <td>DLJ</td>\n      <td>Feeling Safe</td>\n      <td>139834</td>\n      <td>2020-03-09 00:38:00</td>\n      <td>0.828</td>\n      <td>0.250</td>\n      <td>1</td>\n      <td>-15.887</td>\n      <td>...</td>\n      <td>121.027</td>\n      <td>audio_features</td>\n      <td>79oR758W174pGqPA2Fky7j</td>\n      <td>spotify:track:79oR758W174pGqPA2Fky7j</td>\n      <td>https://api.spotify.com/v1/tracks/79oR758W174p...</td>\n      <td>https://api.spotify.com/v1/audio-analysis/79oR...</td>\n      <td>139835</td>\n      <td>4</td>\n      <td>Feeling Safe</td>\n      <td>6KHpq8tlBKcvmdw8sZHugV</td>\n    </tr>\n    <tr>\n      <th>4</th>\n      <td>Tides Out___Astairé</td>\n      <td>2020-03-09 00:42</td>\n      <td>Astairé</td>\n      <td>Tides Out</td>\n      <td>208636</td>\n      <td>2020-03-09 00:42:00</td>\n      <td>0.272</td>\n      <td>0.876</td>\n      <td>4</td>\n      <td>-7.135</td>\n      <td>...</td>\n      <td>102.718</td>\n      <td>audio_features</td>\n      <td>2sXtpY9mCTXnUTUSQqrXbX</td>\n      <td>spotify:track:2sXtpY9mCTXnUTUSQqrXbX</td>\n      <td>https://api.spotify.com/v1/tracks/2sXtpY9mCTXn...</td>\n      <td>https://api.spotify.com/v1/audio-analysis/2sXt...</td>\n      <td>591693</td>\n      <td>4</td>\n      <td>The Outlaws</td>\n      <td>5NR8rq89bfEMA7JJGzfFkp</td>\n    </tr>\n  </tbody>\n</table>\n<p>5 rows × 26 columns</p>\n</div>"
     },
     "metadata": {},
     "execution_count": 11
    }
   ],
   "source": [
    "df = pd.read_csv('/Users/logno/Documents/GitHub/spotify_recommender/final.csv', index_col = 0)\n",
    "df.head()"
   ]
  },
  {
   "cell_type": "code",
   "execution_count": 15,
   "metadata": {},
   "outputs": [
    {
     "output_type": "execute_result",
     "data": {
      "text/plain": [
       "                                                    name           endTime  \\\n",
       "36219                 Bankroll (feat. Lil Keed)___88GLAM  2021-03-09 22:42   \n",
       "36220              No Time (feat. Gunna)___Playboi Carti  2021-03-09 22:46   \n",
       "36221                             Nascar Dashcar___LUCKI  2021-03-09 22:48   \n",
       "36222  Not A Rapper (feat. Lil Baby & Yo Gotti)___42 ...  2021-03-09 22:49   \n",
       "36223                      Right Through You___Yung Bans  2021-03-09 22:52   \n",
       "\n",
       "          artistName                                 trackName  msPlayed  \\\n",
       "36219         88GLAM                 Bankroll (feat. Lil Keed)    219920   \n",
       "36220  Playboi Carti                     No Time (feat. Gunna)    219453   \n",
       "36221          LUCKI                            Nascar Dashcar    116897   \n",
       "36222        42 Dugg  Not A Rapper (feat. Lil Baby & Yo Gotti)    107771   \n",
       "36223      Yung Bans                         Right Through You    150465   \n",
       "\n",
       "                  datetime  danceability  energy  key  loudness  ...    tempo  \\\n",
       "36219  2021-03-09 22:42:00         0.778   0.591   10    -8.835  ...  154.977   \n",
       "36220  2021-03-09 22:46:00         0.943   0.763    5    -5.568  ...  139.969   \n",
       "36221  2021-03-09 22:48:00         0.709   0.569    6    -9.269  ...   76.031   \n",
       "36222  2021-03-09 22:49:00         0.888   0.715    8    -3.377  ...  120.106   \n",
       "36223  2021-03-09 22:52:00         0.804   0.358    1   -10.999  ...  144.029   \n",
       "\n",
       "                 type                      id  \\\n",
       "36219  audio_features  4ATl9ijSiEgNs9XCpdPL2t   \n",
       "36220  audio_features  5pHJv0bgNsT9nPoK2BjNBn   \n",
       "36221  audio_features  1uJGWwJ0NZYvGD4kbKlOTl   \n",
       "36222  audio_features  0qnHywpYq7D2SGMpuHEasL   \n",
       "36223  audio_features  3PjeetzZNTIuWJGPcacvbS   \n",
       "\n",
       "                                        uri  \\\n",
       "36219  spotify:track:4ATl9ijSiEgNs9XCpdPL2t   \n",
       "36220  spotify:track:5pHJv0bgNsT9nPoK2BjNBn   \n",
       "36221  spotify:track:1uJGWwJ0NZYvGD4kbKlOTl   \n",
       "36222  spotify:track:0qnHywpYq7D2SGMpuHEasL   \n",
       "36223  spotify:track:3PjeetzZNTIuWJGPcacvbS   \n",
       "\n",
       "                                              track_href  \\\n",
       "36219  https://api.spotify.com/v1/tracks/4ATl9ijSiEgN...   \n",
       "36220  https://api.spotify.com/v1/tracks/5pHJv0bgNsT9...   \n",
       "36221  https://api.spotify.com/v1/tracks/1uJGWwJ0NZYv...   \n",
       "36222  https://api.spotify.com/v1/tracks/0qnHywpYq7D2...   \n",
       "36223  https://api.spotify.com/v1/tracks/3PjeetzZNTIu...   \n",
       "\n",
       "                                            analysis_url  duration_ms  \\\n",
       "36219  https://api.spotify.com/v1/audio-analysis/4ATl...       219920   \n",
       "36220  https://api.spotify.com/v1/audio-analysis/5pHJ...       219453   \n",
       "36221  https://api.spotify.com/v1/audio-analysis/1uJG...       116898   \n",
       "36222  https://api.spotify.com/v1/audio-analysis/0qnH...       107771   \n",
       "36223  https://api.spotify.com/v1/audio-analysis/3Pje...       150000   \n",
       "\n",
       "      time_signature          albumName                 albumID  \n",
       "36219              4           Bankroll  0BHoLb77mSCByEkoI0juyH  \n",
       "36220              4            Die Lit  7dAm8ShwJLFm9SaJ6Yc58O  \n",
       "36221              4     Nascar Dashcar  6vrHjmCAEiYOBHnNraoZiF  \n",
       "36222              4    Young & Turnt 2  0pdD5ojKQ5WdZRPBY5bfv4  \n",
       "36223              4  Right Through You  1gazzdNoCkfeMwUOWxe7S2  \n",
       "\n",
       "[5 rows x 26 columns]"
      ],
      "text/html": "<div>\n<style scoped>\n    .dataframe tbody tr th:only-of-type {\n        vertical-align: middle;\n    }\n\n    .dataframe tbody tr th {\n        vertical-align: top;\n    }\n\n    .dataframe thead th {\n        text-align: right;\n    }\n</style>\n<table border=\"1\" class=\"dataframe\">\n  <thead>\n    <tr style=\"text-align: right;\">\n      <th></th>\n      <th>name</th>\n      <th>endTime</th>\n      <th>artistName</th>\n      <th>trackName</th>\n      <th>msPlayed</th>\n      <th>datetime</th>\n      <th>danceability</th>\n      <th>energy</th>\n      <th>key</th>\n      <th>loudness</th>\n      <th>...</th>\n      <th>tempo</th>\n      <th>type</th>\n      <th>id</th>\n      <th>uri</th>\n      <th>track_href</th>\n      <th>analysis_url</th>\n      <th>duration_ms</th>\n      <th>time_signature</th>\n      <th>albumName</th>\n      <th>albumID</th>\n    </tr>\n  </thead>\n  <tbody>\n    <tr>\n      <th>36219</th>\n      <td>Bankroll (feat. Lil Keed)___88GLAM</td>\n      <td>2021-03-09 22:42</td>\n      <td>88GLAM</td>\n      <td>Bankroll (feat. Lil Keed)</td>\n      <td>219920</td>\n      <td>2021-03-09 22:42:00</td>\n      <td>0.778</td>\n      <td>0.591</td>\n      <td>10</td>\n      <td>-8.835</td>\n      <td>...</td>\n      <td>154.977</td>\n      <td>audio_features</td>\n      <td>4ATl9ijSiEgNs9XCpdPL2t</td>\n      <td>spotify:track:4ATl9ijSiEgNs9XCpdPL2t</td>\n      <td>https://api.spotify.com/v1/tracks/4ATl9ijSiEgN...</td>\n      <td>https://api.spotify.com/v1/audio-analysis/4ATl...</td>\n      <td>219920</td>\n      <td>4</td>\n      <td>Bankroll</td>\n      <td>0BHoLb77mSCByEkoI0juyH</td>\n    </tr>\n    <tr>\n      <th>36220</th>\n      <td>No Time (feat. Gunna)___Playboi Carti</td>\n      <td>2021-03-09 22:46</td>\n      <td>Playboi Carti</td>\n      <td>No Time (feat. Gunna)</td>\n      <td>219453</td>\n      <td>2021-03-09 22:46:00</td>\n      <td>0.943</td>\n      <td>0.763</td>\n      <td>5</td>\n      <td>-5.568</td>\n      <td>...</td>\n      <td>139.969</td>\n      <td>audio_features</td>\n      <td>5pHJv0bgNsT9nPoK2BjNBn</td>\n      <td>spotify:track:5pHJv0bgNsT9nPoK2BjNBn</td>\n      <td>https://api.spotify.com/v1/tracks/5pHJv0bgNsT9...</td>\n      <td>https://api.spotify.com/v1/audio-analysis/5pHJ...</td>\n      <td>219453</td>\n      <td>4</td>\n      <td>Die Lit</td>\n      <td>7dAm8ShwJLFm9SaJ6Yc58O</td>\n    </tr>\n    <tr>\n      <th>36221</th>\n      <td>Nascar Dashcar___LUCKI</td>\n      <td>2021-03-09 22:48</td>\n      <td>LUCKI</td>\n      <td>Nascar Dashcar</td>\n      <td>116897</td>\n      <td>2021-03-09 22:48:00</td>\n      <td>0.709</td>\n      <td>0.569</td>\n      <td>6</td>\n      <td>-9.269</td>\n      <td>...</td>\n      <td>76.031</td>\n      <td>audio_features</td>\n      <td>1uJGWwJ0NZYvGD4kbKlOTl</td>\n      <td>spotify:track:1uJGWwJ0NZYvGD4kbKlOTl</td>\n      <td>https://api.spotify.com/v1/tracks/1uJGWwJ0NZYv...</td>\n      <td>https://api.spotify.com/v1/audio-analysis/1uJG...</td>\n      <td>116898</td>\n      <td>4</td>\n      <td>Nascar Dashcar</td>\n      <td>6vrHjmCAEiYOBHnNraoZiF</td>\n    </tr>\n    <tr>\n      <th>36222</th>\n      <td>Not A Rapper (feat. Lil Baby &amp; Yo Gotti)___42 ...</td>\n      <td>2021-03-09 22:49</td>\n      <td>42 Dugg</td>\n      <td>Not A Rapper (feat. Lil Baby &amp; Yo Gotti)</td>\n      <td>107771</td>\n      <td>2021-03-09 22:49:00</td>\n      <td>0.888</td>\n      <td>0.715</td>\n      <td>8</td>\n      <td>-3.377</td>\n      <td>...</td>\n      <td>120.106</td>\n      <td>audio_features</td>\n      <td>0qnHywpYq7D2SGMpuHEasL</td>\n      <td>spotify:track:0qnHywpYq7D2SGMpuHEasL</td>\n      <td>https://api.spotify.com/v1/tracks/0qnHywpYq7D2...</td>\n      <td>https://api.spotify.com/v1/audio-analysis/0qnH...</td>\n      <td>107771</td>\n      <td>4</td>\n      <td>Young &amp; Turnt 2</td>\n      <td>0pdD5ojKQ5WdZRPBY5bfv4</td>\n    </tr>\n    <tr>\n      <th>36223</th>\n      <td>Right Through You___Yung Bans</td>\n      <td>2021-03-09 22:52</td>\n      <td>Yung Bans</td>\n      <td>Right Through You</td>\n      <td>150465</td>\n      <td>2021-03-09 22:52:00</td>\n      <td>0.804</td>\n      <td>0.358</td>\n      <td>1</td>\n      <td>-10.999</td>\n      <td>...</td>\n      <td>144.029</td>\n      <td>audio_features</td>\n      <td>3PjeetzZNTIuWJGPcacvbS</td>\n      <td>spotify:track:3PjeetzZNTIuWJGPcacvbS</td>\n      <td>https://api.spotify.com/v1/tracks/3PjeetzZNTIu...</td>\n      <td>https://api.spotify.com/v1/audio-analysis/3Pje...</td>\n      <td>150000</td>\n      <td>4</td>\n      <td>Right Through You</td>\n      <td>1gazzdNoCkfeMwUOWxe7S2</td>\n    </tr>\n  </tbody>\n</table>\n<p>5 rows × 26 columns</p>\n</div>"
     },
     "metadata": {},
     "execution_count": 15
    }
   ],
   "source": [
    "df.tail()"
   ]
  },
  {
   "cell_type": "code",
   "execution_count": 12,
   "metadata": {},
   "outputs": [
    {
     "output_type": "execute_result",
     "data": {
      "text/plain": [
       "(36224, 26)"
      ]
     },
     "metadata": {},
     "execution_count": 12
    }
   ],
   "source": [
    "df.shape"
   ]
  },
  {
   "cell_type": "code",
   "execution_count": 13,
   "metadata": {},
   "outputs": [
    {
     "output_type": "execute_result",
     "data": {
      "text/plain": [
       "Index(['name', 'endTime', 'artistName', 'trackName', 'msPlayed', 'datetime',\n",
       "       'danceability', 'energy', 'key', 'loudness', 'mode', 'speechiness',\n",
       "       'acousticness', 'instrumentalness', 'liveness', 'valence', 'tempo',\n",
       "       'type', 'id', 'uri', 'track_href', 'analysis_url', 'duration_ms',\n",
       "       'time_signature', 'albumName', 'albumID'],\n",
       "      dtype='object')"
      ]
     },
     "metadata": {},
     "execution_count": 13
    }
   ],
   "source": [
    "df.columns"
   ]
  },
  {
   "source": [
    "# Checking if these two columns are the same\n",
    "df[['msPlayed', 'duration_ms']] "
   ],
   "cell_type": "code",
   "metadata": {},
   "execution_count": 19,
   "outputs": [
    {
     "output_type": "execute_result",
     "data": {
      "text/plain": [
       "       msPlayed  duration_ms\n",
       "0         80666       171827\n",
       "1         22912       123182\n",
       "2        290069       347667\n",
       "3        139834       139835\n",
       "4        208636       591693\n",
       "...         ...          ...\n",
       "36219    219920       219920\n",
       "36220    219453       219453\n",
       "36221    116897       116898\n",
       "36222    107771       107771\n",
       "36223    150465       150000\n",
       "\n",
       "[36224 rows x 2 columns]"
      ],
      "text/html": "<div>\n<style scoped>\n    .dataframe tbody tr th:only-of-type {\n        vertical-align: middle;\n    }\n\n    .dataframe tbody tr th {\n        vertical-align: top;\n    }\n\n    .dataframe thead th {\n        text-align: right;\n    }\n</style>\n<table border=\"1\" class=\"dataframe\">\n  <thead>\n    <tr style=\"text-align: right;\">\n      <th></th>\n      <th>msPlayed</th>\n      <th>duration_ms</th>\n    </tr>\n  </thead>\n  <tbody>\n    <tr>\n      <th>0</th>\n      <td>80666</td>\n      <td>171827</td>\n    </tr>\n    <tr>\n      <th>1</th>\n      <td>22912</td>\n      <td>123182</td>\n    </tr>\n    <tr>\n      <th>2</th>\n      <td>290069</td>\n      <td>347667</td>\n    </tr>\n    <tr>\n      <th>3</th>\n      <td>139834</td>\n      <td>139835</td>\n    </tr>\n    <tr>\n      <th>4</th>\n      <td>208636</td>\n      <td>591693</td>\n    </tr>\n    <tr>\n      <th>...</th>\n      <td>...</td>\n      <td>...</td>\n    </tr>\n    <tr>\n      <th>36219</th>\n      <td>219920</td>\n      <td>219920</td>\n    </tr>\n    <tr>\n      <th>36220</th>\n      <td>219453</td>\n      <td>219453</td>\n    </tr>\n    <tr>\n      <th>36221</th>\n      <td>116897</td>\n      <td>116898</td>\n    </tr>\n    <tr>\n      <th>36222</th>\n      <td>107771</td>\n      <td>107771</td>\n    </tr>\n    <tr>\n      <th>36223</th>\n      <td>150465</td>\n      <td>150000</td>\n    </tr>\n  </tbody>\n</table>\n<p>36224 rows × 2 columns</p>\n</div>"
     },
     "metadata": {},
     "execution_count": 19
    }
   ]
  }
 ]
}