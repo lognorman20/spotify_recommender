{
 "metadata": {
  "language_info": {
   "codemirror_mode": {
    "name": "ipython",
    "version": 3
   },
   "file_extension": ".py",
   "mimetype": "text/x-python",
   "name": "python",
   "nbconvert_exporter": "python",
   "pygments_lexer": "ipython3",
   "version": "3.8.5-final"
  },
  "orig_nbformat": 2,
  "kernelspec": {
   "name": "python3",
   "display_name": "Python 3.8.5 64-bit",
   "metadata": {
    "interpreter": {
     "hash": "082e9a3bcad0a290d0001e938aa60b99250c6c2ef33a923c00b70f9826caf4b7"
    }
   }
  }
 },
 "nbformat": 4,
 "nbformat_minor": 2,
 "cells": [
  {
   "cell_type": "code",
   "execution_count": 1,
   "metadata": {},
   "outputs": [],
   "source": [
    "import pandas as pd\n",
    "import numpy as np\n",
    "import seaborn as sns\n",
    "import matplotlib.pyplot as plt\n",
    "import matplotlib.ticker as plticker\n",
    "%matplotlib inline"
   ]
  },
  {
   "cell_type": "code",
   "execution_count": 11,
   "metadata": {},
   "outputs": [
    {
     "output_type": "execute_result",
     "data": {
      "text/plain": [
       "                                name           endTime   artistName  \\\n",
       "0  Move It (feat. Offset)___Lil Keed  2020-03-08 17:00     Lil Keed   \n",
       "1                 Way 2 Rare___LUCKI  2020-03-08 18:51        LUCKI   \n",
       "2          Cool It Now___New Edition  2020-03-08 19:00  New Edition   \n",
       "3                 Feeling Safe___DLJ  2020-03-09 00:38          DLJ   \n",
       "4                Tides Out___Astairé  2020-03-09 00:42      Astairé   \n",
       "\n",
       "                trackName  msPlayed             datetime  danceability  \\\n",
       "0  Move It (feat. Offset)     80666  2020-03-08 17:00:00         0.964   \n",
       "1              Way 2 Rare     22912  2020-03-08 18:51:00         0.644   \n",
       "2             Cool It Now    290069  2020-03-08 19:00:00         0.871   \n",
       "3            Feeling Safe    139834  2020-03-09 00:38:00         0.828   \n",
       "4               Tides Out    208636  2020-03-09 00:42:00         0.272   \n",
       "\n",
       "   energy  key  loudness  ...    tempo            type  \\\n",
       "0   0.390    1    -8.812  ...  122.990  audio_features   \n",
       "1   0.678   10    -8.986  ...  139.808  audio_features   \n",
       "2   0.532   10   -13.335  ...  116.574  audio_features   \n",
       "3   0.250    1   -15.887  ...  121.027  audio_features   \n",
       "4   0.876    4    -7.135  ...  102.718  audio_features   \n",
       "\n",
       "                       id                                   uri  \\\n",
       "0  6hgEAYd3CimkLdOa4VgwTw  spotify:track:6hgEAYd3CimkLdOa4VgwTw   \n",
       "1  53d1tlSLNunnKIQAHpHRSO  spotify:track:53d1tlSLNunnKIQAHpHRSO   \n",
       "2  5LkcAjqj5NOctNGi2qUjlw  spotify:track:5LkcAjqj5NOctNGi2qUjlw   \n",
       "3  79oR758W174pGqPA2Fky7j  spotify:track:79oR758W174pGqPA2Fky7j   \n",
       "4  2sXtpY9mCTXnUTUSQqrXbX  spotify:track:2sXtpY9mCTXnUTUSQqrXbX   \n",
       "\n",
       "                                          track_href  \\\n",
       "0  https://api.spotify.com/v1/tracks/6hgEAYd3Cimk...   \n",
       "1  https://api.spotify.com/v1/tracks/53d1tlSLNunn...   \n",
       "2  https://api.spotify.com/v1/tracks/5LkcAjqj5NOc...   \n",
       "3  https://api.spotify.com/v1/tracks/79oR758W174p...   \n",
       "4  https://api.spotify.com/v1/tracks/2sXtpY9mCTXn...   \n",
       "\n",
       "                                        analysis_url  duration_ms  \\\n",
       "0  https://api.spotify.com/v1/audio-analysis/6hgE...       171827   \n",
       "1  https://api.spotify.com/v1/audio-analysis/53d1...       123182   \n",
       "2  https://api.spotify.com/v1/audio-analysis/5Lkc...       347667   \n",
       "3  https://api.spotify.com/v1/audio-analysis/79oR...       139835   \n",
       "4  https://api.spotify.com/v1/audio-analysis/2sXt...       591693   \n",
       "\n",
       "  time_signature               albumName                 albumID  \n",
       "0              4  Move It (feat. Offset)  66BviQeZVng0GigsRwDsLq  \n",
       "1              4             Days B4 III  0p1QXY0M8LRXybgy9TchHE  \n",
       "2              4             New Edition  68moCweQx7EoMvHdZ6HzDc  \n",
       "3              4            Feeling Safe  6KHpq8tlBKcvmdw8sZHugV  \n",
       "4              4             The Outlaws  5NR8rq89bfEMA7JJGzfFkp  \n",
       "\n",
       "[5 rows x 26 columns]"
      ],
      "text/html": "<div>\n<style scoped>\n    .dataframe tbody tr th:only-of-type {\n        vertical-align: middle;\n    }\n\n    .dataframe tbody tr th {\n        vertical-align: top;\n    }\n\n    .dataframe thead th {\n        text-align: right;\n    }\n</style>\n<table border=\"1\" class=\"dataframe\">\n  <thead>\n    <tr style=\"text-align: right;\">\n      <th></th>\n      <th>name</th>\n      <th>endTime</th>\n      <th>artistName</th>\n      <th>trackName</th>\n      <th>msPlayed</th>\n      <th>datetime</th>\n      <th>danceability</th>\n      <th>energy</th>\n      <th>key</th>\n      <th>loudness</th>\n      <th>...</th>\n      <th>tempo</th>\n      <th>type</th>\n      <th>id</th>\n      <th>uri</th>\n      <th>track_href</th>\n      <th>analysis_url</th>\n      <th>duration_ms</th>\n      <th>time_signature</th>\n      <th>albumName</th>\n      <th>albumID</th>\n    </tr>\n  </thead>\n  <tbody>\n    <tr>\n      <th>0</th>\n      <td>Move It (feat. Offset)___Lil Keed</td>\n      <td>2020-03-08 17:00</td>\n      <td>Lil Keed</td>\n      <td>Move It (feat. Offset)</td>\n      <td>80666</td>\n      <td>2020-03-08 17:00:00</td>\n      <td>0.964</td>\n      <td>0.390</td>\n      <td>1</td>\n      <td>-8.812</td>\n      <td>...</td>\n      <td>122.990</td>\n      <td>audio_features</td>\n      <td>6hgEAYd3CimkLdOa4VgwTw</td>\n      <td>spotify:track:6hgEAYd3CimkLdOa4VgwTw</td>\n      <td>https://api.spotify.com/v1/tracks/6hgEAYd3Cimk...</td>\n      <td>https://api.spotify.com/v1/audio-analysis/6hgE...</td>\n      <td>171827</td>\n      <td>4</td>\n      <td>Move It (feat. Offset)</td>\n      <td>66BviQeZVng0GigsRwDsLq</td>\n    </tr>\n    <tr>\n      <th>1</th>\n      <td>Way 2 Rare___LUCKI</td>\n      <td>2020-03-08 18:51</td>\n      <td>LUCKI</td>\n      <td>Way 2 Rare</td>\n      <td>22912</td>\n      <td>2020-03-08 18:51:00</td>\n      <td>0.644</td>\n      <td>0.678</td>\n      <td>10</td>\n      <td>-8.986</td>\n      <td>...</td>\n      <td>139.808</td>\n      <td>audio_features</td>\n      <td>53d1tlSLNunnKIQAHpHRSO</td>\n      <td>spotify:track:53d1tlSLNunnKIQAHpHRSO</td>\n      <td>https://api.spotify.com/v1/tracks/53d1tlSLNunn...</td>\n      <td>https://api.spotify.com/v1/audio-analysis/53d1...</td>\n      <td>123182</td>\n      <td>4</td>\n      <td>Days B4 III</td>\n      <td>0p1QXY0M8LRXybgy9TchHE</td>\n    </tr>\n    <tr>\n      <th>2</th>\n      <td>Cool It Now___New Edition</td>\n      <td>2020-03-08 19:00</td>\n      <td>New Edition</td>\n      <td>Cool It Now</td>\n      <td>290069</td>\n      <td>2020-03-08 19:00:00</td>\n      <td>0.871</td>\n      <td>0.532</td>\n      <td>10</td>\n      <td>-13.335</td>\n      <td>...</td>\n      <td>116.574</td>\n      <td>audio_features</td>\n      <td>5LkcAjqj5NOctNGi2qUjlw</td>\n      <td>spotify:track:5LkcAjqj5NOctNGi2qUjlw</td>\n      <td>https://api.spotify.com/v1/tracks/5LkcAjqj5NOc...</td>\n      <td>https://api.spotify.com/v1/audio-analysis/5Lkc...</td>\n      <td>347667</td>\n      <td>4</td>\n      <td>New Edition</td>\n      <td>68moCweQx7EoMvHdZ6HzDc</td>\n    </tr>\n    <tr>\n      <th>3</th>\n      <td>Feeling Safe___DLJ</td>\n      <td>2020-03-09 00:38</td>\n      <td>DLJ</td>\n      <td>Feeling Safe</td>\n      <td>139834</td>\n      <td>2020-03-09 00:38:00</td>\n      <td>0.828</td>\n      <td>0.250</td>\n      <td>1</td>\n      <td>-15.887</td>\n      <td>...</td>\n      <td>121.027</td>\n      <td>audio_features</td>\n      <td>79oR758W174pGqPA2Fky7j</td>\n      <td>spotify:track:79oR758W174pGqPA2Fky7j</td>\n      <td>https://api.spotify.com/v1/tracks/79oR758W174p...</td>\n      <td>https://api.spotify.com/v1/audio-analysis/79oR...</td>\n      <td>139835</td>\n      <td>4</td>\n      <td>Feeling Safe</td>\n      <td>6KHpq8tlBKcvmdw8sZHugV</td>\n    </tr>\n    <tr>\n      <th>4</th>\n      <td>Tides Out___Astairé</td>\n      <td>2020-03-09 00:42</td>\n      <td>Astairé</td>\n      <td>Tides Out</td>\n      <td>208636</td>\n      <td>2020-03-09 00:42:00</td>\n      <td>0.272</td>\n      <td>0.876</td>\n      <td>4</td>\n      <td>-7.135</td>\n      <td>...</td>\n      <td>102.718</td>\n      <td>audio_features</td>\n      <td>2sXtpY9mCTXnUTUSQqrXbX</td>\n      <td>spotify:track:2sXtpY9mCTXnUTUSQqrXbX</td>\n      <td>https://api.spotify.com/v1/tracks/2sXtpY9mCTXn...</td>\n      <td>https://api.spotify.com/v1/audio-analysis/2sXt...</td>\n      <td>591693</td>\n      <td>4</td>\n      <td>The Outlaws</td>\n      <td>5NR8rq89bfEMA7JJGzfFkp</td>\n    </tr>\n  </tbody>\n</table>\n<p>5 rows × 26 columns</p>\n</div>"
     },
     "metadata": {},
     "execution_count": 11
    }
   ],
   "source": [
    "df = pd.read_csv('/Users/logno/Documents/GitHub/spotify_recommender/final.csv', index_col = 0)\n",
    "df.head()"
   ]
  },
  {
   "source": [
    "## Data Cleaning & Comprehension"
   ],
   "cell_type": "markdown",
   "metadata": {}
  },
  {
   "cell_type": "code",
   "execution_count": 15,
   "metadata": {},
   "outputs": [
    {
     "output_type": "execute_result",
     "data": {
      "text/plain": [
       "                                                    name           endTime  \\\n",
       "36219                 Bankroll (feat. Lil Keed)___88GLAM  2021-03-09 22:42   \n",
       "36220              No Time (feat. Gunna)___Playboi Carti  2021-03-09 22:46   \n",
       "36221                             Nascar Dashcar___LUCKI  2021-03-09 22:48   \n",
       "36222  Not A Rapper (feat. Lil Baby & Yo Gotti)___42 ...  2021-03-09 22:49   \n",
       "36223                      Right Through You___Yung Bans  2021-03-09 22:52   \n",
       "\n",
       "          artistName                                 trackName  msPlayed  \\\n",
       "36219         88GLAM                 Bankroll (feat. Lil Keed)    219920   \n",
       "36220  Playboi Carti                     No Time (feat. Gunna)    219453   \n",
       "36221          LUCKI                            Nascar Dashcar    116897   \n",
       "36222        42 Dugg  Not A Rapper (feat. Lil Baby & Yo Gotti)    107771   \n",
       "36223      Yung Bans                         Right Through You    150465   \n",
       "\n",
       "                  datetime  danceability  energy  key  loudness  ...    tempo  \\\n",
       "36219  2021-03-09 22:42:00         0.778   0.591   10    -8.835  ...  154.977   \n",
       "36220  2021-03-09 22:46:00         0.943   0.763    5    -5.568  ...  139.969   \n",
       "36221  2021-03-09 22:48:00         0.709   0.569    6    -9.269  ...   76.031   \n",
       "36222  2021-03-09 22:49:00         0.888   0.715    8    -3.377  ...  120.106   \n",
       "36223  2021-03-09 22:52:00         0.804   0.358    1   -10.999  ...  144.029   \n",
       "\n",
       "                 type                      id  \\\n",
       "36219  audio_features  4ATl9ijSiEgNs9XCpdPL2t   \n",
       "36220  audio_features  5pHJv0bgNsT9nPoK2BjNBn   \n",
       "36221  audio_features  1uJGWwJ0NZYvGD4kbKlOTl   \n",
       "36222  audio_features  0qnHywpYq7D2SGMpuHEasL   \n",
       "36223  audio_features  3PjeetzZNTIuWJGPcacvbS   \n",
       "\n",
       "                                        uri  \\\n",
       "36219  spotify:track:4ATl9ijSiEgNs9XCpdPL2t   \n",
       "36220  spotify:track:5pHJv0bgNsT9nPoK2BjNBn   \n",
       "36221  spotify:track:1uJGWwJ0NZYvGD4kbKlOTl   \n",
       "36222  spotify:track:0qnHywpYq7D2SGMpuHEasL   \n",
       "36223  spotify:track:3PjeetzZNTIuWJGPcacvbS   \n",
       "\n",
       "                                              track_href  \\\n",
       "36219  https://api.spotify.com/v1/tracks/4ATl9ijSiEgN...   \n",
       "36220  https://api.spotify.com/v1/tracks/5pHJv0bgNsT9...   \n",
       "36221  https://api.spotify.com/v1/tracks/1uJGWwJ0NZYv...   \n",
       "36222  https://api.spotify.com/v1/tracks/0qnHywpYq7D2...   \n",
       "36223  https://api.spotify.com/v1/tracks/3PjeetzZNTIu...   \n",
       "\n",
       "                                            analysis_url  duration_ms  \\\n",
       "36219  https://api.spotify.com/v1/audio-analysis/4ATl...       219920   \n",
       "36220  https://api.spotify.com/v1/audio-analysis/5pHJ...       219453   \n",
       "36221  https://api.spotify.com/v1/audio-analysis/1uJG...       116898   \n",
       "36222  https://api.spotify.com/v1/audio-analysis/0qnH...       107771   \n",
       "36223  https://api.spotify.com/v1/audio-analysis/3Pje...       150000   \n",
       "\n",
       "      time_signature          albumName                 albumID  \n",
       "36219              4           Bankroll  0BHoLb77mSCByEkoI0juyH  \n",
       "36220              4            Die Lit  7dAm8ShwJLFm9SaJ6Yc58O  \n",
       "36221              4     Nascar Dashcar  6vrHjmCAEiYOBHnNraoZiF  \n",
       "36222              4    Young & Turnt 2  0pdD5ojKQ5WdZRPBY5bfv4  \n",
       "36223              4  Right Through You  1gazzdNoCkfeMwUOWxe7S2  \n",
       "\n",
       "[5 rows x 26 columns]"
      ],
      "text/html": "<div>\n<style scoped>\n    .dataframe tbody tr th:only-of-type {\n        vertical-align: middle;\n    }\n\n    .dataframe tbody tr th {\n        vertical-align: top;\n    }\n\n    .dataframe thead th {\n        text-align: right;\n    }\n</style>\n<table border=\"1\" class=\"dataframe\">\n  <thead>\n    <tr style=\"text-align: right;\">\n      <th></th>\n      <th>name</th>\n      <th>endTime</th>\n      <th>artistName</th>\n      <th>trackName</th>\n      <th>msPlayed</th>\n      <th>datetime</th>\n      <th>danceability</th>\n      <th>energy</th>\n      <th>key</th>\n      <th>loudness</th>\n      <th>...</th>\n      <th>tempo</th>\n      <th>type</th>\n      <th>id</th>\n      <th>uri</th>\n      <th>track_href</th>\n      <th>analysis_url</th>\n      <th>duration_ms</th>\n      <th>time_signature</th>\n      <th>albumName</th>\n      <th>albumID</th>\n    </tr>\n  </thead>\n  <tbody>\n    <tr>\n      <th>36219</th>\n      <td>Bankroll (feat. Lil Keed)___88GLAM</td>\n      <td>2021-03-09 22:42</td>\n      <td>88GLAM</td>\n      <td>Bankroll (feat. Lil Keed)</td>\n      <td>219920</td>\n      <td>2021-03-09 22:42:00</td>\n      <td>0.778</td>\n      <td>0.591</td>\n      <td>10</td>\n      <td>-8.835</td>\n      <td>...</td>\n      <td>154.977</td>\n      <td>audio_features</td>\n      <td>4ATl9ijSiEgNs9XCpdPL2t</td>\n      <td>spotify:track:4ATl9ijSiEgNs9XCpdPL2t</td>\n      <td>https://api.spotify.com/v1/tracks/4ATl9ijSiEgN...</td>\n      <td>https://api.spotify.com/v1/audio-analysis/4ATl...</td>\n      <td>219920</td>\n      <td>4</td>\n      <td>Bankroll</td>\n      <td>0BHoLb77mSCByEkoI0juyH</td>\n    </tr>\n    <tr>\n      <th>36220</th>\n      <td>No Time (feat. Gunna)___Playboi Carti</td>\n      <td>2021-03-09 22:46</td>\n      <td>Playboi Carti</td>\n      <td>No Time (feat. Gunna)</td>\n      <td>219453</td>\n      <td>2021-03-09 22:46:00</td>\n      <td>0.943</td>\n      <td>0.763</td>\n      <td>5</td>\n      <td>-5.568</td>\n      <td>...</td>\n      <td>139.969</td>\n      <td>audio_features</td>\n      <td>5pHJv0bgNsT9nPoK2BjNBn</td>\n      <td>spotify:track:5pHJv0bgNsT9nPoK2BjNBn</td>\n      <td>https://api.spotify.com/v1/tracks/5pHJv0bgNsT9...</td>\n      <td>https://api.spotify.com/v1/audio-analysis/5pHJ...</td>\n      <td>219453</td>\n      <td>4</td>\n      <td>Die Lit</td>\n      <td>7dAm8ShwJLFm9SaJ6Yc58O</td>\n    </tr>\n    <tr>\n      <th>36221</th>\n      <td>Nascar Dashcar___LUCKI</td>\n      <td>2021-03-09 22:48</td>\n      <td>LUCKI</td>\n      <td>Nascar Dashcar</td>\n      <td>116897</td>\n      <td>2021-03-09 22:48:00</td>\n      <td>0.709</td>\n      <td>0.569</td>\n      <td>6</td>\n      <td>-9.269</td>\n      <td>...</td>\n      <td>76.031</td>\n      <td>audio_features</td>\n      <td>1uJGWwJ0NZYvGD4kbKlOTl</td>\n      <td>spotify:track:1uJGWwJ0NZYvGD4kbKlOTl</td>\n      <td>https://api.spotify.com/v1/tracks/1uJGWwJ0NZYv...</td>\n      <td>https://api.spotify.com/v1/audio-analysis/1uJG...</td>\n      <td>116898</td>\n      <td>4</td>\n      <td>Nascar Dashcar</td>\n      <td>6vrHjmCAEiYOBHnNraoZiF</td>\n    </tr>\n    <tr>\n      <th>36222</th>\n      <td>Not A Rapper (feat. Lil Baby &amp; Yo Gotti)___42 ...</td>\n      <td>2021-03-09 22:49</td>\n      <td>42 Dugg</td>\n      <td>Not A Rapper (feat. Lil Baby &amp; Yo Gotti)</td>\n      <td>107771</td>\n      <td>2021-03-09 22:49:00</td>\n      <td>0.888</td>\n      <td>0.715</td>\n      <td>8</td>\n      <td>-3.377</td>\n      <td>...</td>\n      <td>120.106</td>\n      <td>audio_features</td>\n      <td>0qnHywpYq7D2SGMpuHEasL</td>\n      <td>spotify:track:0qnHywpYq7D2SGMpuHEasL</td>\n      <td>https://api.spotify.com/v1/tracks/0qnHywpYq7D2...</td>\n      <td>https://api.spotify.com/v1/audio-analysis/0qnH...</td>\n      <td>107771</td>\n      <td>4</td>\n      <td>Young &amp; Turnt 2</td>\n      <td>0pdD5ojKQ5WdZRPBY5bfv4</td>\n    </tr>\n    <tr>\n      <th>36223</th>\n      <td>Right Through You___Yung Bans</td>\n      <td>2021-03-09 22:52</td>\n      <td>Yung Bans</td>\n      <td>Right Through You</td>\n      <td>150465</td>\n      <td>2021-03-09 22:52:00</td>\n      <td>0.804</td>\n      <td>0.358</td>\n      <td>1</td>\n      <td>-10.999</td>\n      <td>...</td>\n      <td>144.029</td>\n      <td>audio_features</td>\n      <td>3PjeetzZNTIuWJGPcacvbS</td>\n      <td>spotify:track:3PjeetzZNTIuWJGPcacvbS</td>\n      <td>https://api.spotify.com/v1/tracks/3PjeetzZNTIu...</td>\n      <td>https://api.spotify.com/v1/audio-analysis/3Pje...</td>\n      <td>150000</td>\n      <td>4</td>\n      <td>Right Through You</td>\n      <td>1gazzdNoCkfeMwUOWxe7S2</td>\n    </tr>\n  </tbody>\n</table>\n<p>5 rows × 26 columns</p>\n</div>"
     },
     "metadata": {},
     "execution_count": 15
    }
   ],
   "source": [
    "df.tail()"
   ]
  },
  {
   "cell_type": "code",
   "execution_count": 12,
   "metadata": {},
   "outputs": [
    {
     "output_type": "execute_result",
     "data": {
      "text/plain": [
       "(36224, 26)"
      ]
     },
     "metadata": {},
     "execution_count": 12
    }
   ],
   "source": [
    "df.shape"
   ]
  },
  {
   "cell_type": "code",
   "execution_count": 13,
   "metadata": {},
   "outputs": [
    {
     "output_type": "execute_result",
     "data": {
      "text/plain": [
       "Index(['name', 'endTime', 'artistName', 'trackName', 'msPlayed', 'datetime',\n",
       "       'danceability', 'energy', 'key', 'loudness', 'mode', 'speechiness',\n",
       "       'acousticness', 'instrumentalness', 'liveness', 'valence', 'tempo',\n",
       "       'type', 'id', 'uri', 'track_href', 'analysis_url', 'duration_ms',\n",
       "       'time_signature', 'albumName', 'albumID'],\n",
       "      dtype='object')"
      ]
     },
     "metadata": {},
     "execution_count": 13
    }
   ],
   "source": [
    "df.columns"
   ]
  },
  {
   "source": [
    "# Checking if these two columns are the same\n",
    "df[['msPlayed', 'duration_ms']] "
   ],
   "cell_type": "code",
   "metadata": {},
   "execution_count": 19,
   "outputs": [
    {
     "output_type": "execute_result",
     "data": {
      "text/plain": [
       "       msPlayed  duration_ms\n",
       "0         80666       171827\n",
       "1         22912       123182\n",
       "2        290069       347667\n",
       "3        139834       139835\n",
       "4        208636       591693\n",
       "...         ...          ...\n",
       "36219    219920       219920\n",
       "36220    219453       219453\n",
       "36221    116897       116898\n",
       "36222    107771       107771\n",
       "36223    150465       150000\n",
       "\n",
       "[36224 rows x 2 columns]"
      ],
      "text/html": "<div>\n<style scoped>\n    .dataframe tbody tr th:only-of-type {\n        vertical-align: middle;\n    }\n\n    .dataframe tbody tr th {\n        vertical-align: top;\n    }\n\n    .dataframe thead th {\n        text-align: right;\n    }\n</style>\n<table border=\"1\" class=\"dataframe\">\n  <thead>\n    <tr style=\"text-align: right;\">\n      <th></th>\n      <th>msPlayed</th>\n      <th>duration_ms</th>\n    </tr>\n  </thead>\n  <tbody>\n    <tr>\n      <th>0</th>\n      <td>80666</td>\n      <td>171827</td>\n    </tr>\n    <tr>\n      <th>1</th>\n      <td>22912</td>\n      <td>123182</td>\n    </tr>\n    <tr>\n      <th>2</th>\n      <td>290069</td>\n      <td>347667</td>\n    </tr>\n    <tr>\n      <th>3</th>\n      <td>139834</td>\n      <td>139835</td>\n    </tr>\n    <tr>\n      <th>4</th>\n      <td>208636</td>\n      <td>591693</td>\n    </tr>\n    <tr>\n      <th>...</th>\n      <td>...</td>\n      <td>...</td>\n    </tr>\n    <tr>\n      <th>36219</th>\n      <td>219920</td>\n      <td>219920</td>\n    </tr>\n    <tr>\n      <th>36220</th>\n      <td>219453</td>\n      <td>219453</td>\n    </tr>\n    <tr>\n      <th>36221</th>\n      <td>116897</td>\n      <td>116898</td>\n    </tr>\n    <tr>\n      <th>36222</th>\n      <td>107771</td>\n      <td>107771</td>\n    </tr>\n    <tr>\n      <th>36223</th>\n      <td>150465</td>\n      <td>150000</td>\n    </tr>\n  </tbody>\n</table>\n<p>36224 rows × 2 columns</p>\n</div>"
     },
     "metadata": {},
     "execution_count": 19
    }
   ]
  },
  {
   "cell_type": "code",
   "execution_count": 20,
   "metadata": {},
   "outputs": [
    {
     "output_type": "execute_result",
     "data": {
      "text/plain": [
       "name                False\n",
       "endTime             False\n",
       "artistName          False\n",
       "trackName           False\n",
       "msPlayed            False\n",
       "datetime            False\n",
       "danceability        False\n",
       "energy              False\n",
       "key                 False\n",
       "loudness            False\n",
       "mode                False\n",
       "speechiness         False\n",
       "acousticness        False\n",
       "instrumentalness    False\n",
       "liveness            False\n",
       "valence             False\n",
       "tempo               False\n",
       "type                False\n",
       "id                  False\n",
       "uri                 False\n",
       "track_href          False\n",
       "analysis_url        False\n",
       "duration_ms         False\n",
       "time_signature      False\n",
       "albumName           False\n",
       "albumID             False\n",
       "dtype: bool"
      ]
     },
     "metadata": {},
     "execution_count": 20
    }
   ],
   "source": [
    "# Checking for null values\n",
    "df.isnull().any()"
   ]
  },
  {
   "cell_type": "code",
   "execution_count": 53,
   "metadata": {},
   "outputs": [
    {
     "output_type": "execute_result",
     "data": {
      "text/plain": [
       "name                 object\n",
       "endTime              object\n",
       "artistName           object\n",
       "trackName            object\n",
       "msPlayed              int64\n",
       "datetime             object\n",
       "danceability        float64\n",
       "energy              float64\n",
       "key                   int64\n",
       "loudness            float64\n",
       "mode                  int64\n",
       "speechiness         float64\n",
       "acousticness        float64\n",
       "instrumentalness    float64\n",
       "liveness            float64\n",
       "valence             float64\n",
       "tempo               float64\n",
       "type                 object\n",
       "id                   object\n",
       "uri                  object\n",
       "track_href           object\n",
       "analysis_url         object\n",
       "duration_ms           int64\n",
       "time_signature        int64\n",
       "albumName            object\n",
       "albumID              object\n",
       "dtype: object"
      ]
     },
     "metadata": {},
     "execution_count": 53
    }
   ],
   "source": [
    "df.dtypes"
   ]
  },
  {
   "cell_type": "code",
   "execution_count": 55,
   "metadata": {},
   "outputs": [
    {
     "output_type": "execute_result",
     "data": {
      "text/plain": [
       "                                                   name           endTime  \\\n",
       "28                                 I'm The Plug___Drake  2020-03-09 02:43   \n",
       "30         Almighty (feat. HoodRich Pablo Juan)___Gunna  2020-03-09 02:43   \n",
       "35                                Hoes Mad___Famous Dex  2020-03-09 02:55   \n",
       "36                                  Digits___Young Thug  2020-03-09 02:55   \n",
       "39                              M.... She Wrote___Tay-K  2020-03-09 03:01   \n",
       "...                                                 ...               ...   \n",
       "36095                                 Lost It___Cochise  2021-03-05 01:11   \n",
       "36108                            One Dolla___Young Nudy  2021-03-05 04:47   \n",
       "36164  Victory Lap (feat. Stacy Barthe)___Nipsey Hussle  2021-03-09 20:10   \n",
       "36185              Peta (feat. Meek Mill)___Roddy Ricch  2021-03-09 21:20   \n",
       "36217                                  Finally___Lil 2z  2021-03-09 22:36   \n",
       "\n",
       "          artistName                             trackName  msPlayed  \\\n",
       "28             Drake                          I'm The Plug      1365   \n",
       "30             Gunna  Almighty (feat. HoodRich Pablo Juan)      6165   \n",
       "35        Famous Dex                              Hoes Mad      1621   \n",
       "36        Young Thug                                Digits      1877   \n",
       "39             Tay-K                       M.... She Wrote      1365   \n",
       "...              ...                                   ...       ...   \n",
       "36095        Cochise                               Lost It      3691   \n",
       "36108     Young Nudy                             One Dolla      2965   \n",
       "36164  Nipsey Hussle      Victory Lap (feat. Stacy Barthe)      1416   \n",
       "36185    Roddy Ricch                Peta (feat. Meek Mill)    198848   \n",
       "36217         Lil 2z                               Finally    179147   \n",
       "\n",
       "                  datetime  danceability  energy  key  loudness  ...    tempo  \\\n",
       "28     2020-03-09 02:43:00         0.828   0.550    5    -9.158  ...  160.016   \n",
       "30     2020-03-09 02:43:00         0.952   0.334    1   -11.375  ...  117.977   \n",
       "35     2020-03-09 02:55:00         0.706   0.758    7    -7.543  ...  134.867   \n",
       "36     2020-03-09 02:55:00         0.769   0.632   10    -4.228  ...  131.932   \n",
       "39     2020-03-09 03:01:00         0.777   0.707    9    -4.850  ...  159.662   \n",
       "...                    ...           ...     ...  ...       ...  ...      ...   \n",
       "36095  2021-03-05 01:11:00         0.699   0.776    0    -7.353  ...  165.099   \n",
       "36108  2021-03-05 04:47:00         0.877   0.546    1    -4.953  ...  141.016   \n",
       "36164  2021-03-09 20:10:00         0.597   0.755    4    -2.209  ...   89.146   \n",
       "36185  2021-03-09 21:20:00         0.778   0.573   10    -7.339  ...  140.114   \n",
       "36217  2021-03-09 22:36:00         0.770   0.449    0    -8.783  ...  130.092   \n",
       "\n",
       "                 type                      id  \\\n",
       "28     audio_features  6bqtKURdSWkInAJHDkuaL0   \n",
       "30     audio_features  7tjXeAUgZEe2yE6nSOcqWA   \n",
       "35     audio_features  1u8kqieXwWHMnetFOk8rjg   \n",
       "36     audio_features  4cg1yakyRSIOjxKM2I7J1q   \n",
       "39     audio_features  1WRzux3cJRM9xRNN99QKgR   \n",
       "...               ...                     ...   \n",
       "36095  audio_features  77Vy7OnL35k3FgMcwT8646   \n",
       "36108  audio_features  4qYVsAquxc797qD5sDVdcJ   \n",
       "36164  audio_features  6hkQ6OQ6nhe7QCckH91aGa   \n",
       "36185  audio_features  4bl1HBZliBuYpFZjWgefE4   \n",
       "36217  audio_features  1YM7Y7W1e2nsAV19XhPKV5   \n",
       "\n",
       "                                        uri  \\\n",
       "28     spotify:track:6bqtKURdSWkInAJHDkuaL0   \n",
       "30     spotify:track:7tjXeAUgZEe2yE6nSOcqWA   \n",
       "35     spotify:track:1u8kqieXwWHMnetFOk8rjg   \n",
       "36     spotify:track:4cg1yakyRSIOjxKM2I7J1q   \n",
       "39     spotify:track:1WRzux3cJRM9xRNN99QKgR   \n",
       "...                                     ...   \n",
       "36095  spotify:track:77Vy7OnL35k3FgMcwT8646   \n",
       "36108  spotify:track:4qYVsAquxc797qD5sDVdcJ   \n",
       "36164  spotify:track:6hkQ6OQ6nhe7QCckH91aGa   \n",
       "36185  spotify:track:4bl1HBZliBuYpFZjWgefE4   \n",
       "36217  spotify:track:1YM7Y7W1e2nsAV19XhPKV5   \n",
       "\n",
       "                                              track_href  \\\n",
       "28     https://api.spotify.com/v1/tracks/6bqtKURdSWkI...   \n",
       "30     https://api.spotify.com/v1/tracks/7tjXeAUgZEe2...   \n",
       "35     https://api.spotify.com/v1/tracks/1u8kqieXwWHM...   \n",
       "36     https://api.spotify.com/v1/tracks/4cg1yakyRSIO...   \n",
       "39     https://api.spotify.com/v1/tracks/1WRzux3cJRM9...   \n",
       "...                                                  ...   \n",
       "36095  https://api.spotify.com/v1/tracks/77Vy7OnL35k3...   \n",
       "36108  https://api.spotify.com/v1/tracks/4qYVsAquxc79...   \n",
       "36164  https://api.spotify.com/v1/tracks/6hkQ6OQ6nhe7...   \n",
       "36185  https://api.spotify.com/v1/tracks/4bl1HBZliBuY...   \n",
       "36217  https://api.spotify.com/v1/tracks/1YM7Y7W1e2ns...   \n",
       "\n",
       "                                            analysis_url  duration_ms  \\\n",
       "28     https://api.spotify.com/v1/audio-analysis/6bqt...       180000   \n",
       "30     https://api.spotify.com/v1/audio-analysis/7tjX...       144407   \n",
       "35     https://api.spotify.com/v1/audio-analysis/1u8k...       190222   \n",
       "36     https://api.spotify.com/v1/audio-analysis/4cg1...       176387   \n",
       "39     https://api.spotify.com/v1/audio-analysis/1WRz...       112000   \n",
       "...                                                  ...          ...   \n",
       "36095  https://api.spotify.com/v1/audio-analysis/77Vy...       145120   \n",
       "36108  https://api.spotify.com/v1/audio-analysis/4qYV...       163520   \n",
       "36164  https://api.spotify.com/v1/audio-analysis/6hkQ...       238333   \n",
       "36185  https://api.spotify.com/v1/audio-analysis/4bl1...       198849   \n",
       "36217  https://api.spotify.com/v1/audio-analysis/1YM7...       179148   \n",
       "\n",
       "      time_signature                              albumName  \\\n",
       "28                 4                What A Time To Be Alive   \n",
       "30                 4                 Drip Season 3 (Deluxe)   \n",
       "35                 4                    Dexter's Laboratory   \n",
       "36                 4                         Slime Season 3   \n",
       "39                 4                      #SantanaWorld (+)   \n",
       "...              ...                                    ...   \n",
       "36095              4                                Lost It   \n",
       "36108              4                            SlimeBall 3   \n",
       "36164              4                            Victory Lap   \n",
       "36185              4  Please Excuse Me For Being Antisocial   \n",
       "36217              4                                Finally   \n",
       "\n",
       "                      albumID  \n",
       "28     1ozpmkWcCHwsQ4QTnxOOdT  \n",
       "30     5xtAAHr59ozJ2PQ67utEmi  \n",
       "35     0hJoy2A7e6kspDrkxpib3o  \n",
       "36     2z4c8M8aVzl7CTobIp36KF  \n",
       "39     1S7KWH0szrqutOvzsqxiBv  \n",
       "...                       ...  \n",
       "36095  2q4WKwPvJXjYZphj5D8lte  \n",
       "36108  6NNqD3Z4ETW7AgEKjV6iII  \n",
       "36164  6rcbbhcm8Os7EiVRHP9Aef  \n",
       "36185  52u4anZbHd6UInnmHRFzba  \n",
       "36217  2xrvEkrmnoaRSMuZD4haWZ  \n",
       "\n",
       "[3588 rows x 26 columns]"
      ],
      "text/html": "<div>\n<style scoped>\n    .dataframe tbody tr th:only-of-type {\n        vertical-align: middle;\n    }\n\n    .dataframe tbody tr th {\n        vertical-align: top;\n    }\n\n    .dataframe thead th {\n        text-align: right;\n    }\n</style>\n<table border=\"1\" class=\"dataframe\">\n  <thead>\n    <tr style=\"text-align: right;\">\n      <th></th>\n      <th>name</th>\n      <th>endTime</th>\n      <th>artistName</th>\n      <th>trackName</th>\n      <th>msPlayed</th>\n      <th>datetime</th>\n      <th>danceability</th>\n      <th>energy</th>\n      <th>key</th>\n      <th>loudness</th>\n      <th>...</th>\n      <th>tempo</th>\n      <th>type</th>\n      <th>id</th>\n      <th>uri</th>\n      <th>track_href</th>\n      <th>analysis_url</th>\n      <th>duration_ms</th>\n      <th>time_signature</th>\n      <th>albumName</th>\n      <th>albumID</th>\n    </tr>\n  </thead>\n  <tbody>\n    <tr>\n      <th>28</th>\n      <td>I'm The Plug___Drake</td>\n      <td>2020-03-09 02:43</td>\n      <td>Drake</td>\n      <td>I'm The Plug</td>\n      <td>1365</td>\n      <td>2020-03-09 02:43:00</td>\n      <td>0.828</td>\n      <td>0.550</td>\n      <td>5</td>\n      <td>-9.158</td>\n      <td>...</td>\n      <td>160.016</td>\n      <td>audio_features</td>\n      <td>6bqtKURdSWkInAJHDkuaL0</td>\n      <td>spotify:track:6bqtKURdSWkInAJHDkuaL0</td>\n      <td>https://api.spotify.com/v1/tracks/6bqtKURdSWkI...</td>\n      <td>https://api.spotify.com/v1/audio-analysis/6bqt...</td>\n      <td>180000</td>\n      <td>4</td>\n      <td>What A Time To Be Alive</td>\n      <td>1ozpmkWcCHwsQ4QTnxOOdT</td>\n    </tr>\n    <tr>\n      <th>30</th>\n      <td>Almighty (feat. HoodRich Pablo Juan)___Gunna</td>\n      <td>2020-03-09 02:43</td>\n      <td>Gunna</td>\n      <td>Almighty (feat. HoodRich Pablo Juan)</td>\n      <td>6165</td>\n      <td>2020-03-09 02:43:00</td>\n      <td>0.952</td>\n      <td>0.334</td>\n      <td>1</td>\n      <td>-11.375</td>\n      <td>...</td>\n      <td>117.977</td>\n      <td>audio_features</td>\n      <td>7tjXeAUgZEe2yE6nSOcqWA</td>\n      <td>spotify:track:7tjXeAUgZEe2yE6nSOcqWA</td>\n      <td>https://api.spotify.com/v1/tracks/7tjXeAUgZEe2...</td>\n      <td>https://api.spotify.com/v1/audio-analysis/7tjX...</td>\n      <td>144407</td>\n      <td>4</td>\n      <td>Drip Season 3 (Deluxe)</td>\n      <td>5xtAAHr59ozJ2PQ67utEmi</td>\n    </tr>\n    <tr>\n      <th>35</th>\n      <td>Hoes Mad___Famous Dex</td>\n      <td>2020-03-09 02:55</td>\n      <td>Famous Dex</td>\n      <td>Hoes Mad</td>\n      <td>1621</td>\n      <td>2020-03-09 02:55:00</td>\n      <td>0.706</td>\n      <td>0.758</td>\n      <td>7</td>\n      <td>-7.543</td>\n      <td>...</td>\n      <td>134.867</td>\n      <td>audio_features</td>\n      <td>1u8kqieXwWHMnetFOk8rjg</td>\n      <td>spotify:track:1u8kqieXwWHMnetFOk8rjg</td>\n      <td>https://api.spotify.com/v1/tracks/1u8kqieXwWHM...</td>\n      <td>https://api.spotify.com/v1/audio-analysis/1u8k...</td>\n      <td>190222</td>\n      <td>4</td>\n      <td>Dexter's Laboratory</td>\n      <td>0hJoy2A7e6kspDrkxpib3o</td>\n    </tr>\n    <tr>\n      <th>36</th>\n      <td>Digits___Young Thug</td>\n      <td>2020-03-09 02:55</td>\n      <td>Young Thug</td>\n      <td>Digits</td>\n      <td>1877</td>\n      <td>2020-03-09 02:55:00</td>\n      <td>0.769</td>\n      <td>0.632</td>\n      <td>10</td>\n      <td>-4.228</td>\n      <td>...</td>\n      <td>131.932</td>\n      <td>audio_features</td>\n      <td>4cg1yakyRSIOjxKM2I7J1q</td>\n      <td>spotify:track:4cg1yakyRSIOjxKM2I7J1q</td>\n      <td>https://api.spotify.com/v1/tracks/4cg1yakyRSIO...</td>\n      <td>https://api.spotify.com/v1/audio-analysis/4cg1...</td>\n      <td>176387</td>\n      <td>4</td>\n      <td>Slime Season 3</td>\n      <td>2z4c8M8aVzl7CTobIp36KF</td>\n    </tr>\n    <tr>\n      <th>39</th>\n      <td>M.... She Wrote___Tay-K</td>\n      <td>2020-03-09 03:01</td>\n      <td>Tay-K</td>\n      <td>M.... She Wrote</td>\n      <td>1365</td>\n      <td>2020-03-09 03:01:00</td>\n      <td>0.777</td>\n      <td>0.707</td>\n      <td>9</td>\n      <td>-4.850</td>\n      <td>...</td>\n      <td>159.662</td>\n      <td>audio_features</td>\n      <td>1WRzux3cJRM9xRNN99QKgR</td>\n      <td>spotify:track:1WRzux3cJRM9xRNN99QKgR</td>\n      <td>https://api.spotify.com/v1/tracks/1WRzux3cJRM9...</td>\n      <td>https://api.spotify.com/v1/audio-analysis/1WRz...</td>\n      <td>112000</td>\n      <td>4</td>\n      <td>#SantanaWorld (+)</td>\n      <td>1S7KWH0szrqutOvzsqxiBv</td>\n    </tr>\n    <tr>\n      <th>...</th>\n      <td>...</td>\n      <td>...</td>\n      <td>...</td>\n      <td>...</td>\n      <td>...</td>\n      <td>...</td>\n      <td>...</td>\n      <td>...</td>\n      <td>...</td>\n      <td>...</td>\n      <td>...</td>\n      <td>...</td>\n      <td>...</td>\n      <td>...</td>\n      <td>...</td>\n      <td>...</td>\n      <td>...</td>\n      <td>...</td>\n      <td>...</td>\n      <td>...</td>\n      <td>...</td>\n    </tr>\n    <tr>\n      <th>36095</th>\n      <td>Lost It___Cochise</td>\n      <td>2021-03-05 01:11</td>\n      <td>Cochise</td>\n      <td>Lost It</td>\n      <td>3691</td>\n      <td>2021-03-05 01:11:00</td>\n      <td>0.699</td>\n      <td>0.776</td>\n      <td>0</td>\n      <td>-7.353</td>\n      <td>...</td>\n      <td>165.099</td>\n      <td>audio_features</td>\n      <td>77Vy7OnL35k3FgMcwT8646</td>\n      <td>spotify:track:77Vy7OnL35k3FgMcwT8646</td>\n      <td>https://api.spotify.com/v1/tracks/77Vy7OnL35k3...</td>\n      <td>https://api.spotify.com/v1/audio-analysis/77Vy...</td>\n      <td>145120</td>\n      <td>4</td>\n      <td>Lost It</td>\n      <td>2q4WKwPvJXjYZphj5D8lte</td>\n    </tr>\n    <tr>\n      <th>36108</th>\n      <td>One Dolla___Young Nudy</td>\n      <td>2021-03-05 04:47</td>\n      <td>Young Nudy</td>\n      <td>One Dolla</td>\n      <td>2965</td>\n      <td>2021-03-05 04:47:00</td>\n      <td>0.877</td>\n      <td>0.546</td>\n      <td>1</td>\n      <td>-4.953</td>\n      <td>...</td>\n      <td>141.016</td>\n      <td>audio_features</td>\n      <td>4qYVsAquxc797qD5sDVdcJ</td>\n      <td>spotify:track:4qYVsAquxc797qD5sDVdcJ</td>\n      <td>https://api.spotify.com/v1/tracks/4qYVsAquxc79...</td>\n      <td>https://api.spotify.com/v1/audio-analysis/4qYV...</td>\n      <td>163520</td>\n      <td>4</td>\n      <td>SlimeBall 3</td>\n      <td>6NNqD3Z4ETW7AgEKjV6iII</td>\n    </tr>\n    <tr>\n      <th>36164</th>\n      <td>Victory Lap (feat. Stacy Barthe)___Nipsey Hussle</td>\n      <td>2021-03-09 20:10</td>\n      <td>Nipsey Hussle</td>\n      <td>Victory Lap (feat. Stacy Barthe)</td>\n      <td>1416</td>\n      <td>2021-03-09 20:10:00</td>\n      <td>0.597</td>\n      <td>0.755</td>\n      <td>4</td>\n      <td>-2.209</td>\n      <td>...</td>\n      <td>89.146</td>\n      <td>audio_features</td>\n      <td>6hkQ6OQ6nhe7QCckH91aGa</td>\n      <td>spotify:track:6hkQ6OQ6nhe7QCckH91aGa</td>\n      <td>https://api.spotify.com/v1/tracks/6hkQ6OQ6nhe7...</td>\n      <td>https://api.spotify.com/v1/audio-analysis/6hkQ...</td>\n      <td>238333</td>\n      <td>4</td>\n      <td>Victory Lap</td>\n      <td>6rcbbhcm8Os7EiVRHP9Aef</td>\n    </tr>\n    <tr>\n      <th>36185</th>\n      <td>Peta (feat. Meek Mill)___Roddy Ricch</td>\n      <td>2021-03-09 21:20</td>\n      <td>Roddy Ricch</td>\n      <td>Peta (feat. Meek Mill)</td>\n      <td>198848</td>\n      <td>2021-03-09 21:20:00</td>\n      <td>0.778</td>\n      <td>0.573</td>\n      <td>10</td>\n      <td>-7.339</td>\n      <td>...</td>\n      <td>140.114</td>\n      <td>audio_features</td>\n      <td>4bl1HBZliBuYpFZjWgefE4</td>\n      <td>spotify:track:4bl1HBZliBuYpFZjWgefE4</td>\n      <td>https://api.spotify.com/v1/tracks/4bl1HBZliBuY...</td>\n      <td>https://api.spotify.com/v1/audio-analysis/4bl1...</td>\n      <td>198849</td>\n      <td>4</td>\n      <td>Please Excuse Me For Being Antisocial</td>\n      <td>52u4anZbHd6UInnmHRFzba</td>\n    </tr>\n    <tr>\n      <th>36217</th>\n      <td>Finally___Lil 2z</td>\n      <td>2021-03-09 22:36</td>\n      <td>Lil 2z</td>\n      <td>Finally</td>\n      <td>179147</td>\n      <td>2021-03-09 22:36:00</td>\n      <td>0.770</td>\n      <td>0.449</td>\n      <td>0</td>\n      <td>-8.783</td>\n      <td>...</td>\n      <td>130.092</td>\n      <td>audio_features</td>\n      <td>1YM7Y7W1e2nsAV19XhPKV5</td>\n      <td>spotify:track:1YM7Y7W1e2nsAV19XhPKV5</td>\n      <td>https://api.spotify.com/v1/tracks/1YM7Y7W1e2ns...</td>\n      <td>https://api.spotify.com/v1/audio-analysis/1YM7...</td>\n      <td>179148</td>\n      <td>4</td>\n      <td>Finally</td>\n      <td>2xrvEkrmnoaRSMuZD4haWZ</td>\n    </tr>\n  </tbody>\n</table>\n<p>3588 rows × 26 columns</p>\n</div>"
     },
     "metadata": {},
     "execution_count": 55
    }
   ],
   "source": [
    "df.loc[df['trackName'].duplicated(keep=False) & df['msPlayed'].duplicated(keep=False) & df['time_signature'].duplicated(keep=False) & df['datetime'].duplicated(keep=False)]"
   ]
  },
  {
   "cell_type": "code",
   "execution_count": 46,
   "metadata": {},
   "outputs": [
    {
     "output_type": "error",
     "ename": "AttributeError",
     "evalue": "Can only use .dt accessor with datetimelike values",
     "traceback": [
      "\u001b[0;31m---------------------------------------------------------------------------\u001b[0m",
      "\u001b[0;31mAttributeError\u001b[0m                            Traceback (most recent call last)",
      "\u001b[0;32m<ipython-input-46-1ac82b86a70a>\u001b[0m in \u001b[0;36m<module>\u001b[0;34m\u001b[0m\n\u001b[0;32m----> 1\u001b[0;31m \u001b[0mdf\u001b[0m\u001b[0;34m.\u001b[0m\u001b[0mgroupby\u001b[0m\u001b[0;34m(\u001b[0m\u001b[0;34m[\u001b[0m\u001b[0mdf\u001b[0m\u001b[0;34m[\u001b[0m\u001b[0;34m'datetime'\u001b[0m\u001b[0;34m]\u001b[0m\u001b[0;34m.\u001b[0m\u001b[0mdt\u001b[0m\u001b[0;34m.\u001b[0m\u001b[0mdate\u001b[0m\u001b[0;34m]\u001b[0m\u001b[0;34m)\u001b[0m\u001b[0;34m\u001b[0m\u001b[0;34m\u001b[0m\u001b[0m\n\u001b[0m",
      "\u001b[0;32m/Library/Frameworks/Python.framework/Versions/3.8/lib/python3.8/site-packages/pandas/core/generic.py\u001b[0m in \u001b[0;36m__getattr__\u001b[0;34m(self, name)\u001b[0m\n\u001b[1;32m   5124\u001b[0m             \u001b[0;32mor\u001b[0m \u001b[0mname\u001b[0m \u001b[0;32min\u001b[0m \u001b[0mself\u001b[0m\u001b[0;34m.\u001b[0m\u001b[0m_accessors\u001b[0m\u001b[0;34m\u001b[0m\u001b[0;34m\u001b[0m\u001b[0m\n\u001b[1;32m   5125\u001b[0m         ):\n\u001b[0;32m-> 5126\u001b[0;31m             \u001b[0;32mreturn\u001b[0m \u001b[0mobject\u001b[0m\u001b[0;34m.\u001b[0m\u001b[0m__getattribute__\u001b[0m\u001b[0;34m(\u001b[0m\u001b[0mself\u001b[0m\u001b[0;34m,\u001b[0m \u001b[0mname\u001b[0m\u001b[0;34m)\u001b[0m\u001b[0;34m\u001b[0m\u001b[0;34m\u001b[0m\u001b[0m\n\u001b[0m\u001b[1;32m   5127\u001b[0m         \u001b[0;32melse\u001b[0m\u001b[0;34m:\u001b[0m\u001b[0;34m\u001b[0m\u001b[0;34m\u001b[0m\u001b[0m\n\u001b[1;32m   5128\u001b[0m             \u001b[0;32mif\u001b[0m \u001b[0mself\u001b[0m\u001b[0;34m.\u001b[0m\u001b[0m_info_axis\u001b[0m\u001b[0;34m.\u001b[0m\u001b[0m_can_hold_identifiers_and_holds_name\u001b[0m\u001b[0;34m(\u001b[0m\u001b[0mname\u001b[0m\u001b[0;34m)\u001b[0m\u001b[0;34m:\u001b[0m\u001b[0;34m\u001b[0m\u001b[0;34m\u001b[0m\u001b[0m\n",
      "\u001b[0;32m/Library/Frameworks/Python.framework/Versions/3.8/lib/python3.8/site-packages/pandas/core/accessor.py\u001b[0m in \u001b[0;36m__get__\u001b[0;34m(self, obj, cls)\u001b[0m\n\u001b[1;32m    185\u001b[0m             \u001b[0;31m# we're accessing the attribute of the class, i.e., Dataset.geo\u001b[0m\u001b[0;34m\u001b[0m\u001b[0;34m\u001b[0m\u001b[0;34m\u001b[0m\u001b[0m\n\u001b[1;32m    186\u001b[0m             \u001b[0;32mreturn\u001b[0m \u001b[0mself\u001b[0m\u001b[0;34m.\u001b[0m\u001b[0m_accessor\u001b[0m\u001b[0;34m\u001b[0m\u001b[0;34m\u001b[0m\u001b[0m\n\u001b[0;32m--> 187\u001b[0;31m         \u001b[0maccessor_obj\u001b[0m \u001b[0;34m=\u001b[0m \u001b[0mself\u001b[0m\u001b[0;34m.\u001b[0m\u001b[0m_accessor\u001b[0m\u001b[0;34m(\u001b[0m\u001b[0mobj\u001b[0m\u001b[0;34m)\u001b[0m\u001b[0;34m\u001b[0m\u001b[0;34m\u001b[0m\u001b[0m\n\u001b[0m\u001b[1;32m    188\u001b[0m         \u001b[0;31m# Replace the property with the accessor object. Inspired by:\u001b[0m\u001b[0;34m\u001b[0m\u001b[0;34m\u001b[0m\u001b[0;34m\u001b[0m\u001b[0m\n\u001b[1;32m    189\u001b[0m         \u001b[0;31m# https://www.pydanny.com/cached-property.html\u001b[0m\u001b[0;34m\u001b[0m\u001b[0;34m\u001b[0m\u001b[0;34m\u001b[0m\u001b[0m\n",
      "\u001b[0;32m/Library/Frameworks/Python.framework/Versions/3.8/lib/python3.8/site-packages/pandas/core/indexes/accessors.py\u001b[0m in \u001b[0;36m__new__\u001b[0;34m(cls, data)\u001b[0m\n\u001b[1;32m    478\u001b[0m             \u001b[0;32mreturn\u001b[0m \u001b[0mPeriodProperties\u001b[0m\u001b[0;34m(\u001b[0m\u001b[0mdata\u001b[0m\u001b[0;34m,\u001b[0m \u001b[0morig\u001b[0m\u001b[0;34m)\u001b[0m\u001b[0;34m\u001b[0m\u001b[0;34m\u001b[0m\u001b[0m\n\u001b[1;32m    479\u001b[0m \u001b[0;34m\u001b[0m\u001b[0m\n\u001b[0;32m--> 480\u001b[0;31m         \u001b[0;32mraise\u001b[0m \u001b[0mAttributeError\u001b[0m\u001b[0;34m(\u001b[0m\u001b[0;34m\"Can only use .dt accessor with datetimelike values\"\u001b[0m\u001b[0;34m)\u001b[0m\u001b[0;34m\u001b[0m\u001b[0;34m\u001b[0m\u001b[0m\n\u001b[0m",
      "\u001b[0;31mAttributeError\u001b[0m: Can only use .dt accessor with datetimelike values"
     ]
    }
   ],
   "source": [
    "df.groupby([df['datetime'].dt.date])"
   ]
  },
  {
   "cell_type": "code",
   "execution_count": null,
   "metadata": {},
   "outputs": [],
   "source": []
  }
 ]
}