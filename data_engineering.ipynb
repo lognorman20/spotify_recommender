{
 "metadata": {
  "language_info": {
   "codemirror_mode": {
    "name": "ipython",
    "version": 3
   },
   "file_extension": ".py",
   "mimetype": "text/x-python",
   "name": "python",
   "nbconvert_exporter": "python",
   "pygments_lexer": "ipython3",
   "version": "3.9.2-final"
  },
  "orig_nbformat": 2,
  "kernelspec": {
   "name": "python3",
   "display_name": "Python 3.9.2 64-bit ('spotify_recommender': conda)",
   "metadata": {
    "interpreter": {
     "hash": "2fce50c966ce3004344c1d0428fb8658cb2ec3c9dafd73e971076d9a0c6eeeea"
    }
   }
  }
 },
 "nbformat": 4,
 "nbformat_minor": 2,
 "cells": [
  {
   "cell_type": "code",
   "execution_count": 1,
   "metadata": {},
   "outputs": [],
   "source": [
    "import os\n",
    "import pandas as pd\n",
    "import numpy as np\n",
    "import json\n",
    "import matplotlib.pyplot as plt\n",
    "import seaborn as sns\n",
    "%config InlineBackend.figure_format ='retina'\n",
    "import random\n",
    "from functools import reduce\n",
    "import spotipy\n",
    "import spotipy.util as util\n",
    "from spotipy.oauth2 import SpotifyClientCredentials\n",
    "from spotipy import oauth2"
   ]
  },
  {
   "cell_type": "code",
   "execution_count": 2,
   "metadata": {},
   "outputs": [],
   "source": [
    "# Insert your Spotify username and the credentials that you obtained from spotify developer\n",
    "cid = 'XXXXXXXX'\n",
    "secret = 'XXXXXXXXX'\n",
    "redirect_uri='http://localhost:7777/callback'\n",
    "username = 'XXXXXXXX'"
   ]
  },
  {
   "cell_type": "code",
   "execution_count": 3,
   "metadata": {},
   "outputs": [],
   "source": [
    "# Once the Authorisation is complete, we just need to `sp` to call the APIs\n",
    "scope = 'user-top-read'\n",
    "token = util.prompt_for_user_token(username, scope, client_id=cid, client_secret=secret, redirect_uri=redirect_uri)\n",
    "\n",
    "if token:\n",
    "    sp = spotipy.Spotify(auth=token)\n",
    "else:\n",
    "    print(\"Can't get token for\", username)"
   ]
  },
  {
   "cell_type": "code",
   "execution_count": 4,
   "metadata": {},
   "outputs": [],
   "source": [
    "# Getting top 50 tracks from user\n",
    "results = sp.current_user_top_tracks(limit=50, offset=0,time_range='medium_term')"
   ]
  },
  {
   "cell_type": "code",
   "execution_count": 5,
   "metadata": {},
   "outputs": [
    {
     "output_type": "execute_result",
     "data": {
      "text/plain": [
       "      track_name          album                track_id            artist  \\\n",
       "0     Prada Tune   Almost There  23slkWAmlcxi3XcSwC9RLZ             LUCKI   \n",
       "1      Tarantino   Almost There  1CzjJzPOCLkZr2oqiOrXjc             LUCKI   \n",
       "2        Find Me        Find Me  0CfHAgwAGHXS0bG8MvI5TV  Working On Dying   \n",
       "3    Almost Back    Almost Back  176LvsOHbOXcgJgBBZ8wgs             LUCKI   \n",
       "4  TUNE & SCOTTY  TUNE & SCOTTY  6xczQgrsVl3jFO3eEoNMK0             LUCKI   \n",
       "\n",
       "   duration  popularity  \n",
       "0    122813          45  \n",
       "1    114773          38  \n",
       "2    136146          39  \n",
       "3     91585          47  \n",
       "4    138120          27  "
      ],
      "text/html": "<div>\n<style scoped>\n    .dataframe tbody tr th:only-of-type {\n        vertical-align: middle;\n    }\n\n    .dataframe tbody tr th {\n        vertical-align: top;\n    }\n\n    .dataframe thead th {\n        text-align: right;\n    }\n</style>\n<table border=\"1\" class=\"dataframe\">\n  <thead>\n    <tr style=\"text-align: right;\">\n      <th></th>\n      <th>track_name</th>\n      <th>album</th>\n      <th>track_id</th>\n      <th>artist</th>\n      <th>duration</th>\n      <th>popularity</th>\n    </tr>\n  </thead>\n  <tbody>\n    <tr>\n      <th>0</th>\n      <td>Prada Tune</td>\n      <td>Almost There</td>\n      <td>23slkWAmlcxi3XcSwC9RLZ</td>\n      <td>LUCKI</td>\n      <td>122813</td>\n      <td>45</td>\n    </tr>\n    <tr>\n      <th>1</th>\n      <td>Tarantino</td>\n      <td>Almost There</td>\n      <td>1CzjJzPOCLkZr2oqiOrXjc</td>\n      <td>LUCKI</td>\n      <td>114773</td>\n      <td>38</td>\n    </tr>\n    <tr>\n      <th>2</th>\n      <td>Find Me</td>\n      <td>Find Me</td>\n      <td>0CfHAgwAGHXS0bG8MvI5TV</td>\n      <td>Working On Dying</td>\n      <td>136146</td>\n      <td>39</td>\n    </tr>\n    <tr>\n      <th>3</th>\n      <td>Almost Back</td>\n      <td>Almost Back</td>\n      <td>176LvsOHbOXcgJgBBZ8wgs</td>\n      <td>LUCKI</td>\n      <td>91585</td>\n      <td>47</td>\n    </tr>\n    <tr>\n      <th>4</th>\n      <td>TUNE &amp; SCOTTY</td>\n      <td>TUNE &amp; SCOTTY</td>\n      <td>6xczQgrsVl3jFO3eEoNMK0</td>\n      <td>LUCKI</td>\n      <td>138120</td>\n      <td>27</td>\n    </tr>\n  </tbody>\n</table>\n</div>"
     },
     "metadata": {},
     "execution_count": 5
    }
   ],
   "source": [
    "# Convert it to Dataframe\n",
    "track_name = []\n",
    "track_id = []\n",
    "artist = []\n",
    "album = []\n",
    "duration = []\n",
    "popularity = []\n",
    "for i, items in enumerate(results['items']):\n",
    "        track_name.append(items['name'])\n",
    "        track_id.append(items['id'])\n",
    "        artist.append(items[\"artists\"][0][\"name\"])\n",
    "        duration.append(items[\"duration_ms\"])\n",
    "        album.append(items[\"album\"][\"name\"])\n",
    "        popularity.append(items[\"popularity\"])\n",
    "\n",
    "# Create the final df   \n",
    "df_favourite = pd.DataFrame({ \"track_name\": track_name, \n",
    "                             \"album\": album, \n",
    "                             \"track_id\": track_id,\n",
    "                             \"artist\": artist, \n",
    "                             \"duration\": duration, \n",
    "                             \"popularity\": popularity})\n",
    "\n",
    "df_favourite.head()"
   ]
  },
  {
   "cell_type": "code",
   "execution_count": 6,
   "metadata": {},
   "outputs": [],
   "source": [
    "# Getting features for each song\n",
    "def fetch_audio_features(sp, df):\n",
    "    playlist = df[['track_id','track_name']] \n",
    "    index = 0\n",
    "    audio_features = []\n",
    "    \n",
    "    # Make the API request\n",
    "    while index < playlist.shape[0]:\n",
    "        audio_features += sp.audio_features(playlist.iloc[index:index + 50, 0])\n",
    "        index += 50\n",
    "    \n",
    "    # Create an empty list to feed in different charactieritcs of the tracks\n",
    "    features_list = []\n",
    "    #Create keys-values of empty lists inside nested dictionary for album\n",
    "    for features in audio_features:\n",
    "        features_list.append([features['danceability'],\n",
    "                              features['acousticness'],\n",
    "                              features['energy'], \n",
    "                              features['tempo'],\n",
    "                              features['instrumentalness'], \n",
    "                              features['loudness'],\n",
    "                              features['liveness'],\n",
    "                              features['duration_ms'],\n",
    "                              features['key'],\n",
    "                              features['valence'],\n",
    "                              features['speechiness'],\n",
    "                              features['mode']\n",
    "                             ])\n",
    "    \n",
    "    df_audio_features = pd.DataFrame(features_list, columns=['danceability', 'acousticness', 'energy','tempo', \n",
    "                                                             'instrumentalness', 'loudness', 'liveness','duration_ms', 'key',\n",
    "                                                             'valence', 'speechiness', 'mode'])\n",
    "    \n",
    "    # Create the final df, using the 'track_id' as index for future reference\n",
    "    df_playlist_audio_features = pd.concat([playlist, df_audio_features], axis=1)\n",
    "    df_playlist_audio_features.set_index('track_name', inplace=True, drop=True)\n",
    "    return df_playlist_audio_features"
   ]
  },
  {
   "cell_type": "code",
   "execution_count": 7,
   "metadata": {},
   "outputs": [
    {
     "output_type": "execute_result",
     "data": {
      "text/plain": [
       "                             track_id  danceability  acousticness  energy  \\\n",
       "track_name                                                                  \n",
       "Prada Tune     23slkWAmlcxi3XcSwC9RLZ         0.706       0.02630   0.268   \n",
       "Tarantino      1CzjJzPOCLkZr2oqiOrXjc         0.790       0.04950   0.547   \n",
       "Find Me        0CfHAgwAGHXS0bG8MvI5TV         0.850       0.01840   0.540   \n",
       "Almost Back    176LvsOHbOXcgJgBBZ8wgs         0.764       0.00994   0.456   \n",
       "TUNE & SCOTTY  6xczQgrsVl3jFO3eEoNMK0         0.695       0.00137   0.672   \n",
       "\n",
       "                 tempo  instrumentalness  loudness  liveness  duration_ms  \\\n",
       "track_name                                                                  \n",
       "Prada Tune     130.048          0.000000   -13.220     0.239       122813   \n",
       "Tarantino      135.037          0.000000    -9.974     0.114       114773   \n",
       "Find Me        120.968          0.000000    -8.434     0.293       136146   \n",
       "Almost Back    125.965          0.925000   -10.227     0.111        91585   \n",
       "TUNE & SCOTTY  133.007          0.000002   -10.004     0.126       138120   \n",
       "\n",
       "               key  valence  speechiness  mode  \n",
       "track_name                                      \n",
       "Prada Tune       5    0.330       0.2870     0  \n",
       "Tarantino        4    0.318       0.1080     0  \n",
       "Find Me          1    0.470       0.2140     1  \n",
       "Almost Back      2    0.227       0.2640     1  \n",
       "TUNE & SCOTTY    8    0.406       0.0469     1  "
      ],
      "text/html": "<div>\n<style scoped>\n    .dataframe tbody tr th:only-of-type {\n        vertical-align: middle;\n    }\n\n    .dataframe tbody tr th {\n        vertical-align: top;\n    }\n\n    .dataframe thead th {\n        text-align: right;\n    }\n</style>\n<table border=\"1\" class=\"dataframe\">\n  <thead>\n    <tr style=\"text-align: right;\">\n      <th></th>\n      <th>track_id</th>\n      <th>danceability</th>\n      <th>acousticness</th>\n      <th>energy</th>\n      <th>tempo</th>\n      <th>instrumentalness</th>\n      <th>loudness</th>\n      <th>liveness</th>\n      <th>duration_ms</th>\n      <th>key</th>\n      <th>valence</th>\n      <th>speechiness</th>\n      <th>mode</th>\n    </tr>\n    <tr>\n      <th>track_name</th>\n      <th></th>\n      <th></th>\n      <th></th>\n      <th></th>\n      <th></th>\n      <th></th>\n      <th></th>\n      <th></th>\n      <th></th>\n      <th></th>\n      <th></th>\n      <th></th>\n      <th></th>\n    </tr>\n  </thead>\n  <tbody>\n    <tr>\n      <th>Prada Tune</th>\n      <td>23slkWAmlcxi3XcSwC9RLZ</td>\n      <td>0.706</td>\n      <td>0.02630</td>\n      <td>0.268</td>\n      <td>130.048</td>\n      <td>0.000000</td>\n      <td>-13.220</td>\n      <td>0.239</td>\n      <td>122813</td>\n      <td>5</td>\n      <td>0.330</td>\n      <td>0.2870</td>\n      <td>0</td>\n    </tr>\n    <tr>\n      <th>Tarantino</th>\n      <td>1CzjJzPOCLkZr2oqiOrXjc</td>\n      <td>0.790</td>\n      <td>0.04950</td>\n      <td>0.547</td>\n      <td>135.037</td>\n      <td>0.000000</td>\n      <td>-9.974</td>\n      <td>0.114</td>\n      <td>114773</td>\n      <td>4</td>\n      <td>0.318</td>\n      <td>0.1080</td>\n      <td>0</td>\n    </tr>\n    <tr>\n      <th>Find Me</th>\n      <td>0CfHAgwAGHXS0bG8MvI5TV</td>\n      <td>0.850</td>\n      <td>0.01840</td>\n      <td>0.540</td>\n      <td>120.968</td>\n      <td>0.000000</td>\n      <td>-8.434</td>\n      <td>0.293</td>\n      <td>136146</td>\n      <td>1</td>\n      <td>0.470</td>\n      <td>0.2140</td>\n      <td>1</td>\n    </tr>\n    <tr>\n      <th>Almost Back</th>\n      <td>176LvsOHbOXcgJgBBZ8wgs</td>\n      <td>0.764</td>\n      <td>0.00994</td>\n      <td>0.456</td>\n      <td>125.965</td>\n      <td>0.925000</td>\n      <td>-10.227</td>\n      <td>0.111</td>\n      <td>91585</td>\n      <td>2</td>\n      <td>0.227</td>\n      <td>0.2640</td>\n      <td>1</td>\n    </tr>\n    <tr>\n      <th>TUNE &amp; SCOTTY</th>\n      <td>6xczQgrsVl3jFO3eEoNMK0</td>\n      <td>0.695</td>\n      <td>0.00137</td>\n      <td>0.672</td>\n      <td>133.007</td>\n      <td>0.000002</td>\n      <td>-10.004</td>\n      <td>0.126</td>\n      <td>138120</td>\n      <td>8</td>\n      <td>0.406</td>\n      <td>0.0469</td>\n      <td>1</td>\n    </tr>\n  </tbody>\n</table>\n</div>"
     },
     "metadata": {},
     "execution_count": 7
    }
   ],
   "source": [
    "df_fav = fetch_audio_features(sp, df_favourite)\n",
    "df_fav.head()"
   ]
  },
  {
   "cell_type": "code",
   "execution_count": 8,
   "metadata": {},
   "outputs": [],
   "source": [
    "# Function to create a df of featured playlist\n",
    "def featured_playlists(sp):\n",
    "    id = []\n",
    "    name = []\n",
    "    num_tracks = []\n",
    " # For looping through the API request  \n",
    "    response = sp.featured_playlists(limit = 50)\n",
    "    playlists = response['playlists']\n",
    "    for i, items in enumerate(playlists['items']):\n",
    "        id.append(items['id'])\n",
    "        name.append(items['name'])\n",
    "        num_tracks.append(items['tracks']['total'])\n",
    "\n",
    "# Create the final df   \n",
    "    df_playlists = pd.DataFrame({\"id\":id, \"name\": name, \"#tracks\": num_tracks})\n",
    "    return df_playlists"
   ]
  },
  {
   "cell_type": "code",
   "execution_count": 9,
   "metadata": {},
   "outputs": [
    {
     "output_type": "execute_result",
     "data": {
      "text/plain": [
       "                       id                name  #tracks\n",
       "0  37i9dQZF1DXcBWIGoYBM5M    Today's Top Hits       50\n",
       "1  37i9dQZF1DWYBO1MoTDhZI          Good Vibes      133\n",
       "2  37i9dQZF1DXbYM3nMM0oPk        Mega Hit Mix       75\n",
       "3  37i9dQZF1DX0MLFaUdXnjA           Chill Pop      109\n",
       "4  37i9dQZF1DWTcqUzwhNmKv       Kickass Metal       60\n",
       "5  37i9dQZF1DX6GwdWRQMQpq      Feelin' Myself       50\n",
       "6  37i9dQZF1DWXRvPx3nttRN  Feel Good Acoustic      150\n",
       "7  37i9dQZF1DX4dyzvuaRJ0n                mint       88\n",
       "8  37i9dQZF1DXaz7CcPuNVXF          No Stress!       20\n",
       "9  37i9dQZF1DXdPec7aLTmlC         Happy Hits!      100"
      ],
      "text/html": "<div>\n<style scoped>\n    .dataframe tbody tr th:only-of-type {\n        vertical-align: middle;\n    }\n\n    .dataframe tbody tr th {\n        vertical-align: top;\n    }\n\n    .dataframe thead th {\n        text-align: right;\n    }\n</style>\n<table border=\"1\" class=\"dataframe\">\n  <thead>\n    <tr style=\"text-align: right;\">\n      <th></th>\n      <th>id</th>\n      <th>name</th>\n      <th>#tracks</th>\n    </tr>\n  </thead>\n  <tbody>\n    <tr>\n      <th>0</th>\n      <td>37i9dQZF1DXcBWIGoYBM5M</td>\n      <td>Today's Top Hits</td>\n      <td>50</td>\n    </tr>\n    <tr>\n      <th>1</th>\n      <td>37i9dQZF1DWYBO1MoTDhZI</td>\n      <td>Good Vibes</td>\n      <td>133</td>\n    </tr>\n    <tr>\n      <th>2</th>\n      <td>37i9dQZF1DXbYM3nMM0oPk</td>\n      <td>Mega Hit Mix</td>\n      <td>75</td>\n    </tr>\n    <tr>\n      <th>3</th>\n      <td>37i9dQZF1DX0MLFaUdXnjA</td>\n      <td>Chill Pop</td>\n      <td>109</td>\n    </tr>\n    <tr>\n      <th>4</th>\n      <td>37i9dQZF1DWTcqUzwhNmKv</td>\n      <td>Kickass Metal</td>\n      <td>60</td>\n    </tr>\n    <tr>\n      <th>5</th>\n      <td>37i9dQZF1DX6GwdWRQMQpq</td>\n      <td>Feelin' Myself</td>\n      <td>50</td>\n    </tr>\n    <tr>\n      <th>6</th>\n      <td>37i9dQZF1DWXRvPx3nttRN</td>\n      <td>Feel Good Acoustic</td>\n      <td>150</td>\n    </tr>\n    <tr>\n      <th>7</th>\n      <td>37i9dQZF1DX4dyzvuaRJ0n</td>\n      <td>mint</td>\n      <td>88</td>\n    </tr>\n    <tr>\n      <th>8</th>\n      <td>37i9dQZF1DXaz7CcPuNVXF</td>\n      <td>No Stress!</td>\n      <td>20</td>\n    </tr>\n    <tr>\n      <th>9</th>\n      <td>37i9dQZF1DXdPec7aLTmlC</td>\n      <td>Happy Hits!</td>\n      <td>100</td>\n    </tr>\n  </tbody>\n</table>\n</div>"
     },
     "metadata": {},
     "execution_count": 9
    }
   ],
   "source": [
    "df_playlists = featured_playlists(sp)\n",
    "df_playlists"
   ]
  },
  {
   "cell_type": "code",
   "execution_count": 10,
   "metadata": {},
   "outputs": [],
   "source": [
    "# Getting the tracks in each playlist\n",
    "def fetch_playlist_tracks(sp, playlistsid): \n",
    "    offset = 0\n",
    "    tracks = []\n",
    "    # Make the API request\n",
    "    while True:\n",
    "            content = sp.playlist_tracks( playlistsid, fields=None, limit=100, offset=offset, market=None)\n",
    "            tracks += content['items']\n",
    "        \n",
    "            if content['next'] is not None:\n",
    "                offset += 100\n",
    "            else:\n",
    "                break\n",
    "    \n",
    "    track_id = []\n",
    "    track_name = []\n",
    "    \n",
    "    for track in tracks:\n",
    "        track_id.append(track['track']['id'])\n",
    "        track_name.append(track['track']['name'])\n",
    "    \n",
    "# Create the final df\n",
    "    df_playlists_tracks = pd.DataFrame({\"track_id\":track_id, \"track_name\": track_name})\n",
    "    return df_playlists_tracks"
   ]
  },
  {
   "cell_type": "code",
   "execution_count": 11,
   "metadata": {},
   "outputs": [
    {
     "output_type": "execute_result",
     "data": {
      "text/plain": [
       "                 track_id                          track_name\n",
       "0  7vFv0yFGMJW3qVXbAd9BK9           Your Body Is a Wonderland\n",
       "1  24YvUQnuPL8gObCfSnAobH                    Hey, Soul Sister\n",
       "2  3rKYiySCDMUKTw5kGVVhaa  Marvin Gaye (feat. Meghan Trainor)\n",
       "3  0ULAOsJR33XQzlZVZvjGpB               Don't Dream It's Over\n",
       "4  0IktbUcnAGrvD03AWnz3Q8                               Lucky"
      ],
      "text/html": "<div>\n<style scoped>\n    .dataframe tbody tr th:only-of-type {\n        vertical-align: middle;\n    }\n\n    .dataframe tbody tr th {\n        vertical-align: top;\n    }\n\n    .dataframe thead th {\n        text-align: right;\n    }\n</style>\n<table border=\"1\" class=\"dataframe\">\n  <thead>\n    <tr style=\"text-align: right;\">\n      <th></th>\n      <th>track_id</th>\n      <th>track_name</th>\n    </tr>\n  </thead>\n  <tbody>\n    <tr>\n      <th>0</th>\n      <td>7vFv0yFGMJW3qVXbAd9BK9</td>\n      <td>Your Body Is a Wonderland</td>\n    </tr>\n    <tr>\n      <th>1</th>\n      <td>24YvUQnuPL8gObCfSnAobH</td>\n      <td>Hey, Soul Sister</td>\n    </tr>\n    <tr>\n      <th>2</th>\n      <td>3rKYiySCDMUKTw5kGVVhaa</td>\n      <td>Marvin Gaye (feat. Meghan Trainor)</td>\n    </tr>\n    <tr>\n      <th>3</th>\n      <td>0ULAOsJR33XQzlZVZvjGpB</td>\n      <td>Don't Dream It's Over</td>\n    </tr>\n    <tr>\n      <th>4</th>\n      <td>0IktbUcnAGrvD03AWnz3Q8</td>\n      <td>Lucky</td>\n    </tr>\n  </tbody>\n</table>\n</div>"
     },
     "metadata": {},
     "execution_count": 11
    }
   ],
   "source": [
    "fetch_playlist_tracks(sp,'37i9dQZF1DXaz7CcPuNVXF').head()"
   ]
  },
  {
   "cell_type": "code",
   "execution_count": 12,
   "metadata": {},
   "outputs": [],
   "source": [
    "# Function to fetch the audio features from the songs of given playlist\n",
    "def fetch_audio_features(sp, playlist_id):\n",
    "    playlist = fetch_playlist_tracks(sp, playlist_id)\n",
    "    index = 0\n",
    "    audio_features = []\n",
    "    \n",
    "    # Make the API request\n",
    "    while index < playlist.shape[0]:\n",
    "        audio_features += sp.audio_features(playlist.iloc[index:index + 50, 0])\n",
    "        index += 50\n",
    "    \n",
    "    # Create an empty list to feed in different charactieritcs of the tracks\n",
    "    features_list = []\n",
    "    #Create keys-values of empty lists inside nested dictionary for album\n",
    "    for features in audio_features:\n",
    "        features_list.append([features['danceability'],\n",
    "                              features['acousticness'],\n",
    "                              features['energy'], \n",
    "                              features['tempo'],\n",
    "                              features['instrumentalness'], \n",
    "                              features['loudness'],\n",
    "                              features['liveness'],\n",
    "                              features['duration_ms'],\n",
    "                              features['key'],\n",
    "                              features['valence'],\n",
    "                              features['speechiness']\n",
    "                             ])\n",
    "    \n",
    "    df_audio_features = pd.DataFrame(features_list, columns=['danceability', 'acousticness', 'energy','tempo', \n",
    "                                                             'instrumentalness', 'loudness', 'liveness', 'duration_ms', 'key',\n",
    "                                                             'valence', 'speechiness'])\n",
    "    \n",
    "    # Create the final df, using the 'track_id' as index for future reference\n",
    "    df_playlist_audio_features = pd.concat([playlist, df_audio_features], axis=1)\n",
    "    df_playlist_audio_features.set_index('track_name', inplace=True, drop=True)\n",
    "    return df_playlist_audio_features\n"
   ]
  },
  {
   "cell_type": "code",
   "execution_count": 13,
   "metadata": {},
   "outputs": [
    {
     "output_type": "stream",
     "name": "stdout",
     "text": [
      "Create df_37i9dQZF1DXcBWIGoYBM5M = fetch_audio_features(sp, playlist)\n",
      "Create df_37i9dQZF1DWYBO1MoTDhZI = fetch_audio_features(sp, playlist)\n",
      "Create df_37i9dQZF1DXbYM3nMM0oPk = fetch_audio_features(sp, playlist)\n",
      "Create df_37i9dQZF1DX0MLFaUdXnjA = fetch_audio_features(sp, playlist)\n",
      "Create df_37i9dQZF1DWTcqUzwhNmKv = fetch_audio_features(sp, playlist)\n",
      "Create df_37i9dQZF1DX6GwdWRQMQpq = fetch_audio_features(sp, playlist)\n",
      "Create df_37i9dQZF1DWXRvPx3nttRN = fetch_audio_features(sp, playlist)\n",
      "Create df_37i9dQZF1DX4dyzvuaRJ0n = fetch_audio_features(sp, playlist)\n",
      "playlist with id 37i9dQZF1DX4dyzvuaRJ0n is not valid, skiping \n",
      "Create df_37i9dQZF1DXaz7CcPuNVXF = fetch_audio_features(sp, playlist)\n",
      "Create df_37i9dQZF1DXdPec7aLTmlC = fetch_audio_features(sp, playlist)\n"
     ]
    }
   ],
   "source": [
    "# Build the dtaframe froms the playlists\n",
    "for i, playlist in enumerate(df_playlists['id']):\n",
    "    try:\n",
    "        string_command = \"df_{} = fetch_audio_features(sp, playlist)\".format(playlist)\n",
    "        print(\"Create {}\".format(string_command))\n",
    "        exec(string_command)\n",
    "    except:\n",
    "        print(\"playlist with id {} is not valid, skiping \".format(playlist))\n",
    "        pass\n"
   ]
  },
  {
   "cell_type": "code",
   "execution_count": 20,
   "metadata": {},
   "outputs": [],
   "source": [
    "# To understand the playlist, it would be useful to get the average value for each audio feature\n",
    "def fetch_audio_features_mean(sp, playlist_id):\n",
    "    Playlist = fetch_audio_features(sp, playlist_id)\n",
    "    return pd.DataFrame(Playlist.mean(), columns= [playlist_id])"
   ]
  },
  {
   "cell_type": "code",
   "execution_count": 21,
   "metadata": {},
   "outputs": [
    {
     "output_type": "execute_result",
     "data": {
      "text/plain": [
       "                  37i9dQZF1DX0MLFaUdXnjA\n",
       "danceability                    0.605716\n",
       "acousticness                    0.459792\n",
       "energy                          0.465119\n",
       "tempo                         117.807000\n",
       "instrumentalness                0.005687"
      ],
      "text/html": "<div>\n<style scoped>\n    .dataframe tbody tr th:only-of-type {\n        vertical-align: middle;\n    }\n\n    .dataframe tbody tr th {\n        vertical-align: top;\n    }\n\n    .dataframe thead th {\n        text-align: right;\n    }\n</style>\n<table border=\"1\" class=\"dataframe\">\n  <thead>\n    <tr style=\"text-align: right;\">\n      <th></th>\n      <th>37i9dQZF1DX0MLFaUdXnjA</th>\n    </tr>\n  </thead>\n  <tbody>\n    <tr>\n      <th>danceability</th>\n      <td>0.605716</td>\n    </tr>\n    <tr>\n      <th>acousticness</th>\n      <td>0.459792</td>\n    </tr>\n    <tr>\n      <th>energy</th>\n      <td>0.465119</td>\n    </tr>\n    <tr>\n      <th>tempo</th>\n      <td>117.807000</td>\n    </tr>\n    <tr>\n      <th>instrumentalness</th>\n      <td>0.005687</td>\n    </tr>\n  </tbody>\n</table>\n</div>"
     },
     "metadata": {},
     "execution_count": 21
    }
   ],
   "source": [
    "df = fetch_audio_features_mean(sp, '37i9dQZF1DX0MLFaUdXnjA')\n",
    "df.head()"
   ]
  },
  {
   "cell_type": "code",
   "execution_count": null,
   "metadata": {},
   "outputs": [],
   "source": []
  }
 ]
}