{
 "metadata": {
  "language_info": {
   "codemirror_mode": {
    "name": "ipython",
    "version": 3
   },
   "file_extension": ".py",
   "mimetype": "text/x-python",
   "name": "python",
   "nbconvert_exporter": "python",
   "pygments_lexer": "ipython3",
   "version": "3.9.2-final"
  },
  "orig_nbformat": 2,
  "kernelspec": {
   "name": "python3",
   "display_name": "Python 3",
   "language": "python"
  }
 },
 "nbformat": 4,
 "nbformat_minor": 2,
 "cells": [
  {
   "cell_type": "code",
   "execution_count": 1,
   "metadata": {},
   "outputs": [],
   "source": [
    "import os\n",
    "import pandas as pd\n",
    "import numpy as np\n",
    "import json\n",
    "import matplotlib.pyplot as plt\n",
    "import seaborn as sns\n",
    "%config InlineBackend.figure_format ='retina'\n",
    "import random\n",
    "from functools import reduce\n",
    "import spotipy\n",
    "import spotipy.util as util\n",
    "from spotipy.oauth2 import SpotifyClientCredentials\n",
    "from spotipy import oauth2"
   ]
  },
  {
   "cell_type": "code",
   "execution_count": 2,
   "metadata": {},
   "outputs": [],
   "source": [
    "# Insert your Spotify username and the credentials that you obtained from spotify developer\n",
    "cid = 'XXXXXXX'\n",
    "secret = 'XXXXXXX'\n",
    "redirect_uri='http://localhost:7777/callback'\n",
    "username = 'XXXXXXXX'"
   ]
  },
  {
   "cell_type": "code",
   "execution_count": 3,
   "metadata": {},
   "outputs": [],
   "source": [
    "# Once the Authorisation is complete, we just need to `sp` to call the APIs\n",
    "scope = 'user-top-read'\n",
    "token = util.prompt_for_user_token(username, scope, client_id=cid, client_secret=secret, redirect_uri=redirect_uri)\n",
    "\n",
    "if token:\n",
    "    sp = spotipy.Spotify(auth=token)\n",
    "else:\n",
    "    print(\"Can't get token for\", username)"
   ]
  },
  {
   "cell_type": "code",
   "execution_count": 4,
   "metadata": {},
   "outputs": [],
   "source": [
    "# Getting top 1000 tracks from user\n",
    "results = sp.current_user_top_tracks(limit=1000, offset=0,time_range='short_term')"
   ]
  },
  {
   "cell_type": "code",
   "execution_count": 5,
   "metadata": {},
   "outputs": [
    {
     "output_type": "execute_result",
     "data": {
      "text/plain": [
       "           track_name                                         album  \\\n",
       "0    Feels Like Death                              Feels Like Death   \n",
       "1  Deep End Freestyle  Sleepy Hallow Presents: Sleepy For President   \n",
       "2           Glory Boy                                    Freewave 3   \n",
       "3               Place                               Whole Lotta Red   \n",
       "4               Faith                                         Faith   \n",
       "\n",
       "                 track_id         artist  duration  popularity  \n",
       "0  03vMyCyCK7pVWjC1i1zur0    Levi Carter    237505          44  \n",
       "1  2AlYncTpVHKwHb55F9lF6O  Sleepy Hallow    115200          75  \n",
       "2  5LpnrXjrt0BOU0iOGH78UN          LUCKI    111048          40  \n",
       "3  1Bg2CNZw6S4e9cGWPmi0uI  Playboi Carti    117239          69  \n",
       "4  0TqNfrOY2IrpFRI2zxsMq4          LUCKI    107467          36  "
      ],
      "text/html": "<div>\n<style scoped>\n    .dataframe tbody tr th:only-of-type {\n        vertical-align: middle;\n    }\n\n    .dataframe tbody tr th {\n        vertical-align: top;\n    }\n\n    .dataframe thead th {\n        text-align: right;\n    }\n</style>\n<table border=\"1\" class=\"dataframe\">\n  <thead>\n    <tr style=\"text-align: right;\">\n      <th></th>\n      <th>track_name</th>\n      <th>album</th>\n      <th>track_id</th>\n      <th>artist</th>\n      <th>duration</th>\n      <th>popularity</th>\n    </tr>\n  </thead>\n  <tbody>\n    <tr>\n      <th>0</th>\n      <td>Feels Like Death</td>\n      <td>Feels Like Death</td>\n      <td>03vMyCyCK7pVWjC1i1zur0</td>\n      <td>Levi Carter</td>\n      <td>237505</td>\n      <td>44</td>\n    </tr>\n    <tr>\n      <th>1</th>\n      <td>Deep End Freestyle</td>\n      <td>Sleepy Hallow Presents: Sleepy For President</td>\n      <td>2AlYncTpVHKwHb55F9lF6O</td>\n      <td>Sleepy Hallow</td>\n      <td>115200</td>\n      <td>75</td>\n    </tr>\n    <tr>\n      <th>2</th>\n      <td>Glory Boy</td>\n      <td>Freewave 3</td>\n      <td>5LpnrXjrt0BOU0iOGH78UN</td>\n      <td>LUCKI</td>\n      <td>111048</td>\n      <td>40</td>\n    </tr>\n    <tr>\n      <th>3</th>\n      <td>Place</td>\n      <td>Whole Lotta Red</td>\n      <td>1Bg2CNZw6S4e9cGWPmi0uI</td>\n      <td>Playboi Carti</td>\n      <td>117239</td>\n      <td>69</td>\n    </tr>\n    <tr>\n      <th>4</th>\n      <td>Faith</td>\n      <td>Faith</td>\n      <td>0TqNfrOY2IrpFRI2zxsMq4</td>\n      <td>LUCKI</td>\n      <td>107467</td>\n      <td>36</td>\n    </tr>\n  </tbody>\n</table>\n</div>"
     },
     "metadata": {},
     "execution_count": 5
    }
   ],
   "source": [
    "# Convert it to Dataframe\n",
    "track_name = []\n",
    "track_id = []\n",
    "artist = []\n",
    "album = []\n",
    "duration = []\n",
    "popularity = []\n",
    "for i, items in enumerate(results['items']):\n",
    "        track_name.append(items['name'])\n",
    "        track_id.append(items['id'])\n",
    "        artist.append(items[\"artists\"][0][\"name\"])\n",
    "        duration.append(items[\"duration_ms\"])\n",
    "        album.append(items[\"album\"][\"name\"])\n",
    "        popularity.append(items[\"popularity\"])\n",
    "\n",
    "# Create the final df   \n",
    "df_favourite = pd.DataFrame({ \"track_name\": track_name, \n",
    "                             \"album\": album, \n",
    "                             \"track_id\": track_id,\n",
    "                             \"artist\": artist, \n",
    "                             \"duration\": duration, \n",
    "                             \"popularity\": popularity})\n",
    "\n",
    "df_favourite.head()"
   ]
  },
  {
   "cell_type": "code",
   "execution_count": 6,
   "metadata": {},
   "outputs": [],
   "source": [
    "# Getting features for each song\n",
    "def fetch_audio_features(sp, df):\n",
    "    playlist = df[['track_id','track_name']] \n",
    "    index = 0\n",
    "    audio_features = []\n",
    "    \n",
    "    # Make the API request\n",
    "    while index < playlist.shape[0]:\n",
    "        audio_features += sp.audio_features(playlist.iloc[index:index + 50, 0])\n",
    "        index += 50\n",
    "    \n",
    "    # Create an empty list to feed in different charactieritcs of the tracks\n",
    "    features_list = []\n",
    "    #Create keys-values of empty lists inside nested dictionary for album\n",
    "    for features in audio_features:\n",
    "        features_list.append([features['danceability'],\n",
    "                              features['acousticness'],\n",
    "                              features['energy'], \n",
    "                              features['tempo'],\n",
    "                              features['instrumentalness'], \n",
    "                              features['loudness'],\n",
    "                              features['liveness'],\n",
    "                              features['duration_ms'],\n",
    "                              features['key'],\n",
    "                              features['valence'],\n",
    "                              features['speechiness'],\n",
    "                              features['mode']\n",
    "                             ])\n",
    "    \n",
    "    df_audio_features = pd.DataFrame(features_list, columns=['danceability', 'acousticness', 'energy','tempo', \n",
    "                                                             'instrumentalness', 'loudness', 'liveness','duration_ms', 'key',\n",
    "                                                             'valence', 'speechiness', 'mode'])\n",
    "    \n",
    "    # Create the final df, using the 'track_id' as index for future reference\n",
    "    df_playlist_audio_features = pd.concat([playlist, df_audio_features], axis=1)\n",
    "    df_playlist_audio_features.set_index('track_name', inplace=True, drop=True)\n",
    "    return df_playlist_audio_features"
   ]
  },
  {
   "cell_type": "code",
   "execution_count": 7,
   "metadata": {},
   "outputs": [
    {
     "output_type": "execute_result",
     "data": {
      "text/plain": [
       "                                  track_id  danceability  acousticness  \\\n",
       "track_name                                                               \n",
       "Feels Like Death    03vMyCyCK7pVWjC1i1zur0         0.755      0.337000   \n",
       "Deep End Freestyle  2AlYncTpVHKwHb55F9lF6O         0.868      0.703000   \n",
       "Glory Boy           5LpnrXjrt0BOU0iOGH78UN         0.784      0.096600   \n",
       "Place               1Bg2CNZw6S4e9cGWPmi0uI         0.891      0.000674   \n",
       "Faith               0TqNfrOY2IrpFRI2zxsMq4         0.878      0.123000   \n",
       "\n",
       "                    energy    tempo  instrumentalness  loudness  liveness  \\\n",
       "track_name                                                                  \n",
       "Feels Like Death     0.626  110.088            0.0000    -6.247    0.1370   \n",
       "Deep End Freestyle   0.479  133.928            0.0000    -6.687    0.1020   \n",
       "Glory Boy            0.519  129.953            0.0109    -9.868    0.0748   \n",
       "Place                0.628  131.060            0.0000    -6.350    0.1190   \n",
       "Faith                0.584  125.069            0.0000   -10.014    0.1050   \n",
       "\n",
       "                    duration_ms  key  valence  speechiness  mode  \n",
       "track_name                                                        \n",
       "Feels Like Death         237505    6    0.465        0.293     1  \n",
       "Deep End Freestyle       115200    4    0.776        0.445     0  \n",
       "Glory Boy                111048    1    0.599        0.096     1  \n",
       "Place                    117240    1    0.040        0.105     1  \n",
       "Faith                    107468   10    0.488        0.419     1  "
      ],
      "text/html": "<div>\n<style scoped>\n    .dataframe tbody tr th:only-of-type {\n        vertical-align: middle;\n    }\n\n    .dataframe tbody tr th {\n        vertical-align: top;\n    }\n\n    .dataframe thead th {\n        text-align: right;\n    }\n</style>\n<table border=\"1\" class=\"dataframe\">\n  <thead>\n    <tr style=\"text-align: right;\">\n      <th></th>\n      <th>track_id</th>\n      <th>danceability</th>\n      <th>acousticness</th>\n      <th>energy</th>\n      <th>tempo</th>\n      <th>instrumentalness</th>\n      <th>loudness</th>\n      <th>liveness</th>\n      <th>duration_ms</th>\n      <th>key</th>\n      <th>valence</th>\n      <th>speechiness</th>\n      <th>mode</th>\n    </tr>\n    <tr>\n      <th>track_name</th>\n      <th></th>\n      <th></th>\n      <th></th>\n      <th></th>\n      <th></th>\n      <th></th>\n      <th></th>\n      <th></th>\n      <th></th>\n      <th></th>\n      <th></th>\n      <th></th>\n      <th></th>\n    </tr>\n  </thead>\n  <tbody>\n    <tr>\n      <th>Feels Like Death</th>\n      <td>03vMyCyCK7pVWjC1i1zur0</td>\n      <td>0.755</td>\n      <td>0.337000</td>\n      <td>0.626</td>\n      <td>110.088</td>\n      <td>0.0000</td>\n      <td>-6.247</td>\n      <td>0.1370</td>\n      <td>237505</td>\n      <td>6</td>\n      <td>0.465</td>\n      <td>0.293</td>\n      <td>1</td>\n    </tr>\n    <tr>\n      <th>Deep End Freestyle</th>\n      <td>2AlYncTpVHKwHb55F9lF6O</td>\n      <td>0.868</td>\n      <td>0.703000</td>\n      <td>0.479</td>\n      <td>133.928</td>\n      <td>0.0000</td>\n      <td>-6.687</td>\n      <td>0.1020</td>\n      <td>115200</td>\n      <td>4</td>\n      <td>0.776</td>\n      <td>0.445</td>\n      <td>0</td>\n    </tr>\n    <tr>\n      <th>Glory Boy</th>\n      <td>5LpnrXjrt0BOU0iOGH78UN</td>\n      <td>0.784</td>\n      <td>0.096600</td>\n      <td>0.519</td>\n      <td>129.953</td>\n      <td>0.0109</td>\n      <td>-9.868</td>\n      <td>0.0748</td>\n      <td>111048</td>\n      <td>1</td>\n      <td>0.599</td>\n      <td>0.096</td>\n      <td>1</td>\n    </tr>\n    <tr>\n      <th>Place</th>\n      <td>1Bg2CNZw6S4e9cGWPmi0uI</td>\n      <td>0.891</td>\n      <td>0.000674</td>\n      <td>0.628</td>\n      <td>131.060</td>\n      <td>0.0000</td>\n      <td>-6.350</td>\n      <td>0.1190</td>\n      <td>117240</td>\n      <td>1</td>\n      <td>0.040</td>\n      <td>0.105</td>\n      <td>1</td>\n    </tr>\n    <tr>\n      <th>Faith</th>\n      <td>0TqNfrOY2IrpFRI2zxsMq4</td>\n      <td>0.878</td>\n      <td>0.123000</td>\n      <td>0.584</td>\n      <td>125.069</td>\n      <td>0.0000</td>\n      <td>-10.014</td>\n      <td>0.1050</td>\n      <td>107468</td>\n      <td>10</td>\n      <td>0.488</td>\n      <td>0.419</td>\n      <td>1</td>\n    </tr>\n  </tbody>\n</table>\n</div>"
     },
     "metadata": {},
     "execution_count": 7
    }
   ],
   "source": [
    "df_fav = fetch_audio_features(sp, df_favourite)\n",
    "df_fav.head()"
   ]
  },
  {
   "cell_type": "code",
   "execution_count": 8,
   "metadata": {},
   "outputs": [],
   "source": [
    "# Function to create a df of featured playlist\n",
    "def featured_playlists(sp):\n",
    "    id = []\n",
    "    name = []\n",
    "    num_tracks = []\n",
    " # For looping through the API request  \n",
    "    response = sp.featured_playlists(limit = 50)\n",
    "    playlists = response['playlists']\n",
    "    for i, items in enumerate(playlists['items']):\n",
    "        id.append(items['id'])\n",
    "        name.append(items['name'])\n",
    "        num_tracks.append(items['tracks']['total'])\n",
    "\n",
    "# Create the final df   \n",
    "    df_playlists = pd.DataFrame({\"id\":id, \"name\": name, \"#tracks\": num_tracks})\n",
    "    return df_playlists"
   ]
  },
  {
   "cell_type": "code",
   "execution_count": 9,
   "metadata": {},
   "outputs": [
    {
     "output_type": "execute_result",
     "data": {
      "text/plain": [
       "                        id                 name  #tracks\n",
       "0   37i9dQZF1DX4pUKG1kS0Ac     Guilty Pleasures      151\n",
       "1   37i9dQZF1DXbYM3nMM0oPk         Mega Hit Mix       75\n",
       "2   37i9dQZF1DWWBHeXOYZf74               POLLEN      146\n",
       "3   37i9dQZF1DWXRqgorJj26U        Rock Classics      145\n",
       "4   37i9dQZF1DX4bSrsRWE9cd                Bliss       74\n",
       "5   37i9dQZF1DWUa8ZRTfalHk           Pop Rising       85\n",
       "6   37i9dQZF1DX5Ejj0EkURtP          All Out 10s      150\n",
       "7   37i9dQZF1DWTcqUzwhNmKv        Kickass Metal       60\n",
       "8   37i9dQZF1DXdPIbPNr916x          Easy Summer       50\n",
       "9   37i9dQZF1DX9XIFQuFvzM4         Feelin' Good      100\n",
       "10  37i9dQZF1DWYAcBZSAVhlf  Walking On Sunshine       80"
      ],
      "text/html": "<div>\n<style scoped>\n    .dataframe tbody tr th:only-of-type {\n        vertical-align: middle;\n    }\n\n    .dataframe tbody tr th {\n        vertical-align: top;\n    }\n\n    .dataframe thead th {\n        text-align: right;\n    }\n</style>\n<table border=\"1\" class=\"dataframe\">\n  <thead>\n    <tr style=\"text-align: right;\">\n      <th></th>\n      <th>id</th>\n      <th>name</th>\n      <th>#tracks</th>\n    </tr>\n  </thead>\n  <tbody>\n    <tr>\n      <th>0</th>\n      <td>37i9dQZF1DX4pUKG1kS0Ac</td>\n      <td>Guilty Pleasures</td>\n      <td>151</td>\n    </tr>\n    <tr>\n      <th>1</th>\n      <td>37i9dQZF1DXbYM3nMM0oPk</td>\n      <td>Mega Hit Mix</td>\n      <td>75</td>\n    </tr>\n    <tr>\n      <th>2</th>\n      <td>37i9dQZF1DWWBHeXOYZf74</td>\n      <td>POLLEN</td>\n      <td>146</td>\n    </tr>\n    <tr>\n      <th>3</th>\n      <td>37i9dQZF1DWXRqgorJj26U</td>\n      <td>Rock Classics</td>\n      <td>145</td>\n    </tr>\n    <tr>\n      <th>4</th>\n      <td>37i9dQZF1DX4bSrsRWE9cd</td>\n      <td>Bliss</td>\n      <td>74</td>\n    </tr>\n    <tr>\n      <th>5</th>\n      <td>37i9dQZF1DWUa8ZRTfalHk</td>\n      <td>Pop Rising</td>\n      <td>85</td>\n    </tr>\n    <tr>\n      <th>6</th>\n      <td>37i9dQZF1DX5Ejj0EkURtP</td>\n      <td>All Out 10s</td>\n      <td>150</td>\n    </tr>\n    <tr>\n      <th>7</th>\n      <td>37i9dQZF1DWTcqUzwhNmKv</td>\n      <td>Kickass Metal</td>\n      <td>60</td>\n    </tr>\n    <tr>\n      <th>8</th>\n      <td>37i9dQZF1DXdPIbPNr916x</td>\n      <td>Easy Summer</td>\n      <td>50</td>\n    </tr>\n    <tr>\n      <th>9</th>\n      <td>37i9dQZF1DX9XIFQuFvzM4</td>\n      <td>Feelin' Good</td>\n      <td>100</td>\n    </tr>\n    <tr>\n      <th>10</th>\n      <td>37i9dQZF1DWYAcBZSAVhlf</td>\n      <td>Walking On Sunshine</td>\n      <td>80</td>\n    </tr>\n  </tbody>\n</table>\n</div>"
     },
     "metadata": {},
     "execution_count": 9
    }
   ],
   "source": [
    "df_playlists = featured_playlists(sp)\n",
    "df_playlists"
   ]
  },
  {
   "cell_type": "code",
   "execution_count": 10,
   "metadata": {},
   "outputs": [],
   "source": [
    "# Getting the tracks in each playlist\n",
    "def fetch_playlist_tracks(sp, playlistsid): \n",
    "    offset = 0\n",
    "    tracks = []\n",
    "    # Make the API request\n",
    "    while True:\n",
    "            content = sp.playlist_tracks( playlistsid, fields=None, limit=100, offset=offset, market=None)\n",
    "            tracks += content['items']\n",
    "        \n",
    "            if content['next'] is not None:\n",
    "                offset += 100\n",
    "            else:\n",
    "                break\n",
    "    \n",
    "    track_id = []\n",
    "    track_name = []\n",
    "    \n",
    "    for track in tracks:\n",
    "        track_id.append(track['track']['id'])\n",
    "        track_name.append(track['track']['name'])\n",
    "    \n",
    "# Create the final df\n",
    "    df_playlists_tracks = pd.DataFrame({\"track_id\":track_id, \"track_name\": track_name})\n",
    "    return df_playlists_tracks"
   ]
  },
  {
   "cell_type": "code",
   "execution_count": 11,
   "metadata": {},
   "outputs": [
    {
     "output_type": "execute_result",
     "data": {
      "text/plain": [
       "                 track_id                          track_name\n",
       "0  7vFv0yFGMJW3qVXbAd9BK9           Your Body Is a Wonderland\n",
       "1  24YvUQnuPL8gObCfSnAobH                    Hey, Soul Sister\n",
       "2  3rKYiySCDMUKTw5kGVVhaa  Marvin Gaye (feat. Meghan Trainor)\n",
       "3  0ULAOsJR33XQzlZVZvjGpB               Don't Dream It's Over\n",
       "4  0IktbUcnAGrvD03AWnz3Q8                               Lucky"
      ],
      "text/html": "<div>\n<style scoped>\n    .dataframe tbody tr th:only-of-type {\n        vertical-align: middle;\n    }\n\n    .dataframe tbody tr th {\n        vertical-align: top;\n    }\n\n    .dataframe thead th {\n        text-align: right;\n    }\n</style>\n<table border=\"1\" class=\"dataframe\">\n  <thead>\n    <tr style=\"text-align: right;\">\n      <th></th>\n      <th>track_id</th>\n      <th>track_name</th>\n    </tr>\n  </thead>\n  <tbody>\n    <tr>\n      <th>0</th>\n      <td>7vFv0yFGMJW3qVXbAd9BK9</td>\n      <td>Your Body Is a Wonderland</td>\n    </tr>\n    <tr>\n      <th>1</th>\n      <td>24YvUQnuPL8gObCfSnAobH</td>\n      <td>Hey, Soul Sister</td>\n    </tr>\n    <tr>\n      <th>2</th>\n      <td>3rKYiySCDMUKTw5kGVVhaa</td>\n      <td>Marvin Gaye (feat. Meghan Trainor)</td>\n    </tr>\n    <tr>\n      <th>3</th>\n      <td>0ULAOsJR33XQzlZVZvjGpB</td>\n      <td>Don't Dream It's Over</td>\n    </tr>\n    <tr>\n      <th>4</th>\n      <td>0IktbUcnAGrvD03AWnz3Q8</td>\n      <td>Lucky</td>\n    </tr>\n  </tbody>\n</table>\n</div>"
     },
     "metadata": {},
     "execution_count": 11
    }
   ],
   "source": [
    "fetch_playlist_tracks(sp,'37i9dQZF1DXaz7CcPuNVXF').head()"
   ]
  },
  {
   "cell_type": "code",
   "execution_count": 12,
   "metadata": {},
   "outputs": [],
   "source": [
    "# Function to fetch the audio features from the songs of given playlist\n",
    "def fetch_audio_features(sp, playlist_id):\n",
    "    playlist = fetch_playlist_tracks(sp, playlist_id)\n",
    "    index = 0\n",
    "    audio_features = []\n",
    "    \n",
    "    # Make the API request\n",
    "    while index < playlist.shape[0]:\n",
    "        audio_features += sp.audio_features(playlist.iloc[index:index + 50, 0])\n",
    "        index += 50\n",
    "    \n",
    "    # Create an empty list to feed in different charactieritcs of the tracks\n",
    "    features_list = []\n",
    "    #Create keys-values of empty lists inside nested dictionary for album\n",
    "    for features in audio_features:\n",
    "        features_list.append([features['danceability'],\n",
    "                              features['acousticness'],\n",
    "                              features['energy'], \n",
    "                              features['tempo'],\n",
    "                              features['instrumentalness'], \n",
    "                              features['loudness'],\n",
    "                              features['liveness'],\n",
    "                              features['duration_ms'],\n",
    "                              features['key'],\n",
    "                              features['valence'],\n",
    "                              features['speechiness']\n",
    "                             ])\n",
    "    \n",
    "    df_audio_features = pd.DataFrame(features_list, columns=['danceability', 'acousticness', 'energy','tempo', \n",
    "                                                             'instrumentalness', 'loudness', 'liveness', 'duration_ms', 'key',\n",
    "                                                             'valence', 'speechiness'])\n",
    "    \n",
    "    # Create the final df, using the 'track_id' as index for future reference\n",
    "    df_playlist_audio_features = pd.concat([playlist, df_audio_features], axis=1)\n",
    "    df_playlist_audio_features.set_index('track_name', inplace=True, drop=True)\n",
    "    return df_playlist_audio_features\n"
   ]
  },
  {
   "cell_type": "code",
   "execution_count": 13,
   "metadata": {},
   "outputs": [
    {
     "output_type": "stream",
     "name": "stdout",
     "text": [
      "Create df_37i9dQZF1DX4pUKG1kS0Ac = fetch_audio_features(sp, playlist)\n",
      "Create df_37i9dQZF1DXbYM3nMM0oPk = fetch_audio_features(sp, playlist)\n",
      "Create df_37i9dQZF1DWWBHeXOYZf74 = fetch_audio_features(sp, playlist)\n",
      "Create df_37i9dQZF1DWXRqgorJj26U = fetch_audio_features(sp, playlist)\n",
      "Create df_37i9dQZF1DX4bSrsRWE9cd = fetch_audio_features(sp, playlist)\n",
      "Create df_37i9dQZF1DWUa8ZRTfalHk = fetch_audio_features(sp, playlist)\n",
      "Create df_37i9dQZF1DX5Ejj0EkURtP = fetch_audio_features(sp, playlist)\n",
      "Create df_37i9dQZF1DWTcqUzwhNmKv = fetch_audio_features(sp, playlist)\n",
      "Create df_37i9dQZF1DXdPIbPNr916x = fetch_audio_features(sp, playlist)\n",
      "Create df_37i9dQZF1DX9XIFQuFvzM4 = fetch_audio_features(sp, playlist)\n",
      "Create df_37i9dQZF1DWYAcBZSAVhlf = fetch_audio_features(sp, playlist)\n"
     ]
    }
   ],
   "source": [
    "# Build the dtaframe froms the playlists\n",
    "for i, playlist in enumerate(df_playlists['id']):\n",
    "    try:\n",
    "        string_command = \"df_{} = fetch_audio_features(sp, playlist)\".format(playlist)\n",
    "        print(\"Create {}\".format(string_command))\n",
    "        exec(string_command)\n",
    "    except:\n",
    "        print(\"playlist with id {} is not valid, skiping \".format(playlist))\n",
    "        pass\n"
   ]
  },
  {
   "cell_type": "code",
   "execution_count": 14,
   "metadata": {},
   "outputs": [],
   "source": [
    "# To understand the playlist, it would be useful to get the average value for each audio feature\n",
    "def fetch_audio_features_mean(sp, playlist_id):\n",
    "    Playlist = fetch_audio_features(sp, playlist_id)\n",
    "    return pd.DataFrame(Playlist.mean(), columns= [playlist_id])"
   ]
  },
  {
   "cell_type": "code",
   "execution_count": 15,
   "metadata": {},
   "outputs": [
    {
     "output_type": "execute_result",
     "data": {
      "text/plain": [
       "                  37i9dQZF1DX0MLFaUdXnjA\n",
       "danceability                    0.605716\n",
       "acousticness                    0.459792\n",
       "energy                          0.465119\n",
       "tempo                         117.807000\n",
       "instrumentalness                0.005687"
      ],
      "text/html": "<div>\n<style scoped>\n    .dataframe tbody tr th:only-of-type {\n        vertical-align: middle;\n    }\n\n    .dataframe tbody tr th {\n        vertical-align: top;\n    }\n\n    .dataframe thead th {\n        text-align: right;\n    }\n</style>\n<table border=\"1\" class=\"dataframe\">\n  <thead>\n    <tr style=\"text-align: right;\">\n      <th></th>\n      <th>37i9dQZF1DX0MLFaUdXnjA</th>\n    </tr>\n  </thead>\n  <tbody>\n    <tr>\n      <th>danceability</th>\n      <td>0.605716</td>\n    </tr>\n    <tr>\n      <th>acousticness</th>\n      <td>0.459792</td>\n    </tr>\n    <tr>\n      <th>energy</th>\n      <td>0.465119</td>\n    </tr>\n    <tr>\n      <th>tempo</th>\n      <td>117.807000</td>\n    </tr>\n    <tr>\n      <th>instrumentalness</th>\n      <td>0.005687</td>\n    </tr>\n  </tbody>\n</table>\n</div>"
     },
     "metadata": {},
     "execution_count": 15
    }
   ],
   "source": [
    "df = fetch_audio_features_mean(sp, '37i9dQZF1DX0MLFaUdXnjA')\n",
    "df.head()"
   ]
  },
  {
   "cell_type": "code",
   "execution_count": 16,
   "metadata": {},
   "outputs": [],
   "source": [
    "# Merge all playlists together to get a large df of tracks\n",
    "dataframes = []\n",
    "# Loop through the filenames to populate dataframes with different dataframes \n",
    "for i in df_playlists['id']:\n",
    "    try:\n",
    "        dataframes.append(fetch_audio_features_mean(sp, i))\n",
    "    except:\n",
    "        pass"
   ]
  },
  {
   "cell_type": "code",
   "execution_count": 17,
   "metadata": {},
   "outputs": [
    {
     "output_type": "execute_result",
     "data": {
      "text/plain": [
       "                  37i9dQZF1DX4pUKG1kS0Ac  37i9dQZF1DXbYM3nMM0oPk  \\\n",
       "danceability                    0.643397                0.733000   \n",
       "acousticness                    0.106590                0.184382   \n",
       "energy                          0.753497                0.599280   \n",
       "tempo                         124.272464              123.557480   \n",
       "instrumentalness                0.014074                0.013570   \n",
       "\n",
       "                  37i9dQZF1DWWBHeXOYZf74  37i9dQZF1DWXRqgorJj26U  \\\n",
       "danceability                    0.666877                0.546407   \n",
       "acousticness                    0.289130                0.191717   \n",
       "energy                          0.585945                0.720138   \n",
       "tempo                         116.746000              122.289014   \n",
       "instrumentalness                0.135805                0.046154   \n",
       "\n",
       "                  37i9dQZF1DX4bSrsRWE9cd  37i9dQZF1DWUa8ZRTfalHk  \\\n",
       "danceability                    0.493041                0.635706   \n",
       "acousticness                    0.816104                0.243227   \n",
       "energy                          0.236964                0.624812   \n",
       "tempo                         117.788365              126.002459   \n",
       "instrumentalness                0.164272                0.008420   \n",
       "\n",
       "                  37i9dQZF1DX5Ejj0EkURtP  37i9dQZF1DWTcqUzwhNmKv  \\\n",
       "danceability                    0.682853                0.420967   \n",
       "acousticness                    0.169380                0.001122   \n",
       "energy                          0.666100                0.933650   \n",
       "tempo                         118.251593              129.538450   \n",
       "instrumentalness                0.002196                0.082765   \n",
       "\n",
       "                  37i9dQZF1DXdPIbPNr916x  37i9dQZF1DX9XIFQuFvzM4  \\\n",
       "danceability                    0.630100                0.661030   \n",
       "acousticness                    0.236338                0.352801   \n",
       "energy                          0.637880                0.593220   \n",
       "tempo                         115.934920              117.504610   \n",
       "instrumentalness                0.003852                0.036347   \n",
       "\n",
       "                  37i9dQZF1DWYAcBZSAVhlf  \n",
       "danceability                    0.735875  \n",
       "acousticness                    0.156735  \n",
       "energy                          0.762463  \n",
       "tempo                         120.065550  \n",
       "instrumentalness                0.045311  "
      ],
      "text/html": "<div>\n<style scoped>\n    .dataframe tbody tr th:only-of-type {\n        vertical-align: middle;\n    }\n\n    .dataframe tbody tr th {\n        vertical-align: top;\n    }\n\n    .dataframe thead th {\n        text-align: right;\n    }\n</style>\n<table border=\"1\" class=\"dataframe\">\n  <thead>\n    <tr style=\"text-align: right;\">\n      <th></th>\n      <th>37i9dQZF1DX4pUKG1kS0Ac</th>\n      <th>37i9dQZF1DXbYM3nMM0oPk</th>\n      <th>37i9dQZF1DWWBHeXOYZf74</th>\n      <th>37i9dQZF1DWXRqgorJj26U</th>\n      <th>37i9dQZF1DX4bSrsRWE9cd</th>\n      <th>37i9dQZF1DWUa8ZRTfalHk</th>\n      <th>37i9dQZF1DX5Ejj0EkURtP</th>\n      <th>37i9dQZF1DWTcqUzwhNmKv</th>\n      <th>37i9dQZF1DXdPIbPNr916x</th>\n      <th>37i9dQZF1DX9XIFQuFvzM4</th>\n      <th>37i9dQZF1DWYAcBZSAVhlf</th>\n    </tr>\n  </thead>\n  <tbody>\n    <tr>\n      <th>danceability</th>\n      <td>0.643397</td>\n      <td>0.733000</td>\n      <td>0.666877</td>\n      <td>0.546407</td>\n      <td>0.493041</td>\n      <td>0.635706</td>\n      <td>0.682853</td>\n      <td>0.420967</td>\n      <td>0.630100</td>\n      <td>0.661030</td>\n      <td>0.735875</td>\n    </tr>\n    <tr>\n      <th>acousticness</th>\n      <td>0.106590</td>\n      <td>0.184382</td>\n      <td>0.289130</td>\n      <td>0.191717</td>\n      <td>0.816104</td>\n      <td>0.243227</td>\n      <td>0.169380</td>\n      <td>0.001122</td>\n      <td>0.236338</td>\n      <td>0.352801</td>\n      <td>0.156735</td>\n    </tr>\n    <tr>\n      <th>energy</th>\n      <td>0.753497</td>\n      <td>0.599280</td>\n      <td>0.585945</td>\n      <td>0.720138</td>\n      <td>0.236964</td>\n      <td>0.624812</td>\n      <td>0.666100</td>\n      <td>0.933650</td>\n      <td>0.637880</td>\n      <td>0.593220</td>\n      <td>0.762463</td>\n    </tr>\n    <tr>\n      <th>tempo</th>\n      <td>124.272464</td>\n      <td>123.557480</td>\n      <td>116.746000</td>\n      <td>122.289014</td>\n      <td>117.788365</td>\n      <td>126.002459</td>\n      <td>118.251593</td>\n      <td>129.538450</td>\n      <td>115.934920</td>\n      <td>117.504610</td>\n      <td>120.065550</td>\n    </tr>\n    <tr>\n      <th>instrumentalness</th>\n      <td>0.014074</td>\n      <td>0.013570</td>\n      <td>0.135805</td>\n      <td>0.046154</td>\n      <td>0.164272</td>\n      <td>0.008420</td>\n      <td>0.002196</td>\n      <td>0.082765</td>\n      <td>0.003852</td>\n      <td>0.036347</td>\n      <td>0.045311</td>\n    </tr>\n  </tbody>\n</table>\n</div>"
     },
     "metadata": {},
     "execution_count": 17
    }
   ],
   "source": [
    "# Preparing dataset for model creation\n",
    "X = reduce(lambda left,right: pd.merge(left,right, left_index=True, right_index=True), dataframes)\n",
    "X.head()"
   ]
  },
  {
   "cell_type": "code",
   "execution_count": 18,
   "metadata": {},
   "outputs": [
    {
     "output_type": "execute_result",
     "data": {
      "text/plain": [
       "                  fav_playlist\n",
       "danceability          0.772000\n",
       "acousticness          0.084300\n",
       "energy                0.481500\n",
       "tempo               132.343500\n",
       "instrumentalness      0.000003"
      ],
      "text/html": "<div>\n<style scoped>\n    .dataframe tbody tr th:only-of-type {\n        vertical-align: middle;\n    }\n\n    .dataframe tbody tr th {\n        vertical-align: top;\n    }\n\n    .dataframe thead th {\n        text-align: right;\n    }\n</style>\n<table border=\"1\" class=\"dataframe\">\n  <thead>\n    <tr style=\"text-align: right;\">\n      <th></th>\n      <th>fav_playlist</th>\n    </tr>\n  </thead>\n  <tbody>\n    <tr>\n      <th>danceability</th>\n      <td>0.772000</td>\n    </tr>\n    <tr>\n      <th>acousticness</th>\n      <td>0.084300</td>\n    </tr>\n    <tr>\n      <th>energy</th>\n      <td>0.481500</td>\n    </tr>\n    <tr>\n      <th>tempo</th>\n      <td>132.343500</td>\n    </tr>\n    <tr>\n      <th>instrumentalness</th>\n      <td>0.000003</td>\n    </tr>\n  </tbody>\n</table>\n</div>"
     },
     "metadata": {},
     "execution_count": 18
    }
   ],
   "source": [
    "Y = pd.DataFrame(df_fav.median(), columns= ['fav_playlist'])\n",
    "Y = Y.drop('mode')\n",
    "Y.head()"
   ]
  },
  {
   "source": [
    "## Model Building"
   ],
   "cell_type": "markdown",
   "metadata": {}
  },
  {
   "cell_type": "code",
   "execution_count": 19,
   "metadata": {},
   "outputs": [
    {
     "output_type": "stream",
     "name": "stdout",
     "text": [
      "Playlist ranking:\n",
      "1. 37i9dQZF1DX4pUKG1kS0Ac 0.128664 \n",
      "2. 37i9dQZF1DXbYM3nMM0oPk 0.119337 \n",
      "3. 37i9dQZF1DWWBHeXOYZf74 0.108996 \n",
      "4. 37i9dQZF1DWXRqgorJj26U 0.108948 \n",
      "5. 37i9dQZF1DX4bSrsRWE9cd 0.092113 \n",
      "6. 37i9dQZF1DWUa8ZRTfalHk 0.091222 \n",
      "7. 37i9dQZF1DX5Ejj0EkURtP 0.089925 \n",
      "8. 37i9dQZF1DWTcqUzwhNmKv 0.079810 \n",
      "9. 37i9dQZF1DXdPIbPNr916x 0.070683 \n",
      "10. 37i9dQZF1DX9XIFQuFvzM4 0.070003 \n",
      "11. 37i9dQZF1DWYAcBZSAVhlf 0.040298 \n",
      "<ipython-input-19-d8f51d89f499>:5: DataConversionWarning: A column-vector y was passed when a 1d array was expected. Please change the shape of y to (n_samples,), for example using ravel().\n",
      "  forest.fit(X,Y)\n"
     ]
    }
   ],
   "source": [
    "# Analyze feature importances\n",
    "from sklearn.ensemble import RandomForestRegressor\n",
    "# Can combine step above with this\n",
    "forest = RandomForestRegressor(random_state=42, max_depth=5, max_features=10) \n",
    "forest.fit(X,Y)\n",
    "importances = forest.feature_importances_\n",
    "indices = np.argsort(importances)[::-1]\n",
    "# Print the feature rankings\n",
    "print(\"Playlist ranking:\")\n",
    "  \n",
    "for f in range(len(importances)):\n",
    "    print(\"%d. %s %f \" % (f + 1, \n",
    "            X.columns[f], \n",
    "            importances[indices[f]]))"
   ]
  },
  {
   "cell_type": "code",
   "execution_count": null,
   "metadata": {},
   "outputs": [],
   "source": []
  }
 ]
}