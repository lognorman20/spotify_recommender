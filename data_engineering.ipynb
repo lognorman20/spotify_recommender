{
 "metadata": {
  "language_info": {
   "codemirror_mode": {
    "name": "ipython",
    "version": 3
   },
   "file_extension": ".py",
   "mimetype": "text/x-python",
   "name": "python",
   "nbconvert_exporter": "python",
   "pygments_lexer": "ipython3",
   "version": "3.9.2-final"
  },
  "orig_nbformat": 2,
  "kernelspec": {
   "name": "python3",
   "display_name": "Python 3",
   "language": "python"
  }
 },
 "nbformat": 4,
 "nbformat_minor": 2,
 "cells": [
  {
   "cell_type": "code",
   "execution_count": 1,
   "metadata": {},
   "outputs": [],
   "source": [
    "import time\n",
    "import os\n",
    "import pandas as pd\n",
    "import numpy as np\n",
    "import json\n",
    "import matplotlib.pyplot as plt\n",
    "import seaborn as sns\n",
    "%config InlineBackend.figure_format ='retina'\n",
    "import random\n",
    "from functools import reduce\n",
    "import spotipy\n",
    "import spotipy.util as util\n",
    "from spotipy.oauth2 import SpotifyClientCredentials\n",
    "from spotipy import oauth2"
   ]
  },
  {
   "cell_type": "code",
   "execution_count": 2,
   "metadata": {},
   "outputs": [],
   "source": [
    "# Insert your Spotify username and the credentials that you obtained from spotify developer\n",
    "cid = 'XXXXX'\n",
    "secret = 'XXXXXX'\n",
    "redirect_uri='http://localhost:7777/callback'\n",
    "username = 'XXXXXX'"
   ]
  },
  {
   "cell_type": "code",
   "execution_count": 3,
   "metadata": {},
   "outputs": [],
   "source": [
    "# Once the Authorisation is complete, we just need to `sp` to call the APIs\n",
    "scope = 'user-top-read playlist-modify-private playlist-modify-public'\n",
    "token = util.prompt_for_user_token(username, scope, client_id=cid, client_secret=secret, redirect_uri=redirect_uri)\n",
    "\n",
    "if token:\n",
    "    sp = spotipy.Spotify(auth=token)\n",
    "else:\n",
    "    print(\"Can't get token for\", username)"
   ]
  },
  {
   "cell_type": "code",
   "execution_count": 4,
   "metadata": {},
   "outputs": [],
   "source": [
    "# Getting features for each song\n",
    "def fetch_audio_features(sp, df):\n",
    "    playlist = df[['track_id','track_name']] \n",
    "    index = 0\n",
    "    audio_features = []\n",
    "    \n",
    "    # Make the API request\n",
    "    while index < playlist.shape[0]:\n",
    "        audio_features += sp.audio_features(playlist.iloc[index:index + 50, 0])\n",
    "        index += 50\n",
    "    \n",
    "    # Create an empty list to feed in different charactieritcs of the tracks\n",
    "    features_list = []\n",
    "    #Create keys-values of empty lists inside nested dictionary for album\n",
    "    for features in audio_features:\n",
    "        features_list.append([features['danceability'],\n",
    "                              features['acousticness'],\n",
    "                              features['energy'], \n",
    "                              features['tempo'],\n",
    "                              features['instrumentalness'], \n",
    "                              features['loudness'],\n",
    "                              features['liveness'],\n",
    "                              features['duration_ms'],\n",
    "                              features['key'],\n",
    "                              features['valence'],\n",
    "                              features['speechiness'],\n",
    "                              features['mode']\n",
    "                             ])\n",
    "    \n",
    "    df_audio_features = pd.DataFrame(features_list, columns=['danceability', 'acousticness', 'energy','tempo', \n",
    "                                                             'instrumentalness', 'loudness', 'liveness','duration_ms', 'key',\n",
    "                                                             'valence', 'speechiness', 'mode'])\n",
    "    \n",
    "    # Create the final df, using the 'track_id' as index for future reference\n",
    "    df_playlist_audio_features = pd.concat([playlist, df_audio_features], axis=1)\n",
    "    df_playlist_audio_features.set_index('track_name', inplace=True, drop=True)\n",
    "    return df_playlist_audio_features"
   ]
  },
  {
   "source": [
    "### Getting the songs from all of Spotify's playlists"
   ],
   "cell_type": "markdown",
   "metadata": {}
  },
  {
   "cell_type": "code",
   "execution_count": 5,
   "metadata": {
    "tags": []
   },
   "outputs": [
    {
     "output_type": "execute_result",
     "data": {
      "text/plain": [
       "['37i9dQZF1DXcBWIGoYBM5M',\n",
       " '37i9dQZF1DX0XUsuxWHRQd',\n",
       " '37i9dQZF1DX1lVhptIYRda',\n",
       " '37i9dQZF1DX10zKzsJ2jva',\n",
       " '37i9dQZF1DX4JAvHpjipBk',\n",
       " '37i9dQZF1DX4sWSpwq3LiO',\n",
       " '37i9dQZF1DX4SBhb3fqCJd',\n",
       " '37i9dQZF1DWXRqgorJj26U',\n",
       " '37i9dQZF1DX4dyzvuaRJ0n',\n",
       " '37i9dQZF1DXcF6B6QPhFDv',\n",
       " '37i9dQZF1DWXJfnUiYjUKT',\n",
       " '37i9dQZF1DXcRXFNfZr7Tp',\n",
       " '37i9dQZF1DX4o1oenSJRJd',\n",
       " '37i9dQZF1DXbTxeAdrVG2l',\n",
       " '37i9dQZF1DX4UtSsGT1Sbe',\n",
       " '37i9dQZF1DWTJ7xPn4vNaz',\n",
       " '37i9dQZF1DXaKIA8E7WcJj',\n",
       " '37i9dQZF1DWSV3Tk4GO2fq',\n",
       " '37i9dQZF1DWTwnEm1IYyoj',\n",
       " '37i9dQZF1DX2A29LI7xHn1']"
      ]
     },
     "metadata": {},
     "execution_count": 5
    }
   ],
   "source": [
    "# Getting playlist IDs from each of Spotify's playlists\n",
    "playlists = sp.user_playlists('spotify')\n",
    "spotify_playlist_ids = []\n",
    "while playlists:\n",
    "    for i, playlist in enumerate(playlists['items']):\n",
    "        spotify_playlist_ids.append(playlist['uri'][-22:])\n",
    "    if playlists['next']:\n",
    "        playlists = sp.next(playlists)\n",
    "    else:\n",
    "        playlists = None\n",
    "spotify_playlist_ids[:20]"
   ]
  },
  {
   "cell_type": "code",
   "execution_count": 6,
   "metadata": {},
   "outputs": [
    {
     "output_type": "execute_result",
     "data": {
      "text/plain": [
       "1398"
      ]
     },
     "metadata": {},
     "execution_count": 6
    }
   ],
   "source": [
    "len(spotify_playlist_ids)"
   ]
  },
  {
   "source": [
    "### Getting tracks from Spotify playlists"
   ],
   "cell_type": "markdown",
   "metadata": {}
  },
  {
   "cell_type": "code",
   "execution_count": 7,
   "metadata": {},
   "outputs": [],
   "source": [
    "# Creating a function to get the first 50 tracks IDs from a playlist\n",
    "def getTrackIDs(playlist_id):\n",
    "    playlist = sp.user_playlist('spotify', playlist_id)\n",
    "    for item in playlist['tracks']['items'][:50]:\n",
    "        track = item['track']\n",
    "        ids.append(track['id'])\n",
    "    return"
   ]
  },
  {
   "cell_type": "code",
   "execution_count": 8,
   "metadata": {},
   "outputs": [],
   "source": [
    "# Creating a function get features of each track from track id\n",
    "def getTrackFeatures(track_id):\n",
    "  meta = sp.track(track_id)\n",
    "  features = sp.audio_features(track_id)\n",
    "\n",
    "  # meta\n",
    "  track_id = track_id\n",
    "  name = meta['name']\n",
    "  album = meta['album']['name']\n",
    "  artist = meta['album']['artists'][0]['name']\n",
    "  release_date = meta['album']['release_date']\n",
    "  length = meta['duration_ms']\n",
    "  popularity = meta['popularity']\n",
    "\n",
    "  # features\n",
    "  acousticness = features[0]['acousticness']\n",
    "  danceability = features[0]['danceability']\n",
    "  energy = features[0]['energy']\n",
    "  instrumentalness = features[0]['instrumentalness']\n",
    "  liveness = features[0]['liveness']\n",
    "  loudness = features[0]['loudness']\n",
    "  speechiness = features[0]['speechiness']\n",
    "  tempo = features[0]['tempo']\n",
    "  time_signature = features[0]['time_signature']\n",
    "\n",
    "  track = [track_id, name, album, artist, release_date, length, popularity, danceability, acousticness, energy, instrumentalness, liveness, loudness, speechiness, tempo, time_signature]\n",
    "  return track"
   ]
  },
  {
   "source": [
    "The cells below take a long time to run, so I commented them out."
   ],
   "cell_type": "markdown",
   "metadata": {}
  },
  {
   "cell_type": "code",
   "execution_count": 9,
   "metadata": {},
   "outputs": [
    {
     "output_type": "stream",
     "name": "stdout",
     "text": [
      "CPU times: user 1.51 s, sys: 134 ms, total: 1.64 s\nWall time: 29.6 s\n"
     ]
    },
    {
     "output_type": "execute_result",
     "data": {
      "text/plain": [
       "['7MAibcTli4IisCtbHKrGMh',\n",
       " '5QO79kh1waicV47BqGRL3g',\n",
       " '1diS6nkxMQc3wwC4G1j0bh',\n",
       " '4u4NyuceXP7Uzh7XFJKCr1',\n",
       " '3Ofmpyhv5UAQ70mENzB277']"
      ]
     },
     "metadata": {},
     "execution_count": 9
    }
   ],
   "source": [
    "# %%time\n",
    "# # Gathering track ids\n",
    "# ids = []\n",
    "# for x in spotify_playlist_ids[:200]:\n",
    "#     getTrackIDs(x)\n",
    "# ids[:5]"
   ]
  },
  {
   "cell_type": "code",
   "execution_count": 10,
   "metadata": {
    "tags": []
   },
   "outputs": [
    {
     "output_type": "stream",
     "name": "stdout",
     "text": [
      "CPU times: user 42.5 s, sys: 6.26 s, total: 48.7 s\nWall time: 31min 57s\n"
     ]
    },
    {
     "output_type": "execute_result",
     "data": {
      "text/plain": [
       "                 track_id                    name  \\\n",
       "0  7MAibcTli4IisCtbHKrGMh     Leave The Door Open   \n",
       "1  5QO79kh1waicV47BqGRL3g         Save Your Tears   \n",
       "2  1diS6nkxMQc3wwC4G1j0bh              We're Good   \n",
       "3  4u4NyuceXP7Uzh7XFJKCr1                 Hold On   \n",
       "4  3Ofmpyhv5UAQ70mENzB277  Astronaut In The Ocean   \n",
       "\n",
       "                                      album         artist release_date  \\\n",
       "0                       Leave The Door Open     Bruno Mars   2021-03-05   \n",
       "1                               After Hours     The Weeknd   2020-03-20   \n",
       "2  Future Nostalgia (The Moonlight Edition)       Dua Lipa   2021-02-11   \n",
       "3                                   Hold On  Justin Bieber   2021-03-05   \n",
       "4                    Astronaut In The Ocean    Masked Wolf   2021-01-06   \n",
       "\n",
       "   length  popularity  danceability  acousticness  energy  instrumentalness  \\\n",
       "0  242096          90         0.586        0.1820   0.616          0.000000   \n",
       "1  215626          97         0.680        0.0212   0.826          0.000012   \n",
       "2  165506          88         0.722        0.0319   0.588          0.000000   \n",
       "3  170813          89         0.658        0.0106   0.634          0.000000   \n",
       "4  132780          94         0.778        0.1750   0.695          0.000000   \n",
       "\n",
       "   liveness  loudness  speechiness    tempo  time_signature  \n",
       "0    0.0927    -7.964       0.0324  148.088               4  \n",
       "1    0.5430    -5.487       0.0309  118.051               4  \n",
       "2    0.1830    -5.932       0.0544  134.010               4  \n",
       "3    0.1320    -5.797       0.0413  139.980               4  \n",
       "4    0.1500    -6.865       0.0913  149.996               4  "
      ],
      "text/html": "<div>\n<style scoped>\n    .dataframe tbody tr th:only-of-type {\n        vertical-align: middle;\n    }\n\n    .dataframe tbody tr th {\n        vertical-align: top;\n    }\n\n    .dataframe thead th {\n        text-align: right;\n    }\n</style>\n<table border=\"1\" class=\"dataframe\">\n  <thead>\n    <tr style=\"text-align: right;\">\n      <th></th>\n      <th>track_id</th>\n      <th>name</th>\n      <th>album</th>\n      <th>artist</th>\n      <th>release_date</th>\n      <th>length</th>\n      <th>popularity</th>\n      <th>danceability</th>\n      <th>acousticness</th>\n      <th>energy</th>\n      <th>instrumentalness</th>\n      <th>liveness</th>\n      <th>loudness</th>\n      <th>speechiness</th>\n      <th>tempo</th>\n      <th>time_signature</th>\n    </tr>\n  </thead>\n  <tbody>\n    <tr>\n      <th>0</th>\n      <td>7MAibcTli4IisCtbHKrGMh</td>\n      <td>Leave The Door Open</td>\n      <td>Leave The Door Open</td>\n      <td>Bruno Mars</td>\n      <td>2021-03-05</td>\n      <td>242096</td>\n      <td>90</td>\n      <td>0.586</td>\n      <td>0.1820</td>\n      <td>0.616</td>\n      <td>0.000000</td>\n      <td>0.0927</td>\n      <td>-7.964</td>\n      <td>0.0324</td>\n      <td>148.088</td>\n      <td>4</td>\n    </tr>\n    <tr>\n      <th>1</th>\n      <td>5QO79kh1waicV47BqGRL3g</td>\n      <td>Save Your Tears</td>\n      <td>After Hours</td>\n      <td>The Weeknd</td>\n      <td>2020-03-20</td>\n      <td>215626</td>\n      <td>97</td>\n      <td>0.680</td>\n      <td>0.0212</td>\n      <td>0.826</td>\n      <td>0.000012</td>\n      <td>0.5430</td>\n      <td>-5.487</td>\n      <td>0.0309</td>\n      <td>118.051</td>\n      <td>4</td>\n    </tr>\n    <tr>\n      <th>2</th>\n      <td>1diS6nkxMQc3wwC4G1j0bh</td>\n      <td>We're Good</td>\n      <td>Future Nostalgia (The Moonlight Edition)</td>\n      <td>Dua Lipa</td>\n      <td>2021-02-11</td>\n      <td>165506</td>\n      <td>88</td>\n      <td>0.722</td>\n      <td>0.0319</td>\n      <td>0.588</td>\n      <td>0.000000</td>\n      <td>0.1830</td>\n      <td>-5.932</td>\n      <td>0.0544</td>\n      <td>134.010</td>\n      <td>4</td>\n    </tr>\n    <tr>\n      <th>3</th>\n      <td>4u4NyuceXP7Uzh7XFJKCr1</td>\n      <td>Hold On</td>\n      <td>Hold On</td>\n      <td>Justin Bieber</td>\n      <td>2021-03-05</td>\n      <td>170813</td>\n      <td>89</td>\n      <td>0.658</td>\n      <td>0.0106</td>\n      <td>0.634</td>\n      <td>0.000000</td>\n      <td>0.1320</td>\n      <td>-5.797</td>\n      <td>0.0413</td>\n      <td>139.980</td>\n      <td>4</td>\n    </tr>\n    <tr>\n      <th>4</th>\n      <td>3Ofmpyhv5UAQ70mENzB277</td>\n      <td>Astronaut In The Ocean</td>\n      <td>Astronaut In The Ocean</td>\n      <td>Masked Wolf</td>\n      <td>2021-01-06</td>\n      <td>132780</td>\n      <td>94</td>\n      <td>0.778</td>\n      <td>0.1750</td>\n      <td>0.695</td>\n      <td>0.000000</td>\n      <td>0.1500</td>\n      <td>-6.865</td>\n      <td>0.0913</td>\n      <td>149.996</td>\n      <td>4</td>\n    </tr>\n  </tbody>\n</table>\n</div>"
     },
     "metadata": {},
     "execution_count": 10
    }
   ],
   "source": [
    "# %%time\n",
    "# # loop over track ids to get audio features for each track\n",
    "# tracks = []\n",
    "# for i in range(len(ids)):\n",
    "#     try:  \n",
    "#         track = getTrackFeatures(ids[i])\n",
    "#         tracks.append(track)\n",
    "#     except:\n",
    "#         pass\n",
    "\n",
    "# # create dataset\n",
    "# df = pd.DataFrame(tracks, columns = ['track_id', 'name', 'album', 'artist', 'release_date', 'length', 'popularity', 'danceability', 'acousticness', 'energy', 'instrumentalness', 'liveness', 'loudness', 'speechiness', 'tempo', 'time_signature'])\n",
    "# df.head()"
   ]
  },
  {
   "cell_type": "code",
   "execution_count": 11,
   "metadata": {},
   "outputs": [],
   "source": [
    "# df.to_csv('playlist_songs.csv',index=False)"
   ]
  },
  {
   "cell_type": "code",
   "execution_count": 12,
   "metadata": {},
   "outputs": [
    {
     "output_type": "execute_result",
     "data": {
      "text/plain": [
       "                 track_id                    name  \\\n",
       "0  7MAibcTli4IisCtbHKrGMh     Leave The Door Open   \n",
       "1  5QO79kh1waicV47BqGRL3g         Save Your Tears   \n",
       "2  1diS6nkxMQc3wwC4G1j0bh              We're Good   \n",
       "3  4u4NyuceXP7Uzh7XFJKCr1                 Hold On   \n",
       "4  3Ofmpyhv5UAQ70mENzB277  Astronaut In The Ocean   \n",
       "\n",
       "                                      album         artist release_date  \\\n",
       "0                       Leave The Door Open     Bruno Mars   2021-03-05   \n",
       "1                               After Hours     The Weeknd   2020-03-20   \n",
       "2  Future Nostalgia (The Moonlight Edition)       Dua Lipa   2021-02-11   \n",
       "3                                   Hold On  Justin Bieber   2021-03-05   \n",
       "4                    Astronaut In The Ocean    Masked Wolf   2021-01-06   \n",
       "\n",
       "   length  popularity  danceability  acousticness  energy  instrumentalness  \\\n",
       "0  242096          90         0.586        0.1820   0.616          0.000000   \n",
       "1  215626          97         0.680        0.0212   0.826          0.000012   \n",
       "2  165506          88         0.722        0.0319   0.588          0.000000   \n",
       "3  170813          89         0.658        0.0106   0.634          0.000000   \n",
       "4  132780          94         0.778        0.1750   0.695          0.000000   \n",
       "\n",
       "   liveness  loudness  speechiness    tempo  time_signature  \n",
       "0    0.0927    -7.964       0.0324  148.088               4  \n",
       "1    0.5430    -5.487       0.0309  118.051               4  \n",
       "2    0.1830    -5.932       0.0544  134.010               4  \n",
       "3    0.1320    -5.797       0.0413  139.980               4  \n",
       "4    0.1500    -6.865       0.0913  149.996               4  "
      ],
      "text/html": "<div>\n<style scoped>\n    .dataframe tbody tr th:only-of-type {\n        vertical-align: middle;\n    }\n\n    .dataframe tbody tr th {\n        vertical-align: top;\n    }\n\n    .dataframe thead th {\n        text-align: right;\n    }\n</style>\n<table border=\"1\" class=\"dataframe\">\n  <thead>\n    <tr style=\"text-align: right;\">\n      <th></th>\n      <th>track_id</th>\n      <th>name</th>\n      <th>album</th>\n      <th>artist</th>\n      <th>release_date</th>\n      <th>length</th>\n      <th>popularity</th>\n      <th>danceability</th>\n      <th>acousticness</th>\n      <th>energy</th>\n      <th>instrumentalness</th>\n      <th>liveness</th>\n      <th>loudness</th>\n      <th>speechiness</th>\n      <th>tempo</th>\n      <th>time_signature</th>\n    </tr>\n  </thead>\n  <tbody>\n    <tr>\n      <th>0</th>\n      <td>7MAibcTli4IisCtbHKrGMh</td>\n      <td>Leave The Door Open</td>\n      <td>Leave The Door Open</td>\n      <td>Bruno Mars</td>\n      <td>2021-03-05</td>\n      <td>242096</td>\n      <td>90</td>\n      <td>0.586</td>\n      <td>0.1820</td>\n      <td>0.616</td>\n      <td>0.000000</td>\n      <td>0.0927</td>\n      <td>-7.964</td>\n      <td>0.0324</td>\n      <td>148.088</td>\n      <td>4</td>\n    </tr>\n    <tr>\n      <th>1</th>\n      <td>5QO79kh1waicV47BqGRL3g</td>\n      <td>Save Your Tears</td>\n      <td>After Hours</td>\n      <td>The Weeknd</td>\n      <td>2020-03-20</td>\n      <td>215626</td>\n      <td>97</td>\n      <td>0.680</td>\n      <td>0.0212</td>\n      <td>0.826</td>\n      <td>0.000012</td>\n      <td>0.5430</td>\n      <td>-5.487</td>\n      <td>0.0309</td>\n      <td>118.051</td>\n      <td>4</td>\n    </tr>\n    <tr>\n      <th>2</th>\n      <td>1diS6nkxMQc3wwC4G1j0bh</td>\n      <td>We're Good</td>\n      <td>Future Nostalgia (The Moonlight Edition)</td>\n      <td>Dua Lipa</td>\n      <td>2021-02-11</td>\n      <td>165506</td>\n      <td>88</td>\n      <td>0.722</td>\n      <td>0.0319</td>\n      <td>0.588</td>\n      <td>0.000000</td>\n      <td>0.1830</td>\n      <td>-5.932</td>\n      <td>0.0544</td>\n      <td>134.010</td>\n      <td>4</td>\n    </tr>\n    <tr>\n      <th>3</th>\n      <td>4u4NyuceXP7Uzh7XFJKCr1</td>\n      <td>Hold On</td>\n      <td>Hold On</td>\n      <td>Justin Bieber</td>\n      <td>2021-03-05</td>\n      <td>170813</td>\n      <td>89</td>\n      <td>0.658</td>\n      <td>0.0106</td>\n      <td>0.634</td>\n      <td>0.000000</td>\n      <td>0.1320</td>\n      <td>-5.797</td>\n      <td>0.0413</td>\n      <td>139.980</td>\n      <td>4</td>\n    </tr>\n    <tr>\n      <th>4</th>\n      <td>3Ofmpyhv5UAQ70mENzB277</td>\n      <td>Astronaut In The Ocean</td>\n      <td>Astronaut In The Ocean</td>\n      <td>Masked Wolf</td>\n      <td>2021-01-06</td>\n      <td>132780</td>\n      <td>94</td>\n      <td>0.778</td>\n      <td>0.1750</td>\n      <td>0.695</td>\n      <td>0.000000</td>\n      <td>0.1500</td>\n      <td>-6.865</td>\n      <td>0.0913</td>\n      <td>149.996</td>\n      <td>4</td>\n    </tr>\n  </tbody>\n</table>\n</div>"
     },
     "metadata": {},
     "execution_count": 12
    }
   ],
   "source": [
    "df = pd.read_csv('playlist_songs.csv')\n",
    "df.head()"
   ]
  },
  {
   "cell_type": "code",
   "execution_count": 13,
   "metadata": {},
   "outputs": [
    {
     "output_type": "execute_result",
     "data": {
      "text/plain": [
       "(9769, 16)"
      ]
     },
     "metadata": {},
     "execution_count": 13
    }
   ],
   "source": [
    "df.shape"
   ]
  },
  {
   "source": [
    "## Getting user's favorite tracks"
   ],
   "cell_type": "markdown",
   "metadata": {}
  },
  {
   "cell_type": "code",
   "execution_count": 14,
   "metadata": {},
   "outputs": [],
   "source": [
    "# Getting top 1000 tracks from user\n",
    "results = sp.current_user_top_tracks(limit=1000, offset=0,time_range='short_term')"
   ]
  },
  {
   "cell_type": "code",
   "execution_count": 15,
   "metadata": {},
   "outputs": [
    {
     "output_type": "execute_result",
     "data": {
      "text/plain": [
       "         track_name             album                track_id       artist  \\\n",
       "0  Feels Like Death  Feels Like Death  03vMyCyCK7pVWjC1i1zur0  Levi Carter   \n",
       "1         Glory Boy        Freewave 3  5LpnrXjrt0BOU0iOGH78UN        LUCKI   \n",
       "2         Tarantino      Almost There  1CzjJzPOCLkZr2oqiOrXjc        LUCKI   \n",
       "3             Faith             Faith  0TqNfrOY2IrpFRI2zxsMq4        LUCKI   \n",
       "4       Left 4 Dead       Days B4 III  4SRBv9M0wIPIw916zWfhkU        LUCKI   \n",
       "\n",
       "   duration  popularity  \n",
       "0    237505          44  \n",
       "1    111048          40  \n",
       "2    114773          38  \n",
       "3    107467          36  \n",
       "4    139130          39  "
      ],
      "text/html": "<div>\n<style scoped>\n    .dataframe tbody tr th:only-of-type {\n        vertical-align: middle;\n    }\n\n    .dataframe tbody tr th {\n        vertical-align: top;\n    }\n\n    .dataframe thead th {\n        text-align: right;\n    }\n</style>\n<table border=\"1\" class=\"dataframe\">\n  <thead>\n    <tr style=\"text-align: right;\">\n      <th></th>\n      <th>track_name</th>\n      <th>album</th>\n      <th>track_id</th>\n      <th>artist</th>\n      <th>duration</th>\n      <th>popularity</th>\n    </tr>\n  </thead>\n  <tbody>\n    <tr>\n      <th>0</th>\n      <td>Feels Like Death</td>\n      <td>Feels Like Death</td>\n      <td>03vMyCyCK7pVWjC1i1zur0</td>\n      <td>Levi Carter</td>\n      <td>237505</td>\n      <td>44</td>\n    </tr>\n    <tr>\n      <th>1</th>\n      <td>Glory Boy</td>\n      <td>Freewave 3</td>\n      <td>5LpnrXjrt0BOU0iOGH78UN</td>\n      <td>LUCKI</td>\n      <td>111048</td>\n      <td>40</td>\n    </tr>\n    <tr>\n      <th>2</th>\n      <td>Tarantino</td>\n      <td>Almost There</td>\n      <td>1CzjJzPOCLkZr2oqiOrXjc</td>\n      <td>LUCKI</td>\n      <td>114773</td>\n      <td>38</td>\n    </tr>\n    <tr>\n      <th>3</th>\n      <td>Faith</td>\n      <td>Faith</td>\n      <td>0TqNfrOY2IrpFRI2zxsMq4</td>\n      <td>LUCKI</td>\n      <td>107467</td>\n      <td>36</td>\n    </tr>\n    <tr>\n      <th>4</th>\n      <td>Left 4 Dead</td>\n      <td>Days B4 III</td>\n      <td>4SRBv9M0wIPIw916zWfhkU</td>\n      <td>LUCKI</td>\n      <td>139130</td>\n      <td>39</td>\n    </tr>\n  </tbody>\n</table>\n</div>"
     },
     "metadata": {},
     "execution_count": 15
    }
   ],
   "source": [
    "# Convert it to Dataframe\n",
    "track_name = []\n",
    "track_id = []\n",
    "artist = []\n",
    "album = []\n",
    "duration = []\n",
    "popularity = []\n",
    "for i, items in enumerate(results['items']):\n",
    "        track_name.append(items['name'])\n",
    "        track_id.append(items['id'])\n",
    "        artist.append(items[\"artists\"][0][\"name\"])\n",
    "        duration.append(items[\"duration_ms\"])\n",
    "        album.append(items[\"album\"][\"name\"])\n",
    "        popularity.append(items[\"popularity\"])\n",
    "\n",
    "# Create the final df   \n",
    "df_favourite = pd.DataFrame({ \"track_name\": track_name, \n",
    "                             \"album\": album, \n",
    "                             \"track_id\": track_id,\n",
    "                             \"artist\": artist, \n",
    "                             \"duration\": duration, \n",
    "                             \"popularity\": popularity})\n",
    "\n",
    "df_favourite.head()"
   ]
  },
  {
   "cell_type": "code",
   "execution_count": 16,
   "metadata": {},
   "outputs": [
    {
     "output_type": "stream",
     "name": "stdout",
     "text": [
      "CPU times: user 234 ms, sys: 35 ms, total: 269 ms\nWall time: 9.53 s\n"
     ]
    }
   ],
   "source": [
    "%%time\n",
    "fav_tracks = []\n",
    "for track in df_favourite['track_id']:\n",
    "    try:  \n",
    "        track = getTrackFeatures(track)\n",
    "        fav_tracks.append(track)\n",
    "    except:\n",
    "        pass"
   ]
  },
  {
   "cell_type": "code",
   "execution_count": 17,
   "metadata": {},
   "outputs": [
    {
     "output_type": "execute_result",
     "data": {
      "text/plain": [
       "                 track_id              name             album       artist  \\\n",
       "0  03vMyCyCK7pVWjC1i1zur0  Feels Like Death  Feels Like Death  Levi Carter   \n",
       "1  5LpnrXjrt0BOU0iOGH78UN         Glory Boy        Freewave 3        LUCKI   \n",
       "2  1CzjJzPOCLkZr2oqiOrXjc         Tarantino      Almost There        LUCKI   \n",
       "3  0TqNfrOY2IrpFRI2zxsMq4             Faith             Faith        LUCKI   \n",
       "4  4SRBv9M0wIPIw916zWfhkU       Left 4 Dead       Days B4 III        LUCKI   \n",
       "\n",
       "  release_date  length  popularity  danceability  acousticness  energy  \\\n",
       "0   2018-04-24  237505          44         0.755        0.3370   0.626   \n",
       "1   2019-02-15  111048          40         0.784        0.0966   0.519   \n",
       "2   2020-05-29  114773          38         0.790        0.0495   0.547   \n",
       "3   2020-04-17  107467          36         0.878        0.1230   0.584   \n",
       "4   2019-10-25  139130          39         0.719        0.1110   0.500   \n",
       "\n",
       "   instrumentalness  liveness  loudness  speechiness    tempo  time_signature  \n",
       "0          0.000000    0.1370    -6.247        0.293  110.088               4  \n",
       "1          0.010900    0.0748    -9.868        0.096  129.953               3  \n",
       "2          0.000000    0.1140    -9.974        0.108  135.037               4  \n",
       "3          0.000000    0.1050   -10.014        0.419  125.069               4  \n",
       "4          0.000416    0.0992    -9.654        0.318  137.924               4  "
      ],
      "text/html": "<div>\n<style scoped>\n    .dataframe tbody tr th:only-of-type {\n        vertical-align: middle;\n    }\n\n    .dataframe tbody tr th {\n        vertical-align: top;\n    }\n\n    .dataframe thead th {\n        text-align: right;\n    }\n</style>\n<table border=\"1\" class=\"dataframe\">\n  <thead>\n    <tr style=\"text-align: right;\">\n      <th></th>\n      <th>track_id</th>\n      <th>name</th>\n      <th>album</th>\n      <th>artist</th>\n      <th>release_date</th>\n      <th>length</th>\n      <th>popularity</th>\n      <th>danceability</th>\n      <th>acousticness</th>\n      <th>energy</th>\n      <th>instrumentalness</th>\n      <th>liveness</th>\n      <th>loudness</th>\n      <th>speechiness</th>\n      <th>tempo</th>\n      <th>time_signature</th>\n    </tr>\n  </thead>\n  <tbody>\n    <tr>\n      <th>0</th>\n      <td>03vMyCyCK7pVWjC1i1zur0</td>\n      <td>Feels Like Death</td>\n      <td>Feels Like Death</td>\n      <td>Levi Carter</td>\n      <td>2018-04-24</td>\n      <td>237505</td>\n      <td>44</td>\n      <td>0.755</td>\n      <td>0.3370</td>\n      <td>0.626</td>\n      <td>0.000000</td>\n      <td>0.1370</td>\n      <td>-6.247</td>\n      <td>0.293</td>\n      <td>110.088</td>\n      <td>4</td>\n    </tr>\n    <tr>\n      <th>1</th>\n      <td>5LpnrXjrt0BOU0iOGH78UN</td>\n      <td>Glory Boy</td>\n      <td>Freewave 3</td>\n      <td>LUCKI</td>\n      <td>2019-02-15</td>\n      <td>111048</td>\n      <td>40</td>\n      <td>0.784</td>\n      <td>0.0966</td>\n      <td>0.519</td>\n      <td>0.010900</td>\n      <td>0.0748</td>\n      <td>-9.868</td>\n      <td>0.096</td>\n      <td>129.953</td>\n      <td>3</td>\n    </tr>\n    <tr>\n      <th>2</th>\n      <td>1CzjJzPOCLkZr2oqiOrXjc</td>\n      <td>Tarantino</td>\n      <td>Almost There</td>\n      <td>LUCKI</td>\n      <td>2020-05-29</td>\n      <td>114773</td>\n      <td>38</td>\n      <td>0.790</td>\n      <td>0.0495</td>\n      <td>0.547</td>\n      <td>0.000000</td>\n      <td>0.1140</td>\n      <td>-9.974</td>\n      <td>0.108</td>\n      <td>135.037</td>\n      <td>4</td>\n    </tr>\n    <tr>\n      <th>3</th>\n      <td>0TqNfrOY2IrpFRI2zxsMq4</td>\n      <td>Faith</td>\n      <td>Faith</td>\n      <td>LUCKI</td>\n      <td>2020-04-17</td>\n      <td>107467</td>\n      <td>36</td>\n      <td>0.878</td>\n      <td>0.1230</td>\n      <td>0.584</td>\n      <td>0.000000</td>\n      <td>0.1050</td>\n      <td>-10.014</td>\n      <td>0.419</td>\n      <td>125.069</td>\n      <td>4</td>\n    </tr>\n    <tr>\n      <th>4</th>\n      <td>4SRBv9M0wIPIw916zWfhkU</td>\n      <td>Left 4 Dead</td>\n      <td>Days B4 III</td>\n      <td>LUCKI</td>\n      <td>2019-10-25</td>\n      <td>139130</td>\n      <td>39</td>\n      <td>0.719</td>\n      <td>0.1110</td>\n      <td>0.500</td>\n      <td>0.000416</td>\n      <td>0.0992</td>\n      <td>-9.654</td>\n      <td>0.318</td>\n      <td>137.924</td>\n      <td>4</td>\n    </tr>\n  </tbody>\n</table>\n</div>"
     },
     "metadata": {},
     "execution_count": 17
    }
   ],
   "source": [
    "# Create favorite track wtih audio features dataset\n",
    "df_fav = pd.DataFrame(fav_tracks, columns = ['track_id', 'name', 'album', 'artist', 'release_date', 'length', 'popularity', 'danceability', 'acousticness', 'energy', 'instrumentalness', 'liveness', 'loudness', 'speechiness', 'tempo', 'time_signature'])\n",
    "df_fav.head()"
   ]
  },
  {
   "cell_type": "code",
   "execution_count": 18,
   "metadata": {},
   "outputs": [],
   "source": [
    "df_fav['favorite'] = 1\n",
    "df['favorite'] = 0 "
   ]
  },
  {
   "cell_type": "code",
   "execution_count": 19,
   "metadata": {},
   "outputs": [
    {
     "output_type": "execute_result",
     "data": {
      "text/plain": [
       "array([ True,  True,  True,  True,  True,  True,  True,  True,  True,\n",
       "        True,  True,  True,  True,  True,  True,  True,  True])"
      ]
     },
     "metadata": {},
     "execution_count": 19
    }
   ],
   "source": [
    "# Checking if both datasets have the same columns\n",
    "df.columns == df_fav.columns"
   ]
  },
  {
   "source": [
    "## Preparing dataset for model creation"
   ],
   "cell_type": "markdown",
   "metadata": {}
  },
  {
   "source": [
    "### Changing cateogorical variables to numerical"
   ],
   "cell_type": "markdown",
   "metadata": {}
  },
  {
   "cell_type": "code",
   "execution_count": 20,
   "metadata": {},
   "outputs": [
    {
     "output_type": "stream",
     "name": "stdout",
     "text": [
      "(9769, 17)\n(50, 17)\n"
     ]
    }
   ],
   "source": [
    "print(df.shape)\n",
    "print(df_fav.shape)"
   ]
  },
  {
   "cell_type": "code",
   "execution_count": 21,
   "metadata": {},
   "outputs": [
    {
     "output_type": "execute_result",
     "data": {
      "text/plain": [
       "(9819, 17)"
      ]
     },
     "metadata": {},
     "execution_count": 21
    }
   ],
   "source": [
    "combined = pd.concat([df, df_fav])\n",
    "combined.shape"
   ]
  },
  {
   "cell_type": "code",
   "execution_count": 22,
   "metadata": {},
   "outputs": [
    {
     "output_type": "execute_result",
     "data": {
      "text/plain": [
       "0    9769\n",
       "1      50\n",
       "Name: favorite, dtype: int64"
      ]
     },
     "metadata": {},
     "execution_count": 22
    }
   ],
   "source": [
    "combined.favorite.value_counts()"
   ]
  },
  {
   "source": [
    "The favorite songs to not favorite songs are imbalanced, I will need to fix this when building the model"
   ],
   "cell_type": "markdown",
   "metadata": {}
  },
  {
   "cell_type": "code",
   "execution_count": 23,
   "metadata": {},
   "outputs": [
    {
     "output_type": "execute_result",
     "data": {
      "text/plain": [
       "                 track_id  name  album  artist  release_date  length  \\\n",
       "0  7MAibcTli4IisCtbHKrGMh  4008   3340     581          2524  242096   \n",
       "1  5QO79kh1waicV47BqGRL3g  6038    212    3746          2293  215626   \n",
       "2  1diS6nkxMQc3wwC4G1j0bh  8118   2222    1091          2505  165506   \n",
       "3  4u4NyuceXP7Uzh7XFJKCr1  3096   2743    1917          2524  170813   \n",
       "4  3Ofmpyhv5UAQ70mENzB277   542    433    2439          2478  132780   \n",
       "\n",
       "   popularity  danceability  acousticness  energy  instrumentalness  liveness  \\\n",
       "0          90         0.586        0.1820   0.616          0.000000    0.0927   \n",
       "1          97         0.680        0.0212   0.826          0.000012    0.5430   \n",
       "2          88         0.722        0.0319   0.588          0.000000    0.1830   \n",
       "3          89         0.658        0.0106   0.634          0.000000    0.1320   \n",
       "4          94         0.778        0.1750   0.695          0.000000    0.1500   \n",
       "\n",
       "   loudness  speechiness    tempo  time_signature  favorite  \n",
       "0    -7.964       0.0324  148.088               4         0  \n",
       "1    -5.487       0.0309  118.051               4         0  \n",
       "2    -5.932       0.0544  134.010               4         0  \n",
       "3    -5.797       0.0413  139.980               4         0  \n",
       "4    -6.865       0.0913  149.996               4         0  "
      ],
      "text/html": "<div>\n<style scoped>\n    .dataframe tbody tr th:only-of-type {\n        vertical-align: middle;\n    }\n\n    .dataframe tbody tr th {\n        vertical-align: top;\n    }\n\n    .dataframe thead th {\n        text-align: right;\n    }\n</style>\n<table border=\"1\" class=\"dataframe\">\n  <thead>\n    <tr style=\"text-align: right;\">\n      <th></th>\n      <th>track_id</th>\n      <th>name</th>\n      <th>album</th>\n      <th>artist</th>\n      <th>release_date</th>\n      <th>length</th>\n      <th>popularity</th>\n      <th>danceability</th>\n      <th>acousticness</th>\n      <th>energy</th>\n      <th>instrumentalness</th>\n      <th>liveness</th>\n      <th>loudness</th>\n      <th>speechiness</th>\n      <th>tempo</th>\n      <th>time_signature</th>\n      <th>favorite</th>\n    </tr>\n  </thead>\n  <tbody>\n    <tr>\n      <th>0</th>\n      <td>7MAibcTli4IisCtbHKrGMh</td>\n      <td>4008</td>\n      <td>3340</td>\n      <td>581</td>\n      <td>2524</td>\n      <td>242096</td>\n      <td>90</td>\n      <td>0.586</td>\n      <td>0.1820</td>\n      <td>0.616</td>\n      <td>0.000000</td>\n      <td>0.0927</td>\n      <td>-7.964</td>\n      <td>0.0324</td>\n      <td>148.088</td>\n      <td>4</td>\n      <td>0</td>\n    </tr>\n    <tr>\n      <th>1</th>\n      <td>5QO79kh1waicV47BqGRL3g</td>\n      <td>6038</td>\n      <td>212</td>\n      <td>3746</td>\n      <td>2293</td>\n      <td>215626</td>\n      <td>97</td>\n      <td>0.680</td>\n      <td>0.0212</td>\n      <td>0.826</td>\n      <td>0.000012</td>\n      <td>0.5430</td>\n      <td>-5.487</td>\n      <td>0.0309</td>\n      <td>118.051</td>\n      <td>4</td>\n      <td>0</td>\n    </tr>\n    <tr>\n      <th>2</th>\n      <td>1diS6nkxMQc3wwC4G1j0bh</td>\n      <td>8118</td>\n      <td>2222</td>\n      <td>1091</td>\n      <td>2505</td>\n      <td>165506</td>\n      <td>88</td>\n      <td>0.722</td>\n      <td>0.0319</td>\n      <td>0.588</td>\n      <td>0.000000</td>\n      <td>0.1830</td>\n      <td>-5.932</td>\n      <td>0.0544</td>\n      <td>134.010</td>\n      <td>4</td>\n      <td>0</td>\n    </tr>\n    <tr>\n      <th>3</th>\n      <td>4u4NyuceXP7Uzh7XFJKCr1</td>\n      <td>3096</td>\n      <td>2743</td>\n      <td>1917</td>\n      <td>2524</td>\n      <td>170813</td>\n      <td>89</td>\n      <td>0.658</td>\n      <td>0.0106</td>\n      <td>0.634</td>\n      <td>0.000000</td>\n      <td>0.1320</td>\n      <td>-5.797</td>\n      <td>0.0413</td>\n      <td>139.980</td>\n      <td>4</td>\n      <td>0</td>\n    </tr>\n    <tr>\n      <th>4</th>\n      <td>3Ofmpyhv5UAQ70mENzB277</td>\n      <td>542</td>\n      <td>433</td>\n      <td>2439</td>\n      <td>2478</td>\n      <td>132780</td>\n      <td>94</td>\n      <td>0.778</td>\n      <td>0.1750</td>\n      <td>0.695</td>\n      <td>0.000000</td>\n      <td>0.1500</td>\n      <td>-6.865</td>\n      <td>0.0913</td>\n      <td>149.996</td>\n      <td>4</td>\n      <td>0</td>\n    </tr>\n  </tbody>\n</table>\n</div>"
     },
     "metadata": {},
     "execution_count": 23
    }
   ],
   "source": [
    "categoricals = ['name', 'album', 'artist', 'release_date']\n",
    "for cat in categoricals:\n",
    "    sorted_df = sorted(set(combined[cat]))\n",
    "    ordinal_encoding = combined[cat].replace(dict(zip(sorted_df, range(1, len(sorted_df) + 1))))\n",
    "    combined[cat] = ordinal_encoding\n",
    "df = combined\n",
    "df.head()"
   ]
  },
  {
   "cell_type": "code",
   "execution_count": 24,
   "metadata": {},
   "outputs": [
    {
     "output_type": "execute_result",
     "data": {
      "text/plain": [
       "                 track_id  name  album  artist  release_date  length  \\\n",
       "0  03vMyCyCK7pVWjC1i1zur0  2360   2039    2181          1956  237505   \n",
       "1  5LpnrXjrt0BOU0iOGH78UN  2723   2186    2107          2088  111048   \n",
       "2  1CzjJzPOCLkZr2oqiOrXjc  7094    300    2107          2335  114773   \n",
       "3  0TqNfrOY2IrpFRI2zxsMq4  2269   1971    2107          2310  107467   \n",
       "4  4SRBv9M0wIPIw916zWfhkU  4014   1489    2107          2211  139130   \n",
       "\n",
       "   popularity  danceability  acousticness  energy  instrumentalness  liveness  \\\n",
       "0          44         0.755        0.3370   0.626          0.000000    0.1370   \n",
       "1          40         0.784        0.0966   0.519          0.010900    0.0748   \n",
       "2          38         0.790        0.0495   0.547          0.000000    0.1140   \n",
       "3          36         0.878        0.1230   0.584          0.000000    0.1050   \n",
       "4          39         0.719        0.1110   0.500          0.000416    0.0992   \n",
       "\n",
       "   loudness  speechiness    tempo  time_signature  favorite  \n",
       "0    -6.247        0.293  110.088               4         1  \n",
       "1    -9.868        0.096  129.953               3         1  \n",
       "2    -9.974        0.108  135.037               4         1  \n",
       "3   -10.014        0.419  125.069               4         1  \n",
       "4    -9.654        0.318  137.924               4         1  "
      ],
      "text/html": "<div>\n<style scoped>\n    .dataframe tbody tr th:only-of-type {\n        vertical-align: middle;\n    }\n\n    .dataframe tbody tr th {\n        vertical-align: top;\n    }\n\n    .dataframe thead th {\n        text-align: right;\n    }\n</style>\n<table border=\"1\" class=\"dataframe\">\n  <thead>\n    <tr style=\"text-align: right;\">\n      <th></th>\n      <th>track_id</th>\n      <th>name</th>\n      <th>album</th>\n      <th>artist</th>\n      <th>release_date</th>\n      <th>length</th>\n      <th>popularity</th>\n      <th>danceability</th>\n      <th>acousticness</th>\n      <th>energy</th>\n      <th>instrumentalness</th>\n      <th>liveness</th>\n      <th>loudness</th>\n      <th>speechiness</th>\n      <th>tempo</th>\n      <th>time_signature</th>\n      <th>favorite</th>\n    </tr>\n  </thead>\n  <tbody>\n    <tr>\n      <th>0</th>\n      <td>03vMyCyCK7pVWjC1i1zur0</td>\n      <td>2360</td>\n      <td>2039</td>\n      <td>2181</td>\n      <td>1956</td>\n      <td>237505</td>\n      <td>44</td>\n      <td>0.755</td>\n      <td>0.3370</td>\n      <td>0.626</td>\n      <td>0.000000</td>\n      <td>0.1370</td>\n      <td>-6.247</td>\n      <td>0.293</td>\n      <td>110.088</td>\n      <td>4</td>\n      <td>1</td>\n    </tr>\n    <tr>\n      <th>1</th>\n      <td>5LpnrXjrt0BOU0iOGH78UN</td>\n      <td>2723</td>\n      <td>2186</td>\n      <td>2107</td>\n      <td>2088</td>\n      <td>111048</td>\n      <td>40</td>\n      <td>0.784</td>\n      <td>0.0966</td>\n      <td>0.519</td>\n      <td>0.010900</td>\n      <td>0.0748</td>\n      <td>-9.868</td>\n      <td>0.096</td>\n      <td>129.953</td>\n      <td>3</td>\n      <td>1</td>\n    </tr>\n    <tr>\n      <th>2</th>\n      <td>1CzjJzPOCLkZr2oqiOrXjc</td>\n      <td>7094</td>\n      <td>300</td>\n      <td>2107</td>\n      <td>2335</td>\n      <td>114773</td>\n      <td>38</td>\n      <td>0.790</td>\n      <td>0.0495</td>\n      <td>0.547</td>\n      <td>0.000000</td>\n      <td>0.1140</td>\n      <td>-9.974</td>\n      <td>0.108</td>\n      <td>135.037</td>\n      <td>4</td>\n      <td>1</td>\n    </tr>\n    <tr>\n      <th>3</th>\n      <td>0TqNfrOY2IrpFRI2zxsMq4</td>\n      <td>2269</td>\n      <td>1971</td>\n      <td>2107</td>\n      <td>2310</td>\n      <td>107467</td>\n      <td>36</td>\n      <td>0.878</td>\n      <td>0.1230</td>\n      <td>0.584</td>\n      <td>0.000000</td>\n      <td>0.1050</td>\n      <td>-10.014</td>\n      <td>0.419</td>\n      <td>125.069</td>\n      <td>4</td>\n      <td>1</td>\n    </tr>\n    <tr>\n      <th>4</th>\n      <td>4SRBv9M0wIPIw916zWfhkU</td>\n      <td>4014</td>\n      <td>1489</td>\n      <td>2107</td>\n      <td>2211</td>\n      <td>139130</td>\n      <td>39</td>\n      <td>0.719</td>\n      <td>0.1110</td>\n      <td>0.500</td>\n      <td>0.000416</td>\n      <td>0.0992</td>\n      <td>-9.654</td>\n      <td>0.318</td>\n      <td>137.924</td>\n      <td>4</td>\n      <td>1</td>\n    </tr>\n  </tbody>\n</table>\n</div>"
     },
     "metadata": {},
     "execution_count": 24
    }
   ],
   "source": [
    "# Creating dataframe of favorite songs with categorical encodings\n",
    "df_fav = df.loc[df['favorite'] == 1]\n",
    "df_fav.head()"
   ]
  },
  {
   "cell_type": "code",
   "execution_count": 25,
   "metadata": {},
   "outputs": [
    {
     "output_type": "execute_result",
     "data": {
      "text/plain": [
       "(9769, 17)"
      ]
     },
     "metadata": {},
     "execution_count": 25
    }
   ],
   "source": [
    "# Removing favorite songs from playlist songs\n",
    "df = df.loc[df['favorite'] != 1]\n",
    "df.shape"
   ]
  },
  {
   "cell_type": "code",
   "execution_count": 26,
   "metadata": {},
   "outputs": [
    {
     "output_type": "execute_result",
     "data": {
      "text/plain": [
       "(50, 17)"
      ]
     },
     "metadata": {},
     "execution_count": 26
    }
   ],
   "source": [
    "df_fav.shape"
   ]
  },
  {
   "cell_type": "code",
   "execution_count": 27,
   "metadata": {},
   "outputs": [],
   "source": [
    "# # Saving these dataframes to use in model creation\n",
    "# df.to_csv('encoded_playlist_songs.csv', index=False)\n",
    "# df_fav.to_csv('favorite_songs.csv', index=False)"
   ]
  }
 ]
}