{
 "metadata": {
  "language_info": {
   "codemirror_mode": {
    "name": "ipython",
    "version": 3
   },
   "file_extension": ".py",
   "mimetype": "text/x-python",
   "name": "python",
   "nbconvert_exporter": "python",
   "pygments_lexer": "ipython3",
   "version": "3.9.2-final"
  },
  "orig_nbformat": 2,
  "kernelspec": {
   "name": "python3",
   "display_name": "Python 3",
   "language": "python"
  }
 },
 "nbformat": 4,
 "nbformat_minor": 2,
 "cells": [
  {
   "cell_type": "code",
   "execution_count": 1,
   "metadata": {},
   "outputs": [],
   "source": [
    "# Importing necessary libraries and settings\n",
    "import time\n",
    "import os\n",
    "import pandas as pd\n",
    "import numpy as np\n",
    "import json\n",
    "import matplotlib.pyplot as plt\n",
    "import seaborn as sns\n",
    "%config InlineBackend.figure_format ='retina'\n",
    "import random\n",
    "from functools import reduce\n",
    "import spotipy\n",
    "import spotipy.util as util\n",
    "from spotipy.oauth2 import SpotifyClientCredentials\n",
    "from spotipy import oauth2"
   ]
  },
  {
   "cell_type": "code",
   "execution_count": 2,
   "metadata": {},
   "outputs": [],
   "source": [
    "# Insert your Spotify username and the credentials that you obtained from spotify developer\n",
    "cid = 'XXXXXX'\n",
    "secret = 'XXXXXX'\n",
    "redirect_uri='http://localhost:7777/callback'\n",
    "username = 'XXXXXX'"
   ]
  },
  {
   "cell_type": "code",
   "execution_count": 3,
   "metadata": {},
   "outputs": [],
   "source": [
    "# Once the Authorisation is complete, we just need to `sp` to call the APIs\n",
    "scope = 'user-top-read playlist-modify-private playlist-modify-public'\n",
    "token = util.prompt_for_user_token(username, scope, client_id=cid, client_secret=secret, redirect_uri=redirect_uri)\n",
    "\n",
    "if token:\n",
    "    sp = spotipy.Spotify(auth=token)\n",
    "else:\n",
    "    print(\"Can't get token for\", username)"
   ]
  },
  {
   "cell_type": "code",
   "execution_count": 4,
   "metadata": {},
   "outputs": [],
   "source": [
    "# Getting features for each song\n",
    "def fetch_audio_features(sp, df):\n",
    "    playlist = df[['track_id','track_name']] \n",
    "    index = 0\n",
    "    audio_features = []\n",
    "    \n",
    "    # Make the API request\n",
    "    while index < playlist.shape[0]:\n",
    "        audio_features += sp.audio_features(playlist.iloc[index:index + 50, 0])\n",
    "        index += 50\n",
    "    \n",
    "    # Create an empty list to feed in different charactieritcs of the tracks\n",
    "    features_list = []\n",
    "    #Create keys-values of empty lists inside nested dictionary for album\n",
    "    for features in audio_features:\n",
    "        features_list.append([features['danceability'],\n",
    "                              features['acousticness'],\n",
    "                              features['energy'], \n",
    "                              features['tempo'],\n",
    "                              features['instrumentalness'], \n",
    "                              features['loudness'],\n",
    "                              features['liveness'],\n",
    "                              features['duration_ms'],\n",
    "                              features['key'],\n",
    "                              features['valence'],\n",
    "                              features['speechiness'],\n",
    "                              features['mode']\n",
    "                             ])\n",
    "    \n",
    "    df_audio_features = pd.DataFrame(features_list, columns=['danceability', 'acousticness', 'energy','tempo', \n",
    "                                                             'instrumentalness', 'loudness', 'liveness','duration_ms', 'key',\n",
    "                                                             'valence', 'speechiness', 'mode'])\n",
    "    \n",
    "    # Create the final df, using the 'track_id' as index for future reference\n",
    "    df_playlist_audio_features = pd.concat([playlist, df_audio_features], axis=1)\n",
    "    df_playlist_audio_features.set_index('track_name', inplace=True, drop=True)\n",
    "    return df_playlist_audio_features"
   ]
  },
  {
   "source": [
    "### Getting the songs from all of Spotify's playlists"
   ],
   "cell_type": "markdown",
   "metadata": {}
  },
  {
   "source": [
    "The following cells are collecting the songs from all of the playlists from the official Spotify account. In this repo, I've curated a dataframe of approximately 10,000 songs. If you would like to add more songs, modify the cells below. I've commented them out because they take a long time to run and are unnecessary if you'd like to use the dataframe I've already built."
   ],
   "cell_type": "markdown",
   "metadata": {}
  },
  {
   "cell_type": "code",
   "execution_count": 5,
   "metadata": {
    "tags": []
   },
   "outputs": [],
   "source": [
    "# # Getting playlist IDs from each of Spotify's playlists\n",
    "# playlists = sp.user_playlists('spotify')\n",
    "# spotify_playlist_ids = []\n",
    "# while playlists:\n",
    "#     for i, playlist in enumerate(playlists['items']):\n",
    "#         spotify_playlist_ids.append(playlist['uri'][-22:])\n",
    "#     if playlists['next']:\n",
    "#         playlists = sp.next(playlists)\n",
    "#     else:\n",
    "#         playlists = None\n",
    "# spotify_playlist_ids[:20]"
   ]
  },
  {
   "cell_type": "code",
   "execution_count": 6,
   "metadata": {},
   "outputs": [],
   "source": [
    "# len(spotify_playlist_ids)"
   ]
  },
  {
   "source": [
    "### Getting tracks from Spotify playlists"
   ],
   "cell_type": "markdown",
   "metadata": {}
  },
  {
   "cell_type": "code",
   "execution_count": 7,
   "metadata": {},
   "outputs": [],
   "source": [
    "# Creating a function to get the first 50 tracks IDs from a playlist\n",
    "def getTrackIDs(playlist_id):\n",
    "    playlist = sp.user_playlist('spotify', playlist_id)\n",
    "    for item in playlist['tracks']['items'][:50]:\n",
    "        track = item['track']\n",
    "        ids.append(track['id'])\n",
    "    return"
   ]
  },
  {
   "cell_type": "code",
   "execution_count": 8,
   "metadata": {},
   "outputs": [],
   "source": [
    "# Creating a function get features of each track from track id\n",
    "def getTrackFeatures(track_id):\n",
    "  meta = sp.track(track_id)\n",
    "  features = sp.audio_features(track_id)\n",
    "\n",
    "  # meta\n",
    "  track_id = track_id\n",
    "  name = meta['name']\n",
    "  album = meta['album']['name']\n",
    "  artist = meta['album']['artists'][0]['name']\n",
    "  release_date = meta['album']['release_date']\n",
    "  length = meta['duration_ms']\n",
    "  popularity = meta['popularity']\n",
    "\n",
    "  # features\n",
    "  acousticness = features[0]['acousticness']\n",
    "  danceability = features[0]['danceability']\n",
    "  energy = features[0]['energy']\n",
    "  instrumentalness = features[0]['instrumentalness']\n",
    "  liveness = features[0]['liveness']\n",
    "  loudness = features[0]['loudness']\n",
    "  speechiness = features[0]['speechiness']\n",
    "  tempo = features[0]['tempo']\n",
    "  time_signature = features[0]['time_signature']\n",
    "\n",
    "  track = [track_id, name, album, artist, release_date, length, popularity, danceability, acousticness, energy, instrumentalness, liveness, loudness, speechiness, tempo, time_signature]\n",
    "  return track"
   ]
  },
  {
   "source": [
    "The cell below takes about five minutes to run."
   ],
   "cell_type": "markdown",
   "metadata": {}
  },
  {
   "cell_type": "code",
   "execution_count": 9,
   "metadata": {},
   "outputs": [],
   "source": [
    "# %%time\n",
    "# # Gathering track ids\n",
    "# ids = []\n",
    "# for x in spotify_playlist_ids[:200]:\n",
    "#     getTrackIDs(x)\n",
    "# ids[:5]"
   ]
  },
  {
   "source": [
    "The cell below takes about 30 minutes to run."
   ],
   "cell_type": "markdown",
   "metadata": {}
  },
  {
   "cell_type": "code",
   "execution_count": 10,
   "metadata": {
    "tags": []
   },
   "outputs": [],
   "source": [
    "# %%time\n",
    "# # loop over track ids to get audio features for each track\n",
    "# tracks = []\n",
    "# for i in range(len(ids)):\n",
    "#     try:  \n",
    "#         track = getTrackFeatures(ids[i])\n",
    "#         tracks.append(track)\n",
    "#     except:\n",
    "#         pass\n",
    "\n",
    "# # create dataset\n",
    "# df = pd.DataFrame(tracks, columns = ['track_id', 'name', 'album', 'artist', 'release_date', 'length', 'popularity', 'danceability', 'acousticness', 'energy', 'instrumentalness', 'liveness', 'loudness', 'speechiness', 'tempo', 'time_signature'])\n",
    "# df.head()"
   ]
  },
  {
   "cell_type": "code",
   "execution_count": 11,
   "metadata": {},
   "outputs": [],
   "source": [
    "# df.to_csv('playlist_songs.csv',index=False)"
   ]
  },
  {
   "cell_type": "code",
   "execution_count": 12,
   "metadata": {},
   "outputs": [
    {
     "output_type": "execute_result",
     "data": {
      "text/plain": [
       "                 track_id                    name  \\\n",
       "0  7MAibcTli4IisCtbHKrGMh     Leave The Door Open   \n",
       "1  5QO79kh1waicV47BqGRL3g         Save Your Tears   \n",
       "2  1diS6nkxMQc3wwC4G1j0bh              We're Good   \n",
       "3  4u4NyuceXP7Uzh7XFJKCr1                 Hold On   \n",
       "4  3Ofmpyhv5UAQ70mENzB277  Astronaut In The Ocean   \n",
       "\n",
       "                                      album         artist release_date  \\\n",
       "0                       Leave The Door Open     Bruno Mars   2021-03-05   \n",
       "1                               After Hours     The Weeknd   2020-03-20   \n",
       "2  Future Nostalgia (The Moonlight Edition)       Dua Lipa   2021-02-11   \n",
       "3                                   Hold On  Justin Bieber   2021-03-05   \n",
       "4                    Astronaut In The Ocean    Masked Wolf   2021-01-06   \n",
       "\n",
       "   length  popularity  danceability  acousticness  energy  instrumentalness  \\\n",
       "0  242096          90         0.586        0.1820   0.616          0.000000   \n",
       "1  215626          97         0.680        0.0212   0.826          0.000012   \n",
       "2  165506          88         0.722        0.0319   0.588          0.000000   \n",
       "3  170813          89         0.658        0.0106   0.634          0.000000   \n",
       "4  132780          94         0.778        0.1750   0.695          0.000000   \n",
       "\n",
       "   liveness  loudness  speechiness    tempo  time_signature  \n",
       "0    0.0927    -7.964       0.0324  148.088               4  \n",
       "1    0.5430    -5.487       0.0309  118.051               4  \n",
       "2    0.1830    -5.932       0.0544  134.010               4  \n",
       "3    0.1320    -5.797       0.0413  139.980               4  \n",
       "4    0.1500    -6.865       0.0913  149.996               4  "
      ],
      "text/html": "<div>\n<style scoped>\n    .dataframe tbody tr th:only-of-type {\n        vertical-align: middle;\n    }\n\n    .dataframe tbody tr th {\n        vertical-align: top;\n    }\n\n    .dataframe thead th {\n        text-align: right;\n    }\n</style>\n<table border=\"1\" class=\"dataframe\">\n  <thead>\n    <tr style=\"text-align: right;\">\n      <th></th>\n      <th>track_id</th>\n      <th>name</th>\n      <th>album</th>\n      <th>artist</th>\n      <th>release_date</th>\n      <th>length</th>\n      <th>popularity</th>\n      <th>danceability</th>\n      <th>acousticness</th>\n      <th>energy</th>\n      <th>instrumentalness</th>\n      <th>liveness</th>\n      <th>loudness</th>\n      <th>speechiness</th>\n      <th>tempo</th>\n      <th>time_signature</th>\n    </tr>\n  </thead>\n  <tbody>\n    <tr>\n      <th>0</th>\n      <td>7MAibcTli4IisCtbHKrGMh</td>\n      <td>Leave The Door Open</td>\n      <td>Leave The Door Open</td>\n      <td>Bruno Mars</td>\n      <td>2021-03-05</td>\n      <td>242096</td>\n      <td>90</td>\n      <td>0.586</td>\n      <td>0.1820</td>\n      <td>0.616</td>\n      <td>0.000000</td>\n      <td>0.0927</td>\n      <td>-7.964</td>\n      <td>0.0324</td>\n      <td>148.088</td>\n      <td>4</td>\n    </tr>\n    <tr>\n      <th>1</th>\n      <td>5QO79kh1waicV47BqGRL3g</td>\n      <td>Save Your Tears</td>\n      <td>After Hours</td>\n      <td>The Weeknd</td>\n      <td>2020-03-20</td>\n      <td>215626</td>\n      <td>97</td>\n      <td>0.680</td>\n      <td>0.0212</td>\n      <td>0.826</td>\n      <td>0.000012</td>\n      <td>0.5430</td>\n      <td>-5.487</td>\n      <td>0.0309</td>\n      <td>118.051</td>\n      <td>4</td>\n    </tr>\n    <tr>\n      <th>2</th>\n      <td>1diS6nkxMQc3wwC4G1j0bh</td>\n      <td>We're Good</td>\n      <td>Future Nostalgia (The Moonlight Edition)</td>\n      <td>Dua Lipa</td>\n      <td>2021-02-11</td>\n      <td>165506</td>\n      <td>88</td>\n      <td>0.722</td>\n      <td>0.0319</td>\n      <td>0.588</td>\n      <td>0.000000</td>\n      <td>0.1830</td>\n      <td>-5.932</td>\n      <td>0.0544</td>\n      <td>134.010</td>\n      <td>4</td>\n    </tr>\n    <tr>\n      <th>3</th>\n      <td>4u4NyuceXP7Uzh7XFJKCr1</td>\n      <td>Hold On</td>\n      <td>Hold On</td>\n      <td>Justin Bieber</td>\n      <td>2021-03-05</td>\n      <td>170813</td>\n      <td>89</td>\n      <td>0.658</td>\n      <td>0.0106</td>\n      <td>0.634</td>\n      <td>0.000000</td>\n      <td>0.1320</td>\n      <td>-5.797</td>\n      <td>0.0413</td>\n      <td>139.980</td>\n      <td>4</td>\n    </tr>\n    <tr>\n      <th>4</th>\n      <td>3Ofmpyhv5UAQ70mENzB277</td>\n      <td>Astronaut In The Ocean</td>\n      <td>Astronaut In The Ocean</td>\n      <td>Masked Wolf</td>\n      <td>2021-01-06</td>\n      <td>132780</td>\n      <td>94</td>\n      <td>0.778</td>\n      <td>0.1750</td>\n      <td>0.695</td>\n      <td>0.000000</td>\n      <td>0.1500</td>\n      <td>-6.865</td>\n      <td>0.0913</td>\n      <td>149.996</td>\n      <td>4</td>\n    </tr>\n  </tbody>\n</table>\n</div>"
     },
     "metadata": {},
     "execution_count": 12
    }
   ],
   "source": [
    "df = pd.read_csv('data/playlist_songs.csv')\n",
    "df.head()"
   ]
  },
  {
   "cell_type": "code",
   "execution_count": 13,
   "metadata": {},
   "outputs": [
    {
     "output_type": "execute_result",
     "data": {
      "text/plain": [
       "                 track_id  length  popularity  danceability  acousticness  \\\n",
       "0  7MAibcTli4IisCtbHKrGMh  242096          90         0.586        0.1820   \n",
       "1  5QO79kh1waicV47BqGRL3g  215626          97         0.680        0.0212   \n",
       "2  1diS6nkxMQc3wwC4G1j0bh  165506          88         0.722        0.0319   \n",
       "3  4u4NyuceXP7Uzh7XFJKCr1  170813          89         0.658        0.0106   \n",
       "4  3Ofmpyhv5UAQ70mENzB277  132780          94         0.778        0.1750   \n",
       "\n",
       "   energy  instrumentalness  liveness  loudness  speechiness    tempo  \\\n",
       "0   0.616          0.000000    0.0927    -7.964       0.0324  148.088   \n",
       "1   0.826          0.000012    0.5430    -5.487       0.0309  118.051   \n",
       "2   0.588          0.000000    0.1830    -5.932       0.0544  134.010   \n",
       "3   0.634          0.000000    0.1320    -5.797       0.0413  139.980   \n",
       "4   0.695          0.000000    0.1500    -6.865       0.0913  149.996   \n",
       "\n",
       "   time_signature  \n",
       "0               4  \n",
       "1               4  \n",
       "2               4  \n",
       "3               4  \n",
       "4               4  "
      ],
      "text/html": "<div>\n<style scoped>\n    .dataframe tbody tr th:only-of-type {\n        vertical-align: middle;\n    }\n\n    .dataframe tbody tr th {\n        vertical-align: top;\n    }\n\n    .dataframe thead th {\n        text-align: right;\n    }\n</style>\n<table border=\"1\" class=\"dataframe\">\n  <thead>\n    <tr style=\"text-align: right;\">\n      <th></th>\n      <th>track_id</th>\n      <th>length</th>\n      <th>popularity</th>\n      <th>danceability</th>\n      <th>acousticness</th>\n      <th>energy</th>\n      <th>instrumentalness</th>\n      <th>liveness</th>\n      <th>loudness</th>\n      <th>speechiness</th>\n      <th>tempo</th>\n      <th>time_signature</th>\n    </tr>\n  </thead>\n  <tbody>\n    <tr>\n      <th>0</th>\n      <td>7MAibcTli4IisCtbHKrGMh</td>\n      <td>242096</td>\n      <td>90</td>\n      <td>0.586</td>\n      <td>0.1820</td>\n      <td>0.616</td>\n      <td>0.000000</td>\n      <td>0.0927</td>\n      <td>-7.964</td>\n      <td>0.0324</td>\n      <td>148.088</td>\n      <td>4</td>\n    </tr>\n    <tr>\n      <th>1</th>\n      <td>5QO79kh1waicV47BqGRL3g</td>\n      <td>215626</td>\n      <td>97</td>\n      <td>0.680</td>\n      <td>0.0212</td>\n      <td>0.826</td>\n      <td>0.000012</td>\n      <td>0.5430</td>\n      <td>-5.487</td>\n      <td>0.0309</td>\n      <td>118.051</td>\n      <td>4</td>\n    </tr>\n    <tr>\n      <th>2</th>\n      <td>1diS6nkxMQc3wwC4G1j0bh</td>\n      <td>165506</td>\n      <td>88</td>\n      <td>0.722</td>\n      <td>0.0319</td>\n      <td>0.588</td>\n      <td>0.000000</td>\n      <td>0.1830</td>\n      <td>-5.932</td>\n      <td>0.0544</td>\n      <td>134.010</td>\n      <td>4</td>\n    </tr>\n    <tr>\n      <th>3</th>\n      <td>4u4NyuceXP7Uzh7XFJKCr1</td>\n      <td>170813</td>\n      <td>89</td>\n      <td>0.658</td>\n      <td>0.0106</td>\n      <td>0.634</td>\n      <td>0.000000</td>\n      <td>0.1320</td>\n      <td>-5.797</td>\n      <td>0.0413</td>\n      <td>139.980</td>\n      <td>4</td>\n    </tr>\n    <tr>\n      <th>4</th>\n      <td>3Ofmpyhv5UAQ70mENzB277</td>\n      <td>132780</td>\n      <td>94</td>\n      <td>0.778</td>\n      <td>0.1750</td>\n      <td>0.695</td>\n      <td>0.000000</td>\n      <td>0.1500</td>\n      <td>-6.865</td>\n      <td>0.0913</td>\n      <td>149.996</td>\n      <td>4</td>\n    </tr>\n  </tbody>\n</table>\n</div>"
     },
     "metadata": {},
     "execution_count": 13
    }
   ],
   "source": [
    "# Dropping columns that could lead to data leakage\n",
    "df = df.drop(columns=['name', 'album', 'artist', 'release_date'])\n",
    "df.head()"
   ]
  },
  {
   "cell_type": "code",
   "execution_count": 14,
   "metadata": {},
   "outputs": [
    {
     "output_type": "execute_result",
     "data": {
      "text/plain": [
       "4CRYAPb5vbeP91rAD6ppRM    1\n",
       "0tMfqwt9V5IZhT8c1QQhZX    1\n",
       "5ugGAdRJMbbVp9PyLpBSZs    1\n",
       "1BhtPxwzsPMFXhlfCpkw9B    1\n",
       "5IjIbGO7lih9CVDBFLCtTT    1\n",
       "                         ..\n",
       "3Cgqpo0ASrbFeX7rNgiuZW    1\n",
       "7EcKCPFNyB3k806vHg7jGE    1\n",
       "3vzjnDcT3KABBJznjIfJWe    1\n",
       "3HnDP4FrCcTgbhRdHs7Rvd    1\n",
       "7ytES33eLYS9WaZLKqWfYM    1\n",
       "Name: track_id, Length: 8883, dtype: int64"
      ]
     },
     "metadata": {},
     "execution_count": 14
    }
   ],
   "source": [
    "# Dropping duplicated songs\n",
    "df = df.drop_duplicates(subset=['track_id'])\n",
    "df['track_id'].value_counts()"
   ]
  },
  {
   "cell_type": "code",
   "execution_count": null,
   "metadata": {},
   "outputs": [],
   "source": []
  },
  {
   "source": [
    "## Getting user's favorite tracks"
   ],
   "cell_type": "markdown",
   "metadata": {}
  },
  {
   "cell_type": "code",
   "execution_count": 15,
   "metadata": {},
   "outputs": [],
   "source": [
    "# Getting top 50 tracks from user\n",
    "results = sp.current_user_top_tracks(limit=1000, offset=0,time_range='short_term')"
   ]
  },
  {
   "cell_type": "code",
   "execution_count": 16,
   "metadata": {},
   "outputs": [
    {
     "output_type": "execute_result",
     "data": {
      "text/plain": [
       "        track_name         album                track_id   artist  duration  \\\n",
       "0        Tarantino  Almost There  1CzjJzPOCLkZr2oqiOrXjc    LUCKI    114773   \n",
       "1       Prada Tune  Almost There  23slkWAmlcxi3XcSwC9RLZ    LUCKI    122813   \n",
       "2      Off The Map      After Me  6GNG0YQixWuLE0M5FtrRxY  SoFaygo    141582   \n",
       "3            Faith         Faith  0TqNfrOY2IrpFRI2zxsMq4    LUCKI    107467   \n",
       "4  Saucin' - Remix      Freewave  1djb4ACCvrs7MPnKwA9w9I    LUCKI    208274   \n",
       "\n",
       "   popularity  \n",
       "0          39  \n",
       "1          46  \n",
       "2          62  \n",
       "3          37  \n",
       "4          38  "
      ],
      "text/html": "<div>\n<style scoped>\n    .dataframe tbody tr th:only-of-type {\n        vertical-align: middle;\n    }\n\n    .dataframe tbody tr th {\n        vertical-align: top;\n    }\n\n    .dataframe thead th {\n        text-align: right;\n    }\n</style>\n<table border=\"1\" class=\"dataframe\">\n  <thead>\n    <tr style=\"text-align: right;\">\n      <th></th>\n      <th>track_name</th>\n      <th>album</th>\n      <th>track_id</th>\n      <th>artist</th>\n      <th>duration</th>\n      <th>popularity</th>\n    </tr>\n  </thead>\n  <tbody>\n    <tr>\n      <th>0</th>\n      <td>Tarantino</td>\n      <td>Almost There</td>\n      <td>1CzjJzPOCLkZr2oqiOrXjc</td>\n      <td>LUCKI</td>\n      <td>114773</td>\n      <td>39</td>\n    </tr>\n    <tr>\n      <th>1</th>\n      <td>Prada Tune</td>\n      <td>Almost There</td>\n      <td>23slkWAmlcxi3XcSwC9RLZ</td>\n      <td>LUCKI</td>\n      <td>122813</td>\n      <td>46</td>\n    </tr>\n    <tr>\n      <th>2</th>\n      <td>Off The Map</td>\n      <td>After Me</td>\n      <td>6GNG0YQixWuLE0M5FtrRxY</td>\n      <td>SoFaygo</td>\n      <td>141582</td>\n      <td>62</td>\n    </tr>\n    <tr>\n      <th>3</th>\n      <td>Faith</td>\n      <td>Faith</td>\n      <td>0TqNfrOY2IrpFRI2zxsMq4</td>\n      <td>LUCKI</td>\n      <td>107467</td>\n      <td>37</td>\n    </tr>\n    <tr>\n      <th>4</th>\n      <td>Saucin' - Remix</td>\n      <td>Freewave</td>\n      <td>1djb4ACCvrs7MPnKwA9w9I</td>\n      <td>LUCKI</td>\n      <td>208274</td>\n      <td>38</td>\n    </tr>\n  </tbody>\n</table>\n</div>"
     },
     "metadata": {},
     "execution_count": 16
    }
   ],
   "source": [
    "# Convert it to Dataframe\n",
    "track_name = []\n",
    "track_id = []\n",
    "artist = []\n",
    "album = []\n",
    "duration = []\n",
    "popularity = []\n",
    "for i, items in enumerate(results['items']):\n",
    "        track_name.append(items['name'])\n",
    "        track_id.append(items['id'])\n",
    "        artist.append(items[\"artists\"][0][\"name\"])\n",
    "        duration.append(items[\"duration_ms\"])\n",
    "        album.append(items[\"album\"][\"name\"])\n",
    "        popularity.append(items[\"popularity\"])\n",
    "\n",
    "# Create the final df   \n",
    "df_favourite = pd.DataFrame({ \"track_name\": track_name, \n",
    "                             \"album\": album, \n",
    "                             \"track_id\": track_id,\n",
    "                             \"artist\": artist, \n",
    "                             \"duration\": duration, \n",
    "                             \"popularity\": popularity})\n",
    "\n",
    "df_favourite.head()"
   ]
  },
  {
   "cell_type": "code",
   "execution_count": 17,
   "metadata": {},
   "outputs": [
    {
     "output_type": "stream",
     "name": "stdout",
     "text": [
      "CPU times: user 385 ms, sys: 59.6 ms, total: 445 ms\nWall time: 4.69 s\n"
     ]
    }
   ],
   "source": [
    "%%time\n",
    "# Getting track features for each song in favorite song dataframe\n",
    "fav_tracks = []\n",
    "for track in df_favourite['track_id']:\n",
    "    try:  \n",
    "        track = getTrackFeatures(track)\n",
    "        fav_tracks.append(track)\n",
    "    except:\n",
    "        pass"
   ]
  },
  {
   "cell_type": "code",
   "execution_count": 18,
   "metadata": {},
   "outputs": [
    {
     "output_type": "execute_result",
     "data": {
      "text/plain": [
       "                 track_id             name         album   artist  \\\n",
       "0  1CzjJzPOCLkZr2oqiOrXjc        Tarantino  Almost There    LUCKI   \n",
       "1  23slkWAmlcxi3XcSwC9RLZ       Prada Tune  Almost There    LUCKI   \n",
       "2  6GNG0YQixWuLE0M5FtrRxY      Off The Map      After Me  SoFaygo   \n",
       "3  0TqNfrOY2IrpFRI2zxsMq4            Faith         Faith    LUCKI   \n",
       "4  1djb4ACCvrs7MPnKwA9w9I  Saucin' - Remix      Freewave    LUCKI   \n",
       "\n",
       "  release_date  length  popularity  danceability  acousticness  energy  \\\n",
       "0   2020-05-29  114773          39         0.790        0.0495   0.547   \n",
       "1   2020-05-29  122813          46         0.706        0.0263   0.268   \n",
       "2   2020-12-17  141582          62         0.472        0.0757   0.847   \n",
       "3   2020-04-17  107467          37         0.878        0.1230   0.584   \n",
       "4   2015-10-15  208274          38         0.916        0.4040   0.382   \n",
       "\n",
       "   instrumentalness  liveness  loudness  speechiness    tempo  time_signature  \n",
       "0               0.0     0.114    -9.974       0.1080  135.037               4  \n",
       "1               0.0     0.239   -13.220       0.2870  130.048               4  \n",
       "2               0.0     0.300    -6.347       0.0419  150.164               4  \n",
       "3               0.0     0.105   -10.014       0.4190  125.069               4  \n",
       "4               0.0     0.379   -12.460       0.3680  129.985               4  "
      ],
      "text/html": "<div>\n<style scoped>\n    .dataframe tbody tr th:only-of-type {\n        vertical-align: middle;\n    }\n\n    .dataframe tbody tr th {\n        vertical-align: top;\n    }\n\n    .dataframe thead th {\n        text-align: right;\n    }\n</style>\n<table border=\"1\" class=\"dataframe\">\n  <thead>\n    <tr style=\"text-align: right;\">\n      <th></th>\n      <th>track_id</th>\n      <th>name</th>\n      <th>album</th>\n      <th>artist</th>\n      <th>release_date</th>\n      <th>length</th>\n      <th>popularity</th>\n      <th>danceability</th>\n      <th>acousticness</th>\n      <th>energy</th>\n      <th>instrumentalness</th>\n      <th>liveness</th>\n      <th>loudness</th>\n      <th>speechiness</th>\n      <th>tempo</th>\n      <th>time_signature</th>\n    </tr>\n  </thead>\n  <tbody>\n    <tr>\n      <th>0</th>\n      <td>1CzjJzPOCLkZr2oqiOrXjc</td>\n      <td>Tarantino</td>\n      <td>Almost There</td>\n      <td>LUCKI</td>\n      <td>2020-05-29</td>\n      <td>114773</td>\n      <td>39</td>\n      <td>0.790</td>\n      <td>0.0495</td>\n      <td>0.547</td>\n      <td>0.0</td>\n      <td>0.114</td>\n      <td>-9.974</td>\n      <td>0.1080</td>\n      <td>135.037</td>\n      <td>4</td>\n    </tr>\n    <tr>\n      <th>1</th>\n      <td>23slkWAmlcxi3XcSwC9RLZ</td>\n      <td>Prada Tune</td>\n      <td>Almost There</td>\n      <td>LUCKI</td>\n      <td>2020-05-29</td>\n      <td>122813</td>\n      <td>46</td>\n      <td>0.706</td>\n      <td>0.0263</td>\n      <td>0.268</td>\n      <td>0.0</td>\n      <td>0.239</td>\n      <td>-13.220</td>\n      <td>0.2870</td>\n      <td>130.048</td>\n      <td>4</td>\n    </tr>\n    <tr>\n      <th>2</th>\n      <td>6GNG0YQixWuLE0M5FtrRxY</td>\n      <td>Off The Map</td>\n      <td>After Me</td>\n      <td>SoFaygo</td>\n      <td>2020-12-17</td>\n      <td>141582</td>\n      <td>62</td>\n      <td>0.472</td>\n      <td>0.0757</td>\n      <td>0.847</td>\n      <td>0.0</td>\n      <td>0.300</td>\n      <td>-6.347</td>\n      <td>0.0419</td>\n      <td>150.164</td>\n      <td>4</td>\n    </tr>\n    <tr>\n      <th>3</th>\n      <td>0TqNfrOY2IrpFRI2zxsMq4</td>\n      <td>Faith</td>\n      <td>Faith</td>\n      <td>LUCKI</td>\n      <td>2020-04-17</td>\n      <td>107467</td>\n      <td>37</td>\n      <td>0.878</td>\n      <td>0.1230</td>\n      <td>0.584</td>\n      <td>0.0</td>\n      <td>0.105</td>\n      <td>-10.014</td>\n      <td>0.4190</td>\n      <td>125.069</td>\n      <td>4</td>\n    </tr>\n    <tr>\n      <th>4</th>\n      <td>1djb4ACCvrs7MPnKwA9w9I</td>\n      <td>Saucin' - Remix</td>\n      <td>Freewave</td>\n      <td>LUCKI</td>\n      <td>2015-10-15</td>\n      <td>208274</td>\n      <td>38</td>\n      <td>0.916</td>\n      <td>0.4040</td>\n      <td>0.382</td>\n      <td>0.0</td>\n      <td>0.379</td>\n      <td>-12.460</td>\n      <td>0.3680</td>\n      <td>129.985</td>\n      <td>4</td>\n    </tr>\n  </tbody>\n</table>\n</div>"
     },
     "metadata": {},
     "execution_count": 18
    }
   ],
   "source": [
    "# Create favorite track wtih audio features dataset\n",
    "df_fav = pd.DataFrame(fav_tracks, columns = ['track_id', 'name', 'album', 'artist', 'release_date', 'length', 'popularity', 'danceability', 'acousticness', 'energy', 'instrumentalness', 'liveness', 'loudness', 'speechiness', 'tempo', 'time_signature'])\n",
    "df_fav.head()"
   ]
  },
  {
   "cell_type": "code",
   "execution_count": 19,
   "metadata": {},
   "outputs": [
    {
     "output_type": "execute_result",
     "data": {
      "text/plain": [
       "                 track_id  length  popularity  danceability  acousticness  \\\n",
       "0  1CzjJzPOCLkZr2oqiOrXjc  114773          39         0.790        0.0495   \n",
       "1  23slkWAmlcxi3XcSwC9RLZ  122813          46         0.706        0.0263   \n",
       "2  6GNG0YQixWuLE0M5FtrRxY  141582          62         0.472        0.0757   \n",
       "3  0TqNfrOY2IrpFRI2zxsMq4  107467          37         0.878        0.1230   \n",
       "4  1djb4ACCvrs7MPnKwA9w9I  208274          38         0.916        0.4040   \n",
       "\n",
       "   energy  instrumentalness  liveness  loudness  speechiness    tempo  \\\n",
       "0   0.547               0.0     0.114    -9.974       0.1080  135.037   \n",
       "1   0.268               0.0     0.239   -13.220       0.2870  130.048   \n",
       "2   0.847               0.0     0.300    -6.347       0.0419  150.164   \n",
       "3   0.584               0.0     0.105   -10.014       0.4190  125.069   \n",
       "4   0.382               0.0     0.379   -12.460       0.3680  129.985   \n",
       "\n",
       "   time_signature  \n",
       "0               4  \n",
       "1               4  \n",
       "2               4  \n",
       "3               4  \n",
       "4               4  "
      ],
      "text/html": "<div>\n<style scoped>\n    .dataframe tbody tr th:only-of-type {\n        vertical-align: middle;\n    }\n\n    .dataframe tbody tr th {\n        vertical-align: top;\n    }\n\n    .dataframe thead th {\n        text-align: right;\n    }\n</style>\n<table border=\"1\" class=\"dataframe\">\n  <thead>\n    <tr style=\"text-align: right;\">\n      <th></th>\n      <th>track_id</th>\n      <th>length</th>\n      <th>popularity</th>\n      <th>danceability</th>\n      <th>acousticness</th>\n      <th>energy</th>\n      <th>instrumentalness</th>\n      <th>liveness</th>\n      <th>loudness</th>\n      <th>speechiness</th>\n      <th>tempo</th>\n      <th>time_signature</th>\n    </tr>\n  </thead>\n  <tbody>\n    <tr>\n      <th>0</th>\n      <td>1CzjJzPOCLkZr2oqiOrXjc</td>\n      <td>114773</td>\n      <td>39</td>\n      <td>0.790</td>\n      <td>0.0495</td>\n      <td>0.547</td>\n      <td>0.0</td>\n      <td>0.114</td>\n      <td>-9.974</td>\n      <td>0.1080</td>\n      <td>135.037</td>\n      <td>4</td>\n    </tr>\n    <tr>\n      <th>1</th>\n      <td>23slkWAmlcxi3XcSwC9RLZ</td>\n      <td>122813</td>\n      <td>46</td>\n      <td>0.706</td>\n      <td>0.0263</td>\n      <td>0.268</td>\n      <td>0.0</td>\n      <td>0.239</td>\n      <td>-13.220</td>\n      <td>0.2870</td>\n      <td>130.048</td>\n      <td>4</td>\n    </tr>\n    <tr>\n      <th>2</th>\n      <td>6GNG0YQixWuLE0M5FtrRxY</td>\n      <td>141582</td>\n      <td>62</td>\n      <td>0.472</td>\n      <td>0.0757</td>\n      <td>0.847</td>\n      <td>0.0</td>\n      <td>0.300</td>\n      <td>-6.347</td>\n      <td>0.0419</td>\n      <td>150.164</td>\n      <td>4</td>\n    </tr>\n    <tr>\n      <th>3</th>\n      <td>0TqNfrOY2IrpFRI2zxsMq4</td>\n      <td>107467</td>\n      <td>37</td>\n      <td>0.878</td>\n      <td>0.1230</td>\n      <td>0.584</td>\n      <td>0.0</td>\n      <td>0.105</td>\n      <td>-10.014</td>\n      <td>0.4190</td>\n      <td>125.069</td>\n      <td>4</td>\n    </tr>\n    <tr>\n      <th>4</th>\n      <td>1djb4ACCvrs7MPnKwA9w9I</td>\n      <td>208274</td>\n      <td>38</td>\n      <td>0.916</td>\n      <td>0.4040</td>\n      <td>0.382</td>\n      <td>0.0</td>\n      <td>0.379</td>\n      <td>-12.460</td>\n      <td>0.3680</td>\n      <td>129.985</td>\n      <td>4</td>\n    </tr>\n  </tbody>\n</table>\n</div>"
     },
     "metadata": {},
     "execution_count": 19
    }
   ],
   "source": [
    "# Dropping columns that could lead to data leakage\n",
    "df_fav = df_fav.drop(columns=['name', 'album', 'artist', 'release_date'])\n",
    "df_fav.head()"
   ]
  },
  {
   "cell_type": "code",
   "execution_count": 20,
   "metadata": {},
   "outputs": [
    {
     "output_type": "execute_result",
     "data": {
      "text/plain": [
       "41KwHpVfT6lmaBG5kegLoe    1\n",
       "1ePBIQqAIkQ6hTCSCKB1wB    1\n",
       "2bjwRfXMk4uRgOD9IBYl9h    1\n",
       "7hVhyJTFsimfq6GlGEPi0G    1\n",
       "4aEn6zK5li4IWUmqGSrEdp    1\n",
       "28JCjRpPSZqlmvIDF3SSjo    1\n",
       "5qUDYpihgX7UkBs15219WT    1\n",
       "7ibRB2S2WOfPKSvYkhcYtj    1\n",
       "1pjMiOvZvwIQS1yyMrQZ0M    1\n",
       "0cdv2x7SWb6iRvKMTWsjHA    1\n",
       "1djb4ACCvrs7MPnKwA9w9I    1\n",
       "1Bg2CNZw6S4e9cGWPmi0uI    1\n",
       "0HMwZSGo2dSdpAEybsxYSG    1\n",
       "6GNG0YQixWuLE0M5FtrRxY    1\n",
       "7nPjDGg89BVpS2zuQDclGV    1\n",
       "4DkZDzcHicZBXCEdA19oWs    1\n",
       "0CfHAgwAGHXS0bG8MvI5TV    1\n",
       "0zXnqruuTKhV7dTmbaO52L    1\n",
       "1w4XLeZi73c56N1C9QcIoB    1\n",
       "6mvEk4k2zDgm8GbVJlAnyg    1\n",
       "6P8rBeOxn0ervew8cr0jcD    1\n",
       "2AlYncTpVHKwHb55F9lF6O    1\n",
       "53d1tlSLNunnKIQAHpHRSO    1\n",
       "1CzjJzPOCLkZr2oqiOrXjc    1\n",
       "2Ge26JkRTyJ96T8KbsCzMI    1\n",
       "176LvsOHbOXcgJgBBZ8wgs    1\n",
       "1360nnYaxJzEi6TlVoJgj9    1\n",
       "0w6webWdhjRKdqJ3DeGgM1    1\n",
       "0TqNfrOY2IrpFRI2zxsMq4    1\n",
       "1uJGWwJ0NZYvGD4kbKlOTl    1\n",
       "6xczQgrsVl3jFO3eEoNMK0    1\n",
       "2MShy1GSSgbmGUxADNIao5    1\n",
       "79XrkTOfV1AqySNjVlygpW    1\n",
       "3V7o9lJBwqrJiC1FiyQRz6    1\n",
       "26UmIgkm68J3SVvXhqt5St    1\n",
       "2lLG56qpLP3UbcLuzMvkWX    1\n",
       "5LpnrXjrt0BOU0iOGH78UN    1\n",
       "0Tm6x4oJEjijVO7Yuqtfda    1\n",
       "46hIXlvcxqiPqSPIyxOrs9    1\n",
       "2h07VxASyzG42ZW9Q0eIWb    1\n",
       "1u9DoBpPb7oh2NOBDsnpTo    1\n",
       "3mVZRgQqVNu01Z3nXemulI    1\n",
       "6Mfh9o1FjAiA3gU5q21OD6    1\n",
       "03vMyCyCK7pVWjC1i1zur0    1\n",
       "4p5uCm9zpk91WAJOS2xVXy    1\n",
       "5avbC3DUWAO8KWCIEQjfiM    1\n",
       "23slkWAmlcxi3XcSwC9RLZ    1\n",
       "7gdhZ5u9T1tmvd3zud1yQZ    1\n",
       "4SRBv9M0wIPIw916zWfhkU    1\n",
       "3ZJvhiwmrVrvxjq18AAKoS    1\n",
       "Name: track_id, dtype: int64"
      ]
     },
     "metadata": {},
     "execution_count": 20
    }
   ],
   "source": [
    "# Checking for duplicates in df_fav\n",
    "df_fav['track_id'].value_counts()"
   ]
  },
  {
   "cell_type": "code",
   "execution_count": 21,
   "metadata": {},
   "outputs": [],
   "source": [
    "# Creating favorite column to use in classification\n",
    "df_fav['favorite'] = 1\n",
    "df['favorite'] = 0 "
   ]
  },
  {
   "cell_type": "code",
   "execution_count": 22,
   "metadata": {},
   "outputs": [
    {
     "output_type": "execute_result",
     "data": {
      "text/plain": [
       "array([ True,  True,  True,  True,  True,  True,  True,  True,  True,\n",
       "        True,  True,  True,  True])"
      ]
     },
     "metadata": {},
     "execution_count": 22
    }
   ],
   "source": [
    "# Checking if both datasets have the same columns\n",
    "df.columns == df_fav.columns"
   ]
  },
  {
   "source": [
    "## Preparing dataset for model creation"
   ],
   "cell_type": "markdown",
   "metadata": {}
  },
  {
   "cell_type": "code",
   "execution_count": 23,
   "metadata": {},
   "outputs": [
    {
     "output_type": "stream",
     "name": "stdout",
     "text": [
      "(8883, 13)\n(50, 13)\n"
     ]
    }
   ],
   "source": [
    "print(df.shape)\n",
    "print(df_fav.shape)"
   ]
  },
  {
   "cell_type": "code",
   "execution_count": 24,
   "metadata": {},
   "outputs": [
    {
     "output_type": "execute_result",
     "data": {
      "text/plain": [
       "(8933, 13)"
      ]
     },
     "metadata": {},
     "execution_count": 24
    }
   ],
   "source": [
    "# Combining the favorite dataframe with the dataframe of Spotify's songs\n",
    "combined = pd.concat([df, df_fav])\n",
    "combined.shape"
   ]
  },
  {
   "cell_type": "code",
   "execution_count": 25,
   "metadata": {},
   "outputs": [
    {
     "output_type": "execute_result",
     "data": {
      "text/plain": [
       "0    8883\n",
       "1      50\n",
       "Name: favorite, dtype: int64"
      ]
     },
     "metadata": {},
     "execution_count": 25
    }
   ],
   "source": [
    "combined.favorite.value_counts()"
   ]
  },
  {
   "source": [
    "The favorite songs to not favorite songs ratio is imbalanced, I will need to fix this when building the model"
   ],
   "cell_type": "markdown",
   "metadata": {}
  },
  {
   "cell_type": "code",
   "execution_count": 26,
   "metadata": {},
   "outputs": [
    {
     "output_type": "execute_result",
     "data": {
      "text/plain": [
       "                 track_id  length  popularity  danceability  acousticness  \\\n",
       "0  1CzjJzPOCLkZr2oqiOrXjc  114773          39         0.790        0.0495   \n",
       "1  23slkWAmlcxi3XcSwC9RLZ  122813          46         0.706        0.0263   \n",
       "2  6GNG0YQixWuLE0M5FtrRxY  141582          62         0.472        0.0757   \n",
       "3  0TqNfrOY2IrpFRI2zxsMq4  107467          37         0.878        0.1230   \n",
       "4  1djb4ACCvrs7MPnKwA9w9I  208274          38         0.916        0.4040   \n",
       "\n",
       "   energy  instrumentalness  liveness  loudness  speechiness    tempo  \\\n",
       "0   0.547               0.0     0.114    -9.974       0.1080  135.037   \n",
       "1   0.268               0.0     0.239   -13.220       0.2870  130.048   \n",
       "2   0.847               0.0     0.300    -6.347       0.0419  150.164   \n",
       "3   0.584               0.0     0.105   -10.014       0.4190  125.069   \n",
       "4   0.382               0.0     0.379   -12.460       0.3680  129.985   \n",
       "\n",
       "   time_signature  favorite  \n",
       "0               4         1  \n",
       "1               4         1  \n",
       "2               4         1  \n",
       "3               4         1  \n",
       "4               4         1  "
      ],
      "text/html": "<div>\n<style scoped>\n    .dataframe tbody tr th:only-of-type {\n        vertical-align: middle;\n    }\n\n    .dataframe tbody tr th {\n        vertical-align: top;\n    }\n\n    .dataframe thead th {\n        text-align: right;\n    }\n</style>\n<table border=\"1\" class=\"dataframe\">\n  <thead>\n    <tr style=\"text-align: right;\">\n      <th></th>\n      <th>track_id</th>\n      <th>length</th>\n      <th>popularity</th>\n      <th>danceability</th>\n      <th>acousticness</th>\n      <th>energy</th>\n      <th>instrumentalness</th>\n      <th>liveness</th>\n      <th>loudness</th>\n      <th>speechiness</th>\n      <th>tempo</th>\n      <th>time_signature</th>\n      <th>favorite</th>\n    </tr>\n  </thead>\n  <tbody>\n    <tr>\n      <th>0</th>\n      <td>1CzjJzPOCLkZr2oqiOrXjc</td>\n      <td>114773</td>\n      <td>39</td>\n      <td>0.790</td>\n      <td>0.0495</td>\n      <td>0.547</td>\n      <td>0.0</td>\n      <td>0.114</td>\n      <td>-9.974</td>\n      <td>0.1080</td>\n      <td>135.037</td>\n      <td>4</td>\n      <td>1</td>\n    </tr>\n    <tr>\n      <th>1</th>\n      <td>23slkWAmlcxi3XcSwC9RLZ</td>\n      <td>122813</td>\n      <td>46</td>\n      <td>0.706</td>\n      <td>0.0263</td>\n      <td>0.268</td>\n      <td>0.0</td>\n      <td>0.239</td>\n      <td>-13.220</td>\n      <td>0.2870</td>\n      <td>130.048</td>\n      <td>4</td>\n      <td>1</td>\n    </tr>\n    <tr>\n      <th>2</th>\n      <td>6GNG0YQixWuLE0M5FtrRxY</td>\n      <td>141582</td>\n      <td>62</td>\n      <td>0.472</td>\n      <td>0.0757</td>\n      <td>0.847</td>\n      <td>0.0</td>\n      <td>0.300</td>\n      <td>-6.347</td>\n      <td>0.0419</td>\n      <td>150.164</td>\n      <td>4</td>\n      <td>1</td>\n    </tr>\n    <tr>\n      <th>3</th>\n      <td>0TqNfrOY2IrpFRI2zxsMq4</td>\n      <td>107467</td>\n      <td>37</td>\n      <td>0.878</td>\n      <td>0.1230</td>\n      <td>0.584</td>\n      <td>0.0</td>\n      <td>0.105</td>\n      <td>-10.014</td>\n      <td>0.4190</td>\n      <td>125.069</td>\n      <td>4</td>\n      <td>1</td>\n    </tr>\n    <tr>\n      <th>4</th>\n      <td>1djb4ACCvrs7MPnKwA9w9I</td>\n      <td>208274</td>\n      <td>38</td>\n      <td>0.916</td>\n      <td>0.4040</td>\n      <td>0.382</td>\n      <td>0.0</td>\n      <td>0.379</td>\n      <td>-12.460</td>\n      <td>0.3680</td>\n      <td>129.985</td>\n      <td>4</td>\n      <td>1</td>\n    </tr>\n  </tbody>\n</table>\n</div>"
     },
     "metadata": {},
     "execution_count": 26
    }
   ],
   "source": [
    "# Creating dataframe of favorite songs\n",
    "df_fav = combined.loc[combined['favorite'] == 1]\n",
    "df_fav.head()"
   ]
  },
  {
   "cell_type": "code",
   "execution_count": 27,
   "metadata": {},
   "outputs": [
    {
     "output_type": "execute_result",
     "data": {
      "text/plain": [
       "(8883, 13)"
      ]
     },
     "metadata": {},
     "execution_count": 27
    }
   ],
   "source": [
    "# Removing favorite songs from playlist songs\n",
    "df = combined.loc[combined['favorite'] != 1]\n",
    "df.shape"
   ]
  },
  {
   "cell_type": "code",
   "execution_count": 28,
   "metadata": {},
   "outputs": [
    {
     "output_type": "execute_result",
     "data": {
      "text/plain": [
       "(50, 13)"
      ]
     },
     "metadata": {},
     "execution_count": 28
    }
   ],
   "source": [
    "df_fav.shape"
   ]
  },
  {
   "cell_type": "code",
   "execution_count": 29,
   "metadata": {},
   "outputs": [],
   "source": [
    "# Saving these dataframes to use in model creation\n",
    "df.to_csv('encoded_playlist_songs.csv', index=False)\n",
    "df_fav.to_csv('favorite_songs.csv', index=False)"
   ]
  }
 ]
}